{
 "cells": [
  {
   "cell_type": "code",
   "execution_count": 8,
   "metadata": {},
   "outputs": [],
   "source": [
    "library(repr)\n",
    "\n",
    "options(repr.plot.width=8, repr.plot.height=2.5)"
   ]
  },
  {
   "cell_type": "markdown",
   "metadata": {},
   "source": [
    "### 1. Stationary and non-stationary timeseries"
   ]
  },
  {
   "cell_type": "markdown",
   "metadata": {},
   "source": [
    "### 2. ARMA models"
   ]
  },
  {
   "cell_type": "markdown",
   "metadata": {},
   "source": [
    "Explain variations in a variable with previous variations in the same variable. This adds to the complexity as with timeseries we can't assume random population of the dependent variable\n",
    "\n",
    "Autoregressive part explains the variation as being a function of the previous value of the variable \n",
    "$$y_t = \\alpha y_{t-1} + u_t$$\n",
    "\n",
    "Moving average part explains the variation as being a function of the previous error of the model \n",
    "$$y_t = a + \\beta u_{t-1} + u_t$$\n",
    "\n",
    "Interesting comparison is that in some cases it can be true that: \n",
    "$$AR(1) = MA(\\infty)$$\n",
    "if\n",
    "$$y_t = 0.5 y_{t-1} + u_t$$\n",
    "is the same as\n",
    "$$ y_t = 0.5 u_{t-1} + 0.25 u_{t-2} + 0.125 u_{t-3} + ... + u_t $$\n",
    "\n",
    "Er stationær hvis:\n",
    "det autoregressive lag polonimie har rødder udenfor enhedscirklen\n",
    "\n",
    "Either roots inside the unit circle for the characteristic polynomial"
   ]
  },
  {
   "cell_type": "code",
   "execution_count": null,
   "metadata": {},
   "outputs": [],
   "source": [
    "set.seed(1)\n",
    "sim <- arima.sim(n = 100, list(order=c(1,0,0), ar=c(0.5)))\n",
    "m1 <- arima(sim, order = c(1,0,0))\n",
    "m1\n",
    "m2 <- arima(sim, order = c(0,0,10))\n",
    "m2\n",
    "par(mfrow=c(1,2))\n",
    "acf(sim)\n",
    "pacf(sim)\n",
    "\n",
    "i <- c(1:1000)\n",
    "sim2 <- arima.sim(n = 100, list(order=c(0,0,1000), ma=0.9^i))\n",
    "\n",
    "par(mfrow=c(1,2))\n",
    "acf(sim2)\n",
    "pacf(sim2)\n"
   ]
  },
  {
   "cell_type": "markdown",
   "metadata": {},
   "source": [
    "### 3. ARIMA models"
   ]
  },
  {
   "cell_type": "markdown",
   "metadata": {},
   "source": [
    "The same as ARMA models plus the I for Integrated\n"
   ]
  },
  {
   "cell_type": "markdown",
   "metadata": {},
   "source": [
    "### 4. Autocorrelation"
   ]
  },
  {
   "cell_type": "markdown",
   "metadata": {},
   "source": [
    "### 5. Trend models"
   ]
  },
  {
   "cell_type": "markdown",
   "metadata": {},
   "source": [
    "### 6. Spurious correlations and cointegration"
   ]
  },
  {
   "cell_type": "markdown",
   "metadata": {},
   "source": [
    "### 7. Errorcorrection models"
   ]
  },
  {
   "cell_type": "markdown",
   "metadata": {},
   "source": [
    "### 8. Volatility clustering - how to spot it empirically - ARCH / GARCH"
   ]
  },
  {
   "cell_type": "markdown",
   "metadata": {},
   "source": [
    "### 9. Conditional and unconditional average and variance (ARMA(1,1) - ARCH)"
   ]
  },
  {
   "cell_type": "markdown",
   "metadata": {},
   "source": [
    "### 10. Stationarity condition for AR(1), AR(p), VAR(p) and ARCH models"
   ]
  },
  {
   "cell_type": "markdown",
   "metadata": {},
   "source": [
    "### 11. Relevant hypothesis testing - diagnosticing AR og ARCH/GARCH"
   ]
  },
  {
   "cell_type": "markdown",
   "metadata": {},
   "source": [
    "### 12. Forecasting in AR, ARMA, ARCH/GARCH"
   ]
  },
  {
   "cell_type": "markdown",
   "metadata": {},
   "source": [
    "### 13. ARCH og GARCH models"
   ]
  },
  {
   "cell_type": "markdown",
   "metadata": {},
   "source": [
    "### 14. Structural shifts - consequense for parametre estimates and unit root tests"
   ]
  },
  {
   "cell_type": "markdown",
   "metadata": {},
   "source": [
    "### 15. VAR and structural VAR models"
   ]
  },
  {
   "cell_type": "markdown",
   "metadata": {},
   "source": [
    "### 16. Impulse response analisis"
   ]
  },
  {
   "cell_type": "markdown",
   "metadata": {},
   "source": [
    "### 17. How to handle a trend in AR, VAR, og ARCH/GARCH"
   ]
  },
  {
   "cell_type": "markdown",
   "metadata": {},
   "source": []
  },
  {
   "cell_type": "markdown",
   "metadata": {},
   "source": []
  },
  {
   "cell_type": "markdown",
   "metadata": {},
   "source": []
  },
  {
   "cell_type": "markdown",
   "metadata": {},
   "source": []
  },
  {
   "cell_type": "code",
   "execution_count": null,
   "metadata": {},
   "outputs": [],
   "source": []
  }
 ],
 "metadata": {
  "kernelspec": {
   "display_name": "R",
   "language": "R",
   "name": "ir"
  },
  "language_info": {
   "codemirror_mode": "r",
   "file_extension": ".r",
   "mimetype": "text/x-r-source",
   "name": "R",
   "pygments_lexer": "r",
   "version": "3.5.1"
  }
 },
 "nbformat": 4,
 "nbformat_minor": 2
}
