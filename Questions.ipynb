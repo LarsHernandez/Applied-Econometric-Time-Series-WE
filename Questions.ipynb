{
 "cells": [
  {
   "cell_type": "markdown",
   "metadata": {},
   "source": [
    "# Exam questions\n",
    "\n",
    "1. Stationary and non-stationary timeseries\n",
    "2. ARMA models\n",
    "3. ARIMA models\n",
    "4. Autocorrelation\n",
    "5. Trend models\n",
    "6. Spurious correlations and cointegration\n",
    "7. Errorcorrection models\n",
    "8. Volatility clustering - how to spot it empirically - ARCH / GARCH\n",
    "9. Conditional and unconditional average and variance (ARMA(1,1) - ARCH)\n",
    "10. Stationarity condition for AR(1), AR(p), VAR(p) and ARCH models\n",
    "11. Relevant hypothesis testing - diagnosticing AR og ARCH/GARCH\n",
    "12. Forecasting in AR, ARMA, ARCH/GARCH\n",
    "13. ARCH og GARCH models\n",
    "14. Structural shifts - consequense for parametre estimates and unit root tests\n",
    "15. VAR and structural VAR models\n",
    "16. Impulse response analisis\n",
    "17. How to handle a trend in AR, VAR, og ARCH/GARCH"
   ]
  },
  {
   "cell_type": "code",
   "execution_count": 44,
   "metadata": {},
   "outputs": [],
   "source": [
    "library(repr)\n",
    "\n",
    "options(repr.plot.width=6, repr.plot.height=2)"
   ]
  },
  {
   "cell_type": "markdown",
   "metadata": {},
   "source": [
    "### 1. Stationary and non-stationary timeseries"
   ]
  },
  {
   "cell_type": "markdown",
   "metadata": {},
   "source": [
    "#### Example (is it stationary?)\n",
    "$$y_t = 1.1y_{t-1} - 0.18y_{t-2} + u_t$$\n",
    "first we check if sum of coefiecients are smaller than 1, and yes they are \n",
    "$$1.1 - 0.18 < 1$$\n",
    "Then we check if the absolute sum is smaller than 1, it is not \n",
    "$$1.1 + 0.18 > 1$$\n",
    "So we have to calculate the roots:"
   ]
  },
  {
   "cell_type": "code",
   "execution_count": 48,
   "metadata": {},
   "outputs": [
    {
     "data": {
      "text/html": [
       "0.49"
      ],
      "text/latex": [
       "0.49"
      ],
      "text/markdown": [
       "0.49"
      ],
      "text/plain": [
       "[1] 0.49"
      ]
     },
     "metadata": {},
     "output_type": "display_data"
    }
   ],
   "source": [
    "a1 <- 1.1\n",
    "a2 <- -0.18\n",
    "d <- a1^2 + 4*a2\n",
    "d"
   ]
  },
  {
   "cell_type": "markdown",
   "metadata": {},
   "source": [
    "The discriminant is positive so we have real roots, yay :) Now we calculate the roots and with them create the homogeneous solution"
   ]
  },
  {
   "cell_type": "code",
   "execution_count": 47,
   "metadata": {},
   "outputs": [
    {
     "data": {
      "text/html": [
       "0.9"
      ],
      "text/latex": [
       "0.9"
      ],
      "text/markdown": [
       "0.9"
      ],
      "text/plain": [
       "[1] 0.9"
      ]
     },
     "metadata": {},
     "output_type": "display_data"
    },
    {
     "data": {
      "text/html": [
       "0.2"
      ],
      "text/latex": [
       "0.2"
      ],
      "text/markdown": [
       "0.2"
      ],
      "text/plain": [
       "[1] 0.2"
      ]
     },
     "metadata": {},
     "output_type": "display_data"
    },
    {
     "data": {},
     "metadata": {},
     "output_type": "display_data"
    },
    {
     "data": {
      "image/png": "[encoded data removed]",
      "text/plain": [
       "plot without title"
      ]
     },
     "metadata": {},
     "output_type": "display_data"
    }
   ],
   "source": [
    "library(ggplot2)\n",
    "a <- 0.5*(a1+d^0.5)\n",
    "b <- 0.5*(a1-d^0.5)\n",
    "a\n",
    "b\n",
    "vec <- 1:20\n",
    "res <- (a)^vec + (b)^vec\n",
    "\n",
    "ggplot() + \n",
    "    geom_line(aes(vec,res))"
   ]
  },
  {
   "cell_type": "markdown",
   "metadata": {},
   "source": [
    "Now we calculate the mean, variance and autocovariance"
   ]
  },
  {
   "cell_type": "code",
   "execution_count": 86,
   "metadata": {},
   "outputs": [
    {
     "data": {
      "text/html": [
       "0"
      ],
      "text/latex": [
       "0"
      ],
      "text/markdown": [
       "0"
      ],
      "text/plain": [
       "[1] 0"
      ]
     },
     "metadata": {},
     "output_type": "display_data"
    },
    {
     "data": {
      "text/html": [
       "7.88938810440737"
      ],
      "text/latex": [
       "7.88938810440737"
      ],
      "text/markdown": [
       "7.88938810440737"
      ],
      "text/plain": [
       "[1] 7.889388"
      ]
     },
     "metadata": {},
     "output_type": "display_data"
    },
    {
     "data": {
      "text/html": [
       "7.35451433461704"
      ],
      "text/latex": [
       "7.35451433461704"
      ],
      "text/markdown": [
       "7.35451433461704"
      ],
      "text/plain": [
       "[1] 7.354514"
      ]
     },
     "metadata": {},
     "output_type": "display_data"
    }
   ],
   "source": [
    "mean <- 0/(1-a1-a2)\n",
    "varians <- ((1-a2)*1)/((1+a2)*(((1-a2)^2)-(a1^2)))\n",
    "covarians <- (a1*1)/((1+a2)*(((1-a2)^2)-(a1^2)))\n",
    "\n",
    "mean\n",
    "varians\n",
    "covarians"
   ]
  },
  {
   "cell_type": "markdown",
   "metadata": {},
   "source": [
    "We can test if this is correct with the following for loop in R"
   ]
  },
  {
   "cell_type": "code",
   "execution_count": 91,
   "metadata": {},
   "outputs": [
    {
     "data": {
      "text/html": [
       "0.0391431212985436"
      ],
      "text/latex": [
       "0.0391431212985436"
      ],
      "text/markdown": [
       "0.0391431212985436"
      ],
      "text/plain": [
       "[1] 0.03914312"
      ]
     },
     "metadata": {},
     "output_type": "display_data"
    },
    {
     "data": {
      "text/html": [
       "6.52449415705745"
      ],
      "text/latex": [
       "6.52449415705745"
      ],
      "text/markdown": [
       "6.52449415705745"
      ],
      "text/plain": [
       "[1] 6.524494"
      ]
     },
     "metadata": {},
     "output_type": "display_data"
    },
    {
     "data": {
      "text/html": [
       "5.85577380249152"
      ],
      "text/latex": [
       "5.85577380249152"
      ],
      "text/markdown": [
       "5.85577380249152"
      ],
      "text/plain": [
       "[1] 5.855774"
      ]
     },
     "metadata": {},
     "output_type": "display_data"
    }
   ],
   "source": [
    "AR_mean <- NA\n",
    "AR_var <- NA\n",
    "AR_cov <- NA\n",
    "for (i in 1:1000) {\n",
    " sim <- arima.sim(n = 100, list(order=c(2,0,0), ar=c(a1,a2)))\n",
    "AR_mean[i] <- mean(sim)\n",
    "AR_var[i] <- var(sim)  \n",
    "AR_cov[i] <- acf(sim, lag.max = 1, plot = F, type=\"covariance\")$acf[2]\n",
    "}\n",
    "mean(AR_mean)\n",
    "mean(AR_var)\n",
    "mean(AR_cov)"
   ]
  },
  {
   "cell_type": "markdown",
   "metadata": {},
   "source": [
    "### 2. ARMA models"
   ]
  },
  {
   "cell_type": "markdown",
   "metadata": {},
   "source": [
    "Explain variations in a variable with previous variations in the same variable. This adds to the complexity as with timeseries we can't assume random population of the dependent variable\n",
    "\n",
    "Autoregressive part explains the variation as being a function of the previous value of the variable \n",
    "$$y_t = \\alpha y_{t-1} + u_t$$\n",
    "\n",
    "Moving average part explains the variation as being a function of the previous error of the model \n",
    "$$y_t = a + \\beta u_{t-1} + u_t$$\n",
    "\n",
    "Either roots inside the unit circle for the characteristic polynomial; or \n",
    "roots outside the unit circle for the lag polynomium\n",
    "\n",
    "#### Conversion of processes\n",
    "Interesting thing is that an MA process can be converted to an AR and reverse, here is an example of that:\n",
    "$$AR(1) = MA(\\infty)$$\n",
    "if\n",
    "$$y_t = 0.5 y_{t-1} + u_t$$\n",
    "is the same as\n",
    "$$ y_t = 0.5 u_{t-1} + 0.25 u_{t-2} + 0.125 u_{t-3} + ... + u_t $$\n",
    "\n",
    "#### Lag operators\n",
    "Starting with an AR(1) process\n",
    "$$y_t = \\alpha y_{t-1} + u_t$$\n",
    "is the same as\n",
    "$$y_t = \\alpha L y_{t} + u_t$$\n",
    "is the same as\n",
    "$$y_t(1-\\alpha L) = u_t$$\n",
    "\n",
    "We can use this to show how AR(1) is equal to an MA(inf) process. first we multiply with a thing on both sides\n",
    "\n",
    "$$(1-\\alpha L) * (1+\\alpha L + \\alpha^2L^2 + ...)$$\n",
    "This equals \n",
    "$$(1-\\alpha^{t+1}L^{t+1})$$\n",
    "\n",
    "This means we can multiply with the inf expression on both sides of the equation and get\n",
    "\n",
    "$$y_t(1-\\alpha^{t+1}L^{t+1}) = u_t(1+\\alpha L + \\alpha^2L^2 + ...)$$\n",
    "and solve for $y_t$\n",
    "$$y_t = \\alpha^{t+1}y_{-1} + u_t +\\alpha u_{t-1} + \\alpha^2 u_{t-2} + ...$$\n",
    "So if $\\alpha$ is (numeric) less than 1 then:\n",
    "\n",
    "$$y_t = u_t +\\alpha u_{t-1} + \\alpha^2 u_{t-2} + ...$$"
   ]
  },
  {
   "cell_type": "code",
   "execution_count": 36,
   "metadata": {},
   "outputs": [
    {
     "data": {
      "text/html": [
       "<table>\n",
       "<thead><tr><th scope=col>MAcoef</th><th scope=col>ARcoef</th></tr></thead>\n",
       "<tbody>\n",
       "\t<tr><td>0.500000 </td><td>-0.500000</td></tr>\n",
       "\t<tr><td>0.250000 </td><td> 0.250000</td></tr>\n",
       "\t<tr><td>0.125000 </td><td>-0.125000</td></tr>\n",
       "\t<tr><td>0.062500 </td><td> 0.062500</td></tr>\n",
       "\t<tr><td>0.031250 </td><td>-0.031250</td></tr>\n",
       "\t<tr><td>0.015625 </td><td> 0.015625</td></tr>\n",
       "</tbody>\n",
       "</table>\n"
      ],
      "text/latex": [
       "\\begin{tabular}{r|ll}\n",
       " MAcoef & ARcoef\\\\\n",
       "\\hline\n",
       "\t 0.500000  & -0.500000\\\\\n",
       "\t 0.250000  &  0.250000\\\\\n",
       "\t 0.125000  & -0.125000\\\\\n",
       "\t 0.062500  &  0.062500\\\\\n",
       "\t 0.031250  & -0.031250\\\\\n",
       "\t 0.015625  &  0.015625\\\\\n",
       "\\end{tabular}\n"
      ],
      "text/markdown": [
       "\n",
       "MAcoef | ARcoef | \n",
       "|---|---|---|---|---|---|\n",
       "| 0.500000  | -0.500000 | \n",
       "| 0.250000  |  0.250000 | \n",
       "| 0.125000  | -0.125000 | \n",
       "| 0.062500  |  0.062500 | \n",
       "| 0.031250  | -0.031250 | \n",
       "| 0.015625  |  0.015625 | \n",
       "\n",
       "\n"
      ],
      "text/plain": [
       "  MAcoef   ARcoef   \n",
       "1 0.500000 -0.500000\n",
       "2 0.250000  0.250000\n",
       "3 0.125000 -0.125000\n",
       "4 0.062500  0.062500\n",
       "5 0.031250 -0.031250\n",
       "6 0.015625  0.015625"
      ]
     },
     "metadata": {},
     "output_type": "display_data"
    }
   ],
   "source": [
    "# AR(1) to MA(Inf)\n",
    "MAcoef <- ARMAtoMA(ar = 0.5, ma = 0, lag.max=6)\n",
    "\n",
    "# MA(1) to AR(Inf)\n",
    "ARcoef <- ARMAtoMA(ar = -0.5, ma = 0, lag.max=6)\n",
    "data.frame(MAcoef,ARcoef)"
   ]
  },
  {
   "cell_type": "markdown",
   "metadata": {},
   "source": [
    "### 3. ARIMA models"
   ]
  },
  {
   "cell_type": "markdown",
   "metadata": {},
   "source": [
    "The same as ARMA models plus the I for Integrated\n"
   ]
  },
  {
   "cell_type": "markdown",
   "metadata": {},
   "source": [
    "### 4. Autocorrelation"
   ]
  },
  {
   "cell_type": "markdown",
   "metadata": {},
   "source": [
    "### 5. Trend models"
   ]
  },
  {
   "cell_type": "markdown",
   "metadata": {},
   "source": [
    "### 6. Spurious correlations and cointegration"
   ]
  },
  {
   "cell_type": "markdown",
   "metadata": {},
   "source": [
    "### 7. Errorcorrection models"
   ]
  },
  {
   "cell_type": "markdown",
   "metadata": {},
   "source": [
    "### 8. Volatility clustering - how to spot it empirically - ARCH / GARCH"
   ]
  },
  {
   "cell_type": "markdown",
   "metadata": {},
   "source": [
    "### 9. Conditional and unconditional average and variance (ARMA(1,1) - ARCH)"
   ]
  },
  {
   "cell_type": "markdown",
   "metadata": {},
   "source": [
    "### 10. Stationarity condition for AR(1), AR(p), VAR(p) and ARCH models"
   ]
  },
  {
   "cell_type": "markdown",
   "metadata": {},
   "source": [
    "### 11. Relevant hypothesis testing - diagnosticing AR og ARCH/GARCH"
   ]
  },
  {
   "cell_type": "markdown",
   "metadata": {},
   "source": [
    "### 12. Forecasting in AR, ARMA, ARCH/GARCH"
   ]
  },
  {
   "cell_type": "markdown",
   "metadata": {},
   "source": [
    "### 13. ARCH og GARCH models"
   ]
  },
  {
   "cell_type": "markdown",
   "metadata": {},
   "source": [
    "### 14. Structural shifts - consequense for parametre estimates and unit root tests"
   ]
  },
  {
   "cell_type": "markdown",
   "metadata": {},
   "source": [
    "### 15. VAR and structural VAR models"
   ]
  },
  {
   "cell_type": "markdown",
   "metadata": {},
   "source": [
    "$$ y_t=b_{10} - b_{12}z_t + \\gamma_{11}y_{t-1} + \\gamma_{12}z_{t-1}+\\varepsilon_{yt} $$\n",
    "$$ z_t=b_{20} - b_{21}y_t + \\gamma_{21}y_{t-1} + \\gamma_{22}z_{t-1}+\\varepsilon_{zt} $$\n",
    "\n",
    "Dette kan omskrives på vektor formel til en VAR(1)\n",
    "\n",
    "$$\n",
    "\\begin{bmatrix} 1 & b_{12} \\\\ b_{12} & 1 \\end{bmatrix}\n",
    "\\begin{bmatrix} y_t \\\\ z_t \\end{bmatrix}\n",
    "=\n",
    "\\begin{bmatrix} b_{10} \\\\ b_{20} \\end{bmatrix}\n",
    "+\n",
    "\\begin{bmatrix} \\gamma_{11} & \\gamma_{12} \\\\ \\gamma_{21} & \\gamma_{22} \\end{bmatrix}\n",
    "\\begin{bmatrix} y_{t-1} \\\\ z_{t-1} \\end{bmatrix}\n",
    "+\n",
    "\\begin{bmatrix} \\varepsilon_{yt} \\\\ \\varepsilon_{zt} \\end{bmatrix}\n",
    "$$\n",
    "kan skrives om til \n",
    "\n",
    "$$\n",
    "\\begin{bmatrix} y_t \\\\ z_t \\end{bmatrix}\n",
    "=\n",
    "\\begin{bmatrix} 1 & b_{12} \\\\ b_{12} & 1 \\end{bmatrix}^{-1}\n",
    "\\begin{bmatrix} b_{10} \\\\ b_{20} \\end{bmatrix}\n",
    "+\n",
    "\\begin{bmatrix} 1 & b_{12} \\\\ b_{12} & 1 \\end{bmatrix}^{-1}\n",
    "\\begin{bmatrix} \\gamma_{11} & \\gamma_{12} \\\\ \\gamma_{21} & \\gamma_{22} \\end{bmatrix}\n",
    "\\begin{bmatrix} y_{t-1} \\\\ z_{t-1} \\end{bmatrix}\n",
    "+\n",
    "\\begin{bmatrix} 1 & b_{12} \\\\ b_{12} & 1 \\end{bmatrix}^{-1}\n",
    "\\begin{bmatrix} \\varepsilon_{yt} \\\\ \\varepsilon_{zt} \\end{bmatrix}\n",
    "$$\n",
    "\n",
    "Dette skrives også helt kort som\n",
    "$$ x_t = A_0 + A_1x_{t-1} + \\epsilon_t $$\n",
    "\n",
    "\n"
   ]
  },
  {
   "cell_type": "markdown",
   "metadata": {},
   "source": [
    "### 16. Impulse response analisis"
   ]
  },
  {
   "cell_type": "markdown",
   "metadata": {},
   "source": [
    "### 17. How to handle a trend in AR, VAR, og ARCH/GARCH"
   ]
  },
  {
   "cell_type": "code",
   "execution_count": null,
   "metadata": {},
   "outputs": [],
   "source": []
  }
 ],
 "metadata": {
  "kernelspec": {
   "display_name": "R",
   "language": "R",
   "name": "ir"
  },
  "language_info": {
   "codemirror_mode": "r",
   "file_extension": ".r",
   "mimetype": "text/x-r-source",
   "name": "R",
   "pygments_lexer": "r",
   "version": "3.5.1"
  }
 },
 "nbformat": 4,
 "nbformat_minor": 2
}
