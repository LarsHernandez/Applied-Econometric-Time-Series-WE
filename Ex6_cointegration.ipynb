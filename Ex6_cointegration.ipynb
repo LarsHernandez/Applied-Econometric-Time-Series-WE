{
 "cells": [
  {
   "cell_type": "markdown",
   "metadata": {},
   "source": [
    "# Excercises to cointegration and VECM (Lasse)"
   ]
  },
  {
   "cell_type": "code",
   "execution_count": 108,
   "metadata": {},
   "outputs": [],
   "source": [
    "suppressMessages(library(tidyverse)) # Readr, ggplot, dplyr, ...\n",
    "suppressMessages(library(gridExtra)) # Arrangning ggplots\n",
    "suppressMessages(library(readxl))    # Loading excel\n",
    "suppressMessages(library(repr))      # Resizing the plots in jupyter\n",
    "suppressMessages(library(rugarch))   # For ARCH and GARCH models\n",
    "suppressMessages(library(dynlm))     # Lagged linear models\n",
    "suppressMessages(library(urca))      # Dick Fuller test\n",
    "suppressMessages(library(car))       # Linear hyphothesis testing\n",
    "suppressMessages(library(tseries))   # Adf-test\n",
    "suppressMessages(library(vars))      # VAR models\n",
    "suppressMessages(library(zoo))       # Convert quarters to date\n",
    "suppressMessages(library(forecast))  # Help in plotting TS\n",
    "suppressMessages(library(fGarch))    # The library Lasse uses to do GARCH\n",
    "suppressMessages(library(expm))      # Matrix calculations \n",
    "suppressMessages(library(tsDyn))\n",
    "\n",
    "options(warn=-1) # Carefull this disables all warnings\n",
    "options(repr.plot.width=8, repr.plot.height=2.2)\n",
    "\n",
    "setwd(\"C:/Users/larsn/Documents/GitHub/Applied-Econometric-Time-Series-WE\")"
   ]
  },
  {
   "cell_type": "markdown",
   "metadata": {},
   "source": [
    "# Exercise 1 (Theoretical)\n",
    "Enders exercise 1 in chapter 6. Question d and e are optional."
   ]
  },
  {
   "cell_type": "code",
   "execution_count": null,
   "metadata": {},
   "outputs": [],
   "source": []
  },
  {
   "cell_type": "markdown",
   "metadata": {},
   "source": [
    "# Excercise 2 (Quantitative)\n",
    "Enders exercise 2a only in chapter 6. Question 2b is optional"
   ]
  },
  {
   "cell_type": "code",
   "execution_count": 26,
   "metadata": {},
   "outputs": [
    {
     "data": {
      "text/html": [
       "<table>\n",
       "<thead><tr><th scope=col>y</th><th scope=col>z</th><th scope=col>w</th></tr></thead>\n",
       "<tbody>\n",
       "\t<tr><td>-1.80156  </td><td>-0.4969500</td><td>-1.79957  </td></tr>\n",
       "\t<tr><td>-2.27002  </td><td>-0.1490799</td><td>-2.36988  </td></tr>\n",
       "\t<tr><td>-2.21743  </td><td> 0.1181677</td><td>-2.12782  </td></tr>\n",
       "\t<tr><td>-2.36609  </td><td> 0.2260346</td><td>-2.30212  </td></tr>\n",
       "\t<tr><td>-2.06364  </td><td> 0.1829068</td><td>-1.93444  </td></tr>\n",
       "\t<tr><td>-2.17761  </td><td> 0.1754546</td><td>-1.62233  </td></tr>\n",
       "</tbody>\n",
       "</table>\n"
      ],
      "text/latex": [
       "\\begin{tabular}{r|lll}\n",
       " y & z & w\\\\\n",
       "\\hline\n",
       "\t -1.80156   & -0.4969500 & -1.79957  \\\\\n",
       "\t -2.27002   & -0.1490799 & -2.36988  \\\\\n",
       "\t -2.21743   &  0.1181677 & -2.12782  \\\\\n",
       "\t -2.36609   &  0.2260346 & -2.30212  \\\\\n",
       "\t -2.06364   &  0.1829068 & -1.93444  \\\\\n",
       "\t -2.17761   &  0.1754546 & -1.62233  \\\\\n",
       "\\end{tabular}\n"
      ],
      "text/markdown": [
       "\n",
       "y | z | w | \n",
       "|---|---|---|---|---|---|\n",
       "| -1.80156   | -0.4969500 | -1.79957   | \n",
       "| -2.27002   | -0.1490799 | -2.36988   | \n",
       "| -2.21743   |  0.1181677 | -2.12782   | \n",
       "| -2.36609   |  0.2260346 | -2.30212   | \n",
       "| -2.06364   |  0.1829068 | -1.93444   | \n",
       "| -2.17761   |  0.1754546 | -1.62233   | \n",
       "\n",
       "\n"
      ],
      "text/plain": [
       "  y        z          w       \n",
       "1 -1.80156 -0.4969500 -1.79957\n",
       "2 -2.27002 -0.1490799 -2.36988\n",
       "3 -2.21743  0.1181677 -2.12782\n",
       "4 -2.36609  0.2260346 -2.30212\n",
       "5 -2.06364  0.1829068 -1.93444\n",
       "6 -2.17761  0.1754546 -1.62233"
      ]
     },
     "metadata": {},
     "output_type": "display_data"
    }
   ],
   "source": [
    "coint <- read_excel(\"Data/Coint6.xls\")\n",
    "head(coint)"
   ]
  },
  {
   "cell_type": "markdown",
   "metadata": {},
   "source": [
    "### Reproduction of graph on page 365"
   ]
  },
  {
   "cell_type": "code",
   "execution_count": 27,
   "metadata": {},
   "outputs": [
    {
     "data": {},
     "metadata": {},
     "output_type": "display_data"
    },
    {
     "data": {
      "image/png": "[encoded data removed]",
      "text/plain": [
       "plot without title"
      ]
     },
     "metadata": {},
     "output_type": "display_data"
    }
   ],
   "source": [
    "coint2 <- coint\n",
    "coint2$n <- c(1:nrow(coint2))\n",
    "coint2 %>%\n",
    "  gather(variable, value, -n) %>%\n",
    "  ggplot(aes(n, value, linetype=variable)) + \n",
    "    geom_line()"
   ]
  },
  {
   "cell_type": "markdown",
   "metadata": {},
   "source": [
    "### Reproduction of results on page 366"
   ]
  },
  {
   "cell_type": "code",
   "execution_count": 72,
   "metadata": {},
   "outputs": [
    {
     "data": {
      "text/plain": [
       "\n",
       "Call:\n",
       "lm(formula = y ~ z + w, data = coint)\n",
       "\n",
       "Coefficients:\n",
       "(Intercept)            z            w  \n",
       "   -0.04843     -0.92731      0.97688  \n"
      ]
     },
     "metadata": {},
     "output_type": "display_data"
    },
    {
     "data": {
      "text/plain": [
       "\n",
       "Call:\n",
       "lm(formula = z ~ y + w, data = coint)\n",
       "\n",
       "Coefficients:\n",
       "(Intercept)            y            w  \n",
       "    0.05896     -1.01082      1.02549  \n"
      ]
     },
     "metadata": {},
     "output_type": "display_data"
    },
    {
     "data": {
      "text/plain": [
       "\n",
       "Call:\n",
       "lm(formula = w ~ y + z, data = coint)\n",
       "\n",
       "Coefficients:\n",
       "(Intercept)            y            z  \n",
       "   -0.08524      0.99007      0.95347  \n"
      ]
     },
     "metadata": {},
     "output_type": "display_data"
    }
   ],
   "source": [
    "reg_y <- lm(y ~ z + w, data=coint)\n",
    "reg_z <- lm(z ~ y + w, data=coint)\n",
    "reg_w <- lm(w ~ y + z, data=coint)\n",
    "reg_y\n",
    "reg_z\n",
    "reg_w"
   ]
  },
  {
   "cell_type": "markdown",
   "metadata": {},
   "source": [
    "### Reproduction of results on page 368"
   ]
  },
  {
   "cell_type": "code",
   "execution_count": 73,
   "metadata": {},
   "outputs": [
    {
     "data": {
      "text/html": [
       "<table>\n",
       "<thead><tr><th scope=col>(Intercept)</th><th scope=col>L(res, 1)</th><th scope=col>L(y, 1)</th><th scope=col>L(z, 1)</th><th scope=col>L(w, 1)</th></tr></thead>\n",
       "<tbody>\n",
       "\t<tr><td> 0.006065021</td><td> 0.41797396 </td><td>0.1782766   </td><td>0.3129953   </td><td>-0.3677204  </td></tr>\n",
       "\t<tr><td>-0.042214979</td><td> 0.07409731 </td><td>0.1459387   </td><td>0.2624625   </td><td>-0.3126279  </td></tr>\n",
       "\t<tr><td>-0.039801004</td><td>-0.06907570 </td><td>0.1557652   </td><td>0.3012198   </td><td>-0.4195309  </td></tr>\n",
       "</tbody>\n",
       "</table>\n"
      ],
      "text/latex": [
       "\\begin{tabular}{lllll}\n",
       " (Intercept) & L(res, 1) & L(y, 1) & L(z, 1) & L(w, 1)\\\\\n",
       "\\hline\n",
       "\t  0.006065021 &  0.41797396  & 0.1782766    & 0.3129953    & -0.3677204  \\\\\n",
       "\t -0.042214979 &  0.07409731  & 0.1459387    & 0.2624625    & -0.3126279  \\\\\n",
       "\t -0.039801004 & -0.06907570  & 0.1557652    & 0.3012198    & -0.4195309  \\\\\n",
       "\\end{tabular}\n"
      ],
      "text/markdown": [
       "\n",
       "(Intercept) | L(res, 1) | L(y, 1) | L(z, 1) | L(w, 1) | \n",
       "|---|---|---|\n",
       "|  0.006065021 |  0.41797396  | 0.1782766    | 0.3129953    | -0.3677204   | \n",
       "| -0.042214979 |  0.07409731  | 0.1459387    | 0.2624625    | -0.3126279   | \n",
       "| -0.039801004 | -0.06907570  | 0.1557652    | 0.3012198    | -0.4195309   | \n",
       "\n",
       "\n"
      ],
      "text/plain": [
       "     (Intercept)  L(res, 1)   L(y, 1)   L(z, 1)   L(w, 1)   \n",
       "[1,]  0.006065021  0.41797396 0.1782766 0.3129953 -0.3677204\n",
       "[2,] -0.042214979  0.07409731 0.1459387 0.2624625 -0.3126279\n",
       "[3,] -0.039801004 -0.06907570 0.1557652 0.3012198 -0.4195309"
      ]
     },
     "metadata": {},
     "output_type": "display_data"
    }
   ],
   "source": [
    "reg_w <- lm(w ~ y + z, data=coint)\n",
    "res <- as.ts(reg_w$residuals[-1])\n",
    "\n",
    "y <- as.ts(diff(coint$y))\n",
    "z <- as.ts(diff(coint$z))\n",
    "w <- as.ts(diff(coint$w))\n",
    "\n",
    "ty <- t(summary(dynlm(y ~ L(res,1) + L(y,1) + L(z,1) + L(w,1)))$coef[,1])\n",
    "tz <- t(summary(dynlm(z ~ L(res,1) + L(y,1) + L(z,1) + L(w,1)))$coef[,1])\n",
    "tw <- t(summary(dynlm(w ~ L(res,1) + L(y,1) + L(z,1) + L(w,1)))$coef[,1])\n",
    "rbind(ty,tz,tw)\n",
    "\n",
    "#VECM(coint, r=1, lag=1, LRinclude=\"const\")"
   ]
  },
  {
   "cell_type": "code",
   "execution_count": null,
   "metadata": {},
   "outputs": [],
   "source": [
    "y <- coint$y\n",
    "z <- coint$z\n",
    "w <- coint$w\n",
    "dy <- diff(coint$y)\n",
    "dz <- diff(coint$z)\n",
    "dw <- diff(coint$w)\n",
    "\n",
    "dynlm(dy ~ L(y[-1])+0)\n",
    "dynlm(dz ~ L(z[-1])+0)\n",
    "dynlm(dw ~ L(w[-1])+0)\n",
    "\n",
    "dynlm(dy ~ L(y[-1]) + L(dy) + L(dy,2) + L(dy,3) + L(dy,4))$coefficient\n",
    "#dynlm(dz ~ L(z[-1]), data=coint)$coefficient\n",
    "#dynlm(dw ~ L(w[-1]), data=coint)$coefficient"
   ]
  },
  {
   "cell_type": "code",
   "execution_count": null,
   "metadata": {},
   "outputs": [],
   "source": [
    "res_y <- reg_y$residuals\n",
    "dres_y <- diff(res_y)\n",
    "dynlm(dres_y ~ L(res_y[-1]))"
   ]
  },
  {
   "cell_type": "code",
   "execution_count": null,
   "metadata": {},
   "outputs": [],
   "source": []
  },
  {
   "cell_type": "code",
   "execution_count": null,
   "metadata": {},
   "outputs": [],
   "source": []
  },
  {
   "cell_type": "code",
   "execution_count": null,
   "metadata": {},
   "outputs": [],
   "source": []
  },
  {
   "cell_type": "markdown",
   "metadata": {},
   "source": [
    "# Exercise 3 (Quantitative)\n",
    "Enders exercise 4a, 4b, and 4c. I find 7 lags for all variables in 4a. See the hints on the next page."
   ]
  },
  {
   "cell_type": "code",
   "execution_count": 121,
   "metadata": {},
   "outputs": [
    {
     "data": {
      "text/html": [
       "<table>\n",
       "<thead><tr><th scope=col>DATE</th><th scope=col>FFR</th><th scope=col>Tbill</th><th scope=col>Tb1yr</th><th scope=col>r5</th><th scope=col>r10</th><th scope=col>PPINSA</th><th scope=col>Finished</th><th scope=col>CPI</th><th scope=col>CPICORE</th><th scope=col>M1NSA</th><th scope=col>M2SA</th><th scope=col>M2NSA</th><th scope=col>Unemp</th><th scope=col>IndProd</th><th scope=col>RGDP</th><th scope=col>Potent</th><th scope=col>Deflator</th><th scope=col>Curr</th><th scope=col>date</th></tr></thead>\n",
       "<tbody>\n",
       "\t<tr><td>1960Q1    </td><td>3.93      </td><td>3.87      </td><td>4.57      </td><td>4.64      </td><td>4.49      </td><td>31.67     </td><td>33.20     </td><td>29.40     </td><td>18.92     </td><td>140.53    </td><td>896.1     </td><td>299.40    </td><td>5.13      </td><td>23.93     </td><td>2845.3    </td><td>2824.2    </td><td>18.521    </td><td>31.830    </td><td>1960-01-01</td></tr>\n",
       "\t<tr><td>1960Q2    </td><td>3.70      </td><td>2.99      </td><td>3.87      </td><td>4.30      </td><td>4.26      </td><td>31.73     </td><td>33.40     </td><td>29.57     </td><td>19.00     </td><td>138.40    </td><td>903.3     </td><td>300.03    </td><td>5.23      </td><td>23.41     </td><td>2832.0    </td><td>2851.2    </td><td>18.579    </td><td>31.862    </td><td>1960-04-01</td></tr>\n",
       "\t<tr><td>1960Q3    </td><td>2.94      </td><td>2.36      </td><td>3.07      </td><td>3.67      </td><td>3.83      </td><td>31.63     </td><td>33.43     </td><td>29.59     </td><td>19.07     </td><td>139.60    </td><td>919.4     </td><td>305.50    </td><td>5.53      </td><td>23.02     </td><td>2836.6    </td><td>2878.7    </td><td>18.648    </td><td>32.217    </td><td>1960-07-01</td></tr>\n",
       "</tbody>\n",
       "</table>\n"
      ],
      "text/latex": [
       "\\begin{tabular}{r|llllllllllllllllllll}\n",
       " DATE & FFR & Tbill & Tb1yr & r5 & r10 & PPINSA & Finished & CPI & CPICORE & M1NSA & M2SA & M2NSA & Unemp & IndProd & RGDP & Potent & Deflator & Curr & date\\\\\n",
       "\\hline\n",
       "\t 1960Q1     & 3.93       & 3.87       & 4.57       & 4.64       & 4.49       & 31.67      & 33.20      & 29.40      & 18.92      & 140.53     & 896.1      & 299.40     & 5.13       & 23.93      & 2845.3     & 2824.2     & 18.521     & 31.830     & 1960-01-01\\\\\n",
       "\t 1960Q2     & 3.70       & 2.99       & 3.87       & 4.30       & 4.26       & 31.73      & 33.40      & 29.57      & 19.00      & 138.40     & 903.3      & 300.03     & 5.23       & 23.41      & 2832.0     & 2851.2     & 18.579     & 31.862     & 1960-04-01\\\\\n",
       "\t 1960Q3     & 2.94       & 2.36       & 3.07       & 3.67       & 3.83       & 31.63      & 33.43      & 29.59      & 19.07      & 139.60     & 919.4      & 305.50     & 5.53       & 23.02      & 2836.6     & 2878.7     & 18.648     & 32.217     & 1960-07-01\\\\\n",
       "\\end{tabular}\n"
      ],
      "text/markdown": [
       "\n",
       "DATE | FFR | Tbill | Tb1yr | r5 | r10 | PPINSA | Finished | CPI | CPICORE | M1NSA | M2SA | M2NSA | Unemp | IndProd | RGDP | Potent | Deflator | Curr | date | \n",
       "|---|---|---|\n",
       "| 1960Q1     | 3.93       | 3.87       | 4.57       | 4.64       | 4.49       | 31.67      | 33.20      | 29.40      | 18.92      | 140.53     | 896.1      | 299.40     | 5.13       | 23.93      | 2845.3     | 2824.2     | 18.521     | 31.830     | 1960-01-01 | \n",
       "| 1960Q2     | 3.70       | 2.99       | 3.87       | 4.30       | 4.26       | 31.73      | 33.40      | 29.57      | 19.00      | 138.40     | 903.3      | 300.03     | 5.23       | 23.41      | 2832.0     | 2851.2     | 18.579     | 31.862     | 1960-04-01 | \n",
       "| 1960Q3     | 2.94       | 2.36       | 3.07       | 3.67       | 3.83       | 31.63      | 33.43      | 29.59      | 19.07      | 139.60     | 919.4      | 305.50     | 5.53       | 23.02      | 2836.6     | 2878.7     | 18.648     | 32.217     | 1960-07-01 | \n",
       "\n",
       "\n"
      ],
      "text/plain": [
       "  DATE   FFR  Tbill Tb1yr r5   r10  PPINSA Finished CPI   CPICORE M1NSA  M2SA \n",
       "1 1960Q1 3.93 3.87  4.57  4.64 4.49 31.67  33.20    29.40 18.92   140.53 896.1\n",
       "2 1960Q2 3.70 2.99  3.87  4.30 4.26 31.73  33.40    29.57 19.00   138.40 903.3\n",
       "3 1960Q3 2.94 2.36  3.07  3.67 3.83 31.63  33.43    29.59 19.07   139.60 919.4\n",
       "  M2NSA  Unemp IndProd RGDP   Potent Deflator Curr   date      \n",
       "1 299.40 5.13  23.93   2845.3 2824.2 18.521   31.830 1960-01-01\n",
       "2 300.03 5.23  23.41   2832.0 2851.2 18.579   31.862 1960-04-01\n",
       "3 305.50 5.53  23.02   2836.6 2878.7 18.648   32.217 1960-07-01"
      ]
     },
     "metadata": {},
     "output_type": "display_data"
    },
    {
     "data": {},
     "metadata": {},
     "output_type": "display_data"
    },
    {
     "data": {
      "image/png": "[encoded data removed]",
      "text/plain": [
       "plot without title"
      ]
     },
     "metadata": {},
     "output_type": "display_data"
    }
   ],
   "source": [
    "quarterly <- read_excel(\"Data/quarterly.xls\")\n",
    "quarterly$date <- as.Date(as.yearqtr(quarterly$DATE, format = \"%YQ%q\"))\n",
    "head(quarterly,3)\n",
    "\n",
    "quarterly %>%\n",
    "  dplyr::select(date, Tbill, r5, r10) %>%\n",
    "  gather(variable, value, -date) %>%\n",
    "  ggplot(aes(date, value, linetype=variable)) + \n",
    "    geom_line()"
   ]
  },
  {
   "cell_type": "code",
   "execution_count": 80,
   "metadata": {},
   "outputs": [],
   "source": [
    "tbi   <- as.ts(quarterly$Tbill)\n",
    "r5    <- as.ts(quarterly$r5)\n",
    "r10   <- as.ts(quarterly$r10)\n",
    "\n",
    "dtbi   <- as.ts(diff(quarterly$Tbill))\n",
    "dr5    <- as.ts(diff(quarterly$r5))\n",
    "dr10   <- as.ts(diff(quarterly$r10))"
   ]
  },
  {
   "cell_type": "markdown",
   "metadata": {},
   "source": [
    "### 3a. Replication of table page 402"
   ]
  },
  {
   "cell_type": "code",
   "execution_count": 98,
   "metadata": {},
   "outputs": [],
   "source": [
    "#summary(dynlm(dtbi ~ L(tbi,1) + L(dtbi,1) + L(dtbi,2) + L(dtbi,3) + L(dtbi,4) + L(dtbi,5) + L(dtbi,6) + L(dtbi,7)))\n",
    "#summary(dynlm(dr5 ~ L(r5,1) + L(dr5,1) + L(dr5,2) + L(dr5,3) + L(dr5,4) + L(dr5,5) + L(dr5,6) + L(dr5,7)))\n",
    "#summary(dynlm(dr10 ~ L(r10,1) + L(dr10,1) + L(dr10,2) + L(dr10,3) + L(dtbi,4) + L(dtbi,5) + L(dtbi,6) + L(dtbi,7)))"
   ]
  },
  {
   "cell_type": "code",
   "execution_count": 90,
   "metadata": {},
   "outputs": [
    {
     "data": {
      "text/html": [
       "<table>\n",
       "<thead><tr><th scope=col>statistic</th><th scope=col>parameter</th><th scope=col>alternative</th><th scope=col>p.value</th><th scope=col>method</th><th scope=col>data.name</th></tr></thead>\n",
       "<tbody>\n",
       "\t<tr><td>-3.26428                    </td><td>5                           </td><td>stationary                  </td><td>0.07848675                  </td><td>Augmented Dickey-Fuller Test</td><td>tbi                         </td></tr>\n",
       "\t<tr><td>-1.663388                   </td><td>5                           </td><td>stationary                  </td><td>0.7171767                   </td><td>Augmented Dickey-Fuller Test</td><td>r5                          </td></tr>\n",
       "\t<tr><td>-1.443424                   </td><td>5                           </td><td>stationary                  </td><td>0.8094145                   </td><td>Augmented Dickey-Fuller Test</td><td>r10                         </td></tr>\n",
       "</tbody>\n",
       "</table>\n"
      ],
      "text/latex": [
       "\\begin{tabular}{llllll}\n",
       " statistic & parameter & alternative & p.value & method & data.name\\\\\n",
       "\\hline\n",
       "\t -3.26428                     & 5                            & stationary                   & 0.07848675                   & Augmented Dickey-Fuller Test & tbi                         \\\\\n",
       "\t -1.663388                    & 5                            & stationary                   & 0.7171767                    & Augmented Dickey-Fuller Test & r5                          \\\\\n",
       "\t -1.443424                    & 5                            & stationary                   & 0.8094145                    & Augmented Dickey-Fuller Test & r10                         \\\\\n",
       "\\end{tabular}\n"
      ],
      "text/markdown": [
       "\n",
       "statistic | parameter | alternative | p.value | method | data.name | \n",
       "|---|---|---|\n",
       "| -3.26428                     | 5                            | stationary                   | 0.07848675                   | Augmented Dickey-Fuller Test | tbi                          | \n",
       "| -1.663388                    | 5                            | stationary                   | 0.7171767                    | Augmented Dickey-Fuller Test | r5                           | \n",
       "| -1.443424                    | 5                            | stationary                   | 0.8094145                    | Augmented Dickey-Fuller Test | r10                          | \n",
       "\n",
       "\n"
      ],
      "text/plain": [
       "     statistic parameter alternative p.value    method                      \n",
       "[1,] -3.26428  5         stationary  0.07848675 Augmented Dickey-Fuller Test\n",
       "[2,] -1.663388 5         stationary  0.7171767  Augmented Dickey-Fuller Test\n",
       "[3,] -1.443424 5         stationary  0.8094145  Augmented Dickey-Fuller Test\n",
       "     data.name\n",
       "[1,] tbi      \n",
       "[2,] r5       \n",
       "[3,] r10      "
      ]
     },
     "metadata": {},
     "output_type": "display_data"
    }
   ],
   "source": [
    "rbind(adf.test(tbi), adf.test(r5), adf.test(r10))"
   ]
  },
  {
   "cell_type": "markdown",
   "metadata": {},
   "source": [
    "### 3b. Estimate the cointegrating relationships using the Engel-Granger prodecure"
   ]
  },
  {
   "cell_type": "code",
   "execution_count": 92,
   "metadata": {},
   "outputs": [
    {
     "data": {
      "text/plain": [
       "\n",
       "Call:\n",
       "lm(formula = tbi ~ r5 + r10)\n",
       "\n",
       "Residuals:\n",
       "     Min       1Q   Median       3Q      Max \n",
       "-2.00754 -0.45058 -0.03363  0.30297  2.51070 \n",
       "\n",
       "Coefficients:\n",
       "            Estimate Std. Error t value Pr(>|t|)    \n",
       "(Intercept)   0.3668     0.1586   2.312   0.0217 *  \n",
       "r5            2.7430     0.1320  20.775   <2e-16 ***\n",
       "r10          -1.9055     0.1417 -13.443   <2e-16 ***\n",
       "---\n",
       "Signif. codes:  0 '***' 0.001 '**' 0.01 '*' 0.05 '.' 0.1 ' ' 1\n",
       "\n",
       "Residual standard error: 0.7013 on 209 degrees of freedom\n",
       "Multiple R-squared:  0.9456,\tAdjusted R-squared:  0.9451 \n",
       "F-statistic:  1818 on 2 and 209 DF,  p-value: < 2.2e-16\n"
      ]
     },
     "metadata": {},
     "output_type": "display_data"
    }
   ],
   "source": [
    "reg <- lm(tbi ~ r5 + r10)\n",
    "summary(reg)"
   ]
  },
  {
   "cell_type": "code",
   "execution_count": 93,
   "metadata": {},
   "outputs": [],
   "source": [
    "res <- as.ts(reg$residual)\n",
    "dres <- as.ts(diff(res))\n",
    "#summary(dynlm(dres ~ L(res) + L(dres) + L(dres,2) + L(dres,3) + L(dres,4) + L(dres,5) + L(dres,6) + L(dres,7) + L(dres,8)))"
   ]
  },
  {
   "cell_type": "markdown",
   "metadata": {},
   "source": [
    "Jeg finder at t-værdien er -4.08 og den kritiske værdi er -3.76, derfor er residualerne stationære og de tre variabler er cointegrerede CI(1,1)"
   ]
  },
  {
   "cell_type": "markdown",
   "metadata": {},
   "source": [
    "### 3c. repeat with R10 as dependent variable"
   ]
  },
  {
   "cell_type": "code",
   "execution_count": 100,
   "metadata": {},
   "outputs": [
    {
     "data": {
      "text/plain": [
       "\n",
       "Call:\n",
       "lm(formula = r10 ~ r5 + tbi)\n",
       "\n",
       "Coefficients:\n",
       "(Intercept)           r5          tbi  \n",
       "     0.5028       1.1630      -0.2434  \n"
      ]
     },
     "metadata": {},
     "output_type": "display_data"
    }
   ],
   "source": [
    "reg2 <- lm(r10 ~ r5 + tbi)\n",
    "reg2"
   ]
  },
  {
   "cell_type": "code",
   "execution_count": 103,
   "metadata": {},
   "outputs": [
    {
     "data": {
      "text/plain": [
       "\n",
       "Time series regression with \"ts\" data:\n",
       "Start = 8, End = 212\n",
       "\n",
       "Call:\n",
       "dynlm(formula = dres ~ L(res) + L(dres) + L(dres, 2) + L(dres, \n",
       "    3) + L(dres, 4) + L(dres, 5) + L(dres, 6))\n",
       "\n",
       "Residuals:\n",
       "     Min       1Q   Median       3Q      Max \n",
       "-0.53111 -0.06803 -0.00249  0.08006  0.34074 \n",
       "\n",
       "Coefficients:\n",
       "            Estimate Std. Error t value Pr(>|t|)    \n",
       "(Intercept)  0.00815    0.00882   0.924   0.3566    \n",
       "L(res)      -0.10229    0.04392  -2.329   0.0209 *  \n",
       "L(dres)      0.03252    0.07431   0.438   0.6621    \n",
       "L(dres, 2)  -0.37934    0.07422  -5.111 7.56e-07 ***\n",
       "L(dres, 3)   0.08643    0.07672   1.127   0.2613    \n",
       "L(dres, 4)  -0.17467    0.07696  -2.269   0.0243 *  \n",
       "L(dres, 5)   0.02413    0.06991   0.345   0.7304    \n",
       "L(dres, 6)  -0.21539    0.06973  -3.089   0.0023 ** \n",
       "---\n",
       "Signif. codes:  0 '***' 0.001 '**' 0.01 '*' 0.05 '.' 0.1 ' ' 1\n",
       "\n",
       "Residual standard error: 0.1255 on 197 degrees of freedom\n",
       "Multiple R-squared:  0.2291,\tAdjusted R-squared:  0.2017 \n",
       "F-statistic: 8.363 on 7 and 197 DF,  p-value: 6.144e-09\n"
      ]
     },
     "metadata": {},
     "output_type": "display_data"
    }
   ],
   "source": [
    "res <- as.ts(reg2$residual)\n",
    "dres <- as.ts(diff(res))\n",
    "summary(dynlm(dres ~ L(res) + L(dres) + L(dres,2) + L(dres,3) + L(dres,4) + L(dres,5) + L(dres,6)))"
   ]
  },
  {
   "cell_type": "markdown",
   "metadata": {},
   "source": [
    "De tre variabler er ikke kointegrerede eftersom t-vrdien kun er -2.329 mens den skulle være mindre end -3.76 for at vi kan konkludere variablerne er kointegrerede. Dette viser svagheden ved Engel-Granger metoden.. "
   ]
  },
  {
   "cell_type": "markdown",
   "metadata": {},
   "source": [
    "# Exercise 4 (Quantitative)\n",
    "Enders exercise 9. Question d is optional. Skip question (e) and (f), but answer question (g).Make sure that the data is from 1974:01 to 2013:11 - however, missing data implies that the data e⁄ectively ends in 2012:12"
   ]
  },
  {
   "cell_type": "code",
   "execution_count": 159,
   "metadata": {},
   "outputs": [
    {
     "data": {
      "text/html": [
       "<table>\n",
       "<thead><tr><th scope=col>USCPI</th><th scope=col>CANEX</th><th scope=col>CANCPI</th><th scope=col>JAPANEX</th><th scope=col>JAPANCPI</th><th scope=col>SWEX</th><th scope=col>SWCPI</th><th scope=col>date</th></tr></thead>\n",
       "<tbody>\n",
       "\t<tr><td>117.293   </td><td>0.992     </td><td>121.077   </td><td>299.685   </td><td>135.294   </td><td>3.364     </td><td>127.774   </td><td>1974-01-01</td></tr>\n",
       "\t<tr><td>118.546   </td><td>0.977     </td><td>122.057   </td><td>291.658   </td><td>139.706   </td><td>3.176     </td><td>126.836   </td><td>1974-02-01</td></tr>\n",
       "\t<tr><td>119.799   </td><td>0.972     </td><td>123.528   </td><td>287.949   </td><td>140.294   </td><td>3.079     </td><td>127.431   </td><td>1974-03-01</td></tr>\n",
       "\t<tr><td>120.551   </td><td>0.968     </td><td>124.508   </td><td>292.197   </td><td>144.118   </td><td>3.027     </td><td>126.662   </td><td>1974-04-01</td></tr>\n",
       "\t<tr><td>121.805   </td><td>0.962     </td><td>126.959   </td><td>291.430   </td><td>144.706   </td><td>2.917     </td><td>128.886   </td><td>1974-05-01</td></tr>\n",
       "\t<tr><td>122.807   </td><td>0.966     </td><td>127.939   </td><td>293.466   </td><td>145.294   </td><td>2.990     </td><td>129.571   </td><td>1974-06-01</td></tr>\n",
       "</tbody>\n",
       "</table>\n"
      ],
      "text/latex": [
       "\\begin{tabular}{r|llllllll}\n",
       " USCPI & CANEX & CANCPI & JAPANEX & JAPANCPI & SWEX & SWCPI & date\\\\\n",
       "\\hline\n",
       "\t 117.293    & 0.992      & 121.077    & 299.685    & 135.294    & 3.364      & 127.774    & 1974-01-01\\\\\n",
       "\t 118.546    & 0.977      & 122.057    & 291.658    & 139.706    & 3.176      & 126.836    & 1974-02-01\\\\\n",
       "\t 119.799    & 0.972      & 123.528    & 287.949    & 140.294    & 3.079      & 127.431    & 1974-03-01\\\\\n",
       "\t 120.551    & 0.968      & 124.508    & 292.197    & 144.118    & 3.027      & 126.662    & 1974-04-01\\\\\n",
       "\t 121.805    & 0.962      & 126.959    & 291.430    & 144.706    & 2.917      & 128.886    & 1974-05-01\\\\\n",
       "\t 122.807    & 0.966      & 127.939    & 293.466    & 145.294    & 2.990      & 129.571    & 1974-06-01\\\\\n",
       "\\end{tabular}\n"
      ],
      "text/markdown": [
       "\n",
       "USCPI | CANEX | CANCPI | JAPANEX | JAPANCPI | SWEX | SWCPI | date | \n",
       "|---|---|---|---|---|---|\n",
       "| 117.293    | 0.992      | 121.077    | 299.685    | 135.294    | 3.364      | 127.774    | 1974-01-01 | \n",
       "| 118.546    | 0.977      | 122.057    | 291.658    | 139.706    | 3.176      | 126.836    | 1974-02-01 | \n",
       "| 119.799    | 0.972      | 123.528    | 287.949    | 140.294    | 3.079      | 127.431    | 1974-03-01 | \n",
       "| 120.551    | 0.968      | 124.508    | 292.197    | 144.118    | 3.027      | 126.662    | 1974-04-01 | \n",
       "| 121.805    | 0.962      | 126.959    | 291.430    | 144.706    | 2.917      | 128.886    | 1974-05-01 | \n",
       "| 122.807    | 0.966      | 127.939    | 293.466    | 145.294    | 2.990      | 129.571    | 1974-06-01 | \n",
       "\n",
       "\n"
      ],
      "text/plain": [
       "  USCPI   CANEX CANCPI  JAPANEX JAPANCPI SWEX  SWCPI   date      \n",
       "1 117.293 0.992 121.077 299.685 135.294  3.364 127.774 1974-01-01\n",
       "2 118.546 0.977 122.057 291.658 139.706  3.176 126.836 1974-02-01\n",
       "3 119.799 0.972 123.528 287.949 140.294  3.079 127.431 1974-03-01\n",
       "4 120.551 0.968 124.508 292.197 144.118  3.027 126.662 1974-04-01\n",
       "5 121.805 0.962 126.959 291.430 144.706  2.917 128.886 1974-05-01\n",
       "6 122.807 0.966 127.939 293.466 145.294  2.990 129.571 1974-06-01"
      ]
     },
     "metadata": {},
     "output_type": "display_data"
    },
    {
     "data": {},
     "metadata": {},
     "output_type": "display_data"
    },
    {
     "data": {
      "image/png": "[encoded data removed]",
      "text/plain": [
       "plot without title"
      ]
     },
     "metadata": {},
     "output_type": "display_data"
    }
   ],
   "source": [
    "ppp <- read_excel(\"Data/Coint_ppp.xls\")\n",
    "\n",
    "ppp$ENTRY <- NULL\n",
    "ppp$CANCPI <- as.numeric(ppp$CANCPI)\n",
    "ppp$JAPANEX <- as.numeric(ppp$JAPANEX)\n",
    "ppp$JAPANCPI <- as.numeric(ppp$JAPANCPI)\n",
    "ppp$SWCPI <- as.numeric(ppp$SWCPI)\n",
    "\n",
    "ppp$date <- seq(as.Date(\"1974/1/1\"),as.Date(\"2013/11/1\"), by = \"month\")\n",
    "ppp <- subset(ppp, ppp$date <= as.Date(\"2012/12/1\"))\n",
    "\n",
    "head(ppp)\n",
    "\n",
    "p <- ppp %>%\n",
    "  gather(variable, value, -date) %>%\n",
    "  ggplot(aes(date, value, color=variable, linetype=variable)) + \n",
    "    geom_line()\n",
    "p"
   ]
  },
  {
   "cell_type": "markdown",
   "metadata": {},
   "source": [
    "### 9a"
   ]
  },
  {
   "cell_type": "code",
   "execution_count": 148,
   "metadata": {},
   "outputs": [],
   "source": [
    "ppp$l_USCPI    <- log(ppp$USCPI)\n",
    "ppp$l_CANEX    <- log(ppp$CANEX)\n",
    "ppp$l_CANCPI    <- log(ppp$CANCPI)\n",
    "ppp$l_JAPANEX  <- log(ppp$JAPANEX)\n",
    "ppp$l_JAPANCPI <- log(ppp$JAPANCPI)\n",
    "ppp$l_SWEX     <- log(ppp$SWEX)\n",
    "ppp$l_SWCPI    <- log(ppp$SWCPI)"
   ]
  },
  {
   "cell_type": "code",
   "execution_count": 149,
   "metadata": {},
   "outputs": [
    {
     "data": {
      "text/html": [
       "<table>\n",
       "<thead><tr><th scope=col>statistic</th><th scope=col>parameter</th><th scope=col>alternative</th><th scope=col>p.value</th><th scope=col>method</th><th scope=col>data.name</th></tr></thead>\n",
       "<tbody>\n",
       "\t<tr><td>-2.439607                   </td><td>7                           </td><td>stationary                  </td><td>0.3920258                   </td><td>Augmented Dickey-Fuller Test</td><td>ppp$l_USCPI                 </td></tr>\n",
       "\t<tr><td>-1.261758                   </td><td>7                           </td><td>stationary                  </td><td>0.8902385                   </td><td>Augmented Dickey-Fuller Test</td><td>ppp$l_CANEX                 </td></tr>\n",
       "\t<tr><td>-3.430845                   </td><td>7                           </td><td>stationary                  </td><td>0.04908418                  </td><td>Augmented Dickey-Fuller Test</td><td>ppp$l_CANCPI                </td></tr>\n",
       "\t<tr><td>-1.955345                   </td><td>7                           </td><td>stationary                  </td><td>0.5968613                   </td><td>Augmented Dickey-Fuller Test</td><td>ppp$l_JAPANEX               </td></tr>\n",
       "\t<tr><td>-4.581315                   </td><td>7                           </td><td>stationary                  </td><td>0.01                        </td><td>Augmented Dickey-Fuller Test</td><td>ppp$l_JAPANCPI              </td></tr>\n",
       "\t<tr><td>-2.928872                   </td><td>7                           </td><td>stationary                  </td><td>0.185074                    </td><td>Augmented Dickey-Fuller Test</td><td>ppp$l_SWEX                  </td></tr>\n",
       "\t<tr><td>-0.2573018                  </td><td>7                           </td><td>stationary                  </td><td>0.99                        </td><td>Augmented Dickey-Fuller Test</td><td>ppp$l_SWCPI                 </td></tr>\n",
       "</tbody>\n",
       "</table>\n"
      ],
      "text/latex": [
       "\\begin{tabular}{llllll}\n",
       " statistic & parameter & alternative & p.value & method & data.name\\\\\n",
       "\\hline\n",
       "\t -2.439607                    & 7                            & stationary                   & 0.3920258                    & Augmented Dickey-Fuller Test & ppp\\$l\\_USCPI             \\\\\n",
       "\t -1.261758                    & 7                            & stationary                   & 0.8902385                    & Augmented Dickey-Fuller Test & ppp\\$l\\_CANEX             \\\\\n",
       "\t -3.430845                    & 7                            & stationary                   & 0.04908418                   & Augmented Dickey-Fuller Test & ppp\\$l\\_CANCPI            \\\\\n",
       "\t -1.955345                    & 7                            & stationary                   & 0.5968613                    & Augmented Dickey-Fuller Test & ppp\\$l\\_JAPANEX           \\\\\n",
       "\t -4.581315                    & 7                            & stationary                   & 0.01                         & Augmented Dickey-Fuller Test & ppp\\$l\\_JAPANCPI          \\\\\n",
       "\t -2.928872                    & 7                            & stationary                   & 0.185074                     & Augmented Dickey-Fuller Test & ppp\\$l\\_SWEX              \\\\\n",
       "\t -0.2573018                   & 7                            & stationary                   & 0.99                         & Augmented Dickey-Fuller Test & ppp\\$l\\_SWCPI             \\\\\n",
       "\\end{tabular}\n"
      ],
      "text/markdown": [
       "\n",
       "statistic | parameter | alternative | p.value | method | data.name | \n",
       "|---|---|---|---|---|---|---|\n",
       "| -2.439607                    | 7                            | stationary                   | 0.3920258                    | Augmented Dickey-Fuller Test | ppp$l_USCPI                  | \n",
       "| -1.261758                    | 7                            | stationary                   | 0.8902385                    | Augmented Dickey-Fuller Test | ppp$l_CANEX                  | \n",
       "| -3.430845                    | 7                            | stationary                   | 0.04908418                   | Augmented Dickey-Fuller Test | ppp$l_CANCPI                 | \n",
       "| -1.955345                    | 7                            | stationary                   | 0.5968613                    | Augmented Dickey-Fuller Test | ppp$l_JAPANEX                | \n",
       "| -4.581315                    | 7                            | stationary                   | 0.01                         | Augmented Dickey-Fuller Test | ppp$l_JAPANCPI               | \n",
       "| -2.928872                    | 7                            | stationary                   | 0.185074                     | Augmented Dickey-Fuller Test | ppp$l_SWEX                   | \n",
       "| -0.2573018                   | 7                            | stationary                   | 0.99                         | Augmented Dickey-Fuller Test | ppp$l_SWCPI                  | \n",
       "\n",
       "\n"
      ],
      "text/plain": [
       "     statistic  parameter alternative p.value    method                      \n",
       "[1,] -2.439607  7         stationary  0.3920258  Augmented Dickey-Fuller Test\n",
       "[2,] -1.261758  7         stationary  0.8902385  Augmented Dickey-Fuller Test\n",
       "[3,] -3.430845  7         stationary  0.04908418 Augmented Dickey-Fuller Test\n",
       "[4,] -1.955345  7         stationary  0.5968613  Augmented Dickey-Fuller Test\n",
       "[5,] -4.581315  7         stationary  0.01       Augmented Dickey-Fuller Test\n",
       "[6,] -2.928872  7         stationary  0.185074   Augmented Dickey-Fuller Test\n",
       "[7,] -0.2573018 7         stationary  0.99       Augmented Dickey-Fuller Test\n",
       "     data.name     \n",
       "[1,] ppp$l_USCPI   \n",
       "[2,] ppp$l_CANEX   \n",
       "[3,] ppp$l_CANCPI  \n",
       "[4,] ppp$l_JAPANEX \n",
       "[5,] ppp$l_JAPANCPI\n",
       "[6,] ppp$l_SWEX    \n",
       "[7,] ppp$l_SWCPI   "
      ]
     },
     "metadata": {},
     "output_type": "display_data"
    }
   ],
   "source": [
    "rbind(adf.test(ppp$l_USCPI),\n",
    "adf.test(ppp$l_CANEX),\n",
    "adf.test(ppp$l_CANCPI),\n",
    "adf.test(ppp$l_JAPANEX),\n",
    "adf.test(ppp$l_JAPANCPI),\n",
    "adf.test(ppp$l_SWEX),\n",
    "adf.test(ppp$l_SWCPI))"
   ]
  },
  {
   "cell_type": "markdown",
   "metadata": {},
   "source": [
    "Only Japan can clearly reject a unit root (in the CPI)"
   ]
  },
  {
   "cell_type": "code",
   "execution_count": 152,
   "metadata": {},
   "outputs": [
    {
     "data": {
      "text/plain": [
       "\n",
       "Call:\n",
       "lm(formula = l_JAPANEX ~ l_JAPANCPI + l_USCPI, data = ppp)\n",
       "\n",
       "Residuals:\n",
       "     Min       1Q   Median       3Q      Max \n",
       "-0.41312 -0.10770 -0.01184  0.08863  0.42784 \n",
       "\n",
       "Coefficients:\n",
       "            Estimate Std. Error t value Pr(>|t|)    \n",
       "(Intercept)  9.97459    0.36593  27.258   <2e-16 ***\n",
       "l_JAPANCPI  -0.10420    0.10667  -0.977    0.329    \n",
       "l_USCPI     -0.76823    0.04505 -17.054   <2e-16 ***\n",
       "---\n",
       "Signif. codes:  0 '***' 0.001 '**' 0.01 '*' 0.05 '.' 0.1 ' ' 1\n",
       "\n",
       "Residual standard error: 0.156 on 465 degrees of freedom\n",
       "Multiple R-squared:  0.8336,\tAdjusted R-squared:  0.8329 \n",
       "F-statistic:  1165 on 2 and 465 DF,  p-value: < 2.2e-16\n"
      ]
     },
     "metadata": {},
     "output_type": "display_data"
    }
   ],
   "source": [
    "reg <- lm(l_JAPANEX ~ l_JAPANCPI + l_USCPI, data= ppp)\n",
    "summary(reg)"
   ]
  },
  {
   "cell_type": "code",
   "execution_count": 154,
   "metadata": {},
   "outputs": [],
   "source": [
    "res <- as.ts(reg$residual)\n",
    "dres <- as.ts(diff(res))\n",
    "#summary(dynlm(dres ~ L(res) + L(dres) + L(dres,2) + L(dres,3) + L(dres,4) + L(dres,5) + L(dres,6) + L(dres,7) + L(dres,8) + L(dres,9) + L(dres,10) + L(dres,11)))"
   ]
  },
  {
   "cell_type": "markdown",
   "metadata": {},
   "source": [
    "# Exercise 5 (Quantitative)\n",
    "Enders exercise 10. Data from 1974:1 - 2013:10. Remember, 11 lags in VECM , 12 lags in VAR. Tips below. Interpret only the table and show that there is a single cointegration vector. Skip question (b)."
   ]
  },
  {
   "cell_type": "code",
   "execution_count": null,
   "metadata": {},
   "outputs": [],
   "source": []
  },
  {
   "cell_type": "code",
   "execution_count": null,
   "metadata": {},
   "outputs": [],
   "source": []
  },
  {
   "cell_type": "code",
   "execution_count": null,
   "metadata": {},
   "outputs": [],
   "source": []
  },
  {
   "cell_type": "code",
   "execution_count": null,
   "metadata": {},
   "outputs": [],
   "source": []
  }
 ],
 "metadata": {
  "kernelspec": {
   "display_name": "R",
   "language": "R",
   "name": "ir"
  },
  "language_info": {
   "codemirror_mode": "r",
   "file_extension": ".r",
   "mimetype": "text/x-r-source",
   "name": "R",
   "pygments_lexer": "r",
   "version": "3.5.1"
  }
 },
 "nbformat": 4,
 "nbformat_minor": 2
}
