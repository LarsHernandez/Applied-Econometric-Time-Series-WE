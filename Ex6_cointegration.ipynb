{
 "cells": [
  {
   "cell_type": "code",
   "execution_count": 2,
   "metadata": {},
   "outputs": [],
   "source": [
    "library(tidyverse) # readr, ggplot, dplyr, ...\n",
    "library(gridExtra) # Arrangning ggplots\n",
    "library(readxl)    # Loading excel\n",
    "library(repr)      # Resizing the plots in jupyter\n",
    "library(rugarch)   # For ARCH and GARCH models\n",
    "library(dynlm)     # Lagged linear models\n",
    "library(urca)      # Dick Fuller test\n",
    "library(car)       # Linear hyphothesis testing\n",
    "library(tseries)   # adf-test\n",
    "library(vars)      # VAR models\n",
    "library(zoo)       # Convert quarters to date\n",
    "library(expm)      # Matrix calculations \n",
    "library(forecast)  \n",
    "\n",
    "options(repr.plot.width=8, repr.plot.height=2.2)\n",
    "setwd(\"C:/Users/larsn/Documents/GitHub/Applied-Econometric-Time-Series-WE\")"
   ]
  },
  {
   "cell_type": "markdown",
   "metadata": {},
   "source": [
    "# Excercise 2"
   ]
  },
  {
   "cell_type": "code",
   "execution_count": 16,
   "metadata": {},
   "outputs": [
    {
     "data": {
      "text/html": [
       "<table>\n",
       "<thead><tr><th scope=col>y</th><th scope=col>z</th><th scope=col>w</th></tr></thead>\n",
       "<tbody>\n",
       "\t<tr><td>-1.80156  </td><td>-0.4969500</td><td>-1.79957  </td></tr>\n",
       "\t<tr><td>-2.27002  </td><td>-0.1490799</td><td>-2.36988  </td></tr>\n",
       "\t<tr><td>-2.21743  </td><td> 0.1181677</td><td>-2.12782  </td></tr>\n",
       "\t<tr><td>-2.36609  </td><td> 0.2260346</td><td>-2.30212  </td></tr>\n",
       "\t<tr><td>-2.06364  </td><td> 0.1829068</td><td>-1.93444  </td></tr>\n",
       "\t<tr><td>-2.17761  </td><td> 0.1754546</td><td>-1.62233  </td></tr>\n",
       "</tbody>\n",
       "</table>\n"
      ],
      "text/latex": [
       "\\begin{tabular}{r|lll}\n",
       " y & z & w\\\\\n",
       "\\hline\n",
       "\t -1.80156   & -0.4969500 & -1.79957  \\\\\n",
       "\t -2.27002   & -0.1490799 & -2.36988  \\\\\n",
       "\t -2.21743   &  0.1181677 & -2.12782  \\\\\n",
       "\t -2.36609   &  0.2260346 & -2.30212  \\\\\n",
       "\t -2.06364   &  0.1829068 & -1.93444  \\\\\n",
       "\t -2.17761   &  0.1754546 & -1.62233  \\\\\n",
       "\\end{tabular}\n"
      ],
      "text/markdown": [
       "\n",
       "y | z | w | \n",
       "|---|---|---|---|---|---|\n",
       "| -1.80156   | -0.4969500 | -1.79957   | \n",
       "| -2.27002   | -0.1490799 | -2.36988   | \n",
       "| -2.21743   |  0.1181677 | -2.12782   | \n",
       "| -2.36609   |  0.2260346 | -2.30212   | \n",
       "| -2.06364   |  0.1829068 | -1.93444   | \n",
       "| -2.17761   |  0.1754546 | -1.62233   | \n",
       "\n",
       "\n"
      ],
      "text/plain": [
       "  y        z          w       \n",
       "1 -1.80156 -0.4969500 -1.79957\n",
       "2 -2.27002 -0.1490799 -2.36988\n",
       "3 -2.21743  0.1181677 -2.12782\n",
       "4 -2.36609  0.2260346 -2.30212\n",
       "5 -2.06364  0.1829068 -1.93444\n",
       "6 -2.17761  0.1754546 -1.62233"
      ]
     },
     "metadata": {},
     "output_type": "display_data"
    }
   ],
   "source": [
    "coint <- read_excel(\"Data/Coint6.xls\")\n",
    "head(coint)"
   ]
  },
  {
   "cell_type": "markdown",
   "metadata": {},
   "source": [
    "### Reproduction of graph on page 365"
   ]
  },
  {
   "cell_type": "code",
   "execution_count": 40,
   "metadata": {},
   "outputs": [
    {
     "data": {},
     "metadata": {},
     "output_type": "display_data"
    },
    {
     "data": {
      "image/png": "[encoded data removed]",
      "text/plain": [
       "plot without title"
      ]
     },
     "metadata": {},
     "output_type": "display_data"
    }
   ],
   "source": [
    "coint2 <- coint\n",
    "coint2$n <- c(1:nrow(coint2))\n",
    "coint2 %>%\n",
    "  gather(variable, value, -n) %>%\n",
    "  ggplot(aes(n, value, linetype=variable)) + \n",
    "    geom_line()"
   ]
  },
  {
   "cell_type": "markdown",
   "metadata": {},
   "source": [
    "### Reproduction of results on page 366"
   ]
  },
  {
   "cell_type": "code",
   "execution_count": 24,
   "metadata": {},
   "outputs": [
    {
     "data": {
      "text/plain": [
       "\n",
       "Call:\n",
       "lm(formula = y ~ z + w, data = coint)\n",
       "\n",
       "Coefficients:\n",
       "(Intercept)            z            w  \n",
       "   -0.04843     -0.92731      0.97688  \n"
      ]
     },
     "metadata": {},
     "output_type": "display_data"
    },
    {
     "data": {
      "text/plain": [
       "\n",
       "Call:\n",
       "lm(formula = z ~ y + w, data = coint)\n",
       "\n",
       "Coefficients:\n",
       "(Intercept)            y            w  \n",
       "    0.05896     -1.01082      1.02549  \n"
      ]
     },
     "metadata": {},
     "output_type": "display_data"
    },
    {
     "data": {
      "text/plain": [
       "\n",
       "Call:\n",
       "lm(formula = w ~ y + z, data = coint)\n",
       "\n",
       "Coefficients:\n",
       "(Intercept)            y            z  \n",
       "   -0.08524      0.99007      0.95347  \n"
      ]
     },
     "metadata": {},
     "output_type": "display_data"
    }
   ],
   "source": [
    "reg_y <- lm(y ~ z + w, data=coint)\n",
    "reg_z <- lm(z ~ y + w, data=coint)\n",
    "reg_w <- lm(w ~ y + z, data=coint)\n",
    "reg_y\n",
    "reg_z\n",
    "reg_w"
   ]
  },
  {
   "cell_type": "code",
   "execution_count": 50,
   "metadata": {},
   "outputs": [
    {
     "data": {
      "text/plain": [
       "\n",
       "Time series regression with \"numeric\" data:\n",
       "Start = 1, End = 99\n",
       "\n",
       "Call:\n",
       "dynlm(formula = dy ~ L(y[-1]) + 0)\n",
       "\n",
       "Coefficients:\n",
       "L(y[-1])  \n",
       "  0.0022  \n"
      ]
     },
     "metadata": {},
     "output_type": "display_data"
    },
    {
     "data": {
      "text/plain": [
       "\n",
       "Time series regression with \"numeric\" data:\n",
       "Start = 1, End = 99\n",
       "\n",
       "Call:\n",
       "dynlm(formula = dz ~ L(z[-1]) + 0)\n",
       "\n",
       "Coefficients:\n",
       "L(z[-1])  \n",
       " 0.01837  \n"
      ]
     },
     "metadata": {},
     "output_type": "display_data"
    },
    {
     "data": {
      "text/plain": [
       "\n",
       "Time series regression with \"numeric\" data:\n",
       "Start = 1, End = 99\n",
       "\n",
       "Call:\n",
       "dynlm(formula = dw ~ L(w[-1]) + 0)\n",
       "\n",
       "Coefficients:\n",
       "L(w[-1])  \n",
       "0.005097  \n"
      ]
     },
     "metadata": {},
     "output_type": "display_data"
    },
    {
     "data": {
      "text/html": [
       "<dl class=dl-horizontal>\n",
       "\t<dt>(Intercept)</dt>\n",
       "\t\t<dd>-3.58994582235819e-17</dd>\n",
       "\t<dt>L(y[-1])</dt>\n",
       "\t\t<dd>-8.01294347662501e-18</dd>\n",
       "\t<dt>L(dy)</dt>\n",
       "\t\t<dd>1</dd>\n",
       "\t<dt>L(dy, 2)</dt>\n",
       "\t\t<dd>&lt;NA&gt;</dd>\n",
       "\t<dt>L(dy, 3)</dt>\n",
       "\t\t<dd>&lt;NA&gt;</dd>\n",
       "\t<dt>L(dy, 4)</dt>\n",
       "\t\t<dd>&lt;NA&gt;</dd>\n",
       "</dl>\n"
      ],
      "text/latex": [
       "\\begin{description*}\n",
       "\\item[(Intercept)] -3.58994582235819e-17\n",
       "\\item[L(y\\{{[}\\}-1\\{{]}\\})] -8.01294347662501e-18\n",
       "\\item[L(dy)] 1\n",
       "\\item[L(dy, 2)] <NA>\n",
       "\\item[L(dy, 3)] <NA>\n",
       "\\item[L(dy, 4)] <NA>\n",
       "\\end{description*}\n"
      ],
      "text/markdown": [
       "(Intercept)\n",
       ":   -3.58994582235819e-17L(y[-1])\n",
       ":   -8.01294347662501e-18L(dy)\n",
       ":   1L(dy, 2)\n",
       ":   &lt;NA&gt;L(dy, 3)\n",
       ":   &lt;NA&gt;L(dy, 4)\n",
       ":   &lt;NA&gt;\n",
       "\n"
      ],
      "text/plain": [
       "  (Intercept)      L(y[-1])         L(dy)      L(dy, 2)      L(dy, 3) \n",
       "-3.589946e-17 -8.012943e-18  1.000000e+00            NA            NA \n",
       "     L(dy, 4) \n",
       "           NA "
      ]
     },
     "metadata": {},
     "output_type": "display_data"
    }
   ],
   "source": [
    "y <- coint$y\n",
    "z <- coint$z\n",
    "w <- coint$w\n",
    "dy <- diff(coint$y)\n",
    "dz <- diff(coint$z)\n",
    "dw <- diff(coint$w)\n",
    "\n",
    "dynlm(dy ~ L(y[-1])+0)\n",
    "dynlm(dz ~ L(z[-1])+0)\n",
    "dynlm(dw ~ L(w[-1])+0)\n",
    "\n",
    "dynlm(dy ~ L(y[-1]) + L(dy) + L(dy,2) + L(dy,3) + L(dy,4))$coefficient\n",
    "#dynlm(dz ~ L(z[-1]), data=coint)$coefficient\n",
    "#dynlm(dw ~ L(w[-1]), data=coint)$coefficient"
   ]
  },
  {
   "cell_type": "code",
   "execution_count": 27,
   "metadata": {},
   "outputs": [
    {
     "data": {
      "text/plain": [
       "\n",
       "Time series regression with \"numeric\" data:\n",
       "Start = 1, End = 99\n",
       "\n",
       "Call:\n",
       "dynlm(formula = dres_y ~ L(res_y[-1]))\n",
       "\n",
       "Coefficients:\n",
       " (Intercept)  L(res_y[-1])  \n",
       "    0.008704      0.457770  \n"
      ]
     },
     "metadata": {},
     "output_type": "display_data"
    }
   ],
   "source": [
    "res_y <- reg_y$residuals\n",
    "dres_y <- diff(res_y)\n",
    "dynlm(dres_y ~ L(res_y[-1]))"
   ]
  },
  {
   "cell_type": "code",
   "execution_count": null,
   "metadata": {},
   "outputs": [],
   "source": []
  },
  {
   "cell_type": "code",
   "execution_count": null,
   "metadata": {},
   "outputs": [],
   "source": []
  },
  {
   "cell_type": "code",
   "execution_count": null,
   "metadata": {},
   "outputs": [],
   "source": []
  },
  {
   "cell_type": "markdown",
   "metadata": {},
   "source": [
    "# Excercise 4 (a,b,c)"
   ]
  },
  {
   "cell_type": "code",
   "execution_count": null,
   "metadata": {},
   "outputs": [],
   "source": []
  },
  {
   "cell_type": "code",
   "execution_count": null,
   "metadata": {},
   "outputs": [],
   "source": []
  },
  {
   "cell_type": "code",
   "execution_count": null,
   "metadata": {},
   "outputs": [],
   "source": []
  },
  {
   "cell_type": "markdown",
   "metadata": {},
   "source": [
    "# Excercise 9"
   ]
  },
  {
   "cell_type": "code",
   "execution_count": null,
   "metadata": {},
   "outputs": [],
   "source": []
  },
  {
   "cell_type": "code",
   "execution_count": null,
   "metadata": {},
   "outputs": [],
   "source": []
  },
  {
   "cell_type": "markdown",
   "metadata": {},
   "source": [
    "# Excercise 10"
   ]
  },
  {
   "cell_type": "code",
   "execution_count": null,
   "metadata": {},
   "outputs": [],
   "source": []
  },
  {
   "cell_type": "code",
   "execution_count": null,
   "metadata": {},
   "outputs": [],
   "source": []
  },
  {
   "cell_type": "code",
   "execution_count": null,
   "metadata": {},
   "outputs": [],
   "source": []
  },
  {
   "cell_type": "code",
   "execution_count": null,
   "metadata": {},
   "outputs": [],
   "source": []
  }
 ],
 "metadata": {
  "kernelspec": {
   "display_name": "R",
   "language": "R",
   "name": "ir"
  },
  "language_info": {
   "codemirror_mode": "r",
   "file_extension": ".r",
   "mimetype": "text/x-r-source",
   "name": "R",
   "pygments_lexer": "r",
   "version": "3.5.1"
  }
 },
 "nbformat": 4,
 "nbformat_minor": 2
}
