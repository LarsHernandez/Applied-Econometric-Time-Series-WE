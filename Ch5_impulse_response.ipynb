{
 "cells": [
  {
   "cell_type": "markdown",
   "metadata": {},
   "source": [
    "# Impulse Response Function\n",
    "This notebook goes through simulation of structural VAR models (chalecki decomposition) and their Impulse Response Functions. It also goes through two different ways of analytically calculate the IRF from parametres of the sVAR models. It replicates the results of Enders p. 297"
   ]
  },
  {
   "cell_type": "code",
   "execution_count": 2,
   "metadata": {},
   "outputs": [
    {
     "name": "stderr",
     "output_type": "stream",
     "text": [
      "-- Attaching packages --------------------------------------- tidyverse 1.2.1 --\n",
      "v ggplot2 3.1.0     v purrr   0.2.5\n",
      "v tibble  1.4.2     v dplyr   0.7.7\n",
      "v tidyr   0.8.2     v stringr 1.3.1\n",
      "v readr   1.1.1     v forcats 0.3.0\n",
      "-- Conflicts ------------------------------------------ tidyverse_conflicts() --\n",
      "x dplyr::filter() masks stats::filter()\n",
      "x dplyr::lag()    masks stats::lag()\n",
      "\n",
      "Attaching package: 'gridExtra'\n",
      "\n",
      "The following object is masked from 'package:dplyr':\n",
      "\n",
      "    combine\n",
      "\n",
      "Loading required package: parallel\n",
      "\n",
      "Attaching package: 'rugarch'\n",
      "\n",
      "The following object is masked from 'package:purrr':\n",
      "\n",
      "    reduce\n",
      "\n",
      "The following object is masked from 'package:stats':\n",
      "\n",
      "    sigma\n",
      "\n",
      "Loading required package: zoo\n",
      "\n",
      "Attaching package: 'zoo'\n",
      "\n",
      "The following objects are masked from 'package:base':\n",
      "\n",
      "    as.Date, as.Date.numeric\n",
      "\n",
      "Loading required package: carData\n",
      "\n",
      "Attaching package: 'car'\n",
      "\n",
      "The following object is masked from 'package:dplyr':\n",
      "\n",
      "    recode\n",
      "\n",
      "The following object is masked from 'package:purrr':\n",
      "\n",
      "    some\n",
      "\n",
      "Loading required package: MASS\n",
      "\n",
      "Attaching package: 'MASS'\n",
      "\n",
      "The following object is masked from 'package:dplyr':\n",
      "\n",
      "    select\n",
      "\n",
      "Loading required package: strucchange\n",
      "Loading required package: sandwich\n",
      "\n",
      "Attaching package: 'strucchange'\n",
      "\n",
      "The following object is masked from 'package:stringr':\n",
      "\n",
      "    boundary\n",
      "\n",
      "Loading required package: lmtest\n",
      "Loading required package: Matrix\n",
      "\n",
      "Attaching package: 'Matrix'\n",
      "\n",
      "The following object is masked from 'package:tidyr':\n",
      "\n",
      "    expand\n",
      "\n",
      "\n",
      "Attaching package: 'expm'\n",
      "\n",
      "The following object is masked from 'package:Matrix':\n",
      "\n",
      "    expm\n",
      "\n"
     ]
    }
   ],
   "source": [
    "library(tidyverse) # readr, ggplot, dplyr, ...\n",
    "library(gridExtra) # Arrangning ggplots\n",
    "library(readxl)    # Loading excel\n",
    "library(repr)      # Resizing the plots in jupyter\n",
    "library(rugarch)   # For ARCH and GARCH models\n",
    "library(dynlm)     # Lagged linear models\n",
    "library(urca)      # Dick Fuller test\n",
    "library(car)       # Linear hyphothesis testing\n",
    "library(tseries)   # adf-test\n",
    "library(vars)      # VAR models\n",
    "library(zoo)       # Convert quarters to date\n",
    "library(expm)      # Matrix calculations \n",
    "library(forecast)  \n",
    "\n",
    "options(repr.plot.width=8, repr.plot.height=3)"
   ]
  },
  {
   "cell_type": "markdown",
   "metadata": {},
   "source": [
    "## Function to plot IRF"
   ]
  },
  {
   "cell_type": "code",
   "execution_count": 3,
   "metadata": {},
   "outputs": [],
   "source": [
    "irf_lars <- function(x, nsim = 100, p=1) {\n",
    "    m <- VAR(x, p = p, type = \"const\")\n",
    "    number <- ncol(x)\n",
    "    chart_title <- substitute(paste(\"VAR(\",p,\") model with \", number,\" variables\"))\n",
    "psim <- as.data.frame(x)\n",
    "psim$n <- c(1:nsim)\n",
    "psim <- gather(psim, variable, value, -n)\n",
    "\n",
    "p1 <- ggplot(psim, aes(n, value, linetype=variable)) + \n",
    " geom_line(color=\"#045a8d\") + \n",
    " labs(title=chart_title, x=\"\", y=\"\")\n",
    "\n",
    "data <- irf(m, nsteps = 12, n.ahead=20)\n",
    "variables <- data$irf %>% names\n",
    "\n",
    "ir <- lapply(1:length(variables), function(e){\n",
    "    data_to_plot <- data.frame(data %>% `$`(irf) %>% `[[`(variables[e])) %>%\n",
    "      mutate(\"t\" = 1:NROW(.)) %>%\n",
    "      gather(.,Variable, Value, -t)\n",
    "\n",
    "    upper_ci <- data.frame(data %>% `$`(Upper) %>% `[[`(variables[e])) %>%\n",
    "      mutate(\"t\" = 1:NROW(.)) %>%\n",
    "      gather(.,Variable, Upper, -t)\n",
    "\n",
    "    lower_ci <- data.frame(data %>% `$`(Lower) %>% `[[`(variables[e]) ) %>%\n",
    "      mutate(\"t\" = 1:NROW(.)) %>%\n",
    "      gather(.,Variable, Lower, -t)\n",
    "\n",
    "    res <- inner_join(data_to_plot, upper_ci, c(\"t\",\"Variable\")) %>%\n",
    "           inner_join(.,lower_ci, c(\"t\",\"Variable\")) %>%\n",
    "           mutate(impulse = paste(\"Shock to\", variables[e])) \n",
    "}) %>% bind_rows\n",
    "\n",
    "p2 <- ggplot(ir, aes(x = t, y = Value, group = Variable))  +\n",
    "  geom_line(color=\"#045a8d\") +\n",
    "  geom_ribbon(aes(x=t, ymax=Upper, ymin=Lower), alpha=0.15, fill=\"#045a8d\") +\n",
    "  scale_x_continuous(limits = c(0,21), breaks = seq(0,20,4)) +\n",
    "  scale_y_continuous(\"\", position=\"right\") +\n",
    "  labs(title=\"Impulse Response Functions\", x=\"\") +\n",
    "  facet_grid(Variable ~ impulse, switch=\"y\")\n",
    "\n",
    "grid.arrange(p1,p2, nrow=1)\n",
    "}"
   ]
  },
  {
   "cell_type": "markdown",
   "metadata": {},
   "source": [
    "Important both models are limited in that they contain a identification restriction\n",
    "$$ e_{1t} = \\varepsilon_{yt} - b_{12}\\varepsilon_{zt}$$\n",
    "$$ e_{2t} = \\varepsilon_{zt} $$\n",
    "This means that there is no contemporary effect from $y_t$ to $z_t$ but only the other way round. In effect this is implemented as:\n",
    "$$ e_{1t} = \\varepsilon_{yt} + 0.8\\varepsilon_{zt}$$\n",
    "$$ e_{2t} = \\varepsilon_{zt} $$"
   ]
  },
  {
   "cell_type": "markdown",
   "metadata": {},
   "source": [
    "# 2 variable sVAR model - positive off-diagonal elements of $A_1$"
   ]
  },
  {
   "cell_type": "code",
   "execution_count": 4,
   "metadata": {},
   "outputs": [],
   "source": [
    "yt <- c(0)\n",
    "zt <- c(0)\n",
    "nsim <- 200\n",
    "\n",
    "for (i in 2:nsim) {\n",
    "    ey <- rnorm(1)\n",
    "    ez <- rnorm(1)\n",
    "    yt[i] <- 0.7*yt[i-1] + 0.2*zt[i-1] + (ey)\n",
    "    zt[i] <- 0.7*zt[i-1] + 0.2*yt[i-1] + (ez+0.8*ey)\n",
    "}\n",
    "sim <- cbind(zt, yt)"
   ]
  },
  {
   "cell_type": "markdown",
   "metadata": {},
   "source": [
    "$$\n",
    "\\begin{bmatrix} y_t \\\\ z_t \\end{bmatrix}\n",
    "=\n",
    "\\begin{bmatrix} 0.7 & 0.2 \\\\ 0.2 & 0.7 \\end{bmatrix}\n",
    "\\cdot\n",
    "\\begin{bmatrix} y_{t-1} \\\\ z_{t-1} \\end{bmatrix}\n",
    "+\n",
    "\\begin{bmatrix} e_{1t} \\\\ e_{2t} \\end{bmatrix}\n",
    "\\qquad\n",
    "B_0 = \\begin{bmatrix} 1 & 0.8 \\\\ 0 & 1 \\end{bmatrix}\n",
    "$$"
   ]
  },
  {
   "cell_type": "code",
   "execution_count": 5,
   "metadata": {},
   "outputs": [
    {
     "data": {
      "image/png": "[encoded data removed]",
      "text/plain": [
       "plot without title"
      ]
     },
     "metadata": {},
     "output_type": "display_data"
    }
   ],
   "source": [
    "irf_lars(sim, nsim=200, p=1)"
   ]
  },
  {
   "cell_type": "code",
   "execution_count": 12,
   "metadata": {},
   "outputs": [],
   "source": [
    "# VAR(sim, p = 1, type = \"const\")"
   ]
  },
  {
   "cell_type": "markdown",
   "metadata": {},
   "source": [
    "# 2 variable sVAR model - negative off-diagonal elements of $A_1$"
   ]
  },
  {
   "cell_type": "code",
   "execution_count": 28,
   "metadata": {},
   "outputs": [],
   "source": [
    "yt <- c(0)\n",
    "zt <- c(0)\n",
    "nsim <- 200\n",
    "\n",
    "for (i in 2:nsim) {\n",
    "    ey <- rnorm(1) \n",
    "    ez <- rnorm(1)\n",
    "    yt[i] <- 0.7*yt[i-1] - 0.2*zt[i-1] + (ey + 0.8*ez)\n",
    "    zt[i] <- 0.7*zt[i-1] - 0.2*yt[i-1] + (ez)\n",
    "}\n",
    "sim2 <- cbind(zt, yt)"
   ]
  },
  {
   "cell_type": "markdown",
   "metadata": {},
   "source": [
    "$$\n",
    "\\begin{bmatrix} y_t \\\\ z_t \\end{bmatrix}\n",
    "=\n",
    "\\begin{bmatrix} 0.7 & -0.2 \\\\ -0.2 & 0.7 \\end{bmatrix}\n",
    "\\cdot\n",
    "\\begin{bmatrix} y_{t-1} \\\\ z_{t-1} \\end{bmatrix}\n",
    "+\n",
    "\\begin{bmatrix} e_{1t} \\\\ e_{2t} \\end{bmatrix}\n",
    "\\qquad\n",
    "B_0 = \\begin{bmatrix} 1 & 0 \\\\ 0.8 & 1 \\end{bmatrix}\n",
    "$$"
   ]
  },
  {
   "cell_type": "code",
   "execution_count": 29,
   "metadata": {},
   "outputs": [
    {
     "data": {
      "image/png": "[encoded data removed]",
      "text/plain": [
       "plot without title"
      ]
     },
     "metadata": {},
     "output_type": "display_data"
    }
   ],
   "source": [
    "irf_lars(sim2, nsim=200, p=1)"
   ]
  },
  {
   "cell_type": "code",
   "execution_count": 15,
   "metadata": {},
   "outputs": [],
   "source": [
    "# VAR(sim2, p = 1, type = \"const\")"
   ]
  },
  {
   "cell_type": "code",
   "execution_count": 16,
   "metadata": {},
   "outputs": [],
   "source": [
    "#m <- VAR(as.ts(sim2), p = 1, type = \"const\")\n",
    "#forecast(m) %>% autoplot()"
   ]
  },
  {
   "cell_type": "markdown",
   "metadata": {},
   "source": [
    "# 3 variable VAR model\n",
    "\n",
    "First we need to check a system of equations which is stationary"
   ]
  },
  {
   "cell_type": "code",
   "execution_count": 17,
   "metadata": {},
   "outputs": [
    {
     "data": {
      "text/html": [
       "<table>\n",
       "<tbody>\n",
       "\t<tr><td>0.5</td><td>0.2</td><td>0.1</td></tr>\n",
       "\t<tr><td>0.2</td><td>0.1</td><td>0.1</td></tr>\n",
       "\t<tr><td>0.1</td><td>0.3</td><td>0.9</td></tr>\n",
       "</tbody>\n",
       "</table>\n"
      ],
      "text/latex": [
       "\\begin{tabular}{lll}\n",
       "\t 0.5 & 0.2 & 0.1\\\\\n",
       "\t 0.2 & 0.1 & 0.1\\\\\n",
       "\t 0.1 & 0.3 & 0.9\\\\\n",
       "\\end{tabular}\n"
      ],
      "text/markdown": [
       "\n",
       "| 0.5 | 0.2 | 0.1 | \n",
       "| 0.2 | 0.1 | 0.1 | \n",
       "| 0.1 | 0.3 | 0.9 | \n",
       "\n",
       "\n"
      ],
      "text/plain": [
       "     [,1] [,2] [,3]\n",
       "[1,] 0.5  0.2  0.1 \n",
       "[2,] 0.2  0.1  0.1 \n",
       "[3,] 0.1  0.3  0.9 "
      ]
     },
     "metadata": {},
     "output_type": "display_data"
    },
    {
     "name": "stdout",
     "output_type": "stream",
     "text": [
      "[1] 0.981341767 0.516686024 0.001972209\n"
     ]
    }
   ],
   "source": [
    "yy=0.5; yz=0.2; yx=0.1\n",
    "zy=0.2; zz=0.1; zx=0.1\n",
    "xy=0.1; xz=0.3; xx=0.9\n",
    "\n",
    "ma <- matrix(c(yy, yz, yx,\n",
    "               zy, zz, zx,\n",
    "               xy, xz, xx), nrow=3, byrow=T)\n",
    "ma\n",
    "\n",
    "print(Mod(eigen(ma)$values))"
   ]
  },
  {
   "cell_type": "markdown",
   "metadata": {},
   "source": [
    "If the values are all within unity we can proceed"
   ]
  },
  {
   "cell_type": "code",
   "execution_count": 32,
   "metadata": {},
   "outputs": [],
   "source": [
    "yt <- c(0)\n",
    "zt <- c(0)\n",
    "xt <- c(0)\n",
    "nsim <- 200\n",
    "\n",
    "for (i in 2:nsim) {\n",
    "    ey <- rnorm(1) \n",
    "    ez <- rnorm(1)\n",
    "    ex <- rnorm(1)\n",
    "    yt[i] <- yy*yt[i-1] + yz*zt[i-1] + yx*xt[i-1] + ey\n",
    "    zt[i] <- zy*yt[i-1] + zz*zt[i-1] + zx*xt[i-1] + ez\n",
    "    xt[i] <- xy*yt[i-1] + xz*zt[i-1] + xx*xt[i-1] + ex\n",
    "}\n",
    "sim <- cbind(zt, yt, xt)"
   ]
  },
  {
   "cell_type": "markdown",
   "metadata": {},
   "source": [
    "$$\n",
    "\\begin{bmatrix} y_t \\\\ z_t \\\\ x_t \\end{bmatrix}\n",
    "=\n",
    "\\begin{bmatrix} 0.5 & 0.2 & 0.1 \\\\ 0.2 & 0.1 & 0.1 \\\\ 0.1 & 0.3 & 0.9 \\end{bmatrix}\n",
    "\\cdot\n",
    "\\begin{bmatrix} y_{t-1} \\\\ z_{t-1} \\\\ x_{t-1} \\end{bmatrix}\n",
    "+\n",
    "\\begin{bmatrix} e_{1t} \\\\ e_{2t} \\\\ e_{3t} \\end{bmatrix}\n",
    "\\qquad\n",
    "B_0 = \\begin{bmatrix} 1 & 0 & 0 \\\\ 0 & 1 & 0 \\\\ 0 & 0 & 1 \\end{bmatrix}\n",
    "$$"
   ]
  },
  {
   "cell_type": "code",
   "execution_count": 32,
   "metadata": {},
   "outputs": [
    {
     "data": {
      "image/png": "[encoded data removed]",
      "text/plain": [
       "plot without title"
      ]
     },
     "metadata": {},
     "output_type": "display_data"
    }
   ],
   "source": [
    "irf_lars(sim, nsim=200, p=1)"
   ]
  },
  {
   "cell_type": "markdown",
   "metadata": {},
   "source": [
    "## How manny lags do the vars package suggest by different selection models?\n",
    "The answer is by no surprise 1, as we simulates data with 1 lag."
   ]
  },
  {
   "cell_type": "code",
   "execution_count": 116,
   "metadata": {},
   "outputs": [
    {
     "name": "stdout",
     "output_type": "stream",
     "text": [
      "AIC(n)  HQ(n)  SC(n) FPE(n) \n",
      "     1      1      1      1 \n"
     ]
    }
   ],
   "source": [
    "print(VARselect(sim, lag.max=8, type=\"const\")[[\"selection\"]])"
   ]
  },
  {
   "cell_type": "code",
   "execution_count": 117,
   "metadata": {},
   "outputs": [],
   "source": [
    "#m <- VAR(as.ts(sim), p = 1, type = \"const\")\n",
    "#forecast(m) %>% autoplot()"
   ]
  },
  {
   "cell_type": "markdown",
   "metadata": {},
   "source": [
    "# 3 variable sVAR model\n",
    "First i calculate the number of restricted paramatres i need"
   ]
  },
  {
   "cell_type": "code",
   "execution_count": 23,
   "metadata": {},
   "outputs": [
    {
     "data": {
      "text/html": [
       "3"
      ],
      "text/latex": [
       "3"
      ],
      "text/markdown": [
       "3"
      ],
      "text/plain": [
       "[1] 3"
      ]
     },
     "metadata": {},
     "output_type": "display_data"
    }
   ],
   "source": [
    "n <- 3\n",
    "(n^2-n)/2"
   ]
  },
  {
   "cell_type": "markdown",
   "metadata": {},
   "source": [
    "I then apply the choleski decomposition as can be seen from the $B_0$ matrix, it's important that the ordering makes sense because it changes the response functions. the order i use is $\\{y_t, z_t, x_t\\}$"
   ]
  },
  {
   "cell_type": "code",
   "execution_count": 35,
   "metadata": {},
   "outputs": [
    {
     "name": "stdout",
     "output_type": "stream",
     "text": [
      "[1] 0.9 0.5 0.1\n"
     ]
    }
   ],
   "source": [
    "rm(ey); rm(ex); rm(ez)\n",
    "\n",
    "yy=0.5; yz=0.0; yx=0.0\n",
    "zy=0.2; zz=0.1; zx=0.0\n",
    "xy=0.1; xz=0.3; xx=0.9\n",
    "\n",
    "ma <- matrix(c(yy, yz, yx,\n",
    "               zy, zz, zx,\n",
    "               xy, xz, xx), nrow=3, byrow=T)\n",
    "\n",
    "print(Mod(eigen(ma)$values))\n",
    "\n",
    "yt <- c(0)\n",
    "zt <- c(0)\n",
    "xt <- c(0)\n",
    "nsim <- 200\n",
    "\n",
    "for (i in 2:nsim) {\n",
    "    ey <- rnorm(1) \n",
    "    ez <- rnorm(1) + 0.7*ey\n",
    "    ex <- rnorm(1) + 0.7*ey + 0.7*ez\n",
    "    yt[i] <- yy*yt[i-1] + yz*zt[i-1] + yx*xt[i-1] + ey\n",
    "    zt[i] <- zy*yt[i-1] + zz*zt[i-1] + zx*xt[i-1] + ez\n",
    "    xt[i] <- xy*yt[i-1] + xz*zt[i-1] + xx*xt[i-1] + ex\n",
    "}\n",
    "sim <- cbind(zt, yt, xt)"
   ]
  },
  {
   "cell_type": "markdown",
   "metadata": {},
   "source": [
    "$$\n",
    "\\begin{bmatrix} y_t \\\\ z_t \\\\ x_t \\end{bmatrix}\n",
    "=\n",
    "\\begin{bmatrix} 0.5 & 0.0 & 0.0 \\\\ 0.2 & 0.1 & 0.0 \\\\ 0.1 & 0.3 & 0.9 \\end{bmatrix}\n",
    "\\cdot\n",
    "\\begin{bmatrix} y_{t-1} \\\\ z_{t-1} \\\\ x_{t-1} \\end{bmatrix}\n",
    "+\n",
    "\\begin{bmatrix} e_{1t} \\\\ e_{2t} \\\\ e_{3t} \\end{bmatrix}\n",
    "\\qquad\n",
    "B_0 = \\begin{bmatrix} 1 & 0 & 0 \\\\ 0.7 & 1 & 0 \\\\ 0.7 & 0.7 & 1 \\end{bmatrix}\n",
    "$$"
   ]
  },
  {
   "cell_type": "code",
   "execution_count": 36,
   "metadata": {},
   "outputs": [
    {
     "data": {
      "image/png": "[encoded data removed]",
      "text/plain": [
       "plot without title"
      ]
     },
     "metadata": {},
     "output_type": "display_data"
    }
   ],
   "source": [
    "irf_lars(sim, nsim=200, p=1)"
   ]
  },
  {
   "cell_type": "code",
   "execution_count": 37,
   "metadata": {},
   "outputs": [],
   "source": [
    "#VAR(sim, p = 1, type = \"const\")"
   ]
  },
  {
   "cell_type": "markdown",
   "metadata": {},
   "source": [
    "# Analytic solution by matrix"
   ]
  },
  {
   "cell_type": "markdown",
   "metadata": {},
   "source": [
    "$$\n",
    "\\phi_i = \\frac{A^i_1}{1-b_{12}b_{21}}\n",
    "\\begin{bmatrix} 1 & b_{12} \\\\ b_{21} & 1 \\end{bmatrix}\n",
    "$$\n",
    "\n",
    "In pratice when we use the parametres, and a choleski decomposition from the first model we can do the following:\n",
    "\n",
    "$$\n",
    "\\phi_i = \\frac{A^i_1}{1-0 * 0.8}\n",
    "\\begin{bmatrix} 1 & 0 \\\\ 0.8 & 1 \\end{bmatrix}\n",
    "$$\n",
    "\n",
    "$$\n",
    "\\phi_i = A^i_1\n",
    "\\begin{bmatrix} 1 & 0 \\\\ 0.8 & 1 \\end{bmatrix}\n",
    "$$\n",
    "\n",
    "$$\n",
    "\\phi_i = \n",
    "\\begin{bmatrix} 0.7 & 0.2 \\\\ 0.2 & 0.7 \\end{bmatrix}^i\n",
    "\\begin{bmatrix} 1 & 0 \\\\ 0.8 & 1 \\end{bmatrix}\n",
    "$$"
   ]
  },
  {
   "cell_type": "code",
   "execution_count": 38,
   "metadata": {},
   "outputs": [
    {
     "data": {
      "text/html": [
       "<table>\n",
       "<thead><tr><th scope=col>1. shock in yt on yt</th><th scope=col>2. shock in zt on yt</th><th scope=col>3. shock in yt on zt</th><th scope=col>4. shock in zt on zt</th><th scope=col>n</th></tr></thead>\n",
       "<tbody>\n",
       "\t<tr><td>1.00000 </td><td>0.800000</td><td>0.00000 </td><td>1.000000</td><td>1       </td></tr>\n",
       "\t<tr><td>0.70000 </td><td>0.760000</td><td>0.20000 </td><td>0.860000</td><td>2       </td></tr>\n",
       "\t<tr><td>0.53000 </td><td>0.704000</td><td>0.28000 </td><td>0.754000</td><td>3       </td></tr>\n",
       "\t<tr><td>0.42700 </td><td>0.643600</td><td>0.30200 </td><td>0.668600</td><td>4       </td></tr>\n",
       "\t<tr><td>0.35930 </td><td>0.584240</td><td>0.29680 </td><td>0.596740</td><td>5       </td></tr>\n",
       "\t<tr><td>0.31087 </td><td>0.528316</td><td>0.27962 </td><td>0.534566</td><td>6       </td></tr>\n",
       "</tbody>\n",
       "</table>\n"
      ],
      "text/latex": [
       "\\begin{tabular}{r|lllll}\n",
       " 1. shock in yt on yt & 2. shock in zt on yt & 3. shock in yt on zt & 4. shock in zt on zt & n\\\\\n",
       "\\hline\n",
       "\t 1.00000  & 0.800000 & 0.00000  & 1.000000 & 1       \\\\\n",
       "\t 0.70000  & 0.760000 & 0.20000  & 0.860000 & 2       \\\\\n",
       "\t 0.53000  & 0.704000 & 0.28000  & 0.754000 & 3       \\\\\n",
       "\t 0.42700  & 0.643600 & 0.30200  & 0.668600 & 4       \\\\\n",
       "\t 0.35930  & 0.584240 & 0.29680  & 0.596740 & 5       \\\\\n",
       "\t 0.31087  & 0.528316 & 0.27962  & 0.534566 & 6       \\\\\n",
       "\\end{tabular}\n"
      ],
      "text/markdown": [
       "\n",
       "1. shock in yt on yt | 2. shock in zt on yt | 3. shock in yt on zt | 4. shock in zt on zt | n | \n",
       "|---|---|---|---|---|---|\n",
       "| 1.00000  | 0.800000 | 0.00000  | 1.000000 | 1        | \n",
       "| 0.70000  | 0.760000 | 0.20000  | 0.860000 | 2        | \n",
       "| 0.53000  | 0.704000 | 0.28000  | 0.754000 | 3        | \n",
       "| 0.42700  | 0.643600 | 0.30200  | 0.668600 | 4        | \n",
       "| 0.35930  | 0.584240 | 0.29680  | 0.596740 | 5        | \n",
       "| 0.31087  | 0.528316 | 0.27962  | 0.534566 | 6        | \n",
       "\n",
       "\n"
      ],
      "text/plain": [
       "  1. shock in yt on yt 2. shock in zt on yt 3. shock in yt on zt\n",
       "1 1.00000              0.800000             0.00000             \n",
       "2 0.70000              0.760000             0.20000             \n",
       "3 0.53000              0.704000             0.28000             \n",
       "4 0.42700              0.643600             0.30200             \n",
       "5 0.35930              0.584240             0.29680             \n",
       "6 0.31087              0.528316             0.27962             \n",
       "  4. shock in zt on zt n\n",
       "1 1.000000             1\n",
       "2 0.860000             2\n",
       "3 0.754000             3\n",
       "4 0.668600             4\n",
       "5 0.596740             5\n",
       "6 0.534566             6"
      ]
     },
     "metadata": {},
     "output_type": "display_data"
    }
   ],
   "source": [
    "A <- matrix(c(0.7,0.2,0.2,0.7), byrow=T,nrow=2)\n",
    "b <- matrix(c(1,0,0.8,1), byrow=T,nrow=2)\n",
    "\n",
    "row <- data.frame(NA,NA,NA,NA)\n",
    "\n",
    "for (i in 0:19) {\n",
    "    row[i+1,] <- t(as.vector(b %*% (A %^% i)))\n",
    "}\n",
    "\n",
    "row$n <- 1:20\n",
    "colnames(row) <- c(\"1. shock in yt on yt\", \"2. shock in zt on yt\", \"3. shock in yt on zt\", \"4. shock in zt on zt\", \"n\")\n",
    "df <- gather(row, variable, value, -n)\n",
    "\n",
    "p1 <- ggplot(df, aes(n, value)) + \n",
    "geom_line() + \n",
    "facet_wrap(~variable) + \n",
    "labs(title=\"Matrix solution\")\n",
    "\n",
    "head(row)"
   ]
  },
  {
   "cell_type": "markdown",
   "metadata": {},
   "source": [
    "# Analytic solution by iteration"
   ]
  },
  {
   "cell_type": "code",
   "execution_count": 39,
   "metadata": {},
   "outputs": [
    {
     "data": {
      "text/html": [
       "<table>\n",
       "<thead><tr><th></th><th scope=col>4. shock in zt on zt</th><th scope=col>3. shock in yt on zt</th><th scope=col>2. shock in zt on yt</th><th scope=col>1. shock in yt on yt</th><th scope=col>n</th></tr></thead>\n",
       "<tbody>\n",
       "\t<tr><th scope=row>2</th><td>1.000000</td><td>0.00000 </td><td>0.800000</td><td>1.00000 </td><td>1       </td></tr>\n",
       "\t<tr><th scope=row>3</th><td>0.860000</td><td>0.20000 </td><td>0.760000</td><td>0.70000 </td><td>2       </td></tr>\n",
       "\t<tr><th scope=row>4</th><td>0.754000</td><td>0.28000 </td><td>0.704000</td><td>0.53000 </td><td>3       </td></tr>\n",
       "\t<tr><th scope=row>5</th><td>0.668600</td><td>0.30200 </td><td>0.643600</td><td>0.42700 </td><td>4       </td></tr>\n",
       "\t<tr><th scope=row>6</th><td>0.596740</td><td>0.29680 </td><td>0.584240</td><td>0.35930 </td><td>5       </td></tr>\n",
       "\t<tr><th scope=row>7</th><td>0.534566</td><td>0.27962 </td><td>0.528316</td><td>0.31087 </td><td>6       </td></tr>\n",
       "</tbody>\n",
       "</table>\n"
      ],
      "text/latex": [
       "\\begin{tabular}{r|lllll}\n",
       "  & 4. shock in zt on zt & 3. shock in yt on zt & 2. shock in zt on yt & 1. shock in yt on yt & n\\\\\n",
       "\\hline\n",
       "\t2 & 1.000000 & 0.00000  & 0.800000 & 1.00000  & 1       \\\\\n",
       "\t3 & 0.860000 & 0.20000  & 0.760000 & 0.70000  & 2       \\\\\n",
       "\t4 & 0.754000 & 0.28000  & 0.704000 & 0.53000  & 3       \\\\\n",
       "\t5 & 0.668600 & 0.30200  & 0.643600 & 0.42700  & 4       \\\\\n",
       "\t6 & 0.596740 & 0.29680  & 0.584240 & 0.35930  & 5       \\\\\n",
       "\t7 & 0.534566 & 0.27962  & 0.528316 & 0.31087  & 6       \\\\\n",
       "\\end{tabular}\n"
      ],
      "text/markdown": [
       "\n",
       "| <!--/--> | 4. shock in zt on zt | 3. shock in yt on zt | 2. shock in zt on yt | 1. shock in yt on yt | n | \n",
       "|---|---|---|---|---|---|\n",
       "| 2 | 1.000000 | 0.00000  | 0.800000 | 1.00000  | 1        | \n",
       "| 3 | 0.860000 | 0.20000  | 0.760000 | 0.70000  | 2        | \n",
       "| 4 | 0.754000 | 0.28000  | 0.704000 | 0.53000  | 3        | \n",
       "| 5 | 0.668600 | 0.30200  | 0.643600 | 0.42700  | 4        | \n",
       "| 6 | 0.596740 | 0.29680  | 0.584240 | 0.35930  | 5        | \n",
       "| 7 | 0.534566 | 0.27962  | 0.528316 | 0.31087  | 6        | \n",
       "\n",
       "\n"
      ],
      "text/plain": [
       "  4. shock in zt on zt 3. shock in yt on zt 2. shock in zt on yt\n",
       "2 1.000000             0.00000              0.800000            \n",
       "3 0.860000             0.20000              0.760000            \n",
       "4 0.754000             0.28000              0.704000            \n",
       "5 0.668600             0.30200              0.643600            \n",
       "6 0.596740             0.29680              0.584240            \n",
       "7 0.534566             0.27962              0.528316            \n",
       "  1. shock in yt on yt n\n",
       "2 1.00000              1\n",
       "3 0.70000              2\n",
       "4 0.53000              3\n",
       "5 0.42700              4\n",
       "6 0.35930              5\n",
       "7 0.31087              6"
      ]
     },
     "metadata": {},
     "output_type": "display_data"
    }
   ],
   "source": [
    "yt <- c(0)\n",
    "zt <- c(0)\n",
    "yt2 <- c(0)\n",
    "zt2 <- c(0)\n",
    "nsim <- 21\n",
    "\n",
    "for (i in 2:nsim) {\n",
    "    ey <- c(rep(0,21))\n",
    "    ez <- c(1,rep(0,20))\n",
    "    yt[i] <- 0.7*yt[i-1] + 0.2*zt[i-1] + (ey[i-1]+0.8*ez[i-1])\n",
    "    zt[i] <- 0.7*zt[i-1] + 0.2*yt[i-1] + (ez[i-1])\n",
    "}\n",
    "\n",
    "for (i in 2:nsim) {\n",
    "    ey <- c(1,rep(0,20))\n",
    "    ez <- c(rep(0,21))\n",
    "    yt2[i] <- 0.7*yt2[i-1] + 0.2*zt2[i-1] + (ey[i-1]+0.8*ez[i-1])\n",
    "    zt2[i] <- 0.7*zt2[i-1] + 0.2*yt2[i-1] + (ez[i-1])\n",
    "}\n",
    "\n",
    "row <- as.data.frame(cbind(zt,zt2,yt,yt2))[-1,]\n",
    "row$n <- 1:20\n",
    "colnames(row) <- c(\"4. shock in zt on zt\", \"3. shock in yt on zt\", \"2. shock in zt on yt\", \"1. shock in yt on yt\", \"n\")\n",
    "df <- gather(row, variable, value, -n)\n",
    "\n",
    "p2 <- ggplot(df, aes(n, value)) + \n",
    "geom_line() + \n",
    "facet_wrap(~variable) + \n",
    "labs(title=\"Iterative solution\")\n",
    "\n",
    "head(row)"
   ]
  },
  {
   "cell_type": "markdown",
   "metadata": {},
   "source": [
    "$$\n",
    "\\begin{bmatrix} y_t \\\\ z_t \\end{bmatrix}\n",
    "=\n",
    "\\begin{bmatrix} 0.7 & 0.2 \\\\ 0.2 & 0.7 \\end{bmatrix}\n",
    "\\cdot\n",
    "\\begin{bmatrix} y_{t-1} \\\\ z_{t-1} \\end{bmatrix}\n",
    "+\n",
    "\\begin{bmatrix} e_{1t} \\\\ e_{2t} \\end{bmatrix}\n",
    "$$"
   ]
  },
  {
   "cell_type": "code",
   "execution_count": 40,
   "metadata": {},
   "outputs": [
    {
     "data": {
      "image/png": "[encoded data removed]",
      "text/plain": [
       "plot without title"
      ]
     },
     "metadata": {},
     "output_type": "display_data"
    }
   ],
   "source": [
    "grid.arrange(p1,p2,nrow=1)"
   ]
  }
 ],
 "metadata": {
  "kernelspec": {
   "display_name": "R",
   "language": "R",
   "name": "ir"
  },
  "language_info": {
   "codemirror_mode": "r",
   "file_extension": ".r",
   "mimetype": "text/x-r-source",
   "name": "R",
   "pygments_lexer": "r",
   "version": "3.5.1"
  }
 },
 "nbformat": 4,
 "nbformat_minor": 2
}
