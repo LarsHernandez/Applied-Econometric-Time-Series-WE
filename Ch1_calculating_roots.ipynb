{
 "cells": [
  {
   "cell_type": "markdown",
   "metadata": {},
   "source": [
    "# Introduction"
   ]
  },
  {
   "cell_type": "code",
   "execution_count": 1,
   "metadata": {},
   "outputs": [],
   "source": [
    "library(ggplot2) \n",
    "library(repr)\n",
    "\n",
    "options(repr.plot.width=4, repr.plot.height=2)"
   ]
  },
  {
   "cell_type": "markdown",
   "metadata": {},
   "source": [
    "# Non-imaginary roots WS 1.1\n",
    "$y_t = 0.2y_{t-1}+0.35y_{t-2}$"
   ]
  },
  {
   "cell_type": "code",
   "execution_count": 2,
   "metadata": {},
   "outputs": [
    {
     "data": {
      "text/html": [
       "1.44"
      ],
      "text/latex": [
       "1.44"
      ],
      "text/markdown": [
       "1.44"
      ],
      "text/plain": [
       "[1] 1.44"
      ]
     },
     "metadata": {},
     "output_type": "display_data"
    }
   ],
   "source": [
    "a1 <- 0.2\n",
    "a2 <- 0.35\n",
    "d <- a1^2 + 4*a2\n",
    "d"
   ]
  },
  {
   "cell_type": "code",
   "execution_count": 3,
   "metadata": {},
   "outputs": [
    {
     "data": {
      "text/html": [
       "0.7"
      ],
      "text/latex": [
       "0.7"
      ],
      "text/markdown": [
       "0.7"
      ],
      "text/plain": [
       "[1] 0.7"
      ]
     },
     "metadata": {},
     "output_type": "display_data"
    },
    {
     "data": {
      "text/html": [
       "-0.5"
      ],
      "text/latex": [
       "-0.5"
      ],
      "text/markdown": [
       "-0.5"
      ],
      "text/plain": [
       "[1] -0.5"
      ]
     },
     "metadata": {},
     "output_type": "display_data"
    }
   ],
   "source": [
    "0.5*(a1+d^0.5)\n",
    "0.5*(a1-d^0.5)"
   ]
  },
  {
   "cell_type": "markdown",
   "metadata": {},
   "source": [
    "Den homogene løsning er derfor:\n",
    "\n",
    "$A_1(0.7)^t + A_2(-0.5)^t$"
   ]
  },
  {
   "cell_type": "code",
   "execution_count": 4,
   "metadata": {},
   "outputs": [
    {
     "data": {},
     "metadata": {},
     "output_type": "display_data"
    },
    {
     "data": {
      "image/png": "[encoded data removed]",
      "text/plain": [
       "plot without title"
      ]
     },
     "metadata": {},
     "output_type": "display_data"
    }
   ],
   "source": [
    "vec <- 1:20\n",
    "res <- (0.7)^vec + (-0.5)^vec\n",
    "\n",
    "ggplot() + \n",
    "    geom_line(aes(vec,res))"
   ]
  },
  {
   "cell_type": "markdown",
   "metadata": {},
   "source": [
    "Et ekstra eksempel (som ikke er stationært)"
   ]
  },
  {
   "cell_type": "code",
   "execution_count": 5,
   "metadata": {},
   "outputs": [
    {
     "data": {},
     "metadata": {},
     "output_type": "display_data"
    },
    {
     "data": {
      "image/png": "[encoded data removed]",
      "text/plain": [
       "plot without title"
      ]
     },
     "metadata": {},
     "output_type": "display_data"
    }
   ],
   "source": [
    "a1 <- 0.7\n",
    "a2 <- 0.35\n",
    "d <- a1^2 + 4*a2\n",
    "alfa1 <- 0.5*(a1+d^0.5)\n",
    "alfa2 <- 0.5*(a1-d^0.5)\n",
    "\n",
    "vec <- 1:20\n",
    "res <- (alfa1)^vec + (alfa2)^vec\n",
    "\n",
    "ggplot() + \n",
    "    geom_line(aes(vec,res))"
   ]
  },
  {
   "cell_type": "markdown",
   "metadata": {},
   "source": [
    "# Imagninary roots WS 1.2\n",
    "$y_t = 1.6y_{t-1}-0.9y_{t-2}$"
   ]
  },
  {
   "cell_type": "code",
   "execution_count": 6,
   "metadata": {},
   "outputs": [
    {
     "data": {
      "text/html": [
       "-1.04"
      ],
      "text/latex": [
       "-1.04"
      ],
      "text/markdown": [
       "-1.04"
      ],
      "text/plain": [
       "[1] -1.04"
      ]
     },
     "metadata": {},
     "output_type": "display_data"
    }
   ],
   "source": [
    "a1 <- 1.6\n",
    "a2 <- -0.9\n",
    "\n",
    "d <- a1^2+4*a2\n",
    "d"
   ]
  },
  {
   "cell_type": "code",
   "execution_count": 7,
   "metadata": {},
   "outputs": [
    {
     "data": {
      "text/html": [
       "0.8+0.509901951359278i"
      ],
      "text/latex": [
       "0.8+0.509901951359278i"
      ],
      "text/markdown": [
       "0.8+0.509901951359278i"
      ],
      "text/plain": [
       "[1] 0.8+0.509902i"
      ]
     },
     "metadata": {},
     "output_type": "display_data"
    },
    {
     "data": {
      "text/html": [
       "0.8-0.509901951359278i"
      ],
      "text/latex": [
       "0.8-0.509901951359278i"
      ],
      "text/markdown": [
       "0.8-0.509901951359278i"
      ],
      "text/plain": [
       "[1] 0.8-0.509902i"
      ]
     },
     "metadata": {},
     "output_type": "display_data"
    }
   ],
   "source": [
    "0.5*(a1+as.complex(d)^0.5)\n",
    "0.5*(a1-as.complex(d)^0.5)"
   ]
  },
  {
   "cell_type": "code",
   "execution_count": 8,
   "metadata": {},
   "outputs": [
    {
     "data": {
      "text/html": [
       "0.948683298050514"
      ],
      "text/latex": [
       "0.948683298050514"
      ],
      "text/markdown": [
       "0.948683298050514"
      ],
      "text/plain": [
       "[1] 0.9486833"
      ]
     },
     "metadata": {},
     "output_type": "display_data"
    },
    {
     "data": {
      "text/html": [
       "0.948683298050514"
      ],
      "text/latex": [
       "0.948683298050514"
      ],
      "text/markdown": [
       "0.948683298050514"
      ],
      "text/plain": [
       "[1] 0.9486833"
      ]
     },
     "metadata": {},
     "output_type": "display_data"
    }
   ],
   "source": [
    "sqrt(0.8^2 + 0.509901951359278^2)\n",
    "sqrt(0.9)"
   ]
  },
  {
   "cell_type": "code",
   "execution_count": 9,
   "metadata": {},
   "outputs": [
    {
     "data": {
      "text/html": [
       "0.948683298050514"
      ],
      "text/latex": [
       "0.948683298050514"
      ],
      "text/markdown": [
       "0.948683298050514"
      ],
      "text/plain": [
       "[1] 0.9486833"
      ]
     },
     "metadata": {},
     "output_type": "display_data"
    }
   ],
   "source": [
    "r <- (-a2)^0.5\n",
    "r"
   ]
  },
  {
   "cell_type": "code",
   "execution_count": 10,
   "metadata": {},
   "outputs": [
    {
     "data": {
      "text/html": [
       "0.567450475278837"
      ],
      "text/latex": [
       "0.567450475278837"
      ],
      "text/markdown": [
       "0.567450475278837"
      ],
      "text/plain": [
       "[1] 0.5674505"
      ]
     },
     "metadata": {},
     "output_type": "display_data"
    }
   ],
   "source": [
    "theta <- acos(a1/(2*(-a2)^0.5))\n",
    "theta"
   ]
  },
  {
   "cell_type": "code",
   "execution_count": 11,
   "metadata": {},
   "outputs": [
    {
     "data": {},
     "metadata": {},
     "output_type": "display_data"
    },
    {
     "data": {},
     "metadata": {},
     "output_type": "display_data"
    },
    {
     "data": {
      "image/png": "[encoded data removed]",
      "text/plain": [
       "plot without title"
      ]
     },
     "metadata": {},
     "output_type": "display_data"
    },
    {
     "data": {
      "image/png": "[encoded data removed]",
      "text/plain": [
       "plot without title"
      ]
     },
     "metadata": {},
     "output_type": "display_data"
    }
   ],
   "source": [
    "vec <- 1:30\n",
    "res <- 1*(r)^vec*cos(theta*vec+0)\n",
    "\n",
    "ggplot() + \n",
    "    geom_line(aes(vec,res))\n",
    "\n",
    "vec <- 1:30\n",
    "res <- 1*(0.949)^vec*cos(1.89*vec+0)\n",
    "\n",
    "ggplot() + \n",
    "    geom_line(aes(vec,res))"
   ]
  },
  {
   "cell_type": "markdown",
   "metadata": {},
   "source": [
    "# Coefficients of the ARMA(2,1) process WS 2.1\n",
    "\n",
    "$y_t = 1.6y_{t-1}-0.9y_{t-2} + \\varepsilon_1 + 0.5\\varepsilon_{t-1}$\n",
    "\n",
    "Vi kan anvende tallene r og theta fra forrige WS da tallene er ens"
   ]
  },
  {
   "cell_type": "code",
   "execution_count": 12,
   "metadata": {},
   "outputs": [
    {
     "data": {
      "text/html": [
       "0.567450475278837"
      ],
      "text/latex": [
       "0.567450475278837"
      ],
      "text/markdown": [
       "0.567450475278837"
      ],
      "text/plain": [
       "[1] 0.5674505"
      ]
     },
     "metadata": {},
     "output_type": "display_data"
    },
    {
     "data": {
      "text/html": [
       "0.948683298050514"
      ],
      "text/latex": [
       "0.948683298050514"
      ],
      "text/markdown": [
       "0.948683298050514"
      ],
      "text/plain": [
       "[1] 0.9486833"
      ]
     },
     "metadata": {},
     "output_type": "display_data"
    }
   ],
   "source": [
    "theta\n",
    "r"
   ]
  },
  {
   "cell_type": "code",
   "execution_count": 13,
   "metadata": {},
   "outputs": [
    {
     "data": {
      "text/html": [
       "0"
      ],
      "text/latex": [
       "0"
      ],
      "text/markdown": [
       "0"
      ],
      "text/plain": [
       "[1] 0"
      ]
     },
     "metadata": {},
     "output_type": "display_data"
    },
    {
     "data": {},
     "metadata": {},
     "output_type": "display_data"
    },
    {
     "data": {
      "image/png": "[encoded data removed]",
      "text/plain": [
       "plot without title"
      ]
     },
     "metadata": {},
     "output_type": "display_data"
    }
   ],
   "source": [
    "b1 <- 2.739\n",
    "b2 <- -1.197\n",
    "\n",
    "round(cos(b2)-(r/2.1)*cos(theta+b2), 3)\n",
    "\n",
    "vec <- 0:50\n",
    "res <- b1*0.949^vec*cos(0.567*vec+b2)\n",
    "a   <- 2.739*0.949^vec*cos(0.567*vec-1.197)\n",
    "ggplot() + \n",
    "    geom_line(aes(vec,res))"
   ]
  },
  {
   "cell_type": "code",
   "execution_count": 14,
   "metadata": {},
   "outputs": [
    {
     "data": {},
     "metadata": {},
     "output_type": "display_data"
    },
    {
     "data": {
      "image/png": "[encoded data removed]",
      "text/plain": [
       "plot without title"
      ]
     },
     "metadata": {},
     "output_type": "display_data"
    }
   ],
   "source": [
    "ktk <- c(1,2.1)\n",
    "\n",
    "for (i in 3:50) {\n",
    "    ktk[i] <- 1.6*ktk[i-1]-0.9*ktk[i-2] \n",
    "}\n",
    "\n",
    "ggplot() + \n",
    "    geom_line(aes(0:49, ktk))"
   ]
  }
 ],
 "metadata": {
  "kernelspec": {
   "display_name": "R",
   "language": "R",
   "name": "ir"
  },
  "language_info": {
   "codemirror_mode": "r",
   "file_extension": ".r",
   "mimetype": "text/x-r-source",
   "name": "R",
   "pygments_lexer": "r",
   "version": "3.5.1"
  }
 },
 "nbformat": 4,
 "nbformat_minor": 2
}
