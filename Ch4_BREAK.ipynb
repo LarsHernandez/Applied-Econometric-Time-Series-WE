{
 "cells": [
  {
   "cell_type": "code",
   "execution_count": 17,
   "metadata": {},
   "outputs": [],
   "source": [
    "library(tidyverse) # readr, ggplot, dplyr, ...\n",
    "library(gridExtra) # Arrangning ggplots\n",
    "library(readxl)    # Loading excel\n",
    "library(repr)      # Resizing the plots in jupyter\n",
    "library(rugarch)   # For ARCH and GARCH models\n",
    "library(dynlm)     # Lagged linear models\n",
    "library(urca)      # Dick Fuller test\n",
    "library(car)       # Linear hyphothesis testing\n",
    "library(tseries)   # adf-test\n",
    "library(vars)      # VAR models\n",
    "library(zoo)       # Convert quarters to date\n",
    "library(expm)      # Matrix calculations \n",
    "library(forecast)  \n",
    "\n",
    "options(repr.plot.width=8, repr.plot.height=2.5)\n",
    "\n",
    "setwd(\"C:/Users/larsn/Documents/GitHub/Applied-Econometric-Time-Series-WE\")"
   ]
  },
  {
   "cell_type": "code",
   "execution_count": null,
   "metadata": {},
   "outputs": [],
   "source": []
  },
  {
   "cell_type": "code",
   "execution_count": 48,
   "metadata": {},
   "outputs": [
    {
     "data": {
      "text/html": [
       "<table>\n",
       "<thead><tr><th scope=col>EPSILON</th><th scope=col>Y1</th><th scope=col>Y2</th><th scope=col>n</th></tr></thead>\n",
       "<tbody>\n",
       "\t<tr><td> 0.3202 </td><td> 0.32020</td><td> 0.3202 </td><td>1       </td></tr>\n",
       "\t<tr><td>-0.4327 </td><td>-0.27260</td><td>-0.1125 </td><td>2       </td></tr>\n",
       "\t<tr><td>-0.2150 </td><td>-0.35130</td><td>-0.3275 </td><td>3       </td></tr>\n",
       "\t<tr><td>-0.0699 </td><td>-0.24555</td><td>-0.3974 </td><td>4       </td></tr>\n",
       "\t<tr><td> 0.0582 </td><td>-0.06458</td><td>-0.3392 </td><td>5       </td></tr>\n",
       "\t<tr><td>-0.4621 </td><td>-0.49439</td><td>-0.8013 </td><td>6       </td></tr>\n",
       "</tbody>\n",
       "</table>\n"
      ],
      "text/latex": [
       "\\begin{tabular}{r|llll}\n",
       " EPSILON & Y1 & Y2 & n\\\\\n",
       "\\hline\n",
       "\t  0.3202  &  0.32020 &  0.3202  & 1       \\\\\n",
       "\t -0.4327  & -0.27260 & -0.1125  & 2       \\\\\n",
       "\t -0.2150  & -0.35130 & -0.3275  & 3       \\\\\n",
       "\t -0.0699  & -0.24555 & -0.3974  & 4       \\\\\n",
       "\t  0.0582  & -0.06458 & -0.3392  & 5       \\\\\n",
       "\t -0.4621  & -0.49439 & -0.8013  & 6       \\\\\n",
       "\\end{tabular}\n"
      ],
      "text/markdown": [
       "\n",
       "EPSILON | Y1 | Y2 | n | \n",
       "|---|---|---|---|---|---|\n",
       "|  0.3202  |  0.32020 |  0.3202  | 1        | \n",
       "| -0.4327  | -0.27260 | -0.1125  | 2        | \n",
       "| -0.2150  | -0.35130 | -0.3275  | 3        | \n",
       "| -0.0699  | -0.24555 | -0.3974  | 4        | \n",
       "|  0.0582  | -0.06458 | -0.3392  | 5        | \n",
       "| -0.4621  | -0.49439 | -0.8013  | 6        | \n",
       "\n",
       "\n"
      ],
      "text/plain": [
       "  EPSILON Y1       Y2      n\n",
       "1  0.3202  0.32020  0.3202 1\n",
       "2 -0.4327 -0.27260 -0.1125 2\n",
       "3 -0.2150 -0.35130 -0.3275 3\n",
       "4 -0.0699 -0.24555 -0.3974 4\n",
       "5  0.0582 -0.06458 -0.3392 5\n",
       "6 -0.4621 -0.49439 -0.8013 6"
      ]
     },
     "metadata": {},
     "output_type": "display_data"
    },
    {
     "data": {},
     "metadata": {},
     "output_type": "display_data"
    },
    {
     "data": {
      "image/png": "[encoded data removed]",
      "text/plain": [
       "plot without title"
      ]
     },
     "metadata": {},
     "output_type": "display_data"
    }
   ],
   "source": [
    "tsb <- read_excel(\"Data/BREAK.xls\")\n",
    "tsb$n <- seq_along(tsb$Y1) \n",
    "head(tsb)\n",
    "\n",
    "tsb %>% gather(variable, value, -n) %>% ggplot(aes(n, value, linetype=variable)) + \n",
    "geom_line()"
   ]
  },
  {
   "cell_type": "code",
   "execution_count": 15,
   "metadata": {},
   "outputs": [
    {
     "data": {
      "text/plain": [
       "\n",
       "Autocorrelations of series 'tsb$Y1', by lag\n",
       "\n",
       "    0     1     2     3     4     5     6 \n",
       "1.000 0.942 0.878 0.836 0.805 0.768 0.724 "
      ]
     },
     "metadata": {},
     "output_type": "display_data"
    }
   ],
   "source": [
    "acf(tsb$Y1, plot=F, lag=6)"
   ]
  },
  {
   "cell_type": "code",
   "execution_count": 24,
   "metadata": {},
   "outputs": [
    {
     "data": {
      "text/plain": [
       "\n",
       "Time series regression with \"numeric\" data:\n",
       "Start = 1, End = 99\n",
       "\n",
       "Call:\n",
       "dynlm(formula = dy ~ 0 + L(y))\n",
       "\n",
       "Residuals:\n",
       "    Min      1Q  Median      3Q     Max \n",
       "-0.7542 -0.2798 -0.0486  0.2080  1.1068 \n",
       "\n",
       "Coefficients:\n",
       "     Estimate Std. Error t value Pr(>|t|)\n",
       "L(y)  0.03188    0.02347   1.358    0.177\n",
       "\n",
       "Residual standard error: 0.328 on 98 degrees of freedom\n",
       "Multiple R-squared:  0.01848,\tAdjusted R-squared:  0.008468 \n",
       "F-statistic: 1.845 on 1 and 98 DF,  p-value: 0.1774\n"
      ]
     },
     "metadata": {},
     "output_type": "display_data"
    },
    {
     "data": {
      "text/plain": [
       "\n",
       "Time series regression with \"numeric\" data:\n",
       "Start = 1, End = 99\n",
       "\n",
       "Call:\n",
       "dynlm(formula = dy ~ L(y))\n",
       "\n",
       "Residuals:\n",
       "     Min       1Q   Median       3Q      Max \n",
       "-0.74046 -0.23747 -0.02448  0.21907  1.12667 \n",
       "\n",
       "Coefficients:\n",
       "            Estimate Std. Error t value Pr(>|t|)\n",
       "(Intercept) -0.04283    0.04673  -0.917    0.362\n",
       "L(y)         0.05349    0.03328   1.607    0.111\n",
       "\n",
       "Residual standard error: 0.3283 on 97 degrees of freedom\n",
       "Multiple R-squared:  0.02594,\tAdjusted R-squared:  0.0159 \n",
       "F-statistic: 2.584 on 1 and 97 DF,  p-value: 0.1112\n"
      ]
     },
     "metadata": {},
     "output_type": "display_data"
    },
    {
     "data": {
      "text/plain": [
       "\n",
       "Time series regression with \"numeric\" data:\n",
       "Start = 1, End = 99\n",
       "\n",
       "Call:\n",
       "dynlm(formula = dy ~ L(y) + seq_along(y))\n",
       "\n",
       "Residuals:\n",
       "     Min       1Q   Median       3Q      Max \n",
       "-0.62978 -0.23042 -0.04045  0.22218  1.11892 \n",
       "\n",
       "Coefficients:\n",
       "              Estimate Std. Error t value Pr(>|t|)   \n",
       "(Intercept)   0.087034   0.068379   1.273  0.20615   \n",
       "L(y)          0.165877   0.054786   3.028  0.00316 **\n",
       "seq_along(y) -0.004833   0.001901  -2.543  0.01259 * \n",
       "---\n",
       "Signif. codes:  0 '***' 0.001 '**' 0.01 '*' 0.05 '.' 0.1 ' ' 1\n",
       "\n",
       "Residual standard error: 0.3194 on 96 degrees of freedom\n",
       "Multiple R-squared:  0.08742,\tAdjusted R-squared:  0.06841 \n",
       "F-statistic: 4.598 on 2 and 96 DF,  p-value: 0.01239\n"
      ]
     },
     "metadata": {},
     "output_type": "display_data"
    }
   ],
   "source": [
    "dy <- diff(tsb$Y1)\n",
    "y <- tsb$Y1[-1]\n",
    "summary(dynlm(dy ~ 0 + L(y)))\n",
    "summary(dynlm(dy ~ L(y)))\n",
    "summary(dynlm(dy ~ L(y) + seq_along(y)))"
   ]
  },
  {
   "cell_type": "code",
   "execution_count": 25,
   "metadata": {},
   "outputs": [
    {
     "data": {
      "text/plain": [
       "\n",
       "\tAugmented Dickey-Fuller Test\n",
       "\n",
       "data:  y\n",
       "Dickey-Fuller = -1.8402, Lag order = 4, p-value = 0.6427\n",
       "alternative hypothesis: stationary\n"
      ]
     },
     "metadata": {},
     "output_type": "display_data"
    }
   ],
   "source": [
    "adf.test(y)"
   ]
  },
  {
   "cell_type": "code",
   "execution_count": null,
   "metadata": {},
   "outputs": [],
   "source": []
  },
  {
   "cell_type": "code",
   "execution_count": 45,
   "metadata": {},
   "outputs": [
    {
     "data": {
      "text/plain": [
       "\n",
       "Time series regression with \"numeric\" data:\n",
       "Start = 1, End = 99\n",
       "\n",
       "Call:\n",
       "dynlm(formula = dy ~ L(y) + seq_along(y) + pulse + shift)\n",
       "\n",
       "Residuals:\n",
       "     Min       1Q   Median       3Q      Max \n",
       "-0.58699 -0.16954  0.02255  0.17968  0.83078 \n",
       "\n",
       "Coefficients:\n",
       "              Estimate Std. Error t value Pr(>|t|)    \n",
       "(Intercept)  -0.026852   0.064496  -0.416    0.678    \n",
       "L(y)          0.488144   0.092666   5.268 8.73e-07 ***\n",
       "seq_along(y) -0.000142   0.002003  -0.071    0.944    \n",
       "pulse         1.560366   0.298216   5.232 1.01e-06 ***\n",
       "shift        -0.904912   0.221642  -4.083 9.34e-05 ***\n",
       "---\n",
       "Signif. codes:  0 '***' 0.001 '**' 0.01 '*' 0.05 '.' 0.1 ' ' 1\n",
       "\n",
       "Residual standard error: 0.2776 on 94 degrees of freedom\n",
       "Multiple R-squared:  0.325,\tAdjusted R-squared:  0.2963 \n",
       "F-statistic: 11.31 on 4 and 94 DF,  p-value: 1.544e-07\n"
      ]
     },
     "metadata": {},
     "output_type": "display_data"
    }
   ],
   "source": [
    "pulse <- rep(0,99)\n",
    "pulse[50] <- 1\n",
    "shift <- c(rep(0,49), rep(1,50))\n",
    "\n",
    "a <- summary(dynlm(dy ~ L(y) + seq_along(y) + pulse + shift ))\n",
    "a"
   ]
  },
  {
   "cell_type": "code",
   "execution_count": 47,
   "metadata": {},
   "outputs": [
    {
     "data": {
      "text/html": [
       "-5.52364559529514"
      ],
      "text/latex": [
       "-5.52364559529514"
      ],
      "text/markdown": [
       "-5.52364559529514"
      ],
      "text/plain": [
       "[1] -5.523646"
      ]
     },
     "metadata": {},
     "output_type": "display_data"
    }
   ],
   "source": [
    "(a$coefficients[\"L(y)\", \"Estimate\"] - 1)/a$coefficients[\"L(y)\", \"Std. Error\"]"
   ]
  },
  {
   "cell_type": "code",
   "execution_count": null,
   "metadata": {},
   "outputs": [],
   "source": []
  },
  {
   "cell_type": "code",
   "execution_count": null,
   "metadata": {},
   "outputs": [],
   "source": []
  },
  {
   "cell_type": "code",
   "execution_count": 52,
   "metadata": {},
   "outputs": [
    {
     "name": "stderr",
     "output_type": "stream",
     "text": [
      "Warning message in adf.test(y):\n",
      "\"p-value greater than printed p-value\""
     ]
    },
    {
     "data": {
      "text/plain": [
       "\n",
       "\tAugmented Dickey-Fuller Test\n",
       "\n",
       "data:  y\n",
       "Dickey-Fuller = -0.24383, Lag order = 4, p-value = 0.99\n",
       "alternative hypothesis: stationary\n"
      ]
     },
     "metadata": {},
     "output_type": "display_data"
    }
   ],
   "source": [
    "dy <- diff(tsb$Y2)\n",
    "y <- tsb$Y2[-1]\n",
    "adf.test(y)"
   ]
  },
  {
   "cell_type": "code",
   "execution_count": 53,
   "metadata": {},
   "outputs": [
    {
     "data": {
      "text/plain": [
       "\n",
       "Time series regression with \"numeric\" data:\n",
       "Start = 1, End = 99\n",
       "\n",
       "Call:\n",
       "dynlm(formula = dy ~ L(y) + seq_along(y) + pulse + shift)\n",
       "\n",
       "Residuals:\n",
       "     Min       1Q   Median       3Q      Max \n",
       "-0.45685 -0.20308 -0.01155  0.19902  0.49005 \n",
       "\n",
       "Coefficients:\n",
       "              Estimate Std. Error t value Pr(>|t|)    \n",
       "(Intercept)   0.037576   0.060989   0.616  0.53931    \n",
       "L(y)          0.092303   0.033939   2.720  0.00778 ** \n",
       "seq_along(y) -0.003042   0.001863  -1.633  0.10582    \n",
       "pulse         2.095776   0.265418   7.896 5.27e-12 ***\n",
       "shift        -0.187602   0.143272  -1.309  0.19359    \n",
       "---\n",
       "Signif. codes:  0 '***' 0.001 '**' 0.01 '*' 0.05 '.' 0.1 ' ' 1\n",
       "\n",
       "Residual standard error: 0.2586 on 94 degrees of freedom\n",
       "Multiple R-squared:  0.4453,\tAdjusted R-squared:  0.4216 \n",
       "F-statistic: 18.86 on 4 and 94 DF,  p-value: 2.058e-11\n"
      ]
     },
     "metadata": {},
     "output_type": "display_data"
    }
   ],
   "source": [
    "pulse <- rep(0,99)\n",
    "pulse[50] <- 1\n",
    "shift <- c(rep(0,49), rep(1,50))\n",
    "\n",
    "a <- summary(dynlm(dy ~ L(y) + seq_along(y) + pulse + shift ))\n",
    "a"
   ]
  },
  {
   "cell_type": "code",
   "execution_count": 54,
   "metadata": {},
   "outputs": [
    {
     "data": {
      "text/html": [
       "-26.7450205595496"
      ],
      "text/latex": [
       "-26.7450205595496"
      ],
      "text/markdown": [
       "-26.7450205595496"
      ],
      "text/plain": [
       "[1] -26.74502"
      ]
     },
     "metadata": {},
     "output_type": "display_data"
    }
   ],
   "source": [
    "(a$coefficients[\"L(y)\", \"Estimate\"] - 1)/a$coefficients[\"L(y)\", \"Std. Error\"]"
   ]
  },
  {
   "cell_type": "code",
   "execution_count": null,
   "metadata": {},
   "outputs": [],
   "source": []
  }
 ],
 "metadata": {
  "kernelspec": {
   "display_name": "R",
   "language": "R",
   "name": "ir"
  },
  "language_info": {
   "codemirror_mode": "r",
   "file_extension": ".r",
   "mimetype": "text/x-r-source",
   "name": "R",
   "pygments_lexer": "r",
   "version": "3.5.1"
  }
 },
 "nbformat": 4,
 "nbformat_minor": 2
}
