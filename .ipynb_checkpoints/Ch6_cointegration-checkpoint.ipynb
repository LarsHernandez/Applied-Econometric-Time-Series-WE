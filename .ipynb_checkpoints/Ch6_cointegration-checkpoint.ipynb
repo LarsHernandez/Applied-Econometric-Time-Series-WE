{
 "cells": [
  {
   "cell_type": "code",
   "execution_count": 9,
   "metadata": {},
   "outputs": [],
   "source": [
    "options(repr.plot.width=6, repr.plot.height=3)"
   ]
  },
  {
   "cell_type": "code",
   "execution_count": null,
   "metadata": {},
   "outputs": [],
   "source": []
  },
  {
   "cell_type": "code",
   "execution_count": 3,
   "metadata": {},
   "outputs": [
    {
     "data": {
      "text/html": [
       "<ol class=list-inline>\n",
       "\t<li>0</li>\n",
       "\t<li>-0.211833603383945</li>\n",
       "\t<li>-1.25342473711754</li>\n",
       "\t<li>-2.40673229438674</li>\n",
       "\t<li>-2.08520079674299</li>\n",
       "\t<li>-3.58533067269739</li>\n",
       "</ol>\n"
      ],
      "text/latex": [
       "\\begin{enumerate*}\n",
       "\\item 0\n",
       "\\item -0.211833603383945\n",
       "\\item -1.25342473711754\n",
       "\\item -2.40673229438674\n",
       "\\item -2.08520079674299\n",
       "\\item -3.58533067269739\n",
       "\\end{enumerate*}\n"
      ],
      "text/markdown": [
       "1. 0\n",
       "2. -0.211833603383945\n",
       "3. -1.25342473711754\n",
       "4. -2.40673229438674\n",
       "5. -2.08520079674299\n",
       "6. -3.58533067269739\n",
       "\n",
       "\n"
      ],
      "text/plain": [
       "[1]  0.0000000 -0.2118336 -1.2534247 -2.4067323 -2.0852008 -3.5853307"
      ]
     },
     "metadata": {},
     "output_type": "display_data"
    },
    {
     "data": {
      "text/html": [
       "<ol class=list-inline>\n",
       "\t<li>0.54966989312443</li>\n",
       "\t<li>-0.841603744622454</li>\n",
       "\t<li>0.0329979357019235</li>\n",
       "\t<li>0.52414970793641</li>\n",
       "\t<li>-1.72760411179603</li>\n",
       "\t<li>-0.277864526751273</li>\n",
       "</ol>\n"
      ],
      "text/latex": [
       "\\begin{enumerate*}\n",
       "\\item 0.54966989312443\n",
       "\\item -0.841603744622454\n",
       "\\item 0.0329979357019235\n",
       "\\item 0.52414970793641\n",
       "\\item -1.72760411179603\n",
       "\\item -0.277864526751273\n",
       "\\end{enumerate*}\n"
      ],
      "text/markdown": [
       "1. 0.54966989312443\n",
       "2. -0.841603744622454\n",
       "3. 0.0329979357019235\n",
       "4. 0.52414970793641\n",
       "5. -1.72760411179603\n",
       "6. -0.277864526751273\n",
       "\n",
       "\n"
      ],
      "text/plain": [
       "[1]  0.54966989 -0.84160374  0.03299794  0.52414971 -1.72760411 -0.27786453"
      ]
     },
     "metadata": {},
     "output_type": "display_data"
    }
   ],
   "source": [
    "###Case 1###\n",
    "#Random walk 1.1\n",
    "x0=0\n",
    "T=20\n",
    "set.seed(25)\n",
    "x=c(x0,rnorm(T-1))\n",
    "RW1.1=cumsum(x)\n",
    "head(RW1.1)\n",
    "#White noise 1.1\n",
    "set.seed(50)\n",
    "WN1.1=(rnorm(T))\n",
    "head(WN1.1)\n",
    "#ligning\n",
    "Y1.1=RW1.1+WN1.1"
   ]
  },
  {
   "cell_type": "code",
   "execution_count": 5,
   "metadata": {},
   "outputs": [
    {
     "data": {
      "text/html": [
       "<ol class=list-inline>\n",
       "\t<li>0.477739036752406</li>\n",
       "\t<li>0.496182822810311</li>\n",
       "\t<li>-0.859584301604146</li>\n",
       "\t<li>-0.829059955714477</li>\n",
       "\t<li>-0.32157308336293</li>\n",
       "\t<li>-1.30377039777043</li>\n",
       "</ol>\n"
      ],
      "text/latex": [
       "\\begin{enumerate*}\n",
       "\\item 0.477739036752406\n",
       "\\item 0.496182822810311\n",
       "\\item -0.859584301604146\n",
       "\\item -0.829059955714477\n",
       "\\item -0.32157308336293\n",
       "\\item -1.30377039777043\n",
       "\\end{enumerate*}\n"
      ],
      "text/markdown": [
       "1. 0.477739036752406\n",
       "2. 0.496182822810311\n",
       "3. -0.859584301604146\n",
       "4. -0.829059955714477\n",
       "5. -0.32157308336293\n",
       "6. -1.30377039777043\n",
       "\n",
       "\n"
      ],
      "text/plain": [
       "[1]  0.4777390  0.4961828 -0.8595843 -0.8290600 -0.3215731 -1.3037704"
      ]
     },
     "metadata": {},
     "output_type": "display_data"
    }
   ],
   "source": [
    "#White noise 1.2\n",
    "set.seed(40)\n",
    "WN1.2=(rnorm(T))\n",
    "head(WN1.2)\n",
    "#ligning Y1\n",
    "Y1.2=RW1.1+WN1.2"
   ]
  },
  {
   "cell_type": "code",
   "execution_count": 10,
   "metadata": {},
   "outputs": [
    {
     "data": {
      "image/png": "[encoded data removed]",
      "text/plain": [
       "Plot with title \"y_t - z_t = I(0) process\""
      ]
     },
     "metadata": {},
     "output_type": "display_data"
    }
   ],
   "source": [
    "#plot\n",
    "par(mfrow = c(1,2))\n",
    "plot(Y1.1, type=\"l\", main = \"\", col=\"green\")\n",
    "lines(Y1.2,type = \"l\", lty=\"dotted\", col=\"red\")\n",
    "legend(\"topright\",legend = c(\"Y1.1\",\"Y1.2\"),lty = c(1,3),bty=\"n\",lwd = c(2,2),col=c(\"green\",\"red\"),cex=1)\n",
    "Y1.3=Y1.1-Y1.2\n",
    "plot(Y1.3, type = \"l\", main = \"y_t - z_t = I(0) process\")"
   ]
  },
  {
   "cell_type": "code",
   "execution_count": 13,
   "metadata": {},
   "outputs": [
    {
     "data": {
      "text/html": [
       "<ol class=list-inline>\n",
       "\t<li>0</li>\n",
       "\t<li>-0.211833603383945</li>\n",
       "\t<li>-1.0415911337336</li>\n",
       "\t<li>-1.1533075572692</li>\n",
       "\t<li>0.321531497643745</li>\n",
       "\t<li>-1.5001298759544</li>\n",
       "</ol>\n"
      ],
      "text/latex": [
       "\\begin{enumerate*}\n",
       "\\item 0\n",
       "\\item -0.211833603383945\n",
       "\\item -1.0415911337336\n",
       "\\item -1.1533075572692\n",
       "\\item 0.321531497643745\n",
       "\\item -1.5001298759544\n",
       "\\end{enumerate*}\n"
      ],
      "text/markdown": [
       "1. 0\n",
       "2. -0.211833603383945\n",
       "3. -1.0415911337336\n",
       "4. -1.1533075572692\n",
       "5. 0.321531497643745\n",
       "6. -1.5001298759544\n",
       "\n",
       "\n"
      ],
      "text/plain": [
       "[1]  0.0000000 -0.2118336 -1.0415911 -1.1533076  0.3215315 -1.5001299"
      ]
     },
     "metadata": {},
     "output_type": "display_data"
    },
    {
     "data": {
      "text/html": [
       "<ol class=list-inline>\n",
       "\t<li>0</li>\n",
       "\t<li>-0.211833603383945</li>\n",
       "\t<li>-1.25342473711754</li>\n",
       "\t<li>-2.40673229438674</li>\n",
       "\t<li>-2.08520079674299</li>\n",
       "\t<li>-3.58533067269739</li>\n",
       "</ol>\n"
      ],
      "text/latex": [
       "\\begin{enumerate*}\n",
       "\\item 0\n",
       "\\item -0.211833603383945\n",
       "\\item -1.25342473711754\n",
       "\\item -2.40673229438674\n",
       "\\item -2.08520079674299\n",
       "\\item -3.58533067269739\n",
       "\\end{enumerate*}\n"
      ],
      "text/markdown": [
       "1. 0\n",
       "2. -0.211833603383945\n",
       "3. -1.25342473711754\n",
       "4. -2.40673229438674\n",
       "5. -2.08520079674299\n",
       "6. -3.58533067269739\n",
       "\n",
       "\n"
      ],
      "text/plain": [
       "[1]  0.0000000 -0.2118336 -1.2534247 -2.4067323 -2.0852008 -3.5853307"
      ]
     },
     "metadata": {},
     "output_type": "display_data"
    },
    {
     "data": {
      "text/html": [
       "<ol class=list-inline>\n",
       "\t<li>0.193212333898146</li>\n",
       "\t<li>-0.434682108206693</li>\n",
       "\t<li>0.913267096589322</li>\n",
       "\t<li>1.79338809206353</li>\n",
       "\t<li>0.996605106833546</li>\n",
       "\t<li>1.10749048744809</li>\n",
       "</ol>\n"
      ],
      "text/latex": [
       "\\begin{enumerate*}\n",
       "\\item 0.193212333898146\n",
       "\\item -0.434682108206693\n",
       "\\item 0.913267096589322\n",
       "\\item 1.79338809206353\n",
       "\\item 0.996605106833546\n",
       "\\item 1.10749048744809\n",
       "\\end{enumerate*}\n"
      ],
      "text/markdown": [
       "1. 0.193212333898146\n",
       "2. -0.434682108206693\n",
       "3. 0.913267096589322\n",
       "4. 1.79338809206353\n",
       "5. 0.996605106833546\n",
       "6. 1.10749048744809\n",
       "\n",
       "\n"
      ],
      "text/plain": [
       "[1]  0.1932123 -0.4346821  0.9132671  1.7933881  0.9966051  1.1074905"
      ]
     },
     "metadata": {},
     "output_type": "display_data"
    }
   ],
   "source": [
    "###Case 2###\n",
    "#Random walk 2.1\n",
    "set.seed(25)\n",
    "x1=c(x0,rnorm(T-1))\n",
    "head(x1)\n",
    "RW2.1=cumsum(x1)\n",
    "head(RW2.1)\n",
    "#White noise 2.1\n",
    "set.seed(23)\n",
    "WN2.1=(rnorm(T))\n",
    "head(WN2.1)\n",
    "#ligning Y2.1\n",
    "Y2.1=RW2.1+WN2.1"
   ]
  },
  {
   "cell_type": "code",
   "execution_count": 16,
   "metadata": {},
   "outputs": [
    {
     "data": {
      "text/html": [
       "<ol class=list-inline>\n",
       "\t<li>0</li>\n",
       "\t<li>-0.896914546624981</li>\n",
       "\t<li>0.184849184646742</li>\n",
       "\t<li>1.58784533120882</li>\n",
       "\t<li>-1.13037567424629</li>\n",
       "\t<li>-0.0802517565509893</li>\n",
       "</ol>\n"
      ],
      "text/latex": [
       "\\begin{enumerate*}\n",
       "\\item 0\n",
       "\\item -0.896914546624981\n",
       "\\item 0.184849184646742\n",
       "\\item 1.58784533120882\n",
       "\\item -1.13037567424629\n",
       "\\item -0.0802517565509893\n",
       "\\end{enumerate*}\n"
      ],
      "text/markdown": [
       "1. 0\n",
       "2. -0.896914546624981\n",
       "3. 0.184849184646742\n",
       "4. 1.58784533120882\n",
       "5. -1.13037567424629\n",
       "6. -0.0802517565509893\n",
       "\n",
       "\n"
      ],
      "text/plain": [
       "[1]  0.00000000 -0.89691455  0.18484918  1.58784533 -1.13037567 -0.08025176"
      ]
     },
     "metadata": {},
     "output_type": "display_data"
    },
    {
     "data": {
      "text/html": [
       "<ol class=list-inline>\n",
       "\t<li>0</li>\n",
       "\t<li>-0.896914546624981</li>\n",
       "\t<li>-0.712065361978239</li>\n",
       "\t<li>0.875779969230584</li>\n",
       "\t<li>-0.254595705015701</li>\n",
       "\t<li>-0.33484746156669</li>\n",
       "</ol>\n"
      ],
      "text/latex": [
       "\\begin{enumerate*}\n",
       "\\item 0\n",
       "\\item -0.896914546624981\n",
       "\\item -0.712065361978239\n",
       "\\item 0.875779969230584\n",
       "\\item -0.254595705015701\n",
       "\\item -0.33484746156669\n",
       "\\end{enumerate*}\n"
      ],
      "text/markdown": [
       "1. 0\n",
       "2. -0.896914546624981\n",
       "3. -0.712065361978239\n",
       "4. 0.875779969230584\n",
       "5. -0.254595705015701\n",
       "6. -0.33484746156669\n",
       "\n",
       "\n"
      ],
      "text/plain": [
       "[1]  0.0000000 -0.8969145 -0.7120654  0.8757800 -0.2545957 -0.3348475"
      ]
     },
     "metadata": {},
     "output_type": "display_data"
    },
    {
     "data": {
      "text/html": [
       "<ol class=list-inline>\n",
       "\t<li>-0.545880758366027</li>\n",
       "\t<li>0.536585304107612</li>\n",
       "\t<li>0.419623148618683</li>\n",
       "\t<li>-0.583627199210279</li>\n",
       "\t<li>0.847460017311944</li>\n",
       "\t<li>0.266021979364892</li>\n",
       "</ol>\n"
      ],
      "text/latex": [
       "\\begin{enumerate*}\n",
       "\\item -0.545880758366027\n",
       "\\item 0.536585304107612\n",
       "\\item 0.419623148618683\n",
       "\\item -0.583627199210279\n",
       "\\item 0.847460017311944\n",
       "\\item 0.266021979364892\n",
       "\\end{enumerate*}\n"
      ],
      "text/markdown": [
       "1. -0.545880758366027\n",
       "2. 0.536585304107612\n",
       "3. 0.419623148618683\n",
       "4. -0.583627199210279\n",
       "5. 0.847460017311944\n",
       "6. 0.266021979364892\n",
       "\n",
       "\n"
      ],
      "text/plain": [
       "[1] -0.5458808  0.5365853  0.4196231 -0.5836272  0.8474600  0.2660220"
      ]
     },
     "metadata": {},
     "output_type": "display_data"
    }
   ],
   "source": [
    "#Random walk 2.2\n",
    "set.seed(2)\n",
    "x2=c(x0,rnorm(T-1))\n",
    "head(x2)\n",
    "RW2.2=cumsum(x2)\n",
    "head(RW2.2)\n",
    "#White noise 2.2\n",
    "set.seed(24)\n",
    "WN2.2=(rnorm(T))\n",
    "head(WN2.2)\n",
    "#ligning Y2.2\n",
    "Y2.2=RW2.2+WN2.2\n",
    "\n",
    "Y2.3=Y2.1-Y2.2"
   ]
  },
  {
   "cell_type": "code",
   "execution_count": null,
   "metadata": {},
   "outputs": [],
   "source": [
    "#Random walk 2.3\n",
    "set.seed(35)\n",
    "x3=c(x0,rnorm(T-1))\n",
    "x3\n",
    "RW2.3=cumsum(x3)\n",
    "RW2.3\n",
    "#White noise 2.3\n",
    "set.seed(25)\n",
    "WN2.3=(rnorm(T))\n",
    "WN2.3\n",
    "#ligning Y2.3\n",
    "Y2.3=RW2.3+WN2.3"
   ]
  },
  {
   "cell_type": "code",
   "execution_count": 17,
   "metadata": {},
   "outputs": [
    {
     "data": {
      "image/png": "[encoded data removed]",
      "text/plain": [
       "Plot with title \"y_t + z_t - w_t = I(0) process\""
      ]
     },
     "metadata": {},
     "output_type": "display_data"
    }
   ],
   "source": [
    "#plot\n",
    "par(mfrow = c(1,2))\n",
    "plot(Y2.1, type=\"l\", main = \"Y2.1\", ylim = c(-4,6.5))\n",
    "lines(Y2.2,type = \"l\", main = \"Y2.2\",lty=\"dotted\", col=\"red\")\n",
    "lines(Y2.3, type = \"l\", main = \"Y2.3\", col=\"green\")\n",
    "legend(\"bottomleft\",legend = c(\"Y2.1\",\"Y2.2\",\"Y2.3\"),lty = c(1,3),bty=\"n\",lwd = c(2,2),col=c(\"black\",\"red\",\"green\"),cex=0.75)\n",
    "#residualer\n",
    "Y2.4=Y2.1+Y2.3-Y2.2\n",
    "plot(Y2.4, type = \"l\", main = \"y_t + z_t - w_t = I(0) process\")"
   ]
  },
  {
   "cell_type": "code",
   "execution_count": null,
   "metadata": {},
   "outputs": [],
   "source": []
  }
 ],
 "metadata": {
  "kernelspec": {
   "display_name": "R",
   "language": "R",
   "name": "ir"
  },
  "language_info": {
   "codemirror_mode": "r",
   "file_extension": ".r",
   "mimetype": "text/x-r-source",
   "name": "R",
   "pygments_lexer": "r",
   "version": "3.5.1"
  }
 },
 "nbformat": 4,
 "nbformat_minor": 2
}
