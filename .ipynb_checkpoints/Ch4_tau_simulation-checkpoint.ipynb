{
 "cells": [
  {
   "cell_type": "markdown",
   "metadata": {},
   "source": [
    "# Monte Carlo simulation of Dickey–Fuller distributions\n",
    "1. How does unit root processes look?\n",
    "2. Simulation of ADF $\\tau$ critical values\n",
    "3. Simulation of ADF $\\Phi$ critical values\n",
    "4. Simulation of ADF critical values for use on residuals from Engel-Granger methodology\n",
    "5. Matrix simulation of $\\tau$"
   ]
  },
  {
   "cell_type": "code",
   "execution_count": 45,
   "metadata": {},
   "outputs": [],
   "source": [
    "suppressMessages(library(tidyverse)) # Readr, ggplot, dplyr, ...\n",
    "suppressMessages(library(gridExtra)) # Arrangning ggplots\n",
    "suppressMessages(library(readxl))    # Loading excel\n",
    "suppressMessages(library(repr))      # Resizing the plots in jupyter\n",
    "suppressMessages(library(rugarch))   # For ARCH and GARCH models\n",
    "suppressMessages(library(dynlm))     # Lagged linear models\n",
    "suppressMessages(library(urca))      # Dick Fuller test\n",
    "suppressMessages(library(car))       # Linear hyphothesis testing\n",
    "suppressMessages(library(tseries))   # Adf-test\n",
    "suppressMessages(library(vars))      # VAR models\n",
    "suppressMessages(library(zoo))       # Convert quarters to date\n",
    "suppressMessages(library(forecast))  # Help in plotting TS\n",
    "suppressMessages(library(fGarch))    # The library Lasse uses to do GARCH\n",
    "suppressMessages(library(expm))      # Matrix calculations "
   ]
  },
  {
   "cell_type": "markdown",
   "metadata": {},
   "source": [
    "# Simulations\n",
    "First number of simulations should be set sufficiently high, this should be several thousand since we're not estimating the mean but the upper and lower quantiles. This is computationally heavy and therefore start with 1000, which should be <5 min. \n",
    "\n",
    "Sample size should be set according to the dataset\n",
    "\n",
    "**Dickey Fuller test**\n",
    "\n",
    "$$\n",
    "\\begin{aligned}\n",
    "\\Delta y_t = a_0 + \\gamma y_{t-1} + a_2t + \\varepsilon_t \\qquad \\qquad\n",
    "\\gamma &= 0 \\qquad \\tau_1 \\\\\n",
    "a_2 = \\gamma &= 0 \\qquad \\phi_3 \\\\\n",
    "a_0 = a_2 = \\gamma &= 0 \\qquad \\phi_2 \\\\\n",
    "\\\\\n",
    "\\Delta y_t = a_0 + \\gamma y_{t-1} + \\varepsilon_t \\qquad \\qquad\n",
    "\\gamma &= 0 \\qquad \\tau_2 \\\\\n",
    "a_0 = \\gamma  &= 0 \\qquad \\phi_1 \\\\\n",
    "\\\\\n",
    "\\Delta y_t = \\gamma y_{t-1} + \\varepsilon_t \\qquad \\qquad\n",
    "\\gamma &= 0 \\qquad \\tau_3 \\\\\n",
    "\\end{aligned}\n",
    "$$\n",
    "\n",
    "**Augmented Dickey Fuller test**\n",
    "\n",
    "$$\n",
    "\\Delta y_t = a_0 + \\gamma y_{t-1} + a_2t + \\sum^p_{i=2}\\beta_i\\Delta y_{t-i+1} + \\varepsilon_t\n",
    "$$\n",
    "\n",
    "Remember the $H_0$ is always that the process contains a unit root, therefore if we can reject it we conclude that the series is stationary and ready for further analisis. "
   ]
  },
  {
   "cell_type": "code",
   "execution_count": 74,
   "metadata": {},
   "outputs": [],
   "source": [
    "nsim <- 5000\n",
    "nsample <- 100\n",
    "\n",
    "subt <- paste(nsim, \"simulations  -\", nsample,\"samples in each\") # for use in plotting"
   ]
  },
  {
   "cell_type": "markdown",
   "metadata": {},
   "source": [
    "# Different data generating processes\n",
    "For difference stationary series (series containing a unit root) shocks are permanent and they might wander far from the trend, this is not true for stationary and trend stationary series, it can be hard to see the difference in the plots below, but if you are not convinced extend the sample size from 100 to 1000 and it will be clear that the stationary series has a constant variance opposed to the series containing an unit root.\n",
    "\n",
    "All four series might also include a drift term (intercept other than 0), this will not change wether the processes contain a unit root or not, but is important when it comes to deciding which deterministic components to include in the Dickey Fuller test.\n",
    "\n",
    "For all four series 95 % confidence interval are plottet, $1.96 * SD$, for the unit root standard deviation is equal to $\\sqrt{t}$ for the AR(2) process used to plot the stationary series $y_t = 0.6y_{t-1} + 0.3y_{t-2} + \\varepsilon_t$ the variance is calculated as $Var(y_t) = \\sigma^2 (1+\\beta^2_1 + \\beta^2_2)$"
   ]
  },
  {
   "cell_type": "code",
   "execution_count": 83,
   "metadata": {},
   "outputs": [
    {
     "data": {
      "image/png": "[encoded data removed]",
      "text/plain": [
       "plot without title"
      ]
     },
     "metadata": {},
     "output_type": "display_data"
    }
   ],
   "source": [
    "options(repr.plot.width = 8, repr.plot.height = 4.4)\n",
    "\n",
    "a1 <- ggplot(data.frame(x = 1:100, b = cumsum(rnorm(100)), sd = sqrt(1:100), t = 1), aes(x, b)) + \n",
    "  geom_line() + geom_line(aes(x, t), color = \"#045a8d\", linetype = \"dashed\") + \n",
    "  geom_ribbon(aes(ymin = t - sd * 1.96, ymax = t + sd * 1.96), alpha = 0.09, fill = \"#045a8d\") + \n",
    "  scale_y_continuous(limits = c(-30, 30), breaks = seq(-30, 30, 10)) +\n",
    "  labs(title = \"Difference stationary (random walk)\", x = \"\", y = \"\", subtitle = \"Unit root process\")\n",
    "\n",
    "a2 <- ggplot(data.frame(x = 1:100, b = cumsum(rnorm(100) + 0.3), sd = sqrt(1:100), t = 0.3 * 1:100), aes(x, b)) + \n",
    "  geom_line() + geom_line(aes(x, t), color = \"#045a8d\", linetype = \"dashed\") + \n",
    "  geom_ribbon(aes(ymin = t - sd * 1.96, ymax = t + sd * 1.96), alpha = 0.09, fill = \"#045a8d\") + \n",
    "  scale_y_continuous(limits = c(-10, 50), breaks = seq(-10, 50, 10)) +\n",
    "  labs(title = \"Difference stationary (stochastic trend)\", x = \"\", y = \"\", subtitle = \"Unit root process\")\n",
    "\n",
    "sim <- arima.sim(n = 100, list(ar = c(0.6, 0.3)))\n",
    "a3 <- ggplot(data.frame(x = 1:100, sim, sd = sqrt(1 * (1 + 0.6^2 + 0.3^2)), d = 0), aes(x, sim)) + \n",
    "  geom_line() + geom_line(aes(x, d), color = \"#045a8d\", linetype = \"dashed\") + \n",
    "  geom_ribbon(aes(ymin = d - sd * 1.96, ymax = d + sd * 1.96), alpha = 0.09, fill = \"#045a8d\") + \n",
    "  scale_y_continuous(limits = c(-15, 15), breaks = seq(-15, 15, 5)) +\n",
    "  labs(title = \"Stationary\", x = \"\", y = \"\", subtitle = \"Doesn't contain unit root\")\n",
    "\n",
    "sim2 <- arima.sim(n = 100, list(ar = c(0.6, 0.3))) \n",
    "a4 <- ggplot(data.frame(x = 1:100, sim2 = sim2 + 1:100 * 0.2, sd = sqrt(1 * (1 + 0.6^2 + 0.3^2)), d = 0 + 1:100 * 0.2), aes(x, sim2)) + \n",
    "  geom_line() + geom_line(aes(x, d), color = \"#045a8d\", linetype = \"dashed\") + \n",
    "  geom_ribbon(aes(ymin = d - sd * 1.96, ymax = d + sd * 1.96), alpha = 0.09, fill = \"#045a8d\") + \n",
    "  scale_y_continuous(limits = c(-5, 25), breaks = seq(-5, 25, 5)) +\n",
    "  labs(title = \"Trend stationary (deterministic trend)\", x = \"\", y = \"\", subtitle = \"Doesn't contain unit root\")\n",
    "\n",
    "grid.arrange(a1, a2, a3, a4, ncol = 2)"
   ]
  },
  {
   "cell_type": "markdown",
   "metadata": {},
   "source": [
    "# Simulations of $\\tau$ and $\\phi$"
   ]
  },
  {
   "cell_type": "markdown",
   "metadata": {},
   "source": [
    "#### $\\tau_1$ - simulation with gamma, drift and trend"
   ]
  },
  {
   "cell_type": "code",
   "execution_count": 48,
   "metadata": {},
   "outputs": [],
   "source": [
    "tau1 <- NA\n",
    "for (i in 1:nsim) {\n",
    "    x <- as.ts(cumsum(rnorm(nsample)))\n",
    "    a <- summary(dynlm(x ~ L(x) + seq_along(x)))\n",
    "    new <- (a$coefficients[\"L(x)\", \"Estimate\"] - 1)/a$coefficients[\"L(x)\", \"Std. Error\"]\n",
    "    tau1[i] <- new\n",
    "}"
   ]
  },
  {
   "cell_type": "markdown",
   "metadata": {},
   "source": [
    "#### $\\tau_2$ - simulation with gamma and drift"
   ]
  },
  {
   "cell_type": "code",
   "execution_count": 49,
   "metadata": {},
   "outputs": [],
   "source": [
    "tau2 <- NA\n",
    "for (i in 1:nsim) {\n",
    "    x <- as.ts(cumsum(rnorm(nsample)))\n",
    "    a <- summary(dynlm(x ~ L(x)))\n",
    "    new <- (a$coefficients[\"L(x)\", \"Estimate\"] - 1)/a$coefficients[\"L(x)\", \"Std. Error\"]\n",
    "    tau2[i] <- new\n",
    "}"
   ]
  },
  {
   "cell_type": "markdown",
   "metadata": {},
   "source": [
    "#### $\\tau_3$ - simulation with gamma"
   ]
  },
  {
   "cell_type": "code",
   "execution_count": 64,
   "metadata": {},
   "outputs": [],
   "source": [
    "tau3 <- NA\n",
    "for (i in 1:nsim) {\n",
    "    x <- as.ts(cumsum(rnorm(nsample)))\n",
    "    a <- summary(dynlm(x ~ L(x) + 0))\n",
    "    new <- (a$coefficients[\"L(x)\", \"Estimate\"] - 1)/a$coefficients[\"L(x)\", \"Std. Error\"]\n",
    "    tau3[i] <- new\n",
    "}"
   ]
  },
  {
   "cell_type": "markdown",
   "metadata": {},
   "source": [
    "#### $\\phi_1$ - F-test of gamma and drift = 0 for $\\tau_2$ "
   ]
  },
  {
   "cell_type": "code",
   "execution_count": 51,
   "metadata": {},
   "outputs": [],
   "source": [
    "phi1 <- NA\n",
    "for (i in 1:nsim) {\n",
    "    x <- as.ts(cumsum(rnorm(nsample)))\n",
    "    reg <- dynlm(x ~ L(x))\n",
    "    new <- linearHypothesis(reg, c(\"L(x) = 1\", \"(Intercept) = 0\"), test=\"F\")$F[2]\n",
    "    phi1[i] <- new\n",
    "}"
   ]
  },
  {
   "cell_type": "markdown",
   "metadata": {},
   "source": [
    "#### $\\phi_2$ - F-test of gamma, drift and trend = 0 for $\\tau_1$ "
   ]
  },
  {
   "cell_type": "code",
   "execution_count": 52,
   "metadata": {},
   "outputs": [],
   "source": [
    "phi2 <- NA\n",
    "for (i in 1:nsim) {\n",
    "    x <- as.ts(cumsum(rnorm(nsample)))\n",
    "    reg <- dynlm(x ~ L(x) + seq_along(x))\n",
    "    new <- linearHypothesis(reg, c(\"L(x) = 1\", \"seq_along(x) = 0\", \"(Intercept) = 0\"), test=\"F\")$F[2]\n",
    "    phi2[i] <- new\n",
    "}"
   ]
  },
  {
   "cell_type": "markdown",
   "metadata": {},
   "source": [
    "#### $\\phi_3$ - F-test of gamma and drift = 0 for $\\tau_1$ "
   ]
  },
  {
   "cell_type": "code",
   "execution_count": 53,
   "metadata": {},
   "outputs": [],
   "source": [
    "phi3 <- NA\n",
    "for (i in 1:nsim) {\n",
    "    x <- as.ts(cumsum(rnorm(nsample)))\n",
    "    reg <- dynlm(x ~ L(x) + seq_along(x))\n",
    "    new <- linearHypothesis(reg, c(\"L(x) = 1\", \"seq_along(x) = 0\"), test=\"F\")$F[2]\n",
    "    phi3[i] <- new\n",
    "}"
   ]
  },
  {
   "cell_type": "markdown",
   "metadata": {},
   "source": [
    "# Critical values for Dickey Fuller"
   ]
  },
  {
   "cell_type": "code",
   "execution_count": 54,
   "metadata": {},
   "outputs": [
    {
     "data": {
      "text/html": [
       "<table>\n",
       "<thead><tr><th></th><th scope=col>Tau 1</th><th scope=col>Tau 2</th><th scope=col>Tau 3</th><th scope=col>Normal Dist</th><th scope=col>Phi 1</th><th scope=col>Phi 2</th><th scope=col>Phi 3</th></tr></thead>\n",
       "<tbody>\n",
       "\t<tr><th scope=row>1%</th><td>-3.991857</td><td>-3.465318</td><td>-2.498450</td><td>-2.262840</td><td>6.411096 </td><td>6.437624 </td><td>9.016553 </td></tr>\n",
       "\t<tr><th scope=row>2.5%</th><td>-3.693366</td><td>-3.165428</td><td>-2.160332</td><td>-1.946046</td><td>5.535904 </td><td>5.550943 </td><td>7.659401 </td></tr>\n",
       "\t<tr><th scope=row>5%</th><td>-3.441481</td><td>-2.913482</td><td>-1.926183</td><td>-1.651786</td><td>4.838663 </td><td>4.872478 </td><td>6.495627 </td></tr>\n",
       "</tbody>\n",
       "</table>\n"
      ],
      "text/latex": [
       "\\begin{tabular}{r|lllllll}\n",
       "  & Tau 1 & Tau 2 & Tau 3 & Normal Dist & Phi 1 & Phi 2 & Phi 3\\\\\n",
       "\\hline\n",
       "\t1\\% & -3.991857 & -3.465318 & -2.498450 & -2.262840 & 6.411096  & 6.437624  & 9.016553 \\\\\n",
       "\t2.5\\% & -3.693366 & -3.165428 & -2.160332 & -1.946046 & 5.535904  & 5.550943  & 7.659401 \\\\\n",
       "\t5\\% & -3.441481 & -2.913482 & -1.926183 & -1.651786 & 4.838663  & 4.872478  & 6.495627 \\\\\n",
       "\\end{tabular}\n"
      ],
      "text/markdown": [
       "\n",
       "| <!--/--> | Tau 1 | Tau 2 | Tau 3 | Normal Dist | Phi 1 | Phi 2 | Phi 3 | \n",
       "|---|---|---|\n",
       "| 1% | -3.991857 | -3.465318 | -2.498450 | -2.262840 | 6.411096  | 6.437624  | 9.016553  | \n",
       "| 2.5% | -3.693366 | -3.165428 | -2.160332 | -1.946046 | 5.535904  | 5.550943  | 7.659401  | \n",
       "| 5% | -3.441481 | -2.913482 | -1.926183 | -1.651786 | 4.838663  | 4.872478  | 6.495627  | \n",
       "\n",
       "\n"
      ],
      "text/plain": [
       "     Tau 1     Tau 2     Tau 3     Normal Dist Phi 1    Phi 2    Phi 3   \n",
       "1%   -3.991857 -3.465318 -2.498450 -2.262840   6.411096 6.437624 9.016553\n",
       "2.5% -3.693366 -3.165428 -2.160332 -1.946046   5.535904 5.550943 7.659401\n",
       "5%   -3.441481 -2.913482 -1.926183 -1.651786   4.838663 4.872478 6.495627"
      ]
     },
     "metadata": {},
     "output_type": "display_data"
    }
   ],
   "source": [
    "zndist <- rnorm(nsim)\n",
    "\n",
    "ndistq <- quantile(zndist, probs = c(0.01,0.025,0.05))\n",
    "tau1q <- quantile(tau1, probs = c(0.01,0.025,0.05))\n",
    "tau2q <- quantile(tau2, probs = c(0.01,0.025,0.05))\n",
    "tau3q <- quantile(tau3, probs = c(0.01,0.025,0.05))\n",
    "phi1q <- quantile(phi1, probs = c(0.99,0.975,0.95))\n",
    "phi2q <- quantile(phi2, probs = c(0.99,0.975,0.95))\n",
    "phi3q <- quantile(phi3, probs = c(0.99,0.975,0.95))\n",
    "\n",
    "quantiles <- cbind(tau1q, tau2q, tau3q, ndistq, phi1q, phi2q, phi3q)\n",
    "colnames(quantiles) = c(\"Tau 1\", \"Tau 2\", \"Tau 3\", \"Normal Dist\", \"Phi 1\", \"Phi 2\", \"Phi 3\")\n",
    "quantiles"
   ]
  },
  {
   "cell_type": "markdown",
   "metadata": {},
   "source": [
    "# Visualisation of distributions"
   ]
  },
  {
   "cell_type": "code",
   "execution_count": 70,
   "metadata": {},
   "outputs": [
    {
     "data": {
      "image/png": "[encoded data removed]",
      "text/plain": [
       "plot without title"
      ]
     },
     "metadata": {},
     "output_type": "display_data"
    },
    {
     "data": {
      "image/png": "[encoded data removed]",
      "text/plain": [
       "plot without title"
      ]
     },
     "metadata": {},
     "output_type": "display_data"
    }
   ],
   "source": [
    "options(repr.plot.width=8, repr.plot.height=3)\n",
    "\n",
    "adf <- data.frame(zndist,tau1,tau2,tau3) %>% gather(variable, value)\n",
    "p1 <- ggplot(adf, aes(value, fill=variable)) + \n",
    "  geom_histogram(bins=60, aes(y = ..density..)) + \n",
    "  scale_fill_brewer(guide=F, palette=\"YlGnBu\") +\n",
    "  stat_function(fun=dnorm, color=\"#636363\", args=list(mean=0, sd=1)) +\n",
    "  facet_wrap(~variable, nrow=1) + \n",
    "  scale_x_continuous(limits = c(-6, 6)) +\n",
    "  labs(title=\"Simulated distributions\", subtitle = subt, x=\"\")\n",
    "\n",
    "df <- data.frame(tau1, tau2, tau3, zndist) %>% gather(variable, value)\n",
    "p2 <- ggplot(df, aes(value, fill=variable)) + \n",
    "  geom_density(adjust=2, alpha=0.5, color=\"#636363\") + \n",
    "  scale_fill_brewer(name=\"Distribution of t-tests\", \n",
    "                    labels = c(\"Tau\\n(gamma + drift + trend)\", \n",
    "                               \"Tau\\n(gamma + drift)\", \n",
    "                               \"Tau\\n(gamma)\",\n",
    "                               \"Normal\\ndistribution\"), \n",
    "                    palette=\"YlGnBu\", direction=1) + \n",
    "  labs(title=\"Dickey Fuller Tau distributions with kernel smoothening\", subtitle=subt, x=\"\") + \n",
    "  scale_x_continuous(limits = c(-5.4, 5.4), breaks=seq(-5,5,by=1)) +\n",
    "  theme(legend.text=element_text(size=7),\n",
    "        legend.justification = c(1, 1), \n",
    "        legend.box.margin=margin(c(20,20,50,50)),\n",
    "        legend.position = c(1, 1))\n",
    "\n",
    "suppressWarnings(print(p1)); suppressWarnings(print(p2))"
   ]
  },
  {
   "cell_type": "code",
   "execution_count": 56,
   "metadata": {},
   "outputs": [
    {
     "data": {
      "image/png": "[encoded data removed]",
      "text/plain": [
       "plot without title"
      ]
     },
     "metadata": {},
     "output_type": "display_data"
    },
    {
     "data": {
      "image/png": "[encoded data removed]",
      "text/plain": [
       "plot without title"
      ]
     },
     "metadata": {},
     "output_type": "display_data"
    }
   ],
   "source": [
    "adf <- data.frame(phi1,phi2,phi3, zndist) %>% gather(variable, value)\n",
    "p1 <- ggplot(adf, aes(value, fill=variable)) + \n",
    "  geom_histogram(bins=60, aes(y = ..density..)) + \n",
    "  scale_fill_brewer(guide=F, palette=\"YlOrBr\") +\n",
    "  stat_function(fun=dnorm, color=\"#636363\", args=list(mean=0, sd=1)) +\n",
    "  facet_wrap(~variable, nrow=1) + \n",
    "  scale_x_continuous(limits = c(-10, 10)) +\n",
    "  labs(title=\"Simulated distributions\", subtitle=subt, x=\"\")\n",
    "\n",
    "df <- data.frame(phi1, phi2, phi3, zndist) %>% gather(variable, value)\n",
    "p2 <- ggplot(df, aes(value, fill=variable)) + \n",
    "  geom_density(adjust=2, alpha=0.5, color=\"#636363\") + \n",
    "  scale_fill_brewer(name=\"Distribution of F-tests\", \n",
    "                    labels = c(\"Phi 1 (drift + trend)\\n(gamma = drift = 0)\", \n",
    "                               \"Phi 2 (drift + trend)\\n(gamma = drift = trend = 0)\", \n",
    "                               \"Phi 3 (drift)\\n(gamma = trend = 0)\",\n",
    "                               \"Normal\\ndistribution\"), \n",
    "                    palette=\"YlOrBr\", direction=1) + \n",
    "  labs(title=\"Dickey Fuller Phi distributions with kernel smoothening\", subtitle=subt, x=\"\") + \n",
    "  scale_x_continuous(limits = c(-10, 10), breaks=seq(-10,10,by=2)) +\n",
    "  theme(legend.text=element_text(size=7),\n",
    "        legend.justification = c(1, 1), \n",
    "        legend.box.margin=margin(c(20,20,50,50)),\n",
    "        legend.position = c(0.3, 1))\n",
    "\n",
    "suppressWarnings(print(p1)); suppressWarnings(print(p2))"
   ]
  },
  {
   "cell_type": "markdown",
   "metadata": {},
   "source": [
    "# Simulation of critical values for Engel Granger methodology\n",
    "In the engel granger precedure we need to find if the residual of a linear combination of variables is stationary, here we can't rely on the standard critical values we have calculated above. This is something about the residuals comming from a regression and several variables and this changes the critical values. There are alot more possible values to calculate but i've done it 2 - 5 variables and for series with intercept but not trend. These are the things of interest to find the right critical value:\n",
    "- Samle size\n",
    "- Number of variables\n",
    "- Deterministic parametres (drift, trend)"
   ]
  },
  {
   "cell_type": "code",
   "execution_count": 57,
   "metadata": {},
   "outputs": [],
   "source": [
    "EG2 <- NA\n",
    "for (i in 1:nsim) {\n",
    "    x1 <- as.ts(cumsum(rnorm(nsample)))\n",
    "    x2 <- as.ts(cumsum(rnorm(nsample)))\n",
    "    res <- as.ts(lm(x1 ~ x2)$residuals)\n",
    "    a <- summary(dynlm(res ~ L(res)))\n",
    "    EG2[i] <- (a$coefficients[\"L(res)\", \"Estimate\"] - 1)/a$coefficients[\"L(res)\", \"Std. Error\"]\n",
    "}"
   ]
  },
  {
   "cell_type": "code",
   "execution_count": 66,
   "metadata": {},
   "outputs": [],
   "source": [
    "EG3 <- NA\n",
    "for (i in 1:nsim) {\n",
    "    x1 <- as.ts(cumsum(rnorm(nsample)))\n",
    "    x2 <- as.ts(cumsum(rnorm(nsample)))\n",
    "    x3 <- as.ts(cumsum(rnorm(nsample)))\n",
    "    res <- as.ts(lm(x1 ~ x2 + x3)$residuals)\n",
    "    a <- summary(dynlm(res ~ L(res)))\n",
    "    EG3[i] <- (a$coefficients[\"L(res)\", \"Estimate\"] - 1)/a$coefficients[\"L(res)\", \"Std. Error\"]\n",
    "}"
   ]
  },
  {
   "cell_type": "code",
   "execution_count": 59,
   "metadata": {},
   "outputs": [],
   "source": [
    "EG4 <- NA\n",
    "for (i in 1:nsim) {\n",
    "    x1 <- as.ts(cumsum(rnorm(nsample)))\n",
    "    x2 <- as.ts(cumsum(rnorm(nsample)))\n",
    "    x3 <- as.ts(cumsum(rnorm(nsample)))\n",
    "    x4 <- as.ts(cumsum(rnorm(nsample)))\n",
    "    res <- as.ts(lm(x1 ~ x2 + x3 + x4)$residuals)\n",
    "    a <- summary(dynlm(res ~ L(res)))\n",
    "    EG4[i] <- (a$coefficients[\"L(res)\", \"Estimate\"] - 1)/a$coefficients[\"L(res)\", \"Std. Error\"]\n",
    "}"
   ]
  },
  {
   "cell_type": "code",
   "execution_count": 60,
   "metadata": {},
   "outputs": [],
   "source": [
    "EG5 <- NA\n",
    "for (i in 1:nsim) {\n",
    "    x1 <- as.ts(cumsum(rnorm(nsample)))\n",
    "    x2 <- as.ts(cumsum(rnorm(nsample)))\n",
    "    x3 <- as.ts(cumsum(rnorm(nsample)))\n",
    "    x4 <- as.ts(cumsum(rnorm(nsample)))\n",
    "    x5 <- as.ts(cumsum(rnorm(nsample)))\n",
    "    res <- as.ts(lm(x1 ~ x2 + x3 + x4 + x5)$residuals)\n",
    "    a <- summary(dynlm(res ~ L(res)))\n",
    "    EG5[i] <- (a$coefficients[\"L(res)\", \"Estimate\"] - 1)/a$coefficients[\"L(res)\", \"Std. Error\"]\n",
    "}"
   ]
  },
  {
   "cell_type": "code",
   "execution_count": 68,
   "metadata": {},
   "outputs": [
    {
     "data": {
      "text/html": [
       "<table>\n",
       "<thead><tr><th></th><th scope=col>Two Variables</th><th scope=col>Three Variables</th><th scope=col>Four Variables</th><th scope=col>Five Variables</th><th scope=col>Normal Dist</th></tr></thead>\n",
       "<tbody>\n",
       "\t<tr><th scope=row>1%</th><td>-3.993993</td><td>-4.535778</td><td>-4.803193</td><td>-5.194159</td><td>-2.262840</td></tr>\n",
       "\t<tr><th scope=row>5%</th><td>-3.411322</td><td>-3.854982</td><td>-4.212881</td><td>-4.567770</td><td>-1.946046</td></tr>\n",
       "\t<tr><th scope=row>10%</th><td>-3.076628</td><td>-3.506834</td><td>-3.895925</td><td>-4.243386</td><td>-1.651786</td></tr>\n",
       "</tbody>\n",
       "</table>\n"
      ],
      "text/latex": [
       "\\begin{tabular}{r|lllll}\n",
       "  & Two Variables & Three Variables & Four Variables & Five Variables & Normal Dist\\\\\n",
       "\\hline\n",
       "\t1\\% & -3.993993 & -4.535778 & -4.803193 & -5.194159 & -2.262840\\\\\n",
       "\t5\\% & -3.411322 & -3.854982 & -4.212881 & -4.567770 & -1.946046\\\\\n",
       "\t10\\% & -3.076628 & -3.506834 & -3.895925 & -4.243386 & -1.651786\\\\\n",
       "\\end{tabular}\n"
      ],
      "text/markdown": [
       "\n",
       "| <!--/--> | Two Variables | Three Variables | Four Variables | Five Variables | Normal Dist | \n",
       "|---|---|---|\n",
       "| 1% | -3.993993 | -4.535778 | -4.803193 | -5.194159 | -2.262840 | \n",
       "| 5% | -3.411322 | -3.854982 | -4.212881 | -4.567770 | -1.946046 | \n",
       "| 10% | -3.076628 | -3.506834 | -3.895925 | -4.243386 | -1.651786 | \n",
       "\n",
       "\n"
      ],
      "text/plain": [
       "    Two Variables Three Variables Four Variables Five Variables Normal Dist\n",
       "1%  -3.993993     -4.535778       -4.803193      -5.194159      -2.262840  \n",
       "5%  -3.411322     -3.854982       -4.212881      -4.567770      -1.946046  \n",
       "10% -3.076628     -3.506834       -3.895925      -4.243386      -1.651786  "
      ]
     },
     "metadata": {},
     "output_type": "display_data"
    }
   ],
   "source": [
    "qEG2 <- quantile(EG2, probs = c(0.01,0.05,0.10))\n",
    "qEG3 <- quantile(EG3, probs = c(0.01,0.05,0.10))\n",
    "qEG4 <- quantile(EG4, probs = c(0.01,0.05,0.10))\n",
    "qEG5 <- quantile(EG5, probs = c(0.01,0.05,0.10))\n",
    "\n",
    "quantiles <- cbind(qEG2, qEG3, qEG4, qEG5, ndistq)\n",
    "colnames(quantiles) = c(\"Two Variables\", \"Three Variables\", \"Four Variables\", \"Five Variables\", \"Normal Dist\")\n",
    "quantiles"
   ]
  },
  {
   "cell_type": "code",
   "execution_count": 72,
   "metadata": {},
   "outputs": [
    {
     "data": {
      "image/png": "[encoded data removed]",
      "text/plain": [
       "plot without title"
      ]
     },
     "metadata": {},
     "output_type": "display_data"
    },
    {
     "data": {
      "image/png": "[encoded data removed]",
      "text/plain": [
       "plot without title"
      ]
     },
     "metadata": {},
     "output_type": "display_data"
    }
   ],
   "source": [
    "adf <- data.frame(EG2, EG3, EG4, EG5, zndist) %>% gather(variable, value)\n",
    "p1 <- ggplot(adf, aes(value, fill=variable)) + \n",
    "  geom_histogram(bins=60, aes(y = ..density..)) + \n",
    "  scale_fill_brewer(guide=F, palette=\"Blues\") +\n",
    "  stat_function(fun=dnorm, color=\"#636363\", args=list(mean=0, sd=1)) +\n",
    "  facet_wrap(~variable, nrow=1) + \n",
    "  scale_x_continuous(limits = c(-10, 10)) +\n",
    "  labs(title=\"Simulated distributions\", subtitle=subt, x=\"\")\n",
    "\n",
    "df <- data.frame(EG2, EG3, EG4, EG5, zndist) %>% gather(variable, value)\n",
    "p2 <- ggplot(df, aes(value, fill=variable)) + \n",
    "  geom_density(adjust=2, alpha=0.5, color=\"#636363\") + \n",
    "  scale_fill_brewer(name=\"Distribution of t-tests\", \n",
    "                    labels = c(\"Two Variables\\n(drift)\", \n",
    "                               \"Three Variables\\n(drift)\", \n",
    "                               \"Four Variables\\n(drift)\",\n",
    "                               \"Five Variables\\n(drift)\",\n",
    "                               \"Normal\\ndistribution\"), \n",
    "                    palette=\"Blues\", direction=1) + \n",
    "  labs(title=\"Dickey Fuller distributions for Engel Granger Methodology with kernel smoothening\", subtitle=subt, x=\"\") + \n",
    "  scale_x_continuous(limits = c(-10, 10), breaks=seq(-10,10,by=2)) +\n",
    "  theme(legend.text=element_text(size=7),\n",
    "        legend.justification = c(1, 1), \n",
    "        legend.box.margin=margin(c(20,20,50,50)),\n",
    "        legend.position = c(1, 1))\n",
    "\n",
    "suppressWarnings(print(p1)); suppressWarnings(print(p2))"
   ]
  },
  {
   "cell_type": "markdown",
   "metadata": {},
   "source": [
    "# Simulating with matrix formulas (significaltly faster, not my code)"
   ]
  },
  {
   "cell_type": "code",
   "execution_count": 63,
   "metadata": {},
   "outputs": [
    {
     "data": {
      "text/html": [
       "<table>\n",
       "<thead><tr><th></th><th scope=col>.</th></tr></thead>\n",
       "<tbody>\n",
       "\t<tr><th scope=row>1%</th><td>-3.477146</td></tr>\n",
       "\t<tr><th scope=row>2.5%</th><td>-3.157797</td></tr>\n",
       "\t<tr><th scope=row>5%</th><td>-2.894760</td></tr>\n",
       "</tbody>\n",
       "</table>\n"
      ],
      "text/latex": [
       "\\begin{tabular}{r|l}\n",
       "  & .\\\\\n",
       "\\hline\n",
       "\t1\\% & -3.477146\\\\\n",
       "\t2.5\\% & -3.157797\\\\\n",
       "\t5\\% & -2.894760\\\\\n",
       "\\end{tabular}\n"
      ],
      "text/markdown": [
       "\n",
       "| <!--/--> | . | \n",
       "|---|---|---|\n",
       "| 1% | -3.477146 | \n",
       "| 2.5% | -3.157797 | \n",
       "| 5% | -2.894760 | \n",
       "\n",
       "\n"
      ],
      "text/plain": [
       "     .        \n",
       "1%   -3.477146\n",
       "2.5% -3.157797\n",
       "5%   -2.894760"
      ]
     },
     "metadata": {},
     "output_type": "display_data"
    }
   ],
   "source": [
    "T = 100\n",
    "df <- rep(NA, 10000)\n",
    "\n",
    "for (i in 1:10000) {\n",
    "yt <- cumsum(rnorm(T))\n",
    "X <- cbind(1,yt[-T])\n",
    "beta <- solve(t(X) %*% X) %*% t(X) %*% yt[-1] \n",
    "ssr <- sum((yt[-1] - X %*% beta)^2)\n",
    "se <- sqrt(ssr / (T-3)) / sqrt(sum((X[,2] - mean(X[,2]))^2))\n",
    "df[i] <- (beta[2] - 1) / se\n",
    "}\n",
    "\n",
    "df %>%\n",
    "  quantile(probs = c(0.01, 0.025, 0.05)) %>%\n",
    "  as.data.frame()"
   ]
  }
 ],
 "metadata": {
  "kernelspec": {
   "display_name": "R",
   "language": "R",
   "name": "ir"
  },
  "language_info": {
   "codemirror_mode": "r",
   "file_extension": ".r",
   "mimetype": "text/x-r-source",
   "name": "R",
   "pygments_lexer": "r",
   "version": "3.5.1"
  }
 },
 "nbformat": 4,
 "nbformat_minor": 2
}
