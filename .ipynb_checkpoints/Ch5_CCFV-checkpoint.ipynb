{
 "cells": [
  {
   "cell_type": "markdown",
   "metadata": {},
   "source": [
    "# Cross Correlation Function CCF\n",
    "The plots are of the Cross Covariance Function CCVF (Enders page 271)"
   ]
  },
  {
   "cell_type": "code",
   "execution_count": 38,
   "metadata": {},
   "outputs": [],
   "source": [
    "options(repr.plot.width=8, repr.plot.height=2.5)"
   ]
  },
  {
   "cell_type": "code",
   "execution_count": 47,
   "metadata": {},
   "outputs": [
    {
     "data": {
      "image/png": "[encoded data removed]",
      "text/plain": [
       "Plot with title \"yt & zt\""
      ]
     },
     "metadata": {},
     "output_type": "display_data"
    }
   ],
   "source": [
    "par(mfrow=c(1,4))\n",
    "nsim <- 10000\n",
    "yt <- c(0,0,0,0)\n",
    "zt <- rnorm(nsim)\n",
    "\n",
    "for (i in 5:nsim) {\n",
    "    yt[i] <- 0.8*yt[i-1] + zt[i-3] + 1.5*zt[i-4]+ rnorm(1)}\n",
    "\n",
    "ccf(yt,zt,lag.max=20, type=\"covariance\", xlim=c(0,20))\n",
    "\n",
    "\n",
    "for (i in 5:nsim) {\n",
    "    yt[i] <- 0.8*yt[i-1] + zt[i-3] - 1.5*zt[i-4]+ rnorm(1)}\n",
    "\n",
    "ccf(yt,zt,lag.max=20, type=\"covariance\", xlim=c(0,20))\n",
    "\n",
    "\n",
    "for (i in 5:nsim) {\n",
    "    yt[i] <- 0.8*yt[i-1] - 0.6*yt[i-2] + zt[i-3]+ rnorm(1)}\n",
    "\n",
    "ccf(yt,zt,lag.max=20, type=\"covariance\", xlim=c(0,20))\n",
    "\n",
    "\n",
    "for (i in 5:nsim) {\n",
    "    yt[i] <- 1.4*yt[i-1] - 0.6*yt[i-2] + zt[i-3]+ rnorm(1)}\n",
    "\n",
    "ccf(yt,zt,lag.max=20, type=\"covariance\", xlim=c(0,20))"
   ]
  }
 ],
 "metadata": {
  "kernelspec": {
   "display_name": "R",
   "language": "R",
   "name": "ir"
  },
  "language_info": {
   "codemirror_mode": "r",
   "file_extension": ".r",
   "mimetype": "text/x-r-source",
   "name": "R",
   "pygments_lexer": "r",
   "version": "3.5.1"
  }
 },
 "nbformat": 4,
 "nbformat_minor": 2
}
