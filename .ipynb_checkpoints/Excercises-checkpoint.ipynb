{
 "cells": [
  {
   "cell_type": "markdown",
   "metadata": {},
   "source": [
    "# Excercises"
   ]
  },
  {
   "cell_type": "code",
   "execution_count": 9,
   "metadata": {},
   "outputs": [],
   "source": [
    "library(repr)\n",
    "options(repr.plot.width=8, repr.plot.height=2.5)"
   ]
  },
  {
   "cell_type": "code",
   "execution_count": 10,
   "metadata": {},
   "outputs": [
    {
     "data": {
      "text/html": [
       "1.15349572284361"
      ],
      "text/latex": [
       "1.15349572284361"
      ],
      "text/markdown": [
       "1.15349572284361"
      ],
      "text/plain": [
       "[1] 1.153496"
      ]
     },
     "metadata": {},
     "output_type": "display_data"
    },
    {
     "data": {
      "text/html": [
       "1.15518324976221"
      ],
      "text/latex": [
       "1.15518324976221"
      ],
      "text/markdown": [
       "1.15518324976221"
      ],
      "text/plain": [
       "[1] 1.155183"
      ]
     },
     "metadata": {},
     "output_type": "display_data"
    },
    {
     "ename": "ERROR",
     "evalue": "Error in png(tf, width, height, \"in\", pointsize, bg, res, antialias = antialias): kan ikke starte png()-enhed\n",
     "output_type": "error",
     "traceback": [
      "Error in png(tf, width, height, \"in\", pointsize, bg, res, antialias = antialias): kan ikke starte png()-enhed\nTraceback:\n"
     ]
    },
    {
     "data": {
      "text/plain": [
       "Plot with title \"Series  AR_pro\""
      ]
     },
     "metadata": {},
     "output_type": "display_data"
    },
    {
     "ename": "ERROR",
     "evalue": "Error in png(tf, width, height, \"in\", pointsize, bg, res, antialias = antialias): kan ikke starte png()-enhed\n",
     "output_type": "error",
     "traceback": [
      "Error in png(tf, width, height, \"in\", pointsize, bg, res, antialias = antialias): kan ikke starte png()-enhed\nTraceback:\n"
     ]
    },
    {
     "data": {
      "text/plain": [
       "Plot with title \"Series  AR_pro\""
      ]
     },
     "metadata": {},
     "output_type": "display_data"
    }
   ],
   "source": [
    "# MA(inf) from AR(1)\n",
    "MA <- ARMAtoMA(ar = 0.5, ma = 0, lag.max=1000)\n",
    "\n",
    "# AR(inf) from MA(1)\n",
    "# AR <- ARMAtoMA(ar = -0.8, ma = 0, lag.max=10)\n",
    "\n",
    "# Check if MA(inf) equals AR(1)\n",
    "AR_pro <- arima.sim(n = 10000, list(order=c(1,0,0), ar=c(0.5)))\n",
    "\n",
    "MA_pro <- arima.sim(n = 10000, list(order=c(0,0,1000), ma=MA))\n",
    "\n",
    "sd(MA_pro)\n",
    "sd(AR_pro)\n",
    "\n",
    "par(mfrow=c(1,2))\n",
    "acf(MA_pro)\n",
    "acf(AR_pro)\n",
    "par(mfrow=c(1,2))\n",
    "pacf(MA_pro)\n",
    "pacf(AR_pro)"
   ]
  },
  {
   "cell_type": "markdown",
   "metadata": {},
   "source": [
    "# Chapter 3"
   ]
  },
  {
   "cell_type": "code",
   "execution_count": 11,
   "metadata": {},
   "outputs": [
    {
     "name": "stderr",
     "output_type": "stream",
     "text": [
      "Parsed with column specification:\n",
      "cols(\n",
      "  X1 = col_double()\n",
      ")\n"
     ]
    },
    {
     "data": {
      "text/html": [
       "<table>\n",
       "<thead><tr><th scope=col>X1</th></tr></thead>\n",
       "<tbody>\n",
       "\t<tr><td>2.24</td></tr>\n",
       "\t<tr><td>2.26</td></tr>\n",
       "\t<tr><td>2.29</td></tr>\n",
       "\t<tr><td>2.26</td></tr>\n",
       "\t<tr><td>2.27</td></tr>\n",
       "\t<tr><td>2.30</td></tr>\n",
       "</tbody>\n",
       "</table>\n"
      ],
      "text/latex": [
       "\\begin{tabular}{r|l}\n",
       " X1\\\\\n",
       "\\hline\n",
       "\t 2.24\\\\\n",
       "\t 2.26\\\\\n",
       "\t 2.29\\\\\n",
       "\t 2.26\\\\\n",
       "\t 2.27\\\\\n",
       "\t 2.30\\\\\n",
       "\\end{tabular}\n"
      ],
      "text/markdown": [
       "\n",
       "X1 | \n",
       "|---|---|---|---|---|---|\n",
       "| 2.24 | \n",
       "| 2.26 | \n",
       "| 2.29 | \n",
       "| 2.26 | \n",
       "| 2.27 | \n",
       "| 2.30 | \n",
       "\n",
       "\n"
      ],
      "text/plain": [
       "  X1  \n",
       "1 2.24\n",
       "2 2.26\n",
       "3 2.29\n",
       "4 2.26\n",
       "5 2.27\n",
       "6 2.30"
      ]
     },
     "metadata": {},
     "output_type": "display_data"
    }
   ],
   "source": [
    "library(readr)\n",
    "exchange <- read_csv(\"~/GitHub/Applied-Econometric-Time-Series-WE/Data/exchange.dat\", col_names=F)\n",
    "head(exchange)"
   ]
  },
  {
   "cell_type": "markdown",
   "metadata": {},
   "source": [
    "1. Plot the exchange rate and the autocovariance function (correllogram) of the series.\n",
    "Does the mean look constant over time?"
   ]
  },
  {
   "cell_type": "code",
   "execution_count": 8,
   "metadata": {},
   "outputs": [
    {
     "ename": "ERROR",
     "evalue": "Error in png(tf, width, height, \"in\", pointsize, bg, res, antialias = antialias): kan ikke starte png()-enhed\n",
     "output_type": "error",
     "traceback": [
      "Error in png(tf, width, height, \"in\", pointsize, bg, res, antialias = antialias): kan ikke starte png()-enhed\nTraceback:\n"
     ]
    },
    {
     "data": {
      "text/plain": [
       "Plot with title \"X1\""
      ]
     },
     "metadata": {},
     "output_type": "display_data"
    },
    {
     "ename": "ERROR",
     "evalue": "Error in png(tf, width, height, \"in\", pointsize, bg, res, antialias = antialias): kan ikke starte png()-enhed\n",
     "output_type": "error",
     "traceback": [
      "Error in png(tf, width, height, \"in\", pointsize, bg, res, antialias = antialias): kan ikke starte png()-enhed\nTraceback:\n"
     ]
    },
    {
     "data": {
      "text/plain": [
       "Plot with title \"Series  exchange\""
      ]
     },
     "metadata": {},
     "output_type": "display_data"
    }
   ],
   "source": [
    "exchange <- as.ts(exchange)\n",
    "\n",
    "acf(exchange)\n",
    "pacf(exchange)\n"
   ]
  },
  {
   "cell_type": "code",
   "execution_count": null,
   "metadata": {},
   "outputs": [],
   "source": []
  },
  {
   "cell_type": "code",
   "execution_count": null,
   "metadata": {},
   "outputs": [],
   "source": []
  },
  {
   "cell_type": "code",
   "execution_count": null,
   "metadata": {},
   "outputs": [],
   "source": []
  },
  {
   "cell_type": "code",
   "execution_count": null,
   "metadata": {},
   "outputs": [],
   "source": []
  },
  {
   "cell_type": "code",
   "execution_count": null,
   "metadata": {},
   "outputs": [],
   "source": []
  },
  {
   "cell_type": "code",
   "execution_count": null,
   "metadata": {},
   "outputs": [],
   "source": []
  }
 ],
 "metadata": {
  "kernelspec": {
   "display_name": "R",
   "language": "R",
   "name": "ir"
  },
  "language_info": {
   "codemirror_mode": "r",
   "file_extension": ".r",
   "mimetype": "text/x-r-source",
   "name": "R",
   "pygments_lexer": "r",
   "version": "3.5.1"
  }
 },
 "nbformat": 4,
 "nbformat_minor": 2
}
