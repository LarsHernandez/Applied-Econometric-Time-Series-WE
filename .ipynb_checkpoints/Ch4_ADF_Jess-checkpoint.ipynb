{
 "cells": [
  {
   "cell_type": "code",
   "execution_count": 2,
   "metadata": {},
   "outputs": [],
   "source": [
    "library(tidyverse)\n",
    "library(gridExtra) # Arrangning ggplots\n",
    "library(readr)     # Loading data\n",
    "library(readxl)    # Loading excel\n",
    "library(forecast)  \n",
    "library(repr)      # Resizing the plots in jupyter\n",
    "library(rugarch)   # For ARCH and GARCH models\n",
    "library(dynlm)     # Lagged linear models\n",
    "library(urca)      # Dick Fuller test\n",
    "library(car)       # Linear hyphothesis testing\n",
    "library(tseries)   # adf-test\n",
    "\n",
    "\n",
    "options(repr.plot.width=8, repr.plot.height=2.5)\n",
    "\n",
    "setwd(\"C:/Users/larsn/Documents/GitHub/Applied-Econometric-Time-Series-WE\")"
   ]
  },
  {
   "cell_type": "code",
   "execution_count": 6,
   "metadata": {},
   "outputs": [
    {
     "data": {
      "text/html": [
       "<table>\n",
       "<thead><tr><th scope=col>DATE</th><th scope=col>RGDP</th><th scope=col>GDP</th><th scope=col>Potential</th><th scope=col>RCons</th><th scope=col>RGovt</th><th scope=col>Rinv</th></tr></thead>\n",
       "<tbody>\n",
       "\t<tr><td>1947-01-01</td><td>1770.7    </td><td>237.2     </td><td>NA        </td><td>1130.9    </td><td>407.250   </td><td>188.675   </td></tr>\n",
       "\t<tr><td>1947-04-01</td><td>1768.0    </td><td>240.4     </td><td>NA        </td><td>1149.7    </td><td>409.821   </td><td>173.485   </td></tr>\n",
       "\t<tr><td>1947-07-01</td><td>1766.5    </td><td>244.5     </td><td>NA        </td><td>1153.4    </td><td>413.577   </td><td>167.924   </td></tr>\n",
       "\t<tr><td>1947-10-01</td><td>1793.3    </td><td>254.3     </td><td>NA        </td><td>1153.8    </td><td>407.464   </td><td>202.712   </td></tr>\n",
       "\t<tr><td>1948-01-01</td><td>1821.8    </td><td>260.3     </td><td>NA        </td><td>1159.6    </td><td>415.526   </td><td>224.682   </td></tr>\n",
       "\t<tr><td>1948-04-01</td><td>1855.3    </td><td>267.3     </td><td>NA        </td><td>1173.0    </td><td>435.526   </td><td>239.489   </td></tr>\n",
       "</tbody>\n",
       "</table>\n"
      ],
      "text/latex": [
       "\\begin{tabular}{r|lllllll}\n",
       " DATE & RGDP & GDP & Potential & RCons & RGovt & Rinv\\\\\n",
       "\\hline\n",
       "\t 1947-01-01 & 1770.7     & 237.2      & NA         & 1130.9     & 407.250    & 188.675   \\\\\n",
       "\t 1947-04-01 & 1768.0     & 240.4      & NA         & 1149.7     & 409.821    & 173.485   \\\\\n",
       "\t 1947-07-01 & 1766.5     & 244.5      & NA         & 1153.4     & 413.577    & 167.924   \\\\\n",
       "\t 1947-10-01 & 1793.3     & 254.3      & NA         & 1153.8     & 407.464    & 202.712   \\\\\n",
       "\t 1948-01-01 & 1821.8     & 260.3      & NA         & 1159.6     & 415.526    & 224.682   \\\\\n",
       "\t 1948-04-01 & 1855.3     & 267.3      & NA         & 1173.0     & 435.526    & 239.489   \\\\\n",
       "\\end{tabular}\n"
      ],
      "text/markdown": [
       "\n",
       "DATE | RGDP | GDP | Potential | RCons | RGovt | Rinv | \n",
       "|---|---|---|---|---|---|\n",
       "| 1947-01-01 | 1770.7     | 237.2      | NA         | 1130.9     | 407.250    | 188.675    | \n",
       "| 1947-04-01 | 1768.0     | 240.4      | NA         | 1149.7     | 409.821    | 173.485    | \n",
       "| 1947-07-01 | 1766.5     | 244.5      | NA         | 1153.4     | 413.577    | 167.924    | \n",
       "| 1947-10-01 | 1793.3     | 254.3      | NA         | 1153.8     | 407.464    | 202.712    | \n",
       "| 1948-01-01 | 1821.8     | 260.3      | NA         | 1159.6     | 415.526    | 224.682    | \n",
       "| 1948-04-01 | 1855.3     | 267.3      | NA         | 1173.0     | 435.526    | 239.489    | \n",
       "\n",
       "\n"
      ],
      "text/plain": [
       "  DATE       RGDP   GDP   Potential RCons  RGovt   Rinv   \n",
       "1 1947-01-01 1770.7 237.2 NA        1130.9 407.250 188.675\n",
       "2 1947-04-01 1768.0 240.4 NA        1149.7 409.821 173.485\n",
       "3 1947-07-01 1766.5 244.5 NA        1153.4 413.577 167.924\n",
       "4 1947-10-01 1793.3 254.3 NA        1153.8 407.464 202.712\n",
       "5 1948-01-01 1821.8 260.3 NA        1159.6 415.526 224.682\n",
       "6 1948-04-01 1855.3 267.3 NA        1173.0 435.526 239.489"
      ]
     },
     "metadata": {},
     "output_type": "display_data"
    }
   ],
   "source": [
    "rgdp_adf <- read_excel(\"data/rgdp.xls\")\n",
    "head(rgdp_adf)"
   ]
  },
  {
   "cell_type": "code",
   "execution_count": 12,
   "metadata": {},
   "outputs": [],
   "source": [
    "#Real GDP\n",
    "R <- ts(rgdp_adf$RGDP, start = 1949, frequency = 4)\n",
    "\n",
    "#Log Real GDP\n",
    "LnR <- ts(log(R), start = 1949, frequency = 4)\n",
    "\n",
    "#logdiff til Real GDP\n",
    "DLR <- ts(stats::lag(LnR,1) - LnR, start = 1949, frequency = 4)"
   ]
  },
  {
   "cell_type": "code",
   "execution_count": 16,
   "metadata": {},
   "outputs": [
    {
     "data": {
      "image/png": "[encoded data removed]",
      "text/plain": [
       "plot without title"
      ]
     },
     "metadata": {},
     "output_type": "display_data"
    }
   ],
   "source": [
    "par(mfrow=c(1,3))\n",
    "\n",
    "plot(R)\n",
    "plot(LnR)\n",
    "plot(DLR)"
   ]
  },
  {
   "cell_type": "markdown",
   "metadata": {},
   "source": [
    "Ser stationært ud - måske med en lille smule positivt drift. Undersøger først om der er unit root i model med drift og trend: mindst restrektive model "
   ]
  },
  {
   "cell_type": "markdown",
   "metadata": {},
   "source": [
    "# 1. MODEL (intercept + trend)"
   ]
  },
  {
   "cell_type": "code",
   "execution_count": 20,
   "metadata": {},
   "outputs": [
    {
     "data": {
      "text/plain": [
       "\n",
       "Time series regression with \"ts\" data:\n",
       "Start = 1949(2), End = 2014(3)\n",
       "\n",
       "Call:\n",
       "dynlm(formula = DLR ~ trnd + stats::lag(LnR, -1) + stats::lag(DLR, \n",
       "    -1))\n",
       "\n",
       "Residuals:\n",
       "      Min        1Q    Median        3Q       Max \n",
       "-0.030533 -0.004380  0.000598  0.004866  0.034333 \n",
       "\n",
       "Coefficients:\n",
       "                      Estimate Std. Error t value Pr(>|t|)    \n",
       "(Intercept)          1.249e-01  7.919e-02   1.577    0.116    \n",
       "trnd                 1.117e-04  8.506e-05   1.313    0.190    \n",
       "stats::lag(LnR, -1) -1.563e-02  1.050e-02  -1.489    0.138    \n",
       "stats::lag(DLR, -1)  3.506e-01  5.786e-02   6.060 4.79e-09 ***\n",
       "---\n",
       "Signif. codes:  0 '***' 0.001 '**' 0.01 '*' 0.05 '.' 0.1 ' ' 1\n",
       "\n",
       "Residual standard error: 0.009106 on 258 degrees of freedom\n",
       "Multiple R-squared:  0.1569,\tAdjusted R-squared:  0.1471 \n",
       "F-statistic:    16 on 3 and 258 DF,  p-value: 1.43e-09\n"
      ]
     },
     "metadata": {},
     "output_type": "display_data"
    },
    {
     "data": {
      "text/html": [
       "0.0213909534184041"
      ],
      "text/latex": [
       "0.0213909534184041"
      ],
      "text/markdown": [
       "0.0213909534184041"
      ],
      "text/plain": [
       "[1] 0.02139095"
      ]
     },
     "metadata": {},
     "output_type": "display_data"
    },
    {
     "data": {
      "text/html": [
       "0.0213909534184041"
      ],
      "text/latex": [
       "0.0213909534184041"
      ],
      "text/markdown": [
       "0.0213909534184041"
      ],
      "text/plain": [
       "[1] 0.02139095"
      ]
     },
     "metadata": {},
     "output_type": "display_data"
    }
   ],
   "source": [
    "trnd <- seq_along(DLR) # Definer en trend, drift er med i intercept\n",
    "\n",
    "GDP3 <- dynlm(DLR ~ trnd + stats::lag(LnR,-1) + stats::lag(DLR,-1))\n",
    "summary(GDP3)\n",
    "\n",
    "RSS3 <- sum(residuals(GDP3)^2)\n",
    "RSS3\n",
    "\n",
    "#En anden måde at få RSS\n",
    "anova(GDP3)[\"Residuals\", \"Sum Sq\"]"
   ]
  },
  {
   "cell_type": "markdown",
   "metadata": {},
   "source": [
    "$\\tau_\\tau$\n",
    "\n",
    "$H_0: \\gamma = 0 \\qquad\n",
    "H_A: \\gamma \\neq 0$ \n",
    "\n",
    "t-testen giver en værdi på **-1,489** tau-kritiskeværdier **10%**: -3.13 **5%**: -3,43\n",
    "\n",
    "$H_0$ Hypotesen kan ikke forkastes\n",
    "Kan skyldes unødvendig drift eller trend \n",
    "\n",
    "Tester nu joint hypotesen ved phi_3 statistikken.\n",
    "\n",
    "$ \\phi_3: a_1 = \\gamma = 0 $\n",
    "\n",
    "For at teste dette opstilles den \"begrænsede\" model, med ovenstående kriterier."
   ]
  },
  {
   "cell_type": "code",
   "execution_count": 93,
   "metadata": {},
   "outputs": [
    {
     "data": {
      "text/html": [
       "2.96568973202918"
      ],
      "text/latex": [
       "2.96568973202918"
      ],
      "text/markdown": [
       "2.96568973202918"
      ],
      "text/plain": [
       "[1] 2.96569"
      ]
     },
     "metadata": {},
     "output_type": "display_data"
    }
   ],
   "source": [
    "GDP2 <- dynlm(DLR ~ stats::lag(DLR,-1))\n",
    "#summary(GDP2)\n",
    "\n",
    "RSS2 <- sum(residuals(GDP2)^2)\n",
    "\n",
    "phi3 <- ((RSS2 - RSS3)/2)/(RSS3/(262-4))\n",
    "phi3"
   ]
  },
  {
   "cell_type": "markdown",
   "metadata": {},
   "source": [
    "Den kritiske værdi  for phi_3 fordelingen er på **5%**: 6,34\n",
    "\n",
    "$H_0$ hypotesen kan således ikke forkastes - Modellen kan nu estimeres uden trend"
   ]
  },
  {
   "cell_type": "markdown",
   "metadata": {},
   "source": [
    "# 2. MODEL (intercept)"
   ]
  },
  {
   "cell_type": "code",
   "execution_count": 26,
   "metadata": {},
   "outputs": [
    {
     "data": {
      "text/plain": [
       "\n",
       "Time series regression with \"ts\" data:\n",
       "Start = 1949(2), End = 2014(3)\n",
       "\n",
       "Call:\n",
       "dynlm(formula = DLR ~ stats::lag(LnR, -1) + stats::lag(DLR, -1))\n",
       "\n",
       "Residuals:\n",
       "      Min        1Q    Median        3Q       Max \n",
       "-0.030204 -0.004753  0.000345  0.005290  0.035801 \n",
       "\n",
       "Coefficients:\n",
       "                      Estimate Std. Error t value Pr(>|t|)    \n",
       "(Intercept)          0.0214718  0.0081146   2.646  0.00864 ** \n",
       "stats::lag(LnR, -1) -0.0019058  0.0009303  -2.049  0.04152 *  \n",
       "stats::lag(DLR, -1)  0.3519467  0.0579288   6.076 4.39e-09 ***\n",
       "---\n",
       "Signif. codes:  0 '***' 0.001 '**' 0.01 '*' 0.05 '.' 0.1 ' ' 1\n",
       "\n",
       "Residual standard error: 0.009118 on 259 degrees of freedom\n",
       "Multiple R-squared:  0.1512,\tAdjusted R-squared:  0.1447 \n",
       "F-statistic: 23.08 on 2 and 259 DF,  p-value: 5.988e-10\n"
      ]
     },
     "metadata": {},
     "output_type": "display_data"
    }
   ],
   "source": [
    "GDP2.1 <- dynlm(DLR ~ stats::lag(LnR,-1) + stats::lag(DLR,-1))\n",
    "summary(GDP2.1)\n",
    "\n",
    "RSS4 <- sum(residuals(GDP2.1)^2)"
   ]
  },
  {
   "cell_type": "markdown",
   "metadata": {},
   "source": [
    "Der fortages t-test ved $\\tau_\\mu$\n",
    "Den kritiske værdi er på **5%**: -2,89'\n",
    "\n",
    "$H_0$ hypotesen kan således ikke forkastes. \n",
    "\n",
    "Tester nu for drift ved hypotesetest ved $\\phi_1$ fordeling "
   ]
  },
  {
   "cell_type": "code",
   "execution_count": 27,
   "metadata": {},
   "outputs": [
    {
     "data": {
      "text/plain": [
       "\n",
       "Time series regression with \"ts\" data:\n",
       "Start = 1949(2), End = 2014(3)\n",
       "\n",
       "Call:\n",
       "dynlm(formula = DLR ~ 0 + stats::lag(DLR, -1))\n",
       "\n",
       "Residuals:\n",
       "      Min        1Q    Median        3Q       Max \n",
       "-0.022677 -0.002173  0.003462  0.008506  0.045392 \n",
       "\n",
       "Coefficients:\n",
       "                    Estimate Std. Error t value Pr(>|t|)    \n",
       "stats::lag(DLR, -1)  0.61345    0.04888   12.55   <2e-16 ***\n",
       "---\n",
       "Signif. codes:  0 '***' 0.001 '**' 0.01 '*' 0.05 '.' 0.1 ' ' 1\n",
       "\n",
       "Residual standard error: 0.009937 on 261 degrees of freedom\n",
       "Multiple R-squared:  0.3763,\tAdjusted R-squared:  0.374 \n",
       "F-statistic: 157.5 on 1 and 261 DF,  p-value: < 2.2e-16\n"
      ]
     },
     "metadata": {},
     "output_type": "display_data"
    }
   ],
   "source": [
    "GDP1 <- dynlm(DLR ~ 0 + stats::lag(DLR,-1))\n",
    "summary(GDP1)\n",
    "RSS1 <- sum(residuals(GDP1)^2)"
   ]
  },
  {
   "cell_type": "markdown",
   "metadata": {},
   "source": [
    "$$ \\phi_1: a_0 = \\gamma = 0 $$\n"
   ]
  },
  {
   "cell_type": "code",
   "execution_count": 28,
   "metadata": {},
   "outputs": [
    {
     "data": {
      "text/html": [
       "25.4850416275416"
      ],
      "text/latex": [
       "25.4850416275416"
      ],
      "text/markdown": [
       "25.4850416275416"
      ],
      "text/plain": [
       "[1] 25.48504"
      ]
     },
     "metadata": {},
     "output_type": "display_data"
    }
   ],
   "source": [
    "phi1 <- ((RSS1 - RSS4)/2)/(RSS4/(262-3)) \n",
    "phi1"
   ]
  },
  {
   "cell_type": "markdown",
   "metadata": {},
   "source": [
    "Værdien er langt over den kritiskeværdi og det er derfor gældende \n",
    "\n",
    "$$\\gamma \\neq 0 \\space og/eller \\space a_0 \\neq 0 $$\n",
    "\n",
    "Laver nu t-test for nedenstående for $H_0 :a_0 = 0$"
   ]
  },
  {
   "cell_type": "code",
   "execution_count": 29,
   "metadata": {},
   "outputs": [
    {
     "data": {
      "text/plain": [
       "\n",
       "Time series regression with \"ts\" data:\n",
       "Start = 1949(2), End = 2014(3)\n",
       "\n",
       "Call:\n",
       "dynlm(formula = DLR ~ 1 + stats::lag(DLR, -1))\n",
       "\n",
       "Residuals:\n",
       "      Min        1Q    Median        3Q       Max \n",
       "-0.028447 -0.004576 -0.000031  0.005370  0.038190 \n",
       "\n",
       "Coefficients:\n",
       "                     Estimate Std. Error t value Pr(>|t|)    \n",
       "(Intercept)         0.0049140  0.0007229   6.797 7.26e-11 ***\n",
       "stats::lag(DLR, -1) 0.3705749  0.0575612   6.438 5.81e-10 ***\n",
       "---\n",
       "Signif. codes:  0 '***' 0.001 '**' 0.01 '*' 0.05 '.' 0.1 ' ' 1\n",
       "\n",
       "Residual standard error: 0.009174 on 260 degrees of freedom\n",
       "Multiple R-squared:  0.1375,\tAdjusted R-squared:  0.1342 \n",
       "F-statistic: 41.45 on 1 and 260 DF,  p-value: 5.81e-10\n"
      ]
     },
     "metadata": {},
     "output_type": "display_data"
    }
   ],
   "source": [
    "GDP1.1 <- dynlm(DLR ~ 1 + stats::lag(DLR,-1))\n",
    "summary(GDP1.1)"
   ]
  },
  {
   "cell_type": "markdown",
   "metadata": {},
   "source": [
    "Forkaster $H_0$, $a_0$er signifikant og hører derved til i modellen.\n",
    "\n",
    "\n",
    "Fortager igen skridt 3 (Planen siger dog 2, men der skal testes uden trend og med drift): test-t for $\\gamma=0$"
   ]
  },
  {
   "cell_type": "code",
   "execution_count": 37,
   "metadata": {},
   "outputs": [
    {
     "data": {
      "text/html": [
       "17.6118634760332"
      ],
      "text/latex": [
       "17.6118634760332"
      ],
      "text/markdown": [
       "17.6118634760332"
      ],
      "text/plain": [
       "[1] 17.61186"
      ]
     },
     "metadata": {},
     "output_type": "display_data"
    },
    {
     "name": "stderr",
     "output_type": "stream",
     "text": [
      "Warning message in adf.test(DLR):\n",
      "\"p-value smaller than printed p-value\""
     ]
    },
    {
     "data": {
      "text/plain": [
       "\n",
       "\tAugmented Dickey-Fuller Test\n",
       "\n",
       "data:  DLR\n",
       "Dickey-Fuller = -6.4226, Lag order = 6, p-value = 0.01\n",
       "alternative hypothesis: stationary\n"
      ]
     },
     "metadata": {},
     "output_type": "display_data"
    }
   ],
   "source": [
    "phi2 <- ((RSS1 - RSS3)/3)/(RSS3/(262-4))\n",
    "phi2\n",
    "\n",
    "adf.test(DLR)"
   ]
  },
  {
   "cell_type": "markdown",
   "metadata": {},
   "source": [
    "# Anvendelse af car pakken"
   ]
  },
  {
   "cell_type": "markdown",
   "metadata": {},
   "source": [
    "### $\\gamma  = 0$ er en random walk (unit root process). Vi førsøger at afvise dette, men det giver problemer hvis modellen indeholder et intercept(drift) eller en trend, men de må kun smides ud af modellen hvis de ikke er relevante, så det skal undersøges.\n",
    "\n",
    "### Konklusionen bliver at der er et intercept(drift) og at $\\gamma$ lige er signifikant"
   ]
  },
  {
   "cell_type": "code",
   "execution_count": 94,
   "metadata": {},
   "outputs": [
    {
     "data": {
      "text/plain": [
       "\n",
       "Time series regression with \"ts\" data:\n",
       "Start = 1949(2), End = 2014(3)\n",
       "\n",
       "Call:\n",
       "dynlm(formula = DLR ~ trnd + L(LnR, 1) + L(DLR, 1))\n",
       "\n",
       "Residuals:\n",
       "      Min        1Q    Median        3Q       Max \n",
       "-0.030533 -0.004380  0.000598  0.004866  0.034333 \n",
       "\n",
       "Coefficients:\n",
       "              Estimate Std. Error t value Pr(>|t|)    \n",
       "(Intercept)  1.249e-01  7.919e-02   1.577    0.116    \n",
       "trnd         1.117e-04  8.506e-05   1.313    0.190    \n",
       "L(LnR, 1)   -1.563e-02  1.050e-02  -1.489    0.138    \n",
       "L(DLR, 1)    3.506e-01  5.786e-02   6.060 4.79e-09 ***\n",
       "---\n",
       "Signif. codes:  0 '***' 0.001 '**' 0.01 '*' 0.05 '.' 0.1 ' ' 1\n",
       "\n",
       "Residual standard error: 0.009106 on 258 degrees of freedom\n",
       "Multiple R-squared:  0.1569,\tAdjusted R-squared:  0.1471 \n",
       "F-statistic:    16 on 3 and 258 DF,  p-value: 1.43e-09\n"
      ]
     },
     "metadata": {},
     "output_type": "display_data"
    }
   ],
   "source": [
    "reg <- dynlm(DLR ~ trnd + L(LnR,1) + L(DLR,1))\n",
    "summary(reg)"
   ]
  },
  {
   "cell_type": "code",
   "execution_count": 86,
   "metadata": {},
   "outputs": [
    {
     "data": {
      "text/html": [
       "-1.48911688360075"
      ],
      "text/latex": [
       "-1.48911688360075"
      ],
      "text/markdown": [
       "-1.48911688360075"
      ],
      "text/plain": [
       "[1] -1.489117"
      ]
     },
     "metadata": {},
     "output_type": "display_data"
    }
   ],
   "source": [
    "summary(reg)$coefficients[\"L(LnR, 1)\", \"t value\"]"
   ]
  },
  {
   "cell_type": "markdown",
   "metadata": {},
   "source": [
    "den ligger indenfor 3.45 og -3.45 derfor kan vi ikke afvise random walk"
   ]
  },
  {
   "cell_type": "code",
   "execution_count": 96,
   "metadata": {},
   "outputs": [
    {
     "data": {
      "text/html": [
       "<table>\n",
       "<thead><tr><th scope=col>Res.Df</th><th scope=col>RSS</th><th scope=col>Df</th><th scope=col>Sum of Sq</th><th scope=col>F</th><th scope=col>Pr(&gt;F)</th></tr></thead>\n",
       "<tbody>\n",
       "\t<tr><td>260         </td><td>0.02188273  </td><td>NA          </td><td>          NA</td><td>     NA     </td><td>        NA  </td></tr>\n",
       "\t<tr><td>258         </td><td>0.02139095  </td><td> 2          </td><td>0.0004917747</td><td>2.96569     </td><td>0.05328433  </td></tr>\n",
       "</tbody>\n",
       "</table>\n"
      ],
      "text/latex": [
       "\\begin{tabular}{r|llllll}\n",
       " Res.Df & RSS & Df & Sum of Sq & F & Pr(>F)\\\\\n",
       "\\hline\n",
       "\t 260          & 0.02188273   & NA           &           NA &      NA      &         NA  \\\\\n",
       "\t 258          & 0.02139095   &  2           & 0.0004917747 & 2.96569      & 0.05328433  \\\\\n",
       "\\end{tabular}\n"
      ],
      "text/markdown": [
       "\n",
       "Res.Df | RSS | Df | Sum of Sq | F | Pr(>F) | \n",
       "|---|---|\n",
       "| 260          | 0.02188273   | NA           |           NA |      NA      |         NA   | \n",
       "| 258          | 0.02139095   |  2           | 0.0004917747 | 2.96569      | 0.05328433   | \n",
       "\n",
       "\n"
      ],
      "text/plain": [
       "  Res.Df RSS        Df Sum of Sq    F       Pr(>F)    \n",
       "1 260    0.02188273 NA           NA      NA         NA\n",
       "2 258    0.02139095  2 0.0004917747 2.96569 0.05328433"
      ]
     },
     "metadata": {},
     "output_type": "display_data"
    },
    {
     "data": {
      "text/html": [
       "<table>\n",
       "<thead><tr><th scope=col>Res.Df</th><th scope=col>RSS</th><th scope=col>Df</th><th scope=col>Sum of Sq</th><th scope=col>F</th><th scope=col>Pr(&gt;F)</th></tr></thead>\n",
       "<tbody>\n",
       "\t<tr><td>261         </td><td>0.02577159  </td><td>NA          </td><td>         NA </td><td>      NA    </td><td>          NA</td></tr>\n",
       "\t<tr><td>258         </td><td>0.02139095  </td><td> 3          </td><td>0.004380634 </td><td>17.61186    </td><td>1.970711e-10</td></tr>\n",
       "</tbody>\n",
       "</table>\n"
      ],
      "text/latex": [
       "\\begin{tabular}{r|llllll}\n",
       " Res.Df & RSS & Df & Sum of Sq & F & Pr(>F)\\\\\n",
       "\\hline\n",
       "\t 261          & 0.02577159   & NA           &          NA  &       NA     &           NA\\\\\n",
       "\t 258          & 0.02139095   &  3           & 0.004380634  & 17.61186     & 1.970711e-10\\\\\n",
       "\\end{tabular}\n"
      ],
      "text/markdown": [
       "\n",
       "Res.Df | RSS | Df | Sum of Sq | F | Pr(>F) | \n",
       "|---|---|\n",
       "| 261          | 0.02577159   | NA           |          NA  |       NA     |           NA | \n",
       "| 258          | 0.02139095   |  3           | 0.004380634  | 17.61186     | 1.970711e-10 | \n",
       "\n",
       "\n"
      ],
      "text/plain": [
       "  Res.Df RSS        Df Sum of Sq   F        Pr(>F)      \n",
       "1 261    0.02577159 NA          NA       NA           NA\n",
       "2 258    0.02139095  3 0.004380634 17.61186 1.970711e-10"
      ]
     },
     "metadata": {},
     "output_type": "display_data"
    }
   ],
   "source": [
    "linearHypothesis(reg,\n",
    "                 c(\"L(LnR, 1) = 0\", \"trnd = 0\"),\n",
    "                 test=\"F\")\n",
    "linearHypothesis(reg,\n",
    "                 c(\"L(LnR, 1) = 0\", \"(Intercept) = 0\", \"trnd = 0\"),\n",
    "                 test=\"F\")"
   ]
  },
  {
   "cell_type": "code",
   "execution_count": null,
   "metadata": {},
   "outputs": [],
   "source": []
  },
  {
   "cell_type": "code",
   "execution_count": 88,
   "metadata": {},
   "outputs": [
    {
     "data": {
      "text/html": [
       "-2.04852993001256"
      ],
      "text/latex": [
       "-2.04852993001256"
      ],
      "text/markdown": [
       "-2.04852993001256"
      ],
      "text/plain": [
       "[1] -2.04853"
      ]
     },
     "metadata": {},
     "output_type": "display_data"
    }
   ],
   "source": [
    "reg2 <- dynlm(DLR ~ L(LnR,1) + L(DLR,1))\n",
    "summary(reg2)$coefficients[\"L(LnR, 1)\", \"t value\"]"
   ]
  },
  {
   "cell_type": "markdown",
   "metadata": {},
   "source": [
    "Denne kan stadig ikke afvises da den ligger indenfor 2.89 og -2.89\n",
    "\n",
    "Vi konkluderer derfor at der er en random walk, men med et drift term, altså intercept"
   ]
  },
  {
   "cell_type": "code",
   "execution_count": 89,
   "metadata": {},
   "outputs": [
    {
     "data": {
      "text/html": [
       "<table>\n",
       "<thead><tr><th scope=col>Res.Df</th><th scope=col>RSS</th><th scope=col>Df</th><th scope=col>Sum of Sq</th><th scope=col>F</th><th scope=col>Pr(&gt;F)</th></tr></thead>\n",
       "<tbody>\n",
       "\t<tr><td>261         </td><td>0.02577159  </td><td>NA          </td><td>         NA </td><td>      NA    </td><td>          NA</td></tr>\n",
       "\t<tr><td>259         </td><td>0.02153382  </td><td> 2          </td><td>0.004237764 </td><td>25.48504    </td><td>7.877854e-11</td></tr>\n",
       "</tbody>\n",
       "</table>\n"
      ],
      "text/latex": [
       "\\begin{tabular}{r|llllll}\n",
       " Res.Df & RSS & Df & Sum of Sq & F & Pr(>F)\\\\\n",
       "\\hline\n",
       "\t 261          & 0.02577159   & NA           &          NA  &       NA     &           NA\\\\\n",
       "\t 259          & 0.02153382   &  2           & 0.004237764  & 25.48504     & 7.877854e-11\\\\\n",
       "\\end{tabular}\n"
      ],
      "text/markdown": [
       "\n",
       "Res.Df | RSS | Df | Sum of Sq | F | Pr(>F) | \n",
       "|---|---|\n",
       "| 261          | 0.02577159   | NA           |          NA  |       NA     |           NA | \n",
       "| 259          | 0.02153382   |  2           | 0.004237764  | 25.48504     | 7.877854e-11 | \n",
       "\n",
       "\n"
      ],
      "text/plain": [
       "  Res.Df RSS        Df Sum of Sq   F        Pr(>F)      \n",
       "1 261    0.02577159 NA          NA       NA           NA\n",
       "2 259    0.02153382  2 0.004237764 25.48504 7.877854e-11"
      ]
     },
     "metadata": {},
     "output_type": "display_data"
    }
   ],
   "source": [
    "linearHypothesis(reg2,\n",
    "                 c(\"L(LnR, 1) = 0\", \"(Intercept) = 0\"),\n",
    "                 test=\"F\")"
   ]
  },
  {
   "cell_type": "markdown",
   "metadata": {},
   "source": [
    "Vi konkluderer at der er et intercept som ikke er 0"
   ]
  },
  {
   "cell_type": "code",
   "execution_count": 107,
   "metadata": {},
   "outputs": [
    {
     "data": {
      "text/html": [
       "7.25531697544671e-11"
      ],
      "text/latex": [
       "7.25531697544671e-11"
      ],
      "text/markdown": [
       "7.25531697544671e-11"
      ],
      "text/plain": [
       "[1] 7.255317e-11"
      ]
     },
     "metadata": {},
     "output_type": "display_data"
    }
   ],
   "source": [
    "reg2.1 <- dynlm(DLR ~  L(DLR,1))\n",
    "summary(reg2.1)$coefficients[\"(Intercept)\", \"Pr(>|t|)\"]"
   ]
  },
  {
   "cell_type": "markdown",
   "metadata": {},
   "source": [
    "VI kigger nu tilbage på t-værdien i regressionen med en intercept men uden trend, denne kan vi se stadig ikke er signifikant efter $\\tau_t$ fordelingen"
   ]
  },
  {
   "cell_type": "code",
   "execution_count": 109,
   "metadata": {},
   "outputs": [
    {
     "data": {
      "text/html": [
       "-2.04852993001256"
      ],
      "text/latex": [
       "-2.04852993001256"
      ],
      "text/markdown": [
       "-2.04852993001256"
      ],
      "text/plain": [
       "[1] -2.04853"
      ]
     },
     "metadata": {},
     "output_type": "display_data"
    }
   ],
   "source": [
    "summary(reg2)$coefficients[\"L(LnR, 1)\", \"t value\"]"
   ]
  },
  {
   "cell_type": "markdown",
   "metadata": {},
   "source": [
    "## Efter $\\tau$ fordelingen er resultatet ikke signifikant og vi kan derfor ikke afvise at det er en random walk "
   ]
  }
 ],
 "metadata": {
  "kernelspec": {
   "display_name": "R",
   "language": "R",
   "name": "ir"
  },
  "language_info": {
   "codemirror_mode": "r",
   "file_extension": ".r",
   "mimetype": "text/x-r-source",
   "name": "R",
   "pygments_lexer": "r",
   "version": "3.5.1"
  }
 },
 "nbformat": 4,
 "nbformat_minor": 2
}
