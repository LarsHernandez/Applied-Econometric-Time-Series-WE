{
 "cells": [
  {
   "cell_type": "code",
   "execution_count": 12,
   "metadata": {},
   "outputs": [],
   "source": [
    "library(tidyverse)\n",
    "library(repr)\n",
    "\n",
    "options(repr.plot.width=4, repr.plot.height=2)"
   ]
  },
  {
   "cell_type": "markdown",
   "metadata": {},
   "source": [
    "# Coefficients of the ARMA(2,1) process (WS 2.1)\n",
    "\n",
    "$y_t = 1.6y_{t-1}-0.9y_{t-2} + \\varepsilon_1 + 0.5\\varepsilon_{t-1}$\n",
    "\n",
    "Vi kan anvende tallene r og theta fra forrige WS da tallene er ens"
   ]
  },
  {
   "cell_type": "code",
   "execution_count": 13,
   "metadata": {},
   "outputs": [],
   "source": [
    "theta <- 0.567450475278837\n",
    "r <- 0.948683298050514"
   ]
  },
  {
   "cell_type": "code",
   "execution_count": 16,
   "metadata": {},
   "outputs": [
    {
     "data": {
      "image/png": "[encoded data removed]",
      "text/plain": [
       "plot without title"
      ]
     },
     "metadata": {},
     "output_type": "display_data"
    }
   ],
   "source": [
    "b1 <- 2.739\n",
    "b2 <- -1.197\n",
    "#round(cos(b2)-(r/2.1)*cos(theta+b2), 3)\n",
    "\n",
    "vec <- 0:50\n",
    "res <- b1*0.949^vec*cos(0.567*vec+b2)\n",
    "a   <- 2.739*0.949^vec*cos(0.567*vec-1.197)\n",
    "\n",
    "p <- ggplot() + \n",
    "    geom_line(aes(vec,res))\n",
    "print(p)"
   ]
  },
  {
   "cell_type": "code",
   "execution_count": 17,
   "metadata": {},
   "outputs": [
    {
     "data": {
      "image/png": "[encoded data removed]",
      "text/plain": [
       "plot without title"
      ]
     },
     "metadata": {},
     "output_type": "display_data"
    }
   ],
   "source": [
    "ktk <- c(1,2.1)\n",
    "\n",
    "for (i in 3:50) {\n",
    "    ktk[i] <- 1.6*ktk[i-1]-0.9*ktk[i-2] \n",
    "}\n",
    "\n",
    "p <- ggplot() + \n",
    "    geom_line(aes(0:49, ktk))\n",
    "\n",
    "print(p)"
   ]
  },
  {
   "cell_type": "markdown",
   "metadata": {},
   "source": [
    "# Calculation of the partial autocorrelations of $y_t = -0.7y_{t-1} + \\varepsilon_t - 0.7\\varepsilon_{t-1}$ (WS 2.2)"
   ]
  },
  {
   "cell_type": "code",
   "execution_count": null,
   "metadata": {},
   "outputs": [],
   "source": []
  },
  {
   "cell_type": "code",
   "execution_count": null,
   "metadata": {},
   "outputs": [],
   "source": []
  },
  {
   "cell_type": "code",
   "execution_count": null,
   "metadata": {},
   "outputs": [],
   "source": []
  },
  {
   "cell_type": "code",
   "execution_count": null,
   "metadata": {},
   "outputs": [],
   "source": []
  }
 ],
 "metadata": {
  "kernelspec": {
   "display_name": "R",
   "language": "R",
   "name": "ir"
  },
  "language_info": {
   "codemirror_mode": "r",
   "file_extension": ".r",
   "mimetype": "text/x-r-source",
   "name": "R",
   "pygments_lexer": "r",
   "version": "3.5.1"
  }
 },
 "nbformat": 4,
 "nbformat_minor": 2
}
