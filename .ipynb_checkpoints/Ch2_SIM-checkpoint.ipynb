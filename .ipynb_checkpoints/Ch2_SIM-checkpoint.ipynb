{
 "cells": [
  {
   "cell_type": "markdown",
   "metadata": {},
   "source": [
    "# CHAPTER 2"
   ]
  },
  {
   "cell_type": "code",
   "execution_count": 2,
   "metadata": {},
   "outputs": [
    {
     "name": "stderr",
     "output_type": "stream",
     "text": [
      "-- Attaching packages --------------------------------------- tidyverse 1.2.1 --\n",
      "v ggplot2 3.1.0     v purrr   0.2.5\n",
      "v tibble  1.4.2     v dplyr   0.7.7\n",
      "v tidyr   0.8.2     v stringr 1.3.1\n",
      "v readr   1.1.1     v forcats 0.3.0\n",
      "-- Conflicts ------------------------------------------ tidyverse_conflicts() --\n",
      "x dplyr::filter() masks stats::filter()\n",
      "x dplyr::lag()    masks stats::lag()\n",
      "\n",
      "Attaching package: 'gridExtra'\n",
      "\n",
      "The following object is masked from 'package:dplyr':\n",
      "\n",
      "    combine\n",
      "\n",
      "Loading required package: parallel\n",
      "\n",
      "Attaching package: 'rugarch'\n",
      "\n",
      "The following object is masked from 'package:purrr':\n",
      "\n",
      "    reduce\n",
      "\n",
      "The following object is masked from 'package:stats':\n",
      "\n",
      "    sigma\n",
      "\n"
     ]
    }
   ],
   "source": [
    "library(tidyverse)\n",
    "library(gridExtra)\n",
    "library(readr)\n",
    "library(forecast)\n",
    "library(repr) # Resizing the plots in jupyter\n",
    "library(rugarch) # For multiplying lags\n",
    "\n",
    "options(repr.plot.width=8, repr.plot.height=2.5)\n",
    "\n",
    "setwd(\"C:/Users/larsn/Documents/GitHub/Applied-Econometric-Time-Series-WE\")"
   ]
  },
  {
   "cell_type": "code",
   "execution_count": 3,
   "metadata": {},
   "outputs": [
    {
     "name": "stderr",
     "output_type": "stream",
     "text": [
      "Parsed with column specification:\n",
      "cols(\n",
      "  OBS = col_integer(),\n",
      "  Y1 = col_double(),\n",
      "  Y2 = col_double(),\n",
      "  Y3 = col_double()\n",
      ")\n"
     ]
    },
    {
     "data": {
      "text/html": [
       "<table>\n",
       "<thead><tr><th scope=col>OBS</th><th scope=col>Y1</th><th scope=col>Y2</th><th scope=col>Y3</th></tr></thead>\n",
       "<tbody>\n",
       "\t<tr><td>1       </td><td> 0.60805</td><td> 3.96768</td><td> 0.04856</td></tr>\n",
       "\t<tr><td>2       </td><td>-0.29348</td><td>-2.23051</td><td> 0.14200</td></tr>\n",
       "\t<tr><td>3       </td><td>-0.68832</td><td> 1.69602</td><td>-0.10089</td></tr>\n",
       "\t<tr><td>4       </td><td>-0.86596</td><td>-1.61072</td><td>-0.50346</td></tr>\n",
       "\t<tr><td>5       </td><td> 0.66890</td><td> 3.79400</td><td>-0.50044</td></tr>\n",
       "\t<tr><td>6       </td><td> 0.65094</td><td>-4.81795</td><td> 0.15233</td></tr>\n",
       "</tbody>\n",
       "</table>\n"
      ],
      "text/latex": [
       "\\begin{tabular}{r|llll}\n",
       " OBS & Y1 & Y2 & Y3\\\\\n",
       "\\hline\n",
       "\t 1        &  0.60805 &  3.96768 &  0.04856\\\\\n",
       "\t 2        & -0.29348 & -2.23051 &  0.14200\\\\\n",
       "\t 3        & -0.68832 &  1.69602 & -0.10089\\\\\n",
       "\t 4        & -0.86596 & -1.61072 & -0.50346\\\\\n",
       "\t 5        &  0.66890 &  3.79400 & -0.50044\\\\\n",
       "\t 6        &  0.65094 & -4.81795 &  0.15233\\\\\n",
       "\\end{tabular}\n"
      ],
      "text/markdown": [
       "\n",
       "OBS | Y1 | Y2 | Y3 | \n",
       "|---|---|---|---|---|---|\n",
       "| 1        |  0.60805 |  3.96768 |  0.04856 | \n",
       "| 2        | -0.29348 | -2.23051 |  0.14200 | \n",
       "| 3        | -0.68832 |  1.69602 | -0.10089 | \n",
       "| 4        | -0.86596 | -1.61072 | -0.50346 | \n",
       "| 5        |  0.66890 |  3.79400 | -0.50044 | \n",
       "| 6        |  0.65094 | -4.81795 |  0.15233 | \n",
       "\n",
       "\n"
      ],
      "text/plain": [
       "  OBS Y1       Y2       Y3      \n",
       "1 1    0.60805  3.96768  0.04856\n",
       "2 2   -0.29348 -2.23051  0.14200\n",
       "3 3   -0.68832  1.69602 -0.10089\n",
       "4 4   -0.86596 -1.61072 -0.50346\n",
       "5 5    0.66890  3.79400 -0.50044\n",
       "6 6    0.65094 -4.81795  0.15233"
      ]
     },
     "metadata": {},
     "output_type": "display_data"
    }
   ],
   "source": [
    "SIM_2 <- read_delim(\"Data/SIM_2.csv\", \";\", \n",
    "                    escape_double = FALSE, locale = locale(decimal_mark = \",\"), \n",
    "                    trim_ws = TRUE)\n",
    "head(SIM_2)"
   ]
  },
  {
   "cell_type": "code",
   "execution_count": 4,
   "metadata": {},
   "outputs": [
    {
     "data": {
      "image/png": "[encoded data removed]",
      "text/plain": [
       "Plot with title \"Series  SIM_2$Y1\""
      ]
     },
     "metadata": {},
     "output_type": "display_data"
    }
   ],
   "source": [
    "par(mfrow=c(1,3))\n",
    "plot(SIM_2$Y1, type=\"l\")\n",
    "acf(SIM_2$Y1)\n",
    "pacf(SIM_2$Y1)"
   ]
  },
  {
   "cell_type": "code",
   "execution_count": 6,
   "metadata": {},
   "outputs": [
    {
     "data": {
      "text/plain": [
       "\n",
       "Call:\n",
       "arima(x = SIM_2$Y1, order = c(1, 0, 0), include.mean = FALSE)\n",
       "\n",
       "Coefficients:\n",
       "         ar1\n",
       "      0.7840\n",
       "s.e.  0.0606\n",
       "\n",
       "sigma^2 estimated as 0.8525:  log likelihood = -134.39,  aic = 272.78"
      ]
     },
     "metadata": {},
     "output_type": "display_data"
    }
   ],
   "source": [
    "m1 <- arima(SIM_2$Y1, order = c(1,0,0), include.mean=FALSE)\n",
    "m1"
   ]
  },
  {
   "cell_type": "code",
   "execution_count": 7,
   "metadata": {},
   "outputs": [
    {
     "data": {
      "text/plain": [
       "\n",
       "\tBox-Ljung test\n",
       "\n",
       "data:  m1$residuals\n",
       "X-squared = 6.3024, df = 8, p-value = 0.6134\n"
      ]
     },
     "metadata": {},
     "output_type": "display_data"
    },
    {
     "data": {
      "text/plain": [
       "\n",
       "\tBox-Ljung test\n",
       "\n",
       "data:  m1$residuals\n",
       "X-squared = 15.666, df = 16, p-value = 0.4765\n"
      ]
     },
     "metadata": {},
     "output_type": "display_data"
    },
    {
     "data": {
      "text/plain": [
       "\n",
       "\tBox-Ljung test\n",
       "\n",
       "data:  m1$residuals\n",
       "X-squared = 21.528, df = 24, p-value = 0.6074\n"
      ]
     },
     "metadata": {},
     "output_type": "display_data"
    }
   ],
   "source": [
    "Box.test(m1$residuals,lag=8,type=\"Ljung-Box\")\n",
    "Box.test(m1$residuals,lag=16,type=\"Ljung-Box\")\n",
    "Box.test(m1$residuals,lag=24,type=\"Ljung-Box\")"
   ]
  },
  {
   "cell_type": "code",
   "execution_count": 8,
   "metadata": {},
   "outputs": [
    {
     "data": {
      "image/png": "[encoded data removed]",
      "text/plain": [
       "Plot with title \"Series  m1$residuals\""
      ]
     },
     "metadata": {},
     "output_type": "display_data"
    }
   ],
   "source": [
    "par(mfrow=c(1,2))\n",
    "acf(m1$residuals)\n",
    "pacf(m1$residuals)"
   ]
  },
  {
   "cell_type": "code",
   "execution_count": 9,
   "metadata": {},
   "outputs": [
    {
     "data": {
      "text/plain": [
       "\n",
       "Call:\n",
       "arima(x = SIM_2$Y1, order = c(1, 0, 12), include.mean = FALSE, fixed = c(NA, \n",
       "    0, 0, 0, 0, 0, 0, 0, 0, 0, 0, 0, NA))\n",
       "\n",
       "Coefficients:\n",
       "         ar1  ma1  ma2  ma3  ma4  ma5  ma6  ma7  ma8  ma9  ma10  ma11     ma12\n",
       "      0.7874    0    0    0    0    0    0    0    0    0     0     0  -0.0260\n",
       "s.e.  0.0626    0    0    0    0    0    0    0    0    0     0     0   0.1314\n",
       "\n",
       "sigma^2 estimated as 0.852:  log likelihood = -134.37,  aic = 274.74"
      ]
     },
     "metadata": {},
     "output_type": "display_data"
    }
   ],
   "source": [
    "m2 <- arima(SIM_2$Y1, order = c(1,0,12), fixed=c(NA,0,0,0,0,0,0,0,0,0,0,0,NA), include.mean=FALSE)\n",
    "m2"
   ]
  },
  {
   "cell_type": "markdown",
   "metadata": {},
   "source": [
    "Manually calculate AIC"
   ]
  },
  {
   "cell_type": "code",
   "execution_count": 10,
   "metadata": {},
   "outputs": [
    {
     "data": {
      "text/html": [
       "444.113308972011"
      ],
      "text/latex": [
       "444.113308972011"
      ],
      "text/markdown": [
       "444.113308972011"
      ],
      "text/plain": [
       "[1] 444.1133"
      ]
     },
     "metadata": {},
     "output_type": "display_data"
    }
   ],
   "source": [
    "T <- 99\n",
    "SSR <- sum(m1$residuals^2)\n",
    "n <- 2\n",
    "\n",
    "AIC <- T * log(SSR) + 2*n\n",
    "AIC"
   ]
  },
  {
   "cell_type": "markdown",
   "metadata": {},
   "source": [
    "## Next series"
   ]
  },
  {
   "cell_type": "code",
   "execution_count": 11,
   "metadata": {},
   "outputs": [
    {
     "data": {
      "text/plain": [
       "\n",
       "Call:\n",
       "arima(x = SIM_2$Y2, order = c(1, 0, 0))\n",
       "\n",
       "Coefficients:\n",
       "          ar1  intercept\n",
       "      -0.8502     0.0006\n",
       "s.e.   0.0524     0.0689\n",
       "\n",
       "sigma^2 estimated as 1.61:  log likelihood = -166.35,  aic = 338.7"
      ]
     },
     "metadata": {},
     "output_type": "display_data"
    },
    {
     "data": {
      "text/plain": [
       "\n",
       "Call:\n",
       "arima(x = SIM_2$Y2, order = c(1, 0, 1))\n",
       "\n",
       "Coefficients:\n",
       "          ar1      ma1  intercept\n",
       "      -0.7077  -0.6701    -0.0085\n",
       "s.e.   0.0785   0.0955     0.0219\n",
       "\n",
       "sigma^2 estimated as 1.225:  log likelihood = -153.08,  aic = 314.16"
      ]
     },
     "metadata": {},
     "output_type": "display_data"
    },
    {
     "data": {
      "text/plain": [
       "\n",
       "Call:\n",
       "arima(x = SIM_2$Y2, order = c(2, 0, 0))\n",
       "\n",
       "Coefficients:\n",
       "          ar1      ar2  intercept\n",
       "      -1.1776  -0.3842    -0.0030\n",
       "s.e.   0.0928   0.0929     0.0461\n",
       "\n",
       "sigma^2 estimated as 1.372:  log likelihood = -158.5,  aic = 325.01"
      ]
     },
     "metadata": {},
     "output_type": "display_data"
    }
   ],
   "source": [
    "m2_1 <- arima(SIM_2$Y2, order = c(1,0,0))\n",
    "m2_2 <- arima(SIM_2$Y2, order = c(1,0,1))\n",
    "m2_3 <- arima(SIM_2$Y2, order = c(2,0,0))\n",
    "\n",
    "m2_1\n",
    "m2_2\n",
    "m2_3"
   ]
  },
  {
   "cell_type": "code",
   "execution_count": 12,
   "metadata": {},
   "outputs": [
    {
     "data": {
      "image/png": "[encoded data removed]",
      "text/plain": [
       "Plot with title \"Series  m2_2$residuals\""
      ]
     },
     "metadata": {},
     "output_type": "display_data"
    }
   ],
   "source": [
    "par(mfrow=c(1,4))\n",
    "acf(m2_1$residuals)\n",
    "pacf(m2_1$residuals)\n",
    "\n",
    "acf(m2_2$residuals)\n",
    "pacf(m2_2$residuals)"
   ]
  },
  {
   "cell_type": "code",
   "execution_count": 13,
   "metadata": {},
   "outputs": [
    {
     "data": {
      "image/png": "[encoded data removed]",
      "text/plain": [
       "Plot with title \"Series  m2_3$residuals\""
      ]
     },
     "metadata": {},
     "output_type": "display_data"
    }
   ],
   "source": [
    "par(mfrow=c(1,2))\n",
    "acf(m2_3$residuals)\n",
    "pacf(m2_3$residuals)"
   ]
  },
  {
   "cell_type": "markdown",
   "metadata": {},
   "source": [
    "## Next series"
   ]
  },
  {
   "cell_type": "code",
   "execution_count": 14,
   "metadata": {},
   "outputs": [
    {
     "data": {
      "text/plain": [
       "\n",
       "Call:\n",
       "arima(x = SIM_2$Y3, order = c(2, 0, 0))\n",
       "\n",
       "Coefficients:\n",
       "         ar1      ar2  intercept\n",
       "      0.6842  -0.4748    -0.0250\n",
       "s.e.  0.0872   0.0865     0.0373\n",
       "\n",
       "sigma^2 estimated as 0.08635:  log likelihood = -19.8,  aic = 47.6"
      ]
     },
     "metadata": {},
     "output_type": "display_data"
    }
   ],
   "source": [
    "m3 <- arima(SIM_2$Y3, order = c(2,0,0))\n",
    "m3"
   ]
  },
  {
   "cell_type": "code",
   "execution_count": 15,
   "metadata": {},
   "outputs": [
    {
     "data": {
      "image/png": "[encoded data removed]",
      "text/plain": [
       "Plot with title \"Series  m3$residuals\""
      ]
     },
     "metadata": {},
     "output_type": "display_data"
    }
   ],
   "source": [
    "par(mfrow=c(1,2))\n",
    "acf(m3$residuals)\n",
    "pacf(m3$residuals)"
   ]
  },
  {
   "cell_type": "code",
   "execution_count": 16,
   "metadata": {},
   "outputs": [
    {
     "data": {
      "text/plain": [
       "\n",
       "\tBox-Ljung test\n",
       "\n",
       "data:  m3$residuals\n",
       "X-squared = 24.457, df = 16, p-value = 0.07998\n"
      ]
     },
     "metadata": {},
     "output_type": "display_data"
    }
   ],
   "source": [
    "Box.test(m3$residuals,lag=16,type=\"Ljung-Box\")"
   ]
  },
  {
   "cell_type": "markdown",
   "metadata": {},
   "source": [
    "There was autocorrelation at lag 16 according to Ljung-Box so we split dataset to control if lag 16 really is somehting"
   ]
  },
  {
   "cell_type": "code",
   "execution_count": 19,
   "metadata": {},
   "outputs": [
    {
     "data": {
      "image/png": "[encoded data removed]",
      "text/plain": [
       "Plot with title \"Series  m3_B$residuals\""
      ]
     },
     "metadata": {},
     "output_type": "display_data"
    }
   ],
   "source": [
    "A <- SIM_2$Y3[1:50]\n",
    "B <- SIM_2$Y3[51:100]\n",
    "\n",
    "m3_A <- arima(A, order = c(2,0,0))\n",
    "m3_B <- arima(B, order = c(2,0,0))\n",
    "\n",
    "\n",
    "par(mfrow=c(1,4))\n",
    "acf(m3_A$residuals)\n",
    "pacf(m3_A$residuals)\n",
    "\n",
    "acf(m3_B$residuals)\n",
    "pacf(m3_B$residuals)"
   ]
  },
  {
   "cell_type": "code",
   "execution_count": 18,
   "metadata": {},
   "outputs": [
    {
     "data": {
      "text/plain": [
       "\n",
       "\tBox-Ljung test\n",
       "\n",
       "data:  m3_B$residuals\n",
       "X-squared = 15.097, df = 16, p-value = 0.5176\n"
      ]
     },
     "metadata": {},
     "output_type": "display_data"
    }
   ],
   "source": [
    "Box.test(m3_B$residuals,lag=16,type=\"Ljung-Box\")"
   ]
  },
  {
   "cell_type": "markdown",
   "metadata": {},
   "source": [
    "Now the Ljung-Box test shows that we can clearly reject autocorrelation at lag 16"
   ]
  }
 ],
 "metadata": {
  "kernelspec": {
   "display_name": "R",
   "language": "R",
   "name": "ir"
  },
  "language_info": {
   "codemirror_mode": "r",
   "file_extension": ".r",
   "mimetype": "text/x-r-source",
   "name": "R",
   "pygments_lexer": "r",
   "version": "3.5.1"
  }
 },
 "nbformat": 4,
 "nbformat_minor": 2
}
