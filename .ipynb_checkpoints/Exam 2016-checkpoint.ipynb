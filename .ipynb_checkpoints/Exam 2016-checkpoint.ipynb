{
 "cells": [
  {
   "cell_type": "markdown",
   "metadata": {},
   "source": [
    "# EXAM 2016\n",
    "Data findes i en række CSV filer: \"volatilitet.csv\", \"VektorAutoregressiv.csv\", \"renter.csv\"og\n",
    "\"bnpdef.csv\"; jfr. Moodle."
   ]
  },
  {
   "cell_type": "code",
   "execution_count": 53,
   "metadata": {},
   "outputs": [],
   "source": [
    "library(tidyverse) # Readr, ggplot, dplyr, ...\n",
    "library(gridExtra) # Arrangning ggplots\n",
    "library(readxl)    # Loading excel\n",
    "library(repr)      # Resizing the plots in jupyter\n",
    "library(rugarch)   # For ARCH and GARCH models\n",
    "library(dynlm)     # Lagged linear models\n",
    "library(urca)      # Dick Fuller test\n",
    "library(car)       # Linear hyphothesis testing\n",
    "library(tseries)   # Adf-test\n",
    "library(vars)      # VAR models\n",
    "library(zoo)       # Convert quarters to date\n",
    "library(forecast)  \n",
    "\n",
    "options(repr.plot.width=8, repr.plot.height=2.5)"
   ]
  },
  {
   "cell_type": "markdown",
   "metadata": {},
   "source": [
    "#### Indlæsning af data og korrektion af datoer"
   ]
  },
  {
   "cell_type": "code",
   "execution_count": 119,
   "metadata": {},
   "outputs": [],
   "source": [
    "setwd(\"C:/Users/larsn/Documents/GitHub/Applied-Econometric-Time-Series-WE\")\n",
    "\n",
    "vol <- read_csv(\"Data/exam/volatilitet.csv\", \n",
    "    col_types = cols(dato = col_date(format = \"%d/%m/%Y\")))\n",
    "\n",
    "var <- read_csv(\"Data/exam/VektorAutoregressiv.csv\", \n",
    "    col_types = cols(Dato = col_date(format = \"%d/%m/%Y\")))\n",
    "\n",
    "rnt <- read_csv(\"Data/exam/renter.csv\", \n",
    "    col_types = cols(y = col_double()))\n",
    "rnt$dato <- as.Date(paste(01, rnt$maaned, rnt$aar, sep = \"-\" ), format = \"%d-%m-%Y\")\n",
    "rnt$aar <- NULL\n",
    "rnt$maaned <- NULL\n",
    "rnt <- arrange(rnt, rnt$dato)\n",
    "\n",
    "bnp <- read_csv(\"Data/exam/bnpdef.csv\", \n",
    "    col_types = cols(bnpdef = col_double()))\n",
    "bnp$dato <- as.Date(paste(01, bnp$maaned, bnp$aar, sep = \"-\" ), format = \"%d-%m-%Y\")\n",
    "bnp$aar <- NULL\n",
    "bnp$maaned <- NULL\n",
    "bnp <- arrange(bnp, bnp$dato)"
   ]
  },
  {
   "cell_type": "markdown",
   "metadata": {},
   "source": [
    "## Opgave 1: ARMA og ARIMA modeller [30%]"
   ]
  },
  {
   "cell_type": "markdown",
   "metadata": {},
   "source": [
    "**Sporgsmål 1.1** I forbindelse med en tidsrækkeanalyse, hvad er så nulhypotesen, når man anvender Ljung-Box teststoerelsen Q(k) med k frihedsgrader på en tidsrække?"
   ]
  },
  {
   "cell_type": "markdown",
   "metadata": {},
   "source": [
    "At der er serialkorrelation i residualet, derfor vil vi gerne kunne afvise den for så er alt fint."
   ]
  },
  {
   "cell_type": "markdown",
   "metadata": {},
   "source": [
    "$$ (1-0.81L)(x_t-0.19)=\\varepsilon_t $$\n",
    "\n",
    "**Spørgsmål 1.2** Hvilken model er ovenstående udtryk inden for klassen af ARIMA modeller, og hvilken model er det inden for klassen af ARMA modeller?\n",
    "\n",
    "Det er en ARMA(1,0) eller en ARIMA(1,0,0)"
   ]
  },
  {
   "cell_type": "markdown",
   "metadata": {},
   "source": [
    "kan omskrives til\n",
    "$$ x_t = 0.036 + 0.81x_{t-1} + \\varepsilon_t$$"
   ]
  },
  {
   "cell_type": "markdown",
   "metadata": {},
   "source": [
    "$x_t$ angiver i ovenstående model den kvartalsvise indtjening pr. aktie i en virksomhed. Det vides, at virksomheden tjente 0.04 pr. aktie i første kvartal 2013.\n",
    "\n",
    "**Spørgsmål 1.3** Baseret på oplysningerne, bestem forecastet af indtjeningen pr. aktie for andet kvartal i 2013.\n",
    "\n",
    "Hvis $\\varepsilon_t$ er hvid støj så er $E(\\varepsilon)=0$ Derfor kan vi bare tage modellen frem til $ x_{t+1} = 0.036 + 0.81x_t$ og indsætte 0.04"
   ]
  },
  {
   "cell_type": "code",
   "execution_count": 7,
   "metadata": {},
   "outputs": [
    {
     "data": {
      "text/html": [
       "0.0684"
      ],
      "text/latex": [
       "0.0684"
      ],
      "text/markdown": [
       "0.0684"
      ],
      "text/plain": [
       "[1] 0.0684"
      ]
     },
     "metadata": {},
     "output_type": "display_data"
    }
   ],
   "source": [
    "0.036 + 0.81*(0.04) "
   ]
  },
  {
   "cell_type": "markdown",
   "metadata": {},
   "source": [
    "**Spørgsmål 1.4** Hvad er standardafvigelsen på forecastfejlen fra spørgsmål 1.3?\n",
    "\n",
    "Det oplyses nu, at variansen på fejlleddet er 0.0044."
   ]
  },
  {
   "cell_type": "code",
   "execution_count": 8,
   "metadata": {},
   "outputs": [
    {
     "data": {
      "text/html": [
       "0.066332495807108"
      ],
      "text/latex": [
       "0.066332495807108"
      ],
      "text/markdown": [
       "0.066332495807108"
      ],
      "text/plain": [
       "[1] 0.0663325"
      ]
     },
     "metadata": {},
     "output_type": "display_data"
    }
   ],
   "source": [
    "sqrt(0.0044)"
   ]
  },
  {
   "cell_type": "markdown",
   "metadata": {},
   "source": [
    "**Spørgsmål 1.5** Find rødderne for det autoregressive polynomium\n",
    "\n",
    "Betragt nu følgende simple AR(2) model for en tidsrække rt \n",
    "$$r_t = 0.01 + 1.3r_{t-1} - 0.4r_{t-2} + \\varepsilon_t$$\n"
   ]
  },
  {
   "cell_type": "code",
   "execution_count": 16,
   "metadata": {},
   "outputs": [
    {
     "data": {
      "text/html": [
       "<ol class=list-inline>\n",
       "\t<li>0.8</li>\n",
       "\t<li>0.5</li>\n",
       "</ol>\n"
      ],
      "text/latex": [
       "\\begin{enumerate*}\n",
       "\\item 0.8\n",
       "\\item 0.5\n",
       "\\end{enumerate*}\n"
      ],
      "text/markdown": [
       "1. 0.8\n",
       "2. 0.5\n",
       "\n",
       "\n"
      ],
      "text/plain": [
       "[1] 0.8 0.5"
      ]
     },
     "metadata": {},
     "output_type": "display_data"
    }
   ],
   "source": [
    "ma <- matrix(c(1.3, -0.4, 1, 0),nrow=2,byrow=T)\n",
    "eigen(ma)$values"
   ]
  },
  {
   "cell_type": "markdown",
   "metadata": {},
   "source": [
    "**Spørgsmål 1.6** Er rt stationær?"
   ]
  },
  {
   "cell_type": "markdown",
   "metadata": {},
   "source": [
    "Ja, da rødderne er indenfor unit cirklen"
   ]
  },
  {
   "cell_type": "markdown",
   "metadata": {},
   "source": [
    "**Spørgsmål 1.7** Hvad er middelværdien af $r_t$, dvs. find E(rt).\n",
    "\n",
    "Antag at r100 = 1.2 og r99 = 0.5."
   ]
  },
  {
   "cell_type": "code",
   "execution_count": null,
   "metadata": {},
   "outputs": [],
   "source": [
    "0.01 + 1.3*"
   ]
  },
  {
   "cell_type": "markdown",
   "metadata": {},
   "source": [
    "**Spørgsmål 1.8** Hvad er (1-step ahead) forecastet for r101 beregnet på tid T = 100? (Usikkerhedsinterval/forecastinterval skal ikke findes)"
   ]
  },
  {
   "cell_type": "markdown",
   "metadata": {},
   "source": [
    "**Spørgsmål 1.9** Argumentér for at den kvartalsvise prisdefator for et bruttonationalprodukt, bnpdef, givet i datafilen “bnpdef.csv” er integreret af orden 2, dvs. I(2). Defatoren er allerede sæsonjusteret og lig med 100 for år 2003.\n",
    "\n",
    "Forklar ovenstående både ved hjælp af grafiske metoder (diverse plots) og ved hjælp af unit root tests."
   ]
  },
  {
   "cell_type": "code",
   "execution_count": 190,
   "metadata": {},
   "outputs": [
    {
     "data": {
      "text/html": [
       "<table>\n",
       "<thead><tr><th scope=col>bnpdef</th><th scope=col>dato</th></tr></thead>\n",
       "<tbody>\n",
       "\t<tr><td>15.105    </td><td>1950-01-01</td></tr>\n",
       "\t<tr><td>15.329    </td><td>1950-04-01</td></tr>\n",
       "\t<tr><td>15.597    </td><td>1950-07-01</td></tr>\n",
       "</tbody>\n",
       "</table>\n"
      ],
      "text/latex": [
       "\\begin{tabular}{r|ll}\n",
       " bnpdef & dato\\\\\n",
       "\\hline\n",
       "\t 15.105     & 1950-01-01\\\\\n",
       "\t 15.329     & 1950-04-01\\\\\n",
       "\t 15.597     & 1950-07-01\\\\\n",
       "\\end{tabular}\n"
      ],
      "text/markdown": [
       "\n",
       "bnpdef | dato | \n",
       "|---|---|---|\n",
       "| 15.105     | 1950-01-01 | \n",
       "| 15.329     | 1950-04-01 | \n",
       "| 15.597     | 1950-07-01 | \n",
       "\n",
       "\n"
      ],
      "text/plain": [
       "  bnpdef dato      \n",
       "1 15.105 1950-01-01\n",
       "2 15.329 1950-04-01\n",
       "3 15.597 1950-07-01"
      ]
     },
     "metadata": {},
     "output_type": "display_data"
    }
   ],
   "source": [
    "head(bnp,3)"
   ]
  },
  {
   "cell_type": "code",
   "execution_count": 26,
   "metadata": {},
   "outputs": [
    {
     "data": {
      "text/plain": [
       "Series: bnp$bnpdef \n",
       "ARIMA(0,2,1) \n",
       "\n",
       "Coefficients:\n",
       "          ma1\n",
       "      -0.5862\n",
       "s.e.   0.0486\n",
       "\n",
       "sigma^2 estimated as 0.02873:  log likelihood=87.86\n",
       "AIC=-171.72   AICc=-171.67   BIC=-164.7"
      ]
     },
     "metadata": {},
     "output_type": "display_data"
    }
   ],
   "source": [
    "auto.arima(bnp$bnpdef)"
   ]
  },
  {
   "cell_type": "code",
   "execution_count": 120,
   "metadata": {},
   "outputs": [
    {
     "data": {
      "image/png": "[encoded data removed]",
      "text/plain": [
       "plot without title"
      ]
     },
     "metadata": {},
     "output_type": "display_data"
    }
   ],
   "source": [
    "defl <- bnp$bnpdef\n",
    "ldefl <- diff(log(bnp$bnpdef))\n",
    "lldefl <- diff(diff(log(bnp$bnpdef)))\n",
    "\n",
    "par(mfrow=c(1,3))\n",
    "plot(defl~bnp$dato, type=\"l\")\n",
    "plot(ldefl~bnp$dato[-1], type=\"l\")\n",
    "plot(lldefl~bnp$dato[-c(1,2)], type=\"l\")"
   ]
  },
  {
   "cell_type": "code",
   "execution_count": 184,
   "metadata": {},
   "outputs": [
    {
     "name": "stderr",
     "output_type": "stream",
     "text": [
      "Warning message in adf.test(lldefl):\n",
      "\"p-value smaller than printed p-value\""
     ]
    },
    {
     "data": {
      "text/html": [
       "<table>\n",
       "<thead><tr><th></th><th scope=col>statistic</th><th scope=col>parameter</th><th scope=col>alternative</th><th scope=col>p.value</th><th scope=col>method</th><th scope=col>data.name</th></tr></thead>\n",
       "<tbody>\n",
       "\t<tr><th scope=row>level</th><td>-2.602175                   </td><td>6                           </td><td>stationary                  </td><td>0.3223401                   </td><td>Augmented Dickey-Fuller Test</td><td>defl                        </td></tr>\n",
       "\t<tr><th scope=row>diff.1</th><td>-3.3433                     </td><td>6                           </td><td>stationary                  </td><td>0.06453896                  </td><td>Augmented Dickey-Fuller Test</td><td>ldefl                       </td></tr>\n",
       "\t<tr><th scope=row>diff.2</th><td>-9.518362                   </td><td>6                           </td><td>stationary                  </td><td>0.01                        </td><td>Augmented Dickey-Fuller Test</td><td>lldefl                      </td></tr>\n",
       "</tbody>\n",
       "</table>\n"
      ],
      "text/latex": [
       "\\begin{tabular}{r|llllll}\n",
       "  & statistic & parameter & alternative & p.value & method & data.name\\\\\n",
       "\\hline\n",
       "\tlevel & -2.602175                    & 6                            & stationary                   & 0.3223401                    & Augmented Dickey-Fuller Test & defl                        \\\\\n",
       "\tdiff.1 & -3.3433                      & 6                            & stationary                   & 0.06453896                   & Augmented Dickey-Fuller Test & ldefl                       \\\\\n",
       "\tdiff.2 & -9.518362                    & 6                            & stationary                   & 0.01                         & Augmented Dickey-Fuller Test & lldefl                      \\\\\n",
       "\\end{tabular}\n"
      ],
      "text/markdown": [
       "\n",
       "| <!--/--> | statistic | parameter | alternative | p.value | method | data.name | \n",
       "|---|---|---|\n",
       "| level | -2.602175                    | 6                            | stationary                   | 0.3223401                    | Augmented Dickey-Fuller Test | defl                         | \n",
       "| diff.1 | -3.3433                      | 6                            | stationary                   | 0.06453896                   | Augmented Dickey-Fuller Test | ldefl                        | \n",
       "| diff.2 | -9.518362                    | 6                            | stationary                   | 0.01                         | Augmented Dickey-Fuller Test | lldefl                       | \n",
       "\n",
       "\n"
      ],
      "text/plain": [
       "       statistic parameter alternative p.value    method                      \n",
       "level  -2.602175 6         stationary  0.3223401  Augmented Dickey-Fuller Test\n",
       "diff.1 -3.3433   6         stationary  0.06453896 Augmented Dickey-Fuller Test\n",
       "diff.2 -9.518362 6         stationary  0.01       Augmented Dickey-Fuller Test\n",
       "       data.name\n",
       "level  defl     \n",
       "diff.1 ldefl    \n",
       "diff.2 lldefl   "
      ]
     },
     "metadata": {},
     "output_type": "display_data"
    }
   ],
   "source": [
    "level <- adf.test(defl)\n",
    "diff.1 <- adf.test(ldefl)\n",
    "diff.2 <- adf.test(lldefl)\n",
    "rbind(level,diff.1,diff.2)"
   ]
  },
  {
   "cell_type": "code",
   "execution_count": null,
   "metadata": {},
   "outputs": [],
   "source": []
  },
  {
   "cell_type": "code",
   "execution_count": null,
   "metadata": {},
   "outputs": [],
   "source": []
  },
  {
   "cell_type": "markdown",
   "metadata": {},
   "source": [
    "**Spørgsmål 1.10** Opbyg (dvs. identificér og estimér) en ARIMA model for prisdefatoren, herunder tjek validiteten af den estimerede model."
   ]
  },
  {
   "cell_type": "code",
   "execution_count": 59,
   "metadata": {},
   "outputs": [
    {
     "data": {
      "image/png": "[encoded data removed]",
      "text/plain": [
       "Plot with title \"Series  lldefl\""
      ]
     },
     "metadata": {},
     "output_type": "display_data"
    },
    {
     "data": {
      "image/png": "[encoded data removed]",
      "text/plain": [
       "Plot with title \"Series  lldefl[124:246]\""
      ]
     },
     "metadata": {},
     "output_type": "display_data"
    }
   ],
   "source": [
    "par(mfrow=c(1,2))\n",
    "acf(lldefl, lag=12)\n",
    "pacf(lldefl, lag=12)\n",
    "par(mfrow=c(1,4))\n",
    "acf(lldefl[1:123], lag=12)\n",
    "pacf(lldefl[1:123], lag=12)\n",
    "acf(lldefl[124:246], lag=12)\n",
    "pacf(lldefl[124:246], lag=12)"
   ]
  },
  {
   "cell_type": "code",
   "execution_count": 81,
   "metadata": {},
   "outputs": [
    {
     "data": {
      "text/html": [
       "-1678.58276108294"
      ],
      "text/latex": [
       "-1678.58276108294"
      ],
      "text/markdown": [
       "-1678.58276108294"
      ],
      "text/plain": [
       "[1] -1678.583"
      ]
     },
     "metadata": {},
     "output_type": "display_data"
    },
    {
     "data": {
      "text/html": [
       "-1569.76968988048"
      ],
      "text/latex": [
       "-1569.76968988048"
      ],
      "text/markdown": [
       "-1569.76968988048"
      ],
      "text/plain": [
       "[1] -1569.77"
      ]
     },
     "metadata": {},
     "output_type": "display_data"
    },
    {
     "data": {
      "text/html": [
       "-1671.58842463236"
      ],
      "text/latex": [
       "-1671.58842463236"
      ],
      "text/markdown": [
       "-1671.58842463236"
      ],
      "text/plain": [
       "[1] -1671.588"
      ]
     },
     "metadata": {},
     "output_type": "display_data"
    },
    {
     "data": {
      "text/html": [
       "-1562.77535342989"
      ],
      "text/latex": [
       "-1562.77535342989"
      ],
      "text/markdown": [
       "-1562.77535342989"
      ],
      "text/plain": [
       "[1] -1562.775"
      ]
     },
     "metadata": {},
     "output_type": "display_data"
    }
   ],
   "source": [
    "AIC(arima(lldefl, order=c(0,2,1)))\n",
    "AIC(arima(lldefl, order=c(1,2,0)))\n",
    "\n",
    "BIC(arima(lldefl, order=c(0,2,1)))\n",
    "BIC(arima(lldefl, order=c(1,2,0)))"
   ]
  },
  {
   "cell_type": "markdown",
   "metadata": {},
   "source": [
    "Baseret på dette vælger jeg en AR(1) model som giver den numerisk laveste AIC samt BIC(SBC). Dette er modsat auto.arima, men denne anvender andre og mere komplicerede parametre."
   ]
  },
  {
   "cell_type": "code",
   "execution_count": null,
   "metadata": {},
   "outputs": [],
   "source": []
  },
  {
   "cell_type": "markdown",
   "metadata": {},
   "source": [
    "## Opgave 2: Kointegration og fejlkorrektion [20%]\n",
    "Vi betragter en månedlig 1-års renteserie $y_t$ og en månedlig 3-års renteserie $z_t$ fra juli 1956 til juni 2007 givet i datafilen “renter.csv”."
   ]
  },
  {
   "cell_type": "code",
   "execution_count": 189,
   "metadata": {},
   "outputs": [
    {
     "data": {
      "text/html": [
       "<table>\n",
       "<thead><tr><th scope=col>y</th><th scope=col>z</th><th scope=col>dato</th></tr></thead>\n",
       "<tbody>\n",
       "\t<tr><td>1.79      </td><td>2.23      </td><td>1956-01-01</td></tr>\n",
       "\t<tr><td>1.67      </td><td>2.20      </td><td>1956-02-01</td></tr>\n",
       "\t<tr><td>1.66      </td><td>2.07      </td><td>1956-03-01</td></tr>\n",
       "</tbody>\n",
       "</table>\n"
      ],
      "text/latex": [
       "\\begin{tabular}{r|lll}\n",
       " y & z & dato\\\\\n",
       "\\hline\n",
       "\t 1.79       & 2.23       & 1956-01-01\\\\\n",
       "\t 1.67       & 2.20       & 1956-02-01\\\\\n",
       "\t 1.66       & 2.07       & 1956-03-01\\\\\n",
       "\\end{tabular}\n"
      ],
      "text/markdown": [
       "\n",
       "y | z | dato | \n",
       "|---|---|---|\n",
       "| 1.79       | 2.23       | 1956-01-01 | \n",
       "| 1.67       | 2.20       | 1956-02-01 | \n",
       "| 1.66       | 2.07       | 1956-03-01 | \n",
       "\n",
       "\n"
      ],
      "text/plain": [
       "  y    z    dato      \n",
       "1 1.79 2.23 1956-01-01\n",
       "2 1.67 2.20 1956-02-01\n",
       "3 1.66 2.07 1956-03-01"
      ]
     },
     "metadata": {},
     "output_type": "display_data"
    }
   ],
   "source": [
    "head(rnt,3)\n",
    "rnt <- arrange(rnt, rnt$dato)"
   ]
  },
  {
   "cell_type": "markdown",
   "metadata": {},
   "source": [
    "**Spørgsmål 2.1** \n",
    "Undersøg både grafsk og vha. unit root tests om de to renteserier er stationære. Find for både $y_t$ og $z_t$ integrationsordenen d, svarende til at vi kan bruge betegnelsen “integreret af orden d”, I(d). Identificér og estimér en passende ARIMA for hver af tidsrækkerne $y_t$ og $z_t$."
   ]
  },
  {
   "cell_type": "code",
   "execution_count": 211,
   "metadata": {},
   "outputs": [
    {
     "data": {
      "image/png": "[encoded data removed]",
      "text/plain": [
       "plot without title"
      ]
     },
     "metadata": {},
     "output_type": "display_data"
    }
   ],
   "source": [
    "y <- rnt$y\n",
    "z <- rnt$z\n",
    "ly <- diff(log(rnt$y))\n",
    "lz <- diff(log(rnt$z))\n",
    "\n",
    "par(mfrow=c(1,4))\n",
    "plot(y~rnt$dato, type=\"l\")\n",
    "plot(z~rnt$dato, type=\"l\")\n",
    "plot(ly~rnt$dato[-1], type=\"l\")\n",
    "plot(lz~rnt$dato[-1], type=\"l\")"
   ]
  },
  {
   "cell_type": "code",
   "execution_count": 212,
   "metadata": {},
   "outputs": [
    {
     "data": {
      "text/html": [
       "<table>\n",
       "<thead><tr><th></th><th scope=col>statistic</th><th scope=col>parameter</th><th scope=col>alternative</th><th scope=col>p.value</th><th scope=col>method</th><th scope=col>data.name</th></tr></thead>\n",
       "<tbody>\n",
       "\t<tr><th scope=row>y1</th><td>-1.272287                   </td><td>8                           </td><td>stationary                  </td><td>0.8863383                   </td><td>Augmented Dickey-Fuller Test</td><td>y                           </td></tr>\n",
       "\t<tr><th scope=row>z1</th><td>-0.9123566                  </td><td>8                           </td><td>stationary                  </td><td>0.9515763                   </td><td>Augmented Dickey-Fuller Test</td><td>z                           </td></tr>\n",
       "</tbody>\n",
       "</table>\n"
      ],
      "text/latex": [
       "\\begin{tabular}{r|llllll}\n",
       "  & statistic & parameter & alternative & p.value & method & data.name\\\\\n",
       "\\hline\n",
       "\ty1 & -1.272287                    & 8                            & stationary                   & 0.8863383                    & Augmented Dickey-Fuller Test & y                           \\\\\n",
       "\tz1 & -0.9123566                   & 8                            & stationary                   & 0.9515763                    & Augmented Dickey-Fuller Test & z                           \\\\\n",
       "\\end{tabular}\n"
      ],
      "text/markdown": [
       "\n",
       "| <!--/--> | statistic | parameter | alternative | p.value | method | data.name | \n",
       "|---|---|\n",
       "| y1 | -1.272287                    | 8                            | stationary                   | 0.8863383                    | Augmented Dickey-Fuller Test | y                            | \n",
       "| z1 | -0.9123566                   | 8                            | stationary                   | 0.9515763                    | Augmented Dickey-Fuller Test | z                            | \n",
       "\n",
       "\n"
      ],
      "text/plain": [
       "   statistic  parameter alternative p.value   method                      \n",
       "y1 -1.272287  8         stationary  0.8863383 Augmented Dickey-Fuller Test\n",
       "z1 -0.9123566 8         stationary  0.9515763 Augmented Dickey-Fuller Test\n",
       "   data.name\n",
       "y1 y        \n",
       "z1 z        "
      ]
     },
     "metadata": {},
     "output_type": "display_data"
    }
   ],
   "source": [
    "y1 <- adf.test(y)\n",
    "z1 <- adf.test(z)\n",
    "rbind(y1,z1)"
   ]
  },
  {
   "cell_type": "code",
   "execution_count": 213,
   "metadata": {},
   "outputs": [
    {
     "data": {
      "text/plain": [
       "\n",
       "Call:\n",
       "arima(x = y, order = c(3, 1, 3))\n",
       "\n",
       "Coefficients:\n",
       "          ar1      ar2     ar3     ma1     ma2      ma3\n",
       "      -0.0376  -0.2245  0.2665  0.0879  0.1281  -0.7260\n",
       "s.e.   0.0730   0.0847  0.0758  0.0563  0.0650   0.0476\n",
       "\n",
       "sigma^2 estimated as 0.5545:  log likelihood = -687.6,  aic = 1389.21"
      ]
     },
     "metadata": {},
     "output_type": "display_data"
    },
    {
     "data": {
      "text/plain": [
       "\n",
       "Call:\n",
       "arima(x = z, order = c(3, 1, 3))\n",
       "\n",
       "Coefficients:\n",
       "          ar1      ar2     ar3     ma1     ma2      ma3\n",
       "      -0.0904  -0.1674  0.1744  0.0986  0.1033  -0.6779\n",
       "s.e.   0.0667   0.0678  0.0635  0.0490  0.0510   0.0450\n",
       "\n",
       "sigma^2 estimated as 0.4104:  log likelihood = -595.54,  aic = 1205.07"
      ]
     },
     "metadata": {},
     "output_type": "display_data"
    }
   ],
   "source": [
    "arima(y, order=c(3,1,3))\n",
    "arima(z, order=c(3,1,3))"
   ]
  },
  {
   "cell_type": "markdown",
   "metadata": {},
   "source": [
    "**Spørgsmål 2.2** \n",
    "Kointegrerer de to tidsrækker?"
   ]
  },
  {
   "cell_type": "code",
   "execution_count": 214,
   "metadata": {},
   "outputs": [
    {
     "data": {
      "text/plain": [
       "\n",
       "###################### \n",
       "# Johansen-Procedure # \n",
       "###################### \n",
       "\n",
       "Test type: trace statistic , with linear trend \n",
       "\n",
       "Eigenvalues (lambda):\n",
       "[1] 0.07443070 0.01532624\n",
       "\n",
       "Values of teststatistic and critical values of test:\n",
       "\n",
       "          test 10pct  5pct  1pct\n",
       "r <= 1 |  9.42  6.50  8.18 11.65\n",
       "r = 0  | 56.60 15.66 17.95 23.52\n",
       "\n",
       "Eigenvectors, normalised to first column:\n",
       "(These are the cointegration relations)\n",
       "\n",
       "          y.l2      z.l2\n",
       "y.l2  1.000000  1.000000\n",
       "z.l2 -1.001242 -2.002885\n",
       "\n",
       "Weights W:\n",
       "(This is the loading matrix)\n",
       "\n",
       "           y.l2       z.l2\n",
       "y.d -0.19361099 0.03353670\n",
       "z.d -0.05045118 0.03178485\n"
      ]
     },
     "metadata": {},
     "output_type": "display_data"
    }
   ],
   "source": [
    "jotest=ca.jo(data.frame(y,z), type=\"trace\", K=2, ecdet=\"none\", spec=\"longrun\")\n",
    "summary(jotest)"
   ]
  },
  {
   "cell_type": "code",
   "execution_count": 218,
   "metadata": {},
   "outputs": [
    {
     "data": {
      "text/plain": [
       "\n",
       "\tAugmented Dickey-Fuller Test\n",
       "\n",
       "data:  new\n",
       "Dickey-Fuller = -3.6279, Lag order = 8, p-value = 0.03001\n",
       "alternative hypothesis: stationary\n"
      ]
     },
     "metadata": {},
     "output_type": "display_data"
    },
    {
     "data": {
      "image/png": "[encoded data removed]",
      "text/plain": [
       "plot without title"
      ]
     },
     "metadata": {},
     "output_type": "display_data"
    }
   ],
   "source": [
    "new <- (z*1)-(y*1.001242)\n",
    "plot(new, type=\"l\")\n",
    "adf.test(new)"
   ]
  },
  {
   "cell_type": "markdown",
   "metadata": {},
   "source": [
    "**Spørgsmål 2.3** \n",
    "Hvis tidsrækkerne kointegrerer opbyg da og estimér en fejlkorrektions- model for tidsrækkerne, og opskriv således den estimerede model."
   ]
  },
  {
   "cell_type": "code",
   "execution_count": null,
   "metadata": {},
   "outputs": [],
   "source": []
  },
  {
   "cell_type": "code",
   "execution_count": null,
   "metadata": {},
   "outputs": [],
   "source": []
  },
  {
   "cell_type": "code",
   "execution_count": null,
   "metadata": {},
   "outputs": [],
   "source": []
  },
  {
   "cell_type": "code",
   "execution_count": null,
   "metadata": {},
   "outputs": [],
   "source": []
  },
  {
   "cell_type": "code",
   "execution_count": null,
   "metadata": {},
   "outputs": [],
   "source": []
  },
  {
   "cell_type": "code",
   "execution_count": null,
   "metadata": {},
   "outputs": [],
   "source": []
  },
  {
   "cell_type": "markdown",
   "metadata": {},
   "source": [
    "## Opgave 3: Volalitetsmodeller [25%]\n",
    "Betegn aktiekursen på tid $t$ for en given virksomhed ved $Y_t$: Afkastet beregner vi her ved $y_t = \\Delta log Y_t = log Y_t - log Y_{t-1}$ hvor log som standard angiver den naturlige logaritme."
   ]
  },
  {
   "cell_type": "code",
   "execution_count": 123,
   "metadata": {},
   "outputs": [
    {
     "data": {
      "text/html": [
       "<table>\n",
       "<thead><tr><th scope=col>dato</th><th scope=col>aktiekurs</th></tr></thead>\n",
       "<tbody>\n",
       "\t<tr><td>2001-01-02</td><td>1662.646  </td></tr>\n",
       "\t<tr><td>2001-01-03</td><td>1980.806  </td></tr>\n",
       "\t<tr><td>2001-01-04</td><td>1893.569  </td></tr>\n",
       "\t<tr><td>2001-01-05</td><td>1739.620  </td></tr>\n",
       "\t<tr><td>2001-01-08</td><td>1785.804  </td></tr>\n",
       "\t<tr><td>2001-01-09</td><td>1698.567  </td></tr>\n",
       "</tbody>\n",
       "</table>\n"
      ],
      "text/latex": [
       "\\begin{tabular}{r|ll}\n",
       " dato & aktiekurs\\\\\n",
       "\\hline\n",
       "\t 2001-01-02 & 1662.646  \\\\\n",
       "\t 2001-01-03 & 1980.806  \\\\\n",
       "\t 2001-01-04 & 1893.569  \\\\\n",
       "\t 2001-01-05 & 1739.620  \\\\\n",
       "\t 2001-01-08 & 1785.804  \\\\\n",
       "\t 2001-01-09 & 1698.567  \\\\\n",
       "\\end{tabular}\n"
      ],
      "text/markdown": [
       "\n",
       "dato | aktiekurs | \n",
       "|---|---|---|---|---|---|\n",
       "| 2001-01-02 | 1662.646   | \n",
       "| 2001-01-03 | 1980.806   | \n",
       "| 2001-01-04 | 1893.569   | \n",
       "| 2001-01-05 | 1739.620   | \n",
       "| 2001-01-08 | 1785.804   | \n",
       "| 2001-01-09 | 1698.567   | \n",
       "\n",
       "\n"
      ],
      "text/plain": [
       "  dato       aktiekurs\n",
       "1 2001-01-02 1662.646 \n",
       "2 2001-01-03 1980.806 \n",
       "3 2001-01-04 1893.569 \n",
       "4 2001-01-05 1739.620 \n",
       "5 2001-01-08 1785.804 \n",
       "6 2001-01-09 1698.567 "
      ]
     },
     "metadata": {},
     "output_type": "display_data"
    }
   ],
   "source": [
    "head(vol)\n",
    "aktie <- vol$aktiekurs\n",
    "afkast <- diff(log(aktie))"
   ]
  },
  {
   "cell_type": "markdown",
   "metadata": {},
   "source": [
    "**Spørgsmål 3.1** Beskriv nogle af de væsentligste forskelle mellem at modellere $y_t$ som en AR(1) process og yt som en GARCH(1,1) process. Skriv begge modeller op, forklar alle symboler i de 2 modelspecifikationer og husk at påpege hvor vi formelt ser forskellene mellem de 2 modeller."
   ]
  },
  {
   "cell_type": "markdown",
   "metadata": {},
   "source": [
    "AR(1)\n",
    "$$ y_t = \\alpha + \\beta y_{t-1} + \\varepsilon_t $$\n",
    "\n",
    "\n",
    "GARCH(1,1)\n",
    "\n",
    "$$ \\varepsilon_t = v_t \\sqrt{h_t}$$\n",
    "$$ h_t = \\alpha_0 + sum$$"
   ]
  },
  {
   "cell_type": "markdown",
   "metadata": {},
   "source": [
    "**Spørgsmål 3.2** Forklart kort hvordan du indledningsvist kan forsøge grafisk at afsløre ARCH/GARCH e¤ekter i $y_t$:"
   ]
  },
  {
   "cell_type": "markdown",
   "metadata": {},
   "source": [
    "**Spørgsmål 3.3** Hvordan kan du indledningsvist forsøge at afsløre ARCH/GARCH effekter i $y_t$ ved et formelt test? Skriv nul-hypotesen op."
   ]
  },
  {
   "cell_type": "markdown",
   "metadata": {},
   "source": [
    "**Spørgsmål 3.4** Du bedes nu estimere en AR(5) - GARCH (1,1) for data i datafilen \"volatilitet.csv\"og hvor du besvarer følgende underpunkter\n",
    " - Forklar om du vil estimere modellen på baggrund af $Y_t$ eller $y_t$ og argumenter hvorfor.\n",
    " - Lav et indledende grafisk og formelt test for ARCH/GARCH effekter.\n",
    " - Rapportér og kommentér ganske kort på parameterestimater og tilhørende standard errors samt informationskriterie(r)."
   ]
  },
  {
   "cell_type": "code",
   "execution_count": 139,
   "metadata": {},
   "outputs": [
    {
     "data": {
      "image/png": "[encoded data removed]",
      "text/plain": [
       "plot without title"
      ]
     },
     "metadata": {},
     "output_type": "display_data"
    }
   ],
   "source": [
    "par(mfrow=c(1,3))\n",
    "plot(aktie, type=\"l\")\n",
    "plot(afkast, type=\"l\")\n",
    "\n",
    "reg <- lm(afkast~1)\n",
    "plot(reg$residuals^2, type=\"l\")"
   ]
  },
  {
   "cell_type": "code",
   "execution_count": null,
   "metadata": {},
   "outputs": [],
   "source": []
  },
  {
   "cell_type": "markdown",
   "metadata": {},
   "source": [
    "Jeg anvender den logdifferencierede $y_t$ eftersom den er stationær"
   ]
  },
  {
   "cell_type": "code",
   "execution_count": 130,
   "metadata": {},
   "outputs": [
    {
     "data": {
      "text/plain": [
       "\n",
       "*---------------------------------*\n",
       "*          GARCH Model Fit        *\n",
       "*---------------------------------*\n",
       "\n",
       "Conditional Variance Dynamics \t\n",
       "-----------------------------------\n",
       "GARCH Model\t: sGARCH(1,1)\n",
       "Mean Model\t: ARFIMA(5,0,0)\n",
       "Distribution\t: norm \n",
       "\n",
       "Optimal Parameters\n",
       "------------------------------------\n",
       "        Estimate  Std. Error   t value Pr(>|t|)\n",
       "mu      0.000297    0.000481   0.61794 0.536615\n",
       "ar1     0.033367    0.024899   1.34005 0.180228\n",
       "ar2    -0.031395    0.024529  -1.27992 0.200571\n",
       "ar3     0.008874    0.024465   0.36273 0.716808\n",
       "ar4    -0.034016    0.024271  -1.40153 0.161054\n",
       "ar5    -0.039536    0.023960  -1.65006 0.098930\n",
       "omega   0.000012    0.000004   2.93730 0.003311\n",
       "alpha1  0.080992    0.010498   7.71478 0.000000\n",
       "beta1   0.909625    0.005712 159.25274 0.000000\n",
       "\n",
       "Robust Standard Errors:\n",
       "        Estimate  Std. Error  t value Pr(>|t|)\n",
       "mu      0.000297    0.000590  0.50390 0.614332\n",
       "ar1     0.033367    0.025625  1.30212 0.192876\n",
       "ar2    -0.031395    0.027387 -1.14635 0.251650\n",
       "ar3     0.008874    0.027611  0.32139 0.747913\n",
       "ar4    -0.034016    0.025678 -1.32471 0.185266\n",
       "ar5    -0.039536    0.023811 -1.66038 0.096838\n",
       "omega   0.000012    0.000015  0.81281 0.416328\n",
       "alpha1  0.080992    0.025099  3.22696 0.001251\n",
       "beta1   0.909625    0.047171 19.28361 0.000000\n",
       "\n",
       "LogLikelihood : 4438.681 \n",
       "\n",
       "Information Criteria\n",
       "------------------------------------\n",
       "                    \n",
       "Akaike       -4.4076\n",
       "Bayes        -4.3825\n",
       "Shibata      -4.4077\n",
       "Hannan-Quinn -4.3984\n",
       "\n",
       "Weighted Ljung-Box Test on Standardized Residuals\n",
       "------------------------------------\n",
       "                         statistic p-value\n",
       "Lag[1]                   0.0009678  0.9752\n",
       "Lag[2*(p+q)+(p+q)-1][14] 3.9158572  1.0000\n",
       "Lag[4*(p+q)+(p+q)-1][24] 7.8532145  0.9752\n",
       "d.o.f=5\n",
       "H0 : No serial correlation\n",
       "\n",
       "Weighted Ljung-Box Test on Standardized Squared Residuals\n",
       "------------------------------------\n",
       "                        statistic p-value\n",
       "Lag[1]                      2.036  0.1536\n",
       "Lag[2*(p+q)+(p+q)-1][5]     2.479  0.5104\n",
       "Lag[4*(p+q)+(p+q)-1][9]     3.961  0.5954\n",
       "d.o.f=2\n",
       "\n",
       "Weighted ARCH LM Tests\n",
       "------------------------------------\n",
       "            Statistic Shape Scale P-Value\n",
       "ARCH Lag[3]   0.04576 0.500 2.000  0.8306\n",
       "ARCH Lag[5]   0.30639 1.440 1.667  0.9386\n",
       "ARCH Lag[7]   1.74611 2.315 1.543  0.7708\n",
       "\n",
       "Nyblom stability test\n",
       "------------------------------------\n",
       "Joint Statistic:  2.744\n",
       "Individual Statistics:              \n",
       "mu     0.32047\n",
       "ar1    0.14409\n",
       "ar2    0.04428\n",
       "ar3    0.04107\n",
       "ar4    0.18065\n",
       "ar5    0.09291\n",
       "omega  0.66027\n",
       "alpha1 0.22443\n",
       "beta1  0.27081\n",
       "\n",
       "Asymptotic Critical Values (10% 5% 1%)\n",
       "Joint Statistic:     \t 2.1 2.32 2.82\n",
       "Individual Statistic:\t 0.35 0.47 0.75\n",
       "\n",
       "Sign Bias Test\n",
       "------------------------------------\n",
       "                   t-value   prob sig\n",
       "Sign Bias           0.4075 0.6836    \n",
       "Negative Sign Bias  1.2274 0.2198    \n",
       "Positive Sign Bias  0.6400 0.5222    \n",
       "Joint Effect        2.6720 0.4450    \n",
       "\n",
       "\n",
       "Adjusted Pearson Goodness-of-Fit Test:\n",
       "------------------------------------\n",
       "  group statistic p-value(g-1)\n",
       "1    20     82.06    8.190e-10\n",
       "2    30     85.52    1.751e-07\n",
       "3    40     97.02    7.538e-07\n",
       "4    50    103.08    1.009e-05\n",
       "\n",
       "\n",
       "Elapsed time : 0.5123661 \n"
      ]
     },
     "metadata": {},
     "output_type": "display_data"
    }
   ],
   "source": [
    "spec <- ugarchspec(variance.model = list(model = \"sGARCH\", \n",
    "                                         garchOrder = c(1, 1),\n",
    "                                         variance.targeting = FALSE), \n",
    "                   mean.model     = list(armaOrder = c(5, 0), \n",
    "                                         external.regressors = NULL))\n",
    "\n",
    "m2 <- ugarchfit(spec = spec, data = afkast)\n",
    "m2"
   ]
  },
  {
   "cell_type": "markdown",
   "metadata": {},
   "source": [
    "**Spørgsmål 3.5** Forsøg at forbedre ovenstående AR(5) - GARCH (1,1) model ved at estimere en AR (p) - GARCH (1,1) med p < 5, en ARMA(1,1) - GARCH (1,1) samt en valgfri model. Med ovenstående model ender du således med ialt 4 modeller.\n",
    " - Lav en tabel med AIC eller SIC/BIC for de 4 modeller. Hvilken model vil du vælge? Kommentér kort på parametersignifikans for valgte model."
   ]
  },
  {
   "cell_type": "code",
   "execution_count": 175,
   "metadata": {},
   "outputs": [],
   "source": [
    "m1 <- ugarchfit(spec = ugarchspec(variance.model = list(model = \"sGARCH\", \n",
    "                                                        garchOrder = c(1, 1)),\n",
    "                                  mean.model     = list(armaOrder = c(5, 0))), \n",
    "                data = afkast)\n",
    "\n",
    "m2 <- ugarchfit(spec = ugarchspec(variance.model = list(model = \"sGARCH\", \n",
    "                                                        garchOrder = c(1, 1)),\n",
    "                                  mean.model     = list(armaOrder = c(3, 0))), \n",
    "                data = afkast)\n",
    "\n",
    "m3 <- ugarchfit(spec = ugarchspec(variance.model = list(model = \"sGARCH\", \n",
    "                                                        garchOrder = c(1, 1)),\n",
    "                                  mean.model     = list(armaOrder = c(1, 1))), \n",
    "                data = afkast)\n",
    "\n",
    "m4 <- ugarchfit(spec = ugarchspec(variance.model = list(model = \"sGARCH\", \n",
    "                                                        garchOrder = c(1, 1)),\n",
    "                                  mean.model     = list(armaOrder = c(4, 4))), \n",
    "                data = afkast)"
   ]
  },
  {
   "cell_type": "code",
   "execution_count": 180,
   "metadata": {},
   "outputs": [
    {
     "data": {
      "text/html": [
       "<table>\n",
       "<thead><tr><th></th><th scope=col>model 1</th><th scope=col>model 2</th><th scope=col>model 3</th><th scope=col>model 4</th></tr></thead>\n",
       "<tbody>\n",
       "\t<tr><th scope=row>Akaike</th><td>-4.408</td><td>-4.407</td><td>-4.409</td><td>-4.410</td></tr>\n",
       "\t<tr><th scope=row>Bayes</th><td>-4.383</td><td>-4.388</td><td>-4.393</td><td>-4.377</td></tr>\n",
       "\t<tr><th scope=row>Shibata</th><td>-4.408</td><td>-4.407</td><td>-4.409</td><td>-4.410</td></tr>\n",
       "\t<tr><th scope=row>Hannan-Quinn</th><td>-4.398</td><td>-4.400</td><td>-4.403</td><td>-4.398</td></tr>\n",
       "</tbody>\n",
       "</table>\n"
      ],
      "text/latex": [
       "\\begin{tabular}{r|llll}\n",
       "  & model 1 & model 2 & model 3 & model 4\\\\\n",
       "\\hline\n",
       "\tAkaike & -4.408 & -4.407 & -4.409 & -4.410\\\\\n",
       "\tBayes & -4.383 & -4.388 & -4.393 & -4.377\\\\\n",
       "\tShibata & -4.408 & -4.407 & -4.409 & -4.410\\\\\n",
       "\tHannan-Quinn & -4.398 & -4.400 & -4.403 & -4.398\\\\\n",
       "\\end{tabular}\n"
      ],
      "text/markdown": [
       "\n",
       "| <!--/--> | model 1 | model 2 | model 3 | model 4 | \n",
       "|---|---|---|---|\n",
       "| Akaike | -4.408 | -4.407 | -4.409 | -4.410 | \n",
       "| Bayes | -4.383 | -4.388 | -4.393 | -4.377 | \n",
       "| Shibata | -4.408 | -4.407 | -4.409 | -4.410 | \n",
       "| Hannan-Quinn | -4.398 | -4.400 | -4.403 | -4.398 | \n",
       "\n",
       "\n"
      ],
      "text/plain": [
       "             model 1 model 2 model 3 model 4\n",
       "Akaike       -4.408  -4.407  -4.409  -4.410 \n",
       "Bayes        -4.383  -4.388  -4.393  -4.377 \n",
       "Shibata      -4.408  -4.407  -4.409  -4.410 \n",
       "Hannan-Quinn -4.398  -4.400  -4.403  -4.398 "
      ]
     },
     "metadata": {},
     "output_type": "display_data"
    }
   ],
   "source": [
    "a1 <- infocriteria(m1)\n",
    "a2 <- infocriteria(m2)\n",
    "a3 <- infocriteria(m3)\n",
    "a4 <- infocriteria(m4)\n",
    "df <- cbind(a1,a2,a3,a4)\n",
    "colnames(df)<- c(\"model 1\", \"model 2\", \"model 3\", \"model 4\")\n",
    "round(df,3)\n"
   ]
  },
  {
   "cell_type": "markdown",
   "metadata": {},
   "source": [
    "**Spørgsmål 3.6** Lav en diagnose afvalgte model ved brug afpassende tests og kommentér kort."
   ]
  },
  {
   "cell_type": "code",
   "execution_count": null,
   "metadata": {},
   "outputs": [],
   "source": []
  },
  {
   "cell_type": "markdown",
   "metadata": {},
   "source": [
    "**Spørgsmål 3.7** For den valgte model bedes du lave et volatilitetsforecast for tidspunkt T + h; hvor h betegner forecast horisonten og T er sluttidspunktet i din stikprøve. Lad h = 1: Du bruger således hele din stikprøve til at estimere parametrene som efterfølgende bruges til at lave et forecast \"uden for stikprøven\"på tid T + 1. Beregn også et ubetinget volatilitetsforecast."
   ]
  },
  {
   "cell_type": "code",
   "execution_count": null,
   "metadata": {},
   "outputs": [],
   "source": []
  },
  {
   "cell_type": "markdown",
   "metadata": {},
   "source": [
    "## Opgave 4: Vektorautoregressive modeller [25%]\n",
    "I datafilen \"VektorAutoregressiv.csv\" finder du 3 tidsrækker for nominelle oliepris (NO), reale BNP (RBNP) og et forbrugerprisindeks (P). Alle tidsrækker er i niveau."
   ]
  },
  {
   "cell_type": "code",
   "execution_count": 91,
   "metadata": {},
   "outputs": [
    {
     "data": {
      "text/html": [
       "<table>\n",
       "<thead><tr><th scope=col>Dato</th><th scope=col>NominelOliePris</th><th scope=col>RealBNP</th><th scope=col>PrisIndeks</th></tr></thead>\n",
       "<tbody>\n",
       "\t<tr><td>1975-03-31</td><td>11.16     </td><td>5292.4    </td><td>52.567    </td></tr>\n",
       "\t<tr><td>1975-06-30</td><td>11.16     </td><td>5333.2    </td><td>53.200    </td></tr>\n",
       "\t<tr><td>1975-09-30</td><td>11.16     </td><td>5421.4    </td><td>54.267    </td></tr>\n",
       "\t<tr><td>1975-12-31</td><td>11.16     </td><td>5494.4    </td><td>55.267    </td></tr>\n",
       "\t<tr><td>1976-03-31</td><td>11.76     </td><td>5618.5    </td><td>55.900    </td></tr>\n",
       "\t<tr><td>1976-06-30</td><td>12.17     </td><td>5661.0    </td><td>56.400    </td></tr>\n",
       "</tbody>\n",
       "</table>\n"
      ],
      "text/latex": [
       "\\begin{tabular}{r|llll}\n",
       " Dato & NominelOliePris & RealBNP & PrisIndeks\\\\\n",
       "\\hline\n",
       "\t 1975-03-31 & 11.16      & 5292.4     & 52.567    \\\\\n",
       "\t 1975-06-30 & 11.16      & 5333.2     & 53.200    \\\\\n",
       "\t 1975-09-30 & 11.16      & 5421.4     & 54.267    \\\\\n",
       "\t 1975-12-31 & 11.16      & 5494.4     & 55.267    \\\\\n",
       "\t 1976-03-31 & 11.76      & 5618.5     & 55.900    \\\\\n",
       "\t 1976-06-30 & 12.17      & 5661.0     & 56.400    \\\\\n",
       "\\end{tabular}\n"
      ],
      "text/markdown": [
       "\n",
       "Dato | NominelOliePris | RealBNP | PrisIndeks | \n",
       "|---|---|---|---|---|---|\n",
       "| 1975-03-31 | 11.16      | 5292.4     | 52.567     | \n",
       "| 1975-06-30 | 11.16      | 5333.2     | 53.200     | \n",
       "| 1975-09-30 | 11.16      | 5421.4     | 54.267     | \n",
       "| 1975-12-31 | 11.16      | 5494.4     | 55.267     | \n",
       "| 1976-03-31 | 11.76      | 5618.5     | 55.900     | \n",
       "| 1976-06-30 | 12.17      | 5661.0     | 56.400     | \n",
       "\n",
       "\n"
      ],
      "text/plain": [
       "  Dato       NominelOliePris RealBNP PrisIndeks\n",
       "1 1975-03-31 11.16           5292.4  52.567    \n",
       "2 1975-06-30 11.16           5333.2  53.200    \n",
       "3 1975-09-30 11.16           5421.4  54.267    \n",
       "4 1975-12-31 11.16           5494.4  55.267    \n",
       "5 1976-03-31 11.76           5618.5  55.900    \n",
       "6 1976-06-30 12.17           5661.0  56.400    "
      ]
     },
     "metadata": {},
     "output_type": "display_data"
    }
   ],
   "source": [
    "head(var)"
   ]
  },
  {
   "cell_type": "markdown",
   "metadata": {},
   "source": [
    "**Spørgsmål 4.1** Transformér tidsrækkerne til log differencer $(\\Delta log)$: Den reale vækstrate for BNP (rbnp) bliver således $rbnpt = \\Delta log (RBNPt)$: For olieprisen (NO) bereg- ner du endvidere den reale vækstrate (ro) ved $ro_t = no_t - \\pi_t$, hvor $no_t = \\Delta log(NO_t)$ og hvor forbrugerprisvæksten beregnes som $\\pi_t = \\Delta log(P_t)$ Forklar med egne ord hvorfor vi kan opfatte rot som en real vækstrate? Er der tale om en årlig vækstrate?"
   ]
  },
  {
   "cell_type": "markdown",
   "metadata": {},
   "source": [
    "**Spørgsmål 4.2** Tag udgangspunkt i en stikprøve for f?; rbnp; rog for perioden andet kvartal 1976 til og med tredje kvartal 2010. Brug denne variableorden. Estimér en VAR med en laglængde på p = 2: Hvad er et statistisk argument for, at repræsentere denne VAR i vækstrater?"
   ]
  },
  {
   "cell_type": "markdown",
   "metadata": {},
   "source": [
    "**Spørgsmål 4.3** Er den pågældende VAR stationær?"
   ]
  },
  {
   "cell_type": "markdown",
   "metadata": {},
   "source": [
    "**Spørgsmål 4.4** Du skal nu lave en impulse respons analyse, men inden da bedes du redegøre for om denne VAR er velspecificeret i form af antallet af lags. Hvor mange lags vil du argumentere for? Inkludér kun det væsentligste program output i din besvarelse."
   ]
  },
  {
   "cell_type": "markdown",
   "metadata": {},
   "source": [
    "**Spørgsmål 4.5** Skriv en central formel op for impulse respons analysen og forklar formlen og alle symboler."
   ]
  },
  {
   "cell_type": "markdown",
   "metadata": {},
   "source": [
    "**Spørgsmål 4.6** På baggrund af valgte antal lags ovenfor, bedes du nu foretage en ortogonaliseret impulse respons analyse. Med ortogonaliseret menes en analyse på baggrund af en Cholesky dekomponering. I appendiks kan du rapportere alle responsene til hver af de 3 choks, mens du i hovedteksten grfisk viser responses for variablene $\\{\\pi,rbnp,ro\\}$ som følger af en chok til den reale oliepris. Endvidere opstiller du i hovedteksten en $10 \\times 3$ tabel hvor du viser responsen de første 10 perioder for hver af variablene til samme chok. Over maksimalt 0.5 side kommenterer du på impulse respons resultaterne - hvad viser de og er resultaterne plausible?"
   ]
  },
  {
   "cell_type": "markdown",
   "metadata": {},
   "source": [
    "**Spørgsmål 4.7** I analysen antog vi en bestemt orden af variablene i VAR analysen; specifikt $\\{\\pi,rbnp,ro\\}$ : Argumentér for denne orden men giv også med baggrund i Cholesky dekomponeringen en kritik afimpulse respons analysen. Har du forslag til forbedringer?"
   ]
  },
  {
   "cell_type": "markdown",
   "metadata": {},
   "source": [
    "**Spørgsmål 4.8** Redegør kort for om resultaterne, som følge af choks til den reale oliepris, vil ændres hvis du betragter denne orden $\\{rbnp,\\pi,ro\\}$"
   ]
  },
  {
   "cell_type": "code",
   "execution_count": null,
   "metadata": {},
   "outputs": [],
   "source": []
  }
 ],
 "metadata": {
  "kernelspec": {
   "display_name": "R",
   "language": "R",
   "name": "ir"
  },
  "language_info": {
   "codemirror_mode": "r",
   "file_extension": ".r",
   "mimetype": "text/x-r-source",
   "name": "R",
   "pygments_lexer": "r",
   "version": "3.5.1"
  }
 },
 "nbformat": 4,
 "nbformat_minor": 2
}
