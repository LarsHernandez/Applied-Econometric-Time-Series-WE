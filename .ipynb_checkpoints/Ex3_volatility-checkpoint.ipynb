{
 "cells": [
  {
   "cell_type": "markdown",
   "metadata": {},
   "source": [
    "# Excercises"
   ]
  },
  {
   "cell_type": "code",
   "execution_count": 26,
   "metadata": {},
   "outputs": [
    {
     "name": "stderr",
     "output_type": "stream",
     "text": [
      "Loading required package: zoo\n",
      "\n",
      "Attaching package: 'zoo'\n",
      "\n",
      "The following objects are masked from 'package:base':\n",
      "\n",
      "    as.Date, as.Date.numeric\n",
      "\n"
     ]
    }
   ],
   "source": [
    "library(tidyverse)\n",
    "library(repr)\n",
    "library(forecast)\n",
    "library(tseries)\n",
    "library(rugarch)\n",
    "library(dynlm)\n",
    "\n",
    "\n",
    "\n",
    "options(repr.plot.width=8, repr.plot.height=2.5)"
   ]
  },
  {
   "cell_type": "code",
   "execution_count": 11,
   "metadata": {},
   "outputs": [
    {
     "data": {
      "text/html": [
       "1.1475539839115"
      ],
      "text/latex": [
       "1.1475539839115"
      ],
      "text/markdown": [
       "1.1475539839115"
      ],
      "text/plain": [
       "[1] 1.147554"
      ]
     },
     "metadata": {},
     "output_type": "display_data"
    },
    {
     "data": {
      "text/html": [
       "1.15694185262653"
      ],
      "text/latex": [
       "1.15694185262653"
      ],
      "text/markdown": [
       "1.15694185262653"
      ],
      "text/plain": [
       "[1] 1.156942"
      ]
     },
     "metadata": {},
     "output_type": "display_data"
    },
    {
     "data": {
      "image/png": "[encoded data removed]",
      "text/plain": [
       "Plot with title \"Series  AR_pro\""
      ]
     },
     "metadata": {},
     "output_type": "display_data"
    }
   ],
   "source": [
    "# MA(inf) from AR(1)\n",
    "MA <- ARMAtoMA(ar = 0.5, ma = 0, lag.max=1000)\n",
    "\n",
    "# AR(inf) from MA(1)\n",
    "# AR <- ARMAtoMA(ar = -0.8, ma = 0, lag.max=10)\n",
    "\n",
    "# Check if MA(inf) equals AR(1)\n",
    "AR_pro <- arima.sim(n = 10000, list(order=c(1,0,0), ar=c(0.5)))\n",
    "\n",
    "MA_pro <- arima.sim(n = 10000, list(order=c(0,0,1000), ma=MA))\n",
    "\n",
    "sd(MA_pro)\n",
    "sd(AR_pro)\n",
    "\n",
    "par(mfrow=c(1,4))\n",
    "Acf(MA_pro)\n",
    "Acf(AR_pro)\n",
    "Pacf(MA_pro)\n",
    "Pacf(AR_pro)"
   ]
  },
  {
   "cell_type": "markdown",
   "metadata": {},
   "source": [
    "# Chapter 3\n",
    "Volatility modeling\n",
    "## Exercise 1\n",
    "Empirical regularities about volatility. GARCH(1; 1) example. Part I, (…rst session) In moodle a text …le named exchange.dat has been posted. In this exercise you will\n",
    "look at various summary statistics and plots to get an (empirical) feeling about return series.\n",
    "1."
   ]
  },
  {
   "cell_type": "code",
   "execution_count": 12,
   "metadata": {},
   "outputs": [
    {
     "data": {
      "text/html": [
       "<table>\n",
       "<thead><tr><th scope=col>X1</th></tr></thead>\n",
       "<tbody>\n",
       "\t<tr><td>2.24</td></tr>\n",
       "\t<tr><td>2.26</td></tr>\n",
       "\t<tr><td>2.29</td></tr>\n",
       "</tbody>\n",
       "</table>\n"
      ],
      "text/latex": [
       "\\begin{tabular}{r|l}\n",
       " X1\\\\\n",
       "\\hline\n",
       "\t 2.24\\\\\n",
       "\t 2.26\\\\\n",
       "\t 2.29\\\\\n",
       "\\end{tabular}\n"
      ],
      "text/markdown": [
       "\n",
       "X1 | \n",
       "|---|---|---|\n",
       "| 2.24 | \n",
       "| 2.26 | \n",
       "| 2.29 | \n",
       "\n",
       "\n"
      ],
      "text/plain": [
       "  X1  \n",
       "1 2.24\n",
       "2 2.26\n",
       "3 2.29"
      ]
     },
     "metadata": {},
     "output_type": "display_data"
    }
   ],
   "source": [
    "library(readr)\n",
    "exchange <- read_csv(\"~/GitHub/Applied-Econometric-Time-Series-WE/Data/exchange.dat\", col_names=F, cols(\n",
    "  X1 = col_double()))\n",
    "head(exchange,3)"
   ]
  },
  {
   "cell_type": "markdown",
   "metadata": {},
   "source": [
    "- Plot the exchange rate and the autocovariance function (correllogram) of the series.\n",
    "Does the mean look constant over time?"
   ]
  },
  {
   "cell_type": "code",
   "execution_count": 13,
   "metadata": {},
   "outputs": [
    {
     "data": {
      "image/png": "[encoded data removed]",
      "text/plain": [
       "Plot with title \"Series  exchange\""
      ]
     },
     "metadata": {},
     "output_type": "display_data"
    }
   ],
   "source": [
    "exchange <- as.ts(exchange)\n",
    "\n",
    "par(mfrow=c(1,4))\n",
    "plot(exchange, type=\"l\")\n",
    "acf(exchange, type=\"covariance\")\n",
    "acf(exchange)\n",
    "pacf(exchange)"
   ]
  },
  {
   "cell_type": "markdown",
   "metadata": {},
   "source": [
    "- Calculate the period-by-period returns and the correllogram. Alternatively, use log-di¤erences. Does the mean now look constant over time? Plot a histogram and possibly also a normal approximation of the histogram. Is the return series approximately normal distributed or do you see \"fat tails\"?"
   ]
  },
  {
   "cell_type": "code",
   "execution_count": 14,
   "metadata": {},
   "outputs": [
    {
     "data": {
      "image/png": "[encoded data removed]",
      "text/plain": [
       "plot without title"
      ]
     },
     "metadata": {},
     "output_type": "display_data"
    },
    {
     "data": {
      "image/png": "[encoded data removed]",
      "text/plain": [
       "Plot with title \"Histogram of exchange_3\""
      ]
     },
     "metadata": {},
     "output_type": "display_data"
    }
   ],
   "source": [
    "exchange_2 <- diff(exchange)\n",
    "exchange_3 <- diff(log(exchange))\n",
    "\n",
    "\n",
    "par(mfrow=c(1,2))\n",
    "plot(exchange_2, type=\"l\")\n",
    "plot(exchange_3, type=\"l\")\n",
    "\n",
    "par(mfrow=c(1,3))\n",
    "hist(exchange, breaks=30, prob=T)\n",
    "curve(dnorm(x, mean=mean(exchange), sd=sd(exchange)), \n",
    "      col=\"darkblue\", lwd=2, add=TRUE, yaxt=\"n\")\n",
    "hist(exchange_2, breaks=30, prob=T)\n",
    "curve(dnorm(x, mean=mean(exchange_2), sd=sd(exchange_2)), \n",
    "      col=\"darkblue\", lwd=2, add=TRUE, yaxt=\"n\")\n",
    "hist(exchange_3, breaks=30, prob=T)\n",
    "curve(dnorm(x, mean=mean(exchange_3), sd=sd(exchange_3)), \n",
    "      col=\"darkblue\", lwd=2, add=TRUE, yaxt=\"n\")"
   ]
  },
  {
   "cell_type": "markdown",
   "metadata": {},
   "source": [
    "- Calculate the squared returns or alternatively the squared deviations from the mean. Plot the correllogram of the series. What do you see? Comment on your results."
   ]
  },
  {
   "cell_type": "code",
   "execution_count": 51,
   "metadata": {},
   "outputs": [
    {
     "data": {
      "image/png": "[encoded data removed]",
      "text/plain": [
       "Plot with title \"Series  exchange_4\""
      ]
     },
     "metadata": {},
     "output_type": "display_data"
    }
   ],
   "source": [
    "exchange_4 <- exchange_3^2\n",
    "\n",
    "par(mfrow=c(1,3))\n",
    "plot(exchange_4, type=\"l\")\n",
    "acf(exchange_4)\n",
    "pacf(exchange_4)"
   ]
  },
  {
   "cell_type": "markdown",
   "metadata": {},
   "source": [
    "- Plot the the of the model versus observed data, in particular plot ht . Does this makes sense compared to observed squared returns.\n",
    "$$ r_t = \\mu + \\sqrt{h_t}z_t, \\quad z_t \\sim iid N (0,1)$$\n",
    "$$ h_t = \\omega + \\alpha(r_{t-1} - \\mu)^2 + \\beta h_{t-1}$$"
   ]
  },
  {
   "cell_type": "code",
   "execution_count": 19,
   "metadata": {},
   "outputs": [
    {
     "name": "stdout",
     "output_type": "stream",
     "text": [
      "\n",
      " ***** ESTIMATION WITH ANALYTICAL GRADIENT ***** \n",
      "\n",
      "\n",
      "     I     INITIAL X(I)        D(I)\n",
      "\n",
      "     1     2.759991e-07     1.000e+00\n",
      "     2     5.000000e-02     1.000e+00\n",
      "     3     5.000000e-02     1.000e+00\n",
      "\n",
      "    IT   NF      F         RELDF    PRELDF    RELDX   STPPAR   D*STEP   NPRELDF\n",
      "     0    1 -3.232e+03\n",
      "     1   22 -3.234e+03  6.41e-04  4.95e-03  1.0e-06  1.6e+15  1.0e-07  3.91e+12\n",
      "     2   23 -3.235e+03  4.94e-04  3.51e-04  8.4e-07  2.0e+00  1.0e-07  6.18e-02\n",
      "     3   24 -3.236e+03  5.55e-05  7.82e-05  7.4e-07  2.0e+00  1.0e-07  9.73e-02\n",
      "     4   25 -3.236e+03  6.00e-06  6.52e-06  7.8e-07  2.0e+00  1.0e-07  8.75e-02\n",
      "     5   26 -3.236e+03  3.72e-08  4.38e-08  7.8e-07  2.0e+00  1.0e-07  8.83e-02\n",
      "     6   27 -3.236e+03  5.69e-10  7.74e-10  7.8e-07  2.0e+00  1.0e-07  8.83e-02\n",
      "     7   37 -3.236e+03  1.69e-04  2.78e-04  2.2e-01  2.0e+00  3.8e-02  8.83e-02\n",
      "     8   40 -3.239e+03  7.68e-04  8.47e-04  5.0e-01  1.9e+00  1.5e-01  1.23e-01\n",
      "     9   41 -3.240e+03  4.83e-04  6.06e-04  2.5e-01  9.0e-01  1.5e-01  1.23e-03\n",
      "    10   42 -3.242e+03  4.76e-04  3.67e-04  1.6e-01  0.0e+00  1.4e-01  3.67e-04\n",
      "    11   43 -3.243e+03  4.81e-04  6.46e-04  1.2e-01  7.6e-01  1.4e-01  9.53e-04\n",
      "    12   45 -3.244e+03  3.41e-05  7.44e-05  5.7e-03  8.4e-01  7.8e-03  1.28e-04\n",
      "    13   61 -3.244e+03  7.50e-06  1.36e-05  1.6e-09  3.3e+00  2.1e-09  2.24e-05\n",
      "    14   62 -3.244e+03  2.61e-07  6.14e-07  1.6e-09  2.0e+00  2.1e-09  1.88e-05\n",
      "    15   68 -3.244e+03 -1.45e-11  1.44e-12  1.6e-14  6.6e+02  2.1e-14  1.88e-05\n",
      "\n",
      " ***** FALSE CONVERGENCE *****\n",
      "\n",
      " FUNCTION    -3.243529e+03   RELDX        1.630e-14\n",
      " FUNC. EVALS      68         GRAD. EVALS      15\n",
      " PRELDF       1.439e-12      NPRELDF      1.876e-05\n",
      "\n",
      "     I      FINAL X(I)        D(I)          G(I)\n",
      "\n",
      "     1    1.127847e-07     1.000e+00     2.218e+05\n",
      "     2    4.322517e-02     1.000e+00     2.109e+00\n",
      "     3    6.459935e-01     1.000e+00    -2.075e+00\n",
      "\n"
     ]
    },
    {
     "name": "stderr",
     "output_type": "stream",
     "text": [
      "Warning message in garch(exchange_4, order = c(1, 1)):\n",
      "\"singular information\""
     ]
    },
    {
     "data": {
      "text/plain": [
       "\n",
       "Call:\n",
       "garch(x = exchange_4, order = c(1, 1))\n",
       "\n",
       "Coefficient(s):\n",
       "       a0         a1         b1  \n",
       "1.128e-07  4.323e-02  6.460e-01  \n"
      ]
     },
     "metadata": {},
     "output_type": "display_data"
    }
   ],
   "source": [
    "#auto.arima(exchange_4)\n",
    "\n",
    "spec <- ugarchspec(mean.model = list(armaOrder = c(0, 0)), distribution = \"std\")\n",
    "m1 <- ugarchfit(spec, exchange_4)\n",
    "\n",
    "m2 <- garch(exchange_4, order=c(1,1))\n",
    "m2"
   ]
  },
  {
   "cell_type": "code",
   "execution_count": 20,
   "metadata": {},
   "outputs": [
    {
     "data": {
      "text/plain": [
       "                   [,1]\n",
       "0002-01-01 0.0001133401\n",
       "0003-01-01 0.0001133401\n",
       "0004-01-01 0.0001133401\n",
       "0005-01-01 0.0001133401\n",
       "0006-01-01 0.0001133401\n",
       "0007-01-01 0.0001133401"
      ]
     },
     "metadata": {},
     "output_type": "display_data"
    }
   ],
   "source": [
    "fit <- fitted(m1)\n",
    "head(fit)"
   ]
  },
  {
   "cell_type": "code",
   "execution_count": null,
   "metadata": {},
   "outputs": [],
   "source": []
  },
  {
   "cell_type": "code",
   "execution_count": 52,
   "metadata": {},
   "outputs": [
    {
     "data": {
      "text/html": [
       "0.000276390403683023"
      ],
      "text/latex": [
       "0.000276390403683023"
      ],
      "text/markdown": [
       "0.000276390403683023"
      ],
      "text/plain": [
       "[1] 0.0002763904"
      ]
     },
     "metadata": {},
     "output_type": "display_data"
    },
    {
     "data": {
      "image/png": "[encoded data removed]",
      "text/plain": [
       "plot without title"
      ]
     },
     "metadata": {},
     "output_type": "display_data"
    }
   ],
   "source": [
    "options(repr.plot.width=8, repr.plot.height=3)\n",
    "\n",
    "reg1 <- lm(exchange_3 ~ 1)\n",
    "\n",
    "a <- 0.054421\n",
    "b <- 0.88582\n",
    "w <- 0.000016421\n",
    "\n",
    "u <- reg1$coef\n",
    "h <- c(var(reg1$residuals))\n",
    "h\n",
    "\n",
    "\n",
    "for (i in 2:470) {\n",
    "    h[i] <- w + a*(exchange_3[i-1] - u)^2 + (b * h[i-1])\n",
    "}\n",
    "\n",
    "plot(reg1$residuals^2, col=\"black\", type=\"l\")\n",
    "lines(h, type=\"l\", col=\"blue\")\n",
    "lines(m1@fit[[\"sigma\"]], type=\"l\", col=\"red\")\n",
    "lines(m2$fit[,1], type=\"l\", col=\"green\")"
   ]
  },
  {
   "cell_type": "markdown",
   "metadata": {},
   "source": [
    "## Exercise 2. \n",
    "Enders exercise 5 chapter 3\n"
   ]
  },
  {
   "cell_type": "code",
   "execution_count": 24,
   "metadata": {},
   "outputs": [
    {
     "data": {
      "text/html": [
       "<table>\n",
       "<thead><tr><th scope=col>y</th><th scope=col>y_m</th></tr></thead>\n",
       "<tbody>\n",
       "\t<tr><td>1.2730</td><td>1.4323</td></tr>\n",
       "\t<tr><td>0.2211</td><td>1.4064</td></tr>\n",
       "\t<tr><td>0.5709</td><td>0.6849</td></tr>\n",
       "\t<tr><td>0.2239</td><td>0.7005</td></tr>\n",
       "</tbody>\n",
       "</table>\n"
      ],
      "text/latex": [
       "\\begin{tabular}{r|ll}\n",
       " y & y\\_m\\\\\n",
       "\\hline\n",
       "\t 1.2730 & 1.4323\\\\\n",
       "\t 0.2211 & 1.4064\\\\\n",
       "\t 0.5709 & 0.6849\\\\\n",
       "\t 0.2239 & 0.7005\\\\\n",
       "\\end{tabular}\n"
      ],
      "text/markdown": [
       "\n",
       "y | y_m | \n",
       "|---|---|---|---|\n",
       "| 1.2730 | 1.4323 | \n",
       "| 0.2211 | 1.4064 | \n",
       "| 0.5709 | 0.6849 | \n",
       "| 0.2239 | 0.7005 | \n",
       "\n",
       "\n"
      ],
      "text/plain": [
       "  y      y_m   \n",
       "1 1.2730 1.4323\n",
       "2 0.2211 1.4064\n",
       "3 0.5709 0.6849\n",
       "4 0.2239 0.7005"
      ]
     },
     "metadata": {},
     "output_type": "display_data"
    }
   ],
   "source": [
    "options(repr.plot.width=8, repr.plot.height=2.5)\n",
    "\n",
    "arch <- read_delim(\"~/GitHub/Applied-Econometric-Time-Series-WE/Data/arch.csv\", \n",
    "    \";\", escape_double = FALSE, locale = locale(decimal_mark = \",\", \n",
    "        grouping_mark = \".\"), trim_ws = TRUE, col_types = cols(.default = col_double())\n",
    ")\n",
    "head(arch,4)"
   ]
  },
  {
   "cell_type": "code",
   "execution_count": 25,
   "metadata": {},
   "outputs": [
    {
     "data": {
      "text/html": [
       "0.26336948"
      ],
      "text/latex": [
       "0.26336948"
      ],
      "text/markdown": [
       "0.26336948"
      ],
      "text/plain": [
       "[1] 0.2633695"
      ]
     },
     "metadata": {},
     "output_type": "display_data"
    },
    {
     "data": {
      "text/html": [
       "4.89409139173037"
      ],
      "text/latex": [
       "4.89409139173037"
      ],
      "text/markdown": [
       "4.89409139173037"
      ],
      "text/plain": [
       "[1] 4.894091"
      ]
     },
     "metadata": {},
     "output_type": "display_data"
    },
    {
     "data": {
      "text/html": [
       "-10.8"
      ],
      "text/latex": [
       "-10.8"
      ],
      "text/markdown": [
       "-10.8"
      ],
      "text/plain": [
       "[1] -10.8"
      ]
     },
     "metadata": {},
     "output_type": "display_data"
    },
    {
     "data": {
      "text/html": [
       "15.15"
      ],
      "text/latex": [
       "15.15"
      ],
      "text/markdown": [
       "15.15"
      ],
      "text/plain": [
       "[1] 15.15"
      ]
     },
     "metadata": {},
     "output_type": "display_data"
    }
   ],
   "source": [
    "mean(arch$y)\n",
    "sd(arch$y)\n",
    "min(arch$y)\n",
    "max(arch$y)"
   ]
  },
  {
   "cell_type": "code",
   "execution_count": 27,
   "metadata": {},
   "outputs": [
    {
     "data": {
      "text/plain": [
       "\n",
       "Time series regression with \"ts\" data:\n",
       "Start = 2, End = 100\n",
       "\n",
       "Call:\n",
       "dynlm(formula = arch$y ~ L(arch$y, 1))\n",
       "\n",
       "Coefficients:\n",
       " (Intercept)  L(arch$y, 1)  \n",
       "     0.06219       0.94387  \n"
      ]
     },
     "metadata": {},
     "output_type": "display_data"
    }
   ],
   "source": [
    "arch$y <- as.ts(arch$y)\n",
    "\n",
    "reg <- dynlm(arch$y ~ L(arch$y,1))\n",
    "reg"
   ]
  },
  {
   "cell_type": "code",
   "execution_count": 30,
   "metadata": {},
   "outputs": [
    {
     "data": {
      "text/plain": [
       "\n",
       "Autocorrelations of series 'reg$residuals', by lag\n",
       "\n",
       "     0      1      2      3      4      5      6      7      8      9     10 \n",
       " 1.000  0.149  0.005 -0.017 -0.012  0.069  0.003 -0.099 -0.150  0.065  0.101 "
      ]
     },
     "metadata": {},
     "output_type": "display_data"
    },
    {
     "data": {
      "text/plain": [
       "\n",
       "Partial autocorrelations of series 'reg$residuals', by lag\n",
       "\n",
       "     1      2      3      4      5      6      7      8      9     10 \n",
       " 0.149 -0.018 -0.016 -0.007  0.073 -0.019 -0.099 -0.123  0.112  0.073 "
      ]
     },
     "metadata": {},
     "output_type": "display_data"
    }
   ],
   "source": [
    "Acf(reg$residuals, plot=F, type=\"correlation\", lag=10)\n",
    "Pacf(reg$residuals, plot=F, type=\"correlation\", lag=10)"
   ]
  },
  {
   "cell_type": "code",
   "execution_count": 31,
   "metadata": {},
   "outputs": [
    {
     "data": {
      "text/plain": [
       "\n",
       "\tBox-Ljung test\n",
       "\n",
       "data:  reg$residuals\n",
       "X-squared = 2.3256, df = 4, p-value = 0.6761\n"
      ]
     },
     "metadata": {},
     "output_type": "display_data"
    },
    {
     "data": {
      "text/plain": [
       "\n",
       "\tBox-Ljung test\n",
       "\n",
       "data:  reg$residuals\n",
       "X-squared = 6.382, df = 8, p-value = 0.6045\n"
      ]
     },
     "metadata": {},
     "output_type": "display_data"
    },
    {
     "data": {
      "text/plain": [
       "\n",
       "\tBox-Ljung test\n",
       "\n",
       "data:  reg$residuals\n",
       "X-squared = 18.501, df = 24, p-value = 0.7781\n"
      ]
     },
     "metadata": {},
     "output_type": "display_data"
    }
   ],
   "source": [
    "Box.test(reg$residuals,lag=4,type=\"Ljung-Box\")\n",
    "Box.test(reg$residuals,lag=8,type=\"Ljung-Box\")\n",
    "Box.test(reg$residuals,lag=24,type=\"Ljung-Box\")"
   ]
  },
  {
   "cell_type": "code",
   "execution_count": 33,
   "metadata": {},
   "outputs": [
    {
     "data": {
      "text/plain": [
       "\n",
       "Autocorrelations of series 'sres', by lag\n",
       "\n",
       "     0      1      2      3      4      5      6      7      8      9     10 \n",
       " 1.000  0.469  0.127 -0.051 -0.081  0.057  0.240  0.274  0.224  0.140 -0.014 "
      ]
     },
     "metadata": {},
     "output_type": "display_data"
    },
    {
     "data": {
      "text/plain": [
       "\n",
       "Partial autocorrelations of series 'sres', by lag\n",
       "\n",
       "     1      2      3      4      5      6      7      8      9     10 \n",
       " 0.469 -0.120 -0.080 -0.011  0.143  0.194  0.078  0.071  0.058 -0.073 "
      ]
     },
     "metadata": {},
     "output_type": "display_data"
    },
    {
     "data": {
      "text/plain": [
       "Series: sres \n",
       "ARIMA(0,1,0) \n",
       "\n",
       "sigma^2 estimated as 29.23:  log likelihood=-304.45\n",
       "AIC=610.9   AICc=610.94   BIC=613.48"
      ]
     },
     "metadata": {},
     "output_type": "display_data"
    }
   ],
   "source": [
    "sres <- reg$residuals^2\n",
    "\n",
    "Acf(sres, plot=F, type=\"correlation\", lag=10)\n",
    "Pacf(sres, plot=F, type=\"correlation\", lag=10)\n",
    "\n",
    "auto.arima(sres)"
   ]
  },
  {
   "cell_type": "code",
   "execution_count": 34,
   "metadata": {},
   "outputs": [
    {
     "data": {
      "text/plain": [
       "\n",
       "Time series regression with \"ts\" data:\n",
       "Start = 3, End = 100\n",
       "\n",
       "Call:\n",
       "dynlm(formula = sres ~ L(sres, 1))\n",
       "\n",
       "Coefficients:\n",
       "(Intercept)   L(sres, 1)  \n",
       "     1.5583       0.4706  \n"
      ]
     },
     "metadata": {},
     "output_type": "display_data"
    }
   ],
   "source": [
    "reg2 <- dynlm(sres ~ L(sres,1))\n",
    "reg2"
   ]
  },
  {
   "cell_type": "code",
   "execution_count": 36,
   "metadata": {},
   "outputs": [
    {
     "data": {
      "text/html": [
       "21.8856363656501"
      ],
      "text/latex": [
       "21.8856363656501"
      ],
      "text/markdown": [
       "21.8856363656501"
      ],
      "text/plain": [
       "[1] 21.88564"
      ]
     },
     "metadata": {},
     "output_type": "display_data"
    },
    {
     "data": {
      "text/html": [
       "285.02799913752"
      ],
      "text/latex": [
       "285.02799913752"
      ],
      "text/markdown": [
       "285.02799913752"
      ],
      "text/plain": [
       "[1] 285.028"
      ]
     },
     "metadata": {},
     "output_type": "display_data"
    }
   ],
   "source": [
    "length(sres)*summary(reg2)$r.squared\n",
    "a <- ((summary(reg)$r.squared - summary(reg2)$r.squared)/1)/(summary(reg2)$r.squared/(length(sres)-(2*1)-1))\n",
    "a"
   ]
  },
  {
   "cell_type": "code",
   "execution_count": 37,
   "metadata": {},
   "outputs": [
    {
     "data": {
      "text/plain": [
       "Time Series:\n",
       "Start = 1 \n",
       "End = 100 \n",
       "Frequency = 1 \n",
       "  [1]   1.273000   0.221100   0.570900   0.223900   1.560000   1.580000\n",
       "  [7]  -1.627000   0.006158   1.958000   0.366900   1.122000  -0.313400\n",
       " [13]  -0.125800  -0.175000   0.716600  -0.139500  -0.734000  -0.046790\n",
       " [19]  -0.096180  -0.130400  -0.212700   0.423300  -1.103000  -0.380600\n",
       " [25]  -0.764200   0.628800  -0.619000  -0.340200  -0.076230   0.294100\n",
       " [31]   0.111200  -0.054890   0.998800  -0.509400  -0.952100  -0.090070\n",
       " [37]   1.430000   1.722000   0.914600  -1.945000  -0.093250   0.811700\n",
       " [43]  -0.324500   1.092000   0.209300   2.205000   2.316000   2.942000\n",
       " [49]   1.732000   1.007000  -0.360900  -1.781000  -1.087000  -2.950000\n",
       " [55]   0.971800   1.883000  -0.267900  -2.100000  -0.686000  -1.923000\n",
       " [61]  -4.390000  -7.386000  -9.994000 -10.770000 -10.800000  -9.800000\n",
       " [67]  -9.178000  -7.006000  -5.825000  -6.793000  -7.697000  -5.696000\n",
       " [73]  -4.589000  -4.309000  -3.430000  -2.124000  -0.949300   1.136000\n",
       " [79]  -0.827400  -3.028000  -4.268000   0.563500   0.470100  -0.892600\n",
       " [85]  -0.596500   1.418000   6.336000  11.840000  15.150000  14.330000\n",
       " [91]  11.700000  11.200000  10.470000   7.722000  10.280000   6.087000\n",
       " [97]   7.113000   8.623000   6.660000   6.305000"
      ]
     },
     "metadata": {},
     "output_type": "display_data"
    }
   ],
   "source": [
    "arch$y"
   ]
  },
  {
   "cell_type": "markdown",
   "metadata": {},
   "source": [
    "## Exercise 3 \n",
    "Enders exercise 6 chapter 3"
   ]
  },
  {
   "cell_type": "code",
   "execution_count": 38,
   "metadata": {},
   "outputs": [
    {
     "data": {
      "text/plain": [
       "\n",
       "Call:\n",
       "arima(x = arch$y_m, order = c(0, 0, 6), fixed = c(0, 0, NA, 0, 0, NA, NA))\n",
       "\n",
       "Coefficients:\n",
       "      ma1  ma2     ma3  ma4  ma5      ma6  intercept\n",
       "        0    0  0.2595    0    0  -0.2541     1.0712\n",
       "s.e.    0    0  0.1125    0    0   0.1154     0.0478\n",
       "\n",
       "sigma^2 estimated as 0.2227:  log likelihood = -67.19,  aic = 142.37"
      ]
     },
     "metadata": {},
     "output_type": "display_data"
    }
   ],
   "source": [
    "mm <- arima(arch$y_m, order=c(0,0,6), fixed=c(0,0,NA,0,0,NA,NA))\n",
    "mm"
   ]
  },
  {
   "cell_type": "code",
   "execution_count": 46,
   "metadata": {},
   "outputs": [
    {
     "data": {
      "text/plain": [
       "\n",
       "Autocorrelations of series 'sres', by lag\n",
       "\n",
       "    0     1     2     3     4     5     6 \n",
       "1.000 0.498 0.256 0.292 0.163 0.047 0.121 "
      ]
     },
     "metadata": {},
     "output_type": "display_data"
    },
    {
     "data": {
      "text/plain": [
       "\n",
       "Partial autocorrelations of series 'sres', by lag\n",
       "\n",
       "     1      2      3      4      5      6 \n",
       " 0.498  0.010  0.214 -0.088 -0.039  0.106 "
      ]
     },
     "metadata": {},
     "output_type": "display_data"
    },
    {
     "data": {
      "image/png": "[encoded data removed]",
      "text/plain": [
       "Plot with title \"Series  sres\""
      ]
     },
     "metadata": {},
     "output_type": "display_data"
    }
   ],
   "source": [
    "sres <- mm$residuals^2\n",
    "\n",
    "par(mfrow=c(1,4))\n",
    "plot(sres, type=\"l\")\n",
    "acf(sres)\n",
    "pacf(sres)\n",
    "\n",
    "acf(sres, plot=F, lag=6)\n",
    "pacf(sres, plot=F, lag=6)"
   ]
  },
  {
   "cell_type": "code",
   "execution_count": 47,
   "metadata": {},
   "outputs": [
    {
     "name": "stdout",
     "output_type": "stream",
     "text": [
      "\n",
      " ***** ESTIMATION WITH ANALYTICAL GRADIENT ***** \n",
      "\n",
      "\n",
      "     I     INITIAL X(I)        D(I)\n",
      "\n",
      "     1     1.927543e-01     1.000e+00\n",
      "     2     5.000000e-02     1.000e+00\n",
      "\n",
      "    IT   NF      F         RELDF    PRELDF    RELDX   STPPAR   D*STEP   NPRELDF\n",
      "     0    1 -3.000e+01\n",
      "     1    3 -3.746e+01  1.99e-01  3.37e-01  2.7e-01  1.3e+03  1.0e-01  2.13e+02\n",
      "     2    5 -3.936e+01  4.83e-02  6.22e-02  1.1e-01  1.2e+01  4.2e-02  5.27e+01\n",
      "     3    7 -4.128e+01  4.64e-02  7.49e-02  2.3e-01  5.3e+00  1.1e-01  2.98e+00\n",
      "     4   10 -4.157e+01  6.89e-03  1.46e-02  2.7e-02  5.6e+00  1.6e-02  4.16e-01\n",
      "     5   11 -4.168e+01  2.85e-03  2.73e-03  2.4e-02  2.1e+00  1.6e-02  5.34e-02\n",
      "     6   12 -4.199e+01  7.28e-03  8.56e-03  5.0e-02  1.6e+00  3.1e-02  3.94e-02\n",
      "     7   14 -4.243e+01  1.04e-02  1.05e-02  1.3e-01  2.6e-01  9.5e-02  1.09e-02\n",
      "     8   15 -4.253e+01  2.23e-03  1.70e-03  5.1e-02  0.0e+00  4.5e-02  1.70e-03\n",
      "     9   16 -4.255e+01  4.45e-04  3.70e-04  3.2e-02  0.0e+00  3.0e-02  3.70e-04\n",
      "    10   17 -4.255e+01  2.75e-05  2.49e-05  9.1e-03  0.0e+00  9.0e-03  2.49e-05\n",
      "    11   18 -4.255e+01  3.66e-07  3.56e-07  1.1e-03  0.0e+00  1.1e-03  3.56e-07\n",
      "    12   19 -4.255e+01  3.27e-10  3.25e-10  3.4e-05  0.0e+00  3.5e-05  3.25e-10\n",
      "    13   20 -4.255e+01  4.68e-14  4.40e-14  1.1e-07  0.0e+00  1.1e-07  4.40e-14\n",
      "\n",
      " ***** RELATIVE FUNCTION CONVERGENCE *****\n",
      "\n",
      " FUNCTION    -4.254739e+01   RELDX        1.070e-07\n",
      " FUNC. EVALS      20         GRAD. EVALS      14\n",
      " PRELDF       4.402e-14      NPRELDF      4.402e-14\n",
      "\n",
      "     I      FINAL X(I)        D(I)          G(I)\n",
      "\n",
      "     1    1.184931e-01     1.000e+00    -7.600e-06\n",
      "     2    5.022024e-01     1.000e+00     5.192e-08\n",
      "\n"
     ]
    },
    {
     "data": {
      "text/plain": [
       "\n",
       "Call:\n",
       "garch(x = sres, order = c(0, 1))\n",
       "\n",
       "Coefficient(s):\n",
       "    a0      a1  \n",
       "0.1185  0.5022  \n"
      ]
     },
     "metadata": {},
     "output_type": "display_data"
    },
    {
     "data": {
      "image/png": "[encoded data removed]",
      "text/plain": [
       "Plot with title \"Series  mm2$residuals[c(-1)]\""
      ]
     },
     "metadata": {},
     "output_type": "display_data"
    }
   ],
   "source": [
    "mm2 <- garch(sres, order=c(0,1))\n",
    "mm2\n",
    "\n",
    "par(mfrow=c(1,4))\n",
    "acf(mm2$residuals[c(-1)])\n",
    "pacf(mm2$residuals[c(-1)])"
   ]
  },
  {
   "cell_type": "code",
   "execution_count": 48,
   "metadata": {},
   "outputs": [
    {
     "data": {
      "text/plain": [
       "Series: sres \n",
       "ARIMA(0,1,2) \n",
       "\n",
       "Coefficients:\n",
       "          ma1      ma2\n",
       "      -0.4490  -0.3721\n",
       "s.e.   0.0977   0.1041\n",
       "\n",
       "sigma^2 estimated as 0.1556:  log likelihood=-47.87\n",
       "AIC=101.73   AICc=101.99   BIC=109.52"
      ]
     },
     "metadata": {},
     "output_type": "display_data"
    },
    {
     "name": "stdout",
     "output_type": "stream",
     "text": [
      "\n",
      " ***** ESTIMATION WITH ANALYTICAL GRADIENT ***** \n",
      "\n",
      "\n",
      "     I     INITIAL X(I)        D(I)\n",
      "\n",
      "     1     1.826094e-01     1.000e+00\n",
      "     2     5.000000e-02     1.000e+00\n",
      "     3     5.000000e-02     1.000e+00\n",
      "\n",
      "    IT   NF      F         RELDF    PRELDF    RELDX   STPPAR   D*STEP   NPRELDF\n",
      "     0    1 -3.128e+01\n",
      "     1    3 -3.896e+01  1.97e-01  3.08e-01  2.8e-01  1.2e+03  1.0e-01  1.85e+02\n",
      "     2    5 -4.032e+01  3.37e-02  4.05e-02  7.6e-02  1.3e+01  2.8e-02  4.65e+01\n",
      "     3    6 -4.108e+01  1.86e-02  2.15e-02  7.0e-02  4.5e+00  2.8e-02  4.52e+00\n",
      "     4    7 -4.144e+01  8.70e-03  3.44e-02  1.2e-01  4.7e+00  5.6e-02  2.43e+00\n",
      "     5    8 -4.227e+01  1.95e-02  3.78e-02  8.2e-02  1.9e+00  5.6e-02  2.98e-01\n",
      "     6    9 -4.237e+01  2.26e-03  1.56e-02  8.0e-02  1.9e+00  5.6e-02  6.18e-02\n",
      "     7   10 -4.273e+01  8.49e-03  1.89e-02  9.1e-02  2.0e+00  5.6e-02  8.14e-01\n",
      "     8   12 -4.279e+01  1.50e-03  2.36e-03  8.6e-03  5.9e+01  5.6e-03  1.24e-01\n",
      "     9   13 -4.282e+01  5.48e-04  5.83e-04  7.9e-03  2.8e+00  5.6e-03  9.08e-03\n",
      "    10   16 -4.301e+01  4.58e-03  5.70e-03  8.9e-02  6.8e-01  6.1e-02  7.75e-03\n",
      "    11   17 -4.304e+01  5.99e-04  4.70e-04  3.3e-02  0.0e+00  2.6e-02  4.70e-04\n",
      "    12   18 -4.304e+01  6.80e-05  6.11e-05  1.4e-02  0.0e+00  1.1e-02  6.11e-05\n",
      "    13   19 -4.304e+01  1.17e-06  1.11e-06  2.0e-03  0.0e+00  1.6e-03  1.11e-06\n",
      "    14   20 -4.304e+01  9.64e-09  8.16e-09  1.3e-04  0.0e+00  1.1e-04  8.16e-09\n",
      "    15   21 -4.304e+01  6.93e-10  6.37e-10  2.1e-05  0.0e+00  2.0e-05  6.37e-10\n",
      "    16   22 -4.304e+01  1.23e-11  1.17e-11  3.5e-06  0.0e+00  3.6e-06  1.17e-11\n",
      "\n",
      " ***** RELATIVE FUNCTION CONVERGENCE *****\n",
      "\n",
      " FUNCTION    -4.304284e+01   RELDX        3.483e-06\n",
      " FUNC. EVALS      22         GRAD. EVALS      17\n",
      " PRELDF       1.168e-11      NPRELDF      1.168e-11\n",
      "\n",
      "     I      FINAL X(I)        D(I)          G(I)\n",
      "\n",
      "     1    1.121461e-01     1.000e+00     1.466e-05\n",
      "     2    4.116325e-01     1.000e+00     1.416e-05\n",
      "     3    8.193780e-02     1.000e+00    -6.083e-06\n",
      "\n"
     ]
    },
    {
     "data": {
      "text/plain": [
       "\n",
       "Call:\n",
       "garch(x = sres, order = c(0, 2))\n",
       "\n",
       "Coefficient(s):\n",
       "     a0       a1       a2  \n",
       "0.11215  0.41163  0.08194  \n"
      ]
     },
     "metadata": {},
     "output_type": "display_data"
    },
    {
     "data": {
      "image/png": "[encoded data removed]",
      "text/plain": [
       "Plot with title \"Series  mm3$residuals[c(-1, -2)]\""
      ]
     },
     "metadata": {},
     "output_type": "display_data"
    }
   ],
   "source": [
    "auto.arima(sres)\n",
    "mm3 <- garch(sres, order=c(0,2))\n",
    "mm3\n",
    "\n",
    "par(mfrow=c(1,4))\n",
    "acf(mm3$residuals[c(-1,-2)])\n",
    "pacf(mm3$residuals[c(-1,-2)])"
   ]
  },
  {
   "cell_type": "code",
   "execution_count": 49,
   "metadata": {},
   "outputs": [
    {
     "name": "stderr",
     "output_type": "stream",
     "text": [
      "Warning message:\n",
      "\"unidentified option(s) in mean.model:\n",
      " distribution.model start.pars fixed.pars\""
     ]
    },
    {
     "data": {
      "text/plain": [
       "\n",
       "*---------------------------------*\n",
       "*          GARCH Model Fit        *\n",
       "*---------------------------------*\n",
       "\n",
       "Conditional Variance Dynamics \t\n",
       "-----------------------------------\n",
       "GARCH Model\t: sGARCH(0,1)\n",
       "Mean Model\t: ARFIMA(0,0,6)\n",
       "Distribution\t: norm \n",
       "\n",
       "Optimal Parameters\n",
       "------------------------------------\n",
       "       Estimate  Std. Error    t value Pr(>|t|)\n",
       "mu     1.057846    0.033962  31.147816 0.000000\n",
       "ma1   -0.007793    0.104892  -0.074294 0.940776\n",
       "ma2    0.025907    0.098912   0.261919 0.793384\n",
       "ma3    0.250257    0.107122   2.336184 0.019482\n",
       "ma4   -0.141185    0.113810  -1.240539 0.214776\n",
       "ma5   -0.116569    0.103580  -1.125397 0.260421\n",
       "ma6   -0.223367    0.102417  -2.180949 0.029187\n",
       "omega  0.000000    0.000112   0.000000 1.000000\n",
       "beta1  0.990925    0.003062 323.569617 0.000000\n",
       "\n",
       "Robust Standard Errors:\n",
       "       Estimate  Std. Error    t value Pr(>|t|)\n",
       "mu     1.057846    0.044705  23.663016  0.00000\n",
       "ma1   -0.007793    0.142016  -0.054873  0.95624\n",
       "ma2    0.025907    0.132654   0.195296  0.84516\n",
       "ma3    0.250257    0.186211   1.343944  0.17897\n",
       "ma4   -0.141185    0.148323  -0.951877  0.34116\n",
       "ma5   -0.116569    0.140810  -0.827845  0.40776\n",
       "ma6   -0.223367    0.153469  -1.455449  0.14555\n",
       "omega  0.000000    0.000011   0.000000  1.00000\n",
       "beta1  0.990925    0.004663 212.486903  0.00000\n",
       "\n",
       "LogLikelihood : -62.0438 \n",
       "\n",
       "Information Criteria\n",
       "------------------------------------\n",
       "                   \n",
       "Akaike       1.4209\n",
       "Bayes        1.6553\n",
       "Shibata      1.4064\n",
       "Hannan-Quinn 1.5158\n",
       "\n",
       "Weighted Ljung-Box Test on Standardized Residuals\n",
       "------------------------------------\n",
       "                         statistic p-value\n",
       "Lag[1]                      0.0189  0.8906\n",
       "Lag[2*(p+q)+(p+q)-1][17]    6.3816  1.0000\n",
       "Lag[4*(p+q)+(p+q)-1][29]   12.4805  0.8055\n",
       "d.o.f=6\n",
       "H0 : No serial correlation\n",
       "\n",
       "Weighted Ljung-Box Test on Standardized Squared Residuals\n",
       "------------------------------------\n",
       "                        statistic   p-value\n",
       "Lag[1]                      19.02 1.295e-05\n",
       "Lag[2*(p+q)+(p+q)-1][2]     21.39 1.918e-06\n",
       "Lag[4*(p+q)+(p+q)-1][5]     28.25 9.801e-08\n",
       "d.o.f=1\n",
       "\n",
       "Weighted ARCH LM Tests\n",
       "------------------------------------\n",
       "            Statistic Shape Scale  P-Value\n",
       "ARCH Lag[2]     4.562 0.500 2.000 0.032681\n",
       "ARCH Lag[4]    10.898 1.397 1.611 0.002927\n",
       "ARCH Lag[6]    12.507 2.222 1.500 0.003295\n",
       "\n",
       "Nyblom stability test\n",
       "------------------------------------\n",
       "Joint Statistic:  4.863\n",
       "Individual Statistics:             \n",
       "mu    0.18083\n",
       "ma1   0.04607\n",
       "ma2   0.03780\n",
       "ma3   0.12284\n",
       "ma4   0.03674\n",
       "ma5   0.13777\n",
       "ma6   0.17867\n",
       "omega 0.92794\n",
       "beta1 1.28216\n",
       "\n",
       "Asymptotic Critical Values (10% 5% 1%)\n",
       "Joint Statistic:     \t 2.1 2.32 2.82\n",
       "Individual Statistic:\t 0.35 0.47 0.75\n",
       "\n",
       "Sign Bias Test\n",
       "------------------------------------\n",
       "                   t-value      prob sig\n",
       "Sign Bias           0.7956 0.4282254    \n",
       "Negative Sign Bias  1.8150 0.0726809   *\n",
       "Positive Sign Bias  3.7561 0.0002975 ***\n",
       "Joint Effect       17.4940 0.0005592 ***\n",
       "\n",
       "\n",
       "Adjusted Pearson Goodness-of-Fit Test:\n",
       "------------------------------------\n",
       "  group statistic p-value(g-1)\n",
       "1    20      14.8       0.7352\n",
       "2    30      20.6       0.8733\n",
       "3    40      30.4       0.8363\n",
       "4    50      54.0       0.2892\n",
       "\n",
       "\n",
       "Elapsed time : 0.5704 \n"
      ]
     },
     "metadata": {},
     "output_type": "display_data"
    }
   ],
   "source": [
    "spec <- ugarchspec(variance.model = list(model = \"sGARCH\", \n",
    "                                         garchOrder = c(0, 1), \n",
    "                                         submodel = NULL, \n",
    "                                         external.regressors = NULL, \n",
    "                                         variance.targeting = FALSE), \n",
    "\n",
    "                   mean.model     = list(armaOrder = c(0, 6), \n",
    "                                         external.regressors = NULL, \n",
    "                                         distribution.model = \"norm\", \n",
    "                                         start.pars = list(), \n",
    "                                         fixed.pars = list(ma1=0, ma2=0, ma4=0, ma5=0)))\n",
    "\n",
    "garch <- ugarchfit(spec = spec, data = arch$y_m, solver.control = list(trace=0))\n",
    "garch"
   ]
  },
  {
   "cell_type": "code",
   "execution_count": null,
   "metadata": {},
   "outputs": [],
   "source": []
  },
  {
   "cell_type": "code",
   "execution_count": null,
   "metadata": {},
   "outputs": [],
   "source": []
  },
  {
   "cell_type": "code",
   "execution_count": null,
   "metadata": {},
   "outputs": [],
   "source": []
  },
  {
   "cell_type": "code",
   "execution_count": null,
   "metadata": {},
   "outputs": [],
   "source": []
  }
 ],
 "metadata": {
  "kernelspec": {
   "display_name": "R",
   "language": "R",
   "name": "ir"
  },
  "language_info": {
   "codemirror_mode": "r",
   "file_extension": ".r",
   "mimetype": "text/x-r-source",
   "name": "R",
   "pygments_lexer": "r",
   "version": "3.5.1"
  }
 },
 "nbformat": 4,
 "nbformat_minor": 2
}
