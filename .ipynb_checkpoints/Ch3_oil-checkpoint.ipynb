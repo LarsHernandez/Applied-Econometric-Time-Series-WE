{
 "cells": [
  {
   "cell_type": "markdown",
   "metadata": {},
   "source": [
    "# A GARCH Model of Oil Prices\n",
    "Walter Enders 134"
   ]
  },
  {
   "cell_type": "code",
   "execution_count": 30,
   "metadata": {},
   "outputs": [],
   "source": [
    "library(readr)\n",
    "library(forecast)\n",
    "library(repr) # Resizing the plots in jupyter\n",
    "library(rugarch) \n",
    "library(readxl)\n",
    "library(dynlm)\n",
    "library(Hmisc)\n",
    "\n",
    "options(repr.plot.width=8, repr.plot.height=2.5)\n",
    "\n",
    "setwd(\"C:/Users/larsn/Documents/GitHub/Applied-Econometric-Time-Series-WE\")"
   ]
  },
  {
   "cell_type": "markdown",
   "metadata": {},
   "source": [
    "## Load the data and make the series stationary"
   ]
  },
  {
   "cell_type": "code",
   "execution_count": 33,
   "metadata": {},
   "outputs": [
    {
     "data": {
      "text/html": [
       "<table>\n",
       "<thead><tr><th scope=col>Date</th><th scope=col>Spot</th></tr></thead>\n",
       "<tbody>\n",
       "\t<tr><td>1987-05-15</td><td>18.58     </td></tr>\n",
       "\t<tr><td>1987-05-22</td><td>18.54     </td></tr>\n",
       "\t<tr><td>1987-05-29</td><td>18.60     </td></tr>\n",
       "\t<tr><td>1987-06-05</td><td>18.70     </td></tr>\n",
       "\t<tr><td>1987-06-12</td><td>18.75     </td></tr>\n",
       "\t<tr><td>1987-06-19</td><td>19.01     </td></tr>\n",
       "</tbody>\n",
       "</table>\n"
      ],
      "text/latex": [
       "\\begin{tabular}{r|ll}\n",
       " Date & Spot\\\\\n",
       "\\hline\n",
       "\t 1987-05-15 & 18.58     \\\\\n",
       "\t 1987-05-22 & 18.54     \\\\\n",
       "\t 1987-05-29 & 18.60     \\\\\n",
       "\t 1987-06-05 & 18.70     \\\\\n",
       "\t 1987-06-12 & 18.75     \\\\\n",
       "\t 1987-06-19 & 19.01     \\\\\n",
       "\\end{tabular}\n"
      ],
      "text/markdown": [
       "\n",
       "Date | Spot | \n",
       "|---|---|---|---|---|---|\n",
       "| 1987-05-15 | 18.58      | \n",
       "| 1987-05-22 | 18.54      | \n",
       "| 1987-05-29 | 18.60      | \n",
       "| 1987-06-05 | 18.70      | \n",
       "| 1987-06-12 | 18.75      | \n",
       "| 1987-06-19 | 19.01      | \n",
       "\n",
       "\n"
      ],
      "text/plain": [
       "  Date       Spot \n",
       "1 1987-05-15 18.58\n",
       "2 1987-05-22 18.54\n",
       "3 1987-05-29 18.60\n",
       "4 1987-06-05 18.70\n",
       "5 1987-06-12 18.75\n",
       "6 1987-06-19 19.01"
      ]
     },
     "metadata": {},
     "output_type": "display_data"
    },
    {
     "data": {
      "image/png": "[encoded data removed]",
      "text/plain": [
       "plot without title"
      ]
     },
     "metadata": {},
     "output_type": "display_data"
    }
   ],
   "source": [
    "oil <- read_excel(\"Data/oil.xls\")\n",
    "head(oil)\n",
    "\n",
    "p <- diff(log(oil$Spot))*100\n",
    "#p <- 100*(log(oil$Spot) - log(Lag(oil$Spot)))\n",
    "\n",
    "par(mfrow=c(1,2))\n",
    "plot(oil$Spot, type=\"l\")\n",
    "plot(p, type=\"l\")"
   ]
  },
  {
   "cell_type": "markdown",
   "metadata": {},
   "source": [
    "\n",
    "***\n",
    "I estimate an MA(2) model and it fits nicely"
   ]
  },
  {
   "cell_type": "code",
   "execution_count": 17,
   "metadata": {},
   "outputs": [
    {
     "data": {
      "text/plain": [
       "\n",
       "Call:\n",
       "arima(x = p, order = c(0, 0, 3), include.mean = T, fixed = c(NA, 0, NA, NA))\n",
       "\n",
       "Coefficients:\n",
       "         ma1  ma2     ma3  intercept\n",
       "      0.1773    0  0.0949     0.1276\n",
       "s.e.  0.0260    0  0.0264     0.1410\n",
       "\n",
       "sigma^2 estimated as 16.98:  log likelihood = -3915.21,  aic = 7838.42"
      ]
     },
     "metadata": {},
     "output_type": "display_data"
    }
   ],
   "source": [
    "m1 <- arima(p, order=c(0,0,3), fixed=c(NA,0,NA,NA), include.mean=T)\n",
    "m1"
   ]
  },
  {
   "cell_type": "markdown",
   "metadata": {},
   "source": [
    "## But there is an problem, the squared residuals are suffering from autocorrelation!"
   ]
  },
  {
   "cell_type": "code",
   "execution_count": 18,
   "metadata": {},
   "outputs": [
    {
     "data": {
      "image/png": "[encoded data removed]",
      "text/plain": [
       "Plot with title \"Series  sres\""
      ]
     },
     "metadata": {},
     "output_type": "display_data"
    }
   ],
   "source": [
    "sres <- m1$residuals^2\n",
    "\n",
    "par(mfrow=c(1,2))\n",
    "Acf(m1$residuals)\n",
    "Acf(sres)"
   ]
  },
  {
   "cell_type": "code",
   "execution_count": 19,
   "metadata": {},
   "outputs": [
    {
     "data": {
      "text/plain": [
       "\n",
       "\tBox-Ljung test\n",
       "\n",
       "data:  sres\n",
       "X-squared = 148.8, df = 4, p-value < 2.2e-16\n"
      ]
     },
     "metadata": {},
     "output_type": "display_data"
    },
    {
     "data": {
      "text/plain": [
       "\n",
       "\tBox-Ljung test\n",
       "\n",
       "data:  sres\n",
       "X-squared = 274.54, df = 8, p-value < 2.2e-16\n"
      ]
     },
     "metadata": {},
     "output_type": "display_data"
    },
    {
     "data": {
      "image/png": "[encoded data removed]",
      "text/plain": [
       "plot without title"
      ]
     },
     "metadata": {},
     "output_type": "display_data"
    }
   ],
   "source": [
    "plot(sres, type=\"l\")\n",
    "\n",
    "Box.test(sres,lag=4,type=\"Ljung-Box\")\n",
    "Box.test(sres,lag=8,type=\"Ljung-Box\")"
   ]
  },
  {
   "cell_type": "markdown",
   "metadata": {},
   "source": [
    "## McLeod and Li test - Lagrange Multiplier (LM) test for ARCH"
   ]
  },
  {
   "cell_type": "code",
   "execution_count": 20,
   "metadata": {},
   "outputs": [
    {
     "data": {
      "text/plain": [
       "\n",
       "Time series regression with \"ts\" data:\n",
       "Start = 5, End = 1381\n",
       "\n",
       "Call:\n",
       "dynlm(formula = sres ~ L(sres, 1) + L(sres, 2) + L(sres, 3) + \n",
       "    L(sres, 4))\n",
       "\n",
       "Residuals:\n",
       "   Min     1Q Median     3Q    Max \n",
       "-87.60 -12.55  -9.08   2.36 468.16 \n",
       "\n",
       "Coefficients:\n",
       "            Estimate Std. Error t value Pr(>|t|)    \n",
       "(Intercept)  9.67869    1.22509   7.900 5.66e-15 ***\n",
       "L(sres, 1)   0.13324    0.02684   4.964 7.77e-07 ***\n",
       "L(sres, 2)   0.11143    0.02700   4.128 3.89e-05 ***\n",
       "L(sres, 3)   0.07983    0.02700   2.957  0.00316 ** \n",
       "L(sres, 4)   0.10731    0.02684   3.998 6.73e-05 ***\n",
       "---\n",
       "Signif. codes:  0 '***' 0.001 '**' 0.01 '*' 0.05 '.' 0.1 ' ' 1\n",
       "\n",
       "Residual standard error: 36.77 on 1372 degrees of freedom\n",
       "Multiple R-squared:  0.07152,\tAdjusted R-squared:  0.06881 \n",
       "F-statistic: 26.42 on 4 and 1372 DF,  p-value: < 2.2e-16\n"
      ]
     },
     "metadata": {},
     "output_type": "display_data"
    }
   ],
   "source": [
    "summary(dynlm(sres ~ L(sres,1) + L(sres,2) + L(sres,3) + L(sres,4)))"
   ]
  },
  {
   "cell_type": "markdown",
   "metadata": {},
   "source": [
    "**F-statistic: 26.37 on 4 and 1371 DF,  p-value: < 2.2e-16**\n"
   ]
  },
  {
   "cell_type": "markdown",
   "metadata": {},
   "source": [
    "## Fitting a ARMA(0,1) GARCH(1,1) Model"
   ]
  },
  {
   "cell_type": "code",
   "execution_count": 21,
   "metadata": {},
   "outputs": [
    {
     "data": {
      "text/plain": [
       "\n",
       "*---------------------------------*\n",
       "*          GARCH Model Fit        *\n",
       "*---------------------------------*\n",
       "\n",
       "Conditional Variance Dynamics \t\n",
       "-----------------------------------\n",
       "GARCH Model\t: sGARCH(1,1)\n",
       "Mean Model\t: ARFIMA(0,0,1)\n",
       "Distribution\t: norm \n",
       "\n",
       "Optimal Parameters\n",
       "------------------------------------\n",
       "        Estimate  Std. Error  t value Pr(>|t|)\n",
       "mu      0.130406    0.111207   1.1726 0.240939\n",
       "ma1     0.224863    0.028430   7.9094 0.000000\n",
       "omega   0.401254    0.135578   2.9596 0.003081\n",
       "alpha1  0.097102    0.014347   6.7680 0.000000\n",
       "beta1   0.881573    0.016866  52.2706 0.000000\n",
       "\n",
       "Robust Standard Errors:\n",
       "        Estimate  Std. Error  t value Pr(>|t|)\n",
       "mu      0.130406    0.116237   1.1219 0.261907\n",
       "ma1     0.224863    0.025367   8.8643 0.000000\n",
       "omega   0.401254    0.179117   2.2402 0.025079\n",
       "alpha1  0.097102    0.021810   4.4521 0.000009\n",
       "beta1   0.881573    0.023807  37.0303 0.000000\n",
       "\n",
       "LogLikelihood : -3797.893 \n",
       "\n",
       "Information Criteria\n",
       "------------------------------------\n",
       "                   \n",
       "Akaike       5.5074\n",
       "Bayes        5.5264\n",
       "Shibata      5.5074\n",
       "Hannan-Quinn 5.5145\n",
       "\n",
       "Weighted Ljung-Box Test on Standardized Residuals\n",
       "------------------------------------\n",
       "                        statistic p-value\n",
       "Lag[1]                     0.2798  0.5968\n",
       "Lag[2*(p+q)+(p+q)-1][2]    0.2813  0.9955\n",
       "Lag[4*(p+q)+(p+q)-1][5]    1.9719  0.7194\n",
       "d.o.f=1\n",
       "H0 : No serial correlation\n",
       "\n",
       "Weighted Ljung-Box Test on Standardized Squared Residuals\n",
       "------------------------------------\n",
       "                        statistic p-value\n",
       "Lag[1]                   0.004824  0.9446\n",
       "Lag[2*(p+q)+(p+q)-1][5]  0.216618  0.9913\n",
       "Lag[4*(p+q)+(p+q)-1][9]  0.909856  0.9897\n",
       "d.o.f=2\n",
       "\n",
       "Weighted ARCH LM Tests\n",
       "------------------------------------\n",
       "            Statistic Shape Scale P-Value\n",
       "ARCH Lag[3]   0.01126 0.500 2.000  0.9155\n",
       "ARCH Lag[5]   0.55887 1.440 1.667  0.8661\n",
       "ARCH Lag[7]   0.86747 2.315 1.543  0.9341\n",
       "\n",
       "Nyblom stability test\n",
       "------------------------------------\n",
       "Joint Statistic:  1.1927\n",
       "Individual Statistics:              \n",
       "mu     0.17504\n",
       "ma1    0.07718\n",
       "omega  0.22198\n",
       "alpha1 0.10943\n",
       "beta1  0.16445\n",
       "\n",
       "Asymptotic Critical Values (10% 5% 1%)\n",
       "Joint Statistic:     \t 1.28 1.47 1.88\n",
       "Individual Statistic:\t 0.35 0.47 0.75\n",
       "\n",
       "Sign Bias Test\n",
       "------------------------------------\n",
       "                   t-value    prob sig\n",
       "Sign Bias           2.2107 0.02722  **\n",
       "Negative Sign Bias  0.5175 0.60489    \n",
       "Positive Sign Bias  0.5786 0.56294    \n",
       "Joint Effect        6.4748 0.09066   *\n",
       "\n",
       "\n",
       "Adjusted Pearson Goodness-of-Fit Test:\n",
       "------------------------------------\n",
       "  group statistic p-value(g-1)\n",
       "1    20     31.38      0.03664\n",
       "2    30     47.42      0.01686\n",
       "3    40     48.60      0.13939\n",
       "4    50     67.55      0.04053\n",
       "\n",
       "\n",
       "Elapsed time : 0.215059 \n"
      ]
     },
     "metadata": {},
     "output_type": "display_data"
    }
   ],
   "source": [
    "spec <- ugarchspec(variance.model = list(model = \"sGARCH\", \n",
    "                                         garchOrder = c(1, 1),\n",
    "                                         variance.targeting = FALSE), \n",
    "\n",
    "                   mean.model     = list(armaOrder = c(0, 1), \n",
    "                                         external.regressors = NULL))\n",
    "\n",
    "m2 <- ugarchfit(spec = spec, data = p)\n",
    "m2"
   ]
  },
  {
   "cell_type": "markdown",
   "metadata": {},
   "source": [
    "## Did the GARCH model take care of the autocorrelation in the squared residuals?"
   ]
  },
  {
   "cell_type": "code",
   "execution_count": 22,
   "metadata": {},
   "outputs": [
    {
     "data": {},
     "metadata": {},
     "output_type": "display_data"
    },
    {
     "data": {},
     "metadata": {},
     "output_type": "display_data"
    },
    {
     "data": {
      "image/png": "[encoded data removed]",
      "text/plain": [
       "plot without title"
      ]
     },
     "metadata": {},
     "output_type": "display_data"
    },
    {
     "data": {
      "image/png": "[encoded data removed]",
      "text/plain": [
       "plot without title"
      ]
     },
     "metadata": {},
     "output_type": "display_data"
    }
   ],
   "source": [
    "autoplot(residuals(m2, standardize = T))\n",
    "autoplot(residuals(m2, standardize = F))"
   ]
  },
  {
   "cell_type": "code",
   "execution_count": 23,
   "metadata": {},
   "outputs": [
    {
     "data": {
      "text/plain": [
       "\n",
       "Autocorrelations of series 'ssdres', by lag\n",
       "\n",
       "     0      1      2      3      4      5      6      7      8 \n",
       " 1.000  0.002  0.004 -0.003 -0.005 -0.025 -0.014 -0.010  0.003 "
      ]
     },
     "metadata": {},
     "output_type": "display_data"
    },
    {
     "data": {
      "text/plain": [
       "\n",
       "Autocorrelations of series 'sdres', by lag\n",
       "\n",
       "     0      1      2      3      4      5      6      7      8 \n",
       " 1.000  0.049 -0.011  0.013  0.008 -0.036 -0.012 -0.004 -0.016 "
      ]
     },
     "metadata": {},
     "output_type": "display_data"
    },
    {
     "data": {
      "image/png": "[encoded data removed]",
      "text/plain": [
       "Plot with title \"Series  sdres\""
      ]
     },
     "metadata": {},
     "output_type": "display_data"
    }
   ],
   "source": [
    "sdres <- ((m2@fit[[\"residuals\"]])/m2@fit[[\"var\"]])\n",
    "ssdres <- ((m2@fit[[\"residuals\"]]^2)/m2@fit[[\"var\"]])\n",
    "\n",
    "# korrekte :)\n",
    "acf(ssdres, plot=F, lag=8)\n",
    "acf(sdres, plot=F, lag=8) \n",
    "\n",
    "par(mfrow=c(1,2))\n",
    "Acf(ssdres)\n",
    "Acf(sdres)"
   ]
  },
  {
   "cell_type": "code",
   "execution_count": 25,
   "metadata": {},
   "outputs": [
    {
     "data": {
      "text/plain": [
       "\n",
       "\tBox-Ljung test\n",
       "\n",
       "data:  sdres\n",
       "X-squared = 3.7711, df = 4, p-value = 0.4379\n"
      ]
     },
     "metadata": {},
     "output_type": "display_data"
    },
    {
     "data": {
      "text/plain": [
       "\n",
       "\tBox-Ljung test\n",
       "\n",
       "data:  sdres\n",
       "X-squared = 6.1901, df = 8, p-value = 0.6259\n"
      ]
     },
     "metadata": {},
     "output_type": "display_data"
    },
    {
     "data": {
      "text/plain": [
       "\n",
       "\tBox-Ljung test\n",
       "\n",
       "data:  ssdres\n",
       "X-squared = 0.076566, df = 4, p-value = 0.9993\n"
      ]
     },
     "metadata": {},
     "output_type": "display_data"
    },
    {
     "data": {
      "text/plain": [
       "\n",
       "\tBox-Ljung test\n",
       "\n",
       "data:  ssdres\n",
       "X-squared = 1.3574, df = 8, p-value = 0.9948\n"
      ]
     },
     "metadata": {},
     "output_type": "display_data"
    },
    {
     "data": {
      "text/plain": [
       "\n",
       "\tBox-Ljung test\n",
       "\n",
       "data:  ssdres\n",
       "X-squared = 3.2036, df = 9, p-value = 0.9557\n"
      ]
     },
     "metadata": {},
     "output_type": "display_data"
    },
    {
     "data": {
      "text/plain": [
       "\n",
       "\tBox-Ljung test\n",
       "\n",
       "data:  ssdres\n",
       "X-squared = 11.172, df = 13, p-value = 0.5964\n"
      ]
     },
     "metadata": {},
     "output_type": "display_data"
    }
   ],
   "source": [
    "Box.test(sdres,lag=4,type=\"Ljung-Box\")\n",
    "Box.test(sdres,lag=8,type=\"Ljung-Box\")\n",
    "\n",
    "Box.test(ssdres,lag=4,type=\"Ljung-Box\")\n",
    "Box.test(ssdres,lag=8,type=\"Ljung-Box\")\n",
    "\n",
    "Box.test(ssdres,lag=9,type=\"Ljung-Box\")\n",
    "Box.test(ssdres,lag=13,type=\"Ljung-Box\")\n"
   ]
  },
  {
   "cell_type": "markdown",
   "metadata": {},
   "source": [
    "## Yes it took care of the problem as the Box-Ljung test shows that we reject autocorrelation in the standardized squared residuals"
   ]
  },
  {
   "cell_type": "markdown",
   "metadata": {},
   "source": [
    "If we want to manually see the conditional and unconditional variance we can use the following formula:\n",
    "$$ var(\\epsilon_t) = E(\\epsilon_t) = \\frac{\\alpha_0}{1-\\sum^P_{i=1}\\alpha_i - \\sum^Q_{i=1}\\beta_i} $$"
   ]
  },
  {
   "cell_type": "code",
   "execution_count": 12,
   "metadata": {},
   "outputs": [
    {
     "data": {
      "text/html": [
       "18.6046511627906"
      ],
      "text/latex": [
       "18.6046511627906"
      ],
      "text/markdown": [
       "18.6046511627906"
      ],
      "text/plain": [
       "[1] 18.60465"
      ]
     },
     "metadata": {},
     "output_type": "display_data"
    },
    {
     "data": {
      "text/html": [
       "<ol class=list-inline>\n",
       "\t<li>17.1748912464983</li>\n",
       "\t<li>15.5537910186628</li>\n",
       "\t<li>14.1201575883239</li>\n",
       "\t<li>12.8607566668028</li>\n",
       "\t<li>11.7392862721545</li>\n",
       "\t<li>10.8980217942568</li>\n",
       "</ol>\n"
      ],
      "text/latex": [
       "\\begin{enumerate*}\n",
       "\\item 17.1748912464983\n",
       "\\item 15.5537910186628\n",
       "\\item 14.1201575883239\n",
       "\\item 12.8607566668028\n",
       "\\item 11.7392862721545\n",
       "\\item 10.8980217942568\n",
       "\\end{enumerate*}\n"
      ],
      "text/markdown": [
       "1. 17.1748912464983\n",
       "2. 15.5537910186628\n",
       "3. 14.1201575883239\n",
       "4. 12.8607566668028\n",
       "5. 11.7392862721545\n",
       "6. 10.8980217942568\n",
       "\n",
       "\n"
      ],
      "text/plain": [
       "[1] 17.17489 15.55379 14.12016 12.86076 11.73929 10.89802"
      ]
     },
     "metadata": {},
     "output_type": "display_data"
    }
   ],
   "source": [
    "# ubetinget varians (konstant)\n",
    "0.40/(1-0.097-0.8815)\n",
    "oil_sd_un <- sqrt(0.40/(1-0.097-0.8815))\n",
    "\n",
    "# betinget varians (varierende)\n",
    "head(m2@fit[[\"var\"]])"
   ]
  },
  {
   "cell_type": "code",
   "execution_count": 13,
   "metadata": {},
   "outputs": [
    {
     "data": {},
     "metadata": {},
     "output_type": "display_data"
    },
    {
     "data": {},
     "metadata": {},
     "output_type": "display_data"
    },
    {
     "data": {
      "image/png": "[encoded data removed]",
      "text/plain": [
       "plot without title"
      ]
     },
     "metadata": {},
     "output_type": "display_data"
    },
    {
     "data": {
      "image/png": "[encoded data removed]",
      "text/plain": [
       "plot without title"
      ]
     },
     "metadata": {},
     "output_type": "display_data"
    }
   ],
   "source": [
    "oil_sd <- sqrt(m2@fit[[\"var\"]])[1:300]\n",
    "oil_fit <- m2@fit[[\"fitted.values\"]][1:300]\n",
    "\n",
    "df <- data.frame(oil_fit, x=1:300, oil_sd)\n",
    "\n",
    "ggplot(df, aes(y=oil_fit, x=x)) + \n",
    "  geom_line() + \n",
    "  geom_ribbon(aes(ymin=oil_fit-oil_sd, ymax=oil_fit + oil_sd), alpha=0.3) + \n",
    "  scale_y_continuous(limits=c(-15, 15))\n",
    "\n",
    "ggplot(df, aes(y=oil_fit, x=x)) + \n",
    "  geom_line() + \n",
    "  geom_ribbon(aes(ymin=oil_fit-oil_sd_un, ymax=oil_fit + oil_sd_un), alpha=0.3) + \n",
    "  scale_y_continuous(limits=c(-15, 15))"
   ]
  },
  {
   "cell_type": "code",
   "execution_count": 35,
   "metadata": {},
   "outputs": [
    {
     "data": {
      "text/html": [
       "<table>\n",
       "<thead><tr><th scope=col>Date</th><th scope=col>Spot</th></tr></thead>\n",
       "<tbody>\n",
       "\t<tr><td>1987-05-15</td><td>18.58     </td></tr>\n",
       "\t<tr><td>1987-05-22</td><td>18.54     </td></tr>\n",
       "\t<tr><td>1987-05-29</td><td>18.60     </td></tr>\n",
       "\t<tr><td>1987-06-05</td><td>18.70     </td></tr>\n",
       "\t<tr><td>1987-06-12</td><td>18.75     </td></tr>\n",
       "\t<tr><td>1987-06-19</td><td>19.01     </td></tr>\n",
       "</tbody>\n",
       "</table>\n"
      ],
      "text/latex": [
       "\\begin{tabular}{r|ll}\n",
       " Date & Spot\\\\\n",
       "\\hline\n",
       "\t 1987-05-15 & 18.58     \\\\\n",
       "\t 1987-05-22 & 18.54     \\\\\n",
       "\t 1987-05-29 & 18.60     \\\\\n",
       "\t 1987-06-05 & 18.70     \\\\\n",
       "\t 1987-06-12 & 18.75     \\\\\n",
       "\t 1987-06-19 & 19.01     \\\\\n",
       "\\end{tabular}\n"
      ],
      "text/markdown": [
       "\n",
       "Date | Spot | \n",
       "|---|---|---|---|---|---|\n",
       "| 1987-05-15 | 18.58      | \n",
       "| 1987-05-22 | 18.54      | \n",
       "| 1987-05-29 | 18.60      | \n",
       "| 1987-06-05 | 18.70      | \n",
       "| 1987-06-12 | 18.75      | \n",
       "| 1987-06-19 | 19.01      | \n",
       "\n",
       "\n"
      ],
      "text/plain": [
       "  Date       Spot \n",
       "1 1987-05-15 18.58\n",
       "2 1987-05-22 18.54\n",
       "3 1987-05-29 18.60\n",
       "4 1987-06-05 18.70\n",
       "5 1987-06-12 18.75\n",
       "6 1987-06-19 19.01"
      ]
     },
     "metadata": {},
     "output_type": "display_data"
    }
   ],
   "source": [
    "head(oil)"
   ]
  },
  {
   "cell_type": "code",
   "execution_count": 40,
   "metadata": {},
   "outputs": [
    {
     "data": {
      "text/plain": [
       "\n",
       "Call:\n",
       "arima(x = oil$Spot, order = c(0, 1, 3), include.mean = T)\n",
       "\n",
       "Coefficients:\n",
       "         ma1     ma2     ma3\n",
       "      0.2062  0.0550  0.0401\n",
       "s.e.  0.0269  0.0276  0.0256\n",
       "\n",
       "sigma^2 estimated as 3.684:  log likelihood = -2860.01,  aic = 5728.02"
      ]
     },
     "metadata": {},
     "output_type": "display_data"
    },
    {
     "data": {},
     "metadata": {},
     "output_type": "display_data"
    },
    {
     "data": {
      "image/png": "[encoded data removed]",
      "text/plain": [
       "plot without title"
      ]
     },
     "metadata": {},
     "output_type": "display_data"
    }
   ],
   "source": [
    "m3 <- arima(oil$Spot, order=c(0,1,3), include.mean=T)\n",
    "m3\n",
    "autoplot(forecast(m3, h=24))"
   ]
  }
 ],
 "metadata": {
  "kernelspec": {
   "display_name": "R",
   "language": "R",
   "name": "ir"
  },
  "language_info": {
   "codemirror_mode": "r",
   "file_extension": ".r",
   "mimetype": "text/x-r-source",
   "name": "R",
   "pygments_lexer": "r",
   "version": "3.5.1"
  }
 },
 "nbformat": 4,
 "nbformat_minor": 2
}
