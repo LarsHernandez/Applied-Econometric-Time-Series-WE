{
 "cells": [
  {
   "cell_type": "markdown",
   "metadata": {},
   "source": [
    "# Advanced Econometrics Exam - 2017\n",
    "Lars H. Nielsen\n",
    "\n",
    "### Opgaver\n",
    "1. Byggesten i tidsrækkeanalyse [10%]\n",
    "2. Tidsvarierende volatilitet [20%]\n",
    "3. Kointegration og fejlkorrektionsmodeller [45%]\n",
    "4. Vektorautoregressive modeller [25%]\n",
    "\n",
    "Data findes i csv filen dataExam2016.xlsx"
   ]
  },
  {
   "cell_type": "code",
   "execution_count": 1,
   "metadata": {},
   "outputs": [],
   "source": [
    "suppressMessages(library(tidyverse)) # Readr, ggplot, dplyr, ...\n",
    "suppressMessages(library(gridExtra)) # Arrangning ggplots\n",
    "suppressMessages(library(readxl))    # Loading excel\n",
    "suppressMessages(library(repr))      # Resizing the plots in jupyter\n",
    "suppressMessages(library(rugarch))   # For ARCH and GARCH models\n",
    "suppressMessages(library(dynlm))     # Lagged linear models\n",
    "suppressMessages(library(urca))      # Dick Fuller test\n",
    "suppressMessages(library(car))       # Linear hyphothesis testing\n",
    "suppressMessages(library(tseries))   # Adf-test\n",
    "suppressMessages(library(vars))      # VAR models\n",
    "suppressMessages(library(zoo))       # Convert quarters to date\n",
    "suppressMessages(library(forecast))  # Help in plotting TS\n",
    "suppressMessages(library(fGarch))    # The library Lasse uses to do GARCH\n",
    "suppressMessages(library(expm))      # Matrix calculations \n",
    "suppressMessages(library(tsDyn))     # VECM models\n",
    "\n",
    "options(repr.plot.width=8, repr.plot.height=2.5)\n",
    "options(warn=-1) # Carefull this disables all warnings"
   ]
  },
  {
   "cell_type": "markdown",
   "metadata": {},
   "source": [
    "### Indlæsning af data og korrektion af datoer"
   ]
  },
  {
   "cell_type": "code",
   "execution_count": 89,
   "metadata": {},
   "outputs": [],
   "source": [
    "setwd(\"C:/Users/larsn/Documents/GitHub/Applied-Econometric-Time-Series-WE\")\n",
    "\n",
    "data_1 <- read_delim(\"Data/dataExam2016_1.csv\", \";\", \n",
    "                     escape_double = FALSE, \n",
    "                     locale = locale(decimal_mark = \",\"), \n",
    "                     trim_ws = TRUE, \n",
    "                     col_type = cols(x = col_double()))\n",
    "\n",
    "data_2 <- read_delim(\"Data/dataExam2016_2.csv\", \";\", \n",
    "                     escape_double = FALSE, \n",
    "                     locale = locale(decimal_mark = \",\"), \n",
    "                     trim_ws = TRUE, \n",
    "                     col_type = cols(date = col_character(),\n",
    "                                     GDPdeflator = col_double(),\n",
    "                                     pi = col_double()))\n",
    "\n",
    "data_2$date <- as.Date(as.yearqtr(data_2$date, format = \"Q%q %Y\"))\n",
    "\n",
    "data_3 <- read_delim(\"Data/dataExam2016_3.csv\", \";\", \n",
    "                     escape_double = FALSE, \n",
    "                     locale = locale(decimal_mark = \",\"), \n",
    "                     trim_ws = TRUE, \n",
    "                     col_type = cols(`date (YYYYQQ)`= col_integer(),\n",
    "                                     c = col_double(),\n",
    "                                     a = col_double(),\n",
    "                                     y = col_double()))\n",
    "\n",
    "data_3$\"date (YYYYQQ)\" <- as.Date(as.yearqtr(as.character(data_3$\"date (YYYYQQ)\"), format = \"%Y0%q\"))\n",
    "colnames(data_3)[1] <- c(\"date\")"
   ]
  },
  {
   "cell_type": "markdown",
   "metadata": {},
   "source": [
    "# Byggesten i tidsrækkeanalyse [10%]"
   ]
  },
  {
   "cell_type": "markdown",
   "metadata": {},
   "source": [
    "**Spørgsmål 1.1** \n",
    "Betragt nedenstående proces. Hvilken type proces er der tale om? Husk at forklare alle symboler."
   ]
  },
  {
   "cell_type": "markdown",
   "metadata": {},
   "source": [
    "$$y_t = \\mu + \\varepsilon_t + \\beta_1\\varepsilon_{t-1} + \\beta_2\\varepsilon_{t-2} $$"
   ]
  },
  {
   "cell_type": "markdown",
   "metadata": {},
   "source": [
    "MA(2) process"
   ]
  },
  {
   "cell_type": "markdown",
   "metadata": {},
   "source": [
    "**Spørgsmål 1.2**\n",
    "Skriv udtrykket ved hjælp af lag operator notationen."
   ]
  },
  {
   "cell_type": "markdown",
   "metadata": {},
   "source": [
    "$$y_t = \\mu + \\varepsilon_t  + \\beta_1L\\varepsilon + \\beta_2L^2\\varepsilon $$ "
   ]
  },
  {
   "cell_type": "markdown",
   "metadata": {},
   "source": [
    "**Spørgsmål 1.3** Udled teoretisk den ubetingede (unconditional) middelværdi og varians for denne proces."
   ]
  },
  {
   "cell_type": "markdown",
   "metadata": {},
   "source": [
    "- Middelværdi\n",
    "\n",
    "$$E[y_t] = E[\\mu] + E[\\varepsilon_t] + E[\\beta_1\\varepsilon_{t-1}] + E[\\beta_1\\varepsilon_{t-2}] $$\n",
    "\n",
    "grundet white noise building blocks ved vi at alle led giver 0 undtagen skæringen, resultatet er derfor \n",
    "\n",
    "$$E[y_t] = E[\\mu]$$\n",
    "\n",
    "- Varians\n",
    "$$var(\\varepsilon_t) = var(\\varepsilon_{t-1}) = \\cdot \\cdot \\cdot = E(\\varepsilon^2_t) = \\sigma^2 $$\n",
    "\n",
    "$$var(y_t) = var(\\mu) + var(\\varepsilon_t) + var(\\beta_1\\varepsilon_{t-1}) + var(\\beta_1\\varepsilon_{t-2}) $$\n",
    "\n",
    "$$Var(y_t) = \\sigma^2 (1+\\beta^2_1 + \\beta^2_2) $$"
   ]
  },
  {
   "cell_type": "markdown",
   "metadata": {},
   "source": [
    "**Spørgsmål 1.4**\n",
    "Udled teoretisk autokorrelationsfunctionen (ACF) og den partielle autokorrelationsfunktion (PACF)."
   ]
  },
  {
   "cell_type": "markdown",
   "metadata": {},
   "source": [
    "- Autocorrelation\n",
    "$$\\rho_s = \\frac{cov(y_t,y_{t-s})}{\\sqrt{var(y_t)\\cdot var(y_{t-s})}} = \\frac{\\gamma_s}{\\gamma_0}$$\n",
    "\n",
    "$$var(y_t) = E[y_ty_t] $$\n",
    "$$cov(y_t,y_{t-s}) = E[y_ty_{t-s}]$$\n",
    "\n",
    "vi har ikke brug for $var(y_{t-s})$ da variansen i en stationær process er konstant og derfor er lig med $var(y_{t})$\n",
    "\n",
    "$$\\gamma_0 = E[y_t,y_{t}] = (1 + \\beta^2_1 + \\beta_2^2)\\sigma^2$$\n",
    "$$\\gamma_1 = E[y_t,y_{t-1}] = \\beta_1(1+\\beta_2)\\sigma^2$$\n",
    "$$\\gamma_1 = E[y_t,y_{t-2}] = \\beta_2\\sigma^2$$\n",
    "\n",
    "\n",
    "$$\\rho_1 = \\frac{\\beta_1(1+\\beta_2)}{1+\\beta^2_1+\\beta^2_2}$$\n",
    "$$\\rho_2 = \\frac{\\beta_2}{1+\\beta^2_1+\\beta^2_2}$$\n",
    "- Partial autocorrelation\n",
    "\n",
    "$$\\phi_{11} = \\rho_1 $$\n",
    "$$\\phi_{22} = \\frac{\\rho_2-\\rho_1^2}{1-\\rho_1^2} $$\n",
    "$$\\phi_{ss} = \\frac{\\rho_s-\\sum^{s-1}_{j=1}\\phi_{s-1,j}\\rho_{s-j}}{1-\\sum^{s-1}_{j=1}\\phi_{s-1,j}\\rho_{s-j}} $$"
   ]
  },
  {
   "cell_type": "markdown",
   "metadata": {},
   "source": [
    "**Spørgsmål 1.5**\n",
    "*På baggrund af data i fanebladet \"opgave1\" i fillen benævnt dataExam2016.xlsx bedes du estimere og afbilde ACF og PACF. Hvilken type proces vurderer du der er tale om?*\n",
    "\n",
    "Grundet de to udslag i ACF og to i PACF vurderer jeg det er en ARIMA(0,0,2) process. auto.arima foreslår ARIMA(2,0,2) men begge AR lags er ikke signifikante. Hvis man simulerer en MA(2) process og plotter ACF og PACF får man nogle plots lignene dem for det givne data."
   ]
  },
  {
   "cell_type": "code",
   "execution_count": 3,
   "metadata": {},
   "outputs": [
    {
     "data": {
      "text/html": [
       "<table>\n",
       "<tbody>\n",
       "\t<tr><th scope=row>x</th><td>2.344395  </td><td>2.958538  </td><td>2.006881  </td><td>0.9361062 </td><td>1.714408  </td><td>2.741347  </td><td>1.365148  </td><td>-0.1789197</td><td>-2.701655 </td><td>0.76896   </td></tr>\n",
       "</tbody>\n",
       "</table>\n"
      ],
      "text/latex": [
       "\\begin{tabular}{r|llllllllll}\n",
       "\tx & 2.344395   & 2.958538   & 2.006881   & 0.9361062  & 1.714408   & 2.741347   & 1.365148   & -0.1789197 & -2.701655  & 0.76896   \\\\\n",
       "\\end{tabular}\n"
      ],
      "text/markdown": [
       "\n",
       "| x | 2.344395   | 2.958538   | 2.006881   | 0.9361062  | 1.714408   | 2.741347   | 1.365148   | -0.1789197 | -2.701655  | 0.76896    | \n",
       "\n",
       "\n"
      ],
      "text/plain": [
       "  [,1]     [,2]     [,3]     [,4]      [,5]     [,6]     [,7]     [,8]      \n",
       "x 2.344395 2.958538 2.006881 0.9361062 1.714408 2.741347 1.365148 -0.1789197\n",
       "  [,9]      [,10]  \n",
       "x -2.701655 0.76896"
      ]
     },
     "metadata": {},
     "output_type": "display_data"
    }
   ],
   "source": [
    "t(head(data_1,10))"
   ]
  },
  {
   "cell_type": "code",
   "execution_count": 4,
   "metadata": {},
   "outputs": [
    {
     "data": {
      "image/png": "[encoded data removed]",
      "text/plain": [
       "plot without title"
      ]
     },
     "metadata": {},
     "output_type": "display_data"
    }
   ],
   "source": [
    "options(repr.plot.width=5, repr.plot.height=2)\n",
    "a <- ggAcf(data_1) + ggtitle(\"ACF: Serie 1\")\n",
    "b <- ggPacf(data_1) + ggtitle(\"PACF: Serie 1\")\n",
    "grid.arrange(a,b,nrow=1)"
   ]
  },
  {
   "cell_type": "code",
   "execution_count": 5,
   "metadata": {},
   "outputs": [],
   "source": [
    "#x <- arima.sim(n = 10000, list(order=c(0,0,2), ma=c(0.6, 0.2)), innov=rnorm(10000))\n",
    "#ggtsdisplay(x)\n",
    "#auto.arima(x)"
   ]
  },
  {
   "cell_type": "code",
   "execution_count": 6,
   "metadata": {},
   "outputs": [],
   "source": [
    "#arima(data_1, order=c(0,0,2))"
   ]
  },
  {
   "cell_type": "markdown",
   "metadata": {},
   "source": [
    "**Spørgsmål 1.6**\n",
    "*Antag at $\\mu = 1, \\quad \\beta_1 = 0.6,\\quad \\beta_2 = 0.2, \\quad \\sigma^2 = 1$ Sammenhold den analytiske ACF og PACF på baggrund af disse parametre med den estimerede i spørgsmålet ovenfor - er der overensstemmelse mellem disse? Hvorfor/hvorfor ikke?*\n",
    "\n",
    "- Autokorrelationsfunktion\n",
    "\n",
    "$$\\rho_1 = \\frac{\\beta_1(1+\\beta_2)}{1+\\beta^2_1+\\beta^2_2} = \\frac{0.6(1+0.2)}{1+0.6^2+0.2^2} = 0.514$$\n",
    "\n",
    "$$\\rho_2 = \\frac{\\beta_2}{1+\\beta^2_1+\\beta^2_2} = \\frac{0.2}{1+0.6^2+0.2^2} = 0.1429$$\n",
    "\n",
    "- Partiel autokorrelationsfunktion\n",
    "\n",
    "$$\\phi_{11} = \\rho_1 = 0.514$$\n",
    "\n",
    "$$\\phi_{22} = \\frac{\\rho_2-\\rho_1^2}{1-\\rho_1^2} = \\frac{0.1429-0.514^2}{1-0.514^2} = -0.164$$"
   ]
  },
  {
   "cell_type": "code",
   "execution_count": 7,
   "metadata": {},
   "outputs": [
    {
     "data": {
      "text/plain": [
       "\n",
       "Autocorrelations of series 'data_1', by lag\n",
       "\n",
       "     0      1      2      3      4      5 \n",
       " 1.000  0.523  0.154  0.005 -0.012 -0.016 "
      ]
     },
     "metadata": {},
     "output_type": "display_data"
    },
    {
     "data": {
      "text/plain": [
       "\n",
       "Partial autocorrelations of series 'data_1', by lag\n",
       "\n",
       "     1      2      3      4      5 \n",
       " 0.523 -0.165 -0.004  0.017 -0.021 "
      ]
     },
     "metadata": {},
     "output_type": "display_data"
    }
   ],
   "source": [
    "Acf(data_1, plot = F, lag = 5)\n",
    "Pacf(data_1, plot = F, lag = 5)"
   ]
  },
  {
   "cell_type": "markdown",
   "metadata": {},
   "source": [
    "# Tidsvarierende volatilitet [20%]\n",
    "Denne opgave består af 2 dele. Den første del er overvejende teoretisk mens anden del i spørgsmål 2.5 har en mere implementerende karakter. Begge dele indgår ligeligt i vurderingen."
   ]
  },
  {
   "cell_type": "markdown",
   "metadata": {},
   "source": [
    "**Spørgsmål 2.1** *Et eksempel på en økonometrisk model, der tillader tidsvarierende varians (tidsvarierende volatilitet) er GARCH modellen. Skriv de nødvendige ligninger op for en GARCH(1,1) model og redegør for, hvordan man kan se den tidsvarierende varians. Husk at beskrive symbolerne i ligningerne og eventuelle antagelser.*"
   ]
  },
  {
   "cell_type": "markdown",
   "metadata": {},
   "source": [
    "GARCH(1,1)\n",
    "\n",
    "$$ \\varepsilon_t = v_t \\sqrt{h_t}$$\n",
    "$$ h_t = \\alpha_0 + \\alpha_1\\varepsilon^2_{t-1} + \\beta h_{t-1}$$"
   ]
  },
  {
   "cell_type": "markdown",
   "metadata": {},
   "source": [
    "**Spørgsmål 2.2** *Hvilke restriktioner på parametrene skal være opfyldt for at GARCH modellen er stationær?*"
   ]
  },
  {
   "cell_type": "code",
   "execution_count": null,
   "metadata": {},
   "outputs": [],
   "source": []
  },
  {
   "cell_type": "markdown",
   "metadata": {},
   "source": [
    "**Spørgsmål 2.3** *Hvis fejlleddet er beskrevet ved en GARCH(1,1) proces, hvilken proces følger de kvadrerede residuler \"2 t da?*"
   ]
  },
  {
   "cell_type": "markdown",
   "metadata": {},
   "source": [
    "De følger en ARMA(1,1) model"
   ]
  },
  {
   "cell_type": "markdown",
   "metadata": {},
   "source": [
    "**Spørgsmål 2.4** *Hvordan vil du i praksis forsøge at vurdere om der er ARCH/GARCH effekter i fejlleddet \"t; eksempelvis ved en simpel graf?*"
   ]
  },
  {
   "cell_type": "markdown",
   "metadata": {},
   "source": [
    "Man kan plotte de kvardrede residualer fra en model, f.eks. en ARMA(1,1) som jeg gør senere i opgaven."
   ]
  },
  {
   "cell_type": "markdown",
   "metadata": {},
   "source": [
    "**Spørgsmål 2.5** *Empirisk applikation. Brug data for infationen fra Excel filen benævnt dataExam2016 fra fanebladet \"GARCH\". Find en passende ARCH eller GARCH model for infationen for perioden 1960:Q1 til 2013:Q2. Afprøv maksimalt 4 ARCH/GARCH modeller og rapporter modellernes koefcientestimater, standard errors og informationskriterie(r). Plot også den estimerede volatilitet.*\n",
    "\n",
    "1. Burde man ikke tage differensen til inflationen eftersom den ikke er statioær efter en adf.test?\n",
    "2. Jeg finder at der ifølge Ljung-Box testen er serielkorrelation i de kvardrede residualer, det må derfor korregeres med en ARCH eller GARCH model\n",
    "3. Jeg finder at auto.arima foreslår en ARIMA (2,1,0) model til at modelere residualet, jeg foresætter dog uden at differentiere inflationen\n",
    "4. Ifølge informationskriterierne vinder Model 2 i alle test, det er en ARMA(1,1) GARCH(1,1) model (modsat lasses resultat som finder en ARMA(2,0) GARCH(1,1)\n",
    "5. Ved test (Box Ljung og McLeod Li) af de standardiserede residualer kan jeg med 5% signifikansniveau afvise serielkorrelation i Model 2 ARMA(1,1) GARCH(1,1)"
   ]
  },
  {
   "cell_type": "code",
   "execution_count": 8,
   "metadata": {},
   "outputs": [
    {
     "data": {
      "text/html": [
       "<table>\n",
       "<thead><tr><th scope=col>date</th><th scope=col>GDPdeflator</th><th scope=col>pi</th><th scope=col>dpi</th><th scope=col>res</th><th scope=col>sres</th></tr></thead>\n",
       "<tbody>\n",
       "\t<tr><td>1959-10-01</td><td>17.375    </td><td>      NA  </td><td>       NA </td><td>        NA</td><td>       NA </td></tr>\n",
       "\t<tr><td>1960-01-01</td><td>17.409    </td><td>0.781969  </td><td>       NA </td><td>-0.9288903</td><td>0.8628372 </td></tr>\n",
       "\t<tr><td>1960-04-01</td><td>17.473    </td><td>1.467807  </td><td>0.6858384 </td><td> 0.4450555</td><td>0.1980744 </td></tr>\n",
       "</tbody>\n",
       "</table>\n"
      ],
      "text/latex": [
       "\\begin{tabular}{r|llllll}\n",
       " date & GDPdeflator & pi & dpi & res & sres\\\\\n",
       "\\hline\n",
       "\t 1959-10-01 & 17.375     &       NA   &        NA  &         NA &        NA \\\\\n",
       "\t 1960-01-01 & 17.409     & 0.781969   &        NA  & -0.9288903 & 0.8628372 \\\\\n",
       "\t 1960-04-01 & 17.473     & 1.467807   & 0.6858384  &  0.4450555 & 0.1980744 \\\\\n",
       "\\end{tabular}\n"
      ],
      "text/markdown": [
       "\n",
       "date | GDPdeflator | pi | dpi | res | sres | \n",
       "|---|---|---|\n",
       "| 1959-10-01 | 17.375     |       NA   |        NA  |         NA |        NA  | \n",
       "| 1960-01-01 | 17.409     | 0.781969   |        NA  | -0.9288903 | 0.8628372  | \n",
       "| 1960-04-01 | 17.473     | 1.467807   | 0.6858384  |  0.4450555 | 0.1980744  | \n",
       "\n",
       "\n"
      ],
      "text/plain": [
       "  date       GDPdeflator pi       dpi       res        sres     \n",
       "1 1959-10-01 17.375            NA        NA         NA        NA\n",
       "2 1960-01-01 17.409      0.781969        NA -0.9288903 0.8628372\n",
       "3 1960-04-01 17.473      1.467807 0.6858384  0.4450555 0.1980744"
      ]
     },
     "metadata": {},
     "output_type": "display_data"
    }
   ],
   "source": [
    "data_2$dpi <- c(NA, diff(data_2$pi))\n",
    "m <- arima(data_2$pi, order=c(1,0,1))\n",
    "data_2$res <- m$residuals\n",
    "data_2$sres <- m$residuals^2\n",
    "\n",
    "head(data_2,3)"
   ]
  },
  {
   "cell_type": "markdown",
   "metadata": {},
   "source": [
    "#### Test af ARCH og GARCH effekter i serien (ved anvendelse af de kvadrede residualer fra en ARMA(1,1) model)\n",
    " - Visuel inspektion ved plot af $\\varepsilon$ og $\\varepsilon^2$\n",
    "   - Der er klare tegn på problemer i $\\varepsilon^2$\n",
    " - Ljung Box test af serielkorrelation i $\\varepsilon$ og $\\varepsilon^2$\n",
    "   - Box testen viser ingen tegn på serielkorrelation i $\\varepsilon$, så ARMA(1,1) modellen er velspecificeret, men afviser klart at der ingen serielkorrelation er i $\\varepsilon^2$\n",
    " - McLeod Li testen en formel Lagrange Multiplier test af ARCH fejl\n",
    "   - En samlet F-test for signifikans af de laggede $\\varepsilon^2$ giver en p-værdi på 0.0005574, det betyder der er serielkorrelation.\n",
    " - Auto.arima anvendes på $\\varepsilon^2$\n",
    "   - Foreslår en ARIMA(2,1,0) model, og altså gode argumenter for at fejlleddet skal modeleres med en GARCH(2,0)"
   ]
  },
  {
   "cell_type": "code",
   "execution_count": 9,
   "metadata": {},
   "outputs": [
    {
     "data": {
      "image/png": "[encoded data removed]",
      "text/plain": [
       "plot without title"
      ]
     },
     "metadata": {},
     "output_type": "display_data"
    },
    {
     "data": {
      "image/png": "[encoded data removed]",
      "text/plain": [
       "plot without title"
      ]
     },
     "metadata": {},
     "output_type": "display_data"
    }
   ],
   "source": [
    "options(repr.plot.width=8, repr.plot.height=2.5)\n",
    "\n",
    "a <- ggplot() + geom_line(data=data_2, aes(date, GDPdeflator)) + labs(title=\"GDP deflator\", x=\"\", subtitle=\"Ikke stationær\")\n",
    "b <- ggplot() + geom_line(data=data_2[-c(1),], aes(date, pi)) + labs(title=\"Inflation\", x=\"\", subtitle=\"Autocorrelation -> ARMA(1,1)\")\n",
    "c <- ggplot() + geom_line(data=data_2[-c(1,2),], aes(date, dpi)) + labs(title=\"Diff Inflation\", x=\"\", subtitle=\"Stationær men anvendes ikke\")\n",
    "d <- ggplot() + geom_line(data=data_2[-c(1),], aes(date, res)) + labs(title=\"Residualer - inflation ARMA(1,1)\", x=\"\", subtitle=\"Ingen autokorrelation ifølge Ljung-Box\")\n",
    "e <- ggplot() + geom_line(data=data_2[-c(1),], aes(date, sres)) + labs(title=\"Residualer^2 - inflation ARMA(1,1)\", x=\"\", subtitle=\"Autokorrelation ifølge Ljung-Box\")\n",
    "\n",
    "grid.arrange(a,b,c,nrow=1); grid.arrange(d,e,nrow=1)"
   ]
  },
  {
   "cell_type": "code",
   "execution_count": 10,
   "metadata": {},
   "outputs": [
    {
     "data": {
      "text/html": [
       "<table>\n",
       "<thead><tr><th scope=col>statistic</th><th scope=col>parameter</th><th scope=col>p.value</th><th scope=col>method</th><th scope=col>data.name</th></tr></thead>\n",
       "<tbody>\n",
       "\t<tr><td>7.271768      </td><td>8             </td><td>0.507615      </td><td>Box-Ljung test</td><td>data_2$res    </td></tr>\n",
       "\t<tr><td>49.69377      </td><td>8             </td><td>4.67955e-08   </td><td>Box-Ljung test</td><td>data_2$sres   </td></tr>\n",
       "</tbody>\n",
       "</table>\n"
      ],
      "text/latex": [
       "\\begin{tabular}{lllll}\n",
       " statistic & parameter & p.value & method & data.name\\\\\n",
       "\\hline\n",
       "\t 7.271768       & 8              & 0.507615       & Box-Ljung test & data\\_2\\$res\\\\\n",
       "\t 49.69377        & 8               & 4.67955e-08     & Box-Ljung test  & data\\_2\\$sres\\\\\n",
       "\\end{tabular}\n"
      ],
      "text/markdown": [
       "\n",
       "statistic | parameter | p.value | method | data.name | \n",
       "|---|---|\n",
       "| 7.271768       | 8              | 0.507615       | Box-Ljung test | data_2$res     | \n",
       "| 49.69377       | 8              | 4.67955e-08    | Box-Ljung test | data_2$sres    | \n",
       "\n",
       "\n"
      ],
      "text/plain": [
       "     statistic parameter p.value     method         data.name  \n",
       "[1,] 7.271768  8         0.507615    Box-Ljung test data_2$res \n",
       "[2,] 49.69377  8         4.67955e-08 Box-Ljung test data_2$sres"
      ]
     },
     "metadata": {},
     "output_type": "display_data"
    }
   ],
   "source": [
    "rbind(Box.test(data_2$res,lag=8,type=\"Ljung-Box\"), Box.test(data_2$sres,lag=8,type=\"Ljung-Box\"))"
   ]
  },
  {
   "cell_type": "code",
   "execution_count": 11,
   "metadata": {},
   "outputs": [
    {
     "data": {
      "text/html": [
       "<table>\n",
       "<thead><tr><th scope=col>value</th><th scope=col>numdf</th><th scope=col>dendf</th></tr></thead>\n",
       "<tbody>\n",
       "\t<tr><td>3.644286</td><td>8       </td><td>197     </td></tr>\n",
       "</tbody>\n",
       "</table>\n"
      ],
      "text/latex": [
       "\\begin{tabular}{lll}\n",
       " value & numdf & dendf\\\\\n",
       "\\hline\n",
       "\t 3.644286 & 8        & 197     \\\\\n",
       "\\end{tabular}\n"
      ],
      "text/markdown": [
       "\n",
       "value | numdf | dendf | \n",
       "|---|\n",
       "| 3.644286 | 8        | 197      | \n",
       "\n",
       "\n"
      ],
      "text/plain": [
       "     value    numdf dendf\n",
       "[1,] 3.644286 8     197  "
      ]
     },
     "metadata": {},
     "output_type": "display_data"
    }
   ],
   "source": [
    "sr <- data_2$sres\n",
    "reg <- dynlm(sr ~ L(sr,1) + L(sr,2) + L(sr,3) + L(sr,4) + L(sr,5) + L(sr,6) + L(sr,7) + L(sr,8))\n",
    "t(summary(reg)$fstatistic)\n",
    "#summary(reg)"
   ]
  },
  {
   "cell_type": "code",
   "execution_count": 12,
   "metadata": {},
   "outputs": [],
   "source": [
    "#auto.arima(data_2$sres)"
   ]
  },
  {
   "cell_type": "markdown",
   "metadata": {},
   "source": [
    "#### Modeller i rugarch\n",
    "\n",
    "- Model 1 <- ARMA(2,0) GARCH(1,1)\n",
    "- Model 2 <- ARMA(1,1) GARCH(1,1)\n",
    "- Model 3 <- ARMA(2,0) GARCH(3,0)\n",
    "- Model 4 <- ARMA(1,1) GARCH(3,0)"
   ]
  },
  {
   "cell_type": "code",
   "execution_count": 13,
   "metadata": {},
   "outputs": [],
   "source": [
    "pi <- data_2$pi[-c(1)]\n",
    "\n",
    "spec <- ugarchspec(variance.model = list(model = \"sGARCH\", \n",
    "                                         garchOrder = c(1, 1)),\n",
    "                   mean.model     = list(armaOrder  = c(2, 0)))\n",
    "  m1 <- ugarchfit(spec = spec, data = pi)\n",
    "\n",
    "spec <- ugarchspec(variance.model = list(model = \"sGARCH\",\n",
    "                                         garchOrder = c(1, 1)),\n",
    "                   mean.model     = list(armaOrder  = c(1, 1)))\n",
    "  m2 <- ugarchfit(spec = spec, data = pi)\n",
    "\n",
    "spec <- ugarchspec(variance.model = list(model = \"sGARCH\", \n",
    "                                         garchOrder = c(3, 0)),\n",
    "                   mean.model     = list(armaOrder  = c(2, 0)))\n",
    "  m3 <- ugarchfit(spec = spec, data = pi)\n",
    "\n",
    "spec <- ugarchspec(variance.model = list(model = \"sGARCH\", \n",
    "                                         garchOrder = c(3, 0)),\n",
    "                   mean.model     = list(armaOrder  = c(1, 1)))\n",
    "  m4 <- ugarchfit(spec = spec, data = pi)"
   ]
  },
  {
   "cell_type": "markdown",
   "metadata": {},
   "source": [
    "#### Den pakke som Lasse bruger til GARCH (fgarch), giver lidt andre resultater, specielt konstanten (mu)"
   ]
  },
  {
   "cell_type": "code",
   "execution_count": 14,
   "metadata": {},
   "outputs": [],
   "source": [
    "fit <- garchFit(formula = ~ arma(2, 0) + garch(1, 1), \n",
    "                data = pi, \n",
    "                include.mean = T, \n",
    "                trace = F)"
   ]
  },
  {
   "cell_type": "code",
   "execution_count": 15,
   "metadata": {},
   "outputs": [],
   "source": [
    "#auto.arima(data_2$pi)"
   ]
  },
  {
   "cell_type": "markdown",
   "metadata": {},
   "source": [
    "#### Informationskriterier"
   ]
  },
  {
   "cell_type": "code",
   "execution_count": 16,
   "metadata": {},
   "outputs": [
    {
     "data": {
      "text/html": [
       "<table>\n",
       "<thead><tr><th></th><th scope=col>Model 1</th><th scope=col>Model 2</th><th scope=col>Model 3</th><th scope=col>Model 4</th></tr></thead>\n",
       "<tbody>\n",
       "\t<tr><th scope=row>Akaike</th><td>2.6932</td><td>2.6593</td><td>2.7480</td><td>2.7281</td></tr>\n",
       "\t<tr><th scope=row>Bayes</th><td>2.7876</td><td>2.7537</td><td>2.8581</td><td>2.8382</td></tr>\n",
       "\t<tr><th scope=row>Shibata</th><td>2.6917</td><td>2.6578</td><td>2.7459</td><td>2.7260</td></tr>\n",
       "\t<tr><th scope=row>Hannan-Quinn</th><td>2.7314</td><td>2.6974</td><td>2.7924</td><td>2.7726</td></tr>\n",
       "</tbody>\n",
       "</table>\n"
      ],
      "text/latex": [
       "\\begin{tabular}{r|llll}\n",
       "  & Model 1 & Model 2 & Model 3 & Model 4\\\\\n",
       "\\hline\n",
       "\tAkaike & 2.6932 & 2.6593 & 2.7480 & 2.7281\\\\\n",
       "\tBayes & 2.7876 & 2.7537 & 2.8581 & 2.8382\\\\\n",
       "\tShibata & 2.6917 & 2.6578 & 2.7459 & 2.7260\\\\\n",
       "\tHannan-Quinn & 2.7314 & 2.6974 & 2.7924 & 2.7726\\\\\n",
       "\\end{tabular}\n"
      ],
      "text/markdown": [
       "\n",
       "| <!--/--> | Model 1 | Model 2 | Model 3 | Model 4 | \n",
       "|---|---|---|---|\n",
       "| Akaike | 2.6932 | 2.6593 | 2.7480 | 2.7281 | \n",
       "| Bayes | 2.7876 | 2.7537 | 2.8581 | 2.8382 | \n",
       "| Shibata | 2.6917 | 2.6578 | 2.7459 | 2.7260 | \n",
       "| Hannan-Quinn | 2.7314 | 2.6974 | 2.7924 | 2.7726 | \n",
       "\n",
       "\n"
      ],
      "text/plain": [
       "             Model 1 Model 2 Model 3 Model 4\n",
       "Akaike       2.6932  2.6593  2.7480  2.7281 \n",
       "Bayes        2.7876  2.7537  2.8581  2.8382 \n",
       "Shibata      2.6917  2.6578  2.7459  2.7260 \n",
       "Hannan-Quinn 2.7314  2.6974  2.7924  2.7726 "
      ]
     },
     "metadata": {},
     "output_type": "display_data"
    }
   ],
   "source": [
    "a <- round(cbind(infocriteria(m1), infocriteria(m2), infocriteria(m3), infocriteria(m4)), 4)\n",
    "colnames(a) <- c(\"Model 1\", \"Model 2\", \"Model 3\", \"Model 4\")\n",
    "a"
   ]
  },
  {
   "cell_type": "markdown",
   "metadata": {},
   "source": [
    "#### Koeficienter og standard fejen i parentes"
   ]
  },
  {
   "cell_type": "code",
   "execution_count": 17,
   "metadata": {},
   "outputs": [
    {
     "data": {
      "text/html": [
       "<table>\n",
       "<thead><tr><th></th><th scope=col>Model 1</th><th scope=col>Model 2</th><th scope=col>Model 3</th><th scope=col>Model 4</th><th scope=col>Model 1 fgarch</th></tr></thead>\n",
       "<tbody>\n",
       "\t<tr><th scope=row>mu</th><td>1.8021 (0.538) </td><td>1.5855 (0.653) </td><td>1.6897 (0.691) </td><td>1.5892 (0.818) </td><td>0.2316 (0.1)   </td></tr>\n",
       "\t<tr><th scope=row>ar1</th><td>0.5873 (0.072) </td><td>0.9639 (0.021) </td><td>0.5693 (0.077) </td><td>0.9717 (0.025) </td><td>0.5819 (0.071) </td></tr>\n",
       "\t<tr><th scope=row>ar2</th><td>0.3277 (0.069) </td><td>NA             </td><td>0.3694 (0.073) </td><td>NA             </td><td>0.3197 (0.069) </td></tr>\n",
       "\t<tr><th scope=row>omega</th><td>0.0198 (0.015) </td><td>0.0188 (0.014) </td><td>0.3617 (0.091) </td><td>0.3425 (0.093) </td><td>0.0217 (0.014) </td></tr>\n",
       "\t<tr><th scope=row>alpha1</th><td>0.1405 (0.051) </td><td>0.1461 (0.052) </td><td>0.2376 (0.133) </td><td>0.2813 (0.137) </td><td>0.1353 (0.048) </td></tr>\n",
       "\t<tr><th scope=row>beta1</th><td>0.8469 (0.048) </td><td>0.842 (0.048)  </td><td>NA             </td><td>NA             </td><td>0.8486 (0.045) </td></tr>\n",
       "\t<tr><th scope=row>ma1</th><td>NA             </td><td>-0.4469 (0.068)</td><td>NA             </td><td>-0.4618 (0.079)</td><td>NA             </td></tr>\n",
       "\t<tr><th scope=row>alpha2</th><td>NA             </td><td>NA             </td><td>0.4149 (0.156) </td><td>0.3726 (0.159) </td><td>NA             </td></tr>\n",
       "\t<tr><th scope=row>alpha3</th><td>NA             </td><td>NA             </td><td>0.0847 (0.054) </td><td>0.0976 (0.057) </td><td>NA             </td></tr>\n",
       "</tbody>\n",
       "</table>\n"
      ],
      "text/latex": [
       "\\begin{tabular}{r|lllll}\n",
       "  & Model 1 & Model 2 & Model 3 & Model 4 & Model 1 fgarch\\\\\n",
       "\\hline\n",
       "\tmu & 1.8021 (0.538)  & 1.5855 (0.653)  & 1.6897 (0.691)  & 1.5892 (0.818)  & 0.2316 (0.1)   \\\\\n",
       "\tar1 & 0.5873 (0.072)  & 0.9639 (0.021)  & 0.5693 (0.077)  & 0.9717 (0.025)  & 0.5819 (0.071) \\\\\n",
       "\tar2 & 0.3277 (0.069)  & NA              & 0.3694 (0.073)  & NA              & 0.3197 (0.069) \\\\\n",
       "\tomega & 0.0198 (0.015)  & 0.0188 (0.014)  & 0.3617 (0.091)  & 0.3425 (0.093)  & 0.0217 (0.014) \\\\\n",
       "\talpha1 & 0.1405 (0.051)  & 0.1461 (0.052)  & 0.2376 (0.133)  & 0.2813 (0.137)  & 0.1353 (0.048) \\\\\n",
       "\tbeta1 & 0.8469 (0.048)  & 0.842 (0.048)   & NA              & NA              & 0.8486 (0.045) \\\\\n",
       "\tma1 & NA              & -0.4469 (0.068) & NA              & -0.4618 (0.079) & NA             \\\\\n",
       "\talpha2 & NA              & NA              & 0.4149 (0.156)  & 0.3726 (0.159)  & NA             \\\\\n",
       "\talpha3 & NA              & NA              & 0.0847 (0.054)  & 0.0976 (0.057)  & NA             \\\\\n",
       "\\end{tabular}\n"
      ],
      "text/markdown": [
       "\n",
       "| <!--/--> | Model 1 | Model 2 | Model 3 | Model 4 | Model 1 fgarch | \n",
       "|---|---|---|---|---|---|---|---|---|\n",
       "| mu | 1.8021 (0.538)  | 1.5855 (0.653)  | 1.6897 (0.691)  | 1.5892 (0.818)  | 0.2316 (0.1)    | \n",
       "| ar1 | 0.5873 (0.072)  | 0.9639 (0.021)  | 0.5693 (0.077)  | 0.9717 (0.025)  | 0.5819 (0.071)  | \n",
       "| ar2 | 0.3277 (0.069)  | NA              | 0.3694 (0.073)  | NA              | 0.3197 (0.069)  | \n",
       "| omega | 0.0198 (0.015)  | 0.0188 (0.014)  | 0.3617 (0.091)  | 0.3425 (0.093)  | 0.0217 (0.014)  | \n",
       "| alpha1 | 0.1405 (0.051)  | 0.1461 (0.052)  | 0.2376 (0.133)  | 0.2813 (0.137)  | 0.1353 (0.048)  | \n",
       "| beta1 | 0.8469 (0.048)  | 0.842 (0.048)   | NA              | NA              | 0.8486 (0.045)  | \n",
       "| ma1 | NA              | -0.4469 (0.068) | NA              | -0.4618 (0.079) | NA              | \n",
       "| alpha2 | NA              | NA              | 0.4149 (0.156)  | 0.3726 (0.159)  | NA              | \n",
       "| alpha3 | NA              | NA              | 0.0847 (0.054)  | 0.0976 (0.057)  | NA              | \n",
       "\n",
       "\n"
      ],
      "text/plain": [
       "       Model 1        Model 2         Model 3        Model 4        \n",
       "mu     1.8021 (0.538) 1.5855 (0.653)  1.6897 (0.691) 1.5892 (0.818) \n",
       "ar1    0.5873 (0.072) 0.9639 (0.021)  0.5693 (0.077) 0.9717 (0.025) \n",
       "ar2    0.3277 (0.069) NA              0.3694 (0.073) NA             \n",
       "omega  0.0198 (0.015) 0.0188 (0.014)  0.3617 (0.091) 0.3425 (0.093) \n",
       "alpha1 0.1405 (0.051) 0.1461 (0.052)  0.2376 (0.133) 0.2813 (0.137) \n",
       "beta1  0.8469 (0.048) 0.842 (0.048)   NA             NA             \n",
       "ma1    NA             -0.4469 (0.068) NA             -0.4618 (0.079)\n",
       "alpha2 NA             NA              0.4149 (0.156) 0.3726 (0.159) \n",
       "alpha3 NA             NA              0.0847 (0.054) 0.0976 (0.057) \n",
       "       Model 1 fgarch\n",
       "mu     0.2316 (0.1)  \n",
       "ar1    0.5819 (0.071)\n",
       "ar2    0.3197 (0.069)\n",
       "omega  0.0217 (0.014)\n",
       "alpha1 0.1353 (0.048)\n",
       "beta1  0.8486 (0.045)\n",
       "ma1    NA            \n",
       "alpha2 NA            \n",
       "alpha3 NA            "
      ]
     },
     "metadata": {},
     "output_type": "display_data"
    }
   ],
   "source": [
    "a <- paste0(round(m1@fit$coef,4), \" (\",round(m1@fit$se,3),\")\")\n",
    "a <- as.data.frame(rbind(m1@fit$coef,a))[2,]\n",
    "\n",
    "b <- paste0(round(m2@fit$coef,4), \" (\",round(m2@fit$se,3),\")\")\n",
    "b <- as.data.frame(rbind(m2@fit$coef,b))[2,]\n",
    "\n",
    "c <- paste0(round(m3@fit$coef,4), \" (\",round(m3@fit$se,3),\")\")\n",
    "c <- as.data.frame(rbind(m3@fit$coef,c))[2,]\n",
    "\n",
    "d <- paste0(round(m4@fit$coef,4), \" (\",round(m4@fit$se,3),\")\")\n",
    "d <- as.data.frame(rbind(m4@fit$coef,d))[2,]\n",
    "\n",
    "e <- paste0(round(fit@fit$coef,4), \" (\",round(fit@fit$se.coef,3),\")\")\n",
    "e <- as.data.frame(rbind(fit@fit$coef,e))[2,]\n",
    "\n",
    "table <- suppressMessages(t(full_join(full_join(full_join(a,b), full_join(c,d)),e)))\n",
    "colnames(table) <- c(\"Model 1\", \"Model 2\", \"Model 3\", \"Model 4\", \"Model 1 fgarch\")\n",
    "table"
   ]
  },
  {
   "cell_type": "markdown",
   "metadata": {},
   "source": [
    "**Spørgsmål 2.6** Slut af med at teste om din foretrukne ARCH/GARCH model er velspecificeret."
   ]
  },
  {
   "cell_type": "markdown",
   "metadata": {},
   "source": [
    "Jeg vælger **model 2** eftersom den vinder i informationskriterierne"
   ]
  },
  {
   "cell_type": "code",
   "execution_count": 18,
   "metadata": {},
   "outputs": [
    {
     "data": {
      "image/png": "[encoded data removed]",
      "text/plain": [
       "plot without title"
      ]
     },
     "metadata": {},
     "output_type": "display_data"
    },
    {
     "data": {
      "image/png": "[encoded data removed]",
      "text/plain": [
       "plot without title"
      ]
     },
     "metadata": {},
     "output_type": "display_data"
    }
   ],
   "source": [
    "dat <- data.frame(Model_1 = m1@fit[[\"var\"]],\n",
    "                  Model_2 = m2@fit[[\"var\"]],\n",
    "                  Model_3 = m3@fit[[\"var\"]],\n",
    "                  Model_4 = m4@fit[[\"var\"]],\n",
    "                  date = data_2$date[-1],\n",
    "                  ARMA_sres = data_2$sres[-1])\n",
    "dat <- gather(dat, variable, value, -date)\n",
    "\n",
    "a <- ggplot(dat, aes(date,value, color=variable)) + \n",
    "  geom_line() + \n",
    "  scale_color_manual(values=c(\"grey\", \"black\", \"red\", \"black\", \"black\"),\n",
    "                     breaks = c(\"ARMA_sres\", \"Model_1\", \"Model_2\", \"Model_3\", \"Model_4\")) + \n",
    "  labs(title=\"Estimerede volatilitet (betingede varians)\", \n",
    "       x=\"\",y=\"\")\n",
    "\n",
    "sdres <- m2@fit$residuals / sqrt(m2@fit[[\"sigma\"]])\n",
    "\n",
    "b <- qplot(data_2$date[-c(1)], sdres, geom=\"line\") + \n",
    "           labs(title=\"Standardiserede residualer model 2\", \n",
    "                subtitle=\"Ingen autokorrelation ifølge Ljung-Box\", \n",
    "                x=\"\",y=\"\")\n",
    "c <- qplot(data_2$date[-c(1)], sdres^2, geom=\"line\") + \n",
    "           labs(title=\"Standardiserede residualer^2 model 2\", \n",
    "                subtitle=\"Ingen autokorrelation ifølge Ljung-Box\", \n",
    "                x=\"\",y=\"\")\n",
    "\n",
    "grid.arrange(a,nrow=1)\n",
    "grid.arrange(b,c,nrow=1)"
   ]
  },
  {
   "cell_type": "markdown",
   "metadata": {},
   "source": [
    "Data er kvartalsvis og en tommelfingerregl er at teste en laglængde 2 gange sæson/mønster, jeg tester derfor op til lag 8 og her kan jeg afvise serielkorrelation i residualet, jeg sammenligner dog med lasses model (m1) og den er bedre til at afvise serielkorrelation i det kvadrede standardiserede residual.\n",
    "\n",
    "Jeg anvender også en McLeod Li test og finder at F-test for begge modeller afviser serielkorrelation i $\\varepsilon^2$"
   ]
  },
  {
   "cell_type": "code",
   "execution_count": 19,
   "metadata": {},
   "outputs": [
    {
     "data": {
      "text/html": [
       "<table>\n",
       "<thead><tr><th></th><th scope=col>statistic</th><th scope=col>parameter</th><th scope=col>p.value</th><th scope=col>method</th><th scope=col>data.name</th></tr></thead>\n",
       "<tbody>\n",
       "\t<tr><th scope=row>m1res</th><td>11.46334      </td><td>8             </td><td>0.1768018     </td><td>Box-Ljung test</td><td>sdres1        </td></tr>\n",
       "\t<tr><th scope=row>m1sres</th><td>11.13957      </td><td>8             </td><td>0.1939155     </td><td>Box-Ljung test</td><td>sdres1^2      </td></tr>\n",
       "\t<tr><th scope=row>m2res</th><td>6.244822      </td><td>8             </td><td>0.6198291     </td><td>Box-Ljung test</td><td>sdres2        </td></tr>\n",
       "\t<tr><th scope=row>m2sres</th><td>14.20971      </td><td>8             </td><td>0.07646053    </td><td>Box-Ljung test</td><td>sdres2^2      </td></tr>\n",
       "</tbody>\n",
       "</table>\n"
      ],
      "text/latex": [
       "\\begin{tabular}{r|lllll}\n",
       "  & statistic & parameter & p.value & method & data.name\\\\\n",
       "\\hline\n",
       "\tm1res & 11.46334       & 8              & 0.1768018      & Box-Ljung test & sdres1        \\\\\n",
       "\tm1sres & 11.13957                   & 8                          & 0.1939155                  & Box-Ljung test             & sdres1\\textasciicircum{}2\\\\\n",
       "\tm2res & 6.244822       & 8              & 0.6198291      & Box-Ljung test & sdres2        \\\\\n",
       "\tm2sres & 14.20971                   & 8                          & 0.07646053                 & Box-Ljung test             & sdres2\\textasciicircum{}2\\\\\n",
       "\\end{tabular}\n"
      ],
      "text/markdown": [
       "\n",
       "| <!--/--> | statistic | parameter | p.value | method | data.name | \n",
       "|---|---|---|---|\n",
       "| m1res | 11.46334       | 8              | 0.1768018      | Box-Ljung test | sdres1         | \n",
       "| m1sres | 11.13957       | 8              | 0.1939155      | Box-Ljung test | sdres1^2       | \n",
       "| m2res | 6.244822       | 8              | 0.6198291      | Box-Ljung test | sdres2         | \n",
       "| m2sres | 14.20971       | 8              | 0.07646053     | Box-Ljung test | sdres2^2       | \n",
       "\n",
       "\n"
      ],
      "text/plain": [
       "       statistic parameter p.value    method         data.name\n",
       "m1res  11.46334  8         0.1768018  Box-Ljung test sdres1   \n",
       "m1sres 11.13957  8         0.1939155  Box-Ljung test sdres1^2 \n",
       "m2res  6.244822  8         0.6198291  Box-Ljung test sdres2   \n",
       "m2sres 14.20971  8         0.07646053 Box-Ljung test sdres2^2 "
      ]
     },
     "metadata": {},
     "output_type": "display_data"
    }
   ],
   "source": [
    "sdres1 <- m1@fit$residuals / sqrt(m1@fit[[\"sigma\"]])\n",
    "sdres2 <- m2@fit$residuals / sqrt(m2@fit[[\"sigma\"]])\n",
    "\n",
    "m1res <- Box.test(sdres1,lag=8,type=\"Ljung-Box\")\n",
    "m1sres <- Box.test(sdres1^2,lag=8,type=\"Ljung-Box\")\n",
    "\n",
    "m2res <- Box.test(sdres2,lag=8,type=\"Ljung-Box\")\n",
    "m2sres <- Box.test(sdres2^2,lag=8,type=\"Ljung-Box\")\n",
    "\n",
    "rbind(m1res, m1sres, m2res, m2sres)"
   ]
  },
  {
   "cell_type": "code",
   "execution_count": 20,
   "metadata": {},
   "outputs": [
    {
     "data": {
      "text/html": [
       "<table>\n",
       "<thead><tr><th scope=col>value</th><th scope=col>numdf</th><th scope=col>dendf</th></tr></thead>\n",
       "<tbody>\n",
       "\t<tr><td>1.25765</td><td>8      </td><td>197    </td></tr>\n",
       "</tbody>\n",
       "</table>\n"
      ],
      "text/latex": [
       "\\begin{tabular}{lll}\n",
       " value & numdf & dendf\\\\\n",
       "\\hline\n",
       "\t 1.25765 & 8       & 197    \\\\\n",
       "\\end{tabular}\n"
      ],
      "text/markdown": [
       "\n",
       "value | numdf | dendf | \n",
       "|---|\n",
       "| 1.25765 | 8       | 197     | \n",
       "\n",
       "\n"
      ],
      "text/plain": [
       "     value   numdf dendf\n",
       "[1,] 1.25765 8     197  "
      ]
     },
     "metadata": {},
     "output_type": "display_data"
    }
   ],
   "source": [
    "sr <- as.ts(sdres2^2)\n",
    "reg <- dynlm(sr ~ L(sr,1) + L(sr,2) + L(sr,3) + L(sr,4) + L(sr,5) + L(sr,6) + L(sr,7) + L(sr,8))\n",
    "t(summary(reg)$fstatistic)\n",
    "#summary(reg)"
   ]
  },
  {
   "cell_type": "markdown",
   "metadata": {},
   "source": [
    "#### Plot af den betingede varians sammenlignet med den ubetingede for den stationære dpi"
   ]
  },
  {
   "cell_type": "code",
   "execution_count": 21,
   "metadata": {},
   "outputs": [
    {
     "data": {
      "image/png": "[encoded data removed]",
      "text/plain": [
       "plot without title"
      ]
     },
     "metadata": {},
     "output_type": "display_data"
    }
   ],
   "source": [
    "m <- arima(data_2$pi, order=c(1,1,1))\n",
    "\n",
    "dpi_sd <- sqrt(m2@fit[[\"var\"]][-1])\n",
    "dpi_fit <- data_2$dpi[-c(1,2)]\n",
    "dpi_sd_un <- sqrt(m$sigma2)\n",
    "\n",
    "df <- data.frame(dpi_fit, x = data_2$date[-c(1,2)], dpi_sd)\n",
    "\n",
    "a <- ggplot(df, aes(y=dpi_fit, x=x)) + \n",
    "  geom_line() + \n",
    "  geom_ribbon(aes(ymin=-dpi_sd, ymax=dpi_sd), alpha=0.3) +  \n",
    "  labs(title=\"Conditional variance\", subtitle=\"ARIMA(1,2,1) modeled with a GARCH(1,1)\", x=\"\",y=\"\")\n",
    "\n",
    " b <- ggplot(df, aes(y=dpi_fit, x=x)) + \n",
    "  geom_line() + \n",
    "  geom_ribbon(aes(ymin=-dpi_sd_un, ymax=dpi_sd_un), alpha=0.3) +  \n",
    "  labs(title=\"Unconditional variance\", subtitle=\"ARIMA(1,2,1)\", x=\"\",y=\"\")\n",
    "\n",
    "grid.arrange(a,b,nrow=1)"
   ]
  },
  {
   "cell_type": "markdown",
   "metadata": {},
   "source": [
    "# Opgave 3: Kointegration og fejlkorrektionsmodeller [45%]\n",
    "*I en indflydelsesrig artikel foreslog Lettau og Ludvigson at forbrug, formue og indkomst må udgøre en langsigtet ligevægt. Forbrugeren ønsker at udjævne forbruget, og med udsigt til forøgede fremtidige formueafkast sættes forbruget i vejret, mens det omvendte gør sig gældende ved udsigten til faldende afkast. Formue udgøres dog ikke alene af finansielle aktiver men også af human kapital, hvor udsigten til forøgede fremtidige afkast på human kapital får forbrugeren til at øge forbruget i dag. Forfatterne approksimerer human kapital som proportional til indkomsten. Hvis således forbruget $c$ i dag er højt relativt til den finansielle formue $a$ og human kapitalen approksimeret ved indkomsten $y$, så må der på lang sigt være en ligevægtsrelation mellem disse variable, ifølge Let- tau og Ludvigson. Din opgave er nu empirisk at verificere denne påstand ved hjælp af kointegrationsanalyse og fejlkorrektionsmodeller.*"
   ]
  },
  {
   "cell_type": "markdown",
   "metadata": {},
   "source": [
    "**Spørgsmål 3.1** *Giv en formel formel definition på kointegration*\n",
    "\n",
    "Hvis to variabler kointegrerer eksisterer der en fejl korrektions model - Vector Error Correction Model (VECM). Denne sammenhæng sørger for at de to variabler deler en fælles stokastisk trend. Dette sker eftersom de ved store forskelle korrigeres mod hinanden, hvilket kan ses af en simpel VECM model.\n",
    "\n",
    "$$ \\Delta y_t = \\alpha_S(x_{t-1} - \\beta y_{t-1}) + \\varepsilon_y$$\n",
    "$$ \\Delta x_t = -\\alpha_L(x_{t-1} - \\beta y_{t-1}) + \\varepsilon_x$$\n",
    "\n",
    "Denne kan omskrives til en VAR(1) model, men den har kun tre parametre"
   ]
  },
  {
   "cell_type": "markdown",
   "metadata": {},
   "source": [
    "**Spørgsmål 3.2** *Giv dernæst en intuitiv forklaring på hvorfor 2 eller fere variable kan vise sig at være kointegreret. Max. 1 side*\n",
    "\n",
    "Hvis de har en fælles stokastisk trend så cointegrerer de"
   ]
  },
  {
   "cell_type": "markdown",
   "metadata": {},
   "source": [
    "**Spørgsmål 3.3** *For hver af variablene $c$ , $a$ og $y$ bedes du ved et unit root test afgøre om det opgivne tidsrækkedata på variablene er **I(1)** eller **I(0)** : Data ses i dataExam2016.xlsx. Hvad er nulhypotesen i dit test? Skriv din endelige modelspecifikation op og gør rede for dine overvejelser omkring din modelspecifikation, herunder eventuelle øvrige statistiske test. Dit svar skal slutte af med en tabel, hvor læseren klart og tydeligt kan afæse konklusionen og de valg du har truffet.*"
   ]
  },
  {
   "cell_type": "code",
   "execution_count": 22,
   "metadata": {},
   "outputs": [
    {
     "data": {
      "text/html": [
       "<table>\n",
       "<thead><tr><th scope=col>date</th><th scope=col>c</th><th scope=col>a</th><th scope=col>y</th></tr></thead>\n",
       "<tbody>\n",
       "\t<tr><td>1951-10-01</td><td>8.945843  </td><td>10.56261  </td><td>8.658345  </td></tr>\n",
       "\t<tr><td>1952-01-01</td><td>8.944092  </td><td>10.57124  </td><td>8.665926  </td></tr>\n",
       "\t<tr><td>1952-04-01</td><td>8.957499  </td><td>10.58301  </td><td>8.667350  </td></tr>\n",
       "</tbody>\n",
       "</table>\n"
      ],
      "text/latex": [
       "\\begin{tabular}{r|llll}\n",
       " date & c & a & y\\\\\n",
       "\\hline\n",
       "\t 1951-10-01 & 8.945843   & 10.56261   & 8.658345  \\\\\n",
       "\t 1952-01-01 & 8.944092   & 10.57124   & 8.665926  \\\\\n",
       "\t 1952-04-01 & 8.957499   & 10.58301   & 8.667350  \\\\\n",
       "\\end{tabular}\n"
      ],
      "text/markdown": [
       "\n",
       "date | c | a | y | \n",
       "|---|---|---|\n",
       "| 1951-10-01 | 8.945843   | 10.56261   | 8.658345   | \n",
       "| 1952-01-01 | 8.944092   | 10.57124   | 8.665926   | \n",
       "| 1952-04-01 | 8.957499   | 10.58301   | 8.667350   | \n",
       "\n",
       "\n"
      ],
      "text/plain": [
       "  date       c        a        y       \n",
       "1 1951-10-01 8.945843 10.56261 8.658345\n",
       "2 1952-01-01 8.944092 10.57124 8.665926\n",
       "3 1952-04-01 8.957499 10.58301 8.667350"
      ]
     },
     "metadata": {},
     "output_type": "display_data"
    }
   ],
   "source": [
    "head(data_3,3)"
   ]
  },
  {
   "cell_type": "code",
   "execution_count": 111,
   "metadata": {},
   "outputs": [
    {
     "data": {
      "image/png": "[encoded data removed]",
      "text/plain": [
       "plot without title"
      ]
     },
     "metadata": {},
     "output_type": "display_data"
    },
    {
     "data": {
      "image/png": "[encoded data removed]",
      "text/plain": [
       "plot without title"
      ]
     },
     "metadata": {},
     "output_type": "display_data"
    }
   ],
   "source": [
    "data <- data_3\n",
    "\n",
    "p1 <- ggplot(gather(data_3, variable, value, -date), aes(date, value, linetype=variable)) + \n",
    "  geom_line() + labs(title=\"Plot af variabler\")\n",
    "\n",
    "data$dc <- c(NA, diff(data_3$c))\n",
    "data$da <- c(NA, diff(data_3$a))\n",
    "data$dy <- c(NA, diff(data_3$y))\n",
    "data <- data[-1,] \n",
    "data[,c(2,3,4)] <- NULL\n",
    "\n",
    "p2 <- ggplot(gather(data, variable, value, -date), aes(date, value)) + \n",
    "  geom_line() + \n",
    "  facet_wrap(~variable, nrow=1) + labs(title=\"Variabler i første differens\", y=\"\")\n",
    "\n",
    "grid.arrange(p1,p2,nrow=1)\n",
    "\n",
    "p3 <- ggplot(data_3, aes(c,y)) +\n",
    "  geom_point(size=0.2, alpha=0.6) + \n",
    "  geom_smooth(method=\"lm\", size=0.4, color=\"grey\")\n",
    "\n",
    "p4 <- ggplot(data_3, aes(a,c)) +\n",
    "  geom_point(size=0.2, alpha=0.6) + \n",
    "  geom_smooth(method=\"lm\", size=0.4, color=\"grey\")\n",
    "\n",
    "p5 <- ggplot(data_3, aes(y,a)) +\n",
    "  geom_point(size=0.2, alpha=0.6) + \n",
    "  geom_smooth(method=\"lm\", size=0.4, color=\"grey\")\n",
    "\n",
    "data <- data_3\n",
    "data$res1 <- lm(y ~ c, data=data_3)$residuals\n",
    "data$res2 <- lm(c ~ a, data=data_3)$residuals\n",
    "data$res3 <- lm(a ~ y, data=data_3)$residuals\n",
    "\n",
    "p6 <- ggplot(data, aes(date,res1)) +\n",
    "  geom_line(size=0.2, alpha=0.6) + \n",
    "  labs(title=\"lm(y ~ c)\", x=\"\", y=\"\")\n",
    "\n",
    "p7 <- ggplot(data, aes(date,res2)) +\n",
    "  geom_line(size=0.2, alpha=0.6) + \n",
    "  labs(title=\"lm(c ~ a)\", x=\"\", y=\"\")\n",
    "\n",
    "p8 <- ggplot(data, aes(date,res3)) +\n",
    "  geom_line(size=0.2, alpha=0.6) +\n",
    "  labs(title=\"lm(a ~ y)\", x=\"\", y=\"\")\n",
    "\n",
    "grid.arrange(p6,p7,p8, p3,p4,p5, nrow=2)"
   ]
  },
  {
   "cell_type": "code",
   "execution_count": 24,
   "metadata": {},
   "outputs": [
    {
     "data": {
      "text/html": [
       "<table>\n",
       "<thead><tr><th></th><th scope=col>statistic</th><th scope=col>parameter</th><th scope=col>alternative</th><th scope=col>p.value</th><th scope=col>method</th><th scope=col>data.name</th></tr></thead>\n",
       "<tbody>\n",
       "\t<tr><th scope=row>c</th><td>-1.172715                   </td><td>5                           </td><td>stationary                  </td><td>0.9086717                   </td><td>Augmented Dickey-Fuller Test</td><td>data_3$c                    </td></tr>\n",
       "\t<tr><th scope=row>a</th><td>-3.115338                   </td><td>5                           </td><td>stationary                  </td><td>0.1086587                   </td><td>Augmented Dickey-Fuller Test</td><td>data_3$a                    </td></tr>\n",
       "\t<tr><th scope=row>y</th><td>-0.8277907                  </td><td>5                           </td><td>stationary                  </td><td>0.9576973                   </td><td>Augmented Dickey-Fuller Test</td><td>data_3$y                    </td></tr>\n",
       "</tbody>\n",
       "</table>\n"
      ],
      "text/latex": [
       "\\begin{tabular}{r|llllll}\n",
       "  & statistic & parameter & alternative & p.value & method & data.name\\\\\n",
       "\\hline\n",
       "\tc & -1.172715                    & 5                            & stationary                   & 0.9086717                    & Augmented Dickey-Fuller Test & data\\_3\\$c                \\\\\n",
       "\ta & -3.115338                    & 5                            & stationary                   & 0.1086587                    & Augmented Dickey-Fuller Test & data\\_3\\$a                \\\\\n",
       "\ty & -0.8277907                   & 5                            & stationary                   & 0.9576973                    & Augmented Dickey-Fuller Test & data\\_3\\$y                \\\\\n",
       "\\end{tabular}\n"
      ],
      "text/markdown": [
       "\n",
       "| <!--/--> | statistic | parameter | alternative | p.value | method | data.name | \n",
       "|---|---|---|\n",
       "| c | -1.172715                    | 5                            | stationary                   | 0.9086717                    | Augmented Dickey-Fuller Test | data_3$c                     | \n",
       "| a | -3.115338                    | 5                            | stationary                   | 0.1086587                    | Augmented Dickey-Fuller Test | data_3$a                     | \n",
       "| y | -0.8277907                   | 5                            | stationary                   | 0.9576973                    | Augmented Dickey-Fuller Test | data_3$y                     | \n",
       "\n",
       "\n"
      ],
      "text/plain": [
       "  statistic  parameter alternative p.value   method                      \n",
       "c -1.172715  5         stationary  0.9086717 Augmented Dickey-Fuller Test\n",
       "a -3.115338  5         stationary  0.1086587 Augmented Dickey-Fuller Test\n",
       "y -0.8277907 5         stationary  0.9576973 Augmented Dickey-Fuller Test\n",
       "  data.name\n",
       "c data_3$c \n",
       "a data_3$a \n",
       "y data_3$y "
      ]
     },
     "metadata": {},
     "output_type": "display_data"
    }
   ],
   "source": [
    "c <- adf.test(data_3$c)\n",
    "a <- adf.test(data_3$a)\n",
    "y <- adf.test(data_3$y)\n",
    "rbind(c,a,y)"
   ]
  },
  {
   "cell_type": "markdown",
   "metadata": {},
   "source": [
    "Som det kan ses herunder bør der anvendes forskellige lag længder for de tre variabler (det er kvartalsdata så man bør starte med 4 eller 8 lags)\n",
    "\n",
    "> $c$ er signigikant på et 5% niveau ved lag 6, og 1% ved lag 3, derfor benyttes 3 lags  \n",
    "> $a$ er ikke signigikant og derfor benyttes 1 lag  \n",
    "> $y$ er signigikant på et 5% niveau ved lag 5, men ikke ved andre, derfor benyttes 1 lag"
   ]
  },
  {
   "cell_type": "code",
   "execution_count": 25,
   "metadata": {},
   "outputs": [],
   "source": [
    "#dc <- as.ts(data$dc)\n",
    "#c <- as.ts(data_3$c[-1])\n",
    "#summary(dynlm(dc ~ L(c) + seq_along(c) + L(dc) + L(dc,2) + L(dc,3)))\n",
    "\n",
    "#da <- as.ts(data$da)\n",
    "#a <- as.ts(data_3$a[-1])\n",
    "#summary(dynlm(da ~ L(a) + seq_along(a) + L(da)))\n",
    "\n",
    "#dy <- as.ts(data$dy)\n",
    "#y <- as.ts(data_3$y[-1])\n",
    "#summary(dynlm(dy ~ L(y) + seq_along(y) + L(dy)))"
   ]
  },
  {
   "cell_type": "markdown",
   "metadata": {},
   "source": [
    "Jeg gennemgår et eksempel for $c$ men ellers stoler jeg på adf.test funktionen\n",
    "\n",
    "For den fuldt specificerede model skal $\\gamma$ være mindre end - 3.48, men den er -1.65 så jeg kan ikke afvise at serien indeholder en unit root\n",
    "Jeg tester for $\\phi_2$ og $\\phi_3$ og afviser dem klart, så jeg går videre til en model uden trend\n",
    "\n",
    "Her får jeg en t-værdi på -1.015, men jeg skal bruge -2.90 eller mindre for at afvise unit root, så jeg går videre\n",
    "jeg tester denne for $\\phi_1$ og afviser igen klart, så jeg går til sidste model inden jeg accepterer at serien indeholder en unit root\n",
    "\n",
    "jeg tester nu den sidste model og får en t-værdi på 4.41 men skal bruge mindre end -1.99\n",
    "\n",
    "Jeg konkluderer nu at $c$ serien indeholder en unit root"
   ]
  },
  {
   "cell_type": "code",
   "execution_count": 26,
   "metadata": {},
   "outputs": [],
   "source": [
    "#dc <- as.ts(data$dc)\n",
    "#c <- as.ts(data_3$c[-1])\n",
    "#m <- dynlm(dc ~ L(c) + seq_along(c) + L(dc) + L(dc,2) + L(dc,3))\n",
    "#summary(m)\n",
    "\n",
    "#linearHypothesis(m, c(\"L(c) = 1\", \"seq_along(c) = 0\"))\n",
    "#linearHypothesis(m, c(\"L(c) = 1\", \"seq_along(c) = 0\",\"(Intercept) = 0\"))\n",
    "\n",
    "#m2 <- dynlm(dc ~ L(c) + L(dc) + L(dc,2) + L(dc,3))\n",
    "#summary(m2)\n",
    "\n",
    "#linearHypothesis(m2, c(\"L(c) = 1\", \"(Intercept) = 0\"))\n",
    "\n",
    "#m3 <- dynlm(dc ~ 0 + L(c) + L(dc) + L(dc,2) + L(dc,3))\n",
    "#summary(m3)"
   ]
  },
  {
   "cell_type": "markdown",
   "metadata": {},
   "source": [
    "**Spørgsmål 3.4** *Ved hjælp af Engle-Granger metoden bedes du nu teste for kointegration mellem $c$ , $a$ og $y$ Lad dit udgangspunkt være en langsigtet sammenhæng i form af:*\n",
    "\n",
    "$$ c_t = \\beta_0 + \\beta_aa_t + \\beta_yy_t + e_t$$\n",
    "\n",
    "*Hvor du igen slutter dit svar af med en tabel, hvor læseren klart og tydeligt kan afæse konklusionen og de valg du har truffet. Husk at rapportere kritiske værdier.*\n",
    "\n",
    "Engel Granger metodologien består af 4 steps, men de første 2 er nok til at afgøre om serierne cointegrerer:\n",
    "1. Test efter unitroot med Augmented Dickey Fuller test\n",
    "  - Dette er gjort i foregående opgave og det viste at alle tre variabler er integreret af første orden I(1)\n",
    "2. Estimer den langsigtede ligevægt med OLS, se på signifikansen af interceptet og om residualet er stationært (her kan de ordinære ADF fordelinger ikke anvendes, se supplementary manual)\n",
    "  - interceptet er meget signifikant, og test for residualet med ADF med den alternative fordeling skal være mindre end -3.785 (3 variabler og ~200 observationer) for at kunne afvise en unit root og derfor konkludere at residualet er stationært, estimatet er -4.295 og residualet er altså stationært og de tre variabler er cointegreret CI(1,1)"
   ]
  },
  {
   "cell_type": "code",
   "execution_count": 27,
   "metadata": {},
   "outputs": [
    {
     "data": {
      "text/plain": [
       "\n",
       "Call:\n",
       "lm(formula = c ~ y + a, data = data_3)\n",
       "\n",
       "Coefficients:\n",
       "(Intercept)            y            a  \n",
       "     0.7816       0.6636       0.2282  \n"
      ]
     },
     "metadata": {},
     "output_type": "display_data"
    }
   ],
   "source": [
    "reg <- lm(c ~ y + a, data=data_3)\n",
    "reg"
   ]
  },
  {
   "cell_type": "code",
   "execution_count": 28,
   "metadata": {},
   "outputs": [
    {
     "data": {
      "text/plain": [
       "\n",
       "Time series regression with \"ts\" data:\n",
       "Start = 2, End = 205\n",
       "\n",
       "Call:\n",
       "dynlm(formula = dres ~ L(res, 1))\n",
       "\n",
       "Residuals:\n",
       "       Min         1Q     Median         3Q        Max \n",
       "-0.0253671 -0.0038980  0.0001139  0.0043764  0.0174407 \n",
       "\n",
       "Coefficients:\n",
       "              Estimate Std. Error t value Pr(>|t|)    \n",
       "(Intercept)  3.398e-05  4.594e-04   0.074    0.941    \n",
       "L(res, 1)   -1.689e-01  3.933e-02  -4.295 2.72e-05 ***\n",
       "---\n",
       "Signif. codes:  0 '***' 0.001 '**' 0.01 '*' 0.05 '.' 0.1 ' ' 1\n",
       "\n",
       "Residual standard error: 0.006561 on 202 degrees of freedom\n",
       "Multiple R-squared:  0.08366,\tAdjusted R-squared:  0.07913 \n",
       "F-statistic: 18.44 on 1 and 202 DF,  p-value: 2.717e-05\n"
      ]
     },
     "metadata": {},
     "output_type": "display_data"
    }
   ],
   "source": [
    "dres <- as.ts(diff(reg$residuals))\n",
    "res <- as.ts(reg$residuals[-1])\n",
    "summary(dynlm(dres ~ L(res,1)))"
   ]
  },
  {
   "cell_type": "markdown",
   "metadata": {},
   "source": [
    "**Spørgsmål 3.5** *Som en del af Engle-Granger metoden bedes du også estimere en fejlkorrektionsmodel for de tre variable. Kommentér på resultaterne.*\n",
    "\n",
    "- Der er to måder at simulerer fejlkorrektionsmodellen på, manuelt og med VECM fra tsDyn pakken, de giver lidt forskellige resultater, men manuelt giver samme som Lasse."
   ]
  },
  {
   "cell_type": "code",
   "execution_count": 112,
   "metadata": {},
   "outputs": [
    {
     "data": {
      "text/html": [
       "<table>\n",
       "<thead><tr><th></th><th scope=col>(Intercept)</th><th scope=col>L(res)</th><th scope=col>L(c, 1)</th><th scope=col>L(c, 2)</th><th scope=col>L(c, 3)</th><th scope=col>L(y, 1)</th><th scope=col>L(y, 2)</th><th scope=col>L(y, 3)</th><th scope=col>L(a, 1)</th><th scope=col>L(a, 2)</th><th scope=col>L(a, 3)</th></tr></thead>\n",
       "<tbody>\n",
       "\t<tr><th scope=row>Equation c</th><td>0.00253 </td><td>-0.02234</td><td> 0.16969</td><td>0.03517 </td><td>0.13975 </td><td> 0.06688</td><td>-0.00511</td><td>-0.00394</td><td>0.04317 </td><td> 0.00523</td><td>0.01925 </td></tr>\n",
       "\t<tr><th scope=row>Equation a</th><td>0.00231 </td><td> 0.43072</td><td>-0.07605</td><td>0.37044 </td><td>0.18523 </td><td>-0.09265</td><td>-0.14514</td><td> 0.16168</td><td>0.09623 </td><td> 0.05231</td><td>0.08096 </td></tr>\n",
       "\t<tr><th scope=row>Equation y</th><td>0.00169 </td><td> 0.04624</td><td> 0.40369</td><td>0.16808 </td><td>0.27577 </td><td>-0.09736</td><td>-0.01711</td><td>-0.04325</td><td>0.09220 </td><td>-0.03544</td><td>0.03787 </td></tr>\n",
       "</tbody>\n",
       "</table>\n"
      ],
      "text/latex": [
       "\\begin{tabular}{r|lllllllllll}\n",
       "  & (Intercept) & L(res) & L(c, 1) & L(c, 2) & L(c, 3) & L(y, 1) & L(y, 2) & L(y, 3) & L(a, 1) & L(a, 2) & L(a, 3)\\\\\n",
       "\\hline\n",
       "\tEquation c & 0.00253  & -0.02234 &  0.16969 & 0.03517  & 0.13975  &  0.06688 & -0.00511 & -0.00394 & 0.04317  &  0.00523 & 0.01925 \\\\\n",
       "\tEquation a & 0.00231  &  0.43072 & -0.07605 & 0.37044  & 0.18523  & -0.09265 & -0.14514 &  0.16168 & 0.09623  &  0.05231 & 0.08096 \\\\\n",
       "\tEquation y & 0.00169  &  0.04624 &  0.40369 & 0.16808  & 0.27577  & -0.09736 & -0.01711 & -0.04325 & 0.09220  & -0.03544 & 0.03787 \\\\\n",
       "\\end{tabular}\n"
      ],
      "text/markdown": [
       "\n",
       "| <!--/--> | (Intercept) | L(res) | L(c, 1) | L(c, 2) | L(c, 3) | L(y, 1) | L(y, 2) | L(y, 3) | L(a, 1) | L(a, 2) | L(a, 3) | \n",
       "|---|---|---|\n",
       "| Equation c | 0.00253  | -0.02234 |  0.16969 | 0.03517  | 0.13975  |  0.06688 | -0.00511 | -0.00394 | 0.04317  |  0.00523 | 0.01925  | \n",
       "| Equation a | 0.00231  |  0.43072 | -0.07605 | 0.37044  | 0.18523  | -0.09265 | -0.14514 |  0.16168 | 0.09623  |  0.05231 | 0.08096  | \n",
       "| Equation y | 0.00169  |  0.04624 |  0.40369 | 0.16808  | 0.27577  | -0.09736 | -0.01711 | -0.04325 | 0.09220  | -0.03544 | 0.03787  | \n",
       "\n",
       "\n"
      ],
      "text/plain": [
       "           (Intercept) L(res)   L(c, 1)  L(c, 2) L(c, 3) L(y, 1)  L(y, 2) \n",
       "Equation c 0.00253     -0.02234  0.16969 0.03517 0.13975  0.06688 -0.00511\n",
       "Equation a 0.00231      0.43072 -0.07605 0.37044 0.18523 -0.09265 -0.14514\n",
       "Equation y 0.00169      0.04624  0.40369 0.16808 0.27577 -0.09736 -0.01711\n",
       "           L(y, 3)  L(a, 1) L(a, 2)  L(a, 3)\n",
       "Equation c -0.00394 0.04317  0.00523 0.01925\n",
       "Equation a  0.16168 0.09623  0.05231 0.08096\n",
       "Equation y -0.04325 0.09220 -0.03544 0.03787"
      ]
     },
     "metadata": {},
     "output_type": "display_data"
    }
   ],
   "source": [
    "c <- as.ts(diff(data_3$c))\n",
    "a <- as.ts(diff(data_3$a))\n",
    "y <- as.ts(diff(data_3$y))\n",
    "res <- as.ts(reg$residuals[-1])\n",
    "\n",
    "tc <- t(summary(dynlm(c ~ L(res) + L(c,1) + L(c,2) + L(c,3) + L(y,1) + L(y,2) + L(y,3) + L(a,1) + L(a,2) + L(a,3)))$coef[,1])\n",
    "ta <- t(summary(dynlm(a ~ L(res) + L(c,1) + L(c,2) + L(c,3) + L(y,1) + L(y,2) + L(y,3) + L(a,1) + L(a,2) + L(a,3)))$coef[,1])\n",
    "ty <- t(summary(dynlm(y ~ L(res) + L(c,1) + L(c,2) + L(c,3) + L(y,1) + L(y,2) + L(y,3) + L(a,1) + L(a,2) + L(a,3)))$coef[,1])\n",
    "\n",
    "a <- rbind(tc,ta,ty)\n",
    "rownames(a) <- c(\"Equation c\",\"Equation a\",\"Equation y\")\n",
    "round(a,5)\n",
    "\n",
    "#VECM(data_3[,-1], r=1, lag=3, include=\"const\", estim=\"2OLS\", LRinclude=\"const\")"
   ]
  },
  {
   "cell_type": "code",
   "execution_count": null,
   "metadata": {},
   "outputs": [],
   "source": [
    "\n"
   ]
  },
  {
   "cell_type": "markdown",
   "metadata": {},
   "source": [
    "**Spørgsmål 3.6** *Johansen metoden er et alternativ til Engle-Granger. Hvad er fordelene ved Johansen metoden? Max. ½ side.*\n",
    "\n",
    "Et problem med Engel-Granger er at du har flere valg mellem den cointegrationsrelation hvorfra du anvender residualerne, i dette tilfælde er der tre forskellige afhængige variabler at vælge mellem, og det er muligt at de giver forskellige resultater.."
   ]
  },
  {
   "cell_type": "markdown",
   "metadata": {},
   "source": [
    "**Spørgsmål 3.7** *Du får nu opgivet nedenstående resultater på baggrund af Johansen metoden. Du bedes argumentere for antallet af kointegrationsrelationer ifølge Johansen metoden. I dit svar bedes du skrive de anvendte test op og kommentere på nulhypotesen. Kommer du frem til en anden konklusion sammenlignet med Engle-Granger?*\n",
    "\n",
    "<img src=\"data/exam/table.png\" style=\"width:350px;\"/>\n",
    "\n",
    "Jeg kan i hverken trace eller max afvise at rangen er 0, altså at der ingen cointegrationsrelationer er mellem de tre variabler."
   ]
  },
  {
   "cell_type": "code",
   "execution_count": 75,
   "metadata": {},
   "outputs": [],
   "source": [
    "#summary(ca.jo(data_3[-1], type = \"eigen\"))\n",
    "#summary(ca.jo(data_3[-1], type = \"trace\"))"
   ]
  },
  {
   "cell_type": "markdown",
   "metadata": {},
   "source": [
    "**Spørgsmål 3.8** *Givet din konklusion på antallet af kointegrationsrelationer fra ovenstående spørgsmål, hvad er da rangen af den såkaldte $\\pi$ matrice? Hvordan hænger rangen af $\\pi$ sammen med egenværdierne?*"
   ]
  },
  {
   "cell_type": "markdown",
   "metadata": {},
   "source": [
    "**Spørgsmål 3.9** *Konkludér kortfattet på, om du finder empirisk belæg for Lettau og Ludvigsons postulerede sammenhæng mellem $c$ , $a$ og $y$ Maximalt ½ side*"
   ]
  },
  {
   "cell_type": "markdown",
   "metadata": {},
   "source": [
    "Nej, Johansen testen viser ingen cointegration, og parametrene virker meget ustabile og ikke meget signifikante i VECM modellen"
   ]
  },
  {
   "cell_type": "markdown",
   "metadata": {},
   "source": [
    "# 4 Vektorautoregressive modeller [25%]\n",
    "Betragt en trivariate VAR(2) model med nedenstående estimerede parametre fra den reducerede form. Med trivariate menes 3 variable.\n",
    "\n",
    "\n",
    "$$\n",
    "\\begin{bmatrix} y_{1t} \\\\ y_{2t} \\\\ y_{3t}  \\end{bmatrix}\n",
    "=\n",
    "\\begin{bmatrix} -0.50 & 0.20 & 1.80 \\\\\n",
    "                0.10 & -0.25 & 0.60 \\\\\n",
    "                -0.05 & 0.50 & -0.60 \n",
    "\\end{bmatrix}\n",
    "\\begin{bmatrix} y_{1,t-1} \\\\ y_{2,t-1} \\\\ y_{3,t-1}  \\end{bmatrix}\n",
    "+\n",
    "\\begin{bmatrix} -0.20 & 0.30 & 2.00 \\\\\n",
    "                0.10 & 0.02 & -0.02 \\\\\n",
    "                0.07 & 0.70 & -0.05 \n",
    "\\end{bmatrix}\n",
    "\\begin{bmatrix} y_{1,t-2} \\\\ y_{2,t-2} \\\\ y_{3,t-2}  \\end{bmatrix}\n",
    "+\n",
    "\\begin{bmatrix} \\varepsilon_{1t} \\\\ \\varepsilon_{2t} \\\\ \\varepsilon_{3t}  \\end{bmatrix}\n",
    "$$\n",
    "\n",
    "hvor vektoren $\\varepsilon_t \\sim N(0,\\Sigma_\\varepsilon)$ og med\n",
    "$$\n",
    "\\Sigma_\\varepsilon =\n",
    "\\begin{bmatrix} 0.0080 & 0.0002 & 0.0003 \\\\\n",
    "                0.0002 & 0.0004 & 0.0001 \\\\\n",
    "                0.0003 & 0.0001 & 0.0017 \n",
    "\\end{bmatrix}\n",
    "$$"
   ]
  },
  {
   "cell_type": "markdown",
   "metadata": {},
   "source": [
    "**Spørgsmål 4.1** Er modellen stationær? Redegør i detaljer for dit svar og anvend tallene ovenfor i dine beregninger. Tip: Hvis du ikke vil bruge R i dine beregninger kan du overveje en online matrix calculator; eksempelvis http://www.bluebit.gr/matrix-calculator/calculate.aspx eller anden."
   ]
  },
  {
   "cell_type": "code",
   "execution_count": 33,
   "metadata": {},
   "outputs": [
    {
     "name": "stdout",
     "output_type": "stream",
     "text": [
      "[1] \"Companion Matrix\"\n"
     ]
    },
    {
     "data": {
      "text/html": [
       "<table>\n",
       "<tbody>\n",
       "\t<tr><td>-0.50</td><td> 0.20</td><td> 1.8 </td><td>-0.20</td><td>0.30 </td><td> 2.00</td></tr>\n",
       "\t<tr><td> 0.10</td><td>-0.25</td><td> 0.6 </td><td> 0.10</td><td>0.02 </td><td>-0.02</td></tr>\n",
       "\t<tr><td>-0.05</td><td> 0.50</td><td>-0.6 </td><td> 0.07</td><td>0.70 </td><td>-0.05</td></tr>\n",
       "\t<tr><td> 1.00</td><td> 0.00</td><td> 0.0 </td><td> 0.00</td><td>0.00 </td><td> 0.00</td></tr>\n",
       "\t<tr><td> 0.00</td><td> 1.00</td><td> 0.0 </td><td> 0.00</td><td>0.00 </td><td> 0.00</td></tr>\n",
       "\t<tr><td> 0.00</td><td> 0.00</td><td> 1.0 </td><td> 0.00</td><td>0.00 </td><td> 0.00</td></tr>\n",
       "</tbody>\n",
       "</table>\n"
      ],
      "text/latex": [
       "\\begin{tabular}{llllll}\n",
       "\t -0.50 &  0.20 &  1.8  & -0.20 & 0.30  &  2.00\\\\\n",
       "\t  0.10 & -0.25 &  0.6  &  0.10 & 0.02  & -0.02\\\\\n",
       "\t -0.05 &  0.50 & -0.6  &  0.07 & 0.70  & -0.05\\\\\n",
       "\t  1.00 &  0.00 &  0.0  &  0.00 & 0.00  &  0.00\\\\\n",
       "\t  0.00 &  1.00 &  0.0  &  0.00 & 0.00  &  0.00\\\\\n",
       "\t  0.00 &  0.00 &  1.0  &  0.00 & 0.00  &  0.00\\\\\n",
       "\\end{tabular}\n"
      ],
      "text/markdown": [
       "\n",
       "| -0.50 |  0.20 |  1.8  | -0.20 | 0.30  |  2.00 | \n",
       "|  0.10 | -0.25 |  0.6  |  0.10 | 0.02  | -0.02 | \n",
       "| -0.05 |  0.50 | -0.6  |  0.07 | 0.70  | -0.05 | \n",
       "|  1.00 |  0.00 |  0.0  |  0.00 | 0.00  |  0.00 | \n",
       "|  0.00 |  1.00 |  0.0  |  0.00 | 0.00  |  0.00 | \n",
       "|  0.00 |  0.00 |  1.0  |  0.00 | 0.00  |  0.00 | \n",
       "\n",
       "\n"
      ],
      "text/plain": [
       "     [,1]  [,2]  [,3] [,4]  [,5] [,6] \n",
       "[1,] -0.50  0.20  1.8 -0.20 0.30  2.00\n",
       "[2,]  0.10 -0.25  0.6  0.10 0.02 -0.02\n",
       "[3,] -0.05  0.50 -0.6  0.07 0.70 -0.05\n",
       "[4,]  1.00  0.00  0.0  0.00 0.00  0.00\n",
       "[5,]  0.00  1.00  0.0  0.00 0.00  0.00\n",
       "[6,]  0.00  0.00  1.0  0.00 0.00  0.00"
      ]
     },
     "metadata": {},
     "output_type": "display_data"
    }
   ],
   "source": [
    "L1 <- matrix(c(-0.50,0.20,1.80,0.10,-0.25,0.60,-0.05,0.50,-0.60), byrow=T, nrow=3)\n",
    "L2 <- matrix(c(-0.20,0.30,2.00,0.10,0.02,-0.02,0.07,0.7,-0.05), byrow=T, nrow=3)\n",
    "zero <- matrix(c(0,0,0,0,0,0,0,0,0), byrow=T, nrow=3)\n",
    "idty <- diag(3)\n",
    "\n",
    "ma <- rbind(cbind(L1,L2),cbind(idty,zero))\n",
    "print(\"Companion Matrix\")\n",
    "ma"
   ]
  },
  {
   "cell_type": "code",
   "execution_count": 34,
   "metadata": {},
   "outputs": [
    {
     "data": {
      "text/html": [
       "<table>\n",
       "<thead><tr><th scope=col>Roots</th><th scope=col>Modolus</th><th scope=col>within unit circle?</th></tr></thead>\n",
       "<tbody>\n",
       "\t<tr><td> 0.8697956+0.0000000i</td><td>0.8697956+0i         </td><td>Yes                  </td></tr>\n",
       "\t<tr><td>-0.6595416+0.4298351i</td><td>0.7872441+0i         </td><td>Yes                  </td></tr>\n",
       "\t<tr><td>-0.6595416-0.4298351i</td><td>0.7872441+0i         </td><td>Yes                  </td></tr>\n",
       "\t<tr><td>-0.1976983+0.6775070i</td><td>0.7057622+0i         </td><td>Yes                  </td></tr>\n",
       "\t<tr><td>-0.1976983-0.6775070i</td><td>0.7057622+0i         </td><td>Yes                  </td></tr>\n",
       "\t<tr><td>-0.5053159+0.0000000i</td><td>0.5053159+0i         </td><td>Yes                  </td></tr>\n",
       "</tbody>\n",
       "</table>\n"
      ],
      "text/latex": [
       "\\begin{tabular}{r|lll}\n",
       " Roots & Modolus & within unit circle?\\\\\n",
       "\\hline\n",
       "\t  0.8697956+0.0000000i & 0.8697956+0i          & Yes                  \\\\\n",
       "\t -0.6595416+0.4298351i & 0.7872441+0i          & Yes                  \\\\\n",
       "\t -0.6595416-0.4298351i & 0.7872441+0i          & Yes                  \\\\\n",
       "\t -0.1976983+0.6775070i & 0.7057622+0i          & Yes                  \\\\\n",
       "\t -0.1976983-0.6775070i & 0.7057622+0i          & Yes                  \\\\\n",
       "\t -0.5053159+0.0000000i & 0.5053159+0i          & Yes                  \\\\\n",
       "\\end{tabular}\n"
      ],
      "text/markdown": [
       "\n",
       "Roots | Modolus | within unit circle? | \n",
       "|---|---|---|---|---|---|\n",
       "|  0.8697956+0.0000000i | 0.8697956+0i          | Yes                   | \n",
       "| -0.6595416+0.4298351i | 0.7872441+0i          | Yes                   | \n",
       "| -0.6595416-0.4298351i | 0.7872441+0i          | Yes                   | \n",
       "| -0.1976983+0.6775070i | 0.7057622+0i          | Yes                   | \n",
       "| -0.1976983-0.6775070i | 0.7057622+0i          | Yes                   | \n",
       "| -0.5053159+0.0000000i | 0.5053159+0i          | Yes                   | \n",
       "\n",
       "\n"
      ],
      "text/plain": [
       "  Roots                 Modolus      within unit circle?\n",
       "1  0.8697956+0.0000000i 0.8697956+0i Yes                \n",
       "2 -0.6595416+0.4298351i 0.7872441+0i Yes                \n",
       "3 -0.6595416-0.4298351i 0.7872441+0i Yes                \n",
       "4 -0.1976983+0.6775070i 0.7057622+0i Yes                \n",
       "5 -0.1976983-0.6775070i 0.7057622+0i Yes                \n",
       "6 -0.5053159+0.0000000i 0.5053159+0i Yes                "
      ]
     },
     "metadata": {},
     "output_type": "display_data"
    }
   ],
   "source": [
    "a <- as.data.frame(cbind(eigen(ma)$values, Mod(eigen(ma)$values)))\n",
    "colnames(a) <- c(\"Roots\", \"Modolus\")\n",
    "a$\"within unit circle?\" <- ifelse(as.numeric(a$Modolus)>1, \"No\", \"Yes\") \n",
    "a"
   ]
  },
  {
   "cell_type": "markdown",
   "metadata": {},
   "source": [
    "**Spørgsmål 4.2** Definér begrebet ’impulse responses’ og hvad man kan bruge ’impulse response’ analyse til. Forklar hvorfor det ikke giver mening at anvende den reducerede form VAR i strukturel impulse response analyse."
   ]
  },
  {
   "cell_type": "markdown",
   "metadata": {},
   "source": [
    "**Spørgsmål 4.3** Hvor mange identi…cerende restriktioner må du pålægge den reducerede form VAR?"
   ]
  },
  {
   "cell_type": "code",
   "execution_count": 35,
   "metadata": {},
   "outputs": [
    {
     "data": {
      "text/html": [
       "3"
      ],
      "text/latex": [
       "3"
      ],
      "text/markdown": [
       "3"
      ],
      "text/plain": [
       "[1] 3"
      ]
     },
     "metadata": {},
     "output_type": "display_data"
    }
   ],
   "source": [
    "nvariables <- 3\n",
    "restrictions <- (nvariables^2-nvariables)/2\n",
    "restrictions"
   ]
  },
  {
   "cell_type": "markdown",
   "metadata": {},
   "source": [
    "**Spørgsmål 4.4** *Giv en diskussion på maksimalt 2 sider af hvorfor pålægger man identificerende restriktioner. Du kan overveje at medtage et eksempel i din diskussion.*"
   ]
  },
  {
   "cell_type": "markdown",
   "metadata": {},
   "source": [
    "**Spørgsmål 4.5** *Beregn en Cholesky dekomponering af?\" og anvend denne i en impulse response beregning for de 3 variable over en horisont på mindst 3 perioder.*"
   ]
  },
  {
   "cell_type": "code",
   "execution_count": 36,
   "metadata": {},
   "outputs": [
    {
     "name": "stdout",
     "output_type": "stream",
     "text": [
      "[1] \"Choleski decomposition\"\n"
     ]
    },
    {
     "data": {
      "text/html": [
       "<table>\n",
       "<tbody>\n",
       "\t<tr><td>0.089442719</td><td>0.00000000 </td><td>0.00000    </td></tr>\n",
       "\t<tr><td>0.002236068</td><td>0.01987461 </td><td>0.00000    </td></tr>\n",
       "\t<tr><td>0.003354102</td><td>0.00465418 </td><td>0.04083    </td></tr>\n",
       "</tbody>\n",
       "</table>\n"
      ],
      "text/latex": [
       "\\begin{tabular}{lll}\n",
       "\t 0.089442719 & 0.00000000  & 0.00000    \\\\\n",
       "\t 0.002236068 & 0.01987461  & 0.00000    \\\\\n",
       "\t 0.003354102 & 0.00465418  & 0.04083    \\\\\n",
       "\\end{tabular}\n"
      ],
      "text/markdown": [
       "\n",
       "| 0.089442719 | 0.00000000  | 0.00000     | \n",
       "| 0.002236068 | 0.01987461  | 0.00000     | \n",
       "| 0.003354102 | 0.00465418  | 0.04083     | \n",
       "\n",
       "\n"
      ],
      "text/plain": [
       "     [,1]        [,2]       [,3]   \n",
       "[1,] 0.089442719 0.00000000 0.00000\n",
       "[2,] 0.002236068 0.01987461 0.00000\n",
       "[3,] 0.003354102 0.00465418 0.04083"
      ]
     },
     "metadata": {},
     "output_type": "display_data"
    }
   ],
   "source": [
    "ma <- matrix(c(0.0080,0.0002,0.0003,\n",
    "               0.0002,0.0004,0.0001,\n",
    "               0.0003,0.0001,0.0017), byrow=T, nrow=3)\n",
    "print(\"Choleski decomposition\")\n",
    "cho <- t(chol(ma))\n",
    "cho"
   ]
  },
  {
   "cell_type": "markdown",
   "metadata": {},
   "source": [
    "1. Betragte VMA formen; specifikt Ci rekursionen for de første i = 1; ::; 3 led i Yt = P1\n",
    "i=0 Ci\"t?i; hvor Yt angiver vektoren med de tre variable på tid t, dvs. Yt =\n",
    "(y1t; y2t; y3t). 1 Du bedes eksplicit rapportere responsen for y2 efter 3 perioder som følge af et chok til den første variabel."
   ]
  },
  {
   "cell_type": "code",
   "execution_count": 143,
   "metadata": {},
   "outputs": [
    {
     "data": {
      "text/html": [
       "<table>\n",
       "<tbody>\n",
       "\t<tr><td>1</td><td>0</td><td>0</td></tr>\n",
       "\t<tr><td>0</td><td>1</td><td>0</td></tr>\n",
       "\t<tr><td>0</td><td>0</td><td>1</td></tr>\n",
       "</tbody>\n",
       "</table>\n"
      ],
      "text/latex": [
       "\\begin{tabular}{lll}\n",
       "\t 1 & 0 & 0\\\\\n",
       "\t 0 & 1 & 0\\\\\n",
       "\t 0 & 0 & 1\\\\\n",
       "\\end{tabular}\n"
      ],
      "text/markdown": [
       "\n",
       "| 1 | 0 | 0 | \n",
       "| 0 | 1 | 0 | \n",
       "| 0 | 0 | 1 | \n",
       "\n",
       "\n"
      ],
      "text/plain": [
       "     [,1] [,2] [,3]\n",
       "[1,] 1    0    0   \n",
       "[2,] 0    1    0   \n",
       "[3,] 0    0    1   "
      ]
     },
     "metadata": {},
     "output_type": "display_data"
    },
    {
     "data": {
      "text/html": [
       "<table>\n",
       "<tbody>\n",
       "\t<tr><td>-0.50</td><td> 0.20</td><td> 1.8 </td></tr>\n",
       "\t<tr><td> 0.10</td><td>-0.25</td><td> 0.6 </td></tr>\n",
       "\t<tr><td>-0.05</td><td> 0.50</td><td>-0.6 </td></tr>\n",
       "</tbody>\n",
       "</table>\n"
      ],
      "text/latex": [
       "\\begin{tabular}{lll}\n",
       "\t -0.50 &  0.20 &  1.8 \\\\\n",
       "\t  0.10 & -0.25 &  0.6 \\\\\n",
       "\t -0.05 &  0.50 & -0.6 \\\\\n",
       "\\end{tabular}\n"
      ],
      "text/markdown": [
       "\n",
       "| -0.50 |  0.20 |  1.8  | \n",
       "|  0.10 | -0.25 |  0.6  | \n",
       "| -0.05 |  0.50 | -0.6  | \n",
       "\n",
       "\n"
      ],
      "text/plain": [
       "     [,1]  [,2]  [,3]\n",
       "[1,] -0.50  0.20  1.8\n",
       "[2,]  0.10 -0.25  0.6\n",
       "[3,] -0.05  0.50 -0.6"
      ]
     },
     "metadata": {},
     "output_type": "display_data"
    },
    {
     "data": {
      "text/html": [
       "<table>\n",
       "<tbody>\n",
       "\t<tr><td>-0.020</td><td>1.0500</td><td> 0.14 </td></tr>\n",
       "\t<tr><td>-0.005</td><td>0.4025</td><td>-0.35 </td></tr>\n",
       "\t<tr><td> 0.175</td><td>0.2650</td><td> 0.52 </td></tr>\n",
       "</tbody>\n",
       "</table>\n"
      ],
      "text/latex": [
       "\\begin{tabular}{lll}\n",
       "\t -0.020 & 1.0500 &  0.14 \\\\\n",
       "\t -0.005 & 0.4025 & -0.35 \\\\\n",
       "\t  0.175 & 0.2650 &  0.52 \\\\\n",
       "\\end{tabular}\n"
      ],
      "text/markdown": [
       "\n",
       "| -0.020 | 1.0500 |  0.14  | \n",
       "| -0.005 | 0.4025 | -0.35  | \n",
       "|  0.175 | 0.2650 |  0.52  | \n",
       "\n",
       "\n"
      ],
      "text/plain": [
       "     [,1]   [,2]   [,3] \n",
       "[1,] -0.020 1.0500  0.14\n",
       "[2,] -0.005 0.4025 -0.35\n",
       "[3,]  0.175 0.2650  0.52"
      ]
     },
     "metadata": {},
     "output_type": "display_data"
    },
    {
     "data": {
      "text/html": [
       "<table>\n",
       "<tbody>\n",
       "\t<tr><td> 0.35400 </td><td> 0.917500</td><td>-0.5840  </td></tr>\n",
       "\t<tr><td> 0.05725 </td><td> 0.168375</td><td> 0.6175  </td></tr>\n",
       "\t<tr><td>-0.06900 </td><td>-0.196250</td><td> 0.0820  </td></tr>\n",
       "</tbody>\n",
       "</table>\n"
      ],
      "text/latex": [
       "\\begin{tabular}{lll}\n",
       "\t  0.35400  &  0.917500 & -0.5840  \\\\\n",
       "\t  0.05725  &  0.168375 &  0.6175  \\\\\n",
       "\t -0.06900  & -0.196250 &  0.0820  \\\\\n",
       "\\end{tabular}\n"
      ],
      "text/markdown": [
       "\n",
       "|  0.35400  |  0.917500 | -0.5840   | \n",
       "|  0.05725  |  0.168375 |  0.6175   | \n",
       "| -0.06900  | -0.196250 |  0.0820   | \n",
       "\n",
       "\n"
      ],
      "text/plain": [
       "     [,1]     [,2]      [,3]   \n",
       "[1,]  0.35400  0.917500 -0.5840\n",
       "[2,]  0.05725  0.168375  0.6175\n",
       "[3,] -0.06900 -0.196250  0.0820"
      ]
     },
     "metadata": {},
     "output_type": "display_data"
    },
    {
     "name": "stdout",
     "output_type": "stream",
     "text": [
      "[1] \"Respons af y2 fra et shock i y1 i t3\"\n"
     ]
    },
    {
     "data": {
      "text/html": [
       "0.05725"
      ],
      "text/latex": [
       "0.05725"
      ],
      "text/markdown": [
       "0.05725"
      ],
      "text/plain": [
       "[1] 0.05725"
      ]
     },
     "metadata": {},
     "output_type": "display_data"
    }
   ],
   "source": [
    "L1 <- matrix(c(-0.50,0.20,1.80,0.10,-0.25,0.60,-0.05,0.50,-0.60), byrow=T, nrow=3)\n",
    "L2 <- matrix(c(-0.20,0.30,2.00,0.10,0.02,-0.02,0.07,0.7,-0.05), byrow=T, nrow=3)\n",
    "diag <- diag(3)\n",
    "\n",
    "C0 <- diag\n",
    "C1 <- C0 %*% L1\n",
    "C2 <- C1 %*% L1 + C0 %*% L2\n",
    "C3 <- C2 %*% L1 + C1 %*% L2\n",
    "C4 <- C3 %*% L1 + C2 %*% L2\n",
    "C5 <- C4 %*% L1 + C3 %*% L2\n",
    "C6 <- C5 %*% L1 + C4 %*% L2\n",
    "C7 <- C6 %*% L1 + C5 %*% L2\n",
    "C8 <- C7 %*% L1 + C6 %*% L2\n",
    "\n",
    "C0;C1;C2;C3\n",
    "print(\"Respons af y2 fra et shock i y1 i t3\")\n",
    "C3[2,1]"
   ]
  },
  {
   "cell_type": "markdown",
   "metadata": {},
   "source": [
    "2. Betragte SVMA; specifikt $\\Theta_i$ rekursionen for de første i = 1; ::; 3 led i Yt = P1\n",
    "i=1 ?i\"t?i; hvor Yt angiver vektoren med de tre variable på tid t, dvs. Yt =\n",
    "(y1t; y2t; y3t) ; og hvor ?i = CiP og hvor P stammer fra en Cholesky decomponer- ing. Du bedes eksplicit rapportere responsen for y2 efter 3 perioder som følge af et chok til den første variabel.\n",
    "?"
   ]
  },
  {
   "cell_type": "code",
   "execution_count": 160,
   "metadata": {},
   "outputs": [
    {
     "data": {
      "text/html": [
       "<table>\n",
       "<tbody>\n",
       "\t<tr><td>-0.038236762</td><td> 0.012352446</td><td> 0.07349399 </td></tr>\n",
       "\t<tr><td> 0.010397716</td><td>-0.002176144</td><td> 0.02449800 </td></tr>\n",
       "\t<tr><td>-0.005366563</td><td> 0.007144795</td><td>-0.02449800 </td></tr>\n",
       "</tbody>\n",
       "</table>\n"
      ],
      "text/latex": [
       "\\begin{tabular}{lll}\n",
       "\t -0.038236762 &  0.012352446 &  0.07349399 \\\\\n",
       "\t  0.010397716 & -0.002176144 &  0.02449800 \\\\\n",
       "\t -0.005366563 &  0.007144795 & -0.02449800 \\\\\n",
       "\\end{tabular}\n"
      ],
      "text/markdown": [
       "\n",
       "| -0.038236762 |  0.012352446 |  0.07349399  | \n",
       "|  0.010397716 | -0.002176144 |  0.02449800  | \n",
       "| -0.005366563 |  0.007144795 | -0.02449800  | \n",
       "\n",
       "\n"
      ],
      "text/plain": [
       "     [,1]         [,2]         [,3]       \n",
       "[1,] -0.038236762  0.012352446  0.07349399\n",
       "[2,]  0.010397716 -0.002176144  0.02449800\n",
       "[3,] -0.005366563  0.007144795 -0.02449800"
      ]
     },
     "metadata": {},
     "output_type": "display_data"
    },
    {
     "data": {
      "text/html": [
       "<table>\n",
       "<tbody>\n",
       "\t<tr><td> 0.0010285913</td><td>0.021519922  </td><td> 0.005716199 </td></tr>\n",
       "\t<tr><td>-0.0007211319</td><td>0.006370566  </td><td>-0.014290499 </td></tr>\n",
       "\t<tr><td> 0.0179891669</td><td>0.007686944  </td><td> 0.021231598 </td></tr>\n",
       "</tbody>\n",
       "</table>\n"
      ],
      "text/latex": [
       "\\begin{tabular}{lll}\n",
       "\t  0.0010285913 & 0.021519922   &  0.005716199 \\\\\n",
       "\t -0.0007211319 & 0.006370566   & -0.014290499 \\\\\n",
       "\t  0.0179891669 & 0.007686944   &  0.021231598 \\\\\n",
       "\\end{tabular}\n"
      ],
      "text/markdown": [
       "\n",
       "|  0.0010285913 | 0.021519922   |  0.005716199  | \n",
       "| -0.0007211319 | 0.006370566   | -0.014290499  | \n",
       "|  0.0179891669 | 0.007686944   |  0.021231598  | \n",
       "\n",
       "\n"
      ],
      "text/plain": [
       "     [,1]          [,2]        [,3]        \n",
       "[1,]  0.0010285913 0.021519922  0.005716199\n",
       "[2,] -0.0007211319 0.006370566 -0.014290499\n",
       "[3,]  0.0179891669 0.007686944  0.021231598"
      ]
     },
     "metadata": {},
     "output_type": "display_data"
    },
    {
     "data": {
      "text/html": [
       "<table>\n",
       "<tbody>\n",
       "\t<tr><td> 0.031755519</td><td> 0.015516911</td><td>-0.02384472 </td></tr>\n",
       "\t<tr><td> 0.007568252</td><td> 0.006220343</td><td> 0.02521252 </td></tr>\n",
       "\t<tr><td>-0.006335340</td><td>-0.003518749</td><td> 0.00334806 </td></tr>\n",
       "</tbody>\n",
       "</table>\n"
      ],
      "text/latex": [
       "\\begin{tabular}{lll}\n",
       "\t  0.031755519 &  0.015516911 & -0.02384472 \\\\\n",
       "\t  0.007568252 &  0.006220343 &  0.02521252 \\\\\n",
       "\t -0.006335340 & -0.003518749 &  0.00334806 \\\\\n",
       "\\end{tabular}\n"
      ],
      "text/markdown": [
       "\n",
       "|  0.031755519 |  0.015516911 | -0.02384472  | \n",
       "|  0.007568252 |  0.006220343 |  0.02521252  | \n",
       "| -0.006335340 | -0.003518749 |  0.00334806  | \n",
       "\n",
       "\n"
      ],
      "text/plain": [
       "     [,1]         [,2]         [,3]       \n",
       "[1,]  0.031755519  0.015516911 -0.02384472\n",
       "[2,]  0.007568252  0.006220343  0.02521252\n",
       "[3,] -0.006335340 -0.003518749  0.00334806"
      ]
     },
     "metadata": {},
     "output_type": "display_data"
    },
    {
     "name": "stdout",
     "output_type": "stream",
     "text": [
      "[1] \"Respons af y2 fra et shock i y1 i t3\"\n"
     ]
    },
    {
     "data": {
      "text/html": [
       "0.00757"
      ],
      "text/latex": [
       "0.00757"
      ],
      "text/markdown": [
       "0.00757"
      ],
      "text/plain": [
       "[1] 0.00757"
      ]
     },
     "metadata": {},
     "output_type": "display_data"
    }
   ],
   "source": [
    "P0 <- C0 %*% cho\n",
    "P1 <- C1 %*% cho\n",
    "P2 <- C2 %*% cho\n",
    "P3 <- C3 %*% cho\n",
    "P4 <- C4 %*% cho\n",
    "P5 <- C5 %*% cho\n",
    "P6 <- C6 %*% cho\n",
    "P7 <- C7 %*% cho\n",
    "P8 <- C8 %*% cho\n",
    "\n",
    "P1;P2;P3\n",
    "\n",
    "print(\"Respons af y2 fra et shock i y1 i t3\")\n",
    "round(P3[2,1],5)"
   ]
  },
  {
   "cell_type": "code",
   "execution_count": 172,
   "metadata": {},
   "outputs": [
    {
     "data": {
      "image/png": "[encoded data removed]",
      "text/plain": [
       "plot without title"
      ]
     },
     "metadata": {},
     "output_type": "display_data"
    }
   ],
   "source": [
    "new <- t(cbind(as.character(c(1:9)), vec(C0), vec(C1), vec(C2), vec(C3), vec(C4), vec(C5), vec(C6), vec(C7), vec(C8)))\n",
    "new2 <- cbind(c(\"name\", \"0\", \"1\", \"2\", \"3\", \"4\", \"5\", \"6\", \"7\", \"8\"), new)\n",
    "colnames(new2) <- new2[1,]\n",
    "new2 <- new2[-1,]\n",
    "\n",
    "df <- gather(as.data.frame(new2), variable, value, -name)\n",
    "df$value <- as.numeric(df$value)\n",
    "df$name <- as.numeric(df$name)\n",
    "\n",
    "p1 <- ggplot(df, aes(name, value)) + \n",
    "geom_line() + \n",
    "facet_wrap(~variable) +\n",
    "labs(title=\"Impulse Response Function VMA\", x=\"\", y=\"\")\n",
    "\n",
    "new <- t(cbind(as.character(c(1:9)), vec(P0), vec(P1), vec(P2), vec(P3), vec(P4), vec(P5), vec(P6), vec(P7), vec(P8)))\n",
    "new2 <- cbind(c(\"name\", \"0\", \"1\", \"2\", \"3\", \"4\", \"5\", \"6\", \"7\", \"8\"), new)\n",
    "colnames(new2) <- new2[1,]\n",
    "new2 <- new2[-1,]\n",
    "\n",
    "df <- gather(as.data.frame(new2), variable, value, -name)\n",
    "df$value <- as.numeric(df$value)\n",
    "df$name <- as.numeric(df$name)\n",
    "\n",
    "p2 <- ggplot(df, aes(name, value)) + \n",
    "geom_line() + \n",
    "facet_wrap(~variable) + \n",
    "labs(title=\"Impulse Response Function sVMA\", x=\"\", y=\"\")\n",
    "\n",
    "grid.arrange(p1,p2,nrow=1)"
   ]
  }
 ],
 "metadata": {
  "kernelspec": {
   "display_name": "R",
   "language": "R",
   "name": "ir"
  },
  "language_info": {
   "codemirror_mode": "r",
   "file_extension": ".r",
   "mimetype": "text/x-r-source",
   "name": "R",
   "pygments_lexer": "r",
   "version": "3.5.1"
  }
 },
 "nbformat": 4,
 "nbformat_minor": 2
}
