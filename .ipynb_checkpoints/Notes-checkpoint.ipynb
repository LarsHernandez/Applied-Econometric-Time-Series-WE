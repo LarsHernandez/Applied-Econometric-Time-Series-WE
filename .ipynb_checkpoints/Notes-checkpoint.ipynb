{
 "cells": [
  {
   "cell_type": "markdown",
   "metadata": {},
   "source": [
    "# Notes\n",
    "\n",
    "\n",
    "- Difference function \n",
    "     $$y_t = a_0 + a_1y_{t-1} + \\varepsilon_t$$\n",
    "     $$Example : y_t = 0.2y_{t-1} + 0.35y_{t-2}$$\n",
    "- Homogeneous part of equation \n",
    "<\\br>\n",
    "(homogeneous form is rearranged to equal zero)\n",
    "     $$y_t = a_1y_{t-1}$$\n",
    "     $$Example : y_t - 0.2y_{t-1} - 0.35y_{t-2} = 0$$\n",
    "- Trial solution\n",
    "     $$Example : y_t = \\alpha^t$$\n",
    "- Charateristic equation\n",
    "     $$Example : \\alpha^2 - 0.2\\alpha - 0.35 = 0$$\n",
    "- Charateristic roots  \n",
    "     $$Example : \\alpha_1 = 0.5(a_1 + d^{0.5}) \\qquad \\alpha_2 = 0.5(a_1 - d^{0.5})$$\n",
    "- Homogenous solution \n",
    "     $$y_t = Aa^{t_1}$$\n",
    "     $$Example : y_t = A_1(0.7)^t + A_2(-0.5)^t$$\n",
    "    - (not unique)\n",
    "    - (measures measure of disequlibrium)\n",
    "    - (yields characteristic roots)\n",
    "- Particular solution\n",
    "     $$y_t = a_0 /(1-a_1) + \\sum^\\infty_{i=0}a^i_1 \\varepsilon_{t-i}$$\n",
    "\n",
    "\n",
    "- General solution \n",
    "    - Particular solution + a linear combination of all homogenous solutions\n",
    "\n",
    "- Unit circle\n"
   ]
  },
  {
   "cell_type": "code",
   "execution_count": null,
   "metadata": {},
   "outputs": [],
   "source": []
  }
 ],
 "metadata": {
  "kernelspec": {
   "display_name": "R",
   "language": "R",
   "name": "ir"
  },
  "language_info": {
   "codemirror_mode": "r",
   "file_extension": ".r",
   "mimetype": "text/x-r-source",
   "name": "R",
   "pygments_lexer": "r",
   "version": "3.5.1"
  }
 },
 "nbformat": 4,
 "nbformat_minor": 2
}
