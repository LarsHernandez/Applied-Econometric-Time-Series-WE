{
 "cells": [
  {
   "cell_type": "code",
   "execution_count": 6,
   "metadata": {},
   "outputs": [],
   "source": [
    "library(dynlm) #Lags in regressions\n",
    "library(repr) # Resizing the plots in jupyter\n",
    "library(rugarch) # For multiplying lags\n",
    "\n",
    "options(repr.plot.width=8, repr.plot.height=2.5)\n",
    "\n",
    "setwd(\"C:/Users/larsn/Documents/GitHub/Applied-Econometric-Time-Series-WE\")"
   ]
  },
  {
   "cell_type": "code",
   "execution_count": 15,
   "metadata": {},
   "outputs": [],
   "source": [
    "library(readxl)\n",
    "quarterly <- read_excel(\"Data/quarterly.xls\")"
   ]
  },
  {
   "cell_type": "code",
   "execution_count": 18,
   "metadata": {},
   "outputs": [
    {
     "data": {
      "text/plain": [
       "\n",
       "Call:\n",
       "arima(x = diff(diff(log(money), 4)), order = c(1, 0, 4), fixed = c(NA, 0, 0, \n",
       "    0, NA, 0))\n",
       "\n",
       "Coefficients:\n",
       "         ar1  ma1  ma2  ma3      ma4  intercept\n",
       "      0.5493    0    0    0  -0.7566          0\n",
       "s.e.  0.0594    0    0    0   0.0520          0\n",
       "\n",
       "sigma^2 estimated as 0.0001251:  log likelihood = 634.56,  aic = -1263.13"
      ]
     },
     "metadata": {},
     "output_type": "display_data"
    },
    {
     "data": {
      "text/plain": [
       "\n",
       "Call:\n",
       "arima(x = log(money), order = c(1, 1, 0), seasonal = list(order = c(0, 1, 1), \n",
       "    period = 4))\n",
       "\n",
       "Coefficients:\n",
       "         ar1     sma1\n",
       "      0.5493  -0.7566\n",
       "s.e.  0.0594   0.0520\n",
       "\n",
       "sigma^2 estimated as 0.0001251:  log likelihood = 634.56,  aic = -1263.13"
      ]
     },
     "metadata": {},
     "output_type": "display_data"
    },
    {
     "data": {
      "text/plain": [
       "\n",
       "Call:\n",
       "arima(x = diff(log(money)), order = c(1, 0, 0), seasonal = list(order = c(0, \n",
       "    1, 1), period = 4))\n",
       "\n",
       "Coefficients:\n",
       "         ar1     sma1\n",
       "      0.5493  -0.7566\n",
       "s.e.  0.0594   0.0520\n",
       "\n",
       "sigma^2 estimated as 0.0001251:  log likelihood = 634.56,  aic = -1263.13"
      ]
     },
     "metadata": {},
     "output_type": "display_data"
    }
   ],
   "source": [
    "money <- quarterly$M1NSA\n",
    "\n",
    "m1 <- arima(diff(diff(log(money), 4)), \n",
    "            order = c(1,0,4), \n",
    "            fixed=c(NA,0,0,0,NA,0))\n",
    "m1\n",
    "\n",
    "m2 <- arima(log(money), \n",
    "            order = c(1,1,0), \n",
    "            seasonal = list(order=c(0,1,1), period = 4))\n",
    "m2\n",
    "\n",
    "m3 <- arima(diff(log(money)), \n",
    "            order = c(1,0,0), \n",
    "            seasonal = list(order=c(0,1,1), period = 4))\n",
    "m3"
   ]
  },
  {
   "cell_type": "code",
   "execution_count": 13,
   "metadata": {},
   "outputs": [
    {
     "data": {
      "text/plain": [
       "\n",
       "Call:\n",
       "arima(x = money2, order = c(2, 0, 0), method = \"CSS\")\n",
       "\n",
       "Coefficients:\n",
       "         ar1     ar2  intercept\n",
       "      0.1602  0.2589     0.0139\n",
       "s.e.  0.0670  0.0667     0.0019\n",
       "\n",
       "sigma^2 estimated as 0.0002452:  part log likelihood = 577.67"
      ]
     },
     "metadata": {},
     "output_type": "display_data"
    },
    {
     "data": {
      "text/plain": [
       "\n",
       "Time series regression with \"ts\" data:\n",
       "Start = 3, End = 211\n",
       "\n",
       "Call:\n",
       "dynlm(formula = money2 ~ L(money2, 1) + L(money2, 2))\n",
       "\n",
       "Coefficients:\n",
       " (Intercept)  L(money2, 1)  L(money2, 2)  \n",
       "    0.008078      0.160230      0.258954  \n"
      ]
     },
     "metadata": {},
     "output_type": "display_data"
    }
   ],
   "source": [
    "money2 <- as.ts(diff(log(money))) # needs to be stationary now, these results are also similar\n",
    "\n",
    "m3 <- arima(money2, order = c(2,0,0), method=\"CSS\")\n",
    "m3\n",
    "\n",
    "m4 <- dynlm(money2 ~ L(money2,1) + L(money2,2))\n",
    "m4\n"
   ]
  }
 ],
 "metadata": {
  "kernelspec": {
   "display_name": "R",
   "language": "R",
   "name": "ir"
  },
  "language_info": {
   "codemirror_mode": "r",
   "file_extension": ".r",
   "mimetype": "text/x-r-source",
   "name": "R",
   "pygments_lexer": "r",
   "version": "3.5.1"
  }
 },
 "nbformat": 4,
 "nbformat_minor": 2
}
