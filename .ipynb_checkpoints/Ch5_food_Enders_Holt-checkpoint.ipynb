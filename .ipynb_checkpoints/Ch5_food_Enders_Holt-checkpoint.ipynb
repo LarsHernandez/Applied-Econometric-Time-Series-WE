{
 "cells": [
  {
   "cell_type": "code",
   "execution_count": 3,
   "metadata": {},
   "outputs": [],
   "source": [
    "library(tidyverse) # readr, ggplot, dplyr, ...\n",
    "library(gridExtra) # Arrangning ggplots\n",
    "library(readxl)    # Loading excel\n",
    "library(repr)      # Resizing the plots in jupyter\n",
    "library(rugarch)   # For ARCH and GARCH models\n",
    "library(dynlm)     # Lagged linear models\n",
    "library(urca)      # Dick Fuller test\n",
    "library(car)       # Linear hyphothesis testing\n",
    "library(tseries)   # adf-test\n",
    "library(vars)      # VAR models\n",
    "library(zoo)       # Convert quarters to date\n",
    "library(forecast)  \n",
    "\n",
    "options(repr.plot.width=8, repr.plot.height=2.5)\n",
    "\n",
    "setwd(\"C:/Users/larsn/Documents/GitHub/Applied-Econometric-Time-Series-WE\")"
   ]
  },
  {
   "cell_type": "code",
   "execution_count": 23,
   "metadata": {},
   "outputs": [
    {
     "data": {
      "text/html": [
       "<table>\n",
       "<thead><tr><th scope=col>ENTRY</th><th scope=col>PE</th><th scope=col>ex</th><th scope=col>r</th><th scope=col>pg</th></tr></thead>\n",
       "<tbody>\n",
       "\t<tr><td>1900-03-22 06:01:00 </td><td> 0.04795839         </td><td>-0.1412964          </td><td>1.7484946236559999  </td><td>1.154891            </td></tr>\n",
       "\t<tr><td>1900-03-22 06:02:00 </td><td> 0.02775568         </td><td>-0.1661629          </td><td>-0.58877944325499998</td><td>1.218030            </td></tr>\n",
       "\t<tr><td>1900-03-22 06:03:00 </td><td> 0.01582711         </td><td>-0.1813050          </td><td>-0.56878464818800001</td><td>1.179920            </td></tr>\n",
       "\t<tr><td>1900-03-22 06:04:00 </td><td>-0.17052514         </td><td>-0.1984042          </td><td>-2.6869491525420002 </td><td>1.126386            </td></tr>\n",
       "\t<tr><td>1900-03-22 06:05:00 </td><td>-0.18608966         </td><td>-0.2036755          </td><td>-3.5347058823530002 </td><td>1.079914            </td></tr>\n",
       "\t<tr><td>1900-03-22 06:06:00 </td><td>-0.18994323         </td><td>-0.1955502          </td><td>-5.4611691022960001 </td><td>1.081448            </td></tr>\n",
       "</tbody>\n",
       "</table>\n"
      ],
      "text/latex": [
       "\\begin{tabular}{r|lllll}\n",
       " ENTRY & PE & ex & r & pg\\\\\n",
       "\\hline\n",
       "\t 1900-03-22 06:01:00  &  0.04795839          & -0.1412964           & 1.7484946236559999   & 1.154891            \\\\\n",
       "\t 1900-03-22 06:02:00  &  0.02775568          & -0.1661629           & -0.58877944325499998 & 1.218030            \\\\\n",
       "\t 1900-03-22 06:03:00  &  0.01582711          & -0.1813050           & -0.56878464818800001 & 1.179920            \\\\\n",
       "\t 1900-03-22 06:04:00  & -0.17052514          & -0.1984042           & -2.6869491525420002  & 1.126386            \\\\\n",
       "\t 1900-03-22 06:05:00  & -0.18608966          & -0.2036755           & -3.5347058823530002  & 1.079914            \\\\\n",
       "\t 1900-03-22 06:06:00  & -0.18994323          & -0.1955502           & -5.4611691022960001  & 1.081448            \\\\\n",
       "\\end{tabular}\n"
      ],
      "text/markdown": [
       "\n",
       "ENTRY | PE | ex | r | pg | \n",
       "|---|---|---|---|---|---|\n",
       "| 1900-03-22 06:01:00  |  0.04795839          | -0.1412964           | 1.7484946236559999   | 1.154891             | \n",
       "| 1900-03-22 06:02:00  |  0.02775568          | -0.1661629           | -0.58877944325499998 | 1.218030             | \n",
       "| 1900-03-22 06:03:00  |  0.01582711          | -0.1813050           | -0.56878464818800001 | 1.179920             | \n",
       "| 1900-03-22 06:04:00  | -0.17052514          | -0.1984042           | -2.6869491525420002  | 1.126386             | \n",
       "| 1900-03-22 06:05:00  | -0.18608966          | -0.2036755           | -3.5347058823530002  | 1.079914             | \n",
       "| 1900-03-22 06:06:00  | -0.18994323          | -0.1955502           | -5.4611691022960001  | 1.081448             | \n",
       "\n",
       "\n"
      ],
      "text/plain": [
       "  ENTRY               PE          ex         r                    pg      \n",
       "1 1900-03-22 06:01:00  0.04795839 -0.1412964 1.7484946236559999   1.154891\n",
       "2 1900-03-22 06:02:00  0.02775568 -0.1661629 -0.58877944325499998 1.218030\n",
       "3 1900-03-22 06:03:00  0.01582711 -0.1813050 -0.56878464818800001 1.179920\n",
       "4 1900-03-22 06:04:00 -0.17052514 -0.1984042 -2.6869491525420002  1.126386\n",
       "5 1900-03-22 06:05:00 -0.18608966 -0.2036755 -3.5347058823530002  1.079914\n",
       "6 1900-03-22 06:06:00 -0.18994323 -0.1955502 -5.4611691022960001  1.081448"
      ]
     },
     "metadata": {},
     "output_type": "display_data"
    }
   ],
   "source": [
    "food <- read_excel(\"Data/Enders_Holt.xls\")\n",
    "head(food)"
   ]
  },
  {
   "cell_type": "code",
   "execution_count": 16,
   "metadata": {},
   "outputs": [
    {
     "name": "stderr",
     "output_type": "stream",
     "text": [
      "Warning message in eval(expr, envir, enclos):\n",
      "\"NAs introduced by coercion\"Warning message:\n",
      "\"Removed 1 rows containing missing values (geom_path).\""
     ]
    },
    {
     "data": {},
     "metadata": {},
     "output_type": "display_data"
    },
    {
     "data": {
      "image/png": "[encoded data removed]",
      "text/plain": [
       "plot without title"
      ]
     },
     "metadata": {},
     "output_type": "display_data"
    }
   ],
   "source": [
    "food$ENTRY <- seq_along(food$PE)\n",
    "pfood <- gather(food, variable, value, -ENTRY)\n",
    "pfood$value <- as.numeric(pfood$value)\n",
    "ggplot(pfood, aes(ENTRY, value)) +\n",
    " geom_line() + \n",
    " facet_wrap(~variable, scale=\"free\")"
   ]
  },
  {
   "cell_type": "code",
   "execution_count": 53,
   "metadata": {},
   "outputs": [
    {
     "name": "stderr",
     "output_type": "stream",
     "text": [
      "Warning message in eval(expr, envir, enclos):\n",
      "\"NAs introduced by coercion\""
     ]
    },
    {
     "data": {
      "text/html": [
       "<table>\n",
       "<tbody>\n",
       "\t<tr><td>NA</td><td> 0</td><td> 0</td><td> 0</td></tr>\n",
       "\t<tr><td>NA</td><td>NA</td><td> 0</td><td> 0</td></tr>\n",
       "\t<tr><td> 0</td><td> 0</td><td>NA</td><td> 0</td></tr>\n",
       "\t<tr><td>NA</td><td>NA</td><td>NA</td><td>NA</td></tr>\n",
       "</tbody>\n",
       "</table>\n"
      ],
      "text/latex": [
       "\\begin{tabular}{llll}\n",
       "\t NA &  0 &  0 &  0\\\\\n",
       "\t NA & NA &  0 &  0\\\\\n",
       "\t  0 &  0 & NA &  0\\\\\n",
       "\t NA & NA & NA & NA\\\\\n",
       "\\end{tabular}\n"
      ],
      "text/markdown": [
       "\n",
       "| NA |  0 |  0 |  0 | \n",
       "| NA | NA |  0 |  0 | \n",
       "|  0 |  0 | NA |  0 | \n",
       "| NA | NA | NA | NA | \n",
       "\n",
       "\n"
      ],
      "text/plain": [
       "     [,1] [,2] [,3] [,4]\n",
       "[1,] NA    0    0    0  \n",
       "[2,] NA   NA    0    0  \n",
       "[3,]  0    0   NA    0  \n",
       "[4,] NA   NA   NA   NA  "
      ]
     },
     "metadata": {},
     "output_type": "display_data"
    },
    {
     "data": {
      "text/plain": [
       "\n",
       "SVAR Estimation Results:\n",
       "======================== \n",
       "\n",
       "Call:\n",
       "SVAR(x = m, estmethod = \"direct\", Amat = amat)\n",
       "\n",
       "Type: A-model \n",
       "Sample size: 448 \n",
       "Log Likelihood: 1517.007 \n",
       "Method: direct \n",
       "Number of iterations: 501 \n",
       "Convergence code: 1 \n",
       "\n",
       "LR overidentification test:\n",
       "\n",
       "\tLR overidentification\n",
       "\n",
       "data:  food_1\n",
       "Chi^2 = 1600, df = 2, p-value <2e-16\n",
       "\n",
       "\n",
       "Estimated A matrix:\n",
       "        PE     ex      r    pg\n",
       "PE  10.183  0.000 0.0000  0.00\n",
       "ex  -5.751 17.118 0.0000  0.00\n",
       "r    0.000  0.000 1.3545  0.00\n",
       "pg -11.998  8.045 0.1683 36.51\n",
       "\n",
       "Estimated B matrix:\n",
       "   PE ex r pg\n",
       "PE  1  0 0  0\n",
       "ex  0  1 0  0\n",
       "r   0  0 1  0\n",
       "pg  0  0 0  1\n",
       "\n",
       "Covariance matrix of reduced form residuals (*100):\n",
       "           PE       ex          r        pg\n",
       "PE  9.643e-01 0.323944 -8.539e-17  0.245506\n",
       "ex  3.239e-01 0.450083  0.000e+00  0.007278\n",
       "r  -8.539e-17 0.000000  5.450e+01 -0.251272\n",
       "pg  2.455e-01 0.007278 -2.513e-01  0.155256"
      ]
     },
     "metadata": {},
     "output_type": "display_data"
    }
   ],
   "source": [
    "food_1 <- food[,-1]\n",
    "food_1$ex <- as.numeric(food_1$ex)\n",
    "food_1$PE <- as.numeric(food_1$PE)\n",
    "food_1$pg <- as.numeric(food_1$pg)\n",
    "food_1$r <- as.numeric(food_1$r)\n",
    "\n",
    "food_1 <- na.omit(food_1)\n",
    "\n",
    "m <- VAR(food_1, p = 7, type = \"const\")\n",
    "\n",
    "\n",
    "amat = diag(4)\n",
    "diag(amat) = NA\n",
    "amat[2,1] = NA\n",
    "amat[4, ] = NA\n",
    "amat\n",
    "svar_m = SVAR(m, estmethod=\"direct\", Amat = amat) \n",
    "summary(svar_m)\n",
    "#plot(irf(svar_m,boot=FALSE))"
   ]
  }
 ],
 "metadata": {
  "kernelspec": {
   "display_name": "R",
   "language": "R",
   "name": "ir"
  },
  "language_info": {
   "codemirror_mode": "r",
   "file_extension": ".r",
   "mimetype": "text/x-r-source",
   "name": "R",
   "pygments_lexer": "r",
   "version": "3.5.1"
  }
 },
 "nbformat": 4,
 "nbformat_minor": 2
}
