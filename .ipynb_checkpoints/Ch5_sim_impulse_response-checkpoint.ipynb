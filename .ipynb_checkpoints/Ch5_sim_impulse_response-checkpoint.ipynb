{
 "cells": [
  {
   "cell_type": "markdown",
   "metadata": {},
   "source": [
    "# Impulse Response Function"
   ]
  },
  {
   "cell_type": "code",
   "execution_count": 148,
   "metadata": {},
   "outputs": [],
   "source": [
    "library(tidyverse)\n",
    "library(tsDyn) # Simulating var processes\n",
    "library(vars)\n",
    "\n",
    "options(repr.plot.width=8, repr.plot.height=2.5)"
   ]
  },
  {
   "cell_type": "markdown",
   "metadata": {},
   "source": [
    "Important both models are limited in that they contain a identification restriction\n",
    "$$ e_{1t} = \\varepsilon_{yt} - b_{12}\\varepsilon_{zt}$$\n",
    "$$ e_{2t} = \\varepsilon_{zt} $$\n",
    "This means that there is no contemporary effect from $y_t$ to $z_t$ but only the other way round. In effect this is implemented as:\n",
    "$$ e_{1t} = \\varepsilon_{yt} + 0.8\\varepsilon_{zt}$$\n",
    "$$ e_{2t} = \\varepsilon_{zt} $$"
   ]
  },
  {
   "cell_type": "markdown",
   "metadata": {},
   "source": [
    "# First model - positive off-diagonal elements of $A_1$"
   ]
  },
  {
   "cell_type": "markdown",
   "metadata": {},
   "source": [
    "$$\n",
    "\\begin{bmatrix} y_t \\\\ z_t \\end{bmatrix}\n",
    "=\n",
    "\\begin{bmatrix} 0.7 & 0.2 \\\\ 0.2 & 0.7 \\end{bmatrix}\n",
    "\\cdot\n",
    "\\begin{bmatrix} y_{t-1} \\\\ z_{t-1} \\end{bmatrix}\n",
    "+\n",
    "\\begin{bmatrix} e_{1t} \\\\ e_{2t} \\end{bmatrix}\n",
    "$$"
   ]
  },
  {
   "cell_type": "code",
   "execution_count": 225,
   "metadata": {},
   "outputs": [
    {
     "data": {
      "text/html": [
       "<table>\n",
       "<thead><tr><th scope=col>zt</th><th scope=col>yt</th></tr></thead>\n",
       "<tbody>\n",
       "\t<tr><td>0.0000000 </td><td> 0.0000000</td></tr>\n",
       "\t<tr><td>0.4522187 </td><td>-1.2031459</td></tr>\n",
       "\t<tr><td>0.6492724 </td><td>-0.8101898</td></tr>\n",
       "\t<tr><td>0.9373831 </td><td> 1.7080566</td></tr>\n",
       "\t<tr><td>1.4292976 </td><td> 2.9731580</td></tr>\n",
       "\t<tr><td>1.4562511 </td><td> 1.6986045</td></tr>\n",
       "</tbody>\n",
       "</table>\n"
      ],
      "text/latex": [
       "\\begin{tabular}{ll}\n",
       " zt & yt\\\\\n",
       "\\hline\n",
       "\t 0.0000000  &  0.0000000\\\\\n",
       "\t 0.4522187  & -1.2031459\\\\\n",
       "\t 0.6492724  & -0.8101898\\\\\n",
       "\t 0.9373831  &  1.7080566\\\\\n",
       "\t 1.4292976  &  2.9731580\\\\\n",
       "\t 1.4562511  &  1.6986045\\\\\n",
       "\\end{tabular}\n"
      ],
      "text/markdown": [
       "\n",
       "zt | yt | \n",
       "|---|---|---|---|---|---|\n",
       "| 0.0000000  |  0.0000000 | \n",
       "| 0.4522187  | -1.2031459 | \n",
       "| 0.6492724  | -0.8101898 | \n",
       "| 0.9373831  |  1.7080566 | \n",
       "| 1.4292976  |  2.9731580 | \n",
       "| 1.4562511  |  1.6986045 | \n",
       "\n",
       "\n"
      ],
      "text/plain": [
       "     zt        yt        \n",
       "[1,] 0.0000000  0.0000000\n",
       "[2,] 0.4522187 -1.2031459\n",
       "[3,] 0.6492724 -0.8101898\n",
       "[4,] 0.9373831  1.7080566\n",
       "[5,] 1.4292976  2.9731580\n",
       "[6,] 1.4562511  1.6986045"
      ]
     },
     "metadata": {},
     "output_type": "display_data"
    }
   ],
   "source": [
    "yt <- c(0)\n",
    "zt <- c(0)\n",
    "nsim <- 200\n",
    "\n",
    "for (i in 2:nsim) {\n",
    "    ey <- rnorm(1) \n",
    "    ez <- rnorm(1)\n",
    "    yt[i] <- 0.7*yt[i-1] + 0.2*zt[i-1] + (0.8*ez + ey)\n",
    "    zt[i] <- 0.7*zt[i-1] + 0.2*yt[i-1] + ez\n",
    "}\n",
    "sim <- cbind(zt, yt)\n",
    "head(sim)"
   ]
  },
  {
   "cell_type": "code",
   "execution_count": 229,
   "metadata": {},
   "outputs": [
    {
     "data": {
      "image/png": "[encoded data removed]",
      "text/plain": [
       "plot without title"
      ]
     },
     "metadata": {},
     "output_type": "display_data"
    },
    {
     "data": {
      "image/png": "[encoded data removed]",
      "text/plain": [
       "plot without title"
      ]
     },
     "metadata": {},
     "output_type": "display_data"
    }
   ],
   "source": [
    "m <- VAR(sim, p = 1, type = \"const\")\n",
    "\n",
    "psim <- as.data.frame(sim)\n",
    "psim$n <- c(1:nsim)\n",
    "psim <- gather(psim, variable, value, -n)\n",
    "\n",
    "p1 <- ggplot(psim, aes(n, value, linetype=variable)) + \n",
    " geom_line() + \n",
    " labs(title=\"VAR(1) model with 2 variables\", x=\"\", y=\"\")\n",
    "\n",
    "data <- irf(m, nsteps = 12, n.ahead=20)\n",
    "variables <- data$irf %>% names\n",
    "\n",
    "#### Function to extract IRF data ####\n",
    "ir <- lapply(1:length(variables), function(e){\n",
    "    data_to_plot <- data.frame(data %>% `$`(irf) %>% `[[`(variables[e])) %>%\n",
    "      mutate(\"t\" = 1:NROW(.)) %>%\n",
    "      gather(.,Variable, Value, -t)\n",
    "\n",
    "    upper_ci <- data.frame(data %>% `$`(Upper) %>% `[[`(variables[e])) %>%\n",
    "      mutate(\"t\" = 1:NROW(.)) %>%\n",
    "      gather(.,Variable, Upper, -t)\n",
    "\n",
    "    lower_ci <- data.frame(data %>% `$`(Lower) %>% `[[`(variables[e]) ) %>%\n",
    "      mutate(\"t\" = 1:NROW(.)) %>%\n",
    "      gather(.,Variable, Lower, -t)\n",
    "\n",
    "    res <- inner_join(data_to_plot, upper_ci, c(\"t\",\"Variable\")) %>%\n",
    "           inner_join(.,lower_ci, c(\"t\",\"Variable\")) %>%\n",
    "           mutate(impulse = paste(\"Shock to\", variables[e])) \n",
    "}) %>% bind_rows\n",
    "######################################\n",
    "\n",
    "p2 <- ggplot(ir, aes(x = t, y = Value, group = Variable))  +\n",
    "  geom_line() +\n",
    "  geom_ribbon(aes(x=t, ymax=Upper, ymin=Lower), alpha=0.2) +\n",
    "  scale_x_continuous(limits = c(0,21), breaks = seq(0,20,2)) +\n",
    "  scale_y_continuous(\"\", position=\"right\") +\n",
    "  labs(title=\"Impulse Response Functions\", x=\"\") +\n",
    "  facet_grid(Variable ~ impulse, scales=\"free\", switch=\"y\")\n",
    "\n",
    "print(p1)\n",
    "print(p2)"
   ]
  },
  {
   "cell_type": "code",
   "execution_count": 221,
   "metadata": {},
   "outputs": [
    {
     "data": {
      "text/plain": [
       "\n",
       "VAR Estimation Results:\n",
       "======================= \n",
       "\n",
       "Estimated coefficients for equation zt: \n",
       "======================================= \n",
       "Call:\n",
       "zt = zt.l1 + yt.l1 + const \n",
       "\n",
       "      zt.l1       yt.l1       const \n",
       " 0.72953089  0.14173619 -0.06726421 \n",
       "\n",
       "\n",
       "Estimated coefficients for equation yt: \n",
       "======================================= \n",
       "Call:\n",
       "yt = zt.l1 + yt.l1 + const \n",
       "\n",
       "       zt.l1        yt.l1        const \n",
       " 0.346840790  0.589497137 -0.005615127 \n",
       "\n"
      ]
     },
     "metadata": {},
     "output_type": "display_data"
    }
   ],
   "source": [
    "m"
   ]
  },
  {
   "cell_type": "markdown",
   "metadata": {},
   "source": [
    "# Second model - negative off-diagonal elements of $A_1$"
   ]
  },
  {
   "cell_type": "markdown",
   "metadata": {},
   "source": [
    "$$\n",
    "\\begin{bmatrix} y_t \\\\ z_t \\end{bmatrix}\n",
    "=\n",
    "\\begin{bmatrix} 0.7 & -0.2 \\\\ -0.2 & 0.7 \\end{bmatrix}\n",
    "\\cdot\n",
    "\\begin{bmatrix} y_{t-1} \\\\ z_{t-1} \\end{bmatrix}\n",
    "+\n",
    "\\begin{bmatrix} e_{1t} \\\\ e_{2t} \\end{bmatrix}\n",
    "$$"
   ]
  },
  {
   "cell_type": "code",
   "execution_count": 226,
   "metadata": {},
   "outputs": [
    {
     "data": {
      "text/html": [
       "<table>\n",
       "<thead><tr><th scope=col>zt</th><th scope=col>yt</th></tr></thead>\n",
       "<tbody>\n",
       "\t<tr><td> 0.0000000</td><td> 0.0000000</td></tr>\n",
       "\t<tr><td> 0.2611909</td><td> 0.7640737</td></tr>\n",
       "\t<tr><td>-0.4292164</td><td> 0.3720584</td></tr>\n",
       "\t<tr><td>-0.6105205</td><td>-0.8577699</td></tr>\n",
       "\t<tr><td>-1.5067534</td><td>-0.6196351</td></tr>\n",
       "\t<tr><td>-2.3681958</td><td>-0.6428335</td></tr>\n",
       "</tbody>\n",
       "</table>\n"
      ],
      "text/latex": [
       "\\begin{tabular}{ll}\n",
       " zt & yt\\\\\n",
       "\\hline\n",
       "\t  0.0000000 &  0.0000000\\\\\n",
       "\t  0.2611909 &  0.7640737\\\\\n",
       "\t -0.4292164 &  0.3720584\\\\\n",
       "\t -0.6105205 & -0.8577699\\\\\n",
       "\t -1.5067534 & -0.6196351\\\\\n",
       "\t -2.3681958 & -0.6428335\\\\\n",
       "\\end{tabular}\n"
      ],
      "text/markdown": [
       "\n",
       "zt | yt | \n",
       "|---|---|---|---|---|---|\n",
       "|  0.0000000 |  0.0000000 | \n",
       "|  0.2611909 |  0.7640737 | \n",
       "| -0.4292164 |  0.3720584 | \n",
       "| -0.6105205 | -0.8577699 | \n",
       "| -1.5067534 | -0.6196351 | \n",
       "| -2.3681958 | -0.6428335 | \n",
       "\n",
       "\n"
      ],
      "text/plain": [
       "     zt         yt        \n",
       "[1,]  0.0000000  0.0000000\n",
       "[2,]  0.2611909  0.7640737\n",
       "[3,] -0.4292164  0.3720584\n",
       "[4,] -0.6105205 -0.8577699\n",
       "[5,] -1.5067534 -0.6196351\n",
       "[6,] -2.3681958 -0.6428335"
      ]
     },
     "metadata": {},
     "output_type": "display_data"
    }
   ],
   "source": [
    "yt <- c(0)\n",
    "zt <- c(0)\n",
    "nsim <- 200\n",
    "\n",
    "for (i in 2:nsim) {\n",
    "    ey <- rnorm(1) \n",
    "    ez <- rnorm(1)\n",
    "    yt[i] <- 0.7*yt[i-1] - 0.2*zt[i-1] + (0.8*ez + ey)\n",
    "    zt[i] <- 0.7*zt[i-1] - 0.2*yt[i-1] + ez\n",
    "}\n",
    "sim2 <- cbind(zt, yt)\n",
    "head(sim2)"
   ]
  },
  {
   "cell_type": "code",
   "execution_count": 230,
   "metadata": {},
   "outputs": [
    {
     "data": {
      "image/png": "[encoded data removed]",
      "text/plain": [
       "plot without title"
      ]
     },
     "metadata": {},
     "output_type": "display_data"
    },
    {
     "data": {
      "image/png": "[encoded data removed]",
      "text/plain": [
       "plot without title"
      ]
     },
     "metadata": {},
     "output_type": "display_data"
    }
   ],
   "source": [
    "m <- VAR(sim2, p = 1, type = \"const\")\n",
    "\n",
    "psim <- as.data.frame(sim2)\n",
    "psim$n <- c(1:nsim)\n",
    "psim <- gather(psim, variable, value, -n)\n",
    "\n",
    "p3 <- ggplot(psim, aes(n, value, linetype=variable)) + \n",
    " geom_line() + \n",
    " labs(title=\"VAR(1) model with 2 variables\", x=\"\", y=\"\")\n",
    "\n",
    "data <- irf(m, nsteps = 12, n.ahead=20)\n",
    "variables <- data$irf %>% names\n",
    "\n",
    "#### Function to extract IRF data ####\n",
    "ir <- lapply(1:length(variables), function(e){\n",
    "    data_to_plot <- data.frame(data %>% `$`(irf) %>% `[[`(variables[e])) %>%\n",
    "      mutate(\"t\" = 1:NROW(.)) %>%\n",
    "      gather(.,Variable, Value, -t)\n",
    "\n",
    "    upper_ci <- data.frame(data %>% `$`(Upper) %>% `[[`(variables[e])) %>%\n",
    "      mutate(\"t\" = 1:NROW(.)) %>%\n",
    "      gather(.,Variable, Upper, -t)\n",
    "\n",
    "    lower_ci <- data.frame(data %>% `$`(Lower) %>% `[[`(variables[e]) ) %>%\n",
    "      mutate(\"t\" = 1:NROW(.)) %>%\n",
    "      gather(.,Variable, Lower, -t)\n",
    "\n",
    "    res <- inner_join(data_to_plot, upper_ci, c(\"t\",\"Variable\")) %>%\n",
    "           inner_join(.,lower_ci, c(\"t\",\"Variable\")) %>%\n",
    "           mutate(impulse = paste(\"Shock to\", variables[e])) \n",
    "}) %>% bind_rows\n",
    "######################################\n",
    "\n",
    "p4 <- ggplot(ir, aes(x = t, y = Value, group = Variable))  +\n",
    "  geom_line() +\n",
    "  geom_ribbon(aes(x=t, ymax=Upper, ymin=Lower), alpha=0.2) +\n",
    "  scale_x_continuous(limits = c(0,21), breaks = seq(0,20,2)) +\n",
    "  scale_y_continuous(\"\", position=\"right\") +\n",
    "  labs(title=\"Impulse Response Functions\", x=\"\") +\n",
    "  facet_grid(Variable ~ impulse, scales=\"free\", switch=\"y\")\n",
    "\n",
    "print(p3)\n",
    "print(p4)"
   ]
  },
  {
   "cell_type": "code",
   "execution_count": 224,
   "metadata": {},
   "outputs": [
    {
     "data": {
      "text/plain": [
       "\n",
       "VAR Estimation Results:\n",
       "======================= \n",
       "\n",
       "Estimated coefficients for equation zt: \n",
       "======================================= \n",
       "Call:\n",
       "zt = zt.l1 + yt.l1 + const \n",
       "\n",
       "      zt.l1       yt.l1       const \n",
       " 0.71681439 -0.20681215  0.03664302 \n",
       "\n",
       "\n",
       "Estimated coefficients for equation yt: \n",
       "======================================= \n",
       "Call:\n",
       "yt = zt.l1 + yt.l1 + const \n",
       "\n",
       "       zt.l1        yt.l1        const \n",
       "-0.229861544  0.685698094  0.006068999 \n",
       "\n"
      ]
     },
     "metadata": {},
     "output_type": "display_data"
    }
   ],
   "source": [
    "m"
   ]
  }
 ],
 "metadata": {
  "kernelspec": {
   "display_name": "R",
   "language": "R",
   "name": "ir"
  },
  "language_info": {
   "codemirror_mode": "r",
   "file_extension": ".r",
   "mimetype": "text/x-r-source",
   "name": "R",
   "pygments_lexer": "r",
   "version": "3.5.1"
  }
 },
 "nbformat": 4,
 "nbformat_minor": 2
}
