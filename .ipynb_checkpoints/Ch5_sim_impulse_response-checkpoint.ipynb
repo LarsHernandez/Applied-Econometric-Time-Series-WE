{
 "cells": [
  {
   "cell_type": "markdown",
   "metadata": {},
   "source": [
    "# Impulse Response Function"
   ]
  },
  {
   "cell_type": "code",
   "execution_count": 43,
   "metadata": {},
   "outputs": [],
   "source": [
    "library(tidyverse) # readr, ggplot, dplyr, ...\n",
    "library(gridExtra) # Arrangning ggplots\n",
    "library(readxl)    # Loading excel\n",
    "library(repr)      # Resizing the plots in jupyter\n",
    "library(rugarch)   # For ARCH and GARCH models\n",
    "library(dynlm)     # Lagged linear models\n",
    "library(urca)      # Dick Fuller test\n",
    "library(car)       # Linear hyphothesis testing\n",
    "library(tseries)   # adf-test\n",
    "library(vars)      # VAR models\n",
    "library(zoo)       # Convert quarters to date\n",
    "library(forecast)  \n",
    "\n",
    "options(repr.plot.width=5, repr.plot.height=2.5)"
   ]
  },
  {
   "cell_type": "markdown",
   "metadata": {},
   "source": [
    "## Define usefull function"
   ]
  },
  {
   "cell_type": "code",
   "execution_count": 17,
   "metadata": {},
   "outputs": [],
   "source": [
    "irf_lars <- function(x) {\n",
    "    m <- VAR(x, p = 1, type = \"const\")\n",
    "    hej <- ncol(x)\n",
    "    chart_title <- substitute(paste(\"VAR(1) model with \", hej,\" variables\"))\n",
    "psim <- as.data.frame(x)\n",
    "psim$n <- c(1:nsim)\n",
    "psim <- gather(psim, variable, value, -n)\n",
    "\n",
    "p1 <- ggplot(psim, aes(n, value, linetype=variable)) + \n",
    " geom_line(color=\"#045a8d\") + \n",
    " labs(title=chart_title, x=\"\", y=\"\")\n",
    "\n",
    "data <- irf(m, nsteps = 12, n.ahead=20)\n",
    "variables <- data$irf %>% names\n",
    "\n",
    "ir <- lapply(1:length(variables), function(e){\n",
    "    data_to_plot <- data.frame(data %>% `$`(irf) %>% `[[`(variables[e])) %>%\n",
    "      mutate(\"t\" = 1:NROW(.)) %>%\n",
    "      gather(.,Variable, Value, -t)\n",
    "\n",
    "    upper_ci <- data.frame(data %>% `$`(Upper) %>% `[[`(variables[e])) %>%\n",
    "      mutate(\"t\" = 1:NROW(.)) %>%\n",
    "      gather(.,Variable, Upper, -t)\n",
    "\n",
    "    lower_ci <- data.frame(data %>% `$`(Lower) %>% `[[`(variables[e]) ) %>%\n",
    "      mutate(\"t\" = 1:NROW(.)) %>%\n",
    "      gather(.,Variable, Lower, -t)\n",
    "\n",
    "    res <- inner_join(data_to_plot, upper_ci, c(\"t\",\"Variable\")) %>%\n",
    "           inner_join(.,lower_ci, c(\"t\",\"Variable\")) %>%\n",
    "           mutate(impulse = paste(\"Shock to\", variables[e])) \n",
    "}) %>% bind_rows\n",
    "\n",
    "p2 <- ggplot(ir, aes(x = t, y = Value, group = Variable))  +\n",
    "  geom_line(color=\"#045a8d\") +\n",
    "  geom_ribbon(aes(x=t, ymax=Upper, ymin=Lower), alpha=0.15, fill=\"#045a8d\") +\n",
    "  scale_x_continuous(limits = c(0,21), breaks = seq(0,20,2)) +\n",
    "  scale_y_continuous(\"\", position=\"right\") +\n",
    "  labs(title=\"Impulse Response Functions\", x=\"\") +\n",
    "  facet_grid(Variable ~ impulse, scales=\"free\", switch=\"y\")\n",
    "\n",
    "print(p1); print(p2)\n",
    "}"
   ]
  },
  {
   "cell_type": "markdown",
   "metadata": {},
   "source": [
    "Important both models are limited in that they contain a identification restriction\n",
    "$$ e_{1t} = \\varepsilon_{yt} - b_{12}\\varepsilon_{zt}$$\n",
    "$$ e_{2t} = \\varepsilon_{zt} $$\n",
    "This means that there is no contemporary effect from $y_t$ to $z_t$ but only the other way round. In effect this is implemented as:\n",
    "$$ e_{1t} = \\varepsilon_{yt} + 0.8\\varepsilon_{zt}$$\n",
    "$$ e_{2t} = \\varepsilon_{zt} $$"
   ]
  },
  {
   "cell_type": "markdown",
   "metadata": {},
   "source": [
    "# First model - positive off-diagonal elements of $A_1$"
   ]
  },
  {
   "cell_type": "markdown",
   "metadata": {},
   "source": [
    "$$\n",
    "\\begin{bmatrix} y_t \\\\ z_t \\end{bmatrix}\n",
    "=\n",
    "\\begin{bmatrix} 0.7 & 0.2 \\\\ 0.2 & 0.7 \\end{bmatrix}\n",
    "\\cdot\n",
    "\\begin{bmatrix} y_{t-1} \\\\ z_{t-1} \\end{bmatrix}\n",
    "+\n",
    "\\begin{bmatrix} e_{1t} \\\\ e_{2t} \\end{bmatrix}\n",
    "$$"
   ]
  },
  {
   "cell_type": "code",
   "execution_count": 45,
   "metadata": {},
   "outputs": [],
   "source": [
    "yt <- c(0)\n",
    "zt <- c(0)\n",
    "nsim <- 200\n",
    "\n",
    "for (i in 2:nsim) {\n",
    "    ey <- rnorm(1)\n",
    "    ez <- rnorm(1)\n",
    "    yt[i] <- 0.7*yt[i-1] + 0.2*zt[i-1] + (ey+0.8*ez)\n",
    "    zt[i] <- 0.7*zt[i-1] + 0.2*yt[i-1] + (ez)\n",
    "}\n",
    "sim <- cbind(zt, yt)"
   ]
  },
  {
   "cell_type": "code",
   "execution_count": 46,
   "metadata": {},
   "outputs": [
    {
     "data": {
      "image/png": "[encoded data removed]",
      "text/plain": [
       "plot without title"
      ]
     },
     "metadata": {},
     "output_type": "display_data"
    },
    {
     "data": {
      "image/png": "[encoded data removed]",
      "text/plain": [
       "plot without title"
      ]
     },
     "metadata": {},
     "output_type": "display_data"
    }
   ],
   "source": [
    "irf_lars(sim)"
   ]
  },
  {
   "cell_type": "code",
   "execution_count": 9,
   "metadata": {},
   "outputs": [
    {
     "data": {
      "text/plain": [
       "\n",
       "VAR Estimation Results:\n",
       "======================= \n",
       "\n",
       "Estimated coefficients for equation zt: \n",
       "======================================= \n",
       "Call:\n",
       "zt = zt.l1 + yt.l1 + const \n",
       "\n",
       "       zt.l1        yt.l1        const \n",
       " 0.740424445  0.131290416 -0.007898239 \n",
       "\n",
       "\n",
       "Estimated coefficients for equation yt: \n",
       "======================================= \n",
       "Call:\n",
       "yt = zt.l1 + yt.l1 + const \n",
       "\n",
       "     zt.l1      yt.l1      const \n",
       " 0.2505384  0.6572646 -0.0589990 \n",
       "\n"
      ]
     },
     "metadata": {},
     "output_type": "display_data"
    }
   ],
   "source": [
    "VAR(sim, p = 1, type = \"const\")"
   ]
  },
  {
   "cell_type": "markdown",
   "metadata": {},
   "source": [
    "# Second model - negative off-diagonal elements of $A_1$"
   ]
  },
  {
   "cell_type": "markdown",
   "metadata": {},
   "source": [
    "$$\n",
    "\\begin{bmatrix} y_t \\\\ z_t \\end{bmatrix}\n",
    "=\n",
    "\\begin{bmatrix} 0.7 & -0.2 \\\\ -0.2 & 0.7 \\end{bmatrix}\n",
    "\\cdot\n",
    "\\begin{bmatrix} y_{t-1} \\\\ z_{t-1} \\end{bmatrix}\n",
    "+\n",
    "\\begin{bmatrix} e_{1t} \\\\ e_{2t} \\end{bmatrix}\n",
    "$$"
   ]
  },
  {
   "cell_type": "code",
   "execution_count": 10,
   "metadata": {},
   "outputs": [],
   "source": [
    "yt <- c(0)\n",
    "zt <- c(0)\n",
    "nsim <- 200\n",
    "\n",
    "for (i in 2:nsim) {\n",
    "    ey <- rnorm(1) \n",
    "    ez <- rnorm(1)\n",
    "    yt[i] <- 0.7*yt[i-1] - 0.2*zt[i-1] + (ey + 0.8*ez)\n",
    "    zt[i] <- 0.7*zt[i-1] - 0.2*yt[i-1] + (ez)\n",
    "}\n",
    "sim2 <- cbind(zt, yt)"
   ]
  },
  {
   "cell_type": "code",
   "execution_count": 11,
   "metadata": {},
   "outputs": [
    {
     "data": {
      "image/png": "[encoded data removed]",
      "text/plain": [
       "plot without title"
      ]
     },
     "metadata": {},
     "output_type": "display_data"
    },
    {
     "data": {
      "image/png": "[encoded data removed]",
      "text/plain": [
       "plot without title"
      ]
     },
     "metadata": {},
     "output_type": "display_data"
    }
   ],
   "source": [
    "irf_lars(sim2)"
   ]
  },
  {
   "cell_type": "code",
   "execution_count": 12,
   "metadata": {},
   "outputs": [
    {
     "data": {
      "text/plain": [
       "\n",
       "VAR Estimation Results:\n",
       "======================= \n",
       "\n",
       "Estimated coefficients for equation zt: \n",
       "======================================= \n",
       "Call:\n",
       "zt = zt.l1 + yt.l1 + const \n",
       "\n",
       "      zt.l1       yt.l1       const \n",
       " 0.70175363 -0.19659864 -0.03804027 \n",
       "\n",
       "\n",
       "Estimated coefficients for equation yt: \n",
       "======================================= \n",
       "Call:\n",
       "yt = zt.l1 + yt.l1 + const \n",
       "\n",
       "      zt.l1       yt.l1       const \n",
       "-0.18112457  0.75775177 -0.08159787 \n",
       "\n"
      ]
     },
     "metadata": {},
     "output_type": "display_data"
    }
   ],
   "source": [
    "VAR(sim2, p = 1, type = \"const\")"
   ]
  },
  {
   "cell_type": "code",
   "execution_count": 13,
   "metadata": {},
   "outputs": [],
   "source": [
    "#m <- VAR(as.ts(sim2), p = 1, type = \"const\")\n",
    "#forecast(m) %>% autoplot()"
   ]
  },
  {
   "cell_type": "code",
   "execution_count": null,
   "metadata": {},
   "outputs": [],
   "source": []
  },
  {
   "cell_type": "code",
   "execution_count": null,
   "metadata": {},
   "outputs": [],
   "source": []
  },
  {
   "cell_type": "markdown",
   "metadata": {},
   "source": [
    "# VAR model with three variables\n",
    "\n",
    "This could be like this: \n",
    "\n",
    "$$\n",
    "\\begin{bmatrix} y_t \\\\ z_t \\\\ x_t \\end{bmatrix}\n",
    "=\n",
    "\\begin{bmatrix} 0.5 & 0.2 & 0.1 \\\\ 0.2 & 0.1 & 0.1 \\\\ 0.1 & 0.3 & 0.9 \\end{bmatrix}\n",
    "\\cdot\n",
    "\\begin{bmatrix} y_{t-1} \\\\ z_{t-1} \\\\ x_{t-1} \\end{bmatrix}\n",
    "+\n",
    "\\begin{bmatrix} e_{1t} \\\\ e_{2t} \\\\ e_{3t} \\end{bmatrix}\n",
    "$$\n",
    "\n",
    "\n",
    "First we need to check a system of equations which is stationary"
   ]
  },
  {
   "cell_type": "code",
   "execution_count": 14,
   "metadata": {},
   "outputs": [
    {
     "data": {
      "text/html": [
       "<table>\n",
       "<tbody>\n",
       "\t<tr><td>0.5</td><td>0.2</td><td>0.1</td></tr>\n",
       "\t<tr><td>0.2</td><td>0.1</td><td>0.1</td></tr>\n",
       "\t<tr><td>0.1</td><td>0.3</td><td>0.9</td></tr>\n",
       "</tbody>\n",
       "</table>\n"
      ],
      "text/latex": [
       "\\begin{tabular}{lll}\n",
       "\t 0.5 & 0.2 & 0.1\\\\\n",
       "\t 0.2 & 0.1 & 0.1\\\\\n",
       "\t 0.1 & 0.3 & 0.9\\\\\n",
       "\\end{tabular}\n"
      ],
      "text/markdown": [
       "\n",
       "| 0.5 | 0.2 | 0.1 | \n",
       "| 0.2 | 0.1 | 0.1 | \n",
       "| 0.1 | 0.3 | 0.9 | \n",
       "\n",
       "\n"
      ],
      "text/plain": [
       "     [,1] [,2] [,3]\n",
       "[1,] 0.5  0.2  0.1 \n",
       "[2,] 0.2  0.1  0.1 \n",
       "[3,] 0.1  0.3  0.9 "
      ]
     },
     "metadata": {},
     "output_type": "display_data"
    },
    {
     "name": "stdout",
     "output_type": "stream",
     "text": [
      "[1] 0.981341767 0.516686024 0.001972209\n"
     ]
    }
   ],
   "source": [
    "yy=0.5; yz=0.2; yx=0.1\n",
    "zy=0.2; zz=0.1; zx=0.1\n",
    "xy=0.1; xz=0.3; xx=0.9\n",
    "\n",
    "ma <- matrix(c(yy, yz, yx,\n",
    "               zy, zz, zx,\n",
    "               xy, xz, xx), nrow=3, byrow=T)\n",
    "ma\n",
    "\n",
    "print(Mod(eigen(ma)$values))"
   ]
  },
  {
   "cell_type": "markdown",
   "metadata": {},
   "source": [
    "If the values are all within unity we can proceed"
   ]
  },
  {
   "cell_type": "code",
   "execution_count": 15,
   "metadata": {},
   "outputs": [
    {
     "data": {
      "image/png": "[encoded data removed]",
      "text/plain": [
       "plot without title"
      ]
     },
     "metadata": {},
     "output_type": "display_data"
    },
    {
     "data": {
      "image/png": "[encoded data removed]",
      "text/plain": [
       "plot without title"
      ]
     },
     "metadata": {},
     "output_type": "display_data"
    }
   ],
   "source": [
    "yt <- c(0)\n",
    "zt <- c(0)\n",
    "xt <- c(0)\n",
    "nsim <- 200\n",
    "\n",
    "for (i in 2:nsim) {\n",
    "    ey <- rnorm(1) \n",
    "    ez <- rnorm(1)\n",
    "    ex <- rnorm(1)\n",
    "    yt[i] <- yy*yt[i-1] + yz*zt[i-1] + yx*xt[i-1] + ey\n",
    "    zt[i] <- zy*yt[i-1] + zz*zt[i-1] + zx*xt[i-1] + ez\n",
    "    xt[i] <- xy*yt[i-1] + xz*zt[i-1] + xx*xt[i-1] + ex\n",
    "}\n",
    "sim <- cbind(zt, yt, xt)\n",
    "\n",
    "irf_lars(sim)"
   ]
  },
  {
   "cell_type": "markdown",
   "metadata": {},
   "source": [
    "## How manny lags do the vars package suggest by different selection models?\n",
    "The answer is by no surprise 1, as we simulates data with 1 lag."
   ]
  },
  {
   "cell_type": "code",
   "execution_count": 16,
   "metadata": {},
   "outputs": [
    {
     "name": "stdout",
     "output_type": "stream",
     "text": [
      "AIC(n)  HQ(n)  SC(n) FPE(n) \n",
      "     1      1      1      1 \n"
     ]
    }
   ],
   "source": [
    "print(VARselect(sim, lag.max=8, type=\"const\")[[\"selection\"]])"
   ]
  },
  {
   "cell_type": "code",
   "execution_count": 17,
   "metadata": {},
   "outputs": [],
   "source": [
    "#m <- VAR(as.ts(sim), p = 1, type = \"const\")\n",
    "#forecast(m) %>% autoplot()"
   ]
  },
  {
   "cell_type": "code",
   "execution_count": null,
   "metadata": {},
   "outputs": [],
   "source": []
  },
  {
   "cell_type": "markdown",
   "metadata": {},
   "source": [
    "# SVAR model with three variables\n",
    "First i calculate the number of restricted paramatres i need"
   ]
  },
  {
   "cell_type": "code",
   "execution_count": 18,
   "metadata": {},
   "outputs": [
    {
     "data": {
      "text/html": [
       "3"
      ],
      "text/latex": [
       "3"
      ],
      "text/markdown": [
       "3"
      ],
      "text/plain": [
       "[1] 3"
      ]
     },
     "metadata": {},
     "output_type": "display_data"
    }
   ],
   "source": [
    "n <- 3\n",
    "(n^2-n)/2"
   ]
  },
  {
   "cell_type": "code",
   "execution_count": 40,
   "metadata": {},
   "outputs": [
    {
     "name": "stdout",
     "output_type": "stream",
     "text": [
      "[1] 0.981341767 0.516686024 0.001972209\n"
     ]
    }
   ],
   "source": [
    "rm(ey); rm(ex); rm(ez)\n",
    "\n",
    "yy=0.5; yz=0.2; yx=0.1\n",
    "zy=0.2; zz=0.1; zx=0.1\n",
    "xy=0.1; xz=0.3; xx=0.9\n",
    "\n",
    "ma <- matrix(c(yy, yz, yx,\n",
    "               zy, zz, zx,\n",
    "               xy, xz, xx), nrow=3, byrow=T)\n",
    "\n",
    "print(Mod(eigen(ma)$values))\n",
    "\n",
    "yt <- c(0)\n",
    "zt <- c(0)\n",
    "xt <- c(0)\n",
    "nsim <- 2000\n",
    "\n",
    "for (i in 2:nsim) {\n",
    "    ey <- rnorm(1) \n",
    "    ez <- rnorm(1) + 0.8*ey\n",
    "    ex <- rnorm(1) + 0.8*ey + 0.8*ez\n",
    "    yt[i] <- yy*yt[i-1] + yz*zt[i-1] + yx*xt[i-1] + ey\n",
    "    zt[i] <- zy*yt[i-1] + zz*zt[i-1] + zx*xt[i-1] + ez\n",
    "    xt[i] <- xy*yt[i-1] + xz*zt[i-1] + xx*xt[i-1] + ex\n",
    "}\n",
    "sim <- cbind(zt, yt, xt)"
   ]
  },
  {
   "cell_type": "code",
   "execution_count": 41,
   "metadata": {},
   "outputs": [
    {
     "data": {
      "image/png": "[encoded data removed]",
      "text/plain": [
       "plot without title"
      ]
     },
     "metadata": {},
     "output_type": "display_data"
    },
    {
     "data": {
      "image/png": "[encoded data removed]",
      "text/plain": [
       "plot without title"
      ]
     },
     "metadata": {},
     "output_type": "display_data"
    }
   ],
   "source": [
    "irf_lars(sim)"
   ]
  },
  {
   "cell_type": "code",
   "execution_count": 42,
   "metadata": {},
   "outputs": [
    {
     "data": {
      "text/html": [
       "<table>\n",
       "<tbody>\n",
       "\t<tr><td>NA</td><td> 0</td><td> 0</td></tr>\n",
       "\t<tr><td>NA</td><td>NA</td><td> 0</td></tr>\n",
       "\t<tr><td>NA</td><td>NA</td><td>NA</td></tr>\n",
       "</tbody>\n",
       "</table>\n"
      ],
      "text/latex": [
       "\\begin{tabular}{lll}\n",
       "\t NA &  0 &  0\\\\\n",
       "\t NA & NA &  0\\\\\n",
       "\t NA & NA & NA\\\\\n",
       "\\end{tabular}\n"
      ],
      "text/markdown": [
       "\n",
       "| NA |  0 |  0 | \n",
       "| NA | NA |  0 | \n",
       "| NA | NA | NA | \n",
       "\n",
       "\n"
      ],
      "text/plain": [
       "     [,1] [,2] [,3]\n",
       "[1,] NA    0    0  \n",
       "[2,] NA   NA    0  \n",
       "[3,] NA   NA   NA  "
      ]
     },
     "metadata": {},
     "output_type": "display_data"
    },
    {
     "name": "stderr",
     "output_type": "stream",
     "text": [
      "Warning message in SVAR(m, estmethod = \"direct\", Amat = amat):\n",
      "\"The A-model is just identified. No test possible.\""
     ]
    },
    {
     "data": {
      "text/plain": [
       "\n",
       "SVAR Estimation Results:\n",
       "======================== \n",
       "\n",
       "Call:\n",
       "SVAR(x = m, estmethod = \"direct\", Amat = amat)\n",
       "\n",
       "Type: A-model \n",
       "Sample size: 1993 \n",
       "Log Likelihood: -8517.246 \n",
       "Method: direct \n",
       "Number of iterations: 501 \n",
       "Convergence code: 1 \n",
       "\n",
       "Estimated A matrix:\n",
       "        zt     yt     xt\n",
       "zt  0.7544  0.000 0.0000\n",
       "yt -0.6076  1.304 0.0000\n",
       "xt -0.8195 -0.692 0.9997\n",
       "\n",
       "Estimated B matrix:\n",
       "   zt yt xt\n",
       "zt  1  0  0\n",
       "yt  0  1  0\n",
       "xt  0  0  1\n",
       "\n",
       "Covariance matrix of reduced form residuals (*100):\n",
       "       zt     yt    xt\n",
       "zt 175.71  81.88 200.7\n",
       "yt  81.88  96.97 134.2\n",
       "xt 200.71 134.24 357.5"
      ]
     },
     "metadata": {},
     "output_type": "display_data"
    }
   ],
   "source": [
    "m <- VAR(sim, p = 7, type = \"const\")\n",
    "\n",
    "amat = diag(3)\n",
    "diag(amat) = NA\n",
    "amat[2,1] = NA\n",
    "amat[3, ] = NA\n",
    "amat\n",
    "svar_m = SVAR(m, estmethod=\"direct\", Amat = amat) \n",
    "summary(svar_m)"
   ]
  },
  {
   "cell_type": "code",
   "execution_count": null,
   "metadata": {},
   "outputs": [],
   "source": []
  },
  {
   "cell_type": "code",
   "execution_count": null,
   "metadata": {},
   "outputs": [],
   "source": []
  },
  {
   "cell_type": "code",
   "execution_count": null,
   "metadata": {},
   "outputs": [],
   "source": []
  }
 ],
 "metadata": {
  "kernelspec": {
   "display_name": "R",
   "language": "R",
   "name": "ir"
  },
  "language_info": {
   "codemirror_mode": "r",
   "file_extension": ".r",
   "mimetype": "text/x-r-source",
   "name": "R",
   "pygments_lexer": "r",
   "version": "3.5.1"
  }
 },
 "nbformat": 4,
 "nbformat_minor": 2
}
