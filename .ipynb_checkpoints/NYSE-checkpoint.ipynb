{
 "cells": [
  {
   "cell_type": "code",
   "execution_count": 2,
   "metadata": {},
   "outputs": [],
   "source": [
    "library(readr)\n",
    "library(forecast)\n",
    "library(repr) # Resizing the plots in jupyter\n",
    "library(rugarch) \n",
    "library(readxl)\n",
    "library(dynlm)\n",
    "library(Hmisc)\n",
    "\n",
    "options(repr.plot.width=8, repr.plot.height=2.5)\n",
    "\n",
    "setwd(\"C:/Users/larsn/Documents/GitHub/Applied-Econometric-Time-Series-WE\")"
   ]
  },
  {
   "cell_type": "code",
   "execution_count": null,
   "metadata": {},
   "outputs": [],
   "source": [
    "nyse <- read_delim(\"Data/nyse.csv\",\";\", escape_double = FALSE, trim_ws = TRUE)"
   ]
  },
  {
   "cell_type": "code",
   "execution_count": 8,
   "metadata": {},
   "outputs": [
    {
     "data": {
      "text/html": [
       "<table>\n",
       "<thead><tr><th scope=col>DATE</th><th scope=col>CLOSING</th><th scope=col>RETURN</th><th scope=col>X4</th><th scope=col>X5</th></tr></thead>\n",
       "<tbody>\n",
       "\t<tr><td>03-01-2000</td><td>686203    </td><td>736306    </td><td>NA        </td><td>NA        </td></tr>\n",
       "\t<tr><td>04-01-2000</td><td>659367    </td><td> 70751    </td><td>NA        </td><td>NA        </td></tr>\n",
       "\t<tr><td>05-01-2000</td><td>655218    </td><td>703084    </td><td>NA        </td><td>NA        </td></tr>\n",
       "\t<tr><td>06-01-2000</td><td>634616    </td><td>680977    </td><td>NA        </td><td>NA        </td></tr>\n",
       "\t<tr><td>07-01-2000</td><td>656776    </td><td>704756    </td><td>NA        </td><td>NA        </td></tr>\n",
       "\t<tr><td>10-01-2000</td><td>668074    </td><td>716879    </td><td>NA        </td><td>NA        </td></tr>\n",
       "</tbody>\n",
       "</table>\n"
      ],
      "text/latex": [
       "\\begin{tabular}{r|lllll}\n",
       " DATE & CLOSING & RETURN & X4 & X5\\\\\n",
       "\\hline\n",
       "\t 03-01-2000 & 686203     & 736306     & NA         & NA        \\\\\n",
       "\t 04-01-2000 & 659367     &  70751     & NA         & NA        \\\\\n",
       "\t 05-01-2000 & 655218     & 703084     & NA         & NA        \\\\\n",
       "\t 06-01-2000 & 634616     & 680977     & NA         & NA        \\\\\n",
       "\t 07-01-2000 & 656776     & 704756     & NA         & NA        \\\\\n",
       "\t 10-01-2000 & 668074     & 716879     & NA         & NA        \\\\\n",
       "\\end{tabular}\n"
      ],
      "text/markdown": [
       "\n",
       "DATE | CLOSING | RETURN | X4 | X5 | \n",
       "|---|---|---|---|---|---|\n",
       "| 03-01-2000 | 686203     | 736306     | NA         | NA         | \n",
       "| 04-01-2000 | 659367     |  70751     | NA         | NA         | \n",
       "| 05-01-2000 | 655218     | 703084     | NA         | NA         | \n",
       "| 06-01-2000 | 634616     | 680977     | NA         | NA         | \n",
       "| 07-01-2000 | 656776     | 704756     | NA         | NA         | \n",
       "| 10-01-2000 | 668074     | 716879     | NA         | NA         | \n",
       "\n",
       "\n"
      ],
      "text/plain": [
       "  DATE       CLOSING RETURN X4 X5\n",
       "1 03-01-2000 686203  736306 NA NA\n",
       "2 04-01-2000 659367   70751 NA NA\n",
       "3 05-01-2000 655218  703084 NA NA\n",
       "4 06-01-2000 634616  680977 NA NA\n",
       "5 07-01-2000 656776  704756 NA NA\n",
       "6 10-01-2000 668074  716879 NA NA"
      ]
     },
     "metadata": {},
     "output_type": "display_data"
    }
   ],
   "source": [
    "head(nyse)"
   ]
  },
  {
   "cell_type": "code",
   "execution_count": 17,
   "metadata": {},
   "outputs": [
    {
     "data": {
      "text/plain": [
       "\n",
       "*---------------------------------*\n",
       "*          GARCH Model Fit        *\n",
       "*---------------------------------*\n",
       "\n",
       "Conditional Variance Dynamics \t\n",
       "-----------------------------------\n",
       "GARCH Model\t: sGARCH(1,1)\n",
       "Mean Model\t: ARFIMA(2,0,0)\n",
       "Distribution\t: norm \n",
       "\n",
       "Optimal Parameters\n",
       "------------------------------------\n",
       "        Estimate  Std. Error     t value Pr(>|t|)\n",
       "mu      0.000077    0.009704    0.007931 0.993672\n",
       "ar1    -0.654859    0.020291  -32.273420 0.000000\n",
       "ar2    -0.348921    0.020291  -17.195507 0.000000\n",
       "omega   0.003620    0.000958    3.777962 0.000158\n",
       "alpha1  0.000000    0.001202    0.000004 0.999997\n",
       "beta1   0.995515    0.000134 7405.771237 0.000000\n",
       "\n",
       "Robust Standard Errors:\n",
       "        Estimate  Std. Error     t value Pr(>|t|)\n",
       "mu      0.000077    0.004236    0.018165 0.985507\n",
       "ar1    -0.654859    0.021428  -30.560784 0.000000\n",
       "ar2    -0.348921    0.017677  -19.739101 0.000000\n",
       "omega   0.003620    0.002139    1.692483 0.090554\n",
       "alpha1  0.000000    0.002647    0.000002 0.999998\n",
       "beta1   0.995515    0.000108 9247.723272 0.000000\n",
       "\n",
       "LogLikelihood : -2808.68 \n",
       "\n",
       "Information Criteria\n",
       "------------------------------------\n",
       "                   \n",
       "Akaike       2.6220\n",
       "Bayes        2.6378\n",
       "Shibata      2.6220\n",
       "Hannan-Quinn 2.6278\n",
       "\n",
       "Weighted Ljung-Box Test on Standardized Residuals\n",
       "------------------------------------\n",
       "                        statistic   p-value\n",
       "Lag[1]                      15.38 8.811e-05\n",
       "Lag[2*(p+q)+(p+q)-1][5]    132.73 0.000e+00\n",
       "Lag[4*(p+q)+(p+q)-1][9]    159.83 0.000e+00\n",
       "d.o.f=2\n",
       "H0 : No serial correlation\n",
       "\n",
       "Weighted Ljung-Box Test on Standardized Squared Residuals\n",
       "------------------------------------\n",
       "                        statistic   p-value\n",
       "Lag[1]                      25.17 5.238e-07\n",
       "Lag[2*(p+q)+(p+q)-1][5]     46.30 7.289e-13\n",
       "Lag[4*(p+q)+(p+q)-1][9]     51.76 3.212e-13\n",
       "d.o.f=2\n",
       "\n",
       "Weighted ARCH LM Tests\n",
       "------------------------------------\n",
       "            Statistic Shape Scale   P-Value\n",
       "ARCH Lag[3]     22.20 0.500 2.000 2.463e-06\n",
       "ARCH Lag[5]     22.74 1.440 1.667 4.370e-06\n",
       "ARCH Lag[7]     23.31 2.315 1.543 9.033e-06\n",
       "\n",
       "Nyblom stability test\n",
       "------------------------------------\n",
       "Joint Statistic:  0.4818\n",
       "Individual Statistics:                \n",
       "mu     0.0008339\n",
       "ar1    0.0287557\n",
       "ar2    0.0237582\n",
       "omega  0.0408062\n",
       "alpha1 0.0518835\n",
       "beta1  0.0408107\n",
       "\n",
       "Asymptotic Critical Values (10% 5% 1%)\n",
       "Joint Statistic:     \t 1.49 1.68 2.12\n",
       "Individual Statistic:\t 0.35 0.47 0.75\n",
       "\n",
       "Sign Bias Test\n",
       "------------------------------------\n",
       "                   t-value      prob sig\n",
       "Sign Bias           0.4063 6.846e-01    \n",
       "Negative Sign Bias  4.1683 3.190e-05 ***\n",
       "Positive Sign Bias  3.5046 4.667e-04 ***\n",
       "Joint Effect       29.8932 1.453e-06 ***\n",
       "\n",
       "\n",
       "Adjusted Pearson Goodness-of-Fit Test:\n",
       "------------------------------------\n",
       "  group statistic p-value(g-1)\n",
       "1    20      8849            0\n",
       "2    30     14177            0\n",
       "3    40     19421            0\n",
       "4    50     24252            0\n",
       "\n",
       "\n",
       "Elapsed time : 0.421602 \n"
      ]
     },
     "metadata": {},
     "output_type": "display_data"
    }
   ],
   "source": [
    "spec <- ugarchspec(variance.model = list(model = \"sGARCH\", \n",
    "                                         garchOrder = c(1, 1),\n",
    "                                         variance.targeting = FALSE), \n",
    "\n",
    "                   mean.model     = list(armaOrder = c(2, 0), \n",
    "                                         external.regressors = NULL))\n",
    "\n",
    "ret <- as.ts(diff(log(nyse$RETURN)))\n",
    "\n",
    "m2 <- ugarchfit(spec = spec, \n",
    "                data = ret)\n",
    "m2"
   ]
  }
 ],
 "metadata": {
  "kernelspec": {
   "display_name": "R",
   "language": "R",
   "name": "ir"
  },
  "language_info": {
   "codemirror_mode": "r",
   "file_extension": ".r",
   "mimetype": "text/x-r-source",
   "name": "R",
   "pygments_lexer": "r",
   "version": "3.5.1"
  }
 },
 "nbformat": 4,
 "nbformat_minor": 2
}
