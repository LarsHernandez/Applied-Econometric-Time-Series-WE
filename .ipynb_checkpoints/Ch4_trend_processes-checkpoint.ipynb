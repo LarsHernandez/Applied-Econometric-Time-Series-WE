{
 "cells": [
  {
   "cell_type": "code",
   "execution_count": 241,
   "metadata": {},
   "outputs": [],
   "source": [
    "library(tidyverse)\n",
    "library(forecast)\n",
    "library(repr) # Resizing the plots in jupyter\n",
    "library(rugarch) \n",
    "library(readxl)\n",
    "library(dynlm)\n",
    "library(Hmisc)\n",
    "library(gridExtra)\n",
    "\n",
    "options(repr.plot.width=8, repr.plot.height=4)"
   ]
  },
  {
   "cell_type": "code",
   "execution_count": 229,
   "metadata": {},
   "outputs": [],
   "source": [
    "b <- cumsum(rnorm(100))\n",
    "x <- 1:100\n",
    "sd <- 1.96*sqrt(1:100)\n",
    "t <- 1\n",
    "\n",
    "df <- data.frame(x, b, sd, t)\n",
    "a1 <- ggplot(df, aes(x,b)) + \n",
    "geom_line() + \n",
    "geom_line(aes(x,t), color=\"red\") + \n",
    "geom_ribbon(aes(ymin=t-sd, ymax=t+sd), alpha=0.09, fill=\"red\") + \n",
    "labs(title=\"Random walk or stocastic trend\") +\n",
    "scale_y_continuous(limits=c(-25, 25))"
   ]
  },
  {
   "cell_type": "code",
   "execution_count": 227,
   "metadata": {},
   "outputs": [],
   "source": [
    "b <- cumsum(rnorm(100)+0.3)\n",
    "x <- 1:100\n",
    "sd <- 1.96 * sqrt(1:100)\n",
    "t <- 0.3*1:100\n",
    "\n",
    "df <- data.frame(x, b, sd, t)\n",
    "a2 <- ggplot(df, aes(x,b)) + \n",
    "geom_line() + \n",
    "geom_line(aes(x,t), color=\"red\") + \n",
    "geom_ribbon(aes(ymin=t-sd, ymax=t+sd), alpha=0.09, fill=\"red\") + \n",
    "labs(title=\"Random walk plus drift or unit root process\") + \n",
    "scale_y_continuous(limits=c(-10, 50))"
   ]
  },
  {
   "cell_type": "code",
   "execution_count": 224,
   "metadata": {},
   "outputs": [],
   "source": [
    "ny <- arima.sim(n = 100, list(ma = c(0.8, 0.4)))\n",
    "\n",
    "d <- 0\n",
    "sd <- sqrt(1^2*(1+0.8^2+0.4^2))*1.96\n",
    "df <- data.frame(x, ny, sd, d)\n",
    "\n",
    "a3 <- ggplot(df, aes(x,ny)) + \n",
    "geom_line() + \n",
    "geom_line(aes(x,d), color=\"red\") + \n",
    "geom_ribbon(aes(ymin=d-sd, ymax=d+sd), alpha=0.09, fill=\"red\") + \n",
    "labs(title=\"Stationary\") + \n",
    "scale_y_continuous(limits=c(-15, 15))"
   ]
  },
  {
   "cell_type": "code",
   "execution_count": 242,
   "metadata": {},
   "outputs": [],
   "source": [
    "t <- 1:100\n",
    "ny <- arima.sim(n = 100, list(ma = c(0.8, 0.4)))\n",
    "ny <- ny + t*0.2\n",
    "\n",
    "d <- 0 + t*0.2\n",
    "sd <- sqrt(1^2*(1+0.8^2+0.4^2))*1.96\n",
    "df <- data.frame(x, ny, sd, d)\n",
    "\n",
    "a4 <- ggplot(df, aes(x,ny)) + \n",
    "geom_line() + \n",
    "geom_line(aes(x,d), color=\"red\") + \n",
    "geom_ribbon(aes(ymin=d-sd, ymax=d+sd), alpha=0.09, fill=\"red\") + \n",
    "labs(title=\"Trend stationary (deterministic trend)\") +\n",
    "scale_y_continuous(limits=c(-5, 25))"
   ]
  },
  {
   "cell_type": "markdown",
   "metadata": {},
   "source": [
    "# Random walk == process with stocastic trend == Unit root process"
   ]
  },
  {
   "cell_type": "code",
   "execution_count": 240,
   "metadata": {},
   "outputs": [
    {
     "data": {
      "image/png": "[encoded data removed]",
      "text/plain": [
       "plot without title"
      ]
     },
     "metadata": {},
     "output_type": "display_data"
    }
   ],
   "source": [
    "grid.arrange(a1,a2,a3,a4, ncol=2)"
   ]
  }
 ],
 "metadata": {
  "kernelspec": {
   "display_name": "R",
   "language": "R",
   "name": "ir"
  },
  "language_info": {
   "codemirror_mode": "r",
   "file_extension": ".r",
   "mimetype": "text/x-r-source",
   "name": "R",
   "pygments_lexer": "r",
   "version": "3.5.1"
  }
 },
 "nbformat": 4,
 "nbformat_minor": 2
}
