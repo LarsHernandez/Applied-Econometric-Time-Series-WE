{
 "cells": [
  {
   "cell_type": "markdown",
   "metadata": {},
   "source": [
    "# Exam 2017"
   ]
  },
  {
   "cell_type": "code",
   "execution_count": 2,
   "metadata": {},
   "outputs": [],
   "source": [
    "library(tidyverse) # readr, ggplot, dplyr, ...\n",
    "library(gridExtra) # Arrangning ggplots\n",
    "library(readxl)    # Loading excel\n",
    "library(repr)      # Resizing the plots in jupyter\n",
    "library(rugarch)   # For ARCH and GARCH models\n",
    "library(dynlm)     # Lagged linear models\n",
    "library(urca)      # Dick Fuller test\n",
    "library(car)       # Linear hyphothesis testing\n",
    "library(tseries)   # adf-test\n",
    "library(vars)      # VAR models\n",
    "library(zoo)       # Convert quarters to date\n",
    "library(forecast)  \n",
    "\n",
    "options(repr.plot.width=5, repr.plot.height=2.5)"
   ]
  },
  {
   "cell_type": "code",
   "execution_count": 3,
   "metadata": {},
   "outputs": [],
   "source": [
    "setwd(\"C:/Users/larsn/Documents/GitHub/Applied-Econometric-Time-Series-WE\")"
   ]
  },
  {
   "cell_type": "markdown",
   "metadata": {},
   "source": [
    "**Spørgsmål 1.1** \n",
    "Betragt nedenstående proces. Hvilken type proces er der tale om? Husk at forklare alle symboler.\n",
    "\n",
    "$$y_t = \\mu + \\varepsilon_t + \\beta_1\\varepsilon_{t-1} + \\beta_2\\varepsilon_{t-2} $$"
   ]
  },
  {
   "cell_type": "markdown",
   "metadata": {},
   "source": [
    "MA(2) process"
   ]
  },
  {
   "cell_type": "markdown",
   "metadata": {},
   "source": [
    "**Spørgsmål 1.2**\n",
    "Skriv udtrykket ved hjælp af lag operator notationen."
   ]
  },
  {
   "cell_type": "markdown",
   "metadata": {},
   "source": [
    "$$y_t = \\mu + \\varepsilon_t  + \\beta_1L\\varepsilon + \\beta_2L^2\\varepsilon $$ "
   ]
  },
  {
   "cell_type": "markdown",
   "metadata": {},
   "source": [
    "**Spørgsmål 1.3** Udled teoretisk den ubetingede (unconditional) middelværdi og varians for denne proces."
   ]
  },
  {
   "cell_type": "code",
   "execution_count": null,
   "metadata": {},
   "outputs": [],
   "source": []
  },
  {
   "cell_type": "markdown",
   "metadata": {},
   "source": [
    "**Spørgsmål 1.4**\n",
    "Udled teoretisk autokorrelationsfunctionen (ACF) og den partielle autokorrelationsfunktion (PACF)."
   ]
  },
  {
   "cell_type": "code",
   "execution_count": null,
   "metadata": {},
   "outputs": [],
   "source": []
  },
  {
   "cell_type": "markdown",
   "metadata": {},
   "source": [
    "**Spørgsmål 1.5**\n",
    "På baggrund af data i fanebladet \"opgave1\" i fillen benævnt dataExam2016.xlsx bedes du estimere og afbilde ACF og PACF. Hvilken type proces vurderer du der er tale om?"
   ]
  },
  {
   "cell_type": "markdown",
   "metadata": {},
   "source": [
    "**Spørgsmål 1.6**\n",
    "Antag at $\\mu = 1, \\beta_1 = 0.6, \\beta_2 = 0.2, \\sigma^2 = 1$ Sammenhold den analytiske ACF og PACF på baggrund af disse parametre med den estimerede i spørgsmålet ovenfor - er der overensstemmelse mellem disse? Hvorfor/hvorfor ikke?"
   ]
  },
  {
   "cell_type": "code",
   "execution_count": null,
   "metadata": {},
   "outputs": [],
   "source": []
  },
  {
   "cell_type": "code",
   "execution_count": null,
   "metadata": {},
   "outputs": [],
   "source": []
  },
  {
   "cell_type": "code",
   "execution_count": null,
   "metadata": {},
   "outputs": [],
   "source": []
  },
  {
   "cell_type": "code",
   "execution_count": null,
   "metadata": {},
   "outputs": [],
   "source": []
  },
  {
   "cell_type": "code",
   "execution_count": null,
   "metadata": {},
   "outputs": [],
   "source": []
  },
  {
   "cell_type": "code",
   "execution_count": null,
   "metadata": {},
   "outputs": [],
   "source": []
  },
  {
   "cell_type": "markdown",
   "metadata": {},
   "source": [
    "# Tidsvarierende volatilitet [20%]\n",
    "Denne opgave består af 2 dele. Den første del er overvejende teoretisk mens anden del i spørgsmål 2.5 har en mere implementerende karakter. Begge dele indgår ligeligt i vurderingen."
   ]
  },
  {
   "cell_type": "markdown",
   "metadata": {},
   "source": [
    "**Spørgsmål 2.1** Et eksempel på en økonometrisk model, der tillader tidsvarierende varians (tidsvarierende volatilitet) er GARCH modellen. Skriv de nødvendige ligninger op for en GARCH(1,1) model og redegør for, hvordan man kan se den tidsvarierende varians. Husk at beskrive symbolerne i ligningerne og eventuelle antagelser."
   ]
  },
  {
   "cell_type": "code",
   "execution_count": null,
   "metadata": {},
   "outputs": [],
   "source": []
  },
  {
   "cell_type": "markdown",
   "metadata": {},
   "source": [
    "**Spørgsmål 2.2** Hvilke restriktioner på parametrene skal være opfyldt for at GARCH modellen er stationær?"
   ]
  },
  {
   "cell_type": "code",
   "execution_count": null,
   "metadata": {},
   "outputs": [],
   "source": []
  },
  {
   "cell_type": "markdown",
   "metadata": {},
   "source": [
    "**Spørgsmål 2.3** Hvis fejlleddet er beskrevet ved en GARCH(1,1) proces, hvilken proces følger de kvadrerede residuler \"2 t da?"
   ]
  },
  {
   "cell_type": "markdown",
   "metadata": {},
   "source": [
    "De følger en ARMA(1,1) model"
   ]
  },
  {
   "cell_type": "markdown",
   "metadata": {},
   "source": [
    "**Spørgsmål 2.4** Hvordan vil du i praksis forsøge at vurdere om der er ARCH/GARCH effekter i fejlleddet \"t; eksempelvis ved en simpel graf?"
   ]
  },
  {
   "cell_type": "code",
   "execution_count": null,
   "metadata": {},
   "outputs": [],
   "source": []
  },
  {
   "cell_type": "markdown",
   "metadata": {},
   "source": [
    "**Spørgsmål 2.5** Empirisk applikation. Brug data for infationen fra Excel filen benævnt dataExam2016 fra fanebladet \"GARCH\". Find en passende ARCH eller GARCH model for infationen for perioden 1960:Q1 til 2013:Q2. Afprøv maksimalt 4 ARCH/GARCH modeller og rapporter modellernes koefcientestimater, standard errors og informationskriterie(r). Plot også den estimerede volatilitet."
   ]
  },
  {
   "cell_type": "code",
   "execution_count": null,
   "metadata": {},
   "outputs": [],
   "source": []
  },
  {
   "cell_type": "code",
   "execution_count": null,
   "metadata": {},
   "outputs": [],
   "source": []
  },
  {
   "cell_type": "code",
   "execution_count": null,
   "metadata": {},
   "outputs": [],
   "source": []
  },
  {
   "cell_type": "markdown",
   "metadata": {},
   "source": [
    "**Spørgsmål 2.6** Slut af med at teste om din foretrukne ARCH/GARCH model er velspecificeret."
   ]
  },
  {
   "cell_type": "code",
   "execution_count": null,
   "metadata": {},
   "outputs": [],
   "source": []
  },
  {
   "cell_type": "code",
   "execution_count": null,
   "metadata": {},
   "outputs": [],
   "source": []
  }
 ],
 "metadata": {
  "kernelspec": {
   "display_name": "R",
   "language": "R",
   "name": "ir"
  },
  "language_info": {
   "codemirror_mode": "r",
   "file_extension": ".r",
   "mimetype": "text/x-r-source",
   "name": "R",
   "pygments_lexer": "r",
   "version": "3.5.1"
  }
 },
 "nbformat": 4,
 "nbformat_minor": 2
}
