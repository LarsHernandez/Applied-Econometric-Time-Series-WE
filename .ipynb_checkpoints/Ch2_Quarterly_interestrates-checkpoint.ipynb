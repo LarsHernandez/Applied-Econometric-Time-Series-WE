{
 "cells": [
  {
   "cell_type": "markdown",
   "metadata": {},
   "source": [
    "## QUARTERLY"
   ]
  },
  {
   "cell_type": "code",
   "execution_count": 204,
   "metadata": {},
   "outputs": [
    {
     "data": {
      "text/html": [
       "<table>\n",
       "<thead><tr><th scope=col>DATE</th><th scope=col>FFR</th><th scope=col>Tbill</th><th scope=col>Tb1yr</th><th scope=col>r5</th><th scope=col>r10</th><th scope=col>PPINSA</th><th scope=col>Finished</th><th scope=col>CPI</th><th scope=col>CPICORE</th><th scope=col>M1NSA</th><th scope=col>M2SA</th><th scope=col>M2NSA</th><th scope=col>Unemp</th><th scope=col>IndProd</th><th scope=col>RGDP</th><th scope=col>Potent</th><th scope=col>Deflator</th><th scope=col>Curr</th><th scope=col>date</th></tr></thead>\n",
       "<tbody>\n",
       "\t<tr><td>1960Q1    </td><td>3.93      </td><td>3.87      </td><td>4.57      </td><td>4.64      </td><td>4.49      </td><td>31.67     </td><td>33.20     </td><td>29.40     </td><td>18.92     </td><td>140.53    </td><td>896.1     </td><td>299.40    </td><td>5.13      </td><td>23.93     </td><td>2845.3    </td><td>2824.2    </td><td>18.521    </td><td>31.830    </td><td>1960-01-01</td></tr>\n",
       "\t<tr><td>1960Q2    </td><td>3.70      </td><td>2.99      </td><td>3.87      </td><td>4.30      </td><td>4.26      </td><td>31.73     </td><td>33.40     </td><td>29.57     </td><td>19.00     </td><td>138.40    </td><td>903.3     </td><td>300.03    </td><td>5.23      </td><td>23.41     </td><td>2832.0    </td><td>2851.2    </td><td>18.579    </td><td>31.862    </td><td>1960-04-01</td></tr>\n",
       "\t<tr><td>1960Q3    </td><td>2.94      </td><td>2.36      </td><td>3.07      </td><td>3.67      </td><td>3.83      </td><td>31.63     </td><td>33.43     </td><td>29.59     </td><td>19.07     </td><td>139.60    </td><td>919.4     </td><td>305.50    </td><td>5.53      </td><td>23.02     </td><td>2836.6    </td><td>2878.7    </td><td>18.648    </td><td>32.217    </td><td>1960-07-01</td></tr>\n",
       "\t<tr><td>1960Q4    </td><td>2.30      </td><td>2.31      </td><td>2.99      </td><td>3.75      </td><td>3.89      </td><td>31.70     </td><td>33.67     </td><td>29.78     </td><td>19.14     </td><td>142.67    </td><td>932.8     </td><td>312.30    </td><td>6.27      </td><td>22.47     </td><td>2800.2    </td><td>2906.7    </td><td>18.700    </td><td>32.624    </td><td>1960-10-01</td></tr>\n",
       "\t<tr><td>1961Q1    </td><td>2.00      </td><td>2.35      </td><td>2.87      </td><td>3.64      </td><td>3.79      </td><td>31.80     </td><td>33.63     </td><td>29.84     </td><td>19.17     </td><td>142.23    </td><td>948.9     </td><td>317.10    </td><td>6.80      </td><td>22.13     </td><td>2816.9    </td><td>2934.8    </td><td>18.743    </td><td>32.073    </td><td>1961-01-01</td></tr>\n",
       "\t<tr><td>1961Q2    </td><td>1.73      </td><td>2.30      </td><td>2.94      </td><td>3.62      </td><td>3.79      </td><td>31.47     </td><td>33.33     </td><td>29.83     </td><td>19.23     </td><td>141.40    </td><td>966.4     </td><td>320.97    </td><td>7.00      </td><td>23.00     </td><td>2869.6    </td><td>2962.9    </td><td>18.785    </td><td>32.131    </td><td>1961-04-01</td></tr>\n",
       "</tbody>\n",
       "</table>\n"
      ],
      "text/latex": [
       "\\begin{tabular}{r|llllllllllllllllllll}\n",
       " DATE & FFR & Tbill & Tb1yr & r5 & r10 & PPINSA & Finished & CPI & CPICORE & M1NSA & M2SA & M2NSA & Unemp & IndProd & RGDP & Potent & Deflator & Curr & date\\\\\n",
       "\\hline\n",
       "\t 1960Q1     & 3.93       & 3.87       & 4.57       & 4.64       & 4.49       & 31.67      & 33.20      & 29.40      & 18.92      & 140.53     & 896.1      & 299.40     & 5.13       & 23.93      & 2845.3     & 2824.2     & 18.521     & 31.830     & 1960-01-01\\\\\n",
       "\t 1960Q2     & 3.70       & 2.99       & 3.87       & 4.30       & 4.26       & 31.73      & 33.40      & 29.57      & 19.00      & 138.40     & 903.3      & 300.03     & 5.23       & 23.41      & 2832.0     & 2851.2     & 18.579     & 31.862     & 1960-04-01\\\\\n",
       "\t 1960Q3     & 2.94       & 2.36       & 3.07       & 3.67       & 3.83       & 31.63      & 33.43      & 29.59      & 19.07      & 139.60     & 919.4      & 305.50     & 5.53       & 23.02      & 2836.6     & 2878.7     & 18.648     & 32.217     & 1960-07-01\\\\\n",
       "\t 1960Q4     & 2.30       & 2.31       & 2.99       & 3.75       & 3.89       & 31.70      & 33.67      & 29.78      & 19.14      & 142.67     & 932.8      & 312.30     & 6.27       & 22.47      & 2800.2     & 2906.7     & 18.700     & 32.624     & 1960-10-01\\\\\n",
       "\t 1961Q1     & 2.00       & 2.35       & 2.87       & 3.64       & 3.79       & 31.80      & 33.63      & 29.84      & 19.17      & 142.23     & 948.9      & 317.10     & 6.80       & 22.13      & 2816.9     & 2934.8     & 18.743     & 32.073     & 1961-01-01\\\\\n",
       "\t 1961Q2     & 1.73       & 2.30       & 2.94       & 3.62       & 3.79       & 31.47      & 33.33      & 29.83      & 19.23      & 141.40     & 966.4      & 320.97     & 7.00       & 23.00      & 2869.6     & 2962.9     & 18.785     & 32.131     & 1961-04-01\\\\\n",
       "\\end{tabular}\n"
      ],
      "text/markdown": [
       "\n",
       "DATE | FFR | Tbill | Tb1yr | r5 | r10 | PPINSA | Finished | CPI | CPICORE | M1NSA | M2SA | M2NSA | Unemp | IndProd | RGDP | Potent | Deflator | Curr | date | \n",
       "|---|---|---|---|---|---|\n",
       "| 1960Q1     | 3.93       | 3.87       | 4.57       | 4.64       | 4.49       | 31.67      | 33.20      | 29.40      | 18.92      | 140.53     | 896.1      | 299.40     | 5.13       | 23.93      | 2845.3     | 2824.2     | 18.521     | 31.830     | 1960-01-01 | \n",
       "| 1960Q2     | 3.70       | 2.99       | 3.87       | 4.30       | 4.26       | 31.73      | 33.40      | 29.57      | 19.00      | 138.40     | 903.3      | 300.03     | 5.23       | 23.41      | 2832.0     | 2851.2     | 18.579     | 31.862     | 1960-04-01 | \n",
       "| 1960Q3     | 2.94       | 2.36       | 3.07       | 3.67       | 3.83       | 31.63      | 33.43      | 29.59      | 19.07      | 139.60     | 919.4      | 305.50     | 5.53       | 23.02      | 2836.6     | 2878.7     | 18.648     | 32.217     | 1960-07-01 | \n",
       "| 1960Q4     | 2.30       | 2.31       | 2.99       | 3.75       | 3.89       | 31.70      | 33.67      | 29.78      | 19.14      | 142.67     | 932.8      | 312.30     | 6.27       | 22.47      | 2800.2     | 2906.7     | 18.700     | 32.624     | 1960-10-01 | \n",
       "| 1961Q1     | 2.00       | 2.35       | 2.87       | 3.64       | 3.79       | 31.80      | 33.63      | 29.84      | 19.17      | 142.23     | 948.9      | 317.10     | 6.80       | 22.13      | 2816.9     | 2934.8     | 18.743     | 32.073     | 1961-01-01 | \n",
       "| 1961Q2     | 1.73       | 2.30       | 2.94       | 3.62       | 3.79       | 31.47      | 33.33      | 29.83      | 19.23      | 141.40     | 966.4      | 320.97     | 7.00       | 23.00      | 2869.6     | 2962.9     | 18.785     | 32.131     | 1961-04-01 | \n",
       "\n",
       "\n"
      ],
      "text/plain": [
       "  DATE   FFR  Tbill Tb1yr r5   r10  PPINSA Finished CPI   CPICORE M1NSA  M2SA \n",
       "1 1960Q1 3.93 3.87  4.57  4.64 4.49 31.67  33.20    29.40 18.92   140.53 896.1\n",
       "2 1960Q2 3.70 2.99  3.87  4.30 4.26 31.73  33.40    29.57 19.00   138.40 903.3\n",
       "3 1960Q3 2.94 2.36  3.07  3.67 3.83 31.63  33.43    29.59 19.07   139.60 919.4\n",
       "4 1960Q4 2.30 2.31  2.99  3.75 3.89 31.70  33.67    29.78 19.14   142.67 932.8\n",
       "5 1961Q1 2.00 2.35  2.87  3.64 3.79 31.80  33.63    29.84 19.17   142.23 948.9\n",
       "6 1961Q2 1.73 2.30  2.94  3.62 3.79 31.47  33.33    29.83 19.23   141.40 966.4\n",
       "  M2NSA  Unemp IndProd RGDP   Potent Deflator Curr   date      \n",
       "1 299.40 5.13  23.93   2845.3 2824.2 18.521   31.830 1960-01-01\n",
       "2 300.03 5.23  23.41   2832.0 2851.2 18.579   31.862 1960-04-01\n",
       "3 305.50 5.53  23.02   2836.6 2878.7 18.648   32.217 1960-07-01\n",
       "4 312.30 6.27  22.47   2800.2 2906.7 18.700   32.624 1960-10-01\n",
       "5 317.10 6.80  22.13   2816.9 2934.8 18.743   32.073 1961-01-01\n",
       "6 320.97 7.00  23.00   2869.6 2962.9 18.785   32.131 1961-04-01"
      ]
     },
     "metadata": {},
     "output_type": "display_data"
    }
   ],
   "source": [
    "library(tidyverse)\n",
    "library(gridExtra) # Arrangning ggplots\n",
    "library(readr)     # Loasing data\n",
    "library(forecast)  \n",
    "library(repr)      # Resizing the plots in jupyter\n",
    "library(rugarch)   # For ARCH and GARCH models\n",
    "library(dynlm)     # Lagged linear models\n",
    "library(urca)      # Dick Fuller test\n",
    "library(car)       # Linear hyphothesis testing\n",
    "library(readxl)    # Loading excel\n",
    "library(tseries)   # adf-test\n",
    "library(vars)      # VAR models\n",
    "library(lmtest)    # Granger causality tests\n",
    "\n",
    "options(repr.plot.width=8, repr.plot.height=2.5)\n",
    "\n",
    "setwd(\"C:/Users/larsn/Documents/GitHub/Applied-Econometric-Time-Series-WE\")\n",
    "\n",
    "library(readxl)\n",
    "quarterly <- read_excel(\"Data/quarterly.xls\")\n",
    "quarterly$date <- as.Date(as.yearqtr(quarterly$DATE, format = \"%YQ%q\"))\n",
    "head(quarterly)"
   ]
  },
  {
   "cell_type": "code",
   "execution_count": 74,
   "metadata": {},
   "outputs": [
    {
     "data": {
      "image/png": "[encoded data removed]",
      "text/plain": [
       "plot without title"
      ]
     },
     "metadata": {},
     "output_type": "display_data"
    }
   ],
   "source": [
    "spread <- quarterly$r5 - quarterly$Tbill\n",
    "plot(spread, type=\"l\")"
   ]
  },
  {
   "cell_type": "code",
   "execution_count": 75,
   "metadata": {},
   "outputs": [
    {
     "data": {
      "text/plain": [
       "\n",
       "Call:\n",
       "arima(x = spread, order = c(2, 0, 0))\n",
       "\n",
       "Coefficients:\n",
       "         ar1      ar2  intercept\n",
       "      1.0407  -0.2157     1.1928\n",
       "s.e.  0.0669   0.0670     0.1846\n",
       "\n",
       "sigma^2 estimated as 0.2284:  log likelihood = -145.01,  aic = 298.02"
      ]
     },
     "metadata": {},
     "output_type": "display_data"
    }
   ],
   "source": [
    "model <- arima(spread, order = c(2,0,0))\n",
    "model"
   ]
  },
  {
   "cell_type": "code",
   "execution_count": 76,
   "metadata": {},
   "outputs": [
    {
     "data": {
      "image/png": "[encoded data removed]",
      "text/plain": [
       "Plot with title \"Series  spread\""
      ]
     },
     "metadata": {},
     "output_type": "display_data"
    },
    {
     "data": {
      "image/png": "[encoded data removed]",
      "text/plain": [
       "Plot with title \"Series  model$residuals\""
      ]
     },
     "metadata": {},
     "output_type": "display_data"
    }
   ],
   "source": [
    "par(mfrow=c(1,2))\n",
    "acf(spread)\n",
    "pacf(spread)\n",
    "\n",
    "par(mfrow=c(1,2))\n",
    "acf(model$residuals)\n",
    "pacf(model$residuals)"
   ]
  },
  {
   "cell_type": "code",
   "execution_count": 77,
   "metadata": {},
   "outputs": [
    {
     "data": {
      "text/plain": [
       "\n",
       "\tBox-Ljung test\n",
       "\n",
       "data:  model$residuals\n",
       "X-squared = 8.8824, df = 4, p-value = 0.06411\n"
      ]
     },
     "metadata": {},
     "output_type": "display_data"
    },
    {
     "data": {
      "text/plain": [
       "\n",
       "\tBox-Ljung test\n",
       "\n",
       "data:  model$residuals\n",
       "X-squared = 21.596, df = 8, p-value = 0.005721\n"
      ]
     },
     "metadata": {},
     "output_type": "display_data"
    },
    {
     "data": {
      "text/plain": [
       "\n",
       "\tBox-Ljung test\n",
       "\n",
       "data:  model$residuals\n",
       "X-squared = 29.127, df = 12, p-value = 0.003773\n"
      ]
     },
     "metadata": {},
     "output_type": "display_data"
    }
   ],
   "source": [
    "Box.test(model$residuals, lag=4,type=\"Ljung-Box\")\n",
    "Box.test(model$residuals, lag=8,type=\"Ljung-Box\")\n",
    "Box.test(model$residuals, lag=12,type=\"Ljung-Box\")"
   ]
  },
  {
   "cell_type": "code",
   "execution_count": 78,
   "metadata": {},
   "outputs": [
    {
     "data": {
      "text/plain": [
       "Series: spread \n",
       "ARIMA(1,0,4) with non-zero mean \n",
       "\n",
       "Coefficients:\n",
       "         ar1     ma1     ma2     ma3     ma4    mean\n",
       "      0.6861  0.4037  0.0046  0.2591  0.1378  1.1933\n",
       "s.e.  0.1094  0.1188  0.1169  0.1240  0.1006  0.1803\n",
       "\n",
       "sigma^2 estimated as 0.2206:  log likelihood=-138.41\n",
       "AIC=290.82   AICc=291.37   BIC=314.32"
      ]
     },
     "metadata": {},
     "output_type": "display_data"
    },
    {
     "data": {
      "text/plain": [
       "\n",
       "Call:\n",
       "arima(x = spread, order = c(1, 0, 4), fixed = c(NA, NA, 0, NA, 0, NA))\n",
       "\n",
       "Coefficients:\n",
       "         ar1     ma1  ma2     ma3  ma4  intercept\n",
       "      0.7368  0.3679    0  0.1500    0     1.1928\n",
       "s.e.  0.0519  0.0753    0  0.0625    0     0.1818\n",
       "\n",
       "sigma^2 estimated as 0.2172:  log likelihood = -139.77,  aic = 289.55"
      ]
     },
     "metadata": {},
     "output_type": "display_data"
    },
    {
     "data": {
      "text/plain": [
       "\n",
       "Call:\n",
       "arima(x = spread, order = c(2, 0, 7), fixed = c(NA, NA, NA, 0, 0, 0, 0, 0, NA, \n",
       "    0))\n",
       "\n",
       "Coefficients:\n",
       "         ar1     ar2     ma1  ma2  ma3  ma4  ma5  ma6      ma7  intercept\n",
       "      0.3942  0.5106  0.8086    0    0    0    0    0  -0.1370          0\n",
       "s.e.  0.1177  0.1148  0.0849    0    0    0    0    0   0.0382          0\n",
       "\n",
       "sigma^2 estimated as 0.2204:  log likelihood = -141.96,  aic = 293.92"
      ]
     },
     "metadata": {},
     "output_type": "display_data"
    }
   ],
   "source": [
    "auto.arima(spread)\n",
    "arima(spread, order = c(1,0,4), fixed=c(NA,NA,0,NA,0,NA))\n",
    "arima(spread, order = c(2,0,7), fixed=c(NA,NA,NA,0,0,0,0,0,NA,0))"
   ]
  },
  {
   "cell_type": "code",
   "execution_count": 79,
   "metadata": {},
   "outputs": [],
   "source": [
    "a <- arima(spread, order=c(2,0,1))"
   ]
  },
  {
   "cell_type": "code",
   "execution_count": 80,
   "metadata": {},
   "outputs": [
    {
     "data": {
      "image/png": "[encoded data removed]",
      "text/plain": [
       "plot without title"
      ]
     },
     "metadata": {},
     "output_type": "display_data"
    },
    {
     "data": {
      "image/png": "[encoded data removed]",
      "text/plain": [
       "plot without title"
      ]
     },
     "metadata": {},
     "output_type": "display_data"
    }
   ],
   "source": [
    "money <- quarterly$M1NSA\n",
    "smg <- diff(diff(log(quarterly$M1NSA),4))\n",
    "plot(money, type=\"l\")\n",
    "plot(smg, type=\"l\")"
   ]
  },
  {
   "cell_type": "code",
   "execution_count": null,
   "metadata": {},
   "outputs": [],
   "source": []
  },
  {
   "cell_type": "code",
   "execution_count": null,
   "metadata": {},
   "outputs": [],
   "source": []
  },
  {
   "cell_type": "code",
   "execution_count": 81,
   "metadata": {},
   "outputs": [
    {
     "data": {
      "image/png": "[encoded data removed]",
      "text/plain": [
       "Plot with title \"Series  money\""
      ]
     },
     "metadata": {},
     "output_type": "display_data"
    },
    {
     "data": {
      "image/png": "[encoded data removed]",
      "text/plain": [
       "Plot with title \"Series  smg\""
      ]
     },
     "metadata": {},
     "output_type": "display_data"
    }
   ],
   "source": [
    "par(mfrow=c(1,2))\n",
    "Acf(money)\n",
    "Pacf(money)\n",
    "\n",
    "par(mfrow=c(1,2))\n",
    "Acf(smg)\n",
    "Pacf(smg)"
   ]
  },
  {
   "cell_type": "code",
   "execution_count": 82,
   "metadata": {},
   "outputs": [
    {
     "data": {
      "image/png": "[encoded data removed]",
      "text/plain": [
       "plot without title"
      ]
     },
     "metadata": {},
     "output_type": "display_data"
    }
   ],
   "source": [
    "ggtsdisplay(smg)\n"
   ]
  },
  {
   "cell_type": "code",
   "execution_count": 83,
   "metadata": {},
   "outputs": [
    {
     "data": {
      "text/plain": [
       "\n",
       "Call:\n",
       "arima(x = smg, order = c(1, 0, 4), fixed = c(NA, 0, 0, 0, NA, 0))\n",
       "\n",
       "Coefficients:\n",
       "         ar1  ma1  ma2  ma3      ma4  intercept\n",
       "      0.5493    0    0    0  -0.7566          0\n",
       "s.e.  0.0594    0    0    0   0.0520          0\n",
       "\n",
       "sigma^2 estimated as 0.0001251:  log likelihood = 634.56,  aic = -1263.13"
      ]
     },
     "metadata": {},
     "output_type": "display_data"
    },
    {
     "data": {
      "text/plain": [
       "\n",
       "Call:\n",
       "arima(x = log(money), order = c(1, 1, 0), seasonal = list(order = c(0, 1, 1), \n",
       "    period = 4))\n",
       "\n",
       "Coefficients:\n",
       "         ar1     sma1\n",
       "      0.5493  -0.7566\n",
       "s.e.  0.0594   0.0520\n",
       "\n",
       "sigma^2 estimated as 0.0001251:  log likelihood = 634.56,  aic = -1263.13"
      ]
     },
     "metadata": {},
     "output_type": "display_data"
    }
   ],
   "source": [
    "smg <- diff(diff(log(quarterly$M1NSA),4))\n",
    "\n",
    "money_m1 <- arima(smg, order = c(1,0,4), fixed=c(NA,0,0,0,NA,0))\n",
    "money_m1\n",
    "\n",
    "money_m2 <- arima(log(money), order = c(1,1,0), seasonal=list(order=c(0,1,1), period = 4))\n",
    "money_m2"
   ]
  },
  {
   "cell_type": "code",
   "execution_count": 84,
   "metadata": {},
   "outputs": [
    {
     "data": {},
     "metadata": {},
     "output_type": "display_data"
    },
    {
     "data": {},
     "metadata": {},
     "output_type": "display_data"
    },
    {
     "data": {
      "image/png": "[encoded data removed]",
      "text/plain": [
       "plot without title"
      ]
     },
     "metadata": {},
     "output_type": "display_data"
    },
    {
     "data": {
      "image/png": "[encoded data removed]",
      "text/plain": [
       "plot without title"
      ]
     },
     "metadata": {},
     "output_type": "display_data"
    }
   ],
   "source": [
    "autoplot(forecast(money_m1, h=12))\n",
    "autoplot(forecast(money_m2, h=12))"
   ]
  },
  {
   "cell_type": "code",
   "execution_count": 85,
   "metadata": {},
   "outputs": [
    {
     "data": {
      "text/plain": [
       "\n",
       "*----------------------------------*\n",
       "*          ARFIMA Model Fit        *\n",
       "*----------------------------------*\n",
       "Mean Model\t: ARFIMA(4,0,4)\n",
       "Distribution\t: norm \n",
       "\n",
       "Optimal Parameters\n",
       "------------------------------------\n",
       "       Estimate  Std. Error  t value Pr(>|t|)\n",
       "mu     0.000475    0.000437   1.0869  0.27707\n",
       "ar1    0.549891    0.059570   9.2309  0.00000\n",
       "ar2    0.000000          NA       NA       NA\n",
       "ar3    0.000000          NA       NA       NA\n",
       "ar4    0.000000          NA       NA       NA\n",
       "ma1    0.000000          NA       NA       NA\n",
       "ma2    0.000000          NA       NA       NA\n",
       "ma3    0.000000          NA       NA       NA\n",
       "ma4   -0.756672    0.048199 -15.6989  0.00000\n",
       "sigma  0.011195    0.000550  20.3470  0.00000\n",
       "\n",
       "Robust Standard Errors:\n",
       "       Estimate  Std. Error  t value Pr(>|t|)\n",
       "mu     0.000475    0.000459   1.0358  0.30031\n",
       "ar1    0.549891    0.072532   7.5814  0.00000\n",
       "ar2    0.000000          NA       NA       NA\n",
       "ar3    0.000000          NA       NA       NA\n",
       "ar4    0.000000          NA       NA       NA\n",
       "ma1    0.000000          NA       NA       NA\n",
       "ma2    0.000000          NA       NA       NA\n",
       "ma3    0.000000          NA       NA       NA\n",
       "ma4   -0.756672    0.051616 -14.6595  0.00000\n",
       "sigma  0.011195    0.000994  11.2646  0.00000\n",
       "\n",
       "LogLikelihood : 636.1856 \n",
       "\n",
       "Information Criteria\n",
       "------------------------------------\n",
       "                    \n",
       "Akaike       -6.1081\n",
       "Bayes        -6.0437\n",
       "Shibata      -6.1088\n",
       "Hannan-Quinn -6.0820\n",
       "\n",
       "Weighted Ljung-Box Test on Standardized Residuals\n",
       "------------------------------------\n",
       "                         statistic p-value\n",
       "Lag[1]                      0.8292  0.3625\n",
       "Lag[2*(p+q)+(p+q)-1][23]   11.6820  0.7011\n",
       "Lag[4*(p+q)+(p+q)-1][39]   17.9191  0.7239\n",
       "\n",
       "H0 : No serial correlation\n",
       "\n",
       "Weighted Ljung-Box Test on Standardized Squared Residuals\n",
       "------------------------------------\n",
       "                        statistic p-value\n",
       "Lag[1]                     0.5397  0.4626\n",
       "Lag[2*(p+q)+(p+q)-1][2]    0.6270  0.6369\n",
       "Lag[4*(p+q)+(p+q)-1][5]    0.7160  0.9198\n",
       "\n",
       "\n",
       "ARCH LM Tests\n",
       "------------------------------------\n",
       "             Statistic DoF P-Value\n",
       "ARCH Lag[2]     0.7248   2  0.6960\n",
       "ARCH Lag[5]     0.7784   5  0.9784\n",
       "ARCH Lag[10]    3.1806  10  0.9768\n",
       "\n",
       "Nyblom stability test\n",
       "------------------------------------\n",
       "Joint Statistic:  1.3639\n",
       "Individual Statistics:            \n",
       "mu    0.1685\n",
       "ar1   0.1911\n",
       "ma4   0.1588\n",
       "sigma 0.7490\n",
       "\n",
       "Asymptotic Critical Values (10% 5% 1%)\n",
       "Joint Statistic:     \t 1.07 1.24 1.6\n",
       "Individual Statistic:\t 0.35 0.47 0.75\n",
       "\n",
       "\n",
       "Elapsed time : 0.04644704 \n"
      ]
     },
     "metadata": {},
     "output_type": "display_data"
    }
   ],
   "source": [
    "money_spec <- arfimaspec(mean.model = list(armaOrder = c(4,4), include.mean = TRUE),\n",
    "                         fixed.pars = list(ar2 = 0, ar3 = 0, ar4 = 0, ma1 = 0, ma2 = 0, ma3 = 0))\n",
    "\n",
    "money_m1 <- arfimafit(spec = money_spec, data = smg, solver = \"nlminb\")\n",
    "money_m1"
   ]
  },
  {
   "cell_type": "code",
   "execution_count": 86,
   "metadata": {},
   "outputs": [
    {
     "data": {
      "text/plain": [
       "\n",
       "Call:\n",
       "arima(x = diff(log(money), 1), order = c(2, 0, 0), include.mean = F)\n",
       "\n",
       "Coefficients:\n",
       "         ar1     ar2\n",
       "      0.3159  0.4123\n",
       "s.e.  0.0630  0.0632\n",
       "\n",
       "sigma^2 estimated as 0.0002755:  log likelihood = 565.02,  aic = -1124.05"
      ]
     },
     "metadata": {},
     "output_type": "display_data"
    },
    {
     "data": {
      "text/plain": [
       "\n",
       "Call:\n",
       "arima(x = money, order = c(2, 1, 0), include.mean = F)\n",
       "\n",
       "Coefficients:\n",
       "         ar1     ar2\n",
       "      0.3762  0.5031\n",
       "s.e.  0.0615  0.0628\n",
       "\n",
       "sigma^2 estimated as 238.8:  log likelihood = -877.79,  aic = 1761.58"
      ]
     },
     "metadata": {},
     "output_type": "display_data"
    }
   ],
   "source": [
    "\n",
    "arima(diff(log(money),1), order=c(2,0,0), include.mean=F)\n",
    "arima(money, order=c(2,1,0), include.mean=F)\n"
   ]
  },
  {
   "cell_type": "markdown",
   "metadata": {},
   "source": [
    "# Chapter 3 GARCH modeling"
   ]
  },
  {
   "cell_type": "code",
   "execution_count": 87,
   "metadata": {},
   "outputs": [
    {
     "data": {
      "text/plain": [
       "\n",
       "Call:\n",
       "arima(x = spread, order = c(2, 0, 7), fixed = c(NA, NA, NA, 0, 0, 0, 0, 0, NA, \n",
       "    NA))\n",
       "\n",
       "Coefficients:\n",
       "         ar1     ar2     ma1  ma2  ma3  ma4  ma5  ma6      ma7  intercept\n",
       "      0.3381  0.4006  0.7846    0    0    0    0    0  -0.1390     1.1922\n",
       "s.e.  0.1229  0.1160  0.0913    0    0    0    0    0   0.0396     0.1935\n",
       "\n",
       "sigma^2 estimated as 0.208:  log likelihood = -135.38,  aic = 282.76"
      ]
     },
     "metadata": {},
     "output_type": "display_data"
    }
   ],
   "source": [
    "m1 <- arima(spread, order = c(2,0,7), fixed=c(NA,NA,NA,0,0,0,0,0,NA,NA))\n",
    "m1"
   ]
  },
  {
   "cell_type": "code",
   "execution_count": 88,
   "metadata": {},
   "outputs": [
    {
     "data": {
      "image/png": "[encoded data removed]",
      "text/plain": [
       "plot without title"
      ]
     },
     "metadata": {},
     "output_type": "display_data"
    }
   ],
   "source": [
    "sres <- m1$residuals^2\n",
    "plot(sres, type=\"l\")"
   ]
  },
  {
   "cell_type": "code",
   "execution_count": 89,
   "metadata": {},
   "outputs": [
    {
     "data": {
      "text/plain": [
       "\n",
       "Time series regression with \"ts\" data:\n",
       "Start = 8, End = 212\n",
       "\n",
       "Call:\n",
       "dynlm(formula = sres ~ L(sres, 1) + L(sres, 2) + L(sres, 3) + \n",
       "    L(sres, 4) + L(sres, 5) + L(sres, 6) + L(sres, 7))\n",
       "\n",
       "Residuals:\n",
       "    Min      1Q  Median      3Q     Max \n",
       "-1.2383 -0.1382 -0.0728  0.0536  5.0624 \n",
       "\n",
       "Coefficients:\n",
       "            Estimate Std. Error t value Pr(>|t|)    \n",
       "(Intercept)  0.07352    0.04083   1.801 0.073297 .  \n",
       "L(sres, 1)  -0.02164    0.06787  -0.319 0.750229    \n",
       "L(sres, 2)   0.14098    0.06757   2.086 0.038222 *  \n",
       "L(sres, 3)   0.09386    0.06828   1.375 0.170767    \n",
       "L(sres, 4)   0.25641    0.06613   3.877 0.000144 ***\n",
       "L(sres, 5)  -0.02821    0.06828  -0.413 0.679990    \n",
       "L(sres, 6)  -0.09149    0.06757  -1.354 0.177270    \n",
       "L(sres, 7)   0.30453    0.06786   4.488 1.22e-05 ***\n",
       "---\n",
       "Signif. codes:  0 '***' 0.001 '**' 0.01 '*' 0.05 '.' 0.1 ' ' 1\n",
       "\n",
       "Residual standard error: 0.4507 on 197 degrees of freedom\n",
       "Multiple R-squared:  0.2344,\tAdjusted R-squared:  0.2072 \n",
       "F-statistic: 8.614 on 7 and 197 DF,  p-value: 3.298e-09\n"
      ]
     },
     "metadata": {},
     "output_type": "display_data"
    }
   ],
   "source": [
    "summary(dynlm(sres ~ L(sres,1) + L(sres,2) +L(sres,3) +L(sres,4) +L(sres,5) +L(sres,6) +L(sres,7)))"
   ]
  },
  {
   "cell_type": "code",
   "execution_count": 90,
   "metadata": {},
   "outputs": [
    {
     "data": {
      "text/plain": [
       "\n",
       "*---------------------------------*\n",
       "*          GARCH Model Fit        *\n",
       "*---------------------------------*\n",
       "\n",
       "Conditional Variance Dynamics \t\n",
       "-----------------------------------\n",
       "GARCH Model\t: sGARCH(1,1)\n",
       "Mean Model\t: ARFIMA(2,0,7)\n",
       "Distribution\t: sstd \n",
       "\n",
       "Optimal Parameters\n",
       "------------------------------------\n",
       "        Estimate  Std. Error  t value Pr(>|t|)\n",
       "mu      1.039515    0.172068  6.04129 0.000000\n",
       "ar1     0.649862    0.227560  2.85578 0.004293\n",
       "ar2     0.182684    0.214335  0.85233 0.394031\n",
       "ma1     0.523545    0.209998  2.49310 0.012663\n",
       "ma2     0.000000          NA       NA       NA\n",
       "ma3     0.000000          NA       NA       NA\n",
       "ma4     0.000000          NA       NA       NA\n",
       "ma5     0.000000          NA       NA       NA\n",
       "ma6     0.000000          NA       NA       NA\n",
       "ma7    -0.086772    0.051726 -1.67754 0.093437\n",
       "omega   0.016423    0.013815  1.18884 0.234503\n",
       "alpha1  0.238232    0.131937  1.80566 0.070972\n",
       "beta1   0.760768    0.097632  7.79222 0.000000\n",
       "skew    1.177459    0.098585 11.94362 0.000000\n",
       "shape   3.517927    1.507763  2.33321 0.019637\n",
       "\n",
       "Robust Standard Errors:\n",
       "        Estimate  Std. Error  t value Pr(>|t|)\n",
       "mu      1.039515    0.197198  5.27144 0.000000\n",
       "ar1     0.649862    0.290860  2.23428 0.025465\n",
       "ar2     0.182684    0.281664  0.64859 0.516603\n",
       "ma1     0.523545    0.275712  1.89889 0.057579\n",
       "ma2     0.000000          NA       NA       NA\n",
       "ma3     0.000000          NA       NA       NA\n",
       "ma4     0.000000          NA       NA       NA\n",
       "ma5     0.000000          NA       NA       NA\n",
       "ma6     0.000000          NA       NA       NA\n",
       "ma7    -0.086772    0.053649 -1.61741 0.105790\n",
       "omega   0.016423    0.016135  1.01786 0.308747\n",
       "alpha1  0.238232    0.165472  1.43971 0.149949\n",
       "beta1   0.760768    0.105624  7.20259 0.000000\n",
       "skew    1.177459    0.095294 12.35605 0.000000\n",
       "shape   3.517927    2.101315  1.67416 0.094100\n",
       "\n",
       "LogLikelihood : -106.8956 \n",
       "\n",
       "Information Criteria\n",
       "------------------------------------\n",
       "                   \n",
       "Akaike       1.1028\n",
       "Bayes        1.2611\n",
       "Shibata      1.0986\n",
       "Hannan-Quinn 1.1668\n",
       "\n",
       "Weighted Ljung-Box Test on Standardized Residuals\n",
       "------------------------------------\n",
       "                         statistic   p-value\n",
       "Lag[1]                      0.9548 3.285e-01\n",
       "Lag[2*(p+q)+(p+q)-1][26]   16.4117 1.689e-06\n",
       "Lag[4*(p+q)+(p+q)-1][44]   26.1112 1.517e-01\n",
       "d.o.f=9\n",
       "H0 : No serial correlation\n",
       "\n",
       "Weighted Ljung-Box Test on Standardized Squared Residuals\n",
       "------------------------------------\n",
       "                        statistic p-value\n",
       "Lag[1]                      2.362 0.12433\n",
       "Lag[2*(p+q)+(p+q)-1][5]     7.536 0.03838\n",
       "Lag[4*(p+q)+(p+q)-1][9]     9.399 0.06722\n",
       "d.o.f=2\n",
       "\n",
       "Weighted ARCH LM Tests\n",
       "------------------------------------\n",
       "            Statistic Shape Scale P-Value\n",
       "ARCH Lag[3]   0.01181 0.500 2.000  0.9134\n",
       "ARCH Lag[5]   0.77348 1.440 1.667  0.8011\n",
       "ARCH Lag[7]   2.00776 2.315 1.543  0.7157\n",
       "\n",
       "Nyblom stability test\n",
       "------------------------------------\n",
       "Joint Statistic:  2.235\n",
       "Individual Statistics:              \n",
       "mu     0.10228\n",
       "ar1    0.03147\n",
       "ar2    0.06220\n",
       "ma1    0.03768\n",
       "ma7    0.06760\n",
       "omega  0.31679\n",
       "alpha1 0.07042\n",
       "beta1  0.15019\n",
       "skew   0.17317\n",
       "shape  0.39834\n",
       "\n",
       "Asymptotic Critical Values (10% 5% 1%)\n",
       "Joint Statistic:     \t 2.29 2.54 3.05\n",
       "Individual Statistic:\t 0.35 0.47 0.75\n",
       "\n",
       "Sign Bias Test\n",
       "------------------------------------\n",
       "                   t-value    prob sig\n",
       "Sign Bias           1.8843 0.06093   *\n",
       "Negative Sign Bias  0.4598 0.64615    \n",
       "Positive Sign Bias  1.7360 0.08405   *\n",
       "Joint Effect        5.8031 0.12159    \n",
       "\n",
       "\n",
       "Adjusted Pearson Goodness-of-Fit Test:\n",
       "------------------------------------\n",
       "  group statistic p-value(g-1)\n",
       "1    20     19.13       0.4484\n",
       "2    30     22.91       0.7808\n",
       "3    40     35.92       0.6109\n",
       "4    50     46.49       0.5754\n",
       "\n",
       "\n",
       "Elapsed time : 0.3591602 \n"
      ]
     },
     "metadata": {},
     "output_type": "display_data"
    }
   ],
   "source": [
    "spec = ugarchspec(variance.model=list(model=\"sGARCH\", garchOrder=c(1,1)),\n",
    "                  mean.model=list(armaOrder=c(2,7), \n",
    "                                  include.mean=T), \n",
    "                  distribution.model=\"sstd\",\n",
    "                  fixed.pars=list(ma2=0, ma3=0, ma4=0, ma5=0, ma6=0))\n",
    "\n",
    "m2 <- ugarchfit(spec = spec, data = spread)\n",
    "m2"
   ]
  },
  {
   "cell_type": "code",
   "execution_count": 183,
   "metadata": {},
   "outputs": [
    {
     "data": {
      "text/plain": [
       "\n",
       "Autocorrelations of series 'a', by lag\n",
       "\n",
       "     0      1      2      3      4      5      6      7      8 \n",
       " 1.000 -0.105  0.166 -0.007  0.065 -0.020 -0.009  0.113 -0.021 "
      ]
     },
     "metadata": {},
     "output_type": "display_data"
    },
    {
     "data": {
      "text/html": [
       "<table>\n",
       "<thead><tr><th scope=col>spread</th><th scope=col>x</th></tr></thead>\n",
       "<tbody>\n",
       "\t<tr><td>0.77</td><td>1   </td></tr>\n",
       "\t<tr><td>1.31</td><td>2   </td></tr>\n",
       "\t<tr><td>1.31</td><td>3   </td></tr>\n",
       "\t<tr><td>1.44</td><td>4   </td></tr>\n",
       "\t<tr><td>1.29</td><td>5   </td></tr>\n",
       "\t<tr><td>1.32</td><td>6   </td></tr>\n",
       "</tbody>\n",
       "</table>\n"
      ],
      "text/latex": [
       "\\begin{tabular}{r|ll}\n",
       " spread & x\\\\\n",
       "\\hline\n",
       "\t 0.77 & 1   \\\\\n",
       "\t 1.31 & 2   \\\\\n",
       "\t 1.31 & 3   \\\\\n",
       "\t 1.44 & 4   \\\\\n",
       "\t 1.29 & 5   \\\\\n",
       "\t 1.32 & 6   \\\\\n",
       "\\end{tabular}\n"
      ],
      "text/markdown": [
       "\n",
       "spread | x | \n",
       "|---|---|---|---|---|---|\n",
       "| 0.77 | 1    | \n",
       "| 1.31 | 2    | \n",
       "| 1.31 | 3    | \n",
       "| 1.44 | 4    | \n",
       "| 1.29 | 5    | \n",
       "| 1.32 | 6    | \n",
       "\n",
       "\n"
      ],
      "text/plain": [
       "  spread x\n",
       "1 0.77   1\n",
       "2 1.31   2\n",
       "3 1.31   3\n",
       "4 1.44   4\n",
       "5 1.29   5\n",
       "6 1.32   6"
      ]
     },
     "metadata": {},
     "output_type": "display_data"
    },
    {
     "data": {
      "image/png": "[encoded data removed]",
      "text/plain": [
       "plot without title"
      ]
     },
     "metadata": {},
     "output_type": "display_data"
    }
   ],
   "source": [
    "a <- m2@fit[[\"residuals\"]]^2/(m2@fit[[\"var\"]])\n",
    "plot(a, type=\"l\")\n",
    "acf(a, plot=F, lag=8)\n",
    "head(df)"
   ]
  },
  {
   "cell_type": "markdown",
   "metadata": {},
   "source": [
    "# Chapter 4 - Dickie Fuller test"
   ]
  },
  {
   "cell_type": "code",
   "execution_count": null,
   "metadata": {},
   "outputs": [],
   "source": []
  },
  {
   "cell_type": "code",
   "execution_count": 92,
   "metadata": {},
   "outputs": [
    {
     "data": {
      "text/plain": [
       "\n",
       "Autocorrelations of series 'spread', by lag\n",
       "\n",
       "     0      1      2      3      4      5      6      7      8      9     10 \n",
       " 1.000  0.856  0.677  0.549  0.410  0.279  0.149  0.071  0.040 -0.032 -0.127 \n",
       "    11     12     13     14     15     16     17     18     19     20     21 \n",
       "-0.198 -0.221 -0.243 -0.263 -0.251 -0.219 -0.186 -0.127 -0.055  0.004  0.045 \n",
       "    22     23 \n",
       " 0.057  0.075 "
      ]
     },
     "metadata": {},
     "output_type": "display_data"
    }
   ],
   "source": [
    "acf(spread, plot=F)"
   ]
  },
  {
   "cell_type": "code",
   "execution_count": 93,
   "metadata": {},
   "outputs": [
    {
     "data": {
      "text/plain": [
       "\n",
       "Time series regression with \"ts\" data:\n",
       "Start = 10, End = 212\n",
       "\n",
       "Call:\n",
       "dynlm(formula = dspread ~ L(spread, 1) + L(dspread, 1) + L(dspread, \n",
       "    2) + L(dspread, 3) + L(dspread, 4) + L(dspread, 5) + L(dspread, \n",
       "    6) + L(dspread, 7) + L(dspread, 8))\n",
       "\n",
       "Residuals:\n",
       "     Min       1Q   Median       3Q      Max \n",
       "-2.34150 -0.24780 -0.05378  0.23118  1.66768 \n",
       "\n",
       "Coefficients:\n",
       "              Estimate Std. Error t value Pr(>|t|)    \n",
       "(Intercept)    0.25496    0.06746   3.779 0.000209 ***\n",
       "L(spread, 1)  -0.21134    0.04841  -4.366 2.06e-05 ***\n",
       "L(dspread, 1)  0.32405    0.07458   4.345 2.25e-05 ***\n",
       "L(dspread, 2) -0.10036    0.07619  -1.317 0.189353    \n",
       "L(dspread, 3)  0.23953    0.07371   3.250 0.001364 ** \n",
       "L(dspread, 4) -0.01394    0.07557  -0.184 0.853838    \n",
       "L(dspread, 5)  0.14815    0.07381   2.007 0.046113 *  \n",
       "L(dspread, 6) -0.07464    0.07462  -1.000 0.318422    \n",
       "L(dspread, 7) -0.02631    0.07145  -0.368 0.713144    \n",
       "L(dspread, 8)  0.17974    0.07105   2.530 0.012206 *  \n",
       "---\n",
       "Signif. codes:  0 '***' 0.001 '**' 0.01 '*' 0.05 '.' 0.1 ' ' 1\n",
       "\n",
       "Residual standard error: 0.4688 on 193 degrees of freedom\n",
       "Multiple R-squared:  0.2161,\tAdjusted R-squared:  0.1795 \n",
       "F-statistic: 5.912 on 9 and 193 DF,  p-value: 2.758e-07\n"
      ]
     },
     "metadata": {},
     "output_type": "display_data"
    }
   ],
   "source": [
    "spread <- as.ts(spread)\n",
    "dspread <- diff(spread)\n",
    "\n",
    "summary(dynlm(dspread ~ L(spread,1) + L(dspread,1) + L(dspread,2) + L(dspread,3) + L(dspread,4) + L(dspread,5) + L(dspread,6) + L(dspread,7) + L(dspread,8)))"
   ]
  },
  {
   "cell_type": "code",
   "execution_count": 94,
   "metadata": {},
   "outputs": [
    {
     "data": {
      "text/html": [
       "10.0752900907258"
      ],
      "text/latex": [
       "10.0752900907258"
      ],
      "text/markdown": [
       "10.0752900907258"
      ],
      "text/plain": [
       "[1] 10.07529"
      ]
     },
     "metadata": {},
     "output_type": "display_data"
    }
   ],
   "source": [
    "unrest <- dynlm(dspread ~ L(spread,1) + L(dspread,1) + L(dspread,2) + L(dspread,3) + L(dspread,4) + L(dspread,5) + L(dspread,6) + L(dspread,7) + L(dspread,8))\n",
    "unrest <- sum(unrest$residuals^2)\n",
    "rest <- dynlm(dspread ~ L(dspread,1) + L(dspread,2) + L(dspread,3) + L(dspread,4) + L(dspread,5) + L(dspread,6) + L(dspread,7) + L(dspread,8) + 0)\n",
    "rest <- sum(rest$residuals^2)\n",
    "\n",
    "((rest - unrest)/2)/(unrest/(length(spread)-8))"
   ]
  },
  {
   "cell_type": "code",
   "execution_count": null,
   "metadata": {},
   "outputs": [],
   "source": []
  },
  {
   "cell_type": "code",
   "execution_count": 95,
   "metadata": {},
   "outputs": [
    {
     "data": {
      "image/png": "[encoded data removed]",
      "text/plain": [
       "plot without title"
      ]
     },
     "metadata": {},
     "output_type": "display_data"
    }
   ],
   "source": [
    "par(mfrow=c(1,2))\n",
    "plot(dspread, type=\"l\")\n",
    "plot(spread, type=\"l\")"
   ]
  },
  {
   "cell_type": "code",
   "execution_count": 96,
   "metadata": {},
   "outputs": [
    {
     "data": {
      "text/plain": [
       "\n",
       "Time series regression with \"ts\" data:\n",
       "Start = 10, End = 212\n",
       "\n",
       "Call:\n",
       "dynlm(formula = dspread ~ a + L(spread, 1) + L(dspread, 1) + \n",
       "    L(dspread, 2) + L(dspread, 3) + L(dspread, 4) + L(dspread, \n",
       "    5) + L(dspread, 6) + L(dspread, 7) + L(dspread, 8))\n",
       "\n",
       "Residuals:\n",
       "     Min       1Q   Median       3Q      Max \n",
       "-2.33066 -0.22210 -0.06503  0.21467  1.66108 \n",
       "\n",
       "Coefficients:\n",
       "                Estimate Std. Error t value Pr(>|t|)    \n",
       "(Intercept)    0.1985579  0.0824589   2.408 0.016988 *  \n",
       "a              0.0006944  0.0005851   1.187 0.236733    \n",
       "L(spread, 1)  -0.2283270  0.0504310  -4.528 1.05e-05 ***\n",
       "L(dspread, 1)  0.3350912  0.0750751   4.463 1.37e-05 ***\n",
       "L(dspread, 2) -0.0890205  0.0767093  -1.160 0.247289    \n",
       "L(dspread, 3)  0.2479751  0.0739761   3.352 0.000966 ***\n",
       "L(dspread, 4) -0.0042222  0.0759322  -0.056 0.955714    \n",
       "L(dspread, 5)  0.1554743  0.0739858   2.101 0.036910 *  \n",
       "L(dspread, 6) -0.0662748  0.0748733  -0.885 0.377178    \n",
       "L(dspread, 7) -0.0214943  0.0714943  -0.301 0.764012    \n",
       "L(dspread, 8)  0.1868831  0.0712246   2.624 0.009393 ** \n",
       "---\n",
       "Signif. codes:  0 '***' 0.001 '**' 0.01 '*' 0.05 '.' 0.1 ' ' 1\n",
       "\n",
       "Residual standard error: 0.4683 on 192 degrees of freedom\n",
       "Multiple R-squared:  0.2218,\tAdjusted R-squared:  0.1813 \n",
       "F-statistic: 5.473 on 10 and 192 DF,  p-value: 3.86e-07\n"
      ]
     },
     "metadata": {},
     "output_type": "display_data"
    }
   ],
   "source": [
    "b <- length(spread)\n",
    "a <- (c(1:b))\n",
    "a <- as.ts(a)\n",
    "\n",
    "reg <- dynlm(dspread ~ a + L(spread,1) + L(dspread,1) + L(dspread,2) + L(dspread,3) + L(dspread,4) + L(dspread,5) + L(dspread,6) + L(dspread,7) + L(dspread,8))\n",
    "summary(reg)"
   ]
  },
  {
   "cell_type": "code",
   "execution_count": 97,
   "metadata": {},
   "outputs": [
    {
     "data": {
      "text/plain": [
       "\n",
       "############################################### \n",
       "# Augmented Dickey-Fuller Test Unit Root Test # \n",
       "############################################### \n",
       "\n",
       "Test regression trend \n",
       "\n",
       "\n",
       "Call:\n",
       "lm(formula = z.diff ~ z.lag.1 + 1 + tt + z.diff.lag)\n",
       "\n",
       "Residuals:\n",
       "     Min       1Q   Median       3Q      Max \n",
       "-2.33066 -0.22210 -0.06503  0.21467  1.66108 \n",
       "\n",
       "Coefficients:\n",
       "              Estimate Std. Error t value Pr(>|t|)    \n",
       "(Intercept)  0.1992523  0.0821231   2.426 0.016179 *  \n",
       "z.lag.1     -0.2283270  0.0504310  -4.528 1.05e-05 ***\n",
       "tt           0.0006944  0.0005851   1.187 0.236733    \n",
       "z.diff.lag1  0.3350912  0.0750751   4.463 1.37e-05 ***\n",
       "z.diff.lag2 -0.0890205  0.0767093  -1.160 0.247289    \n",
       "z.diff.lag3  0.2479751  0.0739761   3.352 0.000966 ***\n",
       "z.diff.lag4 -0.0042222  0.0759322  -0.056 0.955714    \n",
       "z.diff.lag5  0.1554743  0.0739858   2.101 0.036910 *  \n",
       "z.diff.lag6 -0.0662748  0.0748733  -0.885 0.377178    \n",
       "z.diff.lag7 -0.0214943  0.0714943  -0.301 0.764012    \n",
       "z.diff.lag8  0.1868831  0.0712246   2.624 0.009393 ** \n",
       "---\n",
       "Signif. codes:  0 '***' 0.001 '**' 0.01 '*' 0.05 '.' 0.1 ' ' 1\n",
       "\n",
       "Residual standard error: 0.4683 on 192 degrees of freedom\n",
       "Multiple R-squared:  0.2218,\tAdjusted R-squared:  0.1813 \n",
       "F-statistic: 5.473 on 10 and 192 DF,  p-value: 3.86e-07\n",
       "\n",
       "\n",
       "Value of test-statistic is: -4.5275 6.8377 10.2544 \n",
       "\n",
       "Critical values for test statistics: \n",
       "      1pct  5pct 10pct\n",
       "tau3 -3.99 -3.43 -3.13\n",
       "phi2  6.22  4.75  4.07\n",
       "phi3  8.43  6.49  5.47\n"
      ]
     },
     "metadata": {},
     "output_type": "display_data"
    }
   ],
   "source": [
    "summary(ur.df(y = spread, type = c(\"trend\"), lags = 8, selectlags = \"Fixed\"))"
   ]
  },
  {
   "cell_type": "code",
   "execution_count": null,
   "metadata": {},
   "outputs": [],
   "source": []
  },
  {
   "cell_type": "code",
   "execution_count": 98,
   "metadata": {},
   "outputs": [
    {
     "data": {
      "text/html": [
       "<table>\n",
       "<thead><tr><th scope=col>Res.Df</th><th scope=col>RSS</th><th scope=col>Df</th><th scope=col>Sum of Sq</th><th scope=col>F</th><th scope=col>Pr(&gt;F)</th></tr></thead>\n",
       "<tbody>\n",
       "\t<tr><td>202         </td><td>54.10507    </td><td>NA          </td><td>      NA    </td><td>     NA     </td><td>          NA</td></tr>\n",
       "\t<tr><td>192         </td><td>42.10411    </td><td>10          </td><td>12.00096    </td><td>5.47259     </td><td>3.860136e-07</td></tr>\n",
       "</tbody>\n",
       "</table>\n"
      ],
      "text/latex": [
       "\\begin{tabular}{r|llllll}\n",
       " Res.Df & RSS & Df & Sum of Sq & F & Pr(>F)\\\\\n",
       "\\hline\n",
       "\t 202          & 54.10507     & NA           &       NA     &      NA      &           NA\\\\\n",
       "\t 192          & 42.10411     & 10           & 12.00096     & 5.47259      & 3.860136e-07\\\\\n",
       "\\end{tabular}\n"
      ],
      "text/markdown": [
       "\n",
       "Res.Df | RSS | Df | Sum of Sq | F | Pr(>F) | \n",
       "|---|---|\n",
       "| 202          | 54.10507     | NA           |       NA     |      NA      |           NA | \n",
       "| 192          | 42.10411     | 10           | 12.00096     | 5.47259      | 3.860136e-07 | \n",
       "\n",
       "\n"
      ],
      "text/plain": [
       "  Res.Df RSS      Df Sum of Sq F       Pr(>F)      \n",
       "1 202    54.10507 NA       NA       NA           NA\n",
       "2 192    42.10411 10 12.00096  5.47259 3.860136e-07"
      ]
     },
     "metadata": {},
     "output_type": "display_data"
    }
   ],
   "source": [
    "linearHypothesis(reg, c(\"L(spread, 1) = 0\", \n",
    "                        \"a = 0\",\n",
    "                        \"L(dspread, 1) = 0\",\n",
    "                        \"L(dspread, 2) = 0\",\n",
    "                        \"L(dspread, 3) = 0\",\n",
    "                        \"L(dspread, 4) = 0\",\n",
    "                        \"L(dspread, 5) = 0\",\n",
    "                        \"L(dspread, 6) = 0\",\n",
    "                        \"L(dspread, 7) = 0\",\n",
    "                        \"L(dspread, 8) = 0\")\n",
    "                 ,test=\"F\")"
   ]
  },
  {
   "cell_type": "code",
   "execution_count": 99,
   "metadata": {},
   "outputs": [
    {
     "data": {
      "text/html": [
       "<table>\n",
       "<thead><tr><th scope=col>Res.Df</th><th scope=col>RSS</th><th scope=col>Df</th><th scope=col>Sum of Sq</th><th scope=col>F</th><th scope=col>Pr(&gt;F)</th></tr></thead>\n",
       "<tbody>\n",
       "\t<tr><td>193      </td><td>42.41303 </td><td>NA       </td><td>       NA</td><td>      NA </td><td>       NA</td></tr>\n",
       "\t<tr><td>192      </td><td>42.10411 </td><td> 1       </td><td>0.3089247</td><td>1.408735 </td><td>0.2367329</td></tr>\n",
       "</tbody>\n",
       "</table>\n"
      ],
      "text/latex": [
       "\\begin{tabular}{r|llllll}\n",
       " Res.Df & RSS & Df & Sum of Sq & F & Pr(>F)\\\\\n",
       "\\hline\n",
       "\t 193       & 42.41303  & NA        &        NA &       NA  &        NA\\\\\n",
       "\t 192       & 42.10411  &  1        & 0.3089247 & 1.408735  & 0.2367329\\\\\n",
       "\\end{tabular}\n"
      ],
      "text/markdown": [
       "\n",
       "Res.Df | RSS | Df | Sum of Sq | F | Pr(>F) | \n",
       "|---|---|\n",
       "| 193       | 42.41303  | NA        |        NA |       NA  |        NA | \n",
       "| 192       | 42.10411  |  1        | 0.3089247 | 1.408735  | 0.2367329 | \n",
       "\n",
       "\n"
      ],
      "text/plain": [
       "  Res.Df RSS      Df Sum of Sq F        Pr(>F)   \n",
       "1 193    42.41303 NA        NA       NA        NA\n",
       "2 192    42.10411  1 0.3089247 1.408735 0.2367329"
      ]
     },
     "metadata": {},
     "output_type": "display_data"
    }
   ],
   "source": [
    "linearHypothesis(reg, \n",
    "                 \"a = 0\",\n",
    "                 test=\"F\")"
   ]
  },
  {
   "cell_type": "code",
   "execution_count": null,
   "metadata": {},
   "outputs": [],
   "source": []
  },
  {
   "cell_type": "markdown",
   "metadata": {},
   "source": [
    "## Chapter 5: VAR models"
   ]
  },
  {
   "cell_type": "markdown",
   "metadata": {},
   "source": [
    "### Excercise 9"
   ]
  },
  {
   "cell_type": "code",
   "execution_count": 242,
   "metadata": {},
   "outputs": [
    {
     "data": {
      "image/png": "[encoded data removed]",
      "text/plain": [
       "Plot with title \"\""
      ]
     },
     "metadata": {},
     "output_type": "display_data"
    }
   ],
   "source": [
    "library(zoo)\n",
    "date <- quarterly$date\n",
    "Unemp <- quarterly$Unemp\n",
    "IndProd <- quarterly$IndProd\n",
    "df <- data.frame(Unemp, IndProd, date)\n",
    "\n",
    "Unemp <- with(df, zoo(Unemp, date))\n",
    "IndProd <- with(df, zoo(IndProd, date))\n",
    "\n",
    "df <- merge(Unemp, IndProd)\n",
    "\n",
    "par(mfrow=c(1,4))\n",
    "plot(Unemp, type=\"l\")\n",
    "plot(IndProd, type=\"l\")\n",
    "\n",
    "df2 <- df[-1,]\n",
    "df2$ur <- diff(log(df$Unemp))\n",
    "df2$lip <- diff(log(df$IndProd))\n",
    "\n",
    "plot(df2$Unemp, type=\"l\")\n",
    "plot(df2$lip, type=\"l\")"
   ]
  },
  {
   "cell_type": "code",
   "execution_count": 248,
   "metadata": {},
   "outputs": [],
   "source": [
    "df3 <- df2[,-c(1,2)]"
   ]
  },
  {
   "cell_type": "code",
   "execution_count": 249,
   "metadata": {},
   "outputs": [
    {
     "data": {
      "text/plain": [
       "\n",
       "VAR Estimation Results:\n",
       "========================= \n",
       "Endogenous variables: ur, lip \n",
       "Deterministic variables: const \n",
       "Sample size: 202 \n",
       "Log Likelihood: 1081.566 \n",
       "Roots of the characteristic polynomial:\n",
       "0.8992 0.8992 0.8714 0.8714 0.856 0.856 0.8506 0.8506 0.8373 0.8373 0.8082 0.8082 0.8028 0.7867 0.7867 0.7582 0.7582 0.3848\n",
       "Call:\n",
       "VAR(y = df3, p = 9, type = \"const\")\n",
       "\n",
       "\n",
       "Estimation results for equation ur: \n",
       "=================================== \n",
       "ur = ur.l1 + lip.l1 + ur.l2 + lip.l2 + ur.l3 + lip.l3 + ur.l4 + lip.l4 + ur.l5 + lip.l5 + ur.l6 + lip.l6 + ur.l7 + lip.l7 + ur.l8 + lip.l8 + ur.l9 + lip.l9 + const \n",
       "\n",
       "        Estimate Std. Error t value Pr(>|t|)    \n",
       "ur.l1   0.467108   0.103821   4.499 1.21e-05 ***\n",
       "lip.l1 -0.807475   0.318805  -2.533  0.01215 *  \n",
       "ur.l2   0.192723   0.106396   1.811  0.07172 .  \n",
       "lip.l2  0.638180   0.330480   1.931  0.05502 .  \n",
       "ur.l3   0.057582   0.103079   0.559  0.57711    \n",
       "lip.l3 -0.142127   0.325719  -0.436  0.66310    \n",
       "ur.l4  -0.215058   0.102696  -2.094  0.03763 *  \n",
       "lip.l4 -0.137387   0.328389  -0.418  0.67617    \n",
       "ur.l5   0.094250   0.101648   0.927  0.35503    \n",
       "lip.l5  0.648640   0.314848   2.060  0.04080 *  \n",
       "ur.l6   0.082597   0.099933   0.827  0.40958    \n",
       "lip.l6 -0.460266   0.317593  -1.449  0.14898    \n",
       "ur.l7   0.114855   0.099709   1.152  0.25087    \n",
       "lip.l7  0.409239   0.318415   1.285  0.20033    \n",
       "ur.l8  -0.290116   0.102176  -2.839  0.00503 ** \n",
       "lip.l8 -0.039640   0.317134  -0.125  0.90066    \n",
       "ur.l9  -0.053004   0.095648  -0.554  0.58015    \n",
       "lip.l9 -0.563348   0.301994  -1.865  0.06372 .  \n",
       "const   0.004088   0.005611   0.729  0.46716    \n",
       "---\n",
       "Signif. codes:  0 '***' 0.001 '**' 0.01 '*' 0.05 '.' 0.1 ' ' 1\n",
       "\n",
       "\n",
       "Residual standard error: 0.03648 on 183 degrees of freedom\n",
       "Multiple R-Squared: 0.5318,\tAdjusted R-squared: 0.4857 \n",
       "F-statistic: 11.55 on 18 and 183 DF,  p-value: < 2.2e-16 \n",
       "\n",
       "\n",
       "Estimation results for equation lip: \n",
       "==================================== \n",
       "lip = ur.l1 + lip.l1 + ur.l2 + lip.l2 + ur.l3 + lip.l3 + ur.l4 + lip.l4 + ur.l5 + lip.l5 + ur.l6 + lip.l6 + ur.l7 + lip.l7 + ur.l8 + lip.l8 + ur.l9 + lip.l9 + const \n",
       "\n",
       "        Estimate Std. Error t value Pr(>|t|)    \n",
       "ur.l1  -0.104534   0.033650  -3.107  0.00219 ** \n",
       "lip.l1  0.437113   0.103328   4.230 3.68e-05 ***\n",
       "ur.l2  -0.027939   0.034484  -0.810  0.41888    \n",
       "lip.l2 -0.257487   0.107112  -2.404  0.01722 *  \n",
       "ur.l3   0.037557   0.033409   1.124  0.26242    \n",
       "lip.l3  0.174773   0.105569   1.656  0.09953 .  \n",
       "ur.l4   0.033582   0.033285   1.009  0.31434    \n",
       "lip.l4 -0.021529   0.106435  -0.202  0.83993    \n",
       "ur.l5  -0.018717   0.032945  -0.568  0.57064    \n",
       "lip.l5 -0.119200   0.102046  -1.168  0.24428    \n",
       "ur.l6  -0.004857   0.032389  -0.150  0.88096    \n",
       "lip.l6  0.129957   0.102935   1.263  0.20837    \n",
       "ur.l7   0.056746   0.032317   1.756  0.08078 .  \n",
       "lip.l7  0.122130   0.103202   1.183  0.23818    \n",
       "ur.l8   0.061745   0.033117   1.864  0.06385 .  \n",
       "lip.l8 -0.068682   0.102787  -0.668  0.50485    \n",
       "ur.l9  -0.015188   0.031001  -0.490  0.62477    \n",
       "lip.l9  0.147704   0.097880   1.509  0.13302    \n",
       "const   0.002967   0.001818   1.631  0.10454    \n",
       "---\n",
       "Signif. codes:  0 '***' 0.001 '**' 0.01 '*' 0.05 '.' 0.1 ' ' 1\n",
       "\n",
       "\n",
       "Residual standard error: 0.01182 on 183 degrees of freedom\n",
       "Multiple R-Squared: 0.4714,\tAdjusted R-squared: 0.4194 \n",
       "F-statistic: 9.065 on 18 and 183 DF,  p-value: < 2.2e-16 \n",
       "\n",
       "\n",
       "\n",
       "Covariance matrix of residuals:\n",
       "            ur        lip\n",
       "ur   0.0013309 -0.0003045\n",
       "lip -0.0003045  0.0001398\n",
       "\n",
       "Correlation matrix of residuals:\n",
       "         ur     lip\n",
       "ur   1.0000 -0.7058\n",
       "lip -0.7058  1.0000\n",
       "\n"
      ]
     },
     "metadata": {},
     "output_type": "display_data"
    }
   ],
   "source": [
    "m <- VAR(df3, p = 9, type = \"const\")\n",
    "summary(m)"
   ]
  },
  {
   "cell_type": "code",
   "execution_count": 231,
   "metadata": {},
   "outputs": [
    {
     "name": "stdout",
     "output_type": "stream",
     "text": [
      "AIC(n)  HQ(n)  SC(n) FPE(n) \n",
      "    10      1      1     10 \n"
     ]
    }
   ],
   "source": [
    "print(VARselect(df2, lag.max=12, type=\"const\")[[\"selection\"]])"
   ]
  },
  {
   "cell_type": "code",
   "execution_count": null,
   "metadata": {},
   "outputs": [],
   "source": []
  },
  {
   "cell_type": "code",
   "execution_count": null,
   "metadata": {},
   "outputs": [],
   "source": []
  },
  {
   "cell_type": "markdown",
   "metadata": {},
   "source": [
    "### Excercise 11"
   ]
  },
  {
   "cell_type": "code",
   "execution_count": 186,
   "metadata": {},
   "outputs": [
    {
     "data": {
      "image/png": "[encoded data removed]",
      "text/plain": [
       "plot without title"
      ]
     },
     "metadata": {},
     "output_type": "display_data"
    }
   ],
   "source": [
    "lip <- as.ts(diff(log(quarterly$IndProd)))\n",
    "inf <- as.ts(diff(log(quarterly$CPI)))\n",
    "\n",
    "data <- ts.union(lip,inf)\n",
    "\n",
    "par(mfrow=c(1,2))\n",
    "plot(lip, type=\"l\")\n",
    "plot(inf, type=\"l\")"
   ]
  },
  {
   "cell_type": "markdown",
   "metadata": {},
   "source": [
    "Test wether they are stationary, we find that production is stationary and inflation isn't"
   ]
  },
  {
   "cell_type": "code",
   "execution_count": 152,
   "metadata": {},
   "outputs": [
    {
     "name": "stderr",
     "output_type": "stream",
     "text": [
      "Warning message in adf.test(lip):\n",
      "\"p-value smaller than printed p-value\""
     ]
    },
    {
     "data": {
      "text/plain": [
       "\n",
       "\tAugmented Dickey-Fuller Test\n",
       "\n",
       "data:  lip\n",
       "Dickey-Fuller = -5.468, Lag order = 5, p-value = 0.01\n",
       "alternative hypothesis: stationary\n"
      ]
     },
     "metadata": {},
     "output_type": "display_data"
    },
    {
     "data": {
      "text/plain": [
       "\n",
       "\tAugmented Dickey-Fuller Test\n",
       "\n",
       "data:  inf\n",
       "Dickey-Fuller = -2.9091, Lag order = 5, p-value = 0.1949\n",
       "alternative hypothesis: stationary\n"
      ]
     },
     "metadata": {},
     "output_type": "display_data"
    }
   ],
   "source": [
    "adf.test(lip)\n",
    "adf.test(inf)"
   ]
  },
  {
   "cell_type": "markdown",
   "metadata": {},
   "source": [
    "We test the lag length and choose the 3 lags that the BIC model shows (HQ)"
   ]
  },
  {
   "cell_type": "code",
   "execution_count": 153,
   "metadata": {},
   "outputs": [
    {
     "name": "stdout",
     "output_type": "stream",
     "text": [
      "AIC(n)  HQ(n)  SC(n) FPE(n) \n",
      "     5      3      3      5 \n"
     ]
    }
   ],
   "source": [
    "print(VARselect(data, lag.max=8, type=\"const\")[[\"selection\"]])"
   ]
  },
  {
   "cell_type": "markdown",
   "metadata": {},
   "source": [
    "We test for granger causality, and find that they both cause eachother"
   ]
  },
  {
   "cell_type": "code",
   "execution_count": 154,
   "metadata": {},
   "outputs": [
    {
     "data": {
      "text/html": [
       "<table>\n",
       "<thead><tr><th scope=col>Res.Df</th><th scope=col>Df</th><th scope=col>F</th><th scope=col>Pr(&gt;F)</th></tr></thead>\n",
       "<tbody>\n",
       "\t<tr><td>201        </td><td>NA         </td><td>      NA   </td><td>         NA</td></tr>\n",
       "\t<tr><td>204        </td><td>-3         </td><td>4.819085   </td><td>0.002911368</td></tr>\n",
       "</tbody>\n",
       "</table>\n"
      ],
      "text/latex": [
       "\\begin{tabular}{r|llll}\n",
       " Res.Df & Df & F & Pr(>F)\\\\\n",
       "\\hline\n",
       "\t 201         & NA          &       NA    &          NA\\\\\n",
       "\t 204         & -3          & 4.819085    & 0.002911368\\\\\n",
       "\\end{tabular}\n"
      ],
      "text/markdown": [
       "\n",
       "Res.Df | Df | F | Pr(>F) | \n",
       "|---|---|\n",
       "| 201         | NA          |       NA    |          NA | \n",
       "| 204         | -3          | 4.819085    | 0.002911368 | \n",
       "\n",
       "\n"
      ],
      "text/plain": [
       "  Res.Df Df F        Pr(>F)     \n",
       "1 201    NA       NA          NA\n",
       "2 204    -3 4.819085 0.002911368"
      ]
     },
     "metadata": {},
     "output_type": "display_data"
    },
    {
     "data": {
      "text/html": [
       "<table>\n",
       "<thead><tr><th scope=col>Res.Df</th><th scope=col>Df</th><th scope=col>F</th><th scope=col>Pr(&gt;F)</th></tr></thead>\n",
       "<tbody>\n",
       "\t<tr><td>201        </td><td>NA         </td><td>      NA   </td><td>         NA</td></tr>\n",
       "\t<tr><td>204        </td><td>-3         </td><td>5.104971   </td><td>0.001999622</td></tr>\n",
       "</tbody>\n",
       "</table>\n"
      ],
      "text/latex": [
       "\\begin{tabular}{r|llll}\n",
       " Res.Df & Df & F & Pr(>F)\\\\\n",
       "\\hline\n",
       "\t 201         & NA          &       NA    &          NA\\\\\n",
       "\t 204         & -3          & 5.104971    & 0.001999622\\\\\n",
       "\\end{tabular}\n"
      ],
      "text/markdown": [
       "\n",
       "Res.Df | Df | F | Pr(>F) | \n",
       "|---|---|\n",
       "| 201         | NA          |       NA    |          NA | \n",
       "| 204         | -3          | 5.104971    | 0.001999622 | \n",
       "\n",
       "\n"
      ],
      "text/plain": [
       "  Res.Df Df F        Pr(>F)     \n",
       "1 201    NA       NA          NA\n",
       "2 204    -3 5.104971 0.001999622"
      ]
     },
     "metadata": {},
     "output_type": "display_data"
    }
   ],
   "source": [
    "grangertest(lip ~ inf, order=3)\n",
    "grangertest(inf ~ lip, order=3)"
   ]
  },
  {
   "cell_type": "markdown",
   "metadata": {},
   "source": [
    "The Choleski decomposition is found with the fevd() command, and we see how they affect eachother. The function does the following:\n",
    "\n",
    "*Computes the forecast error variance decomposition of a VAR(p) for n.ahead steps.*"
   ]
  },
  {
   "cell_type": "code",
   "execution_count": 155,
   "metadata": {},
   "outputs": [
    {
     "data": {
      "text/plain": [
       "$lip\n",
       "            lip         inf\n",
       " [1,] 1.0000000 0.000000000\n",
       " [2,] 0.9948729 0.005127074\n",
       " [3,] 0.9914523 0.008547660\n",
       " [4,] 0.9746892 0.025310771\n",
       " [5,] 0.9508489 0.049151067\n",
       " [6,] 0.9358435 0.064156502\n",
       " [7,] 0.9228408 0.077159175\n",
       " [8,] 0.9104460 0.089553980\n",
       " [9,] 0.9011853 0.098814690\n",
       "[10,] 0.8940685 0.105931489\n",
       "\n",
       "$inf\n",
       "             lip       inf\n",
       " [1,] 0.01689170 0.9831083\n",
       " [2,] 0.09020054 0.9097995\n",
       " [3,] 0.10870279 0.8912972\n",
       " [4,] 0.11212667 0.8878733\n",
       " [5,] 0.12933060 0.8706694\n",
       " [6,] 0.14151574 0.8584843\n",
       " [7,] 0.14729840 0.8527016\n",
       " [8,] 0.15307262 0.8469274\n",
       " [9,] 0.15794753 0.8420525\n",
       "[10,] 0.16112302 0.8388770\n"
      ]
     },
     "metadata": {},
     "output_type": "display_data"
    }
   ],
   "source": [
    "m <- VAR(data, p = 3, type = \"const\")\n",
    "fevd(m)"
   ]
  },
  {
   "cell_type": "markdown",
   "metadata": {},
   "source": [
    "Now to verify how shocks in the variables affect each other, we can see this in the IRF graphs\n",
    "\n",
    "We see that positive shock to production increases inflation, and that a positive shock to inflation decreases production"
   ]
  },
  {
   "cell_type": "code",
   "execution_count": 162,
   "metadata": {},
   "outputs": [
    {
     "data": {
      "image/png": "[encoded data removed]",
      "text/plain": [
       "plot without title"
      ]
     },
     "metadata": {},
     "output_type": "display_data"
    },
    {
     "data": {
      "image/png": "[encoded data removed]",
      "text/plain": [
       "plot without title"
      ]
     },
     "metadata": {},
     "output_type": "display_data"
    }
   ],
   "source": [
    "nsim <- length(inf)\n",
    "m <- VAR(data, p = 3, type = \"const\")\n",
    "\n",
    "psim <- as.data.frame(data)\n",
    "psim$n <- c(1:nsim)\n",
    "psim <- gather(psim, variable, value, -n)\n",
    "\n",
    "p1 <- ggplot(psim, aes(n, value, linetype=variable)) + \n",
    " geom_line() + \n",
    " labs(title=\"VAR(1) model with 2 variables\", x=\"\", y=\"\")\n",
    "\n",
    "irfdata <- irf(m, nsteps = 12, n.ahead=20)\n",
    "variables <- irfdata$irf %>% names\n",
    "\n",
    "#### Function to extract IRF data ####\n",
    "ir <- lapply(1:length(variables), function(e){\n",
    "    data_to_plot <- data.frame(irfdata %>% `$`(irf) %>% `[[`(variables[e])) %>%\n",
    "      mutate(\"t\" = 1:NROW(.)) %>%\n",
    "      gather(.,Variable, Value, -t)\n",
    "\n",
    "    upper_ci <- data.frame(irfdata %>% `$`(Upper) %>% `[[`(variables[e])) %>%\n",
    "      mutate(\"t\" = 1:NROW(.)) %>%\n",
    "      gather(.,Variable, Upper, -t)\n",
    "\n",
    "    lower_ci <- data.frame(irfdata %>% `$`(Lower) %>% `[[`(variables[e]) ) %>%\n",
    "      mutate(\"t\" = 1:NROW(.)) %>%\n",
    "      gather(.,Variable, Lower, -t)\n",
    "\n",
    "    res <- inner_join(data_to_plot, upper_ci, c(\"t\",\"Variable\")) %>%\n",
    "           inner_join(.,lower_ci, c(\"t\",\"Variable\")) %>%\n",
    "           mutate(impulse = paste(\"Shock to\", variables[e])) \n",
    "}) %>% bind_rows\n",
    "######################################\n",
    "\n",
    "p2 <- ggplot(ir, aes(x = t, y = Value, group = Variable))  +\n",
    "  geom_line() +\n",
    "  geom_ribbon(aes(x=t, ymax=Upper, ymin=Lower), alpha=0.2) +\n",
    "  scale_x_continuous(limits = c(0,21), breaks = seq(0,20,2)) +\n",
    "  scale_y_continuous(\"\", position=\"right\") +\n",
    "  labs(title=\"Impulse Response Functions\", x=\"\") +\n",
    "  facet_grid(Variable ~ impulse, scales=\"free\", switch=\"y\")\n",
    "\n",
    "print(p1)\n",
    "print(p2)"
   ]
  },
  {
   "cell_type": "markdown",
   "metadata": {},
   "source": [
    "Now we use the Blanchard Quah decompsition by using the BQ() from the vars package"
   ]
  },
  {
   "cell_type": "code",
   "execution_count": 182,
   "metadata": {},
   "outputs": [
    {
     "data": {
      "image/png": "[encoded data removed]",
      "text/plain": [
       "plot without title"
      ]
     },
     "metadata": {},
     "output_type": "display_data"
    }
   ],
   "source": [
    "nsim <- length(inf)\n",
    "m <- VAR(data, p = 3)\n",
    "m <- BQ(m)\n",
    "\n",
    "psim <- as.data.frame(data)\n",
    "psim$n <- c(1:nsim)\n",
    "psim <- gather(psim, variable, value, -n)\n",
    "\n",
    "irfdata <- irf(m,cumulative=T,n.ahead=20)\n",
    "variables <- irfdata$irf %>% names\n",
    "\n",
    "#### Function to extract IRF data ####\n",
    "ir <- lapply(1:length(variables), function(e){\n",
    "    data_to_plot <- data.frame(irfdata %>% `$`(irf) %>% `[[`(variables[e])) %>%\n",
    "      mutate(\"t\" = 1:NROW(.)) %>%\n",
    "      gather(.,Variable, Value, -t)\n",
    "\n",
    "    upper_ci <- data.frame(irfdata %>% `$`(Upper) %>% `[[`(variables[e])) %>%\n",
    "      mutate(\"t\" = 1:NROW(.)) %>%\n",
    "      gather(.,Variable, Upper, -t)\n",
    "\n",
    "    lower_ci <- data.frame(irfdata %>% `$`(Lower) %>% `[[`(variables[e]) ) %>%\n",
    "      mutate(\"t\" = 1:NROW(.)) %>%\n",
    "      gather(.,Variable, Lower, -t)\n",
    "\n",
    "    res <- inner_join(data_to_plot, upper_ci, c(\"t\",\"Variable\")) %>%\n",
    "           inner_join(.,lower_ci, c(\"t\",\"Variable\")) %>%\n",
    "           mutate(impulse = paste(\"Shock to\", variables[e])) \n",
    "}) %>% bind_rows\n",
    "######################################\n",
    "\n",
    "p2 <- ggplot(ir, aes(x = t, y = Value, group = Variable))  +\n",
    "  geom_line() +\n",
    "  geom_hline(yintercept=0, alpha=0.5, linetype=\"dashed\", size=0.6) +\n",
    "  geom_ribbon(aes(x=t, ymax=Upper, ymin=Lower), alpha=0.2) +\n",
    "  scale_x_continuous(limits = c(0,21), breaks = seq(0,20,2)) +\n",
    "  scale_y_continuous(\"\", position=\"right\") +\n",
    "  labs(title=\"Impulse Response Functions\", x=\"\") +\n",
    "  facet_grid(Variable ~ impulse, scales=\"free\", switch=\"y\")\n",
    "\n",
    "print(p2)"
   ]
  },
  {
   "cell_type": "code",
   "execution_count": null,
   "metadata": {},
   "outputs": [],
   "source": []
  },
  {
   "cell_type": "code",
   "execution_count": null,
   "metadata": {},
   "outputs": [],
   "source": []
  },
  {
   "cell_type": "code",
   "execution_count": null,
   "metadata": {},
   "outputs": [],
   "source": []
  }
 ],
 "metadata": {
  "kernelspec": {
   "display_name": "R",
   "language": "R",
   "name": "ir"
  },
  "language_info": {
   "codemirror_mode": "r",
   "file_extension": ".r",
   "mimetype": "text/x-r-source",
   "name": "R",
   "pygments_lexer": "r",
   "version": "3.5.1"
  }
 },
 "nbformat": 4,
 "nbformat_minor": 2
}
