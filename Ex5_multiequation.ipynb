{
 "cells": [
  {
   "cell_type": "markdown",
   "metadata": {},
   "source": [
    "# Chapter 5: VAR models"
   ]
  },
  {
   "cell_type": "code",
   "execution_count": 8,
   "metadata": {},
   "outputs": [],
   "source": [
    "suppressMessages(library(tidyverse)) # Readr, ggplot, dplyr, ...\n",
    "suppressMessages(library(gridExtra)) # Arrangning ggplots\n",
    "suppressMessages(library(readxl))    # Loading excel\n",
    "suppressMessages(library(repr))      # Resizing the plots in jupyter\n",
    "suppressMessages(library(rugarch))   # For ARCH and GARCH models\n",
    "suppressMessages(library(dynlm))     # Lagged linear models\n",
    "suppressMessages(library(urca))      # Dick Fuller test\n",
    "suppressMessages(library(car))       # Linear hyphothesis testing\n",
    "suppressMessages(library(tseries))   # Adf-test\n",
    "suppressMessages(library(vars))      # VAR models\n",
    "suppressMessages(library(zoo))       # Convert quarters to date\n",
    "suppressMessages(library(forecast))  # Help in plotting TS\n",
    "suppressMessages(library(fGarch))    # The library Lasse uses to do GARCH\n",
    "suppressMessages(library(expm))      # Matrix calculations \n",
    "\n",
    "\n",
    "options(warn=-1) # Carefull this disables all warnings\n",
    "options(repr.plot.width=9, repr.plot.height=2.5)\n",
    "\n",
    "setwd(\"C:/Users/larsn/Documents/GitHub/Applied-Econometric-Time-Series-WE\")"
   ]
  },
  {
   "cell_type": "markdown",
   "metadata": {},
   "source": [
    "# Exercise 1: Intervention analysis\n",
    "Consider exercise 2a and 2b in chapter 5. Moreover, to get some feeling ofwhat the apparent shift in 1997Q4 does to the slope parameter, consider first a naive AR(1) without any dummy and compare this with an AR(1) including the dummy"
   ]
  },
  {
   "cell_type": "code",
   "execution_count": 4,
   "metadata": {},
   "outputs": [
    {
     "ename": "ERROR",
     "evalue": "Error in png(tf, width, height, \"in\", pointsize, bg, res, antialias = antialias): kan ikke starte png()-enhed\n",
     "output_type": "error",
     "traceback": [
      "Error in png(tf, width, height, \"in\", pointsize, bg, res, antialias = antialias): kan ikke starte png()-enhed\nTraceback:\n"
     ]
    },
    {
     "data": {
      "text/plain": [
       "plot without title"
      ]
     },
     "metadata": {},
     "output_type": "display_data"
    }
   ],
   "source": [
    "terror <- read_delim(\"~/GitHub/Applied-Econometric-Time-Series-WE/Data/Terrorism.csv\", \n",
    "                        \";\", escape_double = FALSE, col_types = cols(ENTRY = col_character()), \n",
    "                        trim_ws = TRUE)\n",
    "terror$date <- as.Date(as.yearqtr(terror$ENTRY, format = \"%Y-%q\"))\n",
    "\n",
    "tt <- gather(terror, variable, value, -date, -ENTRY)\n",
    "\n",
    "p <- ggplot(tt, aes(date, value, linetype=variable)) + \n",
    "  geom_line() + \n",
    "  labs(title=\"Terrorism\")\n",
    "print(p)"
   ]
  },
  {
   "cell_type": "code",
   "execution_count": 195,
   "metadata": {},
   "outputs": [
    {
     "data": {
      "image/png": "[encoded data removed]",
      "text/plain": [
       "Plot with title \"Series  y_post\""
      ]
     },
     "metadata": {},
     "output_type": "display_data"
    }
   ],
   "source": [
    "terror_pre_97  <- subset(terror, date < as.Date(\"1998-01-01\"))\n",
    "terror_post_97 <- subset(terror, date >= as.Date(\"1998-01-01\"))\n",
    "\n",
    "y_pre <- terror_pre_97$Transnational\n",
    "y_post <- terror_post_97$Transnational\n",
    "\n",
    "par(mfrow=c(1,4))\n",
    "Acf(y_pre)\n",
    "Pacf(y_pre)\n",
    "Acf(y_post)\n",
    "Pacf(y_post)"
   ]
  },
  {
   "cell_type": "markdown",
   "metadata": {},
   "source": [
    "It looks like an AR(2) model would fit the pre period pretty well, we check with auto.arima"
   ]
  },
  {
   "cell_type": "code",
   "execution_count": 196,
   "metadata": {},
   "outputs": [
    {
     "data": {
      "text/plain": [
       "Series: y_pre \n",
       "ARIMA(2,1,1) \n",
       "\n",
       "Coefficients:\n",
       "         ar1     ar2      ma1\n",
       "      0.3226  0.4189  -0.9663\n",
       "s.e.  0.0976  0.0944   0.0428\n",
       "\n",
       "sigma^2 estimated as 100.2:  log likelihood=-412.18\n",
       "AIC=832.36   AICc=832.73   BIC=843.19"
      ]
     },
     "metadata": {},
     "output_type": "display_data"
    },
    {
     "data": {
      "text/plain": [
       "Series: y_post \n",
       "ARIMA(1,0,1) with non-zero mean \n",
       "\n",
       "Coefficients:\n",
       "          ar1     ma1     mean\n",
       "      -0.6286  0.9336  14.3899\n",
       "s.e.   0.1335  0.0639   0.9220\n",
       "\n",
       "sigma^2 estimated as 33.4:  log likelihood=-163.86\n",
       "AIC=335.72   AICc=336.57   BIC=343.52"
      ]
     },
     "metadata": {},
     "output_type": "display_data"
    }
   ],
   "source": [
    "auto.arima(y_pre)\n",
    "auto.arima(y_post)"
   ]
  },
  {
   "cell_type": "code",
   "execution_count": 197,
   "metadata": {},
   "outputs": [
    {
     "data": {
      "text/plain": [
       "\n",
       "Call:\n",
       "lm(formula = terror$Transnational ~ terror$z)\n",
       "\n",
       "Coefficients:\n",
       "(Intercept)     terror$z  \n",
       "      29.09       -14.70  \n"
      ]
     },
     "metadata": {},
     "output_type": "display_data"
    },
    {
     "data": {
      "text/plain": [
       "\n",
       "Call:\n",
       "arima(x = terror$Transnational, order = c(2, 0, 0), xreg = terror$z, method = \"CSS\")\n",
       "\n",
       "Coefficients:\n",
       "         ar1     ar2  intercept  terror$z\n",
       "      0.3247  0.3867    30.2980  -16.1052\n",
       "s.e.  0.0720  0.0713     2.8463    4.4009\n",
       "\n",
       "sigma^2 estimated as 78.32:  part log likelihood = -590.29"
      ]
     },
     "metadata": {},
     "output_type": "display_data"
    },
    {
     "data": {
      "text/plain": [
       "\n",
       "Time series regression with \"ts\" data:\n",
       "Start = 3, End = 164\n",
       "\n",
       "Call:\n",
       "dynlm(formula = terror$Transnational ~ L(terror$Transnational, \n",
       "    1) + L(terror$Transnational, 2) + terror$z)\n",
       "\n",
       "Coefficients:\n",
       "               (Intercept)  L(terror$Transnational, 1)  \n",
       "                    9.1018                      0.3231  \n",
       "L(terror$Transnational, 2)                    terror$z  \n",
       "                    0.3740                     -5.0028  \n"
      ]
     },
     "metadata": {},
     "output_type": "display_data"
    }
   ],
   "source": [
    "terror$z <- ifelse(terror$date >= as.Date(\"1998-01-01\"), 1,0)\n",
    "\n",
    "m1 <- lm(terror$Transnational ~ terror$z)\n",
    "m1\n",
    "\n",
    "m2 <- arima(terror$Transnational, order=c(2,0,0), xreg=terror$z, method=\"CSS\")\n",
    "m2\n",
    "\n",
    "terror$z <- as.ts(terror$z)\n",
    "terror$Transnational <- as.ts(terror$Transnational)\n",
    "\n",
    "m3 <- dynlm(terror$Transnational ~ L(terror$Transnational,1) + L(terror$Transnational,2) + terror$z)\n",
    "m3"
   ]
  },
  {
   "cell_type": "code",
   "execution_count": 261,
   "metadata": {},
   "outputs": [
    {
     "data": {
      "image/png": "[encoded data removed]",
      "text/plain": [
       "Plot with title \"Series  terror$Transnational\""
      ]
     },
     "metadata": {},
     "output_type": "display_data"
    }
   ],
   "source": [
    "par(mfrow=c(1,4))\n",
    "Acf(terror$Transnational)\n",
    "Pacf(terror$Transnational)"
   ]
  },
  {
   "cell_type": "code",
   "execution_count": null,
   "metadata": {},
   "outputs": [],
   "source": []
  },
  {
   "cell_type": "code",
   "execution_count": 199,
   "metadata": {},
   "outputs": [
    {
     "data": {
      "text/plain": [
       "\n",
       "Call:\n",
       "arima(x = terror$Transnational, order = c(1, 0, 1), xreg = terror$z)\n",
       "\n",
       "Coefficients:\n",
       "         ar1      ma1  intercept  terror$z\n",
       "      0.8782  -0.4828    28.3536  -14.6235\n",
       "s.e.  0.0527   0.0862     3.3512    5.0096\n",
       "\n",
       "sigma^2 estimated as 82.14:  log likelihood = -594.51,  aic = 1199.02"
      ]
     },
     "metadata": {},
     "output_type": "display_data"
    }
   ],
   "source": [
    "m4 <- arima(terror$Transnational, order=c(1,0,1), xreg=terror$z)\n",
    "m4"
   ]
  },
  {
   "cell_type": "code",
   "execution_count": 200,
   "metadata": {},
   "outputs": [
    {
     "data": {
      "text/html": [
       "1275.32348715623"
      ],
      "text/latex": [
       "1275.32348715623"
      ],
      "text/markdown": [
       "1275.32348715623"
      ],
      "text/plain": [
       "[1] 1275.323"
      ]
     },
     "metadata": {},
     "output_type": "display_data"
    },
    {
     "data": {
      "text/html": [],
      "text/latex": [],
      "text/markdown": [],
      "text/plain": [
       "numeric(0)"
      ]
     },
     "metadata": {},
     "output_type": "display_data"
    },
    {
     "data": {
      "text/html": [
       "1179.0458017618"
      ],
      "text/latex": [
       "1179.0458017618"
      ],
      "text/markdown": [
       "1179.0458017618"
      ],
      "text/plain": [
       "[1] 1179.046"
      ]
     },
     "metadata": {},
     "output_type": "display_data"
    },
    {
     "data": {
      "text/html": [
       "1199.02266160316"
      ],
      "text/latex": [
       "1199.02266160316"
      ],
      "text/markdown": [
       "1199.02266160316"
      ],
      "text/plain": [
       "[1] 1199.023"
      ]
     },
     "metadata": {},
     "output_type": "display_data"
    }
   ],
   "source": [
    "AIC(m1)\n",
    "AIC(m2)\n",
    "AIC(m3)\n",
    "AIC(m4)"
   ]
  },
  {
   "cell_type": "markdown",
   "metadata": {},
   "source": [
    "## The effect of the dummy"
   ]
  },
  {
   "cell_type": "code",
   "execution_count": 201,
   "metadata": {},
   "outputs": [
    {
     "data": {
      "text/plain": [
       "\n",
       "Time series regression with \"ts\" data:\n",
       "Start = 2, End = 164\n",
       "\n",
       "Call:\n",
       "dynlm(formula = terror$Transnational ~ L(terror$Transnational))\n",
       "\n",
       "Coefficients:\n",
       "            (Intercept)  L(terror$Transnational)  \n",
       "                 8.3371                   0.6621  \n"
      ]
     },
     "metadata": {},
     "output_type": "display_data"
    },
    {
     "data": {
      "text/plain": [
       "\n",
       "Time series regression with \"ts\" data:\n",
       "Start = 2, End = 164\n",
       "\n",
       "Call:\n",
       "dynlm(formula = terror$Transnational ~ L(terror$Transnational) + \n",
       "    terror$z)\n",
       "\n",
       "Coefficients:\n",
       "            (Intercept)  L(terror$Transnational)                 terror$z  \n",
       "                13.5617                   0.5401                  -7.0299  \n"
      ]
     },
     "metadata": {},
     "output_type": "display_data"
    }
   ],
   "source": [
    "dynlm(terror$Transnational ~ L(terror$Transnational))\n",
    "dynlm(terror$Transnational ~ L(terror$Transnational) + terror$z)"
   ]
  },
  {
   "cell_type": "markdown",
   "metadata": {},
   "source": [
    "## Impulse Response Functions to terrorism"
   ]
  },
  {
   "cell_type": "code",
   "execution_count": 202,
   "metadata": {},
   "outputs": [],
   "source": [
    "var_terror <- terror[,c(2,3)]\n",
    "m <-VAR(var_terror, p=3, type=\"const\")"
   ]
  },
  {
   "cell_type": "code",
   "execution_count": 203,
   "metadata": {},
   "outputs": [
    {
     "data": {
      "text/html": [
       "<table>\n",
       "<thead><tr><th scope=col>t</th><th scope=col>Variable</th><th scope=col>Value</th><th scope=col>Upper</th><th scope=col>Lower</th><th scope=col>impulse</th></tr></thead>\n",
       "<tbody>\n",
       "\t<tr><td>1                </td><td>Domestic         </td><td>44.96057         </td><td>51.56412         </td><td>36.52391         </td><td>Shock to Domestic</td></tr>\n",
       "\t<tr><td>2                </td><td>Domestic         </td><td>26.41709         </td><td>32.43788         </td><td>18.89505         </td><td>Shock to Domestic</td></tr>\n",
       "\t<tr><td>3                </td><td>Domestic         </td><td>18.61137         </td><td>25.87050         </td><td>10.60560         </td><td>Shock to Domestic</td></tr>\n",
       "\t<tr><td>4                </td><td>Domestic         </td><td>24.09297         </td><td>29.27313         </td><td>15.43986         </td><td>Shock to Domestic</td></tr>\n",
       "\t<tr><td>5                </td><td>Domestic         </td><td>22.07804         </td><td>26.58292         </td><td>14.02199         </td><td>Shock to Domestic</td></tr>\n",
       "\t<tr><td>6                </td><td>Domestic         </td><td>19.62772         </td><td>25.10766         </td><td>10.93725         </td><td>Shock to Domestic</td></tr>\n",
       "</tbody>\n",
       "</table>\n"
      ],
      "text/latex": [
       "\\begin{tabular}{r|llllll}\n",
       " t & Variable & Value & Upper & Lower & impulse\\\\\n",
       "\\hline\n",
       "\t 1                 & Domestic          & 44.96057          & 51.56412          & 36.52391          & Shock to Domestic\\\\\n",
       "\t 2                 & Domestic          & 26.41709          & 32.43788          & 18.89505          & Shock to Domestic\\\\\n",
       "\t 3                 & Domestic          & 18.61137          & 25.87050          & 10.60560          & Shock to Domestic\\\\\n",
       "\t 4                 & Domestic          & 24.09297          & 29.27313          & 15.43986          & Shock to Domestic\\\\\n",
       "\t 5                 & Domestic          & 22.07804          & 26.58292          & 14.02199          & Shock to Domestic\\\\\n",
       "\t 6                 & Domestic          & 19.62772          & 25.10766          & 10.93725          & Shock to Domestic\\\\\n",
       "\\end{tabular}\n"
      ],
      "text/markdown": [
       "\n",
       "t | Variable | Value | Upper | Lower | impulse | \n",
       "|---|---|---|---|---|---|\n",
       "| 1                 | Domestic          | 44.96057          | 51.56412          | 36.52391          | Shock to Domestic | \n",
       "| 2                 | Domestic          | 26.41709          | 32.43788          | 18.89505          | Shock to Domestic | \n",
       "| 3                 | Domestic          | 18.61137          | 25.87050          | 10.60560          | Shock to Domestic | \n",
       "| 4                 | Domestic          | 24.09297          | 29.27313          | 15.43986          | Shock to Domestic | \n",
       "| 5                 | Domestic          | 22.07804          | 26.58292          | 14.02199          | Shock to Domestic | \n",
       "| 6                 | Domestic          | 19.62772          | 25.10766          | 10.93725          | Shock to Domestic | \n",
       "\n",
       "\n"
      ],
      "text/plain": [
       "  t Variable Value    Upper    Lower    impulse          \n",
       "1 1 Domestic 44.96057 51.56412 36.52391 Shock to Domestic\n",
       "2 2 Domestic 26.41709 32.43788 18.89505 Shock to Domestic\n",
       "3 3 Domestic 18.61137 25.87050 10.60560 Shock to Domestic\n",
       "4 4 Domestic 24.09297 29.27313 15.43986 Shock to Domestic\n",
       "5 5 Domestic 22.07804 26.58292 14.02199 Shock to Domestic\n",
       "6 6 Domestic 19.62772 25.10766 10.93725 Shock to Domestic"
      ]
     },
     "metadata": {},
     "output_type": "display_data"
    }
   ],
   "source": [
    "data <- irf(m, nsteps = 12, n.ahead=20)\n",
    "\n",
    "variables <- data$irf %>% names\n",
    "\n",
    "ir <- lapply(1:length(variables), function(e){\n",
    "    data_to_plot <- data.frame(data %>% `$`(irf) %>% `[[`(variables[e])) %>%\n",
    "      mutate(\"t\" = 1:NROW(.)) %>%\n",
    "      gather(.,Variable, Value, -t)\n",
    "\n",
    "    upper_ci <- data.frame(data %>% `$`(Upper) %>% `[[`(variables[e])) %>%\n",
    "      mutate(\"t\" = 1:NROW(.)) %>%\n",
    "      gather(.,Variable, Upper, -t)\n",
    "\n",
    "    lower_ci <- data.frame(data %>% `$`(Lower) %>% `[[`(variables[e]) ) %>%\n",
    "      mutate(\"t\" = 1:NROW(.)) %>%\n",
    "      gather(.,Variable, Lower, -t)\n",
    "\n",
    "    res <- inner_join(data_to_plot, upper_ci, c(\"t\",\"Variable\")) %>%\n",
    "           inner_join(.,lower_ci, c(\"t\",\"Variable\")) %>%\n",
    "           mutate(impulse = paste(\"Shock to\", variables[e])) \n",
    "}) %>% bind_rows\n",
    "\n",
    "head(ir)"
   ]
  },
  {
   "cell_type": "code",
   "execution_count": 204,
   "metadata": {},
   "outputs": [
    {
     "data": {
      "image/png": "[encoded data removed]",
      "text/plain": [
       "plot without title"
      ]
     },
     "metadata": {},
     "output_type": "display_data"
    }
   ],
   "source": [
    "p <- ggplot(ir, aes(x = t, y = Value, group = Variable))  +\n",
    "  geom_line() +\n",
    "  geom_ribbon(aes(x=t, ymax=Upper, ymin=Lower), alpha=0.2) +\n",
    "  scale_x_continuous(limits = c(0,21), breaks = seq(0,20,2)) +\n",
    "  scale_y_continuous(\"\", position=\"right\") +\n",
    "  facet_grid(Variable ~ impulse, scales=\"free\", switch=\"y\") + \n",
    "  labs(title=\"Impulse response functions\")\n",
    "print(p)"
   ]
  },
  {
   "cell_type": "markdown",
   "metadata": {},
   "source": [
    "# Exercise 2: Consider the following two-dimensional VAR(1) \n",
    "where $y_t$ and $u_t$ is a vector\n",
    "\n",
    "$$y_t = \n",
    "\\begin{bmatrix} 0.02 \\\\ 0.03 \\end{bmatrix}\n",
    "+\n",
    "\\begin{bmatrix} 0.5 & 0.1 \\\\ 0.4 & 0.5 \\end{bmatrix}\n",
    "y_{t-1}+\n",
    "\\begin{bmatrix} 0 & 0 \\\\ 0.25 & 0 \\end{bmatrix}\n",
    "y_{t-2} + u_t$$\n",
    "\n",
    "\n",
    "Specify each element of yt as a single equation proces. Show that the VAR is stationary. Tip: write up the companion matrix. The eigen-\n",
    "values are complex; see the handout on the unit circle for a graphical illustration or the use of the modulus."
   ]
  },
  {
   "cell_type": "markdown",
   "metadata": {},
   "source": [
    "$$a_t = 0.02 + 0.5a_{t-1} + 0.1b_{t-1} + ua_t $$\n",
    "\n",
    "$$b_t = 0.03 + 0.4a_{t-1} + 0.5b_{t-1} + 0.25a_{t-2} + ua_t $$"
   ]
  },
  {
   "cell_type": "markdown",
   "metadata": {},
   "source": [
    "\\begin{bmatrix} \n",
    "0.5 & 0.1 & 0 & 0 \\\\ \n",
    "0.4 & 0.5 & 0.25 & 0 \\\\\n",
    "1 & 0 & 0 & 0 \\\\\n",
    "0 & 1 & 0 & 0 \\\\\n",
    "\\end{bmatrix}"
   ]
  },
  {
   "cell_type": "code",
   "execution_count": 205,
   "metadata": {},
   "outputs": [
    {
     "data": {
      "text/html": [
       "<table>\n",
       "<tbody>\n",
       "\t<tr><td>0.5 </td><td>0.1 </td><td>0.00</td><td>0   </td></tr>\n",
       "\t<tr><td>0.4 </td><td>0.5 </td><td>0.25</td><td>0   </td></tr>\n",
       "\t<tr><td>1.0 </td><td>0.0 </td><td>0.00</td><td>0   </td></tr>\n",
       "\t<tr><td>0.0 </td><td>1.0 </td><td>0.00</td><td>0   </td></tr>\n",
       "</tbody>\n",
       "</table>\n"
      ],
      "text/latex": [
       "\\begin{tabular}{llll}\n",
       "\t 0.5  & 0.1  & 0.00 & 0   \\\\\n",
       "\t 0.4  & 0.5  & 0.25 & 0   \\\\\n",
       "\t 1.0  & 0.0  & 0.00 & 0   \\\\\n",
       "\t 0.0  & 1.0  & 0.00 & 0   \\\\\n",
       "\\end{tabular}\n"
      ],
      "text/markdown": [
       "\n",
       "| 0.5  | 0.1  | 0.00 | 0    | \n",
       "| 0.4  | 0.5  | 0.25 | 0    | \n",
       "| 1.0  | 0.0  | 0.00 | 0    | \n",
       "| 0.0  | 1.0  | 0.00 | 0    | \n",
       "\n",
       "\n"
      ],
      "text/plain": [
       "     [,1] [,2] [,3] [,4]\n",
       "[1,] 0.5  0.1  0.00 0   \n",
       "[2,] 0.4  0.5  0.25 0   \n",
       "[3,] 1.0  0.0  0.00 0   \n",
       "[4,] 0.0  1.0  0.00 0   "
      ]
     },
     "metadata": {},
     "output_type": "display_data"
    }
   ],
   "source": [
    "companion <- t(matrix(c(0.5,0.1,0,0,0.4,0.5,0.25,0,1,0,0,0,0,1,0,0), nrow=4))\n",
    "companion"
   ]
  },
  {
   "cell_type": "code",
   "execution_count": 206,
   "metadata": {},
   "outputs": [
    {
     "data": {
      "text/html": [
       "<ol class=list-inline>\n",
       "\t<li>0.769</li>\n",
       "\t<li>0.18</li>\n",
       "\t<li>0.18</li>\n",
       "\t<li>0</li>\n",
       "</ol>\n"
      ],
      "text/latex": [
       "\\begin{enumerate*}\n",
       "\\item 0.769\n",
       "\\item 0.18\n",
       "\\item 0.18\n",
       "\\item 0\n",
       "\\end{enumerate*}\n"
      ],
      "text/markdown": [
       "1. 0.769\n",
       "2. 0.18\n",
       "3. 0.18\n",
       "4. 0\n",
       "\n",
       "\n"
      ],
      "text/plain": [
       "[1] 0.769 0.180 0.180 0.000"
      ]
     },
     "metadata": {},
     "output_type": "display_data"
    }
   ],
   "source": [
    "#eigen(companion)$values\n",
    "round(Mod(eigen(companion)$values),3)"
   ]
  },
  {
   "cell_type": "markdown",
   "metadata": {},
   "source": [
    "# Exercise 3: Estimate a trivariate VAR(2) using OLS"
   ]
  },
  {
   "cell_type": "code",
   "execution_count": 207,
   "metadata": {},
   "outputs": [
    {
     "data": {
      "text/html": [
       "<table>\n",
       "<thead><tr><th scope=col>I</th><th scope=col>Y</th><th scope=col>C</th></tr></thead>\n",
       "<tbody>\n",
       "\t<tr><td>180</td><td>451</td><td>415</td></tr>\n",
       "\t<tr><td>179</td><td>465</td><td>421</td></tr>\n",
       "\t<tr><td>185</td><td>485</td><td>434</td></tr>\n",
       "\t<tr><td>192</td><td>493</td><td>448</td></tr>\n",
       "\t<tr><td>211</td><td>509</td><td>459</td></tr>\n",
       "\t<tr><td>202</td><td>520</td><td>458</td></tr>\n",
       "</tbody>\n",
       "</table>\n"
      ],
      "text/latex": [
       "\\begin{tabular}{r|lll}\n",
       " I & Y & C\\\\\n",
       "\\hline\n",
       "\t 180 & 451 & 415\\\\\n",
       "\t 179 & 465 & 421\\\\\n",
       "\t 185 & 485 & 434\\\\\n",
       "\t 192 & 493 & 448\\\\\n",
       "\t 211 & 509 & 459\\\\\n",
       "\t 202 & 520 & 458\\\\\n",
       "\\end{tabular}\n"
      ],
      "text/markdown": [
       "\n",
       "I | Y | C | \n",
       "|---|---|---|---|---|---|\n",
       "| 180 | 451 | 415 | \n",
       "| 179 | 465 | 421 | \n",
       "| 185 | 485 | 434 | \n",
       "| 192 | 493 | 448 | \n",
       "| 211 | 509 | 459 | \n",
       "| 202 | 520 | 458 | \n",
       "\n",
       "\n"
      ],
      "text/plain": [
       "  I   Y   C  \n",
       "1 180 451 415\n",
       "2 179 465 421\n",
       "3 185 485 434\n",
       "4 192 493 448\n",
       "5 211 509 459\n",
       "6 202 520 458"
      ]
     },
     "metadata": {},
     "output_type": "display_data"
    }
   ],
   "source": [
    "germany <- read_excel(\"Data/GermanyCYI.xls\")\n",
    "head(germany)\n",
    "\n",
    "I <- germany$I\n",
    "Y <- germany$Y\n",
    "C <- germany$C"
   ]
  },
  {
   "cell_type": "markdown",
   "metadata": {},
   "source": [
    "## 1. Plot the data\n",
    "The data looks non-stationary, right? Test each individual series using a Dickey-Fuller test"
   ]
  },
  {
   "cell_type": "code",
   "execution_count": 208,
   "metadata": {},
   "outputs": [
    {
     "data": {
      "image/png": "[encoded data removed]",
      "text/plain": [
       "plot without title"
      ]
     },
     "metadata": {},
     "output_type": "display_data"
    }
   ],
   "source": [
    "par(mfrow=c(1,3))\n",
    "\n",
    "plot(germany$I, type = \"l\")\n",
    "plot(germany$Y, type = \"l\")\n",
    "plot(germany$C, type = \"l\")"
   ]
  },
  {
   "cell_type": "code",
   "execution_count": 209,
   "metadata": {},
   "outputs": [
    {
     "data": {
      "text/plain": [
       "\n",
       "\tAugmented Dickey-Fuller Test\n",
       "\n",
       "data:  germany$I\n",
       "Dickey-Fuller = -3.1875, Lag order = 4, p-value = 0.09471\n",
       "alternative hypothesis: stationary\n"
      ]
     },
     "metadata": {},
     "output_type": "display_data"
    },
    {
     "data": {
      "text/plain": [
       "\n",
       "\tAugmented Dickey-Fuller Test\n",
       "\n",
       "data:  germany$Y\n",
       "Dickey-Fuller = -2.2936, Lag order = 4, p-value = 0.4552\n",
       "alternative hypothesis: stationary\n"
      ]
     },
     "metadata": {},
     "output_type": "display_data"
    },
    {
     "data": {
      "text/plain": [
       "\n",
       "\tAugmented Dickey-Fuller Test\n",
       "\n",
       "data:  germany$C\n",
       "Dickey-Fuller = -2.3345, Lag order = 4, p-value = 0.4384\n",
       "alternative hypothesis: stationary\n"
      ]
     },
     "metadata": {},
     "output_type": "display_data"
    }
   ],
   "source": [
    "adf.test(germany$I)\n",
    "adf.test(germany$Y)\n",
    "adf.test(germany$C)"
   ]
  },
  {
   "cell_type": "markdown",
   "metadata": {},
   "source": [
    "## Quick manual ADF test"
   ]
  },
  {
   "cell_type": "markdown",
   "metadata": {},
   "source": [
    "1. bestemmelse af lag længde - estimere stor model med mange lags og fjerne indtil sidste er signifikant"
   ]
  },
  {
   "cell_type": "code",
   "execution_count": 210,
   "metadata": {},
   "outputs": [
    {
     "data": {
      "text/plain": [
       "\n",
       "Time series regression with \"ts\" data:\n",
       "Start = 6, End = 92\n",
       "\n",
       "Call:\n",
       "dynlm(formula = dI ~ trnd + L(I) + L(dI) + L(dI, 2) + L(dI, 3) + \n",
       "    L(dI, 4))\n",
       "\n",
       "Residuals:\n",
       "    Min      1Q  Median      3Q     Max \n",
       "-35.474  -9.930   0.634   9.513  47.519 \n",
       "\n",
       "Coefficients:\n",
       "            Estimate Std. Error t value Pr(>|t|)    \n",
       "(Intercept) 14.86157    5.55186   2.677  0.00901 ** \n",
       "trnd         0.99376    0.31124   3.193  0.00201 ** \n",
       "L(I)        -0.12493    0.03919  -3.188  0.00205 ** \n",
       "L(dI)       -0.04746    0.10105  -0.470  0.63988    \n",
       "L(dI, 2)     0.03870    0.09995   0.387  0.69962    \n",
       "L(dI, 3)     0.25974    0.09990   2.600  0.01110 *  \n",
       "L(dI, 4)     0.38200    0.10509   3.635  0.00049 ***\n",
       "---\n",
       "Signif. codes:  0 '***' 0.001 '**' 0.01 '*' 0.05 '.' 0.1 ' ' 1\n",
       "\n",
       "Residual standard error: 17.03 on 80 degrees of freedom\n",
       "Multiple R-squared:  0.234,\tAdjusted R-squared:  0.1765 \n",
       "F-statistic: 4.073 on 6 and 80 DF,  p-value: 0.001294\n"
      ]
     },
     "metadata": {},
     "output_type": "display_data"
    }
   ],
   "source": [
    "I <- as.ts(I)\n",
    "dI <- diff(I)\n",
    "trnd <- seq_along(dI)\n",
    "reg <- dynlm(dI ~ trnd + L(I) + L(dI) + L(dI,2) + L(dI,3) + L(dI,4))\n",
    "summary(reg)"
   ]
  },
  {
   "cell_type": "markdown",
   "metadata": {},
   "source": [
    "tallet på -3.188 er ikke numerisk stort nok til at vi kan afvise unit root, vi går videre:"
   ]
  },
  {
   "cell_type": "code",
   "execution_count": 211,
   "metadata": {},
   "outputs": [
    {
     "data": {
      "text/html": [
       "<table>\n",
       "<thead><tr><th scope=col>Res.Df</th><th scope=col>RSS</th><th scope=col>Df</th><th scope=col>Sum of Sq</th><th scope=col>F</th><th scope=col>Pr(&gt;F)</th></tr></thead>\n",
       "<tbody>\n",
       "\t<tr><td>82        </td><td>26182.24  </td><td>NA        </td><td>      NA  </td><td>      NA  </td><td>        NA</td></tr>\n",
       "\t<tr><td>80        </td><td>23189.49  </td><td> 2        </td><td>2992.747  </td><td>5.162249  </td><td>0.00778713</td></tr>\n",
       "</tbody>\n",
       "</table>\n"
      ],
      "text/latex": [
       "\\begin{tabular}{r|llllll}\n",
       " Res.Df & RSS & Df & Sum of Sq & F & Pr(>F)\\\\\n",
       "\\hline\n",
       "\t 82         & 26182.24   & NA         &       NA   &       NA   &         NA\\\\\n",
       "\t 80         & 23189.49   &  2         & 2992.747   & 5.162249   & 0.00778713\\\\\n",
       "\\end{tabular}\n"
      ],
      "text/markdown": [
       "\n",
       "Res.Df | RSS | Df | Sum of Sq | F | Pr(>F) | \n",
       "|---|---|\n",
       "| 82         | 26182.24   | NA         |       NA   |       NA   |         NA | \n",
       "| 80         | 23189.49   |  2         | 2992.747   | 5.162249   | 0.00778713 | \n",
       "\n",
       "\n"
      ],
      "text/plain": [
       "  Res.Df RSS      Df Sum of Sq F        Pr(>F)    \n",
       "1 82     26182.24 NA       NA        NA         NA\n",
       "2 80     23189.49  2 2992.747  5.162249 0.00778713"
      ]
     },
     "metadata": {},
     "output_type": "display_data"
    },
    {
     "data": {
      "text/html": [
       "<table>\n",
       "<thead><tr><th scope=col>Res.Df</th><th scope=col>RSS</th><th scope=col>Df</th><th scope=col>Sum of Sq</th><th scope=col>F</th><th scope=col>Pr(&gt;F)</th></tr></thead>\n",
       "<tbody>\n",
       "\t<tr><td>83         </td><td>27074.85   </td><td>NA         </td><td>      NA   </td><td>      NA   </td><td>         NA</td></tr>\n",
       "\t<tr><td>80         </td><td>23189.49   </td><td> 3         </td><td>3885.359   </td><td>4.467955   </td><td>0.005938948</td></tr>\n",
       "</tbody>\n",
       "</table>\n"
      ],
      "text/latex": [
       "\\begin{tabular}{r|llllll}\n",
       " Res.Df & RSS & Df & Sum of Sq & F & Pr(>F)\\\\\n",
       "\\hline\n",
       "\t 83          & 27074.85    & NA          &       NA    &       NA    &          NA\\\\\n",
       "\t 80          & 23189.49    &  3          & 3885.359    & 4.467955    & 0.005938948\\\\\n",
       "\\end{tabular}\n"
      ],
      "text/markdown": [
       "\n",
       "Res.Df | RSS | Df | Sum of Sq | F | Pr(>F) | \n",
       "|---|---|\n",
       "| 83          | 27074.85    | NA          |       NA    |       NA    |          NA | \n",
       "| 80          | 23189.49    |  3          | 3885.359    | 4.467955    | 0.005938948 | \n",
       "\n",
       "\n"
      ],
      "text/plain": [
       "  Res.Df RSS      Df Sum of Sq F        Pr(>F)     \n",
       "1 83     27074.85 NA       NA        NA          NA\n",
       "2 80     23189.49  3 3885.359  4.467955 0.005938948"
      ]
     },
     "metadata": {},
     "output_type": "display_data"
    }
   ],
   "source": [
    "linearHypothesis(reg,\n",
    "                 c(\"L(I) = 0\", \"trnd = 0\"),\n",
    "                 test=\"F\")\n",
    "linearHypothesis(reg,\n",
    "                 c(\"L(I) = 0\", \"(Intercept) = 0\", \"trnd = 0\"),\n",
    "                 test=\"F\")"
   ]
  },
  {
   "cell_type": "markdown",
   "metadata": {},
   "source": [
    "Det virker ikke til at vi må fjerne trend"
   ]
  },
  {
   "cell_type": "markdown",
   "metadata": {},
   "source": [
    "## 2. Calculate log diferences of the data\n",
    "Plot the data and verify stationarity of one of the now transformed series"
   ]
  },
  {
   "cell_type": "code",
   "execution_count": 257,
   "metadata": {},
   "outputs": [
    {
     "data": {
      "image/png": "[encoded data removed]",
      "text/plain": [
       "plot without title"
      ]
     },
     "metadata": {},
     "output_type": "display_data"
    }
   ],
   "source": [
    "ldI <- round(diff(log(germany$I)),3)\n",
    "ldY <- round(diff(log(germany$Y)),3)\n",
    "ldC <- round(diff(log(germany$C)),3)\n",
    "\n",
    "n <- c(1:length(ldC))\n",
    "a <- qplot(n, ldI, geom = \"line\")\n",
    "b <- qplot(n, ldY, geom = \"line\")\n",
    "c <- qplot(n, ldC, geom = \"line\")\n",
    "grid.arrange(a,b,c, nrow=1)"
   ]
  },
  {
   "cell_type": "markdown",
   "metadata": {},
   "source": [
    "## 3. Make a subset of the data\n",
    "In particular, extract enough data so that you can construct Y below with 10 observations of the three variables. Then consider a VAR(2) where the left-hand-side vector of three variables (y1; y2; y3) consist of 10 observations only. Obviously, the right-hand-side matrix of explanatory variables also contain 10 observations. Estimate:\n",
    "\n",
    "$$\\underset{m\\times mp}{\\mathrm{\\hat{\\Phi}}}   = \\underset{m\\times T}{\\mathrm{Y}} Z^T(\\underset{mp\\times T}{\\mathrm{Z}}Z^T)^{-1} $$\n",
    "\n",
    "where m = 3; p = 2; T = 10: The purpose of this exercise to practise OLS and to organize data and lags of data appropriately. You could consider to estimate this model using your favourite software."
   ]
  },
  {
   "cell_type": "code",
   "execution_count": 213,
   "metadata": {},
   "outputs": [
    {
     "data": {
      "text/html": [
       "<table>\n",
       "<tbody>\n",
       "\t<tr><td>0.5</td><td>0.5</td></tr>\n",
       "\t<tr><td>0.5</td><td>0.5</td></tr>\n",
       "</tbody>\n",
       "</table>\n"
      ],
      "text/latex": [
       "\\begin{tabular}{ll}\n",
       "\t 0.5 & 0.5\\\\\n",
       "\t 0.5 & 0.5\\\\\n",
       "\\end{tabular}\n"
      ],
      "text/markdown": [
       "\n",
       "| 0.5 | 0.5 | \n",
       "| 0.5 | 0.5 | \n",
       "\n",
       "\n"
      ],
      "text/plain": [
       "     [,1] [,2]\n",
       "[1,] 0.5  0.5 \n",
       "[2,] 0.5  0.5 "
      ]
     },
     "metadata": {},
     "output_type": "display_data"
    },
    {
     "data": {
      "text/plain": [
       "eigen() decomposition\n",
       "$values\n",
       "[1] 1 0\n",
       "\n",
       "$vectors\n",
       "          [,1]       [,2]\n",
       "[1,] 0.7071068 -0.7071068\n",
       "[2,] 0.7071068  0.7071068\n"
      ]
     },
     "metadata": {},
     "output_type": "display_data"
    }
   ],
   "source": [
    "a <- matrix(c(0.5,0.5,0.5,0.5), nrow=2)\n",
    "a\n",
    "eigen(a)"
   ]
  },
  {
   "cell_type": "code",
   "execution_count": 214,
   "metadata": {},
   "outputs": [
    {
     "data": {
      "text/html": [
       "<table>\n",
       "<thead><tr><th scope=col>constant</th><th scope=col></th><th scope=col></th><th scope=col></th><th scope=col></th><th scope=col></th><th scope=col></th></tr></thead>\n",
       "<tbody>\n",
       "\t<tr><td>1     </td><td> 0.033</td><td>0.042 </td><td> 0.030</td><td>-0.006</td><td>0.031 </td><td> 0.014</td></tr>\n",
       "\t<tr><td>1     </td><td> 0.037</td><td>0.016 </td><td> 0.032</td><td> 0.033</td><td>0.042 </td><td> 0.030</td></tr>\n",
       "\t<tr><td>1     </td><td> 0.094</td><td>0.032 </td><td> 0.024</td><td> 0.037</td><td>0.016 </td><td> 0.032</td></tr>\n",
       "\t<tr><td>1     </td><td>-0.044</td><td>0.021 </td><td>-0.002</td><td> 0.094</td><td>0.032 </td><td> 0.024</td></tr>\n",
       "\t<tr><td>1     </td><td> 0.024</td><td>0.002 </td><td> 0.045</td><td>-0.044</td><td>0.021 </td><td>-0.002</td></tr>\n",
       "\t<tr><td>1     </td><td> 0.033</td><td>0.036 </td><td> 0.017</td><td> 0.024</td><td>0.002 </td><td> 0.045</td></tr>\n",
       "\t<tr><td>1     </td><td> 0.076</td><td>0.015 </td><td> 0.020</td><td> 0.033</td><td>0.036 </td><td> 0.017</td></tr>\n",
       "\t<tr><td>1     </td><td>-0.009</td><td>0.018 </td><td> 0.026</td><td> 0.076</td><td>0.015 </td><td> 0.020</td></tr>\n",
       "\t<tr><td>1     </td><td> 0.022</td><td>0.028 </td><td> 0.012</td><td>-0.009</td><td>0.018 </td><td> 0.026</td></tr>\n",
       "\t<tr><td>1     </td><td> 0.013</td><td>0.016 </td><td> 0.017</td><td> 0.022</td><td>0.028 </td><td> 0.012</td></tr>\n",
       "</tbody>\n",
       "</table>\n"
      ],
      "text/latex": [
       "\\begin{tabular}{lllllll}\n",
       " constant &  &  &  &  &  & \\\\\n",
       "\\hline\n",
       "\t 1      &  0.033 & 0.042  &  0.030 & -0.006 & 0.031  &  0.014\\\\\n",
       "\t 1      &  0.037 & 0.016  &  0.032 &  0.033 & 0.042  &  0.030\\\\\n",
       "\t 1      &  0.094 & 0.032  &  0.024 &  0.037 & 0.016  &  0.032\\\\\n",
       "\t 1      & -0.044 & 0.021  & -0.002 &  0.094 & 0.032  &  0.024\\\\\n",
       "\t 1      &  0.024 & 0.002  &  0.045 & -0.044 & 0.021  & -0.002\\\\\n",
       "\t 1      &  0.033 & 0.036  &  0.017 &  0.024 & 0.002  &  0.045\\\\\n",
       "\t 1      &  0.076 & 0.015  &  0.020 &  0.033 & 0.036  &  0.017\\\\\n",
       "\t 1      & -0.009 & 0.018  &  0.026 &  0.076 & 0.015  &  0.020\\\\\n",
       "\t 1      &  0.022 & 0.028  &  0.012 & -0.009 & 0.018  &  0.026\\\\\n",
       "\t 1      &  0.013 & 0.016  &  0.017 &  0.022 & 0.028  &  0.012\\\\\n",
       "\\end{tabular}\n"
      ],
      "text/markdown": [
       "\n",
       "constant |  |  |  |  |  |  | \n",
       "|---|---|---|---|---|---|---|---|---|---|\n",
       "| 1      |  0.033 | 0.042  |  0.030 | -0.006 | 0.031  |  0.014 | \n",
       "| 1      |  0.037 | 0.016  |  0.032 |  0.033 | 0.042  |  0.030 | \n",
       "| 1      |  0.094 | 0.032  |  0.024 |  0.037 | 0.016  |  0.032 | \n",
       "| 1      | -0.044 | 0.021  | -0.002 |  0.094 | 0.032  |  0.024 | \n",
       "| 1      |  0.024 | 0.002  |  0.045 | -0.044 | 0.021  | -0.002 | \n",
       "| 1      |  0.033 | 0.036  |  0.017 |  0.024 | 0.002  |  0.045 | \n",
       "| 1      |  0.076 | 0.015  |  0.020 |  0.033 | 0.036  |  0.017 | \n",
       "| 1      | -0.009 | 0.018  |  0.026 |  0.076 | 0.015  |  0.020 | \n",
       "| 1      |  0.022 | 0.028  |  0.012 | -0.009 | 0.018  |  0.026 | \n",
       "| 1      |  0.013 | 0.016  |  0.017 |  0.022 | 0.028  |  0.012 | \n",
       "\n",
       "\n"
      ],
      "text/plain": [
       "      constant                                        \n",
       " [1,] 1         0.033 0.042  0.030 -0.006 0.031  0.014\n",
       " [2,] 1         0.037 0.016  0.032  0.033 0.042  0.030\n",
       " [3,] 1         0.094 0.032  0.024  0.037 0.016  0.032\n",
       " [4,] 1        -0.044 0.021 -0.002  0.094 0.032  0.024\n",
       " [5,] 1         0.024 0.002  0.045 -0.044 0.021 -0.002\n",
       " [6,] 1         0.033 0.036  0.017  0.024 0.002  0.045\n",
       " [7,] 1         0.076 0.015  0.020  0.033 0.036  0.017\n",
       " [8,] 1        -0.009 0.018  0.026  0.076 0.015  0.020\n",
       " [9,] 1         0.022 0.028  0.012 -0.009 0.018  0.026\n",
       "[10,] 1         0.013 0.016  0.017  0.022 0.028  0.012"
      ]
     },
     "metadata": {},
     "output_type": "display_data"
    }
   ],
   "source": [
    "constant <- c(rep(1,10))\n",
    "\n",
    "Y <- t(cbind(ldI[3:12], ldY[3:12], ldC[3:12]))\n",
    "\n",
    "Y1 <- cbind(ldI[2:11], ldY[2:11], ldC[2:11])\n",
    "\n",
    "Y2 <- cbind(ldI[1:10], ldY[1:10], ldC[1:10])\n",
    "\n",
    "Z <- t(cbind(constant, Y1, Y2))\n",
    "\n",
    "t(Z)"
   ]
  },
  {
   "cell_type": "code",
   "execution_count": 215,
   "metadata": {},
   "outputs": [
    {
     "data": {
      "text/html": [
       "<table>\n",
       "<thead><tr><th scope=col>constant</th><th scope=col></th><th scope=col></th><th scope=col></th><th scope=col></th><th scope=col></th><th scope=col></th></tr></thead>\n",
       "<tbody>\n",
       "\t<tr><td>-0.198</td><td>-1.145</td><td> 0.148</td><td> 4.061</td><td>-0.427</td><td> 1.859</td><td>5.196 </td></tr>\n",
       "\t<tr><td> 0.005</td><td>-0.011</td><td>-0.336</td><td> 0.771</td><td> 0.011</td><td>-0.032</td><td>0.271 </td></tr>\n",
       "\t<tr><td> 0.003</td><td>-0.206</td><td> 0.270</td><td>-0.118</td><td>-0.073</td><td> 0.690</td><td>0.187 </td></tr>\n",
       "</tbody>\n",
       "</table>\n"
      ],
      "text/latex": [
       "\\begin{tabular}{lllllll}\n",
       " constant &  &  &  &  &  & \\\\\n",
       "\\hline\n",
       "\t -0.198 & -1.145 &  0.148 &  4.061 & -0.427 &  1.859 & 5.196 \\\\\n",
       "\t  0.005 & -0.011 & -0.336 &  0.771 &  0.011 & -0.032 & 0.271 \\\\\n",
       "\t  0.003 & -0.206 &  0.270 & -0.118 & -0.073 &  0.690 & 0.187 \\\\\n",
       "\\end{tabular}\n"
      ],
      "text/markdown": [
       "\n",
       "constant |  |  |  |  |  |  | \n",
       "|---|---|---|\n",
       "| -0.198 | -1.145 |  0.148 |  4.061 | -0.427 |  1.859 | 5.196  | \n",
       "|  0.005 | -0.011 | -0.336 |  0.771 |  0.011 | -0.032 | 0.271  | \n",
       "|  0.003 | -0.206 |  0.270 | -0.118 | -0.073 |  0.690 | 0.187  | \n",
       "\n",
       "\n"
      ],
      "text/plain": [
       "     constant                                         \n",
       "[1,] -0.198   -1.145  0.148  4.061 -0.427  1.859 5.196\n",
       "[2,]  0.005   -0.011 -0.336  0.771  0.011 -0.032 0.271\n",
       "[3,]  0.003   -0.206  0.270 -0.118 -0.073  0.690 0.187"
      ]
     },
     "metadata": {},
     "output_type": "display_data"
    }
   ],
   "source": [
    "coef <- round((Y %*% t(Z) %*% solve(Z %*% t(Z))),3)\n",
    "coef"
   ]
  },
  {
   "cell_type": "markdown",
   "metadata": {},
   "source": [
    "Calculate the eigenvalues and the roots."
   ]
  },
  {
   "cell_type": "code",
   "execution_count": 216,
   "metadata": {},
   "outputs": [
    {
     "data": {
      "text/html": [
       "<table>\n",
       "<thead><tr><th scope=col></th><th scope=col></th><th scope=col></th><th scope=col></th><th scope=col></th><th scope=col></th></tr></thead>\n",
       "<tbody>\n",
       "\t<tr><td>-1.145</td><td> 0.148</td><td> 4.061</td><td>-0.427</td><td> 1.859</td><td>5.196 </td></tr>\n",
       "\t<tr><td>-0.011</td><td>-0.336</td><td> 0.771</td><td> 0.011</td><td>-0.032</td><td>0.271 </td></tr>\n",
       "\t<tr><td>-0.206</td><td> 0.270</td><td>-0.118</td><td>-0.073</td><td> 0.690</td><td>0.187 </td></tr>\n",
       "\t<tr><td> 1.000</td><td> 0.000</td><td> 0.000</td><td> 0.000</td><td> 0.000</td><td>0.000 </td></tr>\n",
       "\t<tr><td> 0.000</td><td> 1.000</td><td> 0.000</td><td> 0.000</td><td> 0.000</td><td>0.000 </td></tr>\n",
       "\t<tr><td> 0.000</td><td> 0.000</td><td> 1.000</td><td> 0.000</td><td> 0.000</td><td>0.000 </td></tr>\n",
       "</tbody>\n",
       "</table>\n"
      ],
      "text/latex": [
       "\\begin{tabular}{llllll}\n",
       "  &  &  &  &  & \\\\\n",
       "\\hline\n",
       "\t -1.145 &  0.148 &  4.061 & -0.427 &  1.859 & 5.196 \\\\\n",
       "\t -0.011 & -0.336 &  0.771 &  0.011 & -0.032 & 0.271 \\\\\n",
       "\t -0.206 &  0.270 & -0.118 & -0.073 &  0.690 & 0.187 \\\\\n",
       "\t  1.000 &  0.000 &  0.000 &  0.000 &  0.000 & 0.000 \\\\\n",
       "\t  0.000 &  1.000 &  0.000 &  0.000 &  0.000 & 0.000 \\\\\n",
       "\t  0.000 &  0.000 &  1.000 &  0.000 &  0.000 & 0.000 \\\\\n",
       "\\end{tabular}\n"
      ],
      "text/markdown": [
       "\n",
       " |  |  |  |  |  | \n",
       "|---|---|---|---|---|---|\n",
       "| -1.145 |  0.148 |  4.061 | -0.427 |  1.859 | 5.196  | \n",
       "| -0.011 | -0.336 |  0.771 |  0.011 | -0.032 | 0.271  | \n",
       "| -0.206 |  0.270 | -0.118 | -0.073 |  0.690 | 0.187  | \n",
       "|  1.000 |  0.000 |  0.000 |  0.000 |  0.000 | 0.000  | \n",
       "|  0.000 |  1.000 |  0.000 |  0.000 |  0.000 | 0.000  | \n",
       "|  0.000 |  0.000 |  1.000 |  0.000 |  0.000 | 0.000  | \n",
       "\n",
       "\n"
      ],
      "text/plain": [
       "                                             \n",
       "[1,] -1.145  0.148  4.061 -0.427  1.859 5.196\n",
       "[2,] -0.011 -0.336  0.771  0.011 -0.032 0.271\n",
       "[3,] -0.206  0.270 -0.118 -0.073  0.690 0.187\n",
       "[4,]  1.000  0.000  0.000  0.000  0.000 0.000\n",
       "[5,]  0.000  1.000  0.000  0.000  0.000 0.000\n",
       "[6,]  0.000  0.000  1.000  0.000  0.000 0.000"
      ]
     },
     "metadata": {},
     "output_type": "display_data"
    },
    {
     "data": {
      "text/html": [
       "<ol class=list-inline>\n",
       "\t<li>0.837</li>\n",
       "\t<li>0.837</li>\n",
       "\t<li>0.803</li>\n",
       "\t<li>0.559</li>\n",
       "\t<li>0.559</li>\n",
       "\t<li>0.394</li>\n",
       "</ol>\n"
      ],
      "text/latex": [
       "\\begin{enumerate*}\n",
       "\\item 0.837\n",
       "\\item 0.837\n",
       "\\item 0.803\n",
       "\\item 0.559\n",
       "\\item 0.559\n",
       "\\item 0.394\n",
       "\\end{enumerate*}\n"
      ],
      "text/markdown": [
       "1. 0.837\n",
       "2. 0.837\n",
       "3. 0.803\n",
       "4. 0.559\n",
       "5. 0.559\n",
       "6. 0.394\n",
       "\n",
       "\n"
      ],
      "text/plain": [
       "[1] 0.837 0.837 0.803 0.559 0.559 0.394"
      ]
     },
     "metadata": {},
     "output_type": "display_data"
    }
   ],
   "source": [
    "coef1 <- coef[,-1]\n",
    "\n",
    "idm <- diag(3)\n",
    "zm <- matrix(rep(0,9), nrow=3)\n",
    "comp <- cbind(idm, zm)\n",
    "companion <- rbind(coef1, comp)\n",
    "\n",
    "companion\n",
    "\n",
    "#round(eigen(companion)$values,3)\n",
    "round(Mod(eigen(companion)$values),3)"
   ]
  },
  {
   "cell_type": "markdown",
   "metadata": {},
   "source": [
    "## Estimate the model for the period 1960 to 1978. Verify the solution by pre- programmed standard software.\n",
    "Calculate the magnitude of the eigenvalues of the companion matrix. Is the system stationary, i.e. are the roots inside the unit circle?"
   ]
  },
  {
   "cell_type": "code",
   "execution_count": 217,
   "metadata": {},
   "outputs": [
    {
     "data": {
      "text/html": [
       "92"
      ],
      "text/latex": [
       "92"
      ],
      "text/markdown": [
       "92"
      ],
      "text/plain": [
       "[1] 92"
      ]
     },
     "metadata": {},
     "output_type": "display_data"
    }
   ],
   "source": [
    "length(germany$Y)"
   ]
  },
  {
   "cell_type": "code",
   "execution_count": 218,
   "metadata": {},
   "outputs": [
    {
     "data": {
      "text/html": [
       "<ol class=list-inline>\n",
       "\t<li>0.6</li>\n",
       "\t<li>0.556</li>\n",
       "\t<li>0.556</li>\n",
       "\t<li>0.488</li>\n",
       "\t<li>0.488</li>\n",
       "\t<li>0.38</li>\n",
       "</ol>\n"
      ],
      "text/latex": [
       "\\begin{enumerate*}\n",
       "\\item 0.6\n",
       "\\item 0.556\n",
       "\\item 0.556\n",
       "\\item 0.488\n",
       "\\item 0.488\n",
       "\\item 0.38\n",
       "\\end{enumerate*}\n"
      ],
      "text/markdown": [
       "1. 0.6\n",
       "2. 0.556\n",
       "3. 0.556\n",
       "4. 0.488\n",
       "5. 0.488\n",
       "6. 0.38\n",
       "\n",
       "\n"
      ],
      "text/plain": [
       "[1] 0.600 0.556 0.556 0.488 0.488 0.380"
      ]
     },
     "metadata": {},
     "output_type": "display_data"
    },
    {
     "data": {
      "text/html": [
       "<table>\n",
       "<thead><tr><th scope=col>constant</th><th scope=col></th><th scope=col></th><th scope=col></th><th scope=col></th><th scope=col></th><th scope=col></th></tr></thead>\n",
       "<tbody>\n",
       "\t<tr><td>-0.009589597</td><td>-0.271725608</td><td> 0.3389137  </td><td> 0.6506495  </td><td>-0.13276114 </td><td>0.19399627  </td><td> 0.56532400 </td></tr>\n",
       "\t<tr><td> 0.012576976</td><td> 0.043831334</td><td>-0.1269562  </td><td> 0.3104125  </td><td> 0.06100524 </td><td>0.01599373  </td><td> 0.05239911 </td></tr>\n",
       "\t<tr><td> 0.012385302</td><td> 0.003401803</td><td> 0.2843616  </td><td>-0.2763355  </td><td> 0.04992158 </td><td>0.36402601  </td><td>-0.11520716 </td></tr>\n",
       "</tbody>\n",
       "</table>\n"
      ],
      "text/latex": [
       "\\begin{tabular}{lllllll}\n",
       " constant &  &  &  &  &  & \\\\\n",
       "\\hline\n",
       "\t -0.009589597 & -0.271725608 &  0.3389137   &  0.6506495   & -0.13276114  & 0.19399627   &  0.56532400 \\\\\n",
       "\t  0.012576976 &  0.043831334 & -0.1269562   &  0.3104125   &  0.06100524  & 0.01599373   &  0.05239911 \\\\\n",
       "\t  0.012385302 &  0.003401803 &  0.2843616   & -0.2763355   &  0.04992158  & 0.36402601   & -0.11520716 \\\\\n",
       "\\end{tabular}\n"
      ],
      "text/markdown": [
       "\n",
       "constant |  |  |  |  |  |  | \n",
       "|---|---|---|\n",
       "| -0.009589597 | -0.271725608 |  0.3389137   |  0.6506495   | -0.13276114  | 0.19399627   |  0.56532400  | \n",
       "|  0.012576976 |  0.043831334 | -0.1269562   |  0.3104125   |  0.06100524  | 0.01599373   |  0.05239911  | \n",
       "|  0.012385302 |  0.003401803 |  0.2843616   | -0.2763355   |  0.04992158  | 0.36402601   | -0.11520716  | \n",
       "\n",
       "\n"
      ],
      "text/plain": [
       "     constant                                                              \n",
       "[1,] -0.009589597 -0.271725608  0.3389137  0.6506495 -0.13276114 0.19399627\n",
       "[2,]  0.012576976  0.043831334 -0.1269562  0.3104125  0.06100524 0.01599373\n",
       "[3,]  0.012385302  0.003401803  0.2843616 -0.2763355  0.04992158 0.36402601\n",
       "                \n",
       "[1,]  0.56532400\n",
       "[2,]  0.05239911\n",
       "[3,] -0.11520716"
      ]
     },
     "metadata": {},
     "output_type": "display_data"
    }
   ],
   "source": [
    "end <- 91 # 75 answers the question\n",
    "end1 <- end - 1\n",
    "end2 <- end - 2\n",
    "\n",
    "constant <- c(rep(1,end2))\n",
    "\n",
    "Y <- t(cbind(ldI[3:end], ldY[3:end], ldC[3:end]))\n",
    "\n",
    "Y1 <- cbind(ldI[2:end1], ldY[2:end1], ldC[2:end1])\n",
    "\n",
    "Y2 <- cbind(ldI[1:end2], ldY[1:end2], ldC[1:end2])\n",
    "\n",
    "Z <- t(cbind(constant, Y1, Y2))\n",
    "\n",
    "coef <- Y %*% t(Z) %*% solve(Z %*% t(Z))\n",
    "\n",
    "coef1 <- coef[,-1]\n",
    "\n",
    "idm <- diag(3)\n",
    "zm <- matrix(rep(0,9), nrow=3)\n",
    "comp <- cbind(idm, zm)\n",
    "companion <- rbind(coef1, comp)\n",
    "\n",
    "#companion\n",
    "\n",
    "#round(eigen(companion)$values,3)\n",
    "round(Mod(eigen(companion)$values),3)\n",
    "coef"
   ]
  },
  {
   "cell_type": "code",
   "execution_count": 219,
   "metadata": {},
   "outputs": [
    {
     "data": {
      "text/plain": [
       "\n",
       "VAR Estimation Results:\n",
       "======================= \n",
       "\n",
       "Estimated coefficients for equation ldI: \n",
       "======================================== \n",
       "Call:\n",
       "ldI = ldI.l1 + ldY.l1 + ldC.l1 + ldI.l2 + ldY.l2 + ldC.l2 + const \n",
       "\n",
       "      ldI.l1       ldY.l1       ldC.l1       ldI.l2       ldY.l2       ldC.l2 \n",
       "-0.271725608  0.338913659  0.650649493 -0.132761142  0.193996267  0.565324000 \n",
       "       const \n",
       "-0.009589597 \n",
       "\n",
       "\n",
       "Estimated coefficients for equation ldY: \n",
       "======================================== \n",
       "Call:\n",
       "ldY = ldI.l1 + ldY.l1 + ldC.l1 + ldI.l2 + ldY.l2 + ldC.l2 + const \n",
       "\n",
       "     ldI.l1      ldY.l1      ldC.l1      ldI.l2      ldY.l2      ldC.l2 \n",
       " 0.04383133 -0.12695621  0.31041255  0.06100524  0.01599373  0.05239911 \n",
       "      const \n",
       " 0.01257698 \n",
       "\n",
       "\n",
       "Estimated coefficients for equation ldC: \n",
       "======================================== \n",
       "Call:\n",
       "ldC = ldI.l1 + ldY.l1 + ldC.l1 + ldI.l2 + ldY.l2 + ldC.l2 + const \n",
       "\n",
       "      ldI.l1       ldY.l1       ldC.l1       ldI.l2       ldY.l2       ldC.l2 \n",
       " 0.003401803  0.284361552 -0.276335498  0.049921579  0.364026005 -0.115207165 \n",
       "       const \n",
       " 0.012385302 \n",
       "\n"
      ]
     },
     "metadata": {},
     "output_type": "display_data"
    },
    {
     "data": {
      "text/html": [
       "<ol class=list-inline>\n",
       "\t<li>0.599585916707658</li>\n",
       "\t<li>0.555893028817905</li>\n",
       "\t<li>0.555893028817905</li>\n",
       "\t<li>0.487582382371455</li>\n",
       "\t<li>0.487582382371455</li>\n",
       "\t<li>0.380285716425656</li>\n",
       "</ol>\n"
      ],
      "text/latex": [
       "\\begin{enumerate*}\n",
       "\\item 0.599585916707658\n",
       "\\item 0.555893028817905\n",
       "\\item 0.555893028817905\n",
       "\\item 0.487582382371455\n",
       "\\item 0.487582382371455\n",
       "\\item 0.380285716425656\n",
       "\\end{enumerate*}\n"
      ],
      "text/markdown": [
       "1. 0.599585916707658\n",
       "2. 0.555893028817905\n",
       "3. 0.555893028817905\n",
       "4. 0.487582382371455\n",
       "5. 0.487582382371455\n",
       "6. 0.380285716425656\n",
       "\n",
       "\n"
      ],
      "text/plain": [
       "[1] 0.5995859 0.5558930 0.5558930 0.4875824 0.4875824 0.3802857"
      ]
     },
     "metadata": {},
     "output_type": "display_data"
    }
   ],
   "source": [
    "# reduced form \n",
    "ldgermany <- data.frame(ldI, ldY, ldC)\n",
    "\n",
    "m <-VAR(ldgermany, p=2, type=\"const\")\n",
    "m\n",
    "roots(m, modulus = TRUE)"
   ]
  },
  {
   "cell_type": "code",
   "execution_count": 229,
   "metadata": {},
   "outputs": [
    {
     "data": {
      "image/png": "[encoded data removed]",
      "text/plain": [
       "plot without title"
      ]
     },
     "metadata": {},
     "output_type": "display_data"
    }
   ],
   "source": [
    "irf_lars <- function(x) {\n",
    "    m <- VAR(x, p = 1, type = \"const\")\n",
    "    hej <- ncol(x)\n",
    "    chart_title <- substitute(paste(\"VAR(1) model with \", hej,\" variables\"))\n",
    "psim <- as.data.frame(x)\n",
    "psim$n <- c(1:91)\n",
    "psim <- gather(psim, variable, value, -n)\n",
    "\n",
    "p1 <- ggplot(psim, aes(n, value, linetype=variable)) + \n",
    " geom_line(color=\"#045a8d\") + \n",
    " labs(title=chart_title, x=\"\", y=\"\")\n",
    "\n",
    "data <- irf(m, nsteps = 12, n.ahead=20)\n",
    "variables <- data$irf %>% names\n",
    "\n",
    "ir <- lapply(1:length(variables), function(e){\n",
    "    data_to_plot <- data.frame(data %>% `$`(irf) %>% `[[`(variables[e])) %>%\n",
    "      mutate(\"t\" = 1:NROW(.)) %>%\n",
    "      gather(.,Variable, Value, -t)\n",
    "\n",
    "    upper_ci <- data.frame(data %>% `$`(Upper) %>% `[[`(variables[e])) %>%\n",
    "      mutate(\"t\" = 1:NROW(.)) %>%\n",
    "      gather(.,Variable, Upper, -t)\n",
    "\n",
    "    lower_ci <- data.frame(data %>% `$`(Lower) %>% `[[`(variables[e]) ) %>%\n",
    "      mutate(\"t\" = 1:NROW(.)) %>%\n",
    "      gather(.,Variable, Lower, -t)\n",
    "\n",
    "    res <- inner_join(data_to_plot, upper_ci, c(\"t\",\"Variable\")) %>%\n",
    "           inner_join(.,lower_ci, c(\"t\",\"Variable\")) %>%\n",
    "           mutate(impulse = paste(\"Shock to\", variables[e])) \n",
    "}) %>% bind_rows\n",
    "\n",
    "p2 <- ggplot(ir, aes(x = t, y = Value, group = Variable))  +\n",
    "  geom_line(color=\"#045a8d\") +\n",
    "  geom_ribbon(aes(x=t, ymax=Upper, ymin=Lower), alpha=0.15, fill=\"#045a8d\") +\n",
    "  scale_x_continuous(limits = c(0,21), breaks = seq(0,20,4)) +\n",
    "  scale_y_continuous(\"\", position=\"right\") +\n",
    "  labs(title=\"Impulse Response Functions\", x=\"\") +\n",
    "  facet_grid(Variable ~ impulse, scales=\"free\", switch=\"y\")\n",
    "\n",
    "grid.arrange(p1, p2, nrow=1)\n",
    "}\n",
    "\n",
    "irf_lars(ldgermany)"
   ]
  },
  {
   "cell_type": "markdown",
   "metadata": {},
   "source": [
    "# Exercise 4: A simple exercise that shows the identifation problem\n",
    "Consider the following two SVARs and show that they both lead to the same reduced\n",
    "form VAR. The structural SVAR is"
   ]
  },
  {
   "cell_type": "markdown",
   "metadata": {},
   "source": [
    "$$\n",
    "\\begin{bmatrix} 1 & 0 \\\\ 1 & 1 \\end{bmatrix}\n",
    "\\begin{bmatrix} y_{1t} \\\\ y_{2t} \\end{bmatrix}\n",
    "=\n",
    "\\begin{bmatrix} 0.5 & -1 \\\\ 0.5 & -1.5 \\end{bmatrix}\n",
    "\\begin{bmatrix} y_{1t} \\\\ y_{2t} \\end{bmatrix}\n",
    "+\n",
    "\\begin{bmatrix} u_{1t} \\\\ u_{2t} \\end{bmatrix}\n",
    "\\qquad \\qquad\n",
    "\\Sigma_u = E\n",
    "\\begin{bmatrix} u_{1t} u_{1t}^T \\end{bmatrix}\n",
    "=\n",
    "\\begin{bmatrix} 1 & 0 \\\\ 0 & 1 \\end{bmatrix}\n",
    "$$\n",
    "\n",
    "$$\n",
    "\\begin{bmatrix} 1 & 0.5 \\\\ 0 & 1 \\end{bmatrix}\n",
    "\\begin{bmatrix} y_{1t} \\\\ y_{2t} \\end{bmatrix}\n",
    "=\n",
    "\\begin{bmatrix} 0.5 & -1.25 \\\\ 0 & -0.5 \\end{bmatrix}\n",
    "\\begin{bmatrix} y_{1t} \\\\ y_{2t} \\end{bmatrix}\n",
    "+\n",
    "\\begin{bmatrix} u_{1t} \\\\ u_{2t} \\end{bmatrix}\n",
    "\\qquad \\qquad\n",
    "\\Sigma_u = E\n",
    "\\begin{bmatrix} u_{1t} u_{1t}^T \\end{bmatrix}\n",
    "=\n",
    "\\begin{bmatrix} 0.5 & 0 \\\\ 0 & 2 \\end{bmatrix}\n",
    "$$"
   ]
  },
  {
   "cell_type": "code",
   "execution_count": 221,
   "metadata": {},
   "outputs": [
    {
     "data": {
      "text/html": [
       "<table>\n",
       "<tbody>\n",
       "\t<tr><td>0.5 </td><td>-1.0</td><td>0.5 </td><td>-1.0</td><td> 1  </td><td>-1  </td><td> 1  </td><td>-1  </td></tr>\n",
       "\t<tr><td>0.0 </td><td>-0.5</td><td>0.0 </td><td>-0.5</td><td>-1  </td><td> 2  </td><td>-1  </td><td> 2  </td></tr>\n",
       "</tbody>\n",
       "</table>\n"
      ],
      "text/latex": [
       "\\begin{tabular}{llllllll}\n",
       "\t 0.5  & -1.0 & 0.5  & -1.0 &  1   & -1   &  1   & -1  \\\\\n",
       "\t 0.0  & -0.5 & 0.0  & -0.5 & -1   &  2   & -1   &  2  \\\\\n",
       "\\end{tabular}\n"
      ],
      "text/markdown": [
       "\n",
       "| 0.5  | -1.0 | 0.5  | -1.0 |  1   | -1   |  1   | -1   | \n",
       "| 0.0  | -0.5 | 0.0  | -0.5 | -1   |  2   | -1   |  2   | \n",
       "\n",
       "\n"
      ],
      "text/plain": [
       "     [,1] [,2] [,3] [,4] [,5] [,6] [,7] [,8]\n",
       "[1,] 0.5  -1.0 0.5  -1.0  1   -1    1   -1  \n",
       "[2,] 0.0  -0.5 0.0  -0.5 -1    2   -1    2  "
      ]
     },
     "metadata": {},
     "output_type": "display_data"
    }
   ],
   "source": [
    "b01 <- matrix(c(1,0,1,1), nrow=2, byrow=T)\n",
    "b02 <- matrix(c(1,0.5,0,1), nrow=2, byrow=T)\n",
    "A1 <- matrix(c(0.5,-1,0.5,-1.5), nrow=2, byrow=T)\n",
    "A2 <- matrix(c(0.5,-1.25,0,-0.5), nrow=2, byrow=T)\n",
    "S1 <- matrix(c(1,0,0,1), nrow=2, byrow=T)\n",
    "S2 <- matrix(c(0.5,0,0,2), nrow=2, byrow=T)\n",
    "\n",
    "a <- solve(b01) %*% A1\n",
    "b <- solve(b02) %*% A2\n",
    "c <- solve(b01) %*% S1 %*% t(solve(b01)) \n",
    "d <- solve(b02) %*% S2 %*% t(solve(b02)) \n",
    "cbind(a,b,c,d)"
   ]
  },
  {
   "cell_type": "markdown",
   "metadata": {},
   "source": [
    "So this means that the operation of moving the $b_0$ matrix is similar for the two equations, here the first sVAR is used as an example:\n",
    "\n",
    "$$\n",
    "\\begin{bmatrix} y_{1t} \\\\ y_{2t} \\end{bmatrix}\n",
    "=\n",
    "\\begin{bmatrix} 1 & 0 \\\\ 1 & 1 \\end{bmatrix}^{-1}\n",
    "\\begin{bmatrix} 0.5 & -1 \\\\ 0.5 & -1.5 \\end{bmatrix}\n",
    "\\begin{bmatrix} y_{1t} \\\\ y_{2t} \\end{bmatrix}\n",
    "+\n",
    "\\begin{bmatrix} 1 & 0 \\\\ 1 & 1 \\end{bmatrix}^{-1}\n",
    "\\begin{bmatrix} u_{1t} \\\\ u_{2t} \\end{bmatrix}\n",
    "\\qquad \\qquad\n",
    "\\Sigma_{\\epsilon}\n",
    "=\n",
    "\\begin{bmatrix} 1 & 0 \\\\ 1 & 1 \\end{bmatrix}^{-1}\n",
    "\\begin{bmatrix} 1 & 0 \\\\ 0 & 1 \\end{bmatrix}\n",
    "\\begin{bmatrix} 1 & 0 \\\\ 1 & 1 \\end{bmatrix}^{-1^T}\n",
    "$$\n",
    "\n",
    "And this means that the common reduced form VAR for the two sVAR models is the following:\n",
    "\n",
    "$$\n",
    "\\begin{bmatrix} y_{1t} \\\\ y_{2t} \\end{bmatrix}\n",
    "=\n",
    "\\begin{bmatrix} 0.5 & -1 \\\\ 0 & -0.5 \\end{bmatrix}\n",
    "\\begin{bmatrix} y_{1t} \\\\ y_{2t} \\end{bmatrix}\n",
    "+\n",
    "\\begin{bmatrix} 1 & 0 \\\\ 1 & 1 \\end{bmatrix}^{-1}\n",
    "\\begin{bmatrix} u_{1t} \\\\ u_{2t} \\end{bmatrix}\n",
    "\\qquad \\qquad\n",
    "\\Sigma_{\\epsilon}\n",
    "=\n",
    "\\begin{bmatrix} 1 & -1 \\\\ -1 & 2 \\end{bmatrix}\n",
    "$$"
   ]
  },
  {
   "cell_type": "markdown",
   "metadata": {},
   "source": [
    "Can you recover either the first SVAR og the second SVAR from the reduced form VAR? Why og why not?\n",
    "\n",
    "??"
   ]
  },
  {
   "cell_type": "markdown",
   "metadata": {},
   "source": [
    "# Exercise 5: VAR(1), VMA(1), SVMA(1), identifcation and impulse responses\n",
    "This exercise is a combined analytical and small-scale quantitative exercise. The purpose is to become more familiar with the simplest possible VAR model, the corre- sponding SVAR and how to identify the parameters in the SVAR from the reduced form variance-covariance matrix. You are given the following reduced form VAR estimates from a VAR(1)"
   ]
  },
  {
   "cell_type": "markdown",
   "metadata": {},
   "source": [
    "$$\n",
    "\\begin{bmatrix} y_{1t} \\\\ y_{2t} \\end{bmatrix}\n",
    "=\n",
    "\\begin{bmatrix} 0 \\\\ 0 \\end{bmatrix}\n",
    "+\n",
    "\\begin{bmatrix} 0.7 & 0.2 \\\\ 0.2 & 0.7 \\end{bmatrix}\n",
    "\\begin{bmatrix} y_{1,t-1} \\\\ y_{1,t-1} \\end{bmatrix}\n",
    "+\n",
    "\\begin{bmatrix} \\varepsilon_{1t} \\\\ \\varepsilon_{2t} \\end{bmatrix}\n",
    "\\qquad \\qquad\n",
    "\\Sigma_{\\epsilon}\n",
    "=\n",
    "\\begin{bmatrix} 0.5 & 0.4 \\\\ 0.4 & 0.5 \\end{bmatrix}\n",
    "$$\n",
    "\n",
    "and the following SVAR\n",
    "\n",
    "$$\n",
    "\\begin{bmatrix} 1 & b_{0,12} \\\\ b_{0,21} & 1 \\end{bmatrix}\n",
    "\\begin{bmatrix} y_{1t} \\\\ y_{2t} \\end{bmatrix}\n",
    "=\n",
    "\\begin{bmatrix} 0 \\\\ 0 \\end{bmatrix}\n",
    "+\n",
    "\\begin{bmatrix} b_{1,11} & b_{1,12} \\\\ b_{1,21} & b_{1,22} \\end{bmatrix}\n",
    "\\begin{bmatrix} y_{1,t-1} \\\\ y_{1,t-1} \\end{bmatrix}\n",
    "+\n",
    "\\begin{bmatrix} \\mu_{1,t} \\\\ \\mu_{2,t} \\end{bmatrix}\n",
    "\\qquad \\qquad\n",
    "\\Sigma_{\\mu}\n",
    "=\n",
    "\\begin{bmatrix} \\sigma^2_{1\\mu} & 0 \\\\ 0 & \\sigma^2_{2\\mu} \\end{bmatrix}\n",
    "$$"
   ]
  },
  {
   "cell_type": "markdown",
   "metadata": {},
   "source": [
    "### 5.1: What is the implied correlation between $\\varepsilon_{1t}$ and $\\varepsilon_{2t}$ calculated from $\\Sigma_\\varepsilon$\n",
    "\n",
    "0.8"
   ]
  },
  {
   "cell_type": "code",
   "execution_count": 222,
   "metadata": {},
   "outputs": [
    {
     "data": {
      "text/html": [
       "<table>\n",
       "<tbody>\n",
       "\t<tr><td>1.0</td><td>0.8</td></tr>\n",
       "\t<tr><td>0.8</td><td>1.0</td></tr>\n",
       "</tbody>\n",
       "</table>\n"
      ],
      "text/latex": [
       "\\begin{tabular}{ll}\n",
       "\t 1.0 & 0.8\\\\\n",
       "\t 0.8 & 1.0\\\\\n",
       "\\end{tabular}\n"
      ],
      "text/markdown": [
       "\n",
       "| 1.0 | 0.8 | \n",
       "| 0.8 | 1.0 | \n",
       "\n",
       "\n"
      ],
      "text/plain": [
       "     [,1] [,2]\n",
       "[1,] 1.0  0.8 \n",
       "[2,] 0.8  1.0 "
      ]
     },
     "metadata": {},
     "output_type": "display_data"
    }
   ],
   "source": [
    "ma <- matrix(c(0.5,0.4,0.4,0.5), byrow=T, nrow=2)\n",
    "cov2cor(ma)"
   ]
  },
  {
   "cell_type": "markdown",
   "metadata": {},
   "source": [
    "### 5.2 Explained theoretically, can you estimate the SVAR by OLS? If not, why?"
   ]
  },
  {
   "cell_type": "markdown",
   "metadata": {},
   "source": [
    "No because one condition of OLS is that the variables are not correlated with the residual, and if the equation is estimated by OLS both the parametres and the residual will be influenced by the simultaneous effect of $b_{0,12}$ og $b_{0,21}$"
   ]
  },
  {
   "cell_type": "markdown",
   "metadata": {},
   "source": [
    "### 5.3 Explain how to identify the SVAR parameters. Hint: identification problem."
   ]
  },
  {
   "cell_type": "markdown",
   "metadata": {},
   "source": [
    "You use the $b_0$ matrix and multiplies it with the right side of the equation (inversed), and then use a cholesky decomposition to identify the parametres."
   ]
  },
  {
   "cell_type": "markdown",
   "metadata": {},
   "source": [
    "### 5.4 Given the SVAR variance-covariance matrix show that you cannot identify $\\{ b_{0,12}, b_{0,21}, \\sigma^2_{1u},\\sigma^2_{2u} \\}$ from the relation \n",
    "$$\\Sigma_\\varepsilon = B_0^{-1}\\Sigma_\\mu(B_0^{-1})^T$$"
   ]
  },
  {
   "cell_type": "markdown",
   "metadata": {},
   "source": [
    "### 5.5 Now impose $b_{0,12} = 0$ Is this su¢cient to identify the parameters? If so, write down the solution of $\\{ b_{0,12}, b_{0,21}, \\sigma^2_{1u},\\sigma^2_{2u} \\}$ and $B_1$ and $\\mu_t = B_0\\varepsilon_t$"
   ]
  },
  {
   "cell_type": "markdown",
   "metadata": {},
   "source": [
    "First i fill in what we know in this expression, and do the inverse and transpose operations\n",
    "\n",
    "$$\\Sigma_\\varepsilon = B_0^{-1}\\Sigma_\\mu(B_0^{-1})^T$$\n",
    "\n",
    "$$\n",
    "\\begin{bmatrix} 0.5 & 0.4 \\\\ 0.4 & 0.5 \\end{bmatrix}\n",
    "= \n",
    "\\begin{bmatrix} 1 & 0 \\\\ -b_{0,21} & 1 \\end{bmatrix}\n",
    "\\begin{bmatrix} \\sigma^2_{1u} & 0 \\\\ 0 & \\sigma^2_{2u} \\end{bmatrix}\n",
    "\\begin{bmatrix} 1 & -b_{0,21} \\\\ 0 & 1 \\end{bmatrix}\n",
    "$$\n",
    "\n",
    "By multiplying the right side matrices you get:\n",
    "\n",
    "$$\n",
    "\\begin{bmatrix} 0.5 & 0.4 \\\\ 0.4 & 0.5 \\end{bmatrix}\n",
    "= \n",
    "\\begin{bmatrix} \\sigma^2_{1u} & -b_{0,21}\\sigma^2_{1u} \\\\ -b_{0,21}\\sigma^2_{1u} & b_{0,21}^2\\sigma^2_{1u} + \\sigma^2_{2u} \\end{bmatrix}\n",
    "$$\n",
    "\n",
    "From er here we start solving, first it's clear that:\n",
    "\n",
    "$$\\sigma^2_{1u} = 0.5$$\n",
    "\n",
    "because of this it means that:\n",
    "\n",
    "$$ 0.4 = -b_{0,21} * 0.5$$\n",
    "$$ b_{0,21} = -0.8$$\n",
    "\n",
    "and then solve the last:\n",
    "\n",
    "$$ 0.5 = -0.8^2*0.5+\\sigma^2_{2u}$$\n",
    "$$ \\sigma^2_{2u} = 0.18 $$"
   ]
  },
  {
   "cell_type": "markdown",
   "metadata": {},
   "source": [
    "Now we can find $B_1$ \n",
    "$$ B_1 = B_0^{-1} * A_1$$\n",
    "\n",
    "$$ B_1 = \n",
    "\\begin{bmatrix} 1 & 0 \\\\ -0.8 & 1 \\end{bmatrix}^{-1}\n",
    "\\begin{bmatrix} 0.7 & 0.2 \\\\ 0.2 & 0.7 \\end{bmatrix}\n",
    "$$\n",
    "\n",
    "$$ B_1 = \\begin{bmatrix} 0.7 & 0.2 \\\\ 0.76 & 0.86 \\end{bmatrix} $$"
   ]
  },
  {
   "cell_type": "code",
   "execution_count": 3,
   "metadata": {},
   "outputs": [
    {
     "data": {
      "text/html": [
       "<table>\n",
       "<tbody>\n",
       "\t<tr><td>0.70</td><td>0.20</td></tr>\n",
       "\t<tr><td>0.76</td><td>0.86</td></tr>\n",
       "</tbody>\n",
       "</table>\n"
      ],
      "text/latex": [
       "\\begin{tabular}{ll}\n",
       "\t 0.70 & 0.20\\\\\n",
       "\t 0.76 & 0.86\\\\\n",
       "\\end{tabular}\n"
      ],
      "text/markdown": [
       "\n",
       "| 0.70 | 0.20 | \n",
       "| 0.76 | 0.86 | \n",
       "\n",
       "\n"
      ],
      "text/plain": [
       "     [,1] [,2]\n",
       "[1,] 0.70 0.20\n",
       "[2,] 0.76 0.86"
      ]
     },
     "metadata": {},
     "output_type": "display_data"
    }
   ],
   "source": [
    "b0 <- matrix(c(1,0,-0.8,1), byrow=T, nrow=2)\n",
    "a1 <- matrix(c(0.7,0.2,0.2,0.7), byrow=T, nrow=2)\n",
    "solve(b0) %*% a1"
   ]
  },
  {
   "cell_type": "code",
   "execution_count": 4,
   "metadata": {},
   "outputs": [
    {
     "data": {
      "text/html": [
       "<table>\n",
       "<tbody>\n",
       "\t<tr><td>0.7071068</td><td>0.5656854</td></tr>\n",
       "\t<tr><td>0.0000000</td><td>0.2828427</td></tr>\n",
       "</tbody>\n",
       "</table>\n"
      ],
      "text/latex": [
       "\\begin{tabular}{ll}\n",
       "\t 0.7071068 & 0.5656854\\\\\n",
       "\t 0.0000000 & 0.2828427\\\\\n",
       "\\end{tabular}\n"
      ],
      "text/markdown": [
       "\n",
       "| 0.7071068 | 0.5656854 | \n",
       "| 0.0000000 | 0.2828427 | \n",
       "\n",
       "\n"
      ],
      "text/plain": [
       "     [,1]      [,2]     \n",
       "[1,] 0.7071068 0.5656854\n",
       "[2,] 0.0000000 0.2828427"
      ]
     },
     "metadata": {},
     "output_type": "display_data"
    },
    {
     "data": {
      "text/html": [
       "<table>\n",
       "<tbody>\n",
       "\t<tr><td>1.0</td><td>0  </td></tr>\n",
       "\t<tr><td>0.8</td><td>1  </td></tr>\n",
       "</tbody>\n",
       "</table>\n"
      ],
      "text/latex": [
       "\\begin{tabular}{ll}\n",
       "\t 1.0 & 0  \\\\\n",
       "\t 0.8 & 1  \\\\\n",
       "\\end{tabular}\n"
      ],
      "text/markdown": [
       "\n",
       "| 1.0 | 0   | \n",
       "| 0.8 | 1   | \n",
       "\n",
       "\n"
      ],
      "text/plain": [
       "     [,1] [,2]\n",
       "[1,] 1.0  0   \n",
       "[2,] 0.8  1   "
      ]
     },
     "metadata": {},
     "output_type": "display_data"
    }
   ],
   "source": [
    "chol(matrix(c(0.5,0.4,0.5,0.4), byrow=T, nrow=2))\n",
    "solve(b0)"
   ]
  },
  {
   "cell_type": "markdown",
   "metadata": {},
   "source": [
    "### 5.6 Calculate the VMA for i = 1, 2, ..., 5:"
   ]
  },
  {
   "cell_type": "code",
   "execution_count": 224,
   "metadata": {},
   "outputs": [
    {
     "data": {
      "text/html": [
       "<table>\n",
       "<thead><tr><th scope=col>1. shock in y1 on y1</th><th scope=col>2. shock in y2 on y1</th><th scope=col>3. shock in y1 on y2</th><th scope=col>4. shock in y2 on y2</th><th scope=col>n</th></tr></thead>\n",
       "<tbody>\n",
       "\t<tr><td>1.000</td><td>0.000</td><td>0.000</td><td>1.000</td><td>1    </td></tr>\n",
       "\t<tr><td>0.700</td><td>0.200</td><td>0.200</td><td>0.700</td><td>2    </td></tr>\n",
       "\t<tr><td>0.530</td><td>0.280</td><td>0.280</td><td>0.530</td><td>3    </td></tr>\n",
       "\t<tr><td>0.427</td><td>0.302</td><td>0.302</td><td>0.427</td><td>4    </td></tr>\n",
       "</tbody>\n",
       "</table>\n"
      ],
      "text/latex": [
       "\\begin{tabular}{r|lllll}\n",
       " 1. shock in y1 on y1 & 2. shock in y2 on y1 & 3. shock in y1 on y2 & 4. shock in y2 on y2 & n\\\\\n",
       "\\hline\n",
       "\t 1.000 & 0.000 & 0.000 & 1.000 & 1    \\\\\n",
       "\t 0.700 & 0.200 & 0.200 & 0.700 & 2    \\\\\n",
       "\t 0.530 & 0.280 & 0.280 & 0.530 & 3    \\\\\n",
       "\t 0.427 & 0.302 & 0.302 & 0.427 & 4    \\\\\n",
       "\\end{tabular}\n"
      ],
      "text/markdown": [
       "\n",
       "1. shock in y1 on y1 | 2. shock in y2 on y1 | 3. shock in y1 on y2 | 4. shock in y2 on y2 | n | \n",
       "|---|---|---|---|\n",
       "| 1.000 | 0.000 | 0.000 | 1.000 | 1     | \n",
       "| 0.700 | 0.200 | 0.200 | 0.700 | 2     | \n",
       "| 0.530 | 0.280 | 0.280 | 0.530 | 3     | \n",
       "| 0.427 | 0.302 | 0.302 | 0.427 | 4     | \n",
       "\n",
       "\n"
      ],
      "text/plain": [
       "  1. shock in y1 on y1 2. shock in y2 on y1 3. shock in y1 on y2\n",
       "1 1.000                0.000                0.000               \n",
       "2 0.700                0.200                0.200               \n",
       "3 0.530                0.280                0.280               \n",
       "4 0.427                0.302                0.302               \n",
       "  4. shock in y2 on y2 n\n",
       "1 1.000                1\n",
       "2 0.700                2\n",
       "3 0.530                3\n",
       "4 0.427                4"
      ]
     },
     "metadata": {},
     "output_type": "display_data"
    }
   ],
   "source": [
    "A <- matrix(c(0.7,0.2,0.2,0.7), byrow=T,nrow=2)\n",
    "\n",
    "row <- data.frame(NA,NA,NA,NA)\n",
    "\n",
    "for (i in 0:19) {\n",
    "    row[i+1,] <- t(as.vector(A %^% i))\n",
    "}\n",
    "\n",
    "row$n <- 1:20\n",
    "colnames(row) <- c(\"1. shock in y1 on y1\", \"2. shock in y2 on y1\", \"3. shock in y1 on y2\", \"4. shock in y2 on y2\", \"n\")\n",
    "df <- gather(row, variable, value, -n)\n",
    "\n",
    "p1 <- ggplot(df, aes(n, value)) + \n",
    "geom_line() + \n",
    "facet_wrap(~variable) + \n",
    "labs(title=\"VMA solution\")\n",
    "\n",
    "head(row,4)"
   ]
  },
  {
   "cell_type": "markdown",
   "metadata": {},
   "source": [
    "### 5.7 Calculate the SVMA for i = 1, 2, ..., 5. To calculate the impulse responses, we could continue and use $B_0^{-1}$ from above. However, why not practise the Cholesky decomposition of $\\Sigma_\\varepsilon$ Hence calculating the Cholesky decomposition, you should get:\n",
    "\n",
    "$$ P = \\begin{bmatrix} 0.7071 & 0 \\\\ 0.5657 & 0.4243 \\end{bmatrix}$$"
   ]
  },
  {
   "cell_type": "code",
   "execution_count": 6,
   "metadata": {},
   "outputs": [
    {
     "data": {
      "text/html": [
       "<table>\n",
       "<tbody>\n",
       "\t<tr><td>0.7071068</td><td>0.5656854</td></tr>\n",
       "\t<tr><td>0.0000000</td><td>0.4242641</td></tr>\n",
       "</tbody>\n",
       "</table>\n"
      ],
      "text/latex": [
       "\\begin{tabular}{ll}\n",
       "\t 0.7071068 & 0.5656854\\\\\n",
       "\t 0.0000000 & 0.4242641\\\\\n",
       "\\end{tabular}\n"
      ],
      "text/markdown": [
       "\n",
       "| 0.7071068 | 0.5656854 | \n",
       "| 0.0000000 | 0.4242641 | \n",
       "\n",
       "\n"
      ],
      "text/plain": [
       "     [,1]      [,2]     \n",
       "[1,] 0.7071068 0.5656854\n",
       "[2,] 0.0000000 0.4242641"
      ]
     },
     "metadata": {},
     "output_type": "display_data"
    }
   ],
   "source": [
    "P <- (chol(matrix(c(0.5,0.4,0.4,0.5), byrow=T,nrow=2)))\n",
    "P"
   ]
  },
  {
   "cell_type": "markdown",
   "metadata": {},
   "source": [
    "Now i use the choleski factor to calculate the IRF"
   ]
  },
  {
   "cell_type": "code",
   "execution_count": 10,
   "metadata": {},
   "outputs": [
    {
     "data": {
      "text/html": [
       "<table>\n",
       "<thead><tr><th scope=col>1. shock in y1 on y1</th><th scope=col>3. shock in y1 on y2</th><th scope=col>2. shock in y2 on y1</th><th scope=col>4. shock in y2 on y2</th><th scope=col>n</th></tr></thead>\n",
       "<tbody>\n",
       "\t<tr><td>0.7071068 </td><td>0.00000000</td><td>0.5656854 </td><td>0.4242641 </td><td>1         </td></tr>\n",
       "\t<tr><td>0.6081118 </td><td>0.08485281</td><td>0.5374012 </td><td>0.2969848 </td><td>2         </td></tr>\n",
       "\t<tr><td>0.5331585 </td><td>0.11879394</td><td>0.4978032 </td><td>0.2248600 </td><td>3         </td></tr>\n",
       "\t<tr><td>0.4727716 </td><td>0.12812775</td><td>0.4550939 </td><td>0.1811608 </td><td>4         </td></tr>\n",
       "</tbody>\n",
       "</table>\n"
      ],
      "text/latex": [
       "\\begin{tabular}{r|lllll}\n",
       " 1. shock in y1 on y1 & 3. shock in y1 on y2 & 2. shock in y2 on y1 & 4. shock in y2 on y2 & n\\\\\n",
       "\\hline\n",
       "\t 0.7071068  & 0.00000000 & 0.5656854  & 0.4242641  & 1         \\\\\n",
       "\t 0.6081118  & 0.08485281 & 0.5374012  & 0.2969848  & 2         \\\\\n",
       "\t 0.5331585  & 0.11879394 & 0.4978032  & 0.2248600  & 3         \\\\\n",
       "\t 0.4727716  & 0.12812775 & 0.4550939  & 0.1811608  & 4         \\\\\n",
       "\\end{tabular}\n"
      ],
      "text/markdown": [
       "\n",
       "1. shock in y1 on y1 | 3. shock in y1 on y2 | 2. shock in y2 on y1 | 4. shock in y2 on y2 | n | \n",
       "|---|---|---|---|\n",
       "| 0.7071068  | 0.00000000 | 0.5656854  | 0.4242641  | 1          | \n",
       "| 0.6081118  | 0.08485281 | 0.5374012  | 0.2969848  | 2          | \n",
       "| 0.5331585  | 0.11879394 | 0.4978032  | 0.2248600  | 3          | \n",
       "| 0.4727716  | 0.12812775 | 0.4550939  | 0.1811608  | 4          | \n",
       "\n",
       "\n"
      ],
      "text/plain": [
       "  1. shock in y1 on y1 3. shock in y1 on y2 2. shock in y2 on y1\n",
       "1 0.7071068            0.00000000           0.5656854           \n",
       "2 0.6081118            0.08485281           0.5374012           \n",
       "3 0.5331585            0.11879394           0.4978032           \n",
       "4 0.4727716            0.12812775           0.4550939           \n",
       "  4. shock in y2 on y2 n\n",
       "1 0.4242641            1\n",
       "2 0.2969848            2\n",
       "3 0.2248600            3\n",
       "4 0.1811608            4"
      ]
     },
     "metadata": {},
     "output_type": "display_data"
    }
   ],
   "source": [
    "A <- matrix(c(0.7,0.2,0.2,0.7), byrow=T,nrow=2)\n",
    "\n",
    "\n",
    "row <- data.frame(NA,NA,NA,NA)\n",
    "\n",
    "for (i in 0:19) {\n",
    "    row[i+1,] <- t(as.vector(P %*% (A %^% i)))\n",
    "}\n",
    "\n",
    "row$n <- 1:20\n",
    "colnames(row) <- c(\"1. shock in y1 on y1\",  \"3. shock in y1 on y2\", \"2. shock in y2 on y1\", \"4. shock in y2 on y2\", \"n\")\n",
    "df <- gather(row, variable, value, -n)\n",
    "\n",
    "p2 <- ggplot(df, aes(n, value)) + \n",
    "geom_line() + \n",
    "facet_wrap(~variable) + \n",
    "labs(title=\"SVMA P solution\")\n",
    "\n",
    "head(row,4)"
   ]
  },
  {
   "cell_type": "markdown",
   "metadata": {},
   "source": [
    "But these can also be calculated by the $B_0$ we found earlier (it doesn't give the same results and i don't know why)"
   ]
  },
  {
   "cell_type": "code",
   "execution_count": 227,
   "metadata": {},
   "outputs": [
    {
     "data": {
      "text/html": [
       "<table>\n",
       "<thead><tr><th scope=col>1. shock in y1 on y1</th><th scope=col>2. shock in y2 on y1</th><th scope=col>3. shock in y1 on y2</th><th scope=col>4. shock in y2 on y2</th><th scope=col>n</th></tr></thead>\n",
       "<tbody>\n",
       "\t<tr><td>1.000 </td><td>0.8000</td><td>0.000 </td><td>1.0000</td><td>1     </td></tr>\n",
       "\t<tr><td>0.700 </td><td>0.7600</td><td>0.200 </td><td>0.8600</td><td>2     </td></tr>\n",
       "\t<tr><td>0.530 </td><td>0.7040</td><td>0.280 </td><td>0.7540</td><td>3     </td></tr>\n",
       "\t<tr><td>0.427 </td><td>0.6436</td><td>0.302 </td><td>0.6686</td><td>4     </td></tr>\n",
       "</tbody>\n",
       "</table>\n"
      ],
      "text/latex": [
       "\\begin{tabular}{r|lllll}\n",
       " 1. shock in y1 on y1 & 2. shock in y2 on y1 & 3. shock in y1 on y2 & 4. shock in y2 on y2 & n\\\\\n",
       "\\hline\n",
       "\t 1.000  & 0.8000 & 0.000  & 1.0000 & 1     \\\\\n",
       "\t 0.700  & 0.7600 & 0.200  & 0.8600 & 2     \\\\\n",
       "\t 0.530  & 0.7040 & 0.280  & 0.7540 & 3     \\\\\n",
       "\t 0.427  & 0.6436 & 0.302  & 0.6686 & 4     \\\\\n",
       "\\end{tabular}\n"
      ],
      "text/markdown": [
       "\n",
       "1. shock in y1 on y1 | 2. shock in y2 on y1 | 3. shock in y1 on y2 | 4. shock in y2 on y2 | n | \n",
       "|---|---|---|---|\n",
       "| 1.000  | 0.8000 | 0.000  | 1.0000 | 1      | \n",
       "| 0.700  | 0.7600 | 0.200  | 0.8600 | 2      | \n",
       "| 0.530  | 0.7040 | 0.280  | 0.7540 | 3      | \n",
       "| 0.427  | 0.6436 | 0.302  | 0.6686 | 4      | \n",
       "\n",
       "\n"
      ],
      "text/plain": [
       "  1. shock in y1 on y1 2. shock in y2 on y1 3. shock in y1 on y2\n",
       "1 1.000                0.8000               0.000               \n",
       "2 0.700                0.7600               0.200               \n",
       "3 0.530                0.7040               0.280               \n",
       "4 0.427                0.6436               0.302               \n",
       "  4. shock in y2 on y2 n\n",
       "1 1.0000               1\n",
       "2 0.8600               2\n",
       "3 0.7540               3\n",
       "4 0.6686               4"
      ]
     },
     "metadata": {},
     "output_type": "display_data"
    }
   ],
   "source": [
    "A <- matrix(c(0.7,0.2,0.2,0.7), byrow=T,nrow=2)\n",
    "b <- matrix(c(1,0,-0.8,1), byrow=T,nrow=2)\n",
    "\n",
    "row <- data.frame(NA,NA,NA,NA)\n",
    "\n",
    "for (i in 0:19) {\n",
    "    row[i+1,] <- t(as.vector(solve(b) %*% (A %^% i)))\n",
    "}\n",
    "\n",
    "\n",
    "row$n <- 1:20\n",
    "colnames(row) <- c(\"1. shock in y1 on y1\", \"2. shock in y2 on y1\", \"3. shock in y1 on y2\", \"4. shock in y2 on y2\", \"n\")\n",
    "df <- gather(row, variable, value, -n)\n",
    "\n",
    "p3 <- ggplot(df, aes(n, value)) + \n",
    "geom_line() + \n",
    "facet_wrap(~variable) + \n",
    "labs(title=\"SVMA B_0 solution\")\n",
    "\n",
    "head(row,4)"
   ]
  },
  {
   "cell_type": "markdown",
   "metadata": {},
   "source": [
    "## Why different results from P and B_0 ?????"
   ]
  },
  {
   "cell_type": "code",
   "execution_count": 228,
   "metadata": {},
   "outputs": [
    {
     "data": {
      "image/png": "[encoded data removed]",
      "text/plain": [
       "plot without title"
      ]
     },
     "metadata": {},
     "output_type": "display_data"
    }
   ],
   "source": [
    "grid.arrange(p1,p2,p3, nrow=1)"
   ]
  },
  {
   "cell_type": "markdown",
   "metadata": {},
   "source": [
    "# Exercise 6: Discussion and Overview"
   ]
  },
  {
   "cell_type": "markdown",
   "metadata": {},
   "source": [
    "### 6.1 Propose situations where a VAR would be a good model choice. Why may univariate models be insu¢cient?"
   ]
  },
  {
   "cell_type": "markdown",
   "metadata": {},
   "source": [
    "### 6.2 Describe the terms VAR(p), VMA, and SVMA"
   ]
  },
  {
   "cell_type": "markdown",
   "metadata": {},
   "source": [
    "### 6.3 What is a lag operator and give an example of the use the lag operator"
   ]
  },
  {
   "cell_type": "markdown",
   "metadata": {},
   "source": [
    "### 6.4 Describe the notion of \"curse of dimensionality\" and try to give an example"
   ]
  },
  {
   "cell_type": "markdown",
   "metadata": {},
   "source": [
    "### 6.5 What is a Cholesky decomposition and how can we use it in VAR analyses?\n",
    "What does causal ordering means. Give an example in terms of the use of Cholesky decomposition."
   ]
  },
  {
   "cell_type": "markdown",
   "metadata": {},
   "source": [
    "### 6.6 Based on Lutz Killians handbook chapter, Summarize the use of SVAR. What is the critique of using the Cholesky decomposition in structural VAR analyses?"
   ]
  },
  {
   "cell_type": "markdown",
   "metadata": {},
   "source": [
    "# Exercise 7: Orthogonalized impulse response functions using the Cholesky decomposition\n",
    "Consider again the data in the …rst exercise where you estimated ?b? for the some- m?mp what longer period 1960 to 1978. Now it is time to calculate orthogonalized impulse response function using the Cholesky decomposition."
   ]
  },
  {
   "cell_type": "markdown",
   "metadata": {},
   "source": [
    "### 7.1 The order of the variables in the VAR is important for the impulse responses; cf. the discussion in Kilian. Choose the order f?ln i;?ln y;?ln cg : Firstly, the estimated ?b? including the constant is"
   ]
  },
  {
   "cell_type": "markdown",
   "metadata": {},
   "source": [
    "### 7.2 The estimated variance-covariance matrix of the reduced form VAR residuals"
   ]
  },
  {
   "cell_type": "markdown",
   "metadata": {},
   "source": [
    "### 7.3 Calculate the orthogonalized impulse responses seen in ?0; ?1;"
   ]
  },
  {
   "cell_type": "markdown",
   "metadata": {},
   "source": [
    "### 7.4 Compare with the following graphs. Interpret each graph and …nd the correspon- dance between each graph and ?1; ?2; ::::"
   ]
  },
  {
   "cell_type": "code",
   "execution_count": null,
   "metadata": {},
   "outputs": [],
   "source": []
  },
  {
   "cell_type": "code",
   "execution_count": null,
   "metadata": {},
   "outputs": [],
   "source": []
  }
 ],
 "metadata": {
  "kernelspec": {
   "display_name": "R",
   "language": "R",
   "name": "ir"
  },
  "language_info": {
   "codemirror_mode": "r",
   "file_extension": ".r",
   "mimetype": "text/x-r-source",
   "name": "R",
   "pygments_lexer": "r",
   "version": "3.5.1"
  }
 },
 "nbformat": 4,
 "nbformat_minor": 2
}
