{
 "cells": [
  {
   "cell_type": "markdown",
   "metadata": {},
   "source": [
    "# CHAPTER 2"
   ]
  },
  {
   "cell_type": "code",
   "execution_count": 1,
   "metadata": {},
   "outputs": [
    {
     "name": "stderr",
     "output_type": "stream",
     "text": [
      "-- Attaching packages --------------------------------------- tidyverse 1.2.1 --\n",
      "v ggplot2 3.1.0     v purrr   0.2.5\n",
      "v tibble  1.4.2     v dplyr   0.7.7\n",
      "v tidyr   0.8.2     v stringr 1.3.1\n",
      "v readr   1.1.1     v forcats 0.3.0\n",
      "-- Conflicts ------------------------------------------ tidyverse_conflicts() --\n",
      "x dplyr::filter() masks stats::filter()\n",
      "x dplyr::lag()    masks stats::lag()\n",
      "\n",
      "Attaching package: 'gridExtra'\n",
      "\n",
      "The following object is masked from 'package:dplyr':\n",
      "\n",
      "    combine\n",
      "\n",
      "Loading required package: parallel\n",
      "\n",
      "Attaching package: 'rugarch'\n",
      "\n",
      "The following object is masked from 'package:purrr':\n",
      "\n",
      "    reduce\n",
      "\n",
      "The following object is masked from 'package:stats':\n",
      "\n",
      "    sigma\n",
      "\n"
     ]
    }
   ],
   "source": [
    "library(tidyverse)\n",
    "library(gridExtra)\n",
    "library(readr)\n",
    "library(forecast)\n",
    "library(repr) # Resizing the plots in jupyter\n",
    "library(rugarch) # For multiplying lags\n",
    "\n",
    "options(repr.plot.width=8, repr.plot.height=2.5)\n",
    "\n",
    "setwd(\"C:/Users/larsn/Documents/GitHub/Applied-Econometric-Time-Series-WE\")"
   ]
  },
  {
   "cell_type": "code",
   "execution_count": 2,
   "metadata": {},
   "outputs": [
    {
     "name": "stderr",
     "output_type": "stream",
     "text": [
      "Parsed with column specification:\n",
      "cols(\n",
      "  OBS = col_integer(),\n",
      "  Y1 = col_double(),\n",
      "  Y2 = col_double(),\n",
      "  Y3 = col_double()\n",
      ")\n"
     ]
    },
    {
     "data": {
      "text/html": [
       "<table>\n",
       "<thead><tr><th scope=col>OBS</th><th scope=col>Y1</th><th scope=col>Y2</th><th scope=col>Y3</th></tr></thead>\n",
       "<tbody>\n",
       "\t<tr><td>1       </td><td> 0.60805</td><td> 3.96768</td><td> 0.04856</td></tr>\n",
       "\t<tr><td>2       </td><td>-0.29348</td><td>-2.23051</td><td> 0.14200</td></tr>\n",
       "\t<tr><td>3       </td><td>-0.68832</td><td> 1.69602</td><td>-0.10089</td></tr>\n",
       "\t<tr><td>4       </td><td>-0.86596</td><td>-1.61072</td><td>-0.50346</td></tr>\n",
       "\t<tr><td>5       </td><td> 0.66890</td><td> 3.79400</td><td>-0.50044</td></tr>\n",
       "\t<tr><td>6       </td><td> 0.65094</td><td>-4.81795</td><td> 0.15233</td></tr>\n",
       "</tbody>\n",
       "</table>\n"
      ],
      "text/latex": [
       "\\begin{tabular}{r|llll}\n",
       " OBS & Y1 & Y2 & Y3\\\\\n",
       "\\hline\n",
       "\t 1        &  0.60805 &  3.96768 &  0.04856\\\\\n",
       "\t 2        & -0.29348 & -2.23051 &  0.14200\\\\\n",
       "\t 3        & -0.68832 &  1.69602 & -0.10089\\\\\n",
       "\t 4        & -0.86596 & -1.61072 & -0.50346\\\\\n",
       "\t 5        &  0.66890 &  3.79400 & -0.50044\\\\\n",
       "\t 6        &  0.65094 & -4.81795 &  0.15233\\\\\n",
       "\\end{tabular}\n"
      ],
      "text/markdown": [
       "\n",
       "OBS | Y1 | Y2 | Y3 | \n",
       "|---|---|---|---|---|---|\n",
       "| 1        |  0.60805 |  3.96768 |  0.04856 | \n",
       "| 2        | -0.29348 | -2.23051 |  0.14200 | \n",
       "| 3        | -0.68832 |  1.69602 | -0.10089 | \n",
       "| 4        | -0.86596 | -1.61072 | -0.50346 | \n",
       "| 5        |  0.66890 |  3.79400 | -0.50044 | \n",
       "| 6        |  0.65094 | -4.81795 |  0.15233 | \n",
       "\n",
       "\n"
      ],
      "text/plain": [
       "  OBS Y1       Y2       Y3      \n",
       "1 1    0.60805  3.96768  0.04856\n",
       "2 2   -0.29348 -2.23051  0.14200\n",
       "3 3   -0.68832  1.69602 -0.10089\n",
       "4 4   -0.86596 -1.61072 -0.50346\n",
       "5 5    0.66890  3.79400 -0.50044\n",
       "6 6    0.65094 -4.81795  0.15233"
      ]
     },
     "metadata": {},
     "output_type": "display_data"
    }
   ],
   "source": [
    "SIM_2 <- read_delim(\"Data/SIM_2.csv\", \";\", \n",
    "                    escape_double = FALSE, locale = locale(decimal_mark = \",\"), \n",
    "                    trim_ws = TRUE)\n",
    "head(SIM_2)"
   ]
  },
  {
   "cell_type": "code",
   "execution_count": 3,
   "metadata": {},
   "outputs": [
    {
     "data": {
      "image/png": "[encoded data removed]",
      "text/plain": [
       "plot without title"
      ]
     },
     "metadata": {},
     "output_type": "display_data"
    },
    {
     "data": {
      "image/png": "[encoded data removed]",
      "text/plain": [
       "Plot with title \"Series  SIM_2$Y1\""
      ]
     },
     "metadata": {},
     "output_type": "display_data"
    }
   ],
   "source": [
    "plot(SIM_2$Y1, type=\"l\")\n",
    "par(mfrow=c(1,2))\n",
    "acf(SIM_2$Y1)\n",
    "pacf(SIM_2$Y1)"
   ]
  },
  {
   "cell_type": "code",
   "execution_count": 4,
   "metadata": {},
   "outputs": [
    {
     "data": {
      "text/plain": [
       "\n",
       "Call:\n",
       "arima(x = SIM_2$Y1, order = c(1, 0, 0), include.mean = FALSE)\n",
       "\n",
       "Coefficients:\n",
       "         ar1\n",
       "      0.7840\n",
       "s.e.  0.0606\n",
       "\n",
       "sigma^2 estimated as 0.8525:  log likelihood = -134.39,  aic = 272.78"
      ]
     },
     "metadata": {},
     "output_type": "display_data"
    }
   ],
   "source": [
    "m1 <- arima(SIM_2$Y1, order = c(1,0,0), include.mean=FALSE)\n",
    "m1"
   ]
  },
  {
   "cell_type": "code",
   "execution_count": 5,
   "metadata": {},
   "outputs": [
    {
     "data": {
      "text/plain": [
       "\n",
       "\tBox-Ljung test\n",
       "\n",
       "data:  m1$residuals\n",
       "X-squared = 6.3024, df = 8, p-value = 0.6134\n"
      ]
     },
     "metadata": {},
     "output_type": "display_data"
    },
    {
     "data": {
      "text/plain": [
       "\n",
       "\tBox-Ljung test\n",
       "\n",
       "data:  m1$residuals\n",
       "X-squared = 15.666, df = 16, p-value = 0.4765\n"
      ]
     },
     "metadata": {},
     "output_type": "display_data"
    },
    {
     "data": {
      "text/plain": [
       "\n",
       "\tBox-Ljung test\n",
       "\n",
       "data:  m1$residuals\n",
       "X-squared = 21.528, df = 24, p-value = 0.6074\n"
      ]
     },
     "metadata": {},
     "output_type": "display_data"
    }
   ],
   "source": [
    "Box.test(m1$residuals,lag=8,type=\"Ljung-Box\")\n",
    "Box.test(m1$residuals,lag=16,type=\"Ljung-Box\")\n",
    "Box.test(m1$residuals,lag=24,type=\"Ljung-Box\")"
   ]
  },
  {
   "cell_type": "code",
   "execution_count": 6,
   "metadata": {},
   "outputs": [
    {
     "data": {
      "image/png": "[encoded data removed]",
      "text/plain": [
       "Plot with title \"Series  m1$residuals\""
      ]
     },
     "metadata": {},
     "output_type": "display_data"
    }
   ],
   "source": [
    "par(mfrow=c(1,2))\n",
    "acf(m1$residuals)\n",
    "pacf(m1$residuals)"
   ]
  },
  {
   "cell_type": "code",
   "execution_count": 7,
   "metadata": {},
   "outputs": [
    {
     "data": {
      "text/plain": [
       "\n",
       "Call:\n",
       "arima(x = SIM_2$Y1, order = c(1, 0, 12), include.mean = FALSE, fixed = c(NA, \n",
       "    0, 0, 0, 0, 0, 0, 0, 0, 0, 0, 0, NA))\n",
       "\n",
       "Coefficients:\n",
       "         ar1  ma1  ma2  ma3  ma4  ma5  ma6  ma7  ma8  ma9  ma10  ma11     ma12\n",
       "      0.7874    0    0    0    0    0    0    0    0    0     0     0  -0.0260\n",
       "s.e.  0.0626    0    0    0    0    0    0    0    0    0     0     0   0.1314\n",
       "\n",
       "sigma^2 estimated as 0.852:  log likelihood = -134.37,  aic = 274.74"
      ]
     },
     "metadata": {},
     "output_type": "display_data"
    }
   ],
   "source": [
    "m2 <- arima(SIM_2$Y1, order = c(1,0,12), fixed=c(NA,0,0,0,0,0,0,0,0,0,0,0,NA), include.mean=FALSE)\n",
    "m2"
   ]
  },
  {
   "cell_type": "markdown",
   "metadata": {},
   "source": [
    "Manually calculate AIC"
   ]
  },
  {
   "cell_type": "code",
   "execution_count": 8,
   "metadata": {},
   "outputs": [
    {
     "data": {
      "text/html": [
       "444.113308972011"
      ],
      "text/latex": [
       "444.113308972011"
      ],
      "text/markdown": [
       "444.113308972011"
      ],
      "text/plain": [
       "[1] 444.1133"
      ]
     },
     "metadata": {},
     "output_type": "display_data"
    }
   ],
   "source": [
    "T <- 99\n",
    "SSR <- sum(m1$residuals^2)\n",
    "n <- 2\n",
    "\n",
    "AIC <- T * log(SSR) + 2*n\n",
    "AIC"
   ]
  },
  {
   "cell_type": "markdown",
   "metadata": {},
   "source": [
    "## Next series"
   ]
  },
  {
   "cell_type": "code",
   "execution_count": 9,
   "metadata": {},
   "outputs": [
    {
     "data": {
      "text/plain": [
       "\n",
       "Call:\n",
       "arima(x = SIM_2$Y2, order = c(1, 0, 0))\n",
       "\n",
       "Coefficients:\n",
       "          ar1  intercept\n",
       "      -0.8502     0.0006\n",
       "s.e.   0.0524     0.0689\n",
       "\n",
       "sigma^2 estimated as 1.61:  log likelihood = -166.35,  aic = 338.7"
      ]
     },
     "metadata": {},
     "output_type": "display_data"
    },
    {
     "data": {
      "text/plain": [
       "\n",
       "Call:\n",
       "arima(x = SIM_2$Y2, order = c(1, 0, 1))\n",
       "\n",
       "Coefficients:\n",
       "          ar1      ma1  intercept\n",
       "      -0.7077  -0.6701    -0.0085\n",
       "s.e.   0.0785   0.0955     0.0219\n",
       "\n",
       "sigma^2 estimated as 1.225:  log likelihood = -153.08,  aic = 314.16"
      ]
     },
     "metadata": {},
     "output_type": "display_data"
    },
    {
     "data": {
      "text/plain": [
       "\n",
       "Call:\n",
       "arima(x = SIM_2$Y2, order = c(2, 0, 0))\n",
       "\n",
       "Coefficients:\n",
       "          ar1      ar2  intercept\n",
       "      -1.1776  -0.3842    -0.0030\n",
       "s.e.   0.0928   0.0929     0.0461\n",
       "\n",
       "sigma^2 estimated as 1.372:  log likelihood = -158.5,  aic = 325.01"
      ]
     },
     "metadata": {},
     "output_type": "display_data"
    }
   ],
   "source": [
    "m2_1 <- arima(SIM_2$Y2, order = c(1,0,0))\n",
    "m2_2 <- arima(SIM_2$Y2, order = c(1,0,1))\n",
    "m2_3 <- arima(SIM_2$Y2, order = c(2,0,0))\n",
    "\n",
    "m2_1\n",
    "m2_2\n",
    "m2_3"
   ]
  },
  {
   "cell_type": "code",
   "execution_count": 10,
   "metadata": {},
   "outputs": [
    {
     "data": {
      "image/png": "[encoded data removed]",
      "text/plain": [
       "Plot with title \"Series  m2_1$residuals\""
      ]
     },
     "metadata": {},
     "output_type": "display_data"
    },
    {
     "data": {
      "image/png": "[encoded data removed]",
      "text/plain": [
       "Plot with title \"Series  m2_2$residuals\""
      ]
     },
     "metadata": {},
     "output_type": "display_data"
    }
   ],
   "source": [
    "par(mfrow=c(1,2))\n",
    "acf(m2_1$residuals)\n",
    "pacf(m2_1$residuals)\n",
    "\n",
    "par(mfrow=c(1,2))\n",
    "acf(m2_2$residuals)\n",
    "pacf(m2_2$residuals)"
   ]
  },
  {
   "cell_type": "code",
   "execution_count": 11,
   "metadata": {},
   "outputs": [
    {
     "data": {
      "image/png": "[encoded data removed]",
      "text/plain": [
       "Plot with title \"Series  m2_3$residuals\""
      ]
     },
     "metadata": {},
     "output_type": "display_data"
    }
   ],
   "source": [
    "par(mfrow=c(1,2))\n",
    "acf(m2_3$residuals)\n",
    "pacf(m2_3$residuals)"
   ]
  },
  {
   "cell_type": "markdown",
   "metadata": {},
   "source": [
    "## Next series"
   ]
  },
  {
   "cell_type": "code",
   "execution_count": 12,
   "metadata": {},
   "outputs": [
    {
     "data": {
      "text/plain": [
       "\n",
       "Call:\n",
       "arima(x = SIM_2$Y3, order = c(2, 0, 0))\n",
       "\n",
       "Coefficients:\n",
       "         ar1      ar2  intercept\n",
       "      0.6842  -0.4748    -0.0250\n",
       "s.e.  0.0872   0.0865     0.0373\n",
       "\n",
       "sigma^2 estimated as 0.08635:  log likelihood = -19.8,  aic = 47.6"
      ]
     },
     "metadata": {},
     "output_type": "display_data"
    }
   ],
   "source": [
    "m3 <- arima(SIM_2$Y3, order = c(2,0,0))\n",
    "m3"
   ]
  },
  {
   "cell_type": "code",
   "execution_count": 13,
   "metadata": {},
   "outputs": [
    {
     "data": {
      "image/png": "[encoded data removed]",
      "text/plain": [
       "Plot with title \"Series  m3$residuals\""
      ]
     },
     "metadata": {},
     "output_type": "display_data"
    }
   ],
   "source": [
    "par(mfrow=c(1,2))\n",
    "acf(m3$residuals)\n",
    "pacf(m3$residuals)"
   ]
  },
  {
   "cell_type": "code",
   "execution_count": 14,
   "metadata": {},
   "outputs": [
    {
     "data": {
      "text/plain": [
       "\n",
       "\tBox-Ljung test\n",
       "\n",
       "data:  m3$residuals\n",
       "X-squared = 24.457, df = 16, p-value = 0.07998\n"
      ]
     },
     "metadata": {},
     "output_type": "display_data"
    }
   ],
   "source": [
    "Box.test(m3$residuals,lag=16,type=\"Ljung-Box\")"
   ]
  },
  {
   "cell_type": "markdown",
   "metadata": {},
   "source": [
    "There was autocorrelation at lag 16 according to Ljung-Box so we split dataset to control if lag 16 really is somehting"
   ]
  },
  {
   "cell_type": "code",
   "execution_count": 15,
   "metadata": {},
   "outputs": [
    {
     "data": {
      "image/png": "[encoded data removed]",
      "text/plain": [
       "Plot with title \"Series  m3_A$residuals\""
      ]
     },
     "metadata": {},
     "output_type": "display_data"
    },
    {
     "data": {
      "image/png": "[encoded data removed]",
      "text/plain": [
       "Plot with title \"Series  m3_B$residuals\""
      ]
     },
     "metadata": {},
     "output_type": "display_data"
    }
   ],
   "source": [
    "A <- SIM_2$Y3[1:50]\n",
    "B <- SIM_2$Y3[51:100]\n",
    "\n",
    "m3_A <- arima(A, order = c(2,0,0))\n",
    "m3_B <- arima(B, order = c(2,0,0))\n",
    "\n",
    "\n",
    "par(mfrow=c(1,2))\n",
    "acf(m3_A$residuals)\n",
    "pacf(m3_A$residuals)\n",
    "\n",
    "par(mfrow=c(1,2))\n",
    "acf(m3_B$residuals)\n",
    "pacf(m3_B$residuals)"
   ]
  },
  {
   "cell_type": "code",
   "execution_count": 16,
   "metadata": {},
   "outputs": [
    {
     "data": {
      "text/plain": [
       "\n",
       "\tBox-Ljung test\n",
       "\n",
       "data:  m3_B$residuals\n",
       "X-squared = 15.097, df = 16, p-value = 0.5176\n"
      ]
     },
     "metadata": {},
     "output_type": "display_data"
    }
   ],
   "source": [
    "Box.test(m3_B$residuals,lag=16,type=\"Ljung-Box\")"
   ]
  },
  {
   "cell_type": "markdown",
   "metadata": {},
   "source": [
    "Now the Ljung-Box test shows that we can clearly reject autocorrelation at lag 16"
   ]
  },
  {
   "cell_type": "markdown",
   "metadata": {},
   "source": [
    "## QUARTERLY"
   ]
  },
  {
   "cell_type": "code",
   "execution_count": 17,
   "metadata": {},
   "outputs": [
    {
     "data": {
      "text/html": [
       "<table>\n",
       "<thead><tr><th scope=col>DATE</th><th scope=col>FFR</th><th scope=col>Tbill</th><th scope=col>Tb1yr</th><th scope=col>r5</th><th scope=col>r10</th><th scope=col>PPINSA</th><th scope=col>Finished</th><th scope=col>CPI</th><th scope=col>CPICORE</th><th scope=col>M1NSA</th><th scope=col>M2SA</th><th scope=col>M2NSA</th><th scope=col>Unemp</th><th scope=col>IndProd</th><th scope=col>RGDP</th><th scope=col>Potent</th><th scope=col>Deflator</th><th scope=col>Curr</th></tr></thead>\n",
       "<tbody>\n",
       "\t<tr><td>1960Q1</td><td>3.93  </td><td>3.87  </td><td>4.57  </td><td>4.64  </td><td>4.49  </td><td>31.67 </td><td>33.20 </td><td>29.40 </td><td>18.92 </td><td>140.53</td><td>896.1 </td><td>299.40</td><td>5.13  </td><td>23.93 </td><td>2845.3</td><td>2824.2</td><td>18.521</td><td>31.830</td></tr>\n",
       "\t<tr><td>1960Q2</td><td>3.70  </td><td>2.99  </td><td>3.87  </td><td>4.30  </td><td>4.26  </td><td>31.73 </td><td>33.40 </td><td>29.57 </td><td>19.00 </td><td>138.40</td><td>903.3 </td><td>300.03</td><td>5.23  </td><td>23.41 </td><td>2832.0</td><td>2851.2</td><td>18.579</td><td>31.862</td></tr>\n",
       "\t<tr><td>1960Q3</td><td>2.94  </td><td>2.36  </td><td>3.07  </td><td>3.67  </td><td>3.83  </td><td>31.63 </td><td>33.43 </td><td>29.59 </td><td>19.07 </td><td>139.60</td><td>919.4 </td><td>305.50</td><td>5.53  </td><td>23.02 </td><td>2836.6</td><td>2878.7</td><td>18.648</td><td>32.217</td></tr>\n",
       "\t<tr><td>1960Q4</td><td>2.30  </td><td>2.31  </td><td>2.99  </td><td>3.75  </td><td>3.89  </td><td>31.70 </td><td>33.67 </td><td>29.78 </td><td>19.14 </td><td>142.67</td><td>932.8 </td><td>312.30</td><td>6.27  </td><td>22.47 </td><td>2800.2</td><td>2906.7</td><td>18.700</td><td>32.624</td></tr>\n",
       "\t<tr><td>1961Q1</td><td>2.00  </td><td>2.35  </td><td>2.87  </td><td>3.64  </td><td>3.79  </td><td>31.80 </td><td>33.63 </td><td>29.84 </td><td>19.17 </td><td>142.23</td><td>948.9 </td><td>317.10</td><td>6.80  </td><td>22.13 </td><td>2816.9</td><td>2934.8</td><td>18.743</td><td>32.073</td></tr>\n",
       "\t<tr><td>1961Q2</td><td>1.73  </td><td>2.30  </td><td>2.94  </td><td>3.62  </td><td>3.79  </td><td>31.47 </td><td>33.33 </td><td>29.83 </td><td>19.23 </td><td>141.40</td><td>966.4 </td><td>320.97</td><td>7.00  </td><td>23.00 </td><td>2869.6</td><td>2962.9</td><td>18.785</td><td>32.131</td></tr>\n",
       "</tbody>\n",
       "</table>\n"
      ],
      "text/latex": [
       "\\begin{tabular}{r|lllllllllllllllllll}\n",
       " DATE & FFR & Tbill & Tb1yr & r5 & r10 & PPINSA & Finished & CPI & CPICORE & M1NSA & M2SA & M2NSA & Unemp & IndProd & RGDP & Potent & Deflator & Curr\\\\\n",
       "\\hline\n",
       "\t 1960Q1 & 3.93   & 3.87   & 4.57   & 4.64   & 4.49   & 31.67  & 33.20  & 29.40  & 18.92  & 140.53 & 896.1  & 299.40 & 5.13   & 23.93  & 2845.3 & 2824.2 & 18.521 & 31.830\\\\\n",
       "\t 1960Q2 & 3.70   & 2.99   & 3.87   & 4.30   & 4.26   & 31.73  & 33.40  & 29.57  & 19.00  & 138.40 & 903.3  & 300.03 & 5.23   & 23.41  & 2832.0 & 2851.2 & 18.579 & 31.862\\\\\n",
       "\t 1960Q3 & 2.94   & 2.36   & 3.07   & 3.67   & 3.83   & 31.63  & 33.43  & 29.59  & 19.07  & 139.60 & 919.4  & 305.50 & 5.53   & 23.02  & 2836.6 & 2878.7 & 18.648 & 32.217\\\\\n",
       "\t 1960Q4 & 2.30   & 2.31   & 2.99   & 3.75   & 3.89   & 31.70  & 33.67  & 29.78  & 19.14  & 142.67 & 932.8  & 312.30 & 6.27   & 22.47  & 2800.2 & 2906.7 & 18.700 & 32.624\\\\\n",
       "\t 1961Q1 & 2.00   & 2.35   & 2.87   & 3.64   & 3.79   & 31.80  & 33.63  & 29.84  & 19.17  & 142.23 & 948.9  & 317.10 & 6.80   & 22.13  & 2816.9 & 2934.8 & 18.743 & 32.073\\\\\n",
       "\t 1961Q2 & 1.73   & 2.30   & 2.94   & 3.62   & 3.79   & 31.47  & 33.33  & 29.83  & 19.23  & 141.40 & 966.4  & 320.97 & 7.00   & 23.00  & 2869.6 & 2962.9 & 18.785 & 32.131\\\\\n",
       "\\end{tabular}\n"
      ],
      "text/markdown": [
       "\n",
       "DATE | FFR | Tbill | Tb1yr | r5 | r10 | PPINSA | Finished | CPI | CPICORE | M1NSA | M2SA | M2NSA | Unemp | IndProd | RGDP | Potent | Deflator | Curr | \n",
       "|---|---|---|---|---|---|\n",
       "| 1960Q1 | 3.93   | 3.87   | 4.57   | 4.64   | 4.49   | 31.67  | 33.20  | 29.40  | 18.92  | 140.53 | 896.1  | 299.40 | 5.13   | 23.93  | 2845.3 | 2824.2 | 18.521 | 31.830 | \n",
       "| 1960Q2 | 3.70   | 2.99   | 3.87   | 4.30   | 4.26   | 31.73  | 33.40  | 29.57  | 19.00  | 138.40 | 903.3  | 300.03 | 5.23   | 23.41  | 2832.0 | 2851.2 | 18.579 | 31.862 | \n",
       "| 1960Q3 | 2.94   | 2.36   | 3.07   | 3.67   | 3.83   | 31.63  | 33.43  | 29.59  | 19.07  | 139.60 | 919.4  | 305.50 | 5.53   | 23.02  | 2836.6 | 2878.7 | 18.648 | 32.217 | \n",
       "| 1960Q4 | 2.30   | 2.31   | 2.99   | 3.75   | 3.89   | 31.70  | 33.67  | 29.78  | 19.14  | 142.67 | 932.8  | 312.30 | 6.27   | 22.47  | 2800.2 | 2906.7 | 18.700 | 32.624 | \n",
       "| 1961Q1 | 2.00   | 2.35   | 2.87   | 3.64   | 3.79   | 31.80  | 33.63  | 29.84  | 19.17  | 142.23 | 948.9  | 317.10 | 6.80   | 22.13  | 2816.9 | 2934.8 | 18.743 | 32.073 | \n",
       "| 1961Q2 | 1.73   | 2.30   | 2.94   | 3.62   | 3.79   | 31.47  | 33.33  | 29.83  | 19.23  | 141.40 | 966.4  | 320.97 | 7.00   | 23.00  | 2869.6 | 2962.9 | 18.785 | 32.131 | \n",
       "\n",
       "\n"
      ],
      "text/plain": [
       "  DATE   FFR  Tbill Tb1yr r5   r10  PPINSA Finished CPI   CPICORE M1NSA  M2SA \n",
       "1 1960Q1 3.93 3.87  4.57  4.64 4.49 31.67  33.20    29.40 18.92   140.53 896.1\n",
       "2 1960Q2 3.70 2.99  3.87  4.30 4.26 31.73  33.40    29.57 19.00   138.40 903.3\n",
       "3 1960Q3 2.94 2.36  3.07  3.67 3.83 31.63  33.43    29.59 19.07   139.60 919.4\n",
       "4 1960Q4 2.30 2.31  2.99  3.75 3.89 31.70  33.67    29.78 19.14   142.67 932.8\n",
       "5 1961Q1 2.00 2.35  2.87  3.64 3.79 31.80  33.63    29.84 19.17   142.23 948.9\n",
       "6 1961Q2 1.73 2.30  2.94  3.62 3.79 31.47  33.33    29.83 19.23   141.40 966.4\n",
       "  M2NSA  Unemp IndProd RGDP   Potent Deflator Curr  \n",
       "1 299.40 5.13  23.93   2845.3 2824.2 18.521   31.830\n",
       "2 300.03 5.23  23.41   2832.0 2851.2 18.579   31.862\n",
       "3 305.50 5.53  23.02   2836.6 2878.7 18.648   32.217\n",
       "4 312.30 6.27  22.47   2800.2 2906.7 18.700   32.624\n",
       "5 317.10 6.80  22.13   2816.9 2934.8 18.743   32.073\n",
       "6 320.97 7.00  23.00   2869.6 2962.9 18.785   32.131"
      ]
     },
     "metadata": {},
     "output_type": "display_data"
    }
   ],
   "source": [
    "library(readxl)\n",
    "quarterly <- read_excel(\"Data/quarterly.xls\")\n",
    "head(quarterly)"
   ]
  },
  {
   "cell_type": "code",
   "execution_count": 18,
   "metadata": {},
   "outputs": [
    {
     "data": {
      "image/png": "[encoded data removed]",
      "text/plain": [
       "plot without title"
      ]
     },
     "metadata": {},
     "output_type": "display_data"
    }
   ],
   "source": [
    "spread <- quarterly$r5 - quarterly$Tbill\n",
    "plot(spread, type=\"l\")"
   ]
  },
  {
   "cell_type": "code",
   "execution_count": 19,
   "metadata": {},
   "outputs": [
    {
     "data": {
      "text/plain": [
       "\n",
       "Call:\n",
       "arima(x = spread, order = c(2, 0, 0))\n",
       "\n",
       "Coefficients:\n",
       "         ar1      ar2  intercept\n",
       "      1.0407  -0.2157     1.1928\n",
       "s.e.  0.0669   0.0670     0.1846\n",
       "\n",
       "sigma^2 estimated as 0.2284:  log likelihood = -145.01,  aic = 298.02"
      ]
     },
     "metadata": {},
     "output_type": "display_data"
    }
   ],
   "source": [
    "model <- arima(spread, order = c(2,0,0))\n",
    "model"
   ]
  },
  {
   "cell_type": "code",
   "execution_count": 20,
   "metadata": {},
   "outputs": [
    {
     "data": {
      "image/png": "[encoded data removed]",
      "text/plain": [
       "Plot with title \"Series  spread\""
      ]
     },
     "metadata": {},
     "output_type": "display_data"
    },
    {
     "data": {
      "image/png": "[encoded data removed]",
      "text/plain": [
       "Plot with title \"Series  model$residuals\""
      ]
     },
     "metadata": {},
     "output_type": "display_data"
    }
   ],
   "source": [
    "par(mfrow=c(1,2))\n",
    "acf(spread)\n",
    "pacf(spread)\n",
    "\n",
    "par(mfrow=c(1,2))\n",
    "acf(model$residuals)\n",
    "pacf(model$residuals)"
   ]
  },
  {
   "cell_type": "code",
   "execution_count": 21,
   "metadata": {},
   "outputs": [
    {
     "data": {
      "text/plain": [
       "\n",
       "\tBox-Ljung test\n",
       "\n",
       "data:  model$residuals\n",
       "X-squared = 8.8824, df = 4, p-value = 0.06411\n"
      ]
     },
     "metadata": {},
     "output_type": "display_data"
    },
    {
     "data": {
      "text/plain": [
       "\n",
       "\tBox-Ljung test\n",
       "\n",
       "data:  model$residuals\n",
       "X-squared = 21.596, df = 8, p-value = 0.005721\n"
      ]
     },
     "metadata": {},
     "output_type": "display_data"
    },
    {
     "data": {
      "text/plain": [
       "\n",
       "\tBox-Ljung test\n",
       "\n",
       "data:  model$residuals\n",
       "X-squared = 29.127, df = 12, p-value = 0.003773\n"
      ]
     },
     "metadata": {},
     "output_type": "display_data"
    }
   ],
   "source": [
    "Box.test(model$residuals, lag=4,type=\"Ljung-Box\")\n",
    "Box.test(model$residuals, lag=8,type=\"Ljung-Box\")\n",
    "Box.test(model$residuals, lag=12,type=\"Ljung-Box\")"
   ]
  },
  {
   "cell_type": "code",
   "execution_count": 22,
   "metadata": {},
   "outputs": [
    {
     "data": {
      "text/plain": [
       "Series: spread \n",
       "ARIMA(1,0,4) with non-zero mean \n",
       "\n",
       "Coefficients:\n",
       "         ar1     ma1     ma2     ma3     ma4    mean\n",
       "      0.6861  0.4037  0.0046  0.2591  0.1378  1.1933\n",
       "s.e.  0.1094  0.1188  0.1169  0.1240  0.1006  0.1803\n",
       "\n",
       "sigma^2 estimated as 0.2206:  log likelihood=-138.41\n",
       "AIC=290.82   AICc=291.37   BIC=314.32"
      ]
     },
     "metadata": {},
     "output_type": "display_data"
    },
    {
     "data": {
      "text/plain": [
       "\n",
       "Call:\n",
       "arima(x = spread, order = c(1, 0, 4), fixed = c(NA, NA, 0, NA, 0, NA))\n",
       "\n",
       "Coefficients:\n",
       "         ar1     ma1  ma2     ma3  ma4  intercept\n",
       "      0.7368  0.3679    0  0.1500    0     1.1928\n",
       "s.e.  0.0519  0.0753    0  0.0625    0     0.1818\n",
       "\n",
       "sigma^2 estimated as 0.2172:  log likelihood = -139.77,  aic = 289.55"
      ]
     },
     "metadata": {},
     "output_type": "display_data"
    },
    {
     "data": {
      "text/plain": [
       "\n",
       "Call:\n",
       "arima(x = spread, order = c(2, 0, 7), fixed = c(NA, NA, NA, 0, 0, 0, 0, 0, NA, \n",
       "    0))\n",
       "\n",
       "Coefficients:\n",
       "         ar1     ar2     ma1  ma2  ma3  ma4  ma5  ma6      ma7  intercept\n",
       "      0.3942  0.5106  0.8086    0    0    0    0    0  -0.1370          0\n",
       "s.e.  0.1177  0.1148  0.0849    0    0    0    0    0   0.0382          0\n",
       "\n",
       "sigma^2 estimated as 0.2204:  log likelihood = -141.96,  aic = 293.92"
      ]
     },
     "metadata": {},
     "output_type": "display_data"
    }
   ],
   "source": [
    "auto.arima(spread)\n",
    "arima(spread, order = c(1,0,4), fixed=c(NA,NA,0,NA,0,NA))\n",
    "arima(spread, order = c(2,0,7), fixed=c(NA,NA,NA,0,0,0,0,0,NA,0))"
   ]
  },
  {
   "cell_type": "code",
   "execution_count": 23,
   "metadata": {},
   "outputs": [],
   "source": [
    "a <- arima(spread, order=c(2,0,1))"
   ]
  },
  {
   "cell_type": "code",
   "execution_count": 24,
   "metadata": {},
   "outputs": [
    {
     "data": {
      "image/png": "[encoded data removed]",
      "text/plain": [
       "plot without title"
      ]
     },
     "metadata": {},
     "output_type": "display_data"
    },
    {
     "data": {
      "image/png": "[encoded data removed]",
      "text/plain": [
       "plot without title"
      ]
     },
     "metadata": {},
     "output_type": "display_data"
    }
   ],
   "source": [
    "money <- quarterly$M1NSA\n",
    "smg <- diff(diff(log(quarterly$M1NSA),4))\n",
    "plot(money, type=\"l\")\n",
    "plot(smg, type=\"l\")"
   ]
  },
  {
   "cell_type": "code",
   "execution_count": null,
   "metadata": {},
   "outputs": [],
   "source": []
  },
  {
   "cell_type": "code",
   "execution_count": null,
   "metadata": {},
   "outputs": [],
   "source": []
  },
  {
   "cell_type": "code",
   "execution_count": 25,
   "metadata": {},
   "outputs": [
    {
     "ename": "ERROR",
     "evalue": "Error in as.ts(x): objekt 'money_2' blev ikke fundet\n",
     "output_type": "error",
     "traceback": [
      "Error in as.ts(x): objekt 'money_2' blev ikke fundet\nTraceback:\n",
      "1. acf(money_2)",
      "2. na.action(as.ts(x))",
      "3. as.ts(x)"
     ]
    },
    {
     "data": {
      "image/png": "[encoded data removed]",
      "text/plain": [
       "Plot with title \"Series  money\""
      ]
     },
     "metadata": {},
     "output_type": "display_data"
    }
   ],
   "source": [
    "par(mfrow=c(1,2))\n",
    "acf(money)\n",
    "pacf(money)\n",
    "\n",
    "par(mfrow=c(1,2))\n",
    "acf(money_2)\n",
    "pacf(money_2)"
   ]
  },
  {
   "cell_type": "code",
   "execution_count": 26,
   "metadata": {},
   "outputs": [
    {
     "data": {
      "image/png": "[encoded data removed]",
      "text/plain": [
       "plot without title"
      ]
     },
     "metadata": {},
     "output_type": "display_data"
    }
   ],
   "source": [
    "ggtsdisplay(smg)\n"
   ]
  },
  {
   "cell_type": "code",
   "execution_count": 35,
   "metadata": {},
   "outputs": [
    {
     "data": {
      "text/plain": [
       "\n",
       "Call:\n",
       "arima(x = smg, order = c(1, 0, 4), fixed = c(NA, 0, 0, 0, NA, 0))\n",
       "\n",
       "Coefficients:\n",
       "         ar1  ma1  ma2  ma3      ma4  intercept\n",
       "      0.5493    0    0    0  -0.7566          0\n",
       "s.e.  0.0594    0    0    0   0.0520          0\n",
       "\n",
       "sigma^2 estimated as 0.0001251:  log likelihood = 634.56,  aic = -1263.13"
      ]
     },
     "metadata": {},
     "output_type": "display_data"
    },
    {
     "data": {
      "text/plain": [
       "\n",
       "Call:\n",
       "arima(x = money, order = c(1, 1, 0), seasonal = list(order = c(0, 1, 1), period = 4))\n",
       "\n",
       "Coefficients:\n",
       "         ar1     sma1\n",
       "      0.6285  -0.6884\n",
       "s.e.  0.0608   0.0722\n",
       "\n",
       "sigma^2 estimated as 173.2:  log likelihood = -828.6,  aic = 1663.2"
      ]
     },
     "metadata": {},
     "output_type": "display_data"
    }
   ],
   "source": [
    "smg <- diff(diff(log(quarterly$M1NSA),4))\n",
    "\n",
    "money_m1 <- arima(smg, order = c(1,0,4), fixed=c(NA,0,0,0,NA,0))\n",
    "money_m1\n",
    "\n",
    "money_m2 <- arima(money, order = c(1,1,0), seasonal=list(order=c(0,1,1), period = 4))\n",
    "money_m2"
   ]
  },
  {
   "cell_type": "code",
   "execution_count": 28,
   "metadata": {},
   "outputs": [
    {
     "data": {},
     "metadata": {},
     "output_type": "display_data"
    },
    {
     "data": {},
     "metadata": {},
     "output_type": "display_data"
    },
    {
     "data": {
      "image/png": "[encoded data removed]",
      "text/plain": [
       "plot without title"
      ]
     },
     "metadata": {},
     "output_type": "display_data"
    },
    {
     "data": {
      "image/png": "[encoded data removed]",
      "text/plain": [
       "plot without title"
      ]
     },
     "metadata": {},
     "output_type": "display_data"
    }
   ],
   "source": [
    "autoplot(forecast(money_m1, h=12))\n",
    "autoplot(forecast(money_m2, h=12))"
   ]
  },
  {
   "cell_type": "code",
   "execution_count": 29,
   "metadata": {},
   "outputs": [
    {
     "ename": "ERROR",
     "evalue": "Error in forecast(fit, h = 12): objekt 'fit' blev ikke fundet\n",
     "output_type": "error",
     "traceback": [
      "Error in forecast(fit, h = 12): objekt 'fit' blev ikke fundet\nTraceback:\n",
      "1. autoplot(forecast(fit, h = 12))",
      "2. forecast(fit, h = 12)"
     ]
    }
   ],
   "source": [
    "autoplot(forecast(fit, h=12))\n"
   ]
  },
  {
   "cell_type": "code",
   "execution_count": null,
   "metadata": {},
   "outputs": [],
   "source": [
    "money_spec <- arfimaspec(mean.model = list(armaOrder = c(4,4), include.mean = TRUE),\n",
    "                         fixed.pars = list(ar2 = 0, ar3 = 0, ar4 = 0, ma1 = 0, ma2 = 0, ma3 = 0))\n",
    "\n",
    "money_m1 <- arfimafit(spec = money_spec, data = smg, solver = \"nlminb\")\n",
    "money_m1"
   ]
  },
  {
   "cell_type": "code",
   "execution_count": null,
   "metadata": {},
   "outputs": [],
   "source": [
    "\n",
    "arima(diff(log(money),1), order=c(2,0,0), include.mean=F)\n",
    "arima(money, order=c(2,1,0), include.mean=F)\n"
   ]
  },
  {
   "cell_type": "code",
   "execution_count": null,
   "metadata": {},
   "outputs": [],
   "source": [
    "acf(money_m1$residuals^2)"
   ]
  },
  {
   "cell_type": "code",
   "execution_count": null,
   "metadata": {},
   "outputs": [],
   "source": []
  },
  {
   "cell_type": "code",
   "execution_count": null,
   "metadata": {},
   "outputs": [],
   "source": []
  },
  {
   "cell_type": "code",
   "execution_count": null,
   "metadata": {},
   "outputs": [],
   "source": []
  },
  {
   "cell_type": "code",
   "execution_count": null,
   "metadata": {},
   "outputs": [],
   "source": []
  },
  {
   "cell_type": "code",
   "execution_count": null,
   "metadata": {},
   "outputs": [],
   "source": []
  },
  {
   "cell_type": "code",
   "execution_count": null,
   "metadata": {},
   "outputs": [],
   "source": []
  },
  {
   "cell_type": "code",
   "execution_count": null,
   "metadata": {},
   "outputs": [],
   "source": []
  }
 ],
 "metadata": {
  "kernelspec": {
   "display_name": "R",
   "language": "R",
   "name": "ir"
  },
  "language_info": {
   "codemirror_mode": "r",
   "file_extension": ".r",
   "mimetype": "text/x-r-source",
   "name": "R",
   "pygments_lexer": "r",
   "version": "3.5.1"
  }
 },
 "nbformat": 4,
 "nbformat_minor": 2
}
