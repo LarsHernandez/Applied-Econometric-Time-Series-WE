{
 "cells": [
  {
   "cell_type": "markdown",
   "metadata": {},
   "source": [
    "# Advanced Econometrics Exam - 2016\n",
    "Lars H. Nielsen\n",
    "\n",
    "### Opgaver\n",
    "1. ARMA og ARIMA modeller [30%]\n",
    "2. Kointegration og fejlkorrektion [20%]\n",
    "3. Volalitetsmodeller [25%]\n",
    "4. Vektorautoregressive modeller [25%]\n",
    "\n",
    "Data findes i en række CSV filer: volatilitet.csv, VektorAutoregressiv.csv, renter.csv, bnpdef.csv"
   ]
  },
  {
   "cell_type": "code",
   "execution_count": 10,
   "metadata": {},
   "outputs": [],
   "source": [
    "suppressMessages(library(tidyverse)) # Readr, ggplot, dplyr, ...\n",
    "suppressMessages(library(gridExtra)) # Arrangning ggplots\n",
    "suppressMessages(library(readxl))    # Loading excel\n",
    "suppressMessages(library(repr))      # Resizing the plots in jupyter\n",
    "suppressMessages(library(rugarch))   # For ARCH and GARCH models\n",
    "suppressMessages(library(dynlm))     # Lagged linear models\n",
    "suppressMessages(library(urca))      # Dick Fuller test\n",
    "suppressMessages(library(car))       # Linear hyphothesis testing\n",
    "suppressMessages(library(tseries))   # Adf-test\n",
    "suppressMessages(library(vars))      # VAR models\n",
    "suppressMessages(library(zoo))       # Convert quarters to date\n",
    "suppressMessages(library(forecast))  # Help in plotting TS\n",
    "suppressMessages(library(fGarch))    # The library Lasse uses to do GARCH\n",
    "suppressMessages(library(expm))      # Matrix calculations \n",
    "\n",
    "options(repr.plot.width=8, repr.plot.height=2.5)\n",
    "options(warn=-1) # Carefull this disables all warnings"
   ]
  },
  {
   "cell_type": "markdown",
   "metadata": {},
   "source": [
    "### Indlæsning af data og korrektion af datoer"
   ]
  },
  {
   "cell_type": "code",
   "execution_count": 2,
   "metadata": {},
   "outputs": [],
   "source": [
    "setwd(\"C:/Users/larsn/Documents/GitHub/Applied-Econometric-Time-Series-WE\")\n",
    "\n",
    "vol <- read_csv(\"Data/exam/volatilitet.csv\", \n",
    "    col_types = cols(dato = col_date(format = \"%d/%m/%Y\")))\n",
    "\n",
    "var <- read_csv(\"Data/exam/VektorAutoregressiv.csv\", \n",
    "    col_types = cols(Dato = col_date(format = \"%d/%m/%Y\")))\n",
    "\n",
    "rnt <- read_csv(\"Data/exam/renter.csv\", \n",
    "    col_types = cols(y = col_double()))\n",
    "\n",
    "rnt$dato <- as.Date(paste(01, rnt$maaned, rnt$aar, sep = \"-\" ), format = \"%d-%m-%Y\")\n",
    "rnt$aar <- NULL\n",
    "rnt$maaned <- NULL\n",
    "rnt <- arrange(rnt, rnt$dato)\n",
    "\n",
    "bnp <- read_csv(\"Data/exam/bnpdef.csv\", \n",
    "    col_types = cols(bnpdef = col_double()))\n",
    "\n",
    "bnp$dato <- as.Date(paste(01, bnp$maaned, bnp$aar, sep = \"-\" ), format = \"%d-%m-%Y\")\n",
    "bnp$aar <- NULL\n",
    "bnp$maaned <- NULL\n",
    "bnp <- arrange(bnp, bnp$dato)"
   ]
  },
  {
   "cell_type": "markdown",
   "metadata": {},
   "source": [
    "<br>\n",
    "<br>\n",
    "<br>\n",
    "<br>\n",
    "<br>\n",
    "<br>"
   ]
  },
  {
   "cell_type": "markdown",
   "metadata": {},
   "source": [
    "## Opgave 1: ARMA og ARIMA modeller [30%]"
   ]
  },
  {
   "cell_type": "markdown",
   "metadata": {},
   "source": [
    "**Sporgsmål 1.1** I forbindelse med en tidsrækkeanalyse, hvad er så nulhypotesen, når man anvender Ljung-Box teststoerelsen Q(k) med k frihedsgrader på en tidsrække?"
   ]
  },
  {
   "cell_type": "markdown",
   "metadata": {},
   "source": [
    "At der er serialkorrelation i residualet op til lag (k), derfor vil vi gerne kunne afvise den for så er alt fint."
   ]
  },
  {
   "cell_type": "markdown",
   "metadata": {},
   "source": [
    "$$ (1-0.81L)(x_t-0.19)=\\varepsilon_t $$\n",
    "\n",
    "**Spørgsmål 1.2** Hvilken model er ovenstående udtryk inden for klassen af ARIMA modeller, og hvilken model er det inden for klassen af ARMA modeller?\n",
    "\n",
    "Det er en ARMA(1,0) eller en ARIMA(1,0,0)"
   ]
  },
  {
   "cell_type": "markdown",
   "metadata": {},
   "source": [
    "kan omskrives til\n",
    "$$ x_t = 0.036 + 0.81x_{t-1} + \\varepsilon_t$$"
   ]
  },
  {
   "cell_type": "markdown",
   "metadata": {},
   "source": [
    "$x_t$ angiver i ovenstående model den kvartalsvise indtjening pr. aktie i en virksomhed. Det vides, at virksomheden tjente 0.04 pr. aktie i første kvartal 2013.\n",
    "\n",
    "**Spørgsmål 1.3** Baseret på oplysningerne, bestem forecastet af indtjeningen pr. aktie for andet kvartal i 2013.\n",
    "\n",
    "Hvis $\\varepsilon_t$ er hvid støj så er $E(\\varepsilon)=0$ Derfor kan vi bare tage modellen frem til $ x_{t+1} = 0.036 + 0.81x_t$ og indsætte 0.04"
   ]
  },
  {
   "cell_type": "code",
   "execution_count": 3,
   "metadata": {},
   "outputs": [
    {
     "data": {
      "text/html": [
       "0.0684"
      ],
      "text/latex": [
       "0.0684"
      ],
      "text/markdown": [
       "0.0684"
      ],
      "text/plain": [
       "[1] 0.0684"
      ]
     },
     "metadata": {},
     "output_type": "display_data"
    }
   ],
   "source": [
    "0.036 + 0.81*(0.04) "
   ]
  },
  {
   "cell_type": "markdown",
   "metadata": {},
   "source": [
    "**Spørgsmål 1.4** Hvad er standardafvigelsen på forecastfejlen fra spørgsmål 1.3?\n",
    "\n",
    "Det oplyses nu, at variansen på fejlleddet er 0.0044."
   ]
  },
  {
   "cell_type": "code",
   "execution_count": 4,
   "metadata": {},
   "outputs": [
    {
     "data": {
      "text/html": [
       "0.066332495807108"
      ],
      "text/latex": [
       "0.066332495807108"
      ],
      "text/markdown": [
       "0.066332495807108"
      ],
      "text/plain": [
       "[1] 0.0663325"
      ]
     },
     "metadata": {},
     "output_type": "display_data"
    }
   ],
   "source": [
    "sqrt(0.0044)"
   ]
  },
  {
   "cell_type": "markdown",
   "metadata": {},
   "source": [
    "**Spørgsmål 1.5** Find rødderne for det autoregressive polynomium\n",
    "\n",
    "Betragt nu følgende simple AR(2) model for en tidsrække rt \n",
    "$$r_t = 0.01 + 1.3r_{t-1} - 0.4r_{t-2} + \\varepsilon_t$$\n"
   ]
  },
  {
   "cell_type": "code",
   "execution_count": 5,
   "metadata": {},
   "outputs": [
    {
     "data": {
      "text/html": [
       "<ol class=list-inline>\n",
       "\t<li>0.8</li>\n",
       "\t<li>0.5</li>\n",
       "</ol>\n"
      ],
      "text/latex": [
       "\\begin{enumerate*}\n",
       "\\item 0.8\n",
       "\\item 0.5\n",
       "\\end{enumerate*}\n"
      ],
      "text/markdown": [
       "1. 0.8\n",
       "2. 0.5\n",
       "\n",
       "\n"
      ],
      "text/plain": [
       "[1] 0.8 0.5"
      ]
     },
     "metadata": {},
     "output_type": "display_data"
    }
   ],
   "source": [
    "ma <- matrix(c(1.3, -0.4, 1, 0),nrow=2,byrow=T)\n",
    "eigen(ma)$values"
   ]
  },
  {
   "cell_type": "markdown",
   "metadata": {},
   "source": [
    "**Spørgsmål 1.6** *Er $r_t$ stationær?*"
   ]
  },
  {
   "cell_type": "markdown",
   "metadata": {},
   "source": [
    "Ja, da rødderne er indenfor unit cirklen"
   ]
  },
  {
   "cell_type": "markdown",
   "metadata": {},
   "source": [
    "**Spørgsmål 1.7** Hvad er middelværdien af $r_t$, dvs. find E(rt).\n",
    "\n",
    "Antag at r100 = 1.2 og r99 = 0.5."
   ]
  },
  {
   "cell_type": "code",
   "execution_count": null,
   "metadata": {},
   "outputs": [],
   "source": []
  },
  {
   "cell_type": "markdown",
   "metadata": {},
   "source": [
    "**Spørgsmål 1.8** Hvad er (1-step ahead) forecastet for r101 beregnet på tid T = 100? (Usikkerhedsinterval/forecastinterval skal ikke findes)"
   ]
  },
  {
   "cell_type": "code",
   "execution_count": null,
   "metadata": {},
   "outputs": [],
   "source": []
  },
  {
   "cell_type": "markdown",
   "metadata": {},
   "source": [
    "**Spørgsmål 1.9** Argumentér for at den kvartalsvise prisdefator for et bruttonationalprodukt, bnpdef, givet i datafilen “bnpdef.csv” er integreret af orden 2, dvs. I(2). Defatoren er allerede sæsonjusteret og lig med 100 for år 2003.\n",
    "\n",
    "Forklar ovenstående både ved hjælp af grafiske metoder (diverse plots) og ved hjælp af unit root tests."
   ]
  },
  {
   "cell_type": "code",
   "execution_count": 33,
   "metadata": {},
   "outputs": [
    {
     "data": {
      "text/html": [
       "<table>\n",
       "<thead><tr><th scope=col>bnpdef</th><th scope=col>dato</th></tr></thead>\n",
       "<tbody>\n",
       "\t<tr><td>15.105    </td><td>1950-01-01</td></tr>\n",
       "\t<tr><td>15.329    </td><td>1950-04-01</td></tr>\n",
       "\t<tr><td>15.597    </td><td>1950-07-01</td></tr>\n",
       "</tbody>\n",
       "</table>\n"
      ],
      "text/latex": [
       "\\begin{tabular}{r|ll}\n",
       " bnpdef & dato\\\\\n",
       "\\hline\n",
       "\t 15.105     & 1950-01-01\\\\\n",
       "\t 15.329     & 1950-04-01\\\\\n",
       "\t 15.597     & 1950-07-01\\\\\n",
       "\\end{tabular}\n"
      ],
      "text/markdown": [
       "\n",
       "bnpdef | dato | \n",
       "|---|---|---|\n",
       "| 15.105     | 1950-01-01 | \n",
       "| 15.329     | 1950-04-01 | \n",
       "| 15.597     | 1950-07-01 | \n",
       "\n",
       "\n"
      ],
      "text/plain": [
       "  bnpdef dato      \n",
       "1 15.105 1950-01-01\n",
       "2 15.329 1950-04-01\n",
       "3 15.597 1950-07-01"
      ]
     },
     "metadata": {},
     "output_type": "display_data"
    }
   ],
   "source": [
    "head(bnp,3)"
   ]
  },
  {
   "cell_type": "code",
   "execution_count": 7,
   "metadata": {},
   "outputs": [
    {
     "data": {
      "text/plain": [
       "Series: bnp$bnpdef \n",
       "ARIMA(0,2,1) \n",
       "\n",
       "Coefficients:\n",
       "          ma1\n",
       "      -0.5862\n",
       "s.e.   0.0486\n",
       "\n",
       "sigma^2 estimated as 0.02873:  log likelihood=87.86\n",
       "AIC=-171.72   AICc=-171.67   BIC=-164.7"
      ]
     },
     "metadata": {},
     "output_type": "display_data"
    }
   ],
   "source": [
    "auto.arima(bnp$bnpdef)"
   ]
  },
  {
   "cell_type": "code",
   "execution_count": 8,
   "metadata": {},
   "outputs": [
    {
     "data": {
      "image/png": "[encoded data removed]",
      "text/plain": [
       "plot without title"
      ]
     },
     "metadata": {},
     "output_type": "display_data"
    }
   ],
   "source": [
    "defl <- bnp$bnpdef\n",
    "ldefl <- diff(log(bnp$bnpdef))\n",
    "lldefl <- diff(diff(log(bnp$bnpdef)))\n",
    "\n",
    "a <- qplot(bnp$dato,defl, geom =\"line\") + labs(title=\"BNP deflator\", x=\"\")\n",
    "b <- qplot(bnp$dato[-1], ldefl, geom=\"line\") + labs(title=\"Inflation\", x=\"\")\n",
    "c <- qplot(bnp$dato[-c(1,2)], lldefl, geom=\"line\") + labs(title=\"Diff Inflation\", x=\"\")\n",
    "grid.arrange(a,b,c,nrow=1)"
   ]
  },
  {
   "cell_type": "markdown",
   "metadata": {},
   "source": [
    "ADF test: $H_0:\\gamma = 0$ Hvilket indikerer en unit root (random walk)\n",
    "\n",
    "$$\\Delta y_t = a_o + \\gamma y_{t-1} + bt + \\sum^k_{i=1}\\beta_i \\Delta_{t-i}+\\varepsilon_t$$\n",
    "Hvis man ikke kan afvise $H_0$ så tager man differensen indtil at man kan og at serien er stationær."
   ]
  },
  {
   "cell_type": "code",
   "execution_count": 12,
   "metadata": {},
   "outputs": [
    {
     "data": {
      "text/html": [
       "<table>\n",
       "<thead><tr><th></th><th scope=col>statistic</th><th scope=col>parameter</th><th scope=col>alternative</th><th scope=col>p.value</th><th scope=col>method</th><th scope=col>data.name</th></tr></thead>\n",
       "<tbody>\n",
       "\t<tr><th scope=row>level</th><td>-2.602175                   </td><td>6                           </td><td>stationary                  </td><td>0.3223401                   </td><td>Augmented Dickey-Fuller Test</td><td>defl                        </td></tr>\n",
       "\t<tr><th scope=row>diff.1</th><td>-3.3433                     </td><td>6                           </td><td>stationary                  </td><td>0.06453896                  </td><td>Augmented Dickey-Fuller Test</td><td>ldefl                       </td></tr>\n",
       "\t<tr><th scope=row>diff.2</th><td>-9.518362                   </td><td>6                           </td><td>stationary                  </td><td>0.01                        </td><td>Augmented Dickey-Fuller Test</td><td>lldefl                      </td></tr>\n",
       "</tbody>\n",
       "</table>\n"
      ],
      "text/latex": [
       "\\begin{tabular}{r|llllll}\n",
       "  & statistic & parameter & alternative & p.value & method & data.name\\\\\n",
       "\\hline\n",
       "\tlevel & -2.602175                    & 6                            & stationary                   & 0.3223401                    & Augmented Dickey-Fuller Test & defl                        \\\\\n",
       "\tdiff.1 & -3.3433                      & 6                            & stationary                   & 0.06453896                   & Augmented Dickey-Fuller Test & ldefl                       \\\\\n",
       "\tdiff.2 & -9.518362                    & 6                            & stationary                   & 0.01                         & Augmented Dickey-Fuller Test & lldefl                      \\\\\n",
       "\\end{tabular}\n"
      ],
      "text/markdown": [
       "\n",
       "| <!--/--> | statistic | parameter | alternative | p.value | method | data.name | \n",
       "|---|---|---|\n",
       "| level | -2.602175                    | 6                            | stationary                   | 0.3223401                    | Augmented Dickey-Fuller Test | defl                         | \n",
       "| diff.1 | -3.3433                      | 6                            | stationary                   | 0.06453896                   | Augmented Dickey-Fuller Test | ldefl                        | \n",
       "| diff.2 | -9.518362                    | 6                            | stationary                   | 0.01                         | Augmented Dickey-Fuller Test | lldefl                       | \n",
       "\n",
       "\n"
      ],
      "text/plain": [
       "       statistic parameter alternative p.value    method                      \n",
       "level  -2.602175 6         stationary  0.3223401  Augmented Dickey-Fuller Test\n",
       "diff.1 -3.3433   6         stationary  0.06453896 Augmented Dickey-Fuller Test\n",
       "diff.2 -9.518362 6         stationary  0.01       Augmented Dickey-Fuller Test\n",
       "       data.name\n",
       "level  defl     \n",
       "diff.1 ldefl    \n",
       "diff.2 lldefl   "
      ]
     },
     "metadata": {},
     "output_type": "display_data"
    }
   ],
   "source": [
    "level <- adf.test(defl)\n",
    "diff.1 <- adf.test(ldefl)\n",
    "diff.2 <- adf.test(lldefl)\n",
    "rbind(level,diff.1,diff.2)"
   ]
  },
  {
   "cell_type": "code",
   "execution_count": 37,
   "metadata": {},
   "outputs": [
    {
     "data": {
      "image/png": "[encoded data removed]",
      "text/plain": [
       "plot without title"
      ]
     },
     "metadata": {},
     "output_type": "display_data"
    },
    {
     "data": {
      "image/png": "[encoded data removed]",
      "text/plain": [
       "plot without title"
      ]
     },
     "metadata": {},
     "output_type": "display_data"
    }
   ],
   "source": [
    "options(repr.plot.width=9, repr.plot.height=2)\n",
    "\n",
    "a <- ggAcf(lldefl) + labs(title=\"ACF: Diff inflation\", subtitle=\"Mistænkeligt lag nr. 7\")\n",
    "b <- ggPacf(lldefl) + labs(title=\"PACF: Diff inflation\", subtitle=\"Igen lag nr. 7\")\n",
    "\n",
    "c <- ggAcf(lldefl[1:123]) + labs(title=\"ACF: 1950 - 1980\")\n",
    "d <- ggPacf(lldefl[1:123]) + labs(title=\"PACF: 1950 - 1980\")\n",
    "e <- ggAcf(lldefl[124:246])  + labs(title=\"ACF: 1980 - 2011\")\n",
    "f <- ggPacf(lldefl[124:246]) + labs(title=\"PACF: 1980 - 2011\")\n",
    "\n",
    "grid.arrange(a,b,nrow=1)\n",
    "grid.arrange(c,d,e,f,nrow=1)"
   ]
  },
  {
   "cell_type": "markdown",
   "metadata": {},
   "source": [
    "**Spørgsmål 1.10** Opbyg (dvs. identificér og estimér) en ARIMA model for prisdefatoren, herunder tjek validiteten af den estimerede model."
   ]
  },
  {
   "cell_type": "code",
   "execution_count": 24,
   "metadata": {},
   "outputs": [
    {
     "data": {
      "text/html": [
       "<table>\n",
       "<thead><tr><th scope=col>MODEL</th><th scope=col>AIC</th><th scope=col>BIC</th></tr></thead>\n",
       "<tbody>\n",
       "\t<tr><td>ARIMA(0,2,1)</td><td>-171.7156   </td><td>-164.7049   </td></tr>\n",
       "\t<tr><td>ARIMA(1,2,0)</td><td>-150.6611   </td><td>-143.6504   </td></tr>\n",
       "</tbody>\n",
       "</table>\n"
      ],
      "text/latex": [
       "\\begin{tabular}{r|lll}\n",
       " MODEL & AIC & BIC\\\\\n",
       "\\hline\n",
       "\t ARIMA(0,2,1) & -171.7156    & -164.7049   \\\\\n",
       "\t ARIMA(1,2,0) & -150.6611    & -143.6504   \\\\\n",
       "\\end{tabular}\n"
      ],
      "text/markdown": [
       "\n",
       "MODEL | AIC | BIC | \n",
       "|---|---|\n",
       "| ARIMA(0,2,1) | -171.7156    | -164.7049    | \n",
       "| ARIMA(1,2,0) | -150.6611    | -143.6504    | \n",
       "\n",
       "\n"
      ],
      "text/plain": [
       "  MODEL        AIC       BIC      \n",
       "1 ARIMA(0,2,1) -171.7156 -164.7049\n",
       "2 ARIMA(1,2,0) -150.6611 -143.6504"
      ]
     },
     "metadata": {},
     "output_type": "display_data"
    }
   ],
   "source": [
    "AIC <- NA; BIC <- NA; MODEL <- NA\n",
    "AIC[1] <- AIC(arima(defl, order=c(0,2,1)))\n",
    "AIC[2] <- AIC(arima(defl, order=c(1,2,0)))\n",
    "BIC[1] <- BIC(arima(defl, order=c(0,2,1)))\n",
    "BIC[2] <- BIC(arima(defl, order=c(1,2,0)))\n",
    "MODEL[1] <- \"ARIMA(0,2,1)\"\n",
    "MODEL[2] <- \"ARIMA(1,2,0)\"\n",
    "\n",
    "data.frame(MODEL,AIC,BIC)"
   ]
  },
  {
   "cell_type": "code",
   "execution_count": 46,
   "metadata": {},
   "outputs": [
    {
     "data": {
      "text/plain": [
       "\n",
       "Call:\n",
       "arima(x = defl, order = c(1, 2, 0))\n",
       "\n",
       "Coefficients:\n",
       "          ar1\n",
       "      -0.4773\n",
       "s.e.   0.0596\n",
       "\n",
       "sigma^2 estimated as 0.03119:  log likelihood = 77.33,  aic = -150.66"
      ]
     },
     "metadata": {},
     "output_type": "display_data"
    },
    {
     "data": {
      "image/png": "[encoded data removed]",
      "text/plain": [
       "plot without title"
      ]
     },
     "metadata": {},
     "output_type": "display_data"
    }
   ],
   "source": [
    "m <- arima(defl, order=c(1,2,0))\n",
    "grid.arrange(ggAcf(m$residuals), ggPacf(m$residuals), nrow=1)\n",
    "m"
   ]
  },
  {
   "cell_type": "markdown",
   "metadata": {},
   "source": [
    "Baseret på dette vælger jeg en ARIMA(1,2,0) model som giver den numerisk laveste AIC samt BIC(SBC). Dette er modsat auto.arima, men denne anvender andre og mere komplicerede parametre."
   ]
  },
  {
   "cell_type": "markdown",
   "metadata": {},
   "source": [
    "<br>\n",
    "<br>\n",
    "<br>\n",
    "<br>\n",
    "<br>\n",
    "<br>"
   ]
  },
  {
   "cell_type": "markdown",
   "metadata": {},
   "source": [
    "## Opgave 2: Kointegration og fejlkorrektion [20%]\n",
    "Vi betragter en månedlig 1-års renteserie $y_t$ og en månedlig 3-års renteserie $z_t$ fra juli 1956 til juni 2007 givet i datafilen “renter.csv”."
   ]
  },
  {
   "cell_type": "code",
   "execution_count": 15,
   "metadata": {},
   "outputs": [
    {
     "data": {
      "text/html": [
       "<table>\n",
       "<thead><tr><th scope=col>y</th><th scope=col>z</th><th scope=col>dato</th></tr></thead>\n",
       "<tbody>\n",
       "\t<tr><td>1.79      </td><td>2.23      </td><td>1956-01-01</td></tr>\n",
       "\t<tr><td>1.67      </td><td>2.20      </td><td>1956-02-01</td></tr>\n",
       "\t<tr><td>1.66      </td><td>2.07      </td><td>1956-03-01</td></tr>\n",
       "</tbody>\n",
       "</table>\n"
      ],
      "text/latex": [
       "\\begin{tabular}{r|lll}\n",
       " y & z & dato\\\\\n",
       "\\hline\n",
       "\t 1.79       & 2.23       & 1956-01-01\\\\\n",
       "\t 1.67       & 2.20       & 1956-02-01\\\\\n",
       "\t 1.66       & 2.07       & 1956-03-01\\\\\n",
       "\\end{tabular}\n"
      ],
      "text/markdown": [
       "\n",
       "y | z | dato | \n",
       "|---|---|---|\n",
       "| 1.79       | 2.23       | 1956-01-01 | \n",
       "| 1.67       | 2.20       | 1956-02-01 | \n",
       "| 1.66       | 2.07       | 1956-03-01 | \n",
       "\n",
       "\n"
      ],
      "text/plain": [
       "  y    z    dato      \n",
       "1 1.79 2.23 1956-01-01\n",
       "2 1.67 2.20 1956-02-01\n",
       "3 1.66 2.07 1956-03-01"
      ]
     },
     "metadata": {},
     "output_type": "display_data"
    }
   ],
   "source": [
    "head(rnt,3)\n",
    "rnt <- arrange(rnt, rnt$dato)\n",
    "\n",
    "y <- rnt$y\n",
    "z <- rnt$z\n",
    "ly <- diff(log(rnt$y))\n",
    "lz <- diff(log(rnt$z))\n",
    "combi <- y - z"
   ]
  },
  {
   "cell_type": "markdown",
   "metadata": {},
   "source": [
    "**Spørgsmål 2.1** \n",
    "*Undersøg både grafsk og vha. unit root tests om de to renteserier er stationære. Find for både $y_t$ og $z_t$ integrationsordenen d, svarende til at vi kan bruge betegnelsen “integreret af orden d”, I(d). Identificér og estimér en passende ARIMA for hver af tidsrækkerne $y_t$ og $z_t$.*\n",
    "\n",
    "Vi finder at de begge er integreret af I(1). Dette kan både ses grafisk samt af Augmented Dickey Fuller testen. Når vi betragter Box Jenkins plottet ses det at der er en del autokorrelation som der skal tages højde for, vi anvender derfor en ARIMA(3,1,3) model på begge serier."
   ]
  },
  {
   "cell_type": "code",
   "execution_count": 16,
   "metadata": {},
   "outputs": [
    {
     "data": {
      "image/png": "[encoded data removed]",
      "text/plain": [
       "plot without title"
      ]
     },
     "metadata": {},
     "output_type": "display_data"
    }
   ],
   "source": [
    "options(repr.plot.width=8, repr.plot.height=2.5)\n",
    "\n",
    "p1 <- ggplot(gather(rnt, variable, value, -dato), aes(dato, value, linetype=variable)) + \n",
    "  geom_line() + labs(title=\"Plot of variables\")\n",
    "\n",
    "data <- data.frame(ly,lz,dato = rnt$dato[-1])\n",
    "\n",
    "p2 <- ggplot(gather(data, variable, value, -dato), aes(dato, value)) + \n",
    "  geom_line() + \n",
    "  facet_wrap(~variable, nrow=1) + labs(title=\"differenced variables\", y=\"\")\n",
    "\n",
    "grid.arrange(p1,p2,nrow=1)"
   ]
  },
  {
   "cell_type": "code",
   "execution_count": 17,
   "metadata": {},
   "outputs": [
    {
     "data": {
      "text/html": [
       "<table>\n",
       "<thead><tr><th></th><th scope=col>statistic</th><th scope=col>parameter</th><th scope=col>alternative</th><th scope=col>p.value</th><th scope=col>method</th><th scope=col>data.name</th></tr></thead>\n",
       "<tbody>\n",
       "\t<tr><th scope=row>adf.y</th><td>-1.272287                   </td><td>8                           </td><td>stationary                  </td><td>0.8863383                   </td><td>Augmented Dickey-Fuller Test</td><td>y                           </td></tr>\n",
       "\t<tr><th scope=row>adf.z</th><td>-0.9123566                  </td><td>8                           </td><td>stationary                  </td><td>0.9515763                   </td><td>Augmented Dickey-Fuller Test</td><td>z                           </td></tr>\n",
       "\t<tr><th scope=row>adf.ly</th><td>-12.99691                   </td><td>8                           </td><td>stationary                  </td><td>0.01                        </td><td>Augmented Dickey-Fuller Test</td><td>ly                          </td></tr>\n",
       "\t<tr><th scope=row>adf.lz</th><td>-12.97372                   </td><td>8                           </td><td>stationary                  </td><td>0.01                        </td><td>Augmented Dickey-Fuller Test</td><td>lz                          </td></tr>\n",
       "\t<tr><th scope=row>adf.combi</th><td>-3.630971                   </td><td>8                           </td><td>stationary                  </td><td>0.02971241                  </td><td>Augmented Dickey-Fuller Test</td><td>combi                       </td></tr>\n",
       "</tbody>\n",
       "</table>\n"
      ],
      "text/latex": [
       "\\begin{tabular}{r|llllll}\n",
       "  & statistic & parameter & alternative & p.value & method & data.name\\\\\n",
       "\\hline\n",
       "\tadf.y & -1.272287                    & 8                            & stationary                   & 0.8863383                    & Augmented Dickey-Fuller Test & y                           \\\\\n",
       "\tadf.z & -0.9123566                   & 8                            & stationary                   & 0.9515763                    & Augmented Dickey-Fuller Test & z                           \\\\\n",
       "\tadf.ly & -12.99691                    & 8                            & stationary                   & 0.01                         & Augmented Dickey-Fuller Test & ly                          \\\\\n",
       "\tadf.lz & -12.97372                    & 8                            & stationary                   & 0.01                         & Augmented Dickey-Fuller Test & lz                          \\\\\n",
       "\tadf.combi & -3.630971                    & 8                            & stationary                   & 0.02971241                   & Augmented Dickey-Fuller Test & combi                       \\\\\n",
       "\\end{tabular}\n"
      ],
      "text/markdown": [
       "\n",
       "| <!--/--> | statistic | parameter | alternative | p.value | method | data.name | \n",
       "|---|---|---|---|---|\n",
       "| adf.y | -1.272287                    | 8                            | stationary                   | 0.8863383                    | Augmented Dickey-Fuller Test | y                            | \n",
       "| adf.z | -0.9123566                   | 8                            | stationary                   | 0.9515763                    | Augmented Dickey-Fuller Test | z                            | \n",
       "| adf.ly | -12.99691                    | 8                            | stationary                   | 0.01                         | Augmented Dickey-Fuller Test | ly                           | \n",
       "| adf.lz | -12.97372                    | 8                            | stationary                   | 0.01                         | Augmented Dickey-Fuller Test | lz                           | \n",
       "| adf.combi | -3.630971                    | 8                            | stationary                   | 0.02971241                   | Augmented Dickey-Fuller Test | combi                        | \n",
       "\n",
       "\n"
      ],
      "text/plain": [
       "          statistic  parameter alternative p.value   \n",
       "adf.y     -1.272287  8         stationary  0.8863383 \n",
       "adf.z     -0.9123566 8         stationary  0.9515763 \n",
       "adf.ly    -12.99691  8         stationary  0.01      \n",
       "adf.lz    -12.97372  8         stationary  0.01      \n",
       "adf.combi -3.630971  8         stationary  0.02971241\n",
       "          method                       data.name\n",
       "adf.y     Augmented Dickey-Fuller Test y        \n",
       "adf.z     Augmented Dickey-Fuller Test z        \n",
       "adf.ly    Augmented Dickey-Fuller Test ly       \n",
       "adf.lz    Augmented Dickey-Fuller Test lz       \n",
       "adf.combi Augmented Dickey-Fuller Test combi    "
      ]
     },
     "metadata": {},
     "output_type": "display_data"
    }
   ],
   "source": [
    "adf.y <- adf.test(y)\n",
    "adf.z <- adf.test(z)\n",
    "adf.ly <- adf.test(ly)\n",
    "adf.lz <- adf.test(lz)\n",
    "adf.combi <- adf.test(combi)\n",
    "rbind(adf.y, adf.z, adf.ly, adf.lz, adf.combi)"
   ]
  },
  {
   "cell_type": "code",
   "execution_count": 21,
   "metadata": {},
   "outputs": [
    {
     "data": {
      "image/png": "[encoded data removed]",
      "text/plain": [
       "plot without title"
      ]
     },
     "metadata": {},
     "output_type": "display_data"
    }
   ],
   "source": [
    "a <- ggAcf(ly)\n",
    "b <- ggAcf(lz)\n",
    "c <- ggPacf(ly)\n",
    "d <- ggPacf(lz)\n",
    "grid.arrange(a,b,c,d,nrow=1)"
   ]
  },
  {
   "cell_type": "code",
   "execution_count": 16,
   "metadata": {},
   "outputs": [
    {
     "data": {
      "text/plain": [
       "\n",
       "Call:\n",
       "arima(x = y, order = c(3, 1, 3))\n",
       "\n",
       "Coefficients:\n",
       "          ar1      ar2     ar3     ma1     ma2      ma3\n",
       "      -0.0376  -0.2245  0.2665  0.0879  0.1281  -0.7260\n",
       "s.e.   0.0730   0.0847  0.0758  0.0563  0.0650   0.0476\n",
       "\n",
       "sigma^2 estimated as 0.5545:  log likelihood = -687.6,  aic = 1389.21"
      ]
     },
     "metadata": {},
     "output_type": "display_data"
    },
    {
     "data": {
      "text/plain": [
       "\n",
       "Call:\n",
       "arima(x = z, order = c(3, 1, 3))\n",
       "\n",
       "Coefficients:\n",
       "          ar1      ar2     ar3     ma1     ma2      ma3\n",
       "      -0.0904  -0.1674  0.1744  0.0986  0.1033  -0.6779\n",
       "s.e.   0.0667   0.0678  0.0635  0.0490  0.0510   0.0450\n",
       "\n",
       "sigma^2 estimated as 0.4104:  log likelihood = -595.54,  aic = 1205.07"
      ]
     },
     "metadata": {},
     "output_type": "display_data"
    }
   ],
   "source": [
    "#auto.arima(y)  ## den foreslår (3,1,3)\n",
    "#auto.arima(z)  ## den foreslår (5,1,4)\n",
    "\n",
    "arima(y, order=c(3,1,3))\n",
    "arima(z, order=c(3,1,3))"
   ]
  },
  {
   "cell_type": "markdown",
   "metadata": {},
   "source": [
    "**Spørgsmål 2.2** \n",
    "*Kointegrerer de to tidsrækker?*\n",
    "\n",
    "Vi finder at de med en Johansen trace test at vi klart kan afvise at rangen er 0 hviket betyder at variablerne kointegrerer.\n",
    "Vi kan dog ikke afvise på et 1% signifikansniveau at rangen er 1 eller mindre.. så vi konkluderer at rangen er 1. Dette betyder at ???. Dette bekræftes også at en linær kombination $y_t - z_t$ er stationær som kan ses i de ovenstående ADF test.\n",
    "\n",
    "Vi kan også se dette ved at regressere y på z og kontrollere om residualerne er stationære, dette gør jeg ved en Augmented Dickey Fuller test og denne viser at vi på et 5% signigikansniveau kan afvise at residualerne ikke er stationære"
   ]
  },
  {
   "cell_type": "code",
   "execution_count": 17,
   "metadata": {},
   "outputs": [
    {
     "data": {
      "text/plain": [
       "\n",
       "###################### \n",
       "# Johansen-Procedure # \n",
       "###################### \n",
       "\n",
       "Test type: trace statistic , with linear trend \n",
       "\n",
       "Eigenvalues (lambda):\n",
       "[1] 0.07443070 0.01532624\n",
       "\n",
       "Values of teststatistic and critical values of test:\n",
       "\n",
       "          test 10pct  5pct  1pct\n",
       "r <= 1 |  9.42  6.50  8.18 11.65\n",
       "r = 0  | 56.60 15.66 17.95 23.52\n",
       "\n",
       "Eigenvectors, normalised to first column:\n",
       "(These are the cointegration relations)\n",
       "\n",
       "          y.l2      z.l2\n",
       "y.l2  1.000000  1.000000\n",
       "z.l2 -1.001242 -2.002885\n",
       "\n",
       "Weights W:\n",
       "(This is the loading matrix)\n",
       "\n",
       "           y.l2       z.l2\n",
       "y.d -0.19361099 0.03353670\n",
       "z.d -0.05045118 0.03178485\n"
      ]
     },
     "metadata": {},
     "output_type": "display_data"
    }
   ],
   "source": [
    "jo <- ca.jo(data.frame(y,z), type=\"trace\", K=2, ecdet=\"none\", spec=\"longrun\")\n",
    "summary(jo)"
   ]
  },
  {
   "cell_type": "code",
   "execution_count": 18,
   "metadata": {},
   "outputs": [
    {
     "data": {
      "text/plain": [
       "\n",
       "\tAugmented Dickey-Fuller Test\n",
       "\n",
       "data:  reg$residuals\n",
       "Dickey-Fuller = -3.6317, Lag order = 8, p-value = 0.02964\n",
       "alternative hypothesis: stationary\n"
      ]
     },
     "metadata": {},
     "output_type": "display_data"
    }
   ],
   "source": [
    "reg <- lm(y ~ z)\n",
    "adf.test(reg$residuals)"
   ]
  },
  {
   "cell_type": "markdown",
   "metadata": {},
   "source": [
    "**Spørgsmål 2.3** \n",
    "Hvis tidsrækkerne kointegrerer opbyg da og estimér en fejlkorrektions- model for tidsrækkerne, og opskriv således den estimerede model."
   ]
  },
  {
   "cell_type": "markdown",
   "metadata": {},
   "source": [
    "Vi begynder med en simpel VAR(1) model\n",
    "$$y_t = a_{11}y_{t-1} + a_{12}z_{t-1} + \\varepsilon_{yt}$$\n",
    "$$z_t = a_{21}y_{t-1} + a_{22}z_{t-1} + \\varepsilon_{zt}$$\n",
    "\n",
    "omskrives til:\n",
    "\n",
    "$$\n",
    "\\begin{bmatrix} \\Delta y_t \\\\ \\Delta z_t \\end{bmatrix}\n",
    "=\n",
    "\\underbrace{\n",
    "\\begin{bmatrix} a_{11}-1 & a_{12} \\\\ a_{21} & a_{22}-1 \\end{bmatrix}\n",
    "}_{\\pi}\n",
    "\\begin{bmatrix} y_{t-1} \\\\ z_{t-1} \\end{bmatrix}\n",
    "+\n",
    "\\begin{bmatrix} \\varepsilon_{yt} \\\\ \\varepsilon_{zt} \\end{bmatrix}\n",
    "$$\n",
    "\n",
    "Dette kan igen omskrives til føgende fejlkorrentionsmodel \n",
    "\n",
    "$$\\Delta y_t = -[a_{12}a_{21}/(1-a_{22})]y_{t-1} + a_{12}z_{t-1} + \\varepsilon_{yt}$$\n",
    "$$\\Delta z_t = a_{21}y_{t-1}-(1-a_{22})z_{t-1} + \\varepsilon_{zt}$$\n",
    "\n",
    "som kan omskrives til en VECM(0):\n",
    "\n",
    "$$\\Delta y_t = \\alpha_y(y_{t-1}-\\beta z_{t-1}) + \\varepsilon_{yt}$$\n",
    "$$\\Delta z_t = \\alpha_z(y_{t-1}-\\beta z_{t-1}) + \\varepsilon_{zt}$$\n",
    "og disse variabler er givet ved\n",
    "\n",
    "$$\\alpha_y = -a_{12}a_{21}/(1-a_{22})$$\n",
    "$$\\beta = (1-a_{22})/a_{21}$$\n",
    "$$\\alpha_z = a_{21}$$\n",
    "\n",
    "\n",
    "\n",
    "\n"
   ]
  },
  {
   "cell_type": "markdown",
   "metadata": {},
   "source": [
    "Hvis vi anvender informationerne i summary i sidste opgave er parametrene i VECM(0) modellen:\n",
    "$$\\alpha_y = -0.19361099 $$\n",
    "$$\\beta = -1.001242 $$\n",
    "$$\\alpha_z = -0.05045118 $$\n"
   ]
  },
  {
   "cell_type": "code",
   "execution_count": 19,
   "metadata": {},
   "outputs": [
    {
     "data": {
      "text/plain": [
       "\n",
       "VAR Estimation Results:\n",
       "======================= \n",
       "\n",
       "Estimated coefficients for equation y: \n",
       "====================================== \n",
       "Call:\n",
       "y = y.l1 + z.l1 \n",
       "\n",
       "     y.l1      z.l1 \n",
       "0.8241100 0.1607344 \n",
       "\n",
       "\n",
       "Estimated coefficients for equation z: \n",
       "====================================== \n",
       "Call:\n",
       "z = y.l1 + z.l1 \n",
       "\n",
       "       y.l1        z.l1 \n",
       "-0.06195626  1.05333779 \n",
       "\n"
      ]
     },
     "metadata": {},
     "output_type": "display_data"
    }
   ],
   "source": [
    "VAR(data.frame(y,z), p=1, type=\"none\")"
   ]
  },
  {
   "cell_type": "code",
   "execution_count": 20,
   "metadata": {},
   "outputs": [
    {
     "data": {
      "text/html": [
       "0.860894282514794"
      ],
      "text/latex": [
       "0.860894282514794"
      ],
      "text/markdown": [
       "0.860894282514794"
      ],
      "text/plain": [
       "[1] 0.8608943"
      ]
     },
     "metadata": {},
     "output_type": "display_data"
    }
   ],
   "source": [
    "(1-1.05333779)/-0.06195626"
   ]
  },
  {
   "cell_type": "code",
   "execution_count": 21,
   "metadata": {},
   "outputs": [
    {
     "data": {
      "text/html": [
       "-0.186706316053665"
      ],
      "text/latex": [
       "-0.186706316053665"
      ],
      "text/markdown": [
       "-0.186706316053665"
      ],
      "text/plain": [
       "[1] -0.1867063"
      ]
     },
     "metadata": {},
     "output_type": "display_data"
    }
   ],
   "source": [
    "-0.1607344*-0.06195626/(1-1.05333779 )"
   ]
  },
  {
   "cell_type": "code",
   "execution_count": 22,
   "metadata": {},
   "outputs": [
    {
     "data": {
      "text/html": [
       "-0.06195626"
      ],
      "text/latex": [
       "-0.06195626"
      ],
      "text/markdown": [
       "-0.06195626"
      ],
      "text/plain": [
       "[1] -0.06195626"
      ]
     },
     "metadata": {},
     "output_type": "display_data"
    }
   ],
   "source": [
    "-0.06195626"
   ]
  },
  {
   "cell_type": "markdown",
   "metadata": {},
   "source": [
    "<br>\n",
    "<br>\n",
    "<br>\n",
    "<br>\n",
    "<br>\n",
    "<br>\n",
    "\n",
    "---"
   ]
  },
  {
   "cell_type": "markdown",
   "metadata": {},
   "source": [
    "## Opgave 3: Volalitetsmodeller [25%]\n",
    "Betegn aktiekursen på tid $t$ for en given virksomhed ved $Y_t$: Afkastet beregner vi her ved $y_t = \\Delta log Y_t = log Y_t - log Y_{t-1}$ hvor log som standard angiver den naturlige logaritme."
   ]
  },
  {
   "cell_type": "code",
   "execution_count": 23,
   "metadata": {},
   "outputs": [
    {
     "data": {
      "text/html": [
       "<table>\n",
       "<thead><tr><th scope=col>dato</th><th scope=col>aktiekurs</th></tr></thead>\n",
       "<tbody>\n",
       "\t<tr><td>2001-01-02</td><td>1662.646  </td></tr>\n",
       "\t<tr><td>2001-01-03</td><td>1980.806  </td></tr>\n",
       "\t<tr><td>2001-01-04</td><td>1893.569  </td></tr>\n",
       "</tbody>\n",
       "</table>\n"
      ],
      "text/latex": [
       "\\begin{tabular}{r|ll}\n",
       " dato & aktiekurs\\\\\n",
       "\\hline\n",
       "\t 2001-01-02 & 1662.646  \\\\\n",
       "\t 2001-01-03 & 1980.806  \\\\\n",
       "\t 2001-01-04 & 1893.569  \\\\\n",
       "\\end{tabular}\n"
      ],
      "text/markdown": [
       "\n",
       "dato | aktiekurs | \n",
       "|---|---|---|\n",
       "| 2001-01-02 | 1662.646   | \n",
       "| 2001-01-03 | 1980.806   | \n",
       "| 2001-01-04 | 1893.569   | \n",
       "\n",
       "\n"
      ],
      "text/plain": [
       "  dato       aktiekurs\n",
       "1 2001-01-02 1662.646 \n",
       "2 2001-01-03 1980.806 \n",
       "3 2001-01-04 1893.569 "
      ]
     },
     "metadata": {},
     "output_type": "display_data"
    }
   ],
   "source": [
    "head(vol,3)\n",
    "aktie <- as.numeric(vol$aktiekurs)\n",
    "afkast <- as.numeric(diff(log(aktie)))"
   ]
  },
  {
   "cell_type": "markdown",
   "metadata": {},
   "source": [
    "**Spørgsmål 3.1** *Beskriv nogle af de væsentligste forskelle mellem at modellere $y_t$ som en AR(1) process og yt som en GARCH(1,1) process. Skriv begge modeller op, forklar alle symboler i de 2 modelspecifikationer og husk at påpege hvor vi formelt ser forskellene mellem de 2 modeller.*"
   ]
  },
  {
   "cell_type": "markdown",
   "metadata": {},
   "source": [
    "AR(1)\n",
    "$$ y_t = \\alpha + \\beta y_{t-1} + \\varepsilon_t $$\n",
    "\n",
    "\n",
    "GARCH(1,1)\n",
    "\n",
    "$$ \\varepsilon_t = v_t \\sqrt{h_t}$$\n",
    "$$ h_t = \\alpha_0 + \\alpha_1\\varepsilon^2_{t-1} + \\beta h_{t-1}$$\n",
    "\n",
    "En vigtig forskel på de to modeller er at ved AR (ARIMA) er $E_t[\\cdot]$ , altså den betingede værdi, varierende med tiden, mens den er konstant for en GARCH (ARCH) model, modsat er $var_t[\\cdot]$, altså den betingede varians, varierende over tid i en GARCH, mens den ikke er for en AR.\n",
    "\n",
    "Det er dog muligt både at modelere middelværdien samt variansen i en serie, altså en ARIMA med GARCH fejlled"
   ]
  },
  {
   "cell_type": "markdown",
   "metadata": {},
   "source": [
    "**Spørgsmål 3.2** *Forklart kort hvordan du indledningsvist kan forsøge grafisk at afsløre ARCH/GARCH effekter i $y_t$:*\n",
    "\n",
    "Man kan regressere serien på en konstant, så plotter du det kvardrerede residual, hvis dette ikke er nogenlunde konstant er der tegn på ARCH/GARCH fejl."
   ]
  },
  {
   "cell_type": "markdown",
   "metadata": {},
   "source": [
    "**Spørgsmål 3.3** Hvordan kan du indledningsvist forsøge at afsløre ARCH/GARCH effekter i $y_t$ ved et formelt test? Skriv nul-hypotesen op."
   ]
  },
  {
   "cell_type": "markdown",
   "metadata": {},
   "source": [
    "**Spørgsmål 3.4** Du bedes nu estimere en AR(5) - GARCH (1,1) for data i datafilen \"volatilitet.csv\"og hvor du besvarer følgende underpunkter\n",
    " - Forklar om du vil estimere modellen på baggrund af $Y_t$ eller $y_t$ og argumenter hvorfor.\n",
    "   - Jeg anvender den logdifferencierede $y_t$, plot nr. 2, eftersom den er stationær modsat aktiekursen\n",
    " - Lav et indledende grafisk og formelt test for ARCH/GARCH effekter.\n",
    "   - Jeg har plottet de kvadrede residualer, og laver en Ljung-Box test som klart afviser at der ingen seriel korrelation skulle være i de kvadrede residualer, samt en McLeodli??\n",
    " - Rapportér og kommentér ganske kort på parameterestimater og tilhørende standard errors samt informationskriterier\n",
    "   - Informationskriterierne giver ikke så meget mening før vi har en alternativ model at sammenligne med, coeffecienterne på varians modellen er alle stærkt signifikante, mens det i moddeleringen af middelværdien ikke helt er tilfældet."
   ]
  },
  {
   "cell_type": "code",
   "execution_count": 24,
   "metadata": {},
   "outputs": [
    {
     "data": {
      "image/png": "[encoded data removed]",
      "text/plain": [
       "plot without title"
      ]
     },
     "metadata": {},
     "output_type": "display_data"
    }
   ],
   "source": [
    "n <- c(1:2011)\n",
    "reg <- lm(afkast~1)\n",
    "\n",
    "a <- qplot(n, aktie, geom=\"line\") + labs(title=\"Aktie kurs\", x=\"\")\n",
    "b <- qplot(n[-1], afkast, geom=\"line\") + labs(title=\"Afkast\", x=\"\")\n",
    "c <- qplot(n[-1], reg$residuals^2, geom=\"line\") + labs(title=\"Kvadrede residualer\", x=\"\")\n",
    "\n",
    "grid.arrange(a, b, c, nrow=1)"
   ]
  },
  {
   "cell_type": "code",
   "execution_count": 25,
   "metadata": {},
   "outputs": [
    {
     "data": {
      "text/plain": [
       "\n",
       "\tBox-Ljung test\n",
       "\n",
       "data:  reg$residuals^2\n",
       "X-squared = 121.58, df = 4, p-value < 2.2e-16\n"
      ]
     },
     "metadata": {},
     "output_type": "display_data"
    },
    {
     "data": {
      "text/plain": [
       "\n",
       "\tBox-Ljung test\n",
       "\n",
       "data:  reg$residuals^2\n",
       "X-squared = 245.64, df = 8, p-value < 2.2e-16\n"
      ]
     },
     "metadata": {},
     "output_type": "display_data"
    }
   ],
   "source": [
    "Box.test(reg$residuals^2,lag=4,type=\"Ljung-Box\")\n",
    "Box.test(reg$residuals^2,lag=8,type=\"Ljung-Box\")"
   ]
  },
  {
   "cell_type": "code",
   "execution_count": 26,
   "metadata": {},
   "outputs": [
    {
     "data": {
      "text/html": [
       "<table>\n",
       "<thead><tr><th></th><th scope=col></th></tr></thead>\n",
       "<tbody>\n",
       "\t<tr><th scope=row>Akaike</th><td>-4.407643</td></tr>\n",
       "\t<tr><th scope=row>Bayes</th><td>-4.382542</td></tr>\n",
       "\t<tr><th scope=row>Shibata</th><td>-4.407683</td></tr>\n",
       "\t<tr><th scope=row>Hannan-Quinn</th><td>-4.398428</td></tr>\n",
       "</tbody>\n",
       "</table>\n"
      ],
      "text/latex": [
       "\\begin{tabular}{r|l}\n",
       "  & \\\\\n",
       "\\hline\n",
       "\tAkaike & -4.407643\\\\\n",
       "\tBayes & -4.382542\\\\\n",
       "\tShibata & -4.407683\\\\\n",
       "\tHannan-Quinn & -4.398428\\\\\n",
       "\\end{tabular}\n"
      ],
      "text/markdown": [
       "\n",
       "| <!--/--> |  | \n",
       "|---|---|---|---|\n",
       "| Akaike | -4.407643 | \n",
       "| Bayes | -4.382542 | \n",
       "| Shibata | -4.407683 | \n",
       "| Hannan-Quinn | -4.398428 | \n",
       "\n",
       "\n"
      ],
      "text/plain": [
       "                      \n",
       "Akaike       -4.407643\n",
       "Bayes        -4.382542\n",
       "Shibata      -4.407683\n",
       "Hannan-Quinn -4.398428"
      ]
     },
     "metadata": {},
     "output_type": "display_data"
    },
    {
     "data": {
      "text/html": [
       "<table>\n",
       "<thead><tr><th scope=col>mu</th><th scope=col>ar1</th><th scope=col>ar2</th><th scope=col>ar3</th><th scope=col>ar4</th><th scope=col>ar5</th><th scope=col>omega</th><th scope=col>alpha1</th><th scope=col>beta1</th></tr></thead>\n",
       "<tbody>\n",
       "\t<tr><td>0.00030 </td><td>0.03337 </td><td>-0.03140</td><td>0.00887 </td><td>-0.03402</td><td>-0.03954</td><td>1e-05   </td><td>0.08099 </td><td>0.90962 </td></tr>\n",
       "\t<tr><td>0.00048 </td><td>0.02490 </td><td> 0.02453</td><td>0.02446 </td><td> 0.02427</td><td> 0.02396</td><td>0e+00   </td><td>0.01050 </td><td>0.00571 </td></tr>\n",
       "</tbody>\n",
       "</table>\n"
      ],
      "text/latex": [
       "\\begin{tabular}{lllllllll}\n",
       " mu & ar1 & ar2 & ar3 & ar4 & ar5 & omega & alpha1 & beta1\\\\\n",
       "\\hline\n",
       "\t 0.00030  & 0.03337  & -0.03140 & 0.00887  & -0.03402 & -0.03954 & 1e-05    & 0.08099  & 0.90962 \\\\\n",
       "\t 0.00048  & 0.02490  &  0.02453 & 0.02446  &  0.02427 &  0.02396 & 0e+00    & 0.01050  & 0.00571 \\\\\n",
       "\\end{tabular}\n"
      ],
      "text/markdown": [
       "\n",
       "mu | ar1 | ar2 | ar3 | ar4 | ar5 | omega | alpha1 | beta1 | \n",
       "|---|---|\n",
       "| 0.00030  | 0.03337  | -0.03140 | 0.00887  | -0.03402 | -0.03954 | 1e-05    | 0.08099  | 0.90962  | \n",
       "| 0.00048  | 0.02490  |  0.02453 | 0.02446  |  0.02427 |  0.02396 | 0e+00    | 0.01050  | 0.00571  | \n",
       "\n",
       "\n"
      ],
      "text/plain": [
       "     mu      ar1     ar2      ar3     ar4      ar5      omega alpha1  beta1  \n",
       "[1,] 0.00030 0.03337 -0.03140 0.00887 -0.03402 -0.03954 1e-05 0.08099 0.90962\n",
       "[2,] 0.00048 0.02490  0.02453 0.02446  0.02427  0.02396 0e+00 0.01050 0.00571"
      ]
     },
     "metadata": {},
     "output_type": "display_data"
    }
   ],
   "source": [
    "spec <- ugarchspec(variance.model = list(model = \"sGARCH\", \n",
    "                                         garchOrder = c(1, 1),\n",
    "                                         variance.targeting = FALSE), \n",
    "                   mean.model     = list(armaOrder = c(5, 0), \n",
    "                                         external.regressors = NULL))\n",
    "\n",
    "m2 <- ugarchfit(spec = spec, data = afkast)\n",
    "infocriteria(m2)\n",
    "round(rbind(t(m2@fit$coef), t(m2@fit$se)),5)\n",
    "#m2"
   ]
  },
  {
   "cell_type": "markdown",
   "metadata": {},
   "source": [
    "**Spørgsmål 3.5** Forsøg at forbedre ovenstående AR(5) - GARCH (1,1) model ved at estimere en AR (p) - GARCH (1,1) med p < 5, en ARMA(1,1) - GARCH (1,1) samt en valgfri model. Med ovenstående model ender du således med ialt 4 modeller.\n",
    " - Lav en tabel med AIC eller SIC/BIC for de 4 modeller. Hvilken model vil du vælge? Kommentér kort på parametersignifikans for valgte model."
   ]
  },
  {
   "cell_type": "code",
   "execution_count": 27,
   "metadata": {},
   "outputs": [],
   "source": [
    "m1 <- ugarchfit(data = afkast, spec = ugarchspec(variance.model = list(model = \"sGARCH\", \n",
    "                                                                  garchOrder = c(1, 1)),\n",
    "                                            mean.model     = list(armaOrder  = c(5, 0))))\n",
    "\n",
    "m2 <- ugarchfit(data = afkast, spec = ugarchspec(variance.model = list(model = \"sGARCH\", \n",
    "                                                                  garchOrder = c(1, 1)),\n",
    "                                            mean.model     = list(armaOrder  = c(3, 0))))\n",
    "\n",
    "m3 <- ugarchfit(data = afkast, spec = ugarchspec(variance.model = list(model = \"sGARCH\", \n",
    "                                                                  garchOrder = c(1, 1)),\n",
    "                                            mean.model     = list(armaOrder  = c(1, 1))))\n",
    "\n",
    "m4 <- ugarchfit(data = afkast, spec = ugarchspec(variance.model = list(model = \"sGARCH\", \n",
    "                                                                  garchOrder = c(1, 1)),\n",
    "                                            mean.model     = list(armaOrder  = c(4, 4))))"
   ]
  },
  {
   "cell_type": "code",
   "execution_count": 28,
   "metadata": {},
   "outputs": [
    {
     "data": {
      "text/html": [
       "<table>\n",
       "<thead><tr><th></th><th scope=col>model 1</th><th scope=col>model 2</th><th scope=col>model 3</th><th scope=col>model 4</th></tr></thead>\n",
       "<tbody>\n",
       "\t<tr><th scope=row>Akaike</th><td>-4.408</td><td>-4.407</td><td>-4.409</td><td>-4.410</td></tr>\n",
       "\t<tr><th scope=row>Bayes</th><td>-4.383</td><td>-4.388</td><td>-4.393</td><td>-4.377</td></tr>\n",
       "\t<tr><th scope=row>Shibata</th><td>-4.408</td><td>-4.407</td><td>-4.409</td><td>-4.410</td></tr>\n",
       "\t<tr><th scope=row>Hannan-Quinn</th><td>-4.398</td><td>-4.400</td><td>-4.403</td><td>-4.398</td></tr>\n",
       "</tbody>\n",
       "</table>\n"
      ],
      "text/latex": [
       "\\begin{tabular}{r|llll}\n",
       "  & model 1 & model 2 & model 3 & model 4\\\\\n",
       "\\hline\n",
       "\tAkaike & -4.408 & -4.407 & -4.409 & -4.410\\\\\n",
       "\tBayes & -4.383 & -4.388 & -4.393 & -4.377\\\\\n",
       "\tShibata & -4.408 & -4.407 & -4.409 & -4.410\\\\\n",
       "\tHannan-Quinn & -4.398 & -4.400 & -4.403 & -4.398\\\\\n",
       "\\end{tabular}\n"
      ],
      "text/markdown": [
       "\n",
       "| <!--/--> | model 1 | model 2 | model 3 | model 4 | \n",
       "|---|---|---|---|\n",
       "| Akaike | -4.408 | -4.407 | -4.409 | -4.410 | \n",
       "| Bayes | -4.383 | -4.388 | -4.393 | -4.377 | \n",
       "| Shibata | -4.408 | -4.407 | -4.409 | -4.410 | \n",
       "| Hannan-Quinn | -4.398 | -4.400 | -4.403 | -4.398 | \n",
       "\n",
       "\n"
      ],
      "text/plain": [
       "             model 1 model 2 model 3 model 4\n",
       "Akaike       -4.408  -4.407  -4.409  -4.410 \n",
       "Bayes        -4.383  -4.388  -4.393  -4.377 \n",
       "Shibata      -4.408  -4.407  -4.409  -4.410 \n",
       "Hannan-Quinn -4.398  -4.400  -4.403  -4.398 "
      ]
     },
     "metadata": {},
     "output_type": "display_data"
    }
   ],
   "source": [
    "df <- cbind(infocriteria(m1), infocriteria(m2), infocriteria(m3), infocriteria(m4))\n",
    "colnames(df)<- c(\"model 1\", \"model 2\", \"model 3\", \"model 4\")\n",
    "round(df,3)"
   ]
  },
  {
   "cell_type": "markdown",
   "metadata": {},
   "source": [
    "**Spørgsmål 3.6** Lav en diagnose afvalgte model ved brug afpassende tests og kommentér kort."
   ]
  },
  {
   "cell_type": "code",
   "execution_count": 29,
   "metadata": {},
   "outputs": [
    {
     "data": {
      "image/png": "[encoded data removed]",
      "text/plain": [
       "plot without title"
      ]
     },
     "metadata": {},
     "output_type": "display_data"
    }
   ],
   "source": [
    "sdres <- m2@fit$residuals / sqrt(m2@fit[[\"sigma\"]])\n",
    "a <- qplot(n[-1], sdres, geom=\"line\") + labs(title=\"Std. residualer\", x=\"\")\n",
    "b <- qplot(n[-1], sdres^2, geom=\"line\") + labs(title=\"Std. residualer^2\", x=\"\")\n",
    "c <- qplot(n[-1], m2@fit[[\"var\"]], geom=\"line\") + labs(title=\"Estimeret volatilatet\", x=\"\")\n",
    "grid.arrange(a,b,c,nrow=1)"
   ]
  },
  {
   "cell_type": "code",
   "execution_count": 30,
   "metadata": {},
   "outputs": [
    {
     "data": {
      "text/plain": [
       "\n",
       "\tBox-Ljung test\n",
       "\n",
       "data:  sdres^2\n",
       "X-squared = 22.13, df = 4, p-value = 0.0001888\n"
      ]
     },
     "metadata": {},
     "output_type": "display_data"
    },
    {
     "data": {
      "text/plain": [
       "\n",
       "\tBox-Ljung test\n",
       "\n",
       "data:  sdres^2\n",
       "X-squared = 39.961, df = 8, p-value = 3.258e-06\n"
      ]
     },
     "metadata": {},
     "output_type": "display_data"
    }
   ],
   "source": [
    "sdres <- m1@fit$residuals / sqrt(m1@fit[[\"sigma\"]])\n",
    "Box.test(sdres^2,lag=4,type=\"Ljung-Box\")\n",
    "Box.test(sdres^2,lag=8,type=\"Ljung-Box\")"
   ]
  },
  {
   "cell_type": "markdown",
   "metadata": {},
   "source": [
    "**Spørgsmål 3.7** For den valgte model bedes du lave et volatilitetsforecast for tidspunkt T + h; hvor h betegner forecast horisonten og T er sluttidspunktet i din stikprøve. Lad h = 1: Du bruger således hele din stikprøve til at estimere parametrene som efterfølgende bruges til at lave et forecast \"uden for stikprøven\"på tid T + 1. Beregn også et ubetinget volatilitetsforecast.\n",
    "\n",
    "$$ var(\\epsilon_t) = E(\\epsilon_t) = \\frac{\\alpha_0}{1-\\sum^P_{i=1}\\alpha_i - \\sum^Q_{i=1}\\beta_i} $$\n",
    "\n",
    "$$omega = 0.000012$$\n",
    "$$alpha1 = 0.080992$$\n",
    "$$beta1 = 0.909625$$"
   ]
  },
  {
   "cell_type": "code",
   "execution_count": 31,
   "metadata": {},
   "outputs": [
    {
     "data": {
      "text/html": [
       "2010"
      ],
      "text/latex": [
       "2010"
      ],
      "text/markdown": [
       "2010"
      ],
      "text/plain": [
       "[1] 2010"
      ]
     },
     "metadata": {},
     "output_type": "display_data"
    }
   ],
   "source": [
    "length(afkast)"
   ]
  },
  {
   "cell_type": "code",
   "execution_count": 32,
   "metadata": {},
   "outputs": [
    {
     "data": {
      "text/html": [
       "0.0448868059646863"
      ],
      "text/latex": [
       "0.0448868059646863"
      ],
      "text/markdown": [
       "0.0448868059646863"
      ],
      "text/plain": [
       "[1] 0.04488681"
      ]
     },
     "metadata": {},
     "output_type": "display_data"
    },
    {
     "data": {
      "text/html": [
       "0.0357618325118582"
      ],
      "text/latex": [
       "0.0357618325118582"
      ],
      "text/markdown": [
       "0.0357618325118582"
      ],
      "text/plain": [
       "[1] 0.03576183"
      ]
     },
     "metadata": {},
     "output_type": "display_data"
    }
   ],
   "source": [
    "forc <- ugarchforecast(m2, n.ahead = 1, data = afkast)\n",
    "\n",
    "forc@forecast$sigmaFor[1]\n",
    "\n",
    "sqrt(0.000012/(1-0.080992-0.909625))"
   ]
  },
  {
   "cell_type": "markdown",
   "metadata": {},
   "source": [
    "<br>\n",
    "<br>\n",
    "<br>\n",
    "<br>\n",
    "<br>\n",
    "<br>"
   ]
  },
  {
   "cell_type": "markdown",
   "metadata": {},
   "source": [
    "## Opgave 4: Vektorautoregressive modeller [25%]\n",
    "I datafilen \"VektorAutoregressiv.csv\" finder du 3 tidsrækker for nominelle oliepris (NO), reale BNP (RBNP) og et forbrugerprisindeks (P). Alle tidsrækker er i niveau."
   ]
  },
  {
   "cell_type": "code",
   "execution_count": 33,
   "metadata": {},
   "outputs": [
    {
     "data": {
      "text/html": [
       "<table>\n",
       "<thead><tr><th scope=col>Dato</th><th scope=col>NominelOliePris</th><th scope=col>RealBNP</th><th scope=col>PrisIndeks</th></tr></thead>\n",
       "<tbody>\n",
       "\t<tr><td>1975-03-31</td><td>11.16     </td><td>5292.4    </td><td>52.567    </td></tr>\n",
       "\t<tr><td>1975-06-30</td><td>11.16     </td><td>5333.2    </td><td>53.200    </td></tr>\n",
       "\t<tr><td>1975-09-30</td><td>11.16     </td><td>5421.4    </td><td>54.267    </td></tr>\n",
       "</tbody>\n",
       "</table>\n"
      ],
      "text/latex": [
       "\\begin{tabular}{r|llll}\n",
       " Dato & NominelOliePris & RealBNP & PrisIndeks\\\\\n",
       "\\hline\n",
       "\t 1975-03-31 & 11.16      & 5292.4     & 52.567    \\\\\n",
       "\t 1975-06-30 & 11.16      & 5333.2     & 53.200    \\\\\n",
       "\t 1975-09-30 & 11.16      & 5421.4     & 54.267    \\\\\n",
       "\\end{tabular}\n"
      ],
      "text/markdown": [
       "\n",
       "Dato | NominelOliePris | RealBNP | PrisIndeks | \n",
       "|---|---|---|\n",
       "| 1975-03-31 | 11.16      | 5292.4     | 52.567     | \n",
       "| 1975-06-30 | 11.16      | 5333.2     | 53.200     | \n",
       "| 1975-09-30 | 11.16      | 5421.4     | 54.267     | \n",
       "\n",
       "\n"
      ],
      "text/plain": [
       "  Dato       NominelOliePris RealBNP PrisIndeks\n",
       "1 1975-03-31 11.16           5292.4  52.567    \n",
       "2 1975-06-30 11.16           5333.2  53.200    \n",
       "3 1975-09-30 11.16           5421.4  54.267    "
      ]
     },
     "metadata": {},
     "output_type": "display_data"
    }
   ],
   "source": [
    "head(var,3)"
   ]
  },
  {
   "cell_type": "markdown",
   "metadata": {},
   "source": [
    "**Spørgsmål 4.1** Transformér tidsrækkerne til log differencer $(\\Delta log)$: Den reale vækstrate for BNP (rbnp) bliver således $rbnpt = \\Delta log (RBNPt)$: For olieprisen (NO) bereg- ner du endvidere den reale vækstrate (ro) ved $ro_t = no_t - \\pi_t$, hvor $no_t = \\Delta log(NO_t)$ og hvor forbrugerprisvæksten beregnes som $\\pi_t = \\Delta log(P_t)$ Forklar med egne ord hvorfor vi kan opfatte $ro_t$ som en real vækstrate? Er der tale om en årlig vækstrate?"
   ]
  },
  {
   "cell_type": "code",
   "execution_count": 34,
   "metadata": {},
   "outputs": [
    {
     "data": {
      "text/html": [
       "<table>\n",
       "<thead><tr><th scope=col>date</th><th scope=col>pi</th><th scope=col>rbnp</th><th scope=col>ro</th></tr></thead>\n",
       "<tbody>\n",
       "\t<tr><td>1975-06-30 </td><td>0.01196985 </td><td>0.007679604</td><td>-0.01196985</td></tr>\n",
       "\t<tr><td>1975-09-30 </td><td>0.01985791 </td><td>0.016402651</td><td>-0.01985791</td></tr>\n",
       "\t<tr><td>1975-12-31 </td><td>0.01825968 </td><td>0.013375307</td><td>-0.01825968</td></tr>\n",
       "</tbody>\n",
       "</table>\n"
      ],
      "text/latex": [
       "\\begin{tabular}{r|llll}\n",
       " date & pi & rbnp & ro\\\\\n",
       "\\hline\n",
       "\t 1975-06-30  & 0.01196985  & 0.007679604 & -0.01196985\\\\\n",
       "\t 1975-09-30  & 0.01985791  & 0.016402651 & -0.01985791\\\\\n",
       "\t 1975-12-31  & 0.01825968  & 0.013375307 & -0.01825968\\\\\n",
       "\\end{tabular}\n"
      ],
      "text/markdown": [
       "\n",
       "date | pi | rbnp | ro | \n",
       "|---|---|---|\n",
       "| 1975-06-30  | 0.01196985  | 0.007679604 | -0.01196985 | \n",
       "| 1975-09-30  | 0.01985791  | 0.016402651 | -0.01985791 | \n",
       "| 1975-12-31  | 0.01825968  | 0.013375307 | -0.01825968 | \n",
       "\n",
       "\n"
      ],
      "text/plain": [
       "  date       pi         rbnp        ro         \n",
       "1 1975-06-30 0.01196985 0.007679604 -0.01196985\n",
       "2 1975-09-30 0.01985791 0.016402651 -0.01985791\n",
       "3 1975-12-31 0.01825968 0.013375307 -0.01825968"
      ]
     },
     "metadata": {},
     "output_type": "display_data"
    },
    {
     "data": {
      "image/png": "[encoded data removed]",
      "text/plain": [
       "plot without title"
      ]
     },
     "metadata": {},
     "output_type": "display_data"
    },
    {
     "data": {
      "image/png": "[encoded data removed]",
      "text/plain": [
       "plot without title"
      ]
     },
     "metadata": {},
     "output_type": "display_data"
    }
   ],
   "source": [
    "rbnp <- diff(log(var$RealBNP))\n",
    "ro <- diff(log(var$NominelOliePris)) - diff(log(var$PrisIndeks))\n",
    "pi <- diff(log(var$PrisIndeks))\n",
    "df <- data.frame(date = var$Dato[-1], pi, rbnp,ro)\n",
    "head(df,3)\n",
    "\n",
    "a <- qplot(var$Dato, var$NominelOliePris, geom = \"line\") + labs(title=\"Nominel olie pris\", x=\"\")\n",
    "b <- qplot(var$Dato, var$RealBNP,         geom = \"line\") + labs(title=\"Real BNP\", x=\"\")\n",
    "c <- qplot(var$Dato, var$PrisIndeks,      geom = \"line\") + labs(title=\"Pris indeks\", x=\"\")\n",
    "\n",
    "d <- qplot(var$Dato[-1],rbnp, geom = \"line\") + labs(title=\"Diff nominel olie pris\", x=\"\")\n",
    "e <- qplot(var$Dato[-1],ro,   geom = \"line\") + labs(title=\"Diff real BNP\", x=\"\")\n",
    "f <- qplot(var$Dato[-1],pi,   geom = \"line\") + labs(title=\"Diff pris indeks\", x=\"\")\n",
    "\n",
    "grid.arrange(a,b,c,nrow=1)\n",
    "grid.arrange(d,e,f,nrow=1)"
   ]
  },
  {
   "cell_type": "code",
   "execution_count": null,
   "metadata": {},
   "outputs": [],
   "source": []
  },
  {
   "cell_type": "markdown",
   "metadata": {},
   "source": [
    "**Spørgsmål 4.2** Tag udgangspunkt i en stikprøve for for rbnp og for perioden andet kvartal 1976 til og med tredje kvartal 2010. Brug denne variableorden. Estimér en VAR med en laglængde på p = 2: Hvad er et statistisk argument for, at repræsentere denne VAR i vækstrater?"
   ]
  },
  {
   "cell_type": "code",
   "execution_count": 35,
   "metadata": {},
   "outputs": [
    {
     "data": {
      "text/plain": [
       "\n",
       "VAR Estimation Results:\n",
       "======================= \n",
       "\n",
       "Estimated coefficients for equation pi: \n",
       "======================================= \n",
       "Call:\n",
       "pi = pi.l1 + rbnp.l1 + ro.l1 + pi.l2 + rbnp.l2 + ro.l2 + const \n",
       "\n",
       "       pi.l1      rbnp.l1        ro.l1        pi.l2      rbnp.l2        ro.l2 \n",
       " 0.447851509  0.104297528  0.008330835  0.383727724 -0.052615763 -0.013379882 \n",
       "       const \n",
       " 0.001251070 \n",
       "\n",
       "\n",
       "Estimated coefficients for equation rbnp: \n",
       "========================================= \n",
       "Call:\n",
       "rbnp = pi.l1 + rbnp.l1 + ro.l1 + pi.l2 + rbnp.l2 + ro.l2 + const \n",
       "\n",
       "       pi.l1      rbnp.l1        ro.l1        pi.l2      rbnp.l2        ro.l2 \n",
       "-0.090396639  0.326953563 -0.001136950 -0.118915802  0.109543024  0.002494476 \n",
       "       const \n",
       " 0.006052028 \n",
       "\n",
       "\n",
       "Estimated coefficients for equation ro: \n",
       "======================================= \n",
       "Call:\n",
       "ro = pi.l1 + rbnp.l1 + ro.l1 + pi.l2 + rbnp.l2 + ro.l2 + const \n",
       "\n",
       "        pi.l1       rbnp.l1         ro.l1         pi.l2       rbnp.l2 \n",
       "-0.9017900724  1.6570456476  0.3125915486  0.5068360506 -0.6562776784 \n",
       "        ro.l2         const \n",
       "-0.2505746561  0.0004642684 \n",
       "\n"
      ]
     },
     "metadata": {},
     "output_type": "display_data"
    }
   ],
   "source": [
    "sub <- subset(df, date > \"1976-01-02\" & date < \"2010-08-02\")\n",
    "\n",
    "m <-VAR(sub[,-1], p=2, type=\"const\")\n",
    "m"
   ]
  },
  {
   "cell_type": "markdown",
   "metadata": {},
   "source": [
    "**Spørgsmål 4.3** Er den pågældende VAR stationær?"
   ]
  },
  {
   "cell_type": "code",
   "execution_count": null,
   "metadata": {},
   "outputs": [],
   "source": []
  },
  {
   "cell_type": "markdown",
   "metadata": {},
   "source": [
    "**Spørgsmål 4.4** Du skal nu lave en impulse respons analyse, men inden da bedes du redegøre for om denne VAR er velspecificeret i form af antallet af lags. Hvor mange lags vil du argumentere for? Inkludér kun det væsentligste program output i din besvarelse."
   ]
  },
  {
   "cell_type": "code",
   "execution_count": 36,
   "metadata": {},
   "outputs": [
    {
     "data": {
      "text/html": [
       "<table>\n",
       "<thead><tr><th></th><th scope=col>pi</th><th scope=col>rbnp</th><th scope=col>ro</th></tr></thead>\n",
       "<tbody>\n",
       "\t<tr><th scope=row>4</th><td>0.011388395</td><td>0.022335333</td><td> 0.04097959</td></tr>\n",
       "\t<tr><th scope=row>5</th><td>0.008904778</td><td>0.007535831</td><td> 0.02536519</td></tr>\n",
       "\t<tr><th scope=row>6</th><td>0.015831465</td><td>0.005074543</td><td> 0.03072590</td></tr>\n",
       "\t<tr><th scope=row>7</th><td>0.014432865</td><td>0.007476638</td><td> 0.07192470</td></tr>\n",
       "\t<tr><th scope=row>8</th><td>0.018188053</td><td>0.011568241</td><td>-0.01818805</td></tr>\n",
       "\t<tr><th scope=row>9</th><td>0.017298833</td><td>0.019433340</td><td>-0.01729883</td></tr>\n",
       "</tbody>\n",
       "</table>\n"
      ],
      "text/latex": [
       "\\begin{tabular}{r|lll}\n",
       "  & pi & rbnp & ro\\\\\n",
       "\\hline\n",
       "\t4 & 0.011388395 & 0.022335333 &  0.04097959\\\\\n",
       "\t5 & 0.008904778 & 0.007535831 &  0.02536519\\\\\n",
       "\t6 & 0.015831465 & 0.005074543 &  0.03072590\\\\\n",
       "\t7 & 0.014432865 & 0.007476638 &  0.07192470\\\\\n",
       "\t8 & 0.018188053 & 0.011568241 & -0.01818805\\\\\n",
       "\t9 & 0.017298833 & 0.019433340 & -0.01729883\\\\\n",
       "\\end{tabular}\n"
      ],
      "text/markdown": [
       "\n",
       "| <!--/--> | pi | rbnp | ro | \n",
       "|---|---|---|---|---|---|\n",
       "| 4 | 0.011388395 | 0.022335333 |  0.04097959 | \n",
       "| 5 | 0.008904778 | 0.007535831 |  0.02536519 | \n",
       "| 6 | 0.015831465 | 0.005074543 |  0.03072590 | \n",
       "| 7 | 0.014432865 | 0.007476638 |  0.07192470 | \n",
       "| 8 | 0.018188053 | 0.011568241 | -0.01818805 | \n",
       "| 9 | 0.017298833 | 0.019433340 | -0.01729883 | \n",
       "\n",
       "\n"
      ],
      "text/plain": [
       "  pi          rbnp        ro         \n",
       "4 0.011388395 0.022335333  0.04097959\n",
       "5 0.008904778 0.007535831  0.02536519\n",
       "6 0.015831465 0.005074543  0.03072590\n",
       "7 0.014432865 0.007476638  0.07192470\n",
       "8 0.018188053 0.011568241 -0.01818805\n",
       "9 0.017298833 0.019433340 -0.01729883"
      ]
     },
     "metadata": {},
     "output_type": "display_data"
    },
    {
     "data": {
      "text/html": [
       "<table>\n",
       "<thead><tr><th></th><th scope=col>date</th><th scope=col>rbnp</th><th scope=col>ro</th><th scope=col>pi</th></tr></thead>\n",
       "<tbody>\n",
       "\t<tr><th scope=row>4</th><td>1976-03-31 </td><td>0.022335333</td><td> 0.04097959</td><td>0.011388395</td></tr>\n",
       "\t<tr><th scope=row>5</th><td>1976-06-30 </td><td>0.007535831</td><td> 0.02536519</td><td>0.008904778</td></tr>\n",
       "\t<tr><th scope=row>6</th><td>1976-09-30 </td><td>0.005074543</td><td> 0.03072590</td><td>0.015831465</td></tr>\n",
       "\t<tr><th scope=row>7</th><td>1976-12-31 </td><td>0.007476638</td><td> 0.07192470</td><td>0.014432865</td></tr>\n",
       "\t<tr><th scope=row>8</th><td>1977-03-31 </td><td>0.011568241</td><td>-0.01818805</td><td>0.018188053</td></tr>\n",
       "\t<tr><th scope=row>9</th><td>1977-06-30 </td><td>0.019433340</td><td>-0.01729883</td><td>0.017298833</td></tr>\n",
       "</tbody>\n",
       "</table>\n"
      ],
      "text/latex": [
       "\\begin{tabular}{r|llll}\n",
       "  & date & rbnp & ro & pi\\\\\n",
       "\\hline\n",
       "\t4 & 1976-03-31  & 0.022335333 &  0.04097959 & 0.011388395\\\\\n",
       "\t5 & 1976-06-30  & 0.007535831 &  0.02536519 & 0.008904778\\\\\n",
       "\t6 & 1976-09-30  & 0.005074543 &  0.03072590 & 0.015831465\\\\\n",
       "\t7 & 1976-12-31  & 0.007476638 &  0.07192470 & 0.014432865\\\\\n",
       "\t8 & 1977-03-31  & 0.011568241 & -0.01818805 & 0.018188053\\\\\n",
       "\t9 & 1977-06-30  & 0.019433340 & -0.01729883 & 0.017298833\\\\\n",
       "\\end{tabular}\n"
      ],
      "text/markdown": [
       "\n",
       "| <!--/--> | date | rbnp | ro | pi | \n",
       "|---|---|---|---|---|---|\n",
       "| 4 | 1976-03-31  | 0.022335333 |  0.04097959 | 0.011388395 | \n",
       "| 5 | 1976-06-30  | 0.007535831 |  0.02536519 | 0.008904778 | \n",
       "| 6 | 1976-09-30  | 0.005074543 |  0.03072590 | 0.015831465 | \n",
       "| 7 | 1976-12-31  | 0.007476638 |  0.07192470 | 0.014432865 | \n",
       "| 8 | 1977-03-31  | 0.011568241 | -0.01818805 | 0.018188053 | \n",
       "| 9 | 1977-06-30  | 0.019433340 | -0.01729883 | 0.017298833 | \n",
       "\n",
       "\n"
      ],
      "text/plain": [
       "  date       rbnp        ro          pi         \n",
       "4 1976-03-31 0.022335333  0.04097959 0.011388395\n",
       "5 1976-06-30 0.007535831  0.02536519 0.008904778\n",
       "6 1976-09-30 0.005074543  0.03072590 0.015831465\n",
       "7 1976-12-31 0.007476638  0.07192470 0.014432865\n",
       "8 1977-03-31 0.011568241 -0.01818805 0.018188053\n",
       "9 1977-06-30 0.019433340 -0.01729883 0.017298833"
      ]
     },
     "metadata": {},
     "output_type": "display_data"
    }
   ],
   "source": [
    "head(sub)[,-1]\n",
    "sub1 <- sub[,c(1,3,4,2)]\n",
    "head(sub1)"
   ]
  },
  {
   "cell_type": "code",
   "execution_count": 37,
   "metadata": {},
   "outputs": [
    {
     "data": {
      "image/png": "[encoded data removed]",
      "text/plain": [
       "plot without title"
      ]
     },
     "metadata": {},
     "output_type": "display_data"
    }
   ],
   "source": [
    "m <- VAR(sub[,-1], p = 2, type = \"const\")\n",
    "\n",
    "data <- irf(m, nsteps = 12, n.ahead=20)\n",
    "variables <- data$irf %>% names\n",
    "\n",
    "ir <- lapply(1:length(variables), function(e){\n",
    "    data_to_plot <- data.frame(data %>% `$`(irf) %>% `[[`(variables[e])) %>%\n",
    "      mutate(\"t\" = 1:NROW(.)) %>%\n",
    "      gather(.,Variable, Value, -t)\n",
    "\n",
    "    upper_ci <- data.frame(data %>% `$`(Upper) %>% `[[`(variables[e])) %>%\n",
    "      mutate(\"t\" = 1:NROW(.)) %>%\n",
    "      gather(.,Variable, Upper, -t)\n",
    "\n",
    "    lower_ci <- data.frame(data %>% `$`(Lower) %>% `[[`(variables[e]) ) %>%\n",
    "      mutate(\"t\" = 1:NROW(.)) %>%\n",
    "      gather(.,Variable, Lower, -t)\n",
    "\n",
    "    res <- inner_join(data_to_plot, upper_ci, c(\"t\",\"Variable\")) %>%\n",
    "           inner_join(.,lower_ci, c(\"t\",\"Variable\")) %>%\n",
    "           mutate(impulse = paste(\"Shock to\", variables[e])) \n",
    "}) %>% bind_rows\n",
    "\n",
    "p2 <- ggplot(ir, aes(x = t, y = Value, group = Variable))  +\n",
    "  geom_line(color=\"#045a8d\") +\n",
    "  geom_ribbon(aes(x=t, ymax=Upper, ymin=Lower), alpha=0.15, fill=\"#045a8d\") +\n",
    "  scale_x_continuous(limits = c(0,21), breaks = seq(0,20,2)) +\n",
    "  scale_y_continuous(\"\", position=\"right\") +\n",
    "  labs(title=\"Impulse Response Functions\", x=\"\") +\n",
    "  facet_grid(Variable ~ impulse, scales=\"free\", switch=\"y\")\n",
    "\n",
    "print(p2)"
   ]
  },
  {
   "cell_type": "code",
   "execution_count": null,
   "metadata": {},
   "outputs": [],
   "source": []
  },
  {
   "cell_type": "markdown",
   "metadata": {},
   "source": [
    "**Spørgsmål 4.5** Skriv en central formel op for impulse respons analysen og forklar formlen og alle symboler."
   ]
  },
  {
   "cell_type": "markdown",
   "metadata": {},
   "source": [
    "**Spørgsmål 4.6** *På baggrund af valgte antal lags ovenfor, bedes du nu foretage en ortogonaliseret impulse respons analyse. Med ortogonaliseret menes en analyse på baggrund af en Cholesky dekomponering. I appendiks kan du rapportere alle responsene til hver af de 3 choks, mens du i hovedteksten grfisk viser responses for variablene $\\{\\pi,rbnp,ro\\}$ som følger af en chok til den reale oliepris. Endvidere opstiller du i hovedteksten en $10 \\times 3$ tabel hvor du viser responsen de første 10 perioder for hver af variablene til samme chok. Over maksimalt 0.5 side kommenterer du på impulse respons resultaterne - hvad viser de og er resultaterne plausible?*\n",
    "\n",
    "Her ses konsekvensen af et oliechok, det ses at denne er taget som den mest eksogene af variablerne og der derfor ikke er nogen simultan påvirkning fra et olieprischok til det reale bnp eller inflationen"
   ]
  },
  {
   "cell_type": "code",
   "execution_count": 38,
   "metadata": {},
   "outputs": [
    {
     "data": {
      "text/html": [
       "<table>\n",
       "<thead><tr><th scope=col>pi</th><th scope=col>rbnp</th><th scope=col>ro</th></tr></thead>\n",
       "<tbody>\n",
       "\t<tr><td> 0.00000</td><td> 0.00000</td><td> 0.10918</td></tr>\n",
       "\t<tr><td> 0.00091</td><td>-0.00012</td><td> 0.03413</td></tr>\n",
       "\t<tr><td>-0.00078</td><td> 0.00011</td><td>-0.01771</td></tr>\n",
       "\t<tr><td>-0.00059</td><td> 0.00009</td><td>-0.01266</td></tr>\n",
       "\t<tr><td>-0.00043</td><td> 0.00016</td><td> 0.00069</td></tr>\n",
       "\t<tr><td>-0.00023</td><td> 0.00014</td><td> 0.00368</td></tr>\n",
       "\t<tr><td>-0.00024</td><td> 0.00013</td><td> 0.00109</td></tr>\n",
       "\t<tr><td>-0.00023</td><td> 0.00012</td><td>-0.00035</td></tr>\n",
       "\t<tr><td>-0.00021</td><td> 0.00010</td><td>-0.00019</td></tr>\n",
       "\t<tr><td>-0.00017</td><td> 0.00009</td><td> 0.00020</td></tr>\n",
       "\t<tr><td>-0.00015</td><td> 0.00008</td><td> 0.00024</td></tr>\n",
       "</tbody>\n",
       "</table>\n"
      ],
      "text/latex": [
       "\\begin{tabular}{lll}\n",
       " pi & rbnp & ro\\\\\n",
       "\\hline\n",
       "\t  0.00000 &  0.00000 &  0.10918\\\\\n",
       "\t  0.00091 & -0.00012 &  0.03413\\\\\n",
       "\t -0.00078 &  0.00011 & -0.01771\\\\\n",
       "\t -0.00059 &  0.00009 & -0.01266\\\\\n",
       "\t -0.00043 &  0.00016 &  0.00069\\\\\n",
       "\t -0.00023 &  0.00014 &  0.00368\\\\\n",
       "\t -0.00024 &  0.00013 &  0.00109\\\\\n",
       "\t -0.00023 &  0.00012 & -0.00035\\\\\n",
       "\t -0.00021 &  0.00010 & -0.00019\\\\\n",
       "\t -0.00017 &  0.00009 &  0.00020\\\\\n",
       "\t -0.00015 &  0.00008 &  0.00024\\\\\n",
       "\\end{tabular}\n"
      ],
      "text/markdown": [
       "\n",
       "pi | rbnp | ro | \n",
       "|---|---|---|---|---|---|---|---|---|---|---|\n",
       "|  0.00000 |  0.00000 |  0.10918 | \n",
       "|  0.00091 | -0.00012 |  0.03413 | \n",
       "| -0.00078 |  0.00011 | -0.01771 | \n",
       "| -0.00059 |  0.00009 | -0.01266 | \n",
       "| -0.00043 |  0.00016 |  0.00069 | \n",
       "| -0.00023 |  0.00014 |  0.00368 | \n",
       "| -0.00024 |  0.00013 |  0.00109 | \n",
       "| -0.00023 |  0.00012 | -0.00035 | \n",
       "| -0.00021 |  0.00010 | -0.00019 | \n",
       "| -0.00017 |  0.00009 |  0.00020 | \n",
       "| -0.00015 |  0.00008 |  0.00024 | \n",
       "\n",
       "\n"
      ],
      "text/plain": [
       "      pi       rbnp     ro      \n",
       " [1,]  0.00000  0.00000  0.10918\n",
       " [2,]  0.00091 -0.00012  0.03413\n",
       " [3,] -0.00078  0.00011 -0.01771\n",
       " [4,] -0.00059  0.00009 -0.01266\n",
       " [5,] -0.00043  0.00016  0.00069\n",
       " [6,] -0.00023  0.00014  0.00368\n",
       " [7,] -0.00024  0.00013  0.00109\n",
       " [8,] -0.00023  0.00012 -0.00035\n",
       " [9,] -0.00021  0.00010 -0.00019\n",
       "[10,] -0.00017  0.00009  0.00020\n",
       "[11,] -0.00015  0.00008  0.00024"
      ]
     },
     "metadata": {},
     "output_type": "display_data"
    }
   ],
   "source": [
    "round(irf(m)$irf$ro,5)"
   ]
  },
  {
   "cell_type": "markdown",
   "metadata": {},
   "source": [
    "**Spørgsmål 4.7** *I analysen antog vi en bestemt orden af variablene i VAR analysen; specifikt $\\{\\pi,rbnp,ro\\}$ : Argumentér for denne orden men giv også med baggrund i Cholesky dekomponeringen en kritik afimpulse respons analysen. Har du forslag til forbedringer?*\n",
    "\n",
    "Udfordringen når der medtages strukturelle parmetre er at modellen bliver underidenticeret. Dette løses ved Cholesky dekomponeringen ved at tage nogle simultane stød som eksogene, og bygge ud fra det. Derfor bliver parametrene ordnet efter deres niveau af simultant eksogenitet (de er alle endogene eftersom deres lags indgår i modellen). "
   ]
  },
  {
   "cell_type": "markdown",
   "metadata": {},
   "source": [
    "**Spørgsmål 4.8** Redegør kort for om resultaterne, som følge af choks til den reale oliepris, vil ændres hvis du betragter denne orden $\\{rbnp,\\pi,ro\\}$"
   ]
  },
  {
   "cell_type": "code",
   "execution_count": null,
   "metadata": {},
   "outputs": [],
   "source": []
  },
  {
   "cell_type": "code",
   "execution_count": null,
   "metadata": {},
   "outputs": [],
   "source": []
  },
  {
   "cell_type": "code",
   "execution_count": null,
   "metadata": {},
   "outputs": [],
   "source": []
  },
  {
   "cell_type": "code",
   "execution_count": null,
   "metadata": {},
   "outputs": [],
   "source": []
  }
 ],
 "metadata": {
  "kernelspec": {
   "display_name": "R",
   "language": "R",
   "name": "ir"
  },
  "language_info": {
   "codemirror_mode": "r",
   "file_extension": ".r",
   "mimetype": "text/x-r-source",
   "name": "R",
   "pygments_lexer": "r",
   "version": "3.5.1"
  }
 },
 "nbformat": 4,
 "nbformat_minor": 2
}
