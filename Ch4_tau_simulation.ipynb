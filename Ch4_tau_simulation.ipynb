{
 "cells": [
  {
   "cell_type": "code",
   "execution_count": 16,
   "metadata": {},
   "outputs": [
    {
     "name": "stderr",
     "output_type": "stream",
     "text": [
      "-- Attaching packages --------------------------------------- tidyverse 1.2.1 --\n",
      "v ggplot2 3.1.0     v purrr   0.2.5\n",
      "v tibble  1.4.2     v dplyr   0.7.7\n",
      "v tidyr   0.8.2     v stringr 1.3.1\n",
      "v readr   1.1.1     v forcats 0.3.0\n",
      "-- Conflicts ------------------------------------------ tidyverse_conflicts() --\n",
      "x dplyr::filter() masks stats::filter()\n",
      "x dplyr::lag()    masks stats::lag()\n"
     ]
    }
   ],
   "source": [
    "library(tidyverse)"
   ]
  },
  {
   "cell_type": "code",
   "execution_count": 79,
   "metadata": {},
   "outputs": [],
   "source": [
    "options(warn=-1)\n",
    "library(dynlm)\n",
    "\n",
    "results <- NA\n",
    "for (i in 1:1000) {\n",
    "    x <- cumsum(rnorm(100)) +10\n",
    "    x1 <- as.ts(diff(x))\n",
    "    a <- summary(dynlm(x ~ L(x)))\n",
    "    new <- (a$coefficients[\"L(x)\", \"Estimate\"] -1)/a$coefficients[\"L(x)\", \"Std. Error\"]\n",
    "    \n",
    "    results[i] <- new\n",
    "}"
   ]
  },
  {
   "cell_type": "code",
   "execution_count": 80,
   "metadata": {},
   "outputs": [
    {
     "data": {
      "text/html": [
       "<ol class=list-inline>\n",
       "\t<li>15.7251568839994</li>\n",
       "\t<li>13.5420493403243</li>\n",
       "\t<li>0</li>\n",
       "\t<li>12.7764199955157</li>\n",
       "\t<li>-8.19095580632704</li>\n",
       "\t<li>0</li>\n",
       "</ol>\n"
      ],
      "text/latex": [
       "\\begin{enumerate*}\n",
       "\\item 15.7251568839994\n",
       "\\item 13.5420493403243\n",
       "\\item 0\n",
       "\\item 12.7764199955157\n",
       "\\item -8.19095580632704\n",
       "\\item 0\n",
       "\\end{enumerate*}\n"
      ],
      "text/markdown": [
       "1. 15.7251568839994\n",
       "2. 13.5420493403243\n",
       "3. 0\n",
       "4. 12.7764199955157\n",
       "5. -8.19095580632704\n",
       "6. 0\n",
       "\n",
       "\n"
      ],
      "text/plain": [
       "[1] 15.725157 13.542049  0.000000 12.776420 -8.190956  0.000000"
      ]
     },
     "metadata": {},
     "output_type": "display_data"
    }
   ],
   "source": [
    "head(results)"
   ]
  },
  {
   "cell_type": "code",
   "execution_count": 81,
   "metadata": {},
   "outputs": [
    {
     "data": {},
     "metadata": {},
     "output_type": "display_data"
    },
    {
     "data": {
      "text/html": [
       "0.330862117649952"
      ],
      "text/latex": [
       "0.330862117649952"
      ],
      "text/markdown": [
       "0.330862117649952"
      ],
      "text/plain": [
       "[1] 0.3308621"
      ]
     },
     "metadata": {},
     "output_type": "display_data"
    },
    {
     "data": {
      "image/png": "[encoded data removed]",
      "text/plain": [
       "plot without title"
      ]
     },
     "metadata": {},
     "output_type": "display_data"
    }
   ],
   "source": [
    "ggplot() + \n",
    "#geom_histogram(aes(results), bins=20) + \n",
    "geom_density(aes(results), adjust = 3)\n",
    "mean(subset(results, results > -30 & results < 30))"
   ]
  },
  {
   "cell_type": "code",
   "execution_count": 8,
   "metadata": {},
   "outputs": [
    {
     "data": {
      "text/html": [
       "<dl class=dl-horizontal>\n",
       "\t<dt>(Intercept)</dt>\n",
       "\t\t<dd>7.0216669371534e-18</dd>\n",
       "\t<dt>L(x)</dt>\n",
       "\t\t<dd>1</dd>\n",
       "</dl>\n"
      ],
      "text/latex": [
       "\\begin{description*}\n",
       "\\item[(Intercept)] 7.0216669371534e-18\n",
       "\\item[L(x)] 1\n",
       "\\end{description*}\n"
      ],
      "text/markdown": [
       "(Intercept)\n",
       ":   7.0216669371534e-18L(x)\n",
       ":   1\n",
       "\n"
      ],
      "text/plain": [
       " (Intercept)         L(x) \n",
       "7.021667e-18 1.000000e+00 "
      ]
     },
     "metadata": {},
     "output_type": "display_data"
    }
   ],
   "source": [
    " x <- rnorm(1000)\n",
    "    reg <- dynlm(x ~ L(x))\n",
    "    \n",
    "reg$coef\n",
    "a$coefficients[\"L(x)\",\"t value\"]"
   ]
  },
  {
   "cell_type": "code",
   "execution_count": null,
   "metadata": {},
   "outputs": [],
   "source": []
  },
  {
   "cell_type": "code",
   "execution_count": 55,
   "metadata": {},
   "outputs": [
    {
     "ename": "ERROR",
     "evalue": "Error in `[<-.data.frame`(`*tmp*`, , i, value = c(10.5194213983076, 10.9608525774069, : replacement has 100 rows, data has 1\n",
     "output_type": "error",
     "traceback": [
      "Error in `[<-.data.frame`(`*tmp*`, , i, value = c(10.5194213983076, 10.9608525774069, : replacement has 100 rows, data has 1\nTraceback:\n",
      "1. `[<-`(`*tmp*`, , i, value = c(10.5194213983076, 10.9608525774069, \n . 10.9649744434992, 10.8731031051309, 11.4948013279155, 12.4661248738393, \n . 13.8003846593335, 14.808196201244, 15.2402281494553, 15.6436460722976, \n . 16.0737763690441, 16.5977166713569, 16.9647479126959, 17.0201262573894, \n . 15.3896033512108, 13.4779764736752, 14.6443353900681, 14.3781446636037, \n . 15.4836333291986, 16.5908830102228, 14.310768175854, 14.7183329146843, \n . 13.3666946302802, 13.8406518092613, 13.5290062507901, 12.0275310434485, \n . 13.2261817931955, 11.2605926387191, 11.9223881926751, 12.9436399776132, \n . 13.9113011212283, 13.886928609184, 14.9724218641777, 15.6271240388677, \n . 15.9976276880932, 14.9031921682816, 16.1864690855588, 17.0672650802681, \n . 18.6203070474563, 18.4730568797047, 17.4372580446353, 18.1056763642146, \n . 16.8251320924366, 17.2123403148178, 15.9564450789868, 14.0001250178088, \n . 13.5674319364518, 12.6049690228847, 11.3720290461063, 11.4761755662938, \n . 11.9966415031859, 10.2334535034384, 8.49789145300391, 8.63862840160809, \n . 8.93101924877479, 10.8365000802826, 11.3164064381762, 11.1869305229608, \n . 10.9628518666539, 11.2700214991271, 11.4440509040344, 13.2666822533961, \n . 12.647929244415, 10.4593351639165, 11.1431466352612, 10.583441906894, \n . 10.8397955687121, 9.96682682652129, 8.56888510631528, 9.46707117258146, \n . 8.35336962779838, 7.89095181859288, 7.30090200946426, 9.41220581862796, \n . 9.24009717098446, 10.4498343988076, 10.2176014565801, 9.3850825843747, \n . 8.09395668133062, 10.0407866002348, 10.439807283194, 9.67823032169406, \n . 9.89348430986721, 8.87895415563086, 7.80498423995412, 7.36024353757478, \n . 6.41832163610546, 5.42262662899146, 5.36200404353036, 5.95358371195605, \n . 6.29878236791868, 6.63742623905204, 7.62132909828523, 8.00497086038224, \n . 9.12990542683388, 8.98017717120593, 7.18190552906254, 8.03100289870765, \n . 7.466479981918, 7.55489384195548))",
      "2. `[<-.data.frame`(`*tmp*`, , i, value = c(10.5194213983076, 10.9608525774069, \n . 10.9649744434992, 10.8731031051309, 11.4948013279155, 12.4661248738393, \n . 13.8003846593335, 14.808196201244, 15.2402281494553, 15.6436460722976, \n . 16.0737763690441, 16.5977166713569, 16.9647479126959, 17.0201262573894, \n . 15.3896033512108, 13.4779764736752, 14.6443353900681, 14.3781446636037, \n . 15.4836333291986, 16.5908830102228, 14.310768175854, 14.7183329146843, \n . 13.3666946302802, 13.8406518092613, 13.5290062507901, 12.0275310434485, \n . 13.2261817931955, 11.2605926387191, 11.9223881926751, 12.9436399776132, \n . 13.9113011212283, 13.886928609184, 14.9724218641777, 15.6271240388677, \n . 15.9976276880932, 14.9031921682816, 16.1864690855588, 17.0672650802681, \n . 18.6203070474563, 18.4730568797047, 17.4372580446353, 18.1056763642146, \n . 16.8251320924366, 17.2123403148178, 15.9564450789868, 14.0001250178088, \n . 13.5674319364518, 12.6049690228847, 11.3720290461063, 11.4761755662938, \n . 11.9966415031859, 10.2334535034384, 8.49789145300391, 8.63862840160809, \n . 8.93101924877479, 10.8365000802826, 11.3164064381762, 11.1869305229608, \n . 10.9628518666539, 11.2700214991271, 11.4440509040344, 13.2666822533961, \n . 12.647929244415, 10.4593351639165, 11.1431466352612, 10.583441906894, \n . 10.8397955687121, 9.96682682652129, 8.56888510631528, 9.46707117258146, \n . 8.35336962779838, 7.89095181859288, 7.30090200946426, 9.41220581862796, \n . 9.24009717098446, 10.4498343988076, 10.2176014565801, 9.3850825843747, \n . 8.09395668133062, 10.0407866002348, 10.439807283194, 9.67823032169406, \n . 9.89348430986721, 8.87895415563086, 7.80498423995412, 7.36024353757478, \n . 6.41832163610546, 5.42262662899146, 5.36200404353036, 5.95358371195605, \n . 6.29878236791868, 6.63742623905204, 7.62132909828523, 8.00497086038224, \n . 9.12990542683388, 8.98017717120593, 7.18190552906254, 8.03100289870765, \n . 7.466479981918, 7.55489384195548))",
      "3. stop(sprintf(ngettext(N, \"replacement has %d row, data has %d\", \n .     \"replacement has %d rows, data has %d\"), N, n), domain = NA)"
     ]
    }
   ],
   "source": [
    "df <- collect1 <- data.frame(NA,NA,NA,NA,NA,NA)\n",
    "for (i in 1:6) {\n",
    "    x <- cumsum(rnorm(100)) + 10\n",
    "    df[,i] <- x\n",
    "\n",
    "}\n",
    "head(df)"
   ]
  }
 ],
 "metadata": {
  "kernelspec": {
   "display_name": "R",
   "language": "R",
   "name": "ir"
  },
  "language_info": {
   "codemirror_mode": "r",
   "file_extension": ".r",
   "mimetype": "text/x-r-source",
   "name": "R",
   "pygments_lexer": "r",
   "version": "3.5.1"
  }
 },
 "nbformat": 4,
 "nbformat_minor": 2
}
