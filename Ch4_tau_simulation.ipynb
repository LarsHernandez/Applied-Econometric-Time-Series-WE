{
 "cells": [
  {
   "cell_type": "markdown",
   "metadata": {},
   "source": [
    "# Simulating Dickey–Fuller distributions\n",
    "100 samples, can be adjusted"
   ]
  },
  {
   "cell_type": "code",
   "execution_count": 58,
   "metadata": {},
   "outputs": [],
   "source": [
    "library(tidyverse)\n",
    "library(gridExtra) # Arrangning ggplots\n",
    "library(dynlm)\n",
    "\n",
    "theme_set(theme_grey())\n",
    "\n",
    "options(repr.plot.width=8, repr.plot.height=3)"
   ]
  },
  {
   "cell_type": "markdown",
   "metadata": {},
   "source": [
    "## Simulation with lag, drift and trend"
   ]
  },
  {
   "cell_type": "code",
   "execution_count": 3,
   "metadata": {},
   "outputs": [],
   "source": [
    "tau1 <- NA\n",
    "for (i in 1:1000) {\n",
    "    x <- as.ts(cumsum(rnorm(100)))\n",
    "    a <- summary(dynlm(x ~ L(x) + seq_along(x)))\n",
    "    new <- (a$coefficients[\"L(x)\", \"Estimate\"] - 1)/a$coefficients[\"L(x)\", \"Std. Error\"]\n",
    "    tau1[i] <- new\n",
    "}"
   ]
  },
  {
   "cell_type": "markdown",
   "metadata": {},
   "source": [
    "## Simulation with lag and drift"
   ]
  },
  {
   "cell_type": "code",
   "execution_count": 4,
   "metadata": {},
   "outputs": [],
   "source": [
    "tau2 <- NA\n",
    "for (i in 1:1000) {\n",
    "    x <- as.ts(cumsum(rnorm(100)))\n",
    "    a <- summary(dynlm(x ~ L(x)))\n",
    "    new <- (a$coefficients[\"L(x)\", \"Estimate\"] - 1)/a$coefficients[\"L(x)\", \"Std. Error\"]\n",
    "    tau2[i] <- new\n",
    "}"
   ]
  },
  {
   "cell_type": "markdown",
   "metadata": {},
   "source": [
    "## Simulation with lag"
   ]
  },
  {
   "cell_type": "code",
   "execution_count": 5,
   "metadata": {},
   "outputs": [],
   "source": [
    "tau3 <- NA\n",
    "for (i in 1:1000) {\n",
    "    x <- as.ts(cumsum(rnorm(100)))\n",
    "    a <- summary(dynlm(x ~ L(x) + 0))\n",
    "    new <- (a$coefficients[\"L(x)\", \"Estimate\"] - 1)/a$coefficients[\"L(x)\", \"Std. Error\"]\n",
    "    tau3[i] <- new\n",
    "}"
   ]
  },
  {
   "cell_type": "code",
   "execution_count": null,
   "metadata": {},
   "outputs": [],
   "source": []
  },
  {
   "cell_type": "code",
   "execution_count": 113,
   "metadata": {},
   "outputs": [
    {
     "data": {
      "text/html": [
       "<table>\n",
       "<thead><tr><th></th><th scope=col>tau1</th><th scope=col>tau2</th><th scope=col>tau3</th><th scope=col>ndist</th></tr></thead>\n",
       "<tbody>\n",
       "\t<tr><th scope=row>1%</th><td>-3.964999</td><td>-3.575323</td><td>-2.498326</td><td>-2.199623</td></tr>\n",
       "\t<tr><th scope=row>2.5%</th><td>-3.713851</td><td>-3.188845</td><td>-2.231904</td><td>-1.853148</td></tr>\n",
       "\t<tr><th scope=row>5%</th><td>-3.396394</td><td>-2.796412</td><td>-1.869160</td><td>-1.563988</td></tr>\n",
       "</tbody>\n",
       "</table>\n"
      ],
      "text/latex": [
       "\\begin{tabular}{r|llll}\n",
       "  & tau1 & tau2 & tau3 & ndist\\\\\n",
       "\\hline\n",
       "\t1\\% & -3.964999 & -3.575323 & -2.498326 & -2.199623\\\\\n",
       "\t2.5\\% & -3.713851 & -3.188845 & -2.231904 & -1.853148\\\\\n",
       "\t5\\% & -3.396394 & -2.796412 & -1.869160 & -1.563988\\\\\n",
       "\\end{tabular}\n"
      ],
      "text/markdown": [
       "\n",
       "| <!--/--> | tau1 | tau2 | tau3 | ndist | \n",
       "|---|---|---|\n",
       "| 1% | -3.964999 | -3.575323 | -2.498326 | -2.199623 | \n",
       "| 2.5% | -3.713851 | -3.188845 | -2.231904 | -1.853148 | \n",
       "| 5% | -3.396394 | -2.796412 | -1.869160 | -1.563988 | \n",
       "\n",
       "\n"
      ],
      "text/plain": [
       "     tau1      tau2      tau3      ndist    \n",
       "1%   -3.964999 -3.575323 -2.498326 -2.199623\n",
       "2.5% -3.713851 -3.188845 -2.231904 -1.853148\n",
       "5%   -3.396394 -2.796412 -1.869160 -1.563988"
      ]
     },
     "metadata": {},
     "output_type": "display_data"
    }
   ],
   "source": [
    "zndist <- rnorm(1000)\n",
    "ndistq <- quantile(zndist, probs = c(0.01,0.025,0.05))\n",
    "tau1q <- quantile(tau1, probs = c(0.01,0.025,0.05))\n",
    "tau2q <- quantile(tau2, probs = c(0.01,0.025,0.05))\n",
    "tau3q <- quantile(tau3, probs = c(0.01,0.025,0.05))\n",
    "quantiles <- cbind(tau1q,tau2q,tau3q, ndistq)\n",
    "colnames(quantiles) = c(\"tau1\", \"tau2\", \"tau3\", \"ndist\")\n",
    "quantiles"
   ]
  },
  {
   "cell_type": "code",
   "execution_count": 105,
   "metadata": {},
   "outputs": [
    {
     "data": {
      "image/png": "[encoded data removed]",
      "text/plain": [
       "plot without title"
      ]
     },
     "metadata": {},
     "output_type": "display_data"
    }
   ],
   "source": [
    "adf <- data.frame(zndist,tau1,tau2,tau3) %>%\n",
    "  gather(variable, value)\n",
    "\n",
    "p1 <- ggplot(adf, aes(value, fill=variable)) + \n",
    "  geom_histogram(bins=60, aes(y = ..density..)) + \n",
    "  scale_fill_brewer(guide=F, palette=\"YlGnBu\") +\n",
    "  stat_function(fun=dnorm, color=\"#636363\", args=list(mean=0, sd=1)) +\n",
    "  facet_wrap(~variable, nrow=1) + \n",
    "  scale_x_continuous(limits = c(-6, 6)) +\n",
    "  labs(title=\"Simulated distributions\")\n",
    "print(p1)"
   ]
  },
  {
   "cell_type": "code",
   "execution_count": 78,
   "metadata": {},
   "outputs": [
    {
     "data": {
      "image/png": "[encoded data removed]",
      "text/plain": [
       "plot without title"
      ]
     },
     "metadata": {},
     "output_type": "display_data"
    }
   ],
   "source": [
    "df <- data.frame(tau1, tau2, tau3, zndist) %>%\n",
    "  gather(variable, value)\n",
    "\n",
    "p2 <- ggplot(df, aes(value, fill=variable)) + \n",
    "  geom_density(adjust=2, alpha=0.5, color=\"#636363\") + \n",
    "  scale_fill_brewer(name=\"Distribution\", \n",
    "                    labels = c(\"Tau\\n(drift + trend)\", \n",
    "                               \"Tau\\n(drift)\", \n",
    "                               \"Tau\",\n",
    "                               \"Normal\\ndistribution\"), \n",
    "                    palette=\"YlGnBu\",\n",
    "                    direction=1) + \n",
    "  labs(title=\"Dickey Fuller distributions with kernel smoothening\") + \n",
    "  scale_x_continuous(limits = c(-5.4, 5.4), breaks=seq(-5,5,by=1)) +\n",
    "  theme(legend.text=element_text(size=7),\n",
    "        legend.justification = c(1, 1), \n",
    "        legend.box.margin=margin(c(20,20,50,50)),\n",
    "        legend.position = c(1, 1))\n",
    "  print(p2)"
   ]
  },
  {
   "cell_type": "markdown",
   "metadata": {},
   "source": [
    "## Simulating with matrix formulas (significaltly faster)"
   ]
  },
  {
   "cell_type": "code",
   "execution_count": 63,
   "metadata": {},
   "outputs": [
    {
     "data": {
      "text/html": [
       "<table>\n",
       "<thead><tr><th></th><th scope=col>.</th></tr></thead>\n",
       "<tbody>\n",
       "\t<tr><th scope=row>1%</th><td>-3.487272</td></tr>\n",
       "\t<tr><th scope=row>2.5%</th><td>-3.162407</td></tr>\n",
       "\t<tr><th scope=row>5%</th><td>-2.894157</td></tr>\n",
       "</tbody>\n",
       "</table>\n"
      ],
      "text/latex": [
       "\\begin{tabular}{r|l}\n",
       "  & .\\\\\n",
       "\\hline\n",
       "\t1\\% & -3.487272\\\\\n",
       "\t2.5\\% & -3.162407\\\\\n",
       "\t5\\% & -2.894157\\\\\n",
       "\\end{tabular}\n"
      ],
      "text/markdown": [
       "\n",
       "| <!--/--> | . | \n",
       "|---|---|---|\n",
       "| 1% | -3.487272 | \n",
       "| 2.5% | -3.162407 | \n",
       "| 5% | -2.894157 | \n",
       "\n",
       "\n"
      ],
      "text/plain": [
       "     .        \n",
       "1%   -3.487272\n",
       "2.5% -3.162407\n",
       "5%   -2.894157"
      ]
     },
     "metadata": {},
     "output_type": "display_data"
    }
   ],
   "source": [
    "T = 100\n",
    "df <- rep(NA, 10000)\n",
    "\n",
    "for (i in 1:10000) {\n",
    "yt <- cumsum(rnorm(T))\n",
    "X <- cbind(1,yt[-T])\n",
    "beta <- solve(t(X) %*% X) %*% t(X) %*% yt[-1] \n",
    "ssr <- sum((yt[-1] - X %*% beta)^2)\n",
    "se <- sqrt(ssr / (T-3)) / sqrt(sum((X[,2] - mean(X[,2]))^2))\n",
    "\n",
    "df[i] <- (beta[2] - 1) / se\n",
    "}\n",
    "\n",
    "df %>%\n",
    "  quantile(probs = c(0.01, 0.025, 0.05)) %>%\n",
    "  as.data.frame()"
   ]
  }
 ],
 "metadata": {
  "kernelspec": {
   "display_name": "R",
   "language": "R",
   "name": "ir"
  },
  "language_info": {
   "codemirror_mode": "r",
   "file_extension": ".r",
   "mimetype": "text/x-r-source",
   "name": "R",
   "pygments_lexer": "r",
   "version": "3.5.1"
  }
 },
 "nbformat": 4,
 "nbformat_minor": 2
}
