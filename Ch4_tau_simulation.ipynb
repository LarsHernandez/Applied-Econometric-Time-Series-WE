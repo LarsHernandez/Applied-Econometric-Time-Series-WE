{
 "cells": [
  {
   "cell_type": "markdown",
   "metadata": {},
   "source": [
    "# Simulating Dickey–Fuller distributions"
   ]
  },
  {
   "cell_type": "code",
   "execution_count": 17,
   "metadata": {},
   "outputs": [],
   "source": [
    "library(tidyverse)\n",
    "library(dynlm)\n",
    "library(car) \n",
    "\n",
    "options(repr.plot.width=8, repr.plot.height=3)"
   ]
  },
  {
   "cell_type": "markdown",
   "metadata": {},
   "source": [
    "# Simulations\n",
    "First number of simulations should be set sufficiently high, this should be several thousand since we're not estimating the mean but the upper and lower quantiles. This is computationally heavy and therefore start with 1000, which should be <5 min. \n",
    "\n",
    "Sample size should be set according to the dataset\n",
    "$$\n",
    "\\begin{aligned}\n",
    "\\Delta y_t = a_0 + \\gamma y_{t-1} + a_2t + \\varepsilon_t \\qquad \\qquad\n",
    "\\gamma &= 0 \\qquad \\tau_1 \\\\\n",
    "a_2 = \\gamma &= 0 \\qquad \\phi_3 \\\\\n",
    "a_0 = a_2 = \\gamma &= 0 \\qquad \\phi_2 \\\\\n",
    "\\\\\n",
    "\\Delta y_t = a_0 + \\gamma y_{t-1} + \\varepsilon_t \\qquad \\qquad\n",
    "\\gamma &= 0 \\qquad \\tau_2 \\\\\n",
    "a_0 = \\gamma  &= 0 \\qquad \\phi_1 \\\\\n",
    "\\\\\n",
    "\\Delta y_t = \\gamma y_{t-1} + \\varepsilon_t \\qquad \\qquad\n",
    "\\gamma &= 0 \\qquad \\tau_3 \\\\\n",
    "\\end{aligned}\n",
    "$$"
   ]
  },
  {
   "cell_type": "code",
   "execution_count": 50,
   "metadata": {},
   "outputs": [],
   "source": [
    "nsim <- 1000\n",
    "nsample <- 100\n",
    "\n",
    "subt <- paste(nsim, \"simulations  -\", nsample,\"samples in each\") # for use in plotting"
   ]
  },
  {
   "cell_type": "markdown",
   "metadata": {},
   "source": [
    "### $\\tau_1$ - simulation with gamma, drift and trend"
   ]
  },
  {
   "cell_type": "code",
   "execution_count": 19,
   "metadata": {},
   "outputs": [],
   "source": [
    "tau1 <- NA\n",
    "for (i in 1:nsim) {\n",
    "    x <- as.ts(cumsum(rnorm(nsample)))\n",
    "    a <- summary(dynlm(x ~ L(x) + seq_along(x)))\n",
    "    new <- (a$coefficients[\"L(x)\", \"Estimate\"] - 1)/a$coefficients[\"L(x)\", \"Std. Error\"]\n",
    "    tau1[i] <- new\n",
    "}"
   ]
  },
  {
   "cell_type": "markdown",
   "metadata": {},
   "source": [
    "### $\\tau_2$ - simulation with gamma and drift"
   ]
  },
  {
   "cell_type": "code",
   "execution_count": 20,
   "metadata": {},
   "outputs": [],
   "source": [
    "tau2 <- NA\n",
    "for (i in 1:nsim) {\n",
    "    x <- as.ts(cumsum(rnorm(nsample)))\n",
    "    a <- summary(dynlm(x ~ L(x)))\n",
    "    new <- (a$coefficients[\"L(x)\", \"Estimate\"] - 1)/a$coefficients[\"L(x)\", \"Std. Error\"]\n",
    "    tau2[i] <- new\n",
    "}"
   ]
  },
  {
   "cell_type": "markdown",
   "metadata": {},
   "source": [
    "### $\\tau_3$ - simulation with gamma"
   ]
  },
  {
   "cell_type": "code",
   "execution_count": 21,
   "metadata": {},
   "outputs": [],
   "source": [
    "tau3 <- NA\n",
    "for (i in 1:nsim) {\n",
    "    x <- as.ts(cumsum(rnorm(nsample)))\n",
    "    a <- summary(dynlm(x ~ L(x) + 0))\n",
    "    new <- (a$coefficients[\"L(x)\", \"Estimate\"] - 1)/a$coefficients[\"L(x)\", \"Std. Error\"]\n",
    "    tau3[i] <- new\n",
    "}"
   ]
  },
  {
   "cell_type": "markdown",
   "metadata": {},
   "source": [
    "### $\\phi_1$ - F-test of gamma and drift = 0 for $\\tau_2$ "
   ]
  },
  {
   "cell_type": "code",
   "execution_count": 22,
   "metadata": {},
   "outputs": [],
   "source": [
    "phi1 <- NA\n",
    "for (i in 1:nsim) {\n",
    "    x <- as.ts(cumsum(rnorm(nsample)))\n",
    "    reg <- dynlm(x ~ L(x))\n",
    "    new <- linearHypothesis(reg, c(\"L(x) = 1\", \"(Intercept) = 0\"), test=\"F\")$F[2]\n",
    "    phi1[i] <- new\n",
    "}"
   ]
  },
  {
   "cell_type": "markdown",
   "metadata": {},
   "source": [
    "### $\\phi_2$ - F-test of gamma, drift and trend = 0 for $\\tau_1$ "
   ]
  },
  {
   "cell_type": "code",
   "execution_count": 23,
   "metadata": {},
   "outputs": [],
   "source": [
    "phi2 <- NA\n",
    "for (i in 1:nsim) {\n",
    "    x <- as.ts(cumsum(rnorm(nsample)))\n",
    "    reg <- dynlm(x ~ L(x) + seq_along(x))\n",
    "    new <- linearHypothesis(reg, c(\"L(x) = 1\", \"seq_along(x) = 0\", \"(Intercept) = 0\"), test=\"F\")$F[2]\n",
    "    phi2[i] <- new\n",
    "}"
   ]
  },
  {
   "cell_type": "markdown",
   "metadata": {},
   "source": [
    "### $\\phi_3$ - F-test of gamma and drift = 0 for $\\tau_1$ "
   ]
  },
  {
   "cell_type": "code",
   "execution_count": 24,
   "metadata": {},
   "outputs": [],
   "source": [
    "phi3 <- NA\n",
    "for (i in 1:nsim) {\n",
    "    x <- as.ts(cumsum(rnorm(nsample)))\n",
    "    reg <- dynlm(x ~ L(x) + seq_along(x))\n",
    "    new <- linearHypothesis(reg, c(\"L(x) = 1\", \"seq_along(x) = 0\"), test=\"F\")$F[2]\n",
    "    phi3[i] <- new\n",
    "}"
   ]
  },
  {
   "cell_type": "markdown",
   "metadata": {},
   "source": [
    "# Critical values for Dickey Fuller"
   ]
  },
  {
   "cell_type": "code",
   "execution_count": 53,
   "metadata": {},
   "outputs": [
    {
     "data": {
      "text/html": [
       "<table>\n",
       "<thead><tr><th></th><th scope=col>Tau 1</th><th scope=col>Tau 2</th><th scope=col>Tau 3</th><th scope=col>Normal Dist</th><th scope=col>Phi 1</th><th scope=col>Phi 2</th><th scope=col>Phi 3</th></tr></thead>\n",
       "<tbody>\n",
       "\t<tr><th scope=row>1%</th><td>-4.022319</td><td>-3.499848</td><td>-2.688977</td><td>-2.074484</td><td>6.592231 </td><td>6.569634 </td><td>8.709823 </td></tr>\n",
       "\t<tr><th scope=row>2.5%</th><td>-3.731017</td><td>-3.181325</td><td>-2.371149</td><td>-1.837754</td><td>5.288349 </td><td>5.444605 </td><td>7.489089 </td></tr>\n",
       "\t<tr><th scope=row>5%</th><td>-3.482826</td><td>-2.904652</td><td>-1.991103</td><td>-1.480349</td><td>4.651711 </td><td>4.783344 </td><td>6.401891 </td></tr>\n",
       "</tbody>\n",
       "</table>\n"
      ],
      "text/latex": [
       "\\begin{tabular}{r|lllllll}\n",
       "  & Tau 1 & Tau 2 & Tau 3 & Normal Dist & Phi 1 & Phi 2 & Phi 3\\\\\n",
       "\\hline\n",
       "\t1\\% & -4.022319 & -3.499848 & -2.688977 & -2.074484 & 6.592231  & 6.569634  & 8.709823 \\\\\n",
       "\t2.5\\% & -3.731017 & -3.181325 & -2.371149 & -1.837754 & 5.288349  & 5.444605  & 7.489089 \\\\\n",
       "\t5\\% & -3.482826 & -2.904652 & -1.991103 & -1.480349 & 4.651711  & 4.783344  & 6.401891 \\\\\n",
       "\\end{tabular}\n"
      ],
      "text/markdown": [
       "\n",
       "| <!--/--> | Tau 1 | Tau 2 | Tau 3 | Normal Dist | Phi 1 | Phi 2 | Phi 3 | \n",
       "|---|---|---|\n",
       "| 1% | -4.022319 | -3.499848 | -2.688977 | -2.074484 | 6.592231  | 6.569634  | 8.709823  | \n",
       "| 2.5% | -3.731017 | -3.181325 | -2.371149 | -1.837754 | 5.288349  | 5.444605  | 7.489089  | \n",
       "| 5% | -3.482826 | -2.904652 | -1.991103 | -1.480349 | 4.651711  | 4.783344  | 6.401891  | \n",
       "\n",
       "\n"
      ],
      "text/plain": [
       "     Tau 1     Tau 2     Tau 3     Normal Dist Phi 1    Phi 2    Phi 3   \n",
       "1%   -4.022319 -3.499848 -2.688977 -2.074484   6.592231 6.569634 8.709823\n",
       "2.5% -3.731017 -3.181325 -2.371149 -1.837754   5.288349 5.444605 7.489089\n",
       "5%   -3.482826 -2.904652 -1.991103 -1.480349   4.651711 4.783344 6.401891"
      ]
     },
     "metadata": {},
     "output_type": "display_data"
    }
   ],
   "source": [
    "zndist <- rnorm(nsim)\n",
    "\n",
    "ndistq <- quantile(zndist, probs = c(0.01,0.025,0.05))\n",
    "tau1q <- quantile(tau1, probs = c(0.01,0.025,0.05))\n",
    "tau2q <- quantile(tau2, probs = c(0.01,0.025,0.05))\n",
    "tau3q <- quantile(tau3, probs = c(0.01,0.025,0.05))\n",
    "phi1q <- quantile(phi1, probs = c(0.99,0.975,0.95))\n",
    "phi2q <- quantile(phi2, probs = c(0.99,0.975,0.95))\n",
    "phi3q <- quantile(phi3, probs = c(0.99,0.975,0.95))\n",
    "\n",
    "quantiles <- cbind(tau1q, tau2q, tau3q, ndistq, phi1q, phi2q, phi3q)\n",
    "colnames(quantiles) = c(\"Tau 1\", \"Tau 2\", \"Tau 3\", \"Normal Dist\", \"Phi 1\", \"Phi 2\", \"Phi 3\")\n",
    "quantiles"
   ]
  },
  {
   "cell_type": "markdown",
   "metadata": {},
   "source": [
    "# Visualisation of distributions"
   ]
  },
  {
   "cell_type": "code",
   "execution_count": 51,
   "metadata": {},
   "outputs": [
    {
     "data": {
      "image/png": "[encoded data removed]",
      "text/plain": [
       "plot without title"
      ]
     },
     "metadata": {},
     "output_type": "display_data"
    },
    {
     "data": {
      "image/png": "[encoded data removed]",
      "text/plain": [
       "plot without title"
      ]
     },
     "metadata": {},
     "output_type": "display_data"
    }
   ],
   "source": [
    "adf <- data.frame(zndist,tau1,tau2,tau3) %>%\n",
    "  gather(variable, value)\n",
    "\n",
    "p1 <- ggplot(adf, aes(value, fill=variable)) + \n",
    "  geom_histogram(bins=60, aes(y = ..density..)) + \n",
    "  scale_fill_brewer(guide=F, palette=\"YlGnBu\") +\n",
    "  stat_function(fun=dnorm, color=\"#636363\", args=list(mean=0, sd=1)) +\n",
    "  facet_wrap(~variable, nrow=1) + \n",
    "  scale_x_continuous(limits = c(-6, 6)) +\n",
    "  labs(title=\"Simulated distributions\", subtitle = subt, x=\"\")\n",
    "\n",
    "df <- data.frame(tau1, tau2, tau3, zndist) %>%\n",
    "  gather(variable, value)\n",
    "\n",
    "p2 <- ggplot(df, aes(value, fill=variable)) + \n",
    "  geom_density(adjust=2, alpha=0.5, color=\"#636363\") + \n",
    "  scale_fill_brewer(name=\"Distribution of t-tests\", \n",
    "                    labels = c(\"Tau\\n(gamma + drift + trend)\", \n",
    "                               \"Tau\\n(gamma + drift)\", \n",
    "                               \"Tau\\n(gamma)\",\n",
    "                               \"Normal\\ndistribution\"), \n",
    "                    palette=\"YlGnBu\",\n",
    "                    direction=1) + \n",
    "  labs(title=\"Dickey Fuller Tau distributions with kernel smoothening\", subtitle=subt, x=\"\") + \n",
    "  scale_x_continuous(limits = c(-5.4, 5.4), breaks=seq(-5,5,by=1)) +\n",
    "  theme(legend.text=element_text(size=7),\n",
    "        legend.justification = c(1, 1), \n",
    "        legend.box.margin=margin(c(20,20,50,50)),\n",
    "        legend.position = c(1, 1))\n",
    "\n",
    "print(p1) \n",
    "print(p2)"
   ]
  },
  {
   "cell_type": "code",
   "execution_count": 47,
   "metadata": {},
   "outputs": [
    {
     "data": {
      "image/png": "[encoded data removed]",
      "text/plain": [
       "plot without title"
      ]
     },
     "metadata": {},
     "output_type": "display_data"
    },
    {
     "data": {
      "image/png": "[encoded data removed]",
      "text/plain": [
       "plot without title"
      ]
     },
     "metadata": {},
     "output_type": "display_data"
    }
   ],
   "source": [
    "adf <- data.frame(phi1,phi2,phi3, zndist) %>%\n",
    "  gather(variable, value)\n",
    "\n",
    "p1 <- ggplot(adf, aes(value, fill=variable)) + \n",
    "  geom_histogram(bins=60, aes(y = ..density..)) + \n",
    "  scale_fill_brewer(guide=F, palette=\"YlOrBr\") +\n",
    "  stat_function(fun=dnorm, color=\"#636363\", args=list(mean=0, sd=1)) +\n",
    "  facet_wrap(~variable, nrow=1) + \n",
    "  scale_x_continuous(limits = c(-10, 10)) +\n",
    "  labs(title=\"Simulated distributions\", subtitle=subt, x=\"\")\n",
    "\n",
    "df <- data.frame(phi1, phi2, phi3, zndist) %>%\n",
    "  gather(variable, value)\n",
    "\n",
    "p2 <- ggplot(df, aes(value, fill=variable)) + \n",
    "  geom_density(adjust=2, alpha=0.5, color=\"#636363\") + \n",
    "  scale_fill_brewer(name=\"Distribution of F-tests\", \n",
    "                    labels = c(\"Phi 1 (drift + trend)\\n(gamma = drift = 0)\", \n",
    "                               \"Phi 2 (drift + trend)\\n(gamma = drift = trend = 0)\", \n",
    "                               \"Phi 3 (drift)\\n(gamma = trend = 0)\",\n",
    "                               \"Normal\\ndistribution\"), \n",
    "                    palette=\"YlOrBr\",\n",
    "                    direction=1) + \n",
    "  labs(title=\"Dickey Fuller Phi distributions with kernel smoothening\", subtitle=subt, x=\"\") + \n",
    "  scale_x_continuous(limits = c(-10, 10), breaks=seq(-10,10,by=2)) +\n",
    "  theme(legend.text=element_text(size=7),\n",
    "        legend.justification = c(1, 1), \n",
    "        legend.box.margin=margin(c(20,20,50,50)),\n",
    "        legend.position = c(0.3, 1))\n",
    "\n",
    "suppressWarnings(print(p1))\n",
    "suppressWarnings(print(p2))"
   ]
  },
  {
   "cell_type": "markdown",
   "metadata": {},
   "source": [
    "# Simulating with matrix formulas (significaltly faster) (not my code)"
   ]
  },
  {
   "cell_type": "code",
   "execution_count": 31,
   "metadata": {},
   "outputs": [
    {
     "data": {
      "text/html": [
       "<table>\n",
       "<thead><tr><th></th><th scope=col>.</th></tr></thead>\n",
       "<tbody>\n",
       "\t<tr><th scope=row>1%</th><td>-3.545376</td></tr>\n",
       "\t<tr><th scope=row>2.5%</th><td>-3.209383</td></tr>\n",
       "\t<tr><th scope=row>5%</th><td>-2.903251</td></tr>\n",
       "</tbody>\n",
       "</table>\n"
      ],
      "text/latex": [
       "\\begin{tabular}{r|l}\n",
       "  & .\\\\\n",
       "\\hline\n",
       "\t1\\% & -3.545376\\\\\n",
       "\t2.5\\% & -3.209383\\\\\n",
       "\t5\\% & -2.903251\\\\\n",
       "\\end{tabular}\n"
      ],
      "text/markdown": [
       "\n",
       "| <!--/--> | . | \n",
       "|---|---|---|\n",
       "| 1% | -3.545376 | \n",
       "| 2.5% | -3.209383 | \n",
       "| 5% | -2.903251 | \n",
       "\n",
       "\n"
      ],
      "text/plain": [
       "     .        \n",
       "1%   -3.545376\n",
       "2.5% -3.209383\n",
       "5%   -2.903251"
      ]
     },
     "metadata": {},
     "output_type": "display_data"
    }
   ],
   "source": [
    "T = 100\n",
    "df <- rep(NA, 10000)\n",
    "\n",
    "for (i in 1:10000) {\n",
    "yt <- cumsum(rnorm(T))\n",
    "X <- cbind(1,yt[-T])\n",
    "beta <- solve(t(X) %*% X) %*% t(X) %*% yt[-1] \n",
    "ssr <- sum((yt[-1] - X %*% beta)^2)\n",
    "se <- sqrt(ssr / (T-3)) / sqrt(sum((X[,2] - mean(X[,2]))^2))\n",
    "\n",
    "df[i] <- (beta[2] - 1) / se\n",
    "}\n",
    "\n",
    "df %>%\n",
    "  quantile(probs = c(0.01, 0.025, 0.05)) %>%\n",
    "  as.data.frame()"
   ]
  }
 ],
 "metadata": {
  "kernelspec": {
   "display_name": "R",
   "language": "R",
   "name": "ir"
  },
  "language_info": {
   "codemirror_mode": "r",
   "file_extension": ".r",
   "mimetype": "text/x-r-source",
   "name": "R",
   "pygments_lexer": "r",
   "version": "3.5.1"
  }
 },
 "nbformat": 4,
 "nbformat_minor": 2
}
