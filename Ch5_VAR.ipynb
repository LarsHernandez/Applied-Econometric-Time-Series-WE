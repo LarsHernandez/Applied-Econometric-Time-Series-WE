{
 "cells": [
  {
   "cell_type": "markdown",
   "metadata": {},
   "source": [
    "# Chapter 5: VAR models"
   ]
  },
  {
   "cell_type": "code",
   "execution_count": 141,
   "metadata": {},
   "outputs": [],
   "source": [
    "library(tidyverse) # readr, ggplot, dplyr, ...\n",
    "library(gridExtra) # Arrangning ggplots\n",
    "library(readxl)    # Loading excel\n",
    "library(repr)      # Resizing the plots in jupyter\n",
    "library(rugarch)   # For ARCH and GARCH models\n",
    "library(dynlm)     # Lagged linear models\n",
    "library(urca)      # Dick Fuller test\n",
    "library(car)       # Linear hyphothesis testing\n",
    "library(tseries)   # adf-test\n",
    "library(vars)      # VAR models\n",
    "library(zoo)       # Convert quarters to date\n",
    "library(forecast)  \n",
    "\n",
    "options(repr.plot.width=8, repr.plot.height=2.5)\n",
    "\n",
    "setwd(\"C:/Users/larsn/Documents/GitHub/Applied-Econometric-Time-Series-WE\")"
   ]
  },
  {
   "cell_type": "markdown",
   "metadata": {},
   "source": [
    "# Exercise 1: Intervention analysis\n",
    "Consider exercise 2a and 2b in chapter 5. Moreover, to get some feeling ofwhat the apparent shift in 1997Q4 does to the slope parameter, consider first a naive AR(1) without any dummy and compare this with an AR(1) including the dummy"
   ]
  },
  {
   "cell_type": "code",
   "execution_count": 232,
   "metadata": {},
   "outputs": [
    {
     "data": {},
     "metadata": {},
     "output_type": "display_data"
    },
    {
     "data": {
      "image/png": "[encoded data removed]",
      "text/plain": [
       "plot without title"
      ]
     },
     "metadata": {},
     "output_type": "display_data"
    }
   ],
   "source": [
    "terror <- read_delim(\"~/GitHub/Applied-Econometric-Time-Series-WE/Data/Terrorism.csv\", \n",
    "                        \";\", escape_double = FALSE, col_types = cols(ENTRY = col_character()), \n",
    "                        trim_ws = TRUE)\n",
    "\n",
    "terror$date <- as.Date(as.yearqtr(terror$ENTRY, format = \"%Y-%q\"))\n",
    "\n",
    "tt <- gather(terror, variable, value, -date, -ENTRY)\n",
    "\n",
    "ggplot(tt, aes(date, value, linetype=variable)) + \n",
    "  geom_line()"
   ]
  },
  {
   "cell_type": "code",
   "execution_count": 194,
   "metadata": {},
   "outputs": [
    {
     "data": {
      "image/png": "[encoded data removed]",
      "text/plain": [
       "Plot with title \"Series  y_post\""
      ]
     },
     "metadata": {},
     "output_type": "display_data"
    }
   ],
   "source": [
    "terror_pre_97  <- subset(terror, date < as.Date(\"1998-01-01\"))\n",
    "terror_post_97 <- subset(terror, date >= as.Date(\"1998-01-01\"))\n",
    "\n",
    "y_pre <- terror_pre_97$Transnational\n",
    "y_post <- terror_post_97$Transnational\n",
    "\n",
    "par(mfrow=c(1,4))\n",
    "Acf(y_pre)\n",
    "Pacf(y_pre)\n",
    "Acf(y_post)\n",
    "Pacf(y_post)"
   ]
  },
  {
   "cell_type": "markdown",
   "metadata": {},
   "source": [
    "It looks like an AR(2) model would fit the pre period pretty well, we check with auto.arima"
   ]
  },
  {
   "cell_type": "code",
   "execution_count": 193,
   "metadata": {},
   "outputs": [
    {
     "data": {
      "text/plain": [
       "Series: y_pre \n",
       "ARIMA(2,1,1) \n",
       "\n",
       "Coefficients:\n",
       "         ar1     ar2      ma1\n",
       "      0.3226  0.4189  -0.9663\n",
       "s.e.  0.0976  0.0944   0.0428\n",
       "\n",
       "sigma^2 estimated as 100.2:  log likelihood=-412.18\n",
       "AIC=832.36   AICc=832.73   BIC=843.19"
      ]
     },
     "metadata": {},
     "output_type": "display_data"
    },
    {
     "data": {
      "text/plain": [
       "Series: y_post \n",
       "ARIMA(1,0,1) with non-zero mean \n",
       "\n",
       "Coefficients:\n",
       "          ar1     ma1     mean\n",
       "      -0.6286  0.9336  14.3899\n",
       "s.e.   0.1335  0.0639   0.9220\n",
       "\n",
       "sigma^2 estimated as 33.4:  log likelihood=-163.86\n",
       "AIC=335.72   AICc=336.57   BIC=343.52"
      ]
     },
     "metadata": {},
     "output_type": "display_data"
    }
   ],
   "source": [
    "auto.arima(y_pre)\n",
    "auto.arima(y_post)"
   ]
  },
  {
   "cell_type": "code",
   "execution_count": 260,
   "metadata": {},
   "outputs": [
    {
     "data": {
      "text/plain": [
       "\n",
       "Call:\n",
       "lm(formula = terror$Transnational ~ terror$z)\n",
       "\n",
       "Coefficients:\n",
       "(Intercept)     terror$z  \n",
       "      29.09       -14.70  \n"
      ]
     },
     "metadata": {},
     "output_type": "display_data"
    },
    {
     "data": {
      "text/plain": [
       "\n",
       "Call:\n",
       "arima(x = terror$Transnational, order = c(2, 0, 0), xreg = terror$z, method = \"CSS\")\n",
       "\n",
       "Coefficients:\n",
       "         ar1     ar2  intercept  terror$z\n",
       "      0.3247  0.3867    30.2980  -16.1052\n",
       "s.e.  0.0720  0.0713     2.8463    4.4009\n",
       "\n",
       "sigma^2 estimated as 78.32:  part log likelihood = -590.29"
      ]
     },
     "metadata": {},
     "output_type": "display_data"
    },
    {
     "data": {
      "text/plain": [
       "\n",
       "Time series regression with \"ts\" data:\n",
       "Start = 3, End = 164\n",
       "\n",
       "Call:\n",
       "dynlm(formula = terror$Transnational ~ L(terror$Transnational, \n",
       "    1) + L(terror$Transnational, 2) + terror$z)\n",
       "\n",
       "Coefficients:\n",
       "               (Intercept)  L(terror$Transnational, 1)  \n",
       "                    9.1018                      0.3231  \n",
       "L(terror$Transnational, 2)                    terror$z  \n",
       "                    0.3740                     -5.0028  \n"
      ]
     },
     "metadata": {},
     "output_type": "display_data"
    }
   ],
   "source": [
    "terror$z <- ifelse(terror$date >= as.Date(\"1998-01-01\"), 1,0)\n",
    "\n",
    "m1 <- lm(terror$Transnational ~ terror$z)\n",
    "m1\n",
    "\n",
    "m2 <- arima(terror$Transnational, order=c(2,0,0), xreg=terror$z, method=\"CSS\")\n",
    "m2\n",
    "\n",
    "terror$z <- as.ts(terror$z)\n",
    "terror$Transnational <- as.ts(terror$Transnational)\n",
    "\n",
    "m3 <- dynlm(terror$Transnational ~ L(terror$Transnational,1) + L(terror$Transnational,2) + terror$z)\n",
    "m3"
   ]
  },
  {
   "cell_type": "code",
   "execution_count": 261,
   "metadata": {},
   "outputs": [
    {
     "data": {
      "image/png": "[encoded data removed]",
      "text/plain": [
       "Plot with title \"Series  terror$Transnational\""
      ]
     },
     "metadata": {},
     "output_type": "display_data"
    }
   ],
   "source": [
    "par(mfrow=c(1,2))\n",
    "Acf(terror$Transnational)\n",
    "Pacf(terror$Transnational)"
   ]
  },
  {
   "cell_type": "code",
   "execution_count": 262,
   "metadata": {},
   "outputs": [
    {
     "data": {
      "text/plain": [
       "\n",
       "Call:\n",
       "arima(x = terror$Transnational, order = c(1, 0, 1), xreg = terror$z)\n",
       "\n",
       "Coefficients:\n",
       "         ar1      ma1  intercept  terror$z\n",
       "      0.8782  -0.4828    28.3536  -14.6235\n",
       "s.e.  0.0527   0.0862     3.3512    5.0096\n",
       "\n",
       "sigma^2 estimated as 82.14:  log likelihood = -594.51,  aic = 1199.02"
      ]
     },
     "metadata": {},
     "output_type": "display_data"
    }
   ],
   "source": [
    "m4 <- arima(terror$Transnational, order=c(1,0,1), xreg=terror$z)\n",
    "m4"
   ]
  },
  {
   "cell_type": "code",
   "execution_count": 263,
   "metadata": {},
   "outputs": [
    {
     "data": {
      "text/html": [
       "1275.32348715623"
      ],
      "text/latex": [
       "1275.32348715623"
      ],
      "text/markdown": [
       "1275.32348715623"
      ],
      "text/plain": [
       "[1] 1275.323"
      ]
     },
     "metadata": {},
     "output_type": "display_data"
    },
    {
     "data": {
      "text/html": [],
      "text/latex": [],
      "text/markdown": [],
      "text/plain": [
       "numeric(0)"
      ]
     },
     "metadata": {},
     "output_type": "display_data"
    },
    {
     "data": {
      "text/html": [
       "1179.0458017618"
      ],
      "text/latex": [
       "1179.0458017618"
      ],
      "text/markdown": [
       "1179.0458017618"
      ],
      "text/plain": [
       "[1] 1179.046"
      ]
     },
     "metadata": {},
     "output_type": "display_data"
    },
    {
     "data": {
      "text/html": [
       "1199.02266160316"
      ],
      "text/latex": [
       "1199.02266160316"
      ],
      "text/markdown": [
       "1199.02266160316"
      ],
      "text/plain": [
       "[1] 1199.023"
      ]
     },
     "metadata": {},
     "output_type": "display_data"
    }
   ],
   "source": [
    "AIC(m1)\n",
    "AIC(m2)\n",
    "AIC(m3)\n",
    "AIC(m4)"
   ]
  },
  {
   "cell_type": "markdown",
   "metadata": {},
   "source": [
    "## The effect of the dummy"
   ]
  },
  {
   "cell_type": "code",
   "execution_count": 264,
   "metadata": {},
   "outputs": [
    {
     "data": {
      "text/plain": [
       "\n",
       "Time series regression with \"ts\" data:\n",
       "Start = 2, End = 164\n",
       "\n",
       "Call:\n",
       "dynlm(formula = terror$Transnational ~ L(terror$Transnational))\n",
       "\n",
       "Coefficients:\n",
       "            (Intercept)  L(terror$Transnational)  \n",
       "                 8.3371                   0.6621  \n"
      ]
     },
     "metadata": {},
     "output_type": "display_data"
    },
    {
     "data": {
      "text/plain": [
       "\n",
       "Time series regression with \"ts\" data:\n",
       "Start = 2, End = 164\n",
       "\n",
       "Call:\n",
       "dynlm(formula = terror$Transnational ~ L(terror$Transnational) + \n",
       "    terror$z)\n",
       "\n",
       "Coefficients:\n",
       "            (Intercept)  L(terror$Transnational)                 terror$z  \n",
       "                13.5617                   0.5401                  -7.0299  \n"
      ]
     },
     "metadata": {},
     "output_type": "display_data"
    }
   ],
   "source": [
    "dynlm(terror$Transnational ~ L(terror$Transnational))\n",
    "dynlm(terror$Transnational ~ L(terror$Transnational) + terror$z)"
   ]
  },
  {
   "cell_type": "markdown",
   "metadata": {},
   "source": [
    "# Exercise 2: Consider the following two-dimensional VAR(1) \n",
    "where $y_t$ and $u_t$ is a vector\n",
    "\n",
    "$$y_t = \n",
    "\\begin{bmatrix} 0.02 \\\\ 0.03 \\end{bmatrix}\n",
    "+\n",
    "\\begin{bmatrix} 0.5 & 0.1 \\\\ 0.4 & 0.5 \\end{bmatrix}\n",
    "y_{t-1}+\n",
    "\\begin{bmatrix} 0 & 0 \\\\ 0.25 & 0 \\end{bmatrix}\n",
    "y_{t-2} + u_t$$\n",
    "\n",
    "\n",
    "Specify each element of yt as a single equation proces. Show that the VAR is stationary. Tip: write up the companion matrix. The eigen-\n",
    "values are complex; see the handout on the unit circle for a graphical illustration or the use of the modulus."
   ]
  },
  {
   "cell_type": "markdown",
   "metadata": {},
   "source": [
    "$$a_t = 0.02 + 0.5a_{t-1} + 0.1b_{t-1} + ua_t $$\n",
    "\n",
    "$$b_t = 0.03 + 0.4a_{t-1} + 0.5b_{t-1} + 0.25a_{t-2} + ua_t $$"
   ]
  },
  {
   "cell_type": "markdown",
   "metadata": {},
   "source": [
    "\\begin{bmatrix} \n",
    "0.5 & 0.1 & 0 & 0 \\\\ \n",
    "0.4 & 0.5 & 0.25 & 0 \\\\\n",
    "1 & 0 & 0 & 0 \\\\\n",
    "0 & 1 & 0 & 0 \\\\\n",
    "\\end{bmatrix}"
   ]
  },
  {
   "cell_type": "code",
   "execution_count": 164,
   "metadata": {},
   "outputs": [
    {
     "data": {
      "text/html": [
       "<table>\n",
       "<tbody>\n",
       "\t<tr><td>0.5 </td><td>0.1 </td><td>0.00</td><td>0   </td></tr>\n",
       "\t<tr><td>0.4 </td><td>0.5 </td><td>0.25</td><td>0   </td></tr>\n",
       "\t<tr><td>1.0 </td><td>0.0 </td><td>0.00</td><td>0   </td></tr>\n",
       "\t<tr><td>0.0 </td><td>1.0 </td><td>0.00</td><td>0   </td></tr>\n",
       "</tbody>\n",
       "</table>\n"
      ],
      "text/latex": [
       "\\begin{tabular}{llll}\n",
       "\t 0.5  & 0.1  & 0.00 & 0   \\\\\n",
       "\t 0.4  & 0.5  & 0.25 & 0   \\\\\n",
       "\t 1.0  & 0.0  & 0.00 & 0   \\\\\n",
       "\t 0.0  & 1.0  & 0.00 & 0   \\\\\n",
       "\\end{tabular}\n"
      ],
      "text/markdown": [
       "\n",
       "| 0.5  | 0.1  | 0.00 | 0    | \n",
       "| 0.4  | 0.5  | 0.25 | 0    | \n",
       "| 1.0  | 0.0  | 0.00 | 0    | \n",
       "| 0.0  | 1.0  | 0.00 | 0    | \n",
       "\n",
       "\n"
      ],
      "text/plain": [
       "     [,1] [,2] [,3] [,4]\n",
       "[1,] 0.5  0.1  0.00 0   \n",
       "[2,] 0.4  0.5  0.25 0   \n",
       "[3,] 1.0  0.0  0.00 0   \n",
       "[4,] 0.0  1.0  0.00 0   "
      ]
     },
     "metadata": {},
     "output_type": "display_data"
    }
   ],
   "source": [
    "companion <- t(matrix(c(0.5,0.1,0,0,0.4,0.5,0.25,0,1,0,0,0,0,1,0,0), nrow=4))\n",
    "companion"
   ]
  },
  {
   "cell_type": "code",
   "execution_count": 167,
   "metadata": {},
   "outputs": [
    {
     "data": {
      "text/html": [
       "<ol class=list-inline>\n",
       "\t<li>0.769256241922816+0i</li>\n",
       "\t<li>0.115371879038592+0.138521671017581i</li>\n",
       "\t<li>0.115371879038592-0.138521671017581i</li>\n",
       "\t<li>0+0i</li>\n",
       "</ol>\n"
      ],
      "text/latex": [
       "\\begin{enumerate*}\n",
       "\\item 0.769256241922816+0i\n",
       "\\item 0.115371879038592+0.138521671017581i\n",
       "\\item 0.115371879038592-0.138521671017581i\n",
       "\\item 0+0i\n",
       "\\end{enumerate*}\n"
      ],
      "text/markdown": [
       "1. 0.769256241922816+0i\n",
       "2. 0.115371879038592+0.138521671017581i\n",
       "3. 0.115371879038592-0.138521671017581i\n",
       "4. 0+0i\n",
       "\n",
       "\n"
      ],
      "text/plain": [
       "[1] 0.7692562+0.0000000i 0.1153719+0.1385217i 0.1153719-0.1385217i\n",
       "[4] 0.0000000+0.0000000i"
      ]
     },
     "metadata": {},
     "output_type": "display_data"
    },
    {
     "data": {
      "text/html": [
       "<ol class=list-inline>\n",
       "\t<li>0.769256241922816</li>\n",
       "\t<li>0.180274578946668</li>\n",
       "\t<li>0.180274578946668</li>\n",
       "\t<li>0</li>\n",
       "</ol>\n"
      ],
      "text/latex": [
       "\\begin{enumerate*}\n",
       "\\item 0.769256241922816\n",
       "\\item 0.180274578946668\n",
       "\\item 0.180274578946668\n",
       "\\item 0\n",
       "\\end{enumerate*}\n"
      ],
      "text/markdown": [
       "1. 0.769256241922816\n",
       "2. 0.180274578946668\n",
       "3. 0.180274578946668\n",
       "4. 0\n",
       "\n",
       "\n"
      ],
      "text/plain": [
       "[1] 0.7692562 0.1802746 0.1802746 0.0000000"
      ]
     },
     "metadata": {},
     "output_type": "display_data"
    }
   ],
   "source": [
    "eigen(companion)$values\n",
    "Mod(eigen(companion)$values)"
   ]
  },
  {
   "cell_type": "markdown",
   "metadata": {},
   "source": [
    "# Exercise 3: Estimate a trivariate VAR(2) using OLS"
   ]
  },
  {
   "cell_type": "code",
   "execution_count": 28,
   "metadata": {},
   "outputs": [
    {
     "data": {
      "text/html": [
       "<table>\n",
       "<thead><tr><th scope=col>I</th><th scope=col>Y</th><th scope=col>C</th></tr></thead>\n",
       "<tbody>\n",
       "\t<tr><td>180</td><td>451</td><td>415</td></tr>\n",
       "\t<tr><td>179</td><td>465</td><td>421</td></tr>\n",
       "\t<tr><td>185</td><td>485</td><td>434</td></tr>\n",
       "\t<tr><td>192</td><td>493</td><td>448</td></tr>\n",
       "\t<tr><td>211</td><td>509</td><td>459</td></tr>\n",
       "\t<tr><td>202</td><td>520</td><td>458</td></tr>\n",
       "</tbody>\n",
       "</table>\n"
      ],
      "text/latex": [
       "\\begin{tabular}{r|lll}\n",
       " I & Y & C\\\\\n",
       "\\hline\n",
       "\t 180 & 451 & 415\\\\\n",
       "\t 179 & 465 & 421\\\\\n",
       "\t 185 & 485 & 434\\\\\n",
       "\t 192 & 493 & 448\\\\\n",
       "\t 211 & 509 & 459\\\\\n",
       "\t 202 & 520 & 458\\\\\n",
       "\\end{tabular}\n"
      ],
      "text/markdown": [
       "\n",
       "I | Y | C | \n",
       "|---|---|---|---|---|---|\n",
       "| 180 | 451 | 415 | \n",
       "| 179 | 465 | 421 | \n",
       "| 185 | 485 | 434 | \n",
       "| 192 | 493 | 448 | \n",
       "| 211 | 509 | 459 | \n",
       "| 202 | 520 | 458 | \n",
       "\n",
       "\n"
      ],
      "text/plain": [
       "  I   Y   C  \n",
       "1 180 451 415\n",
       "2 179 465 421\n",
       "3 185 485 434\n",
       "4 192 493 448\n",
       "5 211 509 459\n",
       "6 202 520 458"
      ]
     },
     "metadata": {},
     "output_type": "display_data"
    }
   ],
   "source": [
    "germany <- read_excel(\"Data/GermanyCYI.xls\")\n",
    "head(germany)\n",
    "\n",
    "I <- germany$I\n",
    "Y <- germany$Y\n",
    "C <- germany$C"
   ]
  },
  {
   "cell_type": "markdown",
   "metadata": {},
   "source": [
    "## 1. Plot the data\n",
    "The data looks non-stationary, right? Test each individual series using a Dickey-Fuller test"
   ]
  },
  {
   "cell_type": "code",
   "execution_count": 5,
   "metadata": {},
   "outputs": [
    {
     "data": {
      "image/png": "[encoded data removed]",
      "text/plain": [
       "plot without title"
      ]
     },
     "metadata": {},
     "output_type": "display_data"
    }
   ],
   "source": [
    "par(mfrow=c(1,3))\n",
    "\n",
    "plot(germany$I, type = \"l\")\n",
    "plot(germany$Y, type = \"l\")\n",
    "plot(germany$C, type = \"l\")"
   ]
  },
  {
   "cell_type": "code",
   "execution_count": 7,
   "metadata": {},
   "outputs": [
    {
     "data": {
      "text/plain": [
       "\n",
       "\tAugmented Dickey-Fuller Test\n",
       "\n",
       "data:  germany$I\n",
       "Dickey-Fuller = -3.1875, Lag order = 4, p-value = 0.09471\n",
       "alternative hypothesis: stationary\n"
      ]
     },
     "metadata": {},
     "output_type": "display_data"
    },
    {
     "data": {
      "text/plain": [
       "\n",
       "\tAugmented Dickey-Fuller Test\n",
       "\n",
       "data:  germany$Y\n",
       "Dickey-Fuller = -2.2936, Lag order = 4, p-value = 0.4552\n",
       "alternative hypothesis: stationary\n"
      ]
     },
     "metadata": {},
     "output_type": "display_data"
    },
    {
     "data": {
      "text/plain": [
       "\n",
       "\tAugmented Dickey-Fuller Test\n",
       "\n",
       "data:  germany$C\n",
       "Dickey-Fuller = -2.3345, Lag order = 4, p-value = 0.4384\n",
       "alternative hypothesis: stationary\n"
      ]
     },
     "metadata": {},
     "output_type": "display_data"
    }
   ],
   "source": [
    "adf.test(germany$I)\n",
    "adf.test(germany$Y)\n",
    "adf.test(germany$C)"
   ]
  },
  {
   "cell_type": "markdown",
   "metadata": {},
   "source": [
    "## 2. Calculate log diferences of the data\n",
    "Plot the data and verify stationarity of one of the now transformed series"
   ]
  },
  {
   "cell_type": "code",
   "execution_count": 244,
   "metadata": {},
   "outputs": [
    {
     "data": {
      "image/png": "[encoded data removed]",
      "text/plain": [
       "plot without title"
      ]
     },
     "metadata": {},
     "output_type": "display_data"
    }
   ],
   "source": [
    "ldI <- round(diff(log(germany$I)),3)\n",
    "ldY <- round(diff(log(germany$Y)),3)\n",
    "ldC <- round(diff(log(germany$C)),3)\n",
    "\n",
    "par(mfrow=c(1,3))\n",
    "\n",
    "plot(ldI, type = \"l\")\n",
    "plot(ldY, type = \"l\")\n",
    "plot(ldC, type = \"l\")"
   ]
  },
  {
   "cell_type": "markdown",
   "metadata": {},
   "source": [
    "## 3. Make a subset of the data\n",
    "In particular, extract enough data so that you can construct Y below with 10 observations of the three variables. Then consider a VAR(2) where the left-hand-side vector of three variables (y1; y2; y3) consist of 10 observations only. Obviously, the right-hand-side matrix of explanatory variables also contain 10 observations. Estimate:\n",
    "\n",
    "$$\\underset{m\\times mp}{\\mathrm{\\hat{\\Phi}}}   = \\underset{m\\times T}{\\mathrm{Y}} Z^T(\\underset{mp\\times T}{\\mathrm{Z}}Z^T)^{-1} $$\n",
    "\n",
    "where m = 3; p = 2; T = 10: The purpose of this exercise to practise OLS and to organize data and lags of data appropriately. You could consider to estimate this model using your favourite software."
   ]
  },
  {
   "cell_type": "code",
   "execution_count": 245,
   "metadata": {},
   "outputs": [
    {
     "data": {
      "text/html": [
       "<table>\n",
       "<tbody>\n",
       "\t<tr><td>0.5</td><td>0.5</td></tr>\n",
       "\t<tr><td>0.5</td><td>0.5</td></tr>\n",
       "</tbody>\n",
       "</table>\n"
      ],
      "text/latex": [
       "\\begin{tabular}{ll}\n",
       "\t 0.5 & 0.5\\\\\n",
       "\t 0.5 & 0.5\\\\\n",
       "\\end{tabular}\n"
      ],
      "text/markdown": [
       "\n",
       "| 0.5 | 0.5 | \n",
       "| 0.5 | 0.5 | \n",
       "\n",
       "\n"
      ],
      "text/plain": [
       "     [,1] [,2]\n",
       "[1,] 0.5  0.5 \n",
       "[2,] 0.5  0.5 "
      ]
     },
     "metadata": {},
     "output_type": "display_data"
    },
    {
     "data": {
      "text/plain": [
       "eigen() decomposition\n",
       "$values\n",
       "[1] 1 0\n",
       "\n",
       "$vectors\n",
       "          [,1]       [,2]\n",
       "[1,] 0.7071068 -0.7071068\n",
       "[2,] 0.7071068  0.7071068\n"
      ]
     },
     "metadata": {},
     "output_type": "display_data"
    }
   ],
   "source": [
    "a <- matrix(c(0.5,0.5,0.5,0.5), nrow=2)\n",
    "a\n",
    "eigen(a)"
   ]
  },
  {
   "cell_type": "code",
   "execution_count": 246,
   "metadata": {},
   "outputs": [
    {
     "data": {
      "text/html": [
       "<table>\n",
       "<thead><tr><th scope=col>constant</th><th scope=col></th><th scope=col></th><th scope=col></th><th scope=col></th><th scope=col></th><th scope=col></th></tr></thead>\n",
       "<tbody>\n",
       "\t<tr><td>1     </td><td> 0.033</td><td>0.042 </td><td> 0.030</td><td>-0.006</td><td>0.031 </td><td> 0.014</td></tr>\n",
       "\t<tr><td>1     </td><td> 0.037</td><td>0.016 </td><td> 0.032</td><td> 0.033</td><td>0.042 </td><td> 0.030</td></tr>\n",
       "\t<tr><td>1     </td><td> 0.094</td><td>0.032 </td><td> 0.024</td><td> 0.037</td><td>0.016 </td><td> 0.032</td></tr>\n",
       "\t<tr><td>1     </td><td>-0.044</td><td>0.021 </td><td>-0.002</td><td> 0.094</td><td>0.032 </td><td> 0.024</td></tr>\n",
       "\t<tr><td>1     </td><td> 0.024</td><td>0.002 </td><td> 0.045</td><td>-0.044</td><td>0.021 </td><td>-0.002</td></tr>\n",
       "\t<tr><td>1     </td><td> 0.033</td><td>0.036 </td><td> 0.017</td><td> 0.024</td><td>0.002 </td><td> 0.045</td></tr>\n",
       "\t<tr><td>1     </td><td> 0.076</td><td>0.015 </td><td> 0.020</td><td> 0.033</td><td>0.036 </td><td> 0.017</td></tr>\n",
       "\t<tr><td>1     </td><td>-0.009</td><td>0.018 </td><td> 0.026</td><td> 0.076</td><td>0.015 </td><td> 0.020</td></tr>\n",
       "\t<tr><td>1     </td><td> 0.022</td><td>0.028 </td><td> 0.012</td><td>-0.009</td><td>0.018 </td><td> 0.026</td></tr>\n",
       "\t<tr><td>1     </td><td> 0.013</td><td>0.016 </td><td> 0.017</td><td> 0.022</td><td>0.028 </td><td> 0.012</td></tr>\n",
       "</tbody>\n",
       "</table>\n"
      ],
      "text/latex": [
       "\\begin{tabular}{lllllll}\n",
       " constant &  &  &  &  &  & \\\\\n",
       "\\hline\n",
       "\t 1      &  0.033 & 0.042  &  0.030 & -0.006 & 0.031  &  0.014\\\\\n",
       "\t 1      &  0.037 & 0.016  &  0.032 &  0.033 & 0.042  &  0.030\\\\\n",
       "\t 1      &  0.094 & 0.032  &  0.024 &  0.037 & 0.016  &  0.032\\\\\n",
       "\t 1      & -0.044 & 0.021  & -0.002 &  0.094 & 0.032  &  0.024\\\\\n",
       "\t 1      &  0.024 & 0.002  &  0.045 & -0.044 & 0.021  & -0.002\\\\\n",
       "\t 1      &  0.033 & 0.036  &  0.017 &  0.024 & 0.002  &  0.045\\\\\n",
       "\t 1      &  0.076 & 0.015  &  0.020 &  0.033 & 0.036  &  0.017\\\\\n",
       "\t 1      & -0.009 & 0.018  &  0.026 &  0.076 & 0.015  &  0.020\\\\\n",
       "\t 1      &  0.022 & 0.028  &  0.012 & -0.009 & 0.018  &  0.026\\\\\n",
       "\t 1      &  0.013 & 0.016  &  0.017 &  0.022 & 0.028  &  0.012\\\\\n",
       "\\end{tabular}\n"
      ],
      "text/markdown": [
       "\n",
       "constant |  |  |  |  |  |  | \n",
       "|---|---|---|---|---|---|---|---|---|---|\n",
       "| 1      |  0.033 | 0.042  |  0.030 | -0.006 | 0.031  |  0.014 | \n",
       "| 1      |  0.037 | 0.016  |  0.032 |  0.033 | 0.042  |  0.030 | \n",
       "| 1      |  0.094 | 0.032  |  0.024 |  0.037 | 0.016  |  0.032 | \n",
       "| 1      | -0.044 | 0.021  | -0.002 |  0.094 | 0.032  |  0.024 | \n",
       "| 1      |  0.024 | 0.002  |  0.045 | -0.044 | 0.021  | -0.002 | \n",
       "| 1      |  0.033 | 0.036  |  0.017 |  0.024 | 0.002  |  0.045 | \n",
       "| 1      |  0.076 | 0.015  |  0.020 |  0.033 | 0.036  |  0.017 | \n",
       "| 1      | -0.009 | 0.018  |  0.026 |  0.076 | 0.015  |  0.020 | \n",
       "| 1      |  0.022 | 0.028  |  0.012 | -0.009 | 0.018  |  0.026 | \n",
       "| 1      |  0.013 | 0.016  |  0.017 |  0.022 | 0.028  |  0.012 | \n",
       "\n",
       "\n"
      ],
      "text/plain": [
       "      constant                                        \n",
       " [1,] 1         0.033 0.042  0.030 -0.006 0.031  0.014\n",
       " [2,] 1         0.037 0.016  0.032  0.033 0.042  0.030\n",
       " [3,] 1         0.094 0.032  0.024  0.037 0.016  0.032\n",
       " [4,] 1        -0.044 0.021 -0.002  0.094 0.032  0.024\n",
       " [5,] 1         0.024 0.002  0.045 -0.044 0.021 -0.002\n",
       " [6,] 1         0.033 0.036  0.017  0.024 0.002  0.045\n",
       " [7,] 1         0.076 0.015  0.020  0.033 0.036  0.017\n",
       " [8,] 1        -0.009 0.018  0.026  0.076 0.015  0.020\n",
       " [9,] 1         0.022 0.028  0.012 -0.009 0.018  0.026\n",
       "[10,] 1         0.013 0.016  0.017  0.022 0.028  0.012"
      ]
     },
     "metadata": {},
     "output_type": "display_data"
    }
   ],
   "source": [
    "constant <- c(rep(1,10))\n",
    "\n",
    "Y <- t(cbind(ldI[3:12], ldY[3:12], ldC[3:12]))\n",
    "\n",
    "Y1 <- cbind(ldI[2:11], ldY[2:11], ldC[2:11])\n",
    "\n",
    "Y2 <- cbind(ldI[1:10], ldY[1:10], ldC[1:10])\n",
    "\n",
    "Z <- t(cbind(constant, Y1, Y2))\n",
    "\n",
    "t(Z)"
   ]
  },
  {
   "cell_type": "code",
   "execution_count": 250,
   "metadata": {},
   "outputs": [
    {
     "data": {
      "text/html": [
       "<table>\n",
       "<thead><tr><th scope=col>constant</th><th scope=col></th><th scope=col></th><th scope=col></th><th scope=col></th><th scope=col></th><th scope=col></th></tr></thead>\n",
       "<tbody>\n",
       "\t<tr><td>-0.198</td><td>-1.145</td><td> 0.148</td><td> 4.061</td><td>-0.427</td><td> 1.859</td><td>5.196 </td></tr>\n",
       "\t<tr><td> 0.005</td><td>-0.011</td><td>-0.336</td><td> 0.771</td><td> 0.011</td><td>-0.032</td><td>0.271 </td></tr>\n",
       "\t<tr><td> 0.003</td><td>-0.206</td><td> 0.270</td><td>-0.118</td><td>-0.073</td><td> 0.690</td><td>0.187 </td></tr>\n",
       "</tbody>\n",
       "</table>\n"
      ],
      "text/latex": [
       "\\begin{tabular}{lllllll}\n",
       " constant &  &  &  &  &  & \\\\\n",
       "\\hline\n",
       "\t -0.198 & -1.145 &  0.148 &  4.061 & -0.427 &  1.859 & 5.196 \\\\\n",
       "\t  0.005 & -0.011 & -0.336 &  0.771 &  0.011 & -0.032 & 0.271 \\\\\n",
       "\t  0.003 & -0.206 &  0.270 & -0.118 & -0.073 &  0.690 & 0.187 \\\\\n",
       "\\end{tabular}\n"
      ],
      "text/markdown": [
       "\n",
       "constant |  |  |  |  |  |  | \n",
       "|---|---|---|\n",
       "| -0.198 | -1.145 |  0.148 |  4.061 | -0.427 |  1.859 | 5.196  | \n",
       "|  0.005 | -0.011 | -0.336 |  0.771 |  0.011 | -0.032 | 0.271  | \n",
       "|  0.003 | -0.206 |  0.270 | -0.118 | -0.073 |  0.690 | 0.187  | \n",
       "\n",
       "\n"
      ],
      "text/plain": [
       "     constant                                         \n",
       "[1,] -0.198   -1.145  0.148  4.061 -0.427  1.859 5.196\n",
       "[2,]  0.005   -0.011 -0.336  0.771  0.011 -0.032 0.271\n",
       "[3,]  0.003   -0.206  0.270 -0.118 -0.073  0.690 0.187"
      ]
     },
     "metadata": {},
     "output_type": "display_data"
    }
   ],
   "source": [
    "coef <- round((Y %*% t(Z) %*% solve(Z %*% t(Z))),3)\n",
    "coef"
   ]
  },
  {
   "cell_type": "markdown",
   "metadata": {},
   "source": [
    "Calculate the eigenvalues and the roots."
   ]
  },
  {
   "cell_type": "code",
   "execution_count": 255,
   "metadata": {},
   "outputs": [
    {
     "data": {
      "text/html": [
       "<table>\n",
       "<thead><tr><th scope=col></th><th scope=col></th><th scope=col></th><th scope=col></th><th scope=col></th><th scope=col></th></tr></thead>\n",
       "<tbody>\n",
       "\t<tr><td>-1.145</td><td> 0.148</td><td> 4.061</td><td>-0.427</td><td> 1.859</td><td>5.196 </td></tr>\n",
       "\t<tr><td>-0.011</td><td>-0.336</td><td> 0.771</td><td> 0.011</td><td>-0.032</td><td>0.271 </td></tr>\n",
       "\t<tr><td>-0.206</td><td> 0.270</td><td>-0.118</td><td>-0.073</td><td> 0.690</td><td>0.187 </td></tr>\n",
       "\t<tr><td> 1.000</td><td> 0.000</td><td> 0.000</td><td> 0.000</td><td> 0.000</td><td>0.000 </td></tr>\n",
       "\t<tr><td> 0.000</td><td> 1.000</td><td> 0.000</td><td> 0.000</td><td> 0.000</td><td>0.000 </td></tr>\n",
       "\t<tr><td> 0.000</td><td> 0.000</td><td> 1.000</td><td> 0.000</td><td> 0.000</td><td>0.000 </td></tr>\n",
       "</tbody>\n",
       "</table>\n"
      ],
      "text/latex": [
       "\\begin{tabular}{llllll}\n",
       "  &  &  &  &  & \\\\\n",
       "\\hline\n",
       "\t -1.145 &  0.148 &  4.061 & -0.427 &  1.859 & 5.196 \\\\\n",
       "\t -0.011 & -0.336 &  0.771 &  0.011 & -0.032 & 0.271 \\\\\n",
       "\t -0.206 &  0.270 & -0.118 & -0.073 &  0.690 & 0.187 \\\\\n",
       "\t  1.000 &  0.000 &  0.000 &  0.000 &  0.000 & 0.000 \\\\\n",
       "\t  0.000 &  1.000 &  0.000 &  0.000 &  0.000 & 0.000 \\\\\n",
       "\t  0.000 &  0.000 &  1.000 &  0.000 &  0.000 & 0.000 \\\\\n",
       "\\end{tabular}\n"
      ],
      "text/markdown": [
       "\n",
       " |  |  |  |  |  | \n",
       "|---|---|---|---|---|---|\n",
       "| -1.145 |  0.148 |  4.061 | -0.427 |  1.859 | 5.196  | \n",
       "| -0.011 | -0.336 |  0.771 |  0.011 | -0.032 | 0.271  | \n",
       "| -0.206 |  0.270 | -0.118 | -0.073 |  0.690 | 0.187  | \n",
       "|  1.000 |  0.000 |  0.000 |  0.000 |  0.000 | 0.000  | \n",
       "|  0.000 |  1.000 |  0.000 |  0.000 |  0.000 | 0.000  | \n",
       "|  0.000 |  0.000 |  1.000 |  0.000 |  0.000 | 0.000  | \n",
       "\n",
       "\n"
      ],
      "text/plain": [
       "                                             \n",
       "[1,] -1.145  0.148  4.061 -0.427  1.859 5.196\n",
       "[2,] -0.011 -0.336  0.771  0.011 -0.032 0.271\n",
       "[3,] -0.206  0.270 -0.118 -0.073  0.690 0.187\n",
       "[4,]  1.000  0.000  0.000  0.000  0.000 0.000\n",
       "[5,]  0.000  1.000  0.000  0.000  0.000 0.000\n",
       "[6,]  0.000  0.000  1.000  0.000  0.000 0.000"
      ]
     },
     "metadata": {},
     "output_type": "display_data"
    },
    {
     "data": {
      "text/html": [
       "<ol class=list-inline>\n",
       "\t<li>-0.16+0.822i</li>\n",
       "\t<li>-0.16-0.822i</li>\n",
       "\t<li>-0.803+0i</li>\n",
       "\t<li>-0.435+0.35i</li>\n",
       "\t<li>-0.435-0.35i</li>\n",
       "\t<li>0.394+0i</li>\n",
       "</ol>\n"
      ],
      "text/latex": [
       "\\begin{enumerate*}\n",
       "\\item -0.16+0.822i\n",
       "\\item -0.16-0.822i\n",
       "\\item -0.803+0i\n",
       "\\item -0.435+0.35i\n",
       "\\item -0.435-0.35i\n",
       "\\item 0.394+0i\n",
       "\\end{enumerate*}\n"
      ],
      "text/markdown": [
       "1. -0.16+0.822i\n",
       "2. -0.16-0.822i\n",
       "3. -0.803+0i\n",
       "4. -0.435+0.35i\n",
       "5. -0.435-0.35i\n",
       "6. 0.394+0i\n",
       "\n",
       "\n"
      ],
      "text/plain": [
       "[1] -0.160+0.822i -0.160-0.822i -0.803+0.000i -0.435+0.350i -0.435-0.350i\n",
       "[6]  0.394+0.000i"
      ]
     },
     "metadata": {},
     "output_type": "display_data"
    },
    {
     "data": {
      "text/html": [
       "<ol class=list-inline>\n",
       "\t<li>0.837</li>\n",
       "\t<li>0.837</li>\n",
       "\t<li>0.803</li>\n",
       "\t<li>0.559</li>\n",
       "\t<li>0.559</li>\n",
       "\t<li>0.394</li>\n",
       "</ol>\n"
      ],
      "text/latex": [
       "\\begin{enumerate*}\n",
       "\\item 0.837\n",
       "\\item 0.837\n",
       "\\item 0.803\n",
       "\\item 0.559\n",
       "\\item 0.559\n",
       "\\item 0.394\n",
       "\\end{enumerate*}\n"
      ],
      "text/markdown": [
       "1. 0.837\n",
       "2. 0.837\n",
       "3. 0.803\n",
       "4. 0.559\n",
       "5. 0.559\n",
       "6. 0.394\n",
       "\n",
       "\n"
      ],
      "text/plain": [
       "[1] 0.837 0.837 0.803 0.559 0.559 0.394"
      ]
     },
     "metadata": {},
     "output_type": "display_data"
    }
   ],
   "source": [
    "coef1 <- coef[,-1]\n",
    "\n",
    "idm <- diag(3)\n",
    "zm <- matrix(rep(0,9), nrow=3)\n",
    "comp <- cbind(idm, zm)\n",
    "companion <- rbind(coef1, comp)\n",
    "\n",
    "companion\n",
    "\n",
    "round(eigen(companion)$values,3)\n",
    "round(Mod(eigen(companion)$values),3)"
   ]
  },
  {
   "cell_type": "markdown",
   "metadata": {},
   "source": [
    "## Estimate the model for the period 1960 to 1978. Verify the solution by pre- programmed standard software.\n",
    "Calculate the magnitude of the eigenvalues of the companion matrix. Is the system stationary, i.e. are the roots inside the unit circle?"
   ]
  },
  {
   "cell_type": "code",
   "execution_count": 256,
   "metadata": {},
   "outputs": [
    {
     "data": {
      "text/html": [
       "92"
      ],
      "text/latex": [
       "92"
      ],
      "text/markdown": [
       "92"
      ],
      "text/plain": [
       "[1] 92"
      ]
     },
     "metadata": {},
     "output_type": "display_data"
    }
   ],
   "source": [
    "length(germany$Y)"
   ]
  },
  {
   "cell_type": "code",
   "execution_count": 269,
   "metadata": {},
   "outputs": [
    {
     "data": {
      "text/html": [
       "<ol class=list-inline>\n",
       "\t<li>0.6</li>\n",
       "\t<li>0.556</li>\n",
       "\t<li>0.556</li>\n",
       "\t<li>0.488</li>\n",
       "\t<li>0.488</li>\n",
       "\t<li>0.38</li>\n",
       "</ol>\n"
      ],
      "text/latex": [
       "\\begin{enumerate*}\n",
       "\\item 0.6\n",
       "\\item 0.556\n",
       "\\item 0.556\n",
       "\\item 0.488\n",
       "\\item 0.488\n",
       "\\item 0.38\n",
       "\\end{enumerate*}\n"
      ],
      "text/markdown": [
       "1. 0.6\n",
       "2. 0.556\n",
       "3. 0.556\n",
       "4. 0.488\n",
       "5. 0.488\n",
       "6. 0.38\n",
       "\n",
       "\n"
      ],
      "text/plain": [
       "[1] 0.600 0.556 0.556 0.488 0.488 0.380"
      ]
     },
     "metadata": {},
     "output_type": "display_data"
    },
    {
     "data": {
      "text/html": [
       "<table>\n",
       "<thead><tr><th scope=col>constant</th><th scope=col></th><th scope=col></th><th scope=col></th><th scope=col></th><th scope=col></th><th scope=col></th></tr></thead>\n",
       "<tbody>\n",
       "\t<tr><td>-0.009589597</td><td>-0.271725608</td><td> 0.3389137  </td><td> 0.6506495  </td><td>-0.13276114 </td><td>0.19399627  </td><td> 0.56532400 </td></tr>\n",
       "\t<tr><td> 0.012576976</td><td> 0.043831334</td><td>-0.1269562  </td><td> 0.3104125  </td><td> 0.06100524 </td><td>0.01599373  </td><td> 0.05239911 </td></tr>\n",
       "\t<tr><td> 0.012385302</td><td> 0.003401803</td><td> 0.2843616  </td><td>-0.2763355  </td><td> 0.04992158 </td><td>0.36402601  </td><td>-0.11520716 </td></tr>\n",
       "</tbody>\n",
       "</table>\n"
      ],
      "text/latex": [
       "\\begin{tabular}{lllllll}\n",
       " constant &  &  &  &  &  & \\\\\n",
       "\\hline\n",
       "\t -0.009589597 & -0.271725608 &  0.3389137   &  0.6506495   & -0.13276114  & 0.19399627   &  0.56532400 \\\\\n",
       "\t  0.012576976 &  0.043831334 & -0.1269562   &  0.3104125   &  0.06100524  & 0.01599373   &  0.05239911 \\\\\n",
       "\t  0.012385302 &  0.003401803 &  0.2843616   & -0.2763355   &  0.04992158  & 0.36402601   & -0.11520716 \\\\\n",
       "\\end{tabular}\n"
      ],
      "text/markdown": [
       "\n",
       "constant |  |  |  |  |  |  | \n",
       "|---|---|---|\n",
       "| -0.009589597 | -0.271725608 |  0.3389137   |  0.6506495   | -0.13276114  | 0.19399627   |  0.56532400  | \n",
       "|  0.012576976 |  0.043831334 | -0.1269562   |  0.3104125   |  0.06100524  | 0.01599373   |  0.05239911  | \n",
       "|  0.012385302 |  0.003401803 |  0.2843616   | -0.2763355   |  0.04992158  | 0.36402601   | -0.11520716  | \n",
       "\n",
       "\n"
      ],
      "text/plain": [
       "     constant                                                              \n",
       "[1,] -0.009589597 -0.271725608  0.3389137  0.6506495 -0.13276114 0.19399627\n",
       "[2,]  0.012576976  0.043831334 -0.1269562  0.3104125  0.06100524 0.01599373\n",
       "[3,]  0.012385302  0.003401803  0.2843616 -0.2763355  0.04992158 0.36402601\n",
       "                \n",
       "[1,]  0.56532400\n",
       "[2,]  0.05239911\n",
       "[3,] -0.11520716"
      ]
     },
     "metadata": {},
     "output_type": "display_data"
    }
   ],
   "source": [
    "end <- 91 # 75 answers the question\n",
    "end1 <- end - 1\n",
    "end2 <- end - 2\n",
    "\n",
    "constant <- c(rep(1,end2))\n",
    "\n",
    "Y <- t(cbind(ldI[3:end], ldY[3:end], ldC[3:end]))\n",
    "\n",
    "Y1 <- cbind(ldI[2:end1], ldY[2:end1], ldC[2:end1])\n",
    "\n",
    "Y2 <- cbind(ldI[1:end2], ldY[1:end2], ldC[1:end2])\n",
    "\n",
    "Z <- t(cbind(constant, Y1, Y2))\n",
    "\n",
    "coef <- Y %*% t(Z) %*% solve(Z %*% t(Z))\n",
    "\n",
    "coef1 <- coef[,-1]\n",
    "\n",
    "idm <- diag(3)\n",
    "zm <- matrix(rep(0,9), nrow=3)\n",
    "comp <- cbind(idm, zm)\n",
    "companion <- rbind(coef1, comp)\n",
    "\n",
    "#companion\n",
    "\n",
    "#eigen(companion)$values\n",
    "round(Mod(eigen(companion)$values),3)\n",
    "coef"
   ]
  },
  {
   "cell_type": "code",
   "execution_count": 268,
   "metadata": {},
   "outputs": [
    {
     "data": {
      "text/plain": [
       "\n",
       "VAR Estimation Results:\n",
       "======================= \n",
       "\n",
       "Estimated coefficients for equation ldI: \n",
       "======================================== \n",
       "Call:\n",
       "ldI = ldI.l1 + ldY.l1 + ldC.l1 + ldI.l2 + ldY.l2 + ldC.l2 + const \n",
       "\n",
       "      ldI.l1       ldY.l1       ldC.l1       ldI.l2       ldY.l2       ldC.l2 \n",
       "-0.271725608  0.338913659  0.650649493 -0.132761142  0.193996267  0.565324000 \n",
       "       const \n",
       "-0.009589597 \n",
       "\n",
       "\n",
       "Estimated coefficients for equation ldY: \n",
       "======================================== \n",
       "Call:\n",
       "ldY = ldI.l1 + ldY.l1 + ldC.l1 + ldI.l2 + ldY.l2 + ldC.l2 + const \n",
       "\n",
       "     ldI.l1      ldY.l1      ldC.l1      ldI.l2      ldY.l2      ldC.l2 \n",
       " 0.04383133 -0.12695621  0.31041255  0.06100524  0.01599373  0.05239911 \n",
       "      const \n",
       " 0.01257698 \n",
       "\n",
       "\n",
       "Estimated coefficients for equation ldC: \n",
       "======================================== \n",
       "Call:\n",
       "ldC = ldI.l1 + ldY.l1 + ldC.l1 + ldI.l2 + ldY.l2 + ldC.l2 + const \n",
       "\n",
       "      ldI.l1       ldY.l1       ldC.l1       ldI.l2       ldY.l2       ldC.l2 \n",
       " 0.003401803  0.284361552 -0.276335498  0.049921579  0.364026005 -0.115207165 \n",
       "       const \n",
       " 0.012385302 \n",
       "\n"
      ]
     },
     "metadata": {},
     "output_type": "display_data"
    }
   ],
   "source": [
    "# reduced form \n",
    "\n",
    "ldgermany <- data.frame(ldI, ldY, ldC)\n",
    "\n",
    "m <-VAR(ldgermany, p=2, type=\"const\")\n",
    "m"
   ]
  },
  {
   "cell_type": "markdown",
   "metadata": {},
   "source": [
    "# Exercise 4: A simple exercise that shows the identifation problem\n",
    "Consider the following two SVARs and show that they both lead to the same reduced\n",
    "form VAR. The structural SVAR is"
   ]
  },
  {
   "cell_type": "code",
   "execution_count": null,
   "metadata": {},
   "outputs": [],
   "source": []
  },
  {
   "cell_type": "code",
   "execution_count": null,
   "metadata": {},
   "outputs": [],
   "source": []
  },
  {
   "cell_type": "code",
   "execution_count": null,
   "metadata": {},
   "outputs": [],
   "source": []
  },
  {
   "cell_type": "markdown",
   "metadata": {},
   "source": [
    "# Exercise 5: VAR(1), VMA(1), SVMA(1), identifcation and impulse responses\n",
    "This exercise is a combined analytical and small-scale quantitative exercise. The purpose is to become more familiar with the simplest possible VAR model, the corre- sponding SVAR and how to identify the parameters in the SVAR from the reduced form variance-covariance matrix. You are given the following reduced form VAR estimates from a VAR(1)"
   ]
  },
  {
   "cell_type": "code",
   "execution_count": null,
   "metadata": {},
   "outputs": [],
   "source": []
  },
  {
   "cell_type": "code",
   "execution_count": null,
   "metadata": {},
   "outputs": [],
   "source": []
  },
  {
   "cell_type": "markdown",
   "metadata": {},
   "source": [
    "# Exercise 6: Discussion and Overview"
   ]
  },
  {
   "cell_type": "code",
   "execution_count": null,
   "metadata": {},
   "outputs": [],
   "source": []
  },
  {
   "cell_type": "code",
   "execution_count": null,
   "metadata": {},
   "outputs": [],
   "source": []
  },
  {
   "cell_type": "markdown",
   "metadata": {},
   "source": [
    "# Exercise 7: Orthogonalized impulse response functions using the Cholesky decomposition"
   ]
  },
  {
   "cell_type": "code",
   "execution_count": null,
   "metadata": {},
   "outputs": [],
   "source": []
  },
  {
   "cell_type": "code",
   "execution_count": null,
   "metadata": {},
   "outputs": [],
   "source": []
  },
  {
   "cell_type": "code",
   "execution_count": null,
   "metadata": {},
   "outputs": [],
   "source": []
  }
 ],
 "metadata": {
  "kernelspec": {
   "display_name": "R",
   "language": "R",
   "name": "ir"
  },
  "language_info": {
   "codemirror_mode": "r",
   "file_extension": ".r",
   "mimetype": "text/x-r-source",
   "name": "R",
   "pygments_lexer": "r",
   "version": "3.5.1"
  }
 },
 "nbformat": 4,
 "nbformat_minor": 2
}
