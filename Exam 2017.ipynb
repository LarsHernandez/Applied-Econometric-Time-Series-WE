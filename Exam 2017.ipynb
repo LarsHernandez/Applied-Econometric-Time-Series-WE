{
 "cells": [
  {
   "cell_type": "markdown",
   "metadata": {},
   "source": [
    "# Exam 2017"
   ]
  },
  {
   "cell_type": "code",
   "execution_count": 2,
   "metadata": {},
   "outputs": [],
   "source": [
    "library(tidyverse) # readr, ggplot, dplyr, ...\n",
    "library(gridExtra) # Arrangning ggplots\n",
    "library(readxl)    # Loading excel\n",
    "library(repr)      # Resizing the plots in jupyter\n",
    "library(rugarch)   # For ARCH and GARCH models\n",
    "library(dynlm)     # Lagged linear models\n",
    "library(urca)      # Dick Fuller test\n",
    "library(car)       # Linear hyphothesis testing\n",
    "library(tseries)   # adf-test\n",
    "library(vars)      # VAR models\n",
    "library(zoo)       # Convert quarters to date\n",
    "library(forecast)  \n",
    "\n",
    "options(repr.plot.width=5, repr.plot.height=2.5)"
   ]
  },
  {
   "cell_type": "code",
   "execution_count": 6,
   "metadata": {},
   "outputs": [
    {
     "name": "stderr",
     "output_type": "stream",
     "text": [
      "Parsed with column specification:\n",
      "cols(\n",
      "  x = col_character()\n",
      ")\n"
     ]
    },
    {
     "data": {
      "text/html": [
       "<table>\n",
       "<thead><tr><th scope=col>x</th></tr></thead>\n",
       "<tbody>\n",
       "\t<tr><td>2.344.394.908</td></tr>\n",
       "\t<tr><td>295.853.768  </td></tr>\n",
       "\t<tr><td>2.006.881.046</td></tr>\n",
       "\t<tr><td>0.936106173  </td></tr>\n",
       "\t<tr><td>1.714.408.477</td></tr>\n",
       "\t<tr><td>2.741.346.693</td></tr>\n",
       "</tbody>\n",
       "</table>\n"
      ],
      "text/latex": [
       "\\begin{tabular}{r|l}\n",
       " x\\\\\n",
       "\\hline\n",
       "\t 2.344.394.908\\\\\n",
       "\t 295.853.768  \\\\\n",
       "\t 2.006.881.046\\\\\n",
       "\t 0.936106173  \\\\\n",
       "\t 1.714.408.477\\\\\n",
       "\t 2.741.346.693\\\\\n",
       "\\end{tabular}\n"
      ],
      "text/markdown": [
       "\n",
       "x | \n",
       "|---|---|---|---|---|---|\n",
       "| 2.344.394.908 | \n",
       "| 295.853.768   | \n",
       "| 2.006.881.046 | \n",
       "| 0.936106173   | \n",
       "| 1.714.408.477 | \n",
       "| 2.741.346.693 | \n",
       "\n",
       "\n"
      ],
      "text/plain": [
       "  x            \n",
       "1 2.344.394.908\n",
       "2 295.853.768  \n",
       "3 2.006.881.046\n",
       "4 0.936106173  \n",
       "5 1.714.408.477\n",
       "6 2.741.346.693"
      ]
     },
     "metadata": {},
     "output_type": "display_data"
    },
    {
     "name": "stderr",
     "output_type": "stream",
     "text": [
      "Parsed with column specification:\n",
      "cols(\n",
      "  `date;GDPdeflator;pi` = col_character()\n",
      ")\n"
     ]
    },
    {
     "data": {
      "text/html": [
       "<table>\n",
       "<thead><tr><th scope=col>date;GDPdeflator;pi</th></tr></thead>\n",
       "<tbody>\n",
       "\t<tr><td>Q4 1959;17.375;             </td></tr>\n",
       "\t<tr><td>Q1 1960;17.409;0.78196897   </td></tr>\n",
       "\t<tr><td>Q2 1960;17.473;1.467.807.392</td></tr>\n",
       "\t<tr><td>Q3 1960;17.551;1.781.638.395</td></tr>\n",
       "\t<tr><td>Q4 1960;17.63;1.796.427.226 </td></tr>\n",
       "\t<tr><td>Q1 1961;17.651;0.476177035  </td></tr>\n",
       "</tbody>\n",
       "</table>\n"
      ],
      "text/latex": [
       "\\begin{tabular}{r|l}\n",
       " date;GDPdeflator;pi\\\\\n",
       "\\hline\n",
       "\t Q4 1959;17.375;             \\\\\n",
       "\t Q1 1960;17.409;0.78196897   \\\\\n",
       "\t Q2 1960;17.473;1.467.807.392\\\\\n",
       "\t Q3 1960;17.551;1.781.638.395\\\\\n",
       "\t Q4 1960;17.63;1.796.427.226 \\\\\n",
       "\t Q1 1961;17.651;0.476177035  \\\\\n",
       "\\end{tabular}\n"
      ],
      "text/markdown": [
       "\n",
       "date;GDPdeflator;pi | \n",
       "|---|---|---|---|---|---|\n",
       "| Q4 1959;17.375;              | \n",
       "| Q1 1960;17.409;0.78196897    | \n",
       "| Q2 1960;17.473;1.467.807.392 | \n",
       "| Q3 1960;17.551;1.781.638.395 | \n",
       "| Q4 1960;17.63;1.796.427.226  | \n",
       "| Q1 1961;17.651;0.476177035   | \n",
       "\n",
       "\n"
      ],
      "text/plain": [
       "  date;GDPdeflator;pi         \n",
       "1 Q4 1959;17.375;             \n",
       "2 Q1 1960;17.409;0.78196897   \n",
       "3 Q2 1960;17.473;1.467.807.392\n",
       "4 Q3 1960;17.551;1.781.638.395\n",
       "5 Q4 1960;17.63;1.796.427.226 \n",
       "6 Q1 1961;17.651;0.476177035  "
      ]
     },
     "metadata": {},
     "output_type": "display_data"
    },
    {
     "name": "stderr",
     "output_type": "stream",
     "text": [
      "Parsed with column specification:\n",
      "cols(\n",
      "  `date (YYYYQQ);c;a;y` = col_character()\n",
      ")\n"
     ]
    },
    {
     "data": {
      "text/html": [
       "<table>\n",
       "<thead><tr><th scope=col>date (YYYYQQ);c;a;y</th></tr></thead>\n",
       "<tbody>\n",
       "\t<tr><td>195104;8.945.843.412;1.056.260.837;8.658.345.436</td></tr>\n",
       "\t<tr><td>195201;8.944.092.233;1.057.123.571;866.592.584  </td></tr>\n",
       "\t<tr><td>195202;8.957.498.884;1.058.301.045;8.667.349.937</td></tr>\n",
       "\t<tr><td>195203;8.966.563.493;1.057.800.623;8.681.577.904</td></tr>\n",
       "\t<tr><td>195204;897.540.805;1.057.487.284;8.710.945.649  </td></tr>\n",
       "\t<tr><td>195301;8.985.109.507;1.057.435.704;8.721.970.747</td></tr>\n",
       "</tbody>\n",
       "</table>\n"
      ],
      "text/latex": [
       "\\begin{tabular}{r|l}\n",
       " date (YYYYQQ);c;a;y\\\\\n",
       "\\hline\n",
       "\t 195104;8.945.843.412;1.056.260.837;8.658.345.436\\\\\n",
       "\t 195201;8.944.092.233;1.057.123.571;866.592.584  \\\\\n",
       "\t 195202;8.957.498.884;1.058.301.045;8.667.349.937\\\\\n",
       "\t 195203;8.966.563.493;1.057.800.623;8.681.577.904\\\\\n",
       "\t 195204;897.540.805;1.057.487.284;8.710.945.649  \\\\\n",
       "\t 195301;8.985.109.507;1.057.435.704;8.721.970.747\\\\\n",
       "\\end{tabular}\n"
      ],
      "text/markdown": [
       "\n",
       "date (YYYYQQ);c;a;y | \n",
       "|---|---|---|---|---|---|\n",
       "| 195104;8.945.843.412;1.056.260.837;8.658.345.436 | \n",
       "| 195201;8.944.092.233;1.057.123.571;866.592.584   | \n",
       "| 195202;8.957.498.884;1.058.301.045;8.667.349.937 | \n",
       "| 195203;8.966.563.493;1.057.800.623;8.681.577.904 | \n",
       "| 195204;897.540.805;1.057.487.284;8.710.945.649   | \n",
       "| 195301;8.985.109.507;1.057.435.704;8.721.970.747 | \n",
       "\n",
       "\n"
      ],
      "text/plain": [
       "  date (YYYYQQ);c;a;y                             \n",
       "1 195104;8.945.843.412;1.056.260.837;8.658.345.436\n",
       "2 195201;8.944.092.233;1.057.123.571;866.592.584  \n",
       "3 195202;8.957.498.884;1.058.301.045;8.667.349.937\n",
       "4 195203;8.966.563.493;1.057.800.623;8.681.577.904\n",
       "5 195204;897.540.805;1.057.487.284;8.710.945.649  \n",
       "6 195301;8.985.109.507;1.057.435.704;8.721.970.747"
      ]
     },
     "metadata": {},
     "output_type": "display_data"
    }
   ],
   "source": [
    "setwd(\"C:/Users/larsn/Documents/GitHub/Applied-Econometric-Time-Series-WE\")\n",
    "\n",
    "data1 <- read_csv(\"Data/exam/data1.csv\")\n",
    "head(data1)\n",
    "\n",
    "data2 <- read_csv(\"Data/exam/data2.csv\")\n",
    "head(data2)\n",
    "\n",
    "kointegration <- read_csv(\"Data/exam/kointegration.csv\")\n",
    "head(kointegration)"
   ]
  },
  {
   "cell_type": "markdown",
   "metadata": {},
   "source": [
    "**Spørgsmål 1.1** \n",
    "Betragt nedenstående proces. Hvilken type proces er der tale om? Husk at forklare alle symboler.\n",
    "\n",
    "$$y_t = \\mu + \\varepsilon_t + \\beta_1\\varepsilon_{t-1} + \\beta_2\\varepsilon_{t-2} $$"
   ]
  },
  {
   "cell_type": "markdown",
   "metadata": {},
   "source": [
    "MA(2) process"
   ]
  },
  {
   "cell_type": "markdown",
   "metadata": {},
   "source": [
    "**Spørgsmål 1.2**\n",
    "Skriv udtrykket ved hjælp af lag operator notationen."
   ]
  },
  {
   "cell_type": "markdown",
   "metadata": {},
   "source": [
    "$$y_t = \\mu + \\varepsilon_t  + \\beta_1L\\varepsilon + \\beta_2L^2\\varepsilon $$ "
   ]
  },
  {
   "cell_type": "markdown",
   "metadata": {},
   "source": [
    "**Spørgsmål 1.3** Udled teoretisk den ubetingede (unconditional) middelværdi og varians for denne proces."
   ]
  },
  {
   "cell_type": "code",
   "execution_count": null,
   "metadata": {},
   "outputs": [],
   "source": []
  },
  {
   "cell_type": "markdown",
   "metadata": {},
   "source": [
    "**Spørgsmål 1.4**\n",
    "Udled teoretisk autokorrelationsfunctionen (ACF) og den partielle autokorrelationsfunktion (PACF)."
   ]
  },
  {
   "cell_type": "code",
   "execution_count": null,
   "metadata": {},
   "outputs": [],
   "source": []
  },
  {
   "cell_type": "markdown",
   "metadata": {},
   "source": [
    "**Spørgsmål 1.5**\n",
    "På baggrund af data i fanebladet \"opgave1\" i fillen benævnt dataExam2016.xlsx bedes du estimere og afbilde ACF og PACF. Hvilken type proces vurderer du der er tale om?"
   ]
  },
  {
   "cell_type": "markdown",
   "metadata": {},
   "source": [
    "**Spørgsmål 1.6**\n",
    "Antag at $\\mu = 1, \\beta_1 = 0.6, \\beta_2 = 0.2, \\sigma^2 = 1$ Sammenhold den analytiske ACF og PACF på baggrund af disse parametre med den estimerede i spørgsmålet ovenfor - er der overensstemmelse mellem disse? Hvorfor/hvorfor ikke?"
   ]
  },
  {
   "cell_type": "code",
   "execution_count": null,
   "metadata": {},
   "outputs": [],
   "source": []
  },
  {
   "cell_type": "code",
   "execution_count": null,
   "metadata": {},
   "outputs": [],
   "source": []
  },
  {
   "cell_type": "code",
   "execution_count": null,
   "metadata": {},
   "outputs": [],
   "source": []
  },
  {
   "cell_type": "code",
   "execution_count": null,
   "metadata": {},
   "outputs": [],
   "source": []
  },
  {
   "cell_type": "code",
   "execution_count": null,
   "metadata": {},
   "outputs": [],
   "source": []
  },
  {
   "cell_type": "code",
   "execution_count": null,
   "metadata": {},
   "outputs": [],
   "source": []
  },
  {
   "cell_type": "markdown",
   "metadata": {},
   "source": [
    "# Tidsvarierende volatilitet [20%]\n",
    "Denne opgave består af 2 dele. Den første del er overvejende teoretisk mens anden del i spørgsmål 2.5 har en mere implementerende karakter. Begge dele indgår ligeligt i vurderingen."
   ]
  },
  {
   "cell_type": "markdown",
   "metadata": {},
   "source": [
    "**Spørgsmål 2.1** Et eksempel på en økonometrisk model, der tillader tidsvarierende varians (tidsvarierende volatilitet) er GARCH modellen. Skriv de nødvendige ligninger op for en GARCH(1,1) model og redegør for, hvordan man kan se den tidsvarierende varians. Husk at beskrive symbolerne i ligningerne og eventuelle antagelser."
   ]
  },
  {
   "cell_type": "code",
   "execution_count": null,
   "metadata": {},
   "outputs": [],
   "source": []
  },
  {
   "cell_type": "markdown",
   "metadata": {},
   "source": [
    "**Spørgsmål 2.2** Hvilke restriktioner på parametrene skal være opfyldt for at GARCH modellen er stationær?"
   ]
  },
  {
   "cell_type": "code",
   "execution_count": null,
   "metadata": {},
   "outputs": [],
   "source": []
  },
  {
   "cell_type": "markdown",
   "metadata": {},
   "source": [
    "**Spørgsmål 2.3** Hvis fejlleddet er beskrevet ved en GARCH(1,1) proces, hvilken proces følger de kvadrerede residuler \"2 t da?"
   ]
  },
  {
   "cell_type": "markdown",
   "metadata": {},
   "source": [
    "De følger en ARMA(1,1) model"
   ]
  },
  {
   "cell_type": "markdown",
   "metadata": {},
   "source": [
    "**Spørgsmål 2.4** Hvordan vil du i praksis forsøge at vurdere om der er ARCH/GARCH effekter i fejlleddet \"t; eksempelvis ved en simpel graf?"
   ]
  },
  {
   "cell_type": "code",
   "execution_count": null,
   "metadata": {},
   "outputs": [],
   "source": []
  },
  {
   "cell_type": "markdown",
   "metadata": {},
   "source": [
    "**Spørgsmål 2.5** Empirisk applikation. Brug data for infationen fra Excel filen benævnt dataExam2016 fra fanebladet \"GARCH\". Find en passende ARCH eller GARCH model for infationen for perioden 1960:Q1 til 2013:Q2. Afprøv maksimalt 4 ARCH/GARCH modeller og rapporter modellernes koefcientestimater, standard errors og informationskriterie(r). Plot også den estimerede volatilitet."
   ]
  },
  {
   "cell_type": "code",
   "execution_count": null,
   "metadata": {},
   "outputs": [],
   "source": []
  },
  {
   "cell_type": "code",
   "execution_count": null,
   "metadata": {},
   "outputs": [],
   "source": []
  },
  {
   "cell_type": "code",
   "execution_count": null,
   "metadata": {},
   "outputs": [],
   "source": []
  },
  {
   "cell_type": "markdown",
   "metadata": {},
   "source": [
    "**Spørgsmål 2.6** Slut af med at teste om din foretrukne ARCH/GARCH model er velspecificeret."
   ]
  },
  {
   "cell_type": "code",
   "execution_count": null,
   "metadata": {},
   "outputs": [],
   "source": []
  },
  {
   "cell_type": "code",
   "execution_count": null,
   "metadata": {},
   "outputs": [],
   "source": []
  },
  {
   "cell_type": "markdown",
   "metadata": {},
   "source": [
    "# Opgave 3: Kointegration og fejlkorrektionsmodeller [45%]\n",
    "I en ind‡ydelsesrig artikel1 foreslog Lettau og Ludvigson at forbrug, formue og indkomst må udgøre en langsigtet ligevægt. Forbrugeren ønsker at udjævne forbruget, og med udsigt til forøgede fremtidige formueafkast sættes forbruget i vejret, mens det omvendte gør sig gældende ved udsigten til faldende afkast. Formue udgøres dog ikke alene af …- nansielle aktiver men også af human kapital, hvor udsigten til forøgede fremtidige afkast på human kapital får forbrugeren til at øge forbruget i dag. Forfatterne approksimerer human kapital som proportional til indkomsten. Hvis således forbruget (c) i dag er højt relativt til den …nansielle forme (a) og human kapitalen approksimeret ved indkomsten (y), så må der på lang sigt være en ligevægtsrelation mellem disse variable, ifølge Let- tau og Ludvigson. Din opgave er nu empirisk at veri…cere denne påstand ved hjælp af kointegrationsanalyse og fejlkorrektionsmodeller."
   ]
  },
  {
   "cell_type": "markdown",
   "metadata": {},
   "source": [
    "**Spørgsmål 3.1** Giv en formel formel de…nition på kointegration."
   ]
  },
  {
   "cell_type": "markdown",
   "metadata": {},
   "source": [
    "**Spørgsmål 3.2** Giv dernæst en intuitiv forklaring på hvorfor 2 eller ‡ere variable kan vise sig at være kointegreret. Max. 1\n",
    "2 side."
   ]
  },
  {
   "cell_type": "markdown",
   "metadata": {},
   "source": [
    "**Spørgsmål 3.3** For hver af variablene c; a; og y bedes du ved et unit root test afgøre om det opgivne tidsrækkedata på variablene er I (1) eller I (0) : Data ses i fanebladet \"Let- tauLudvigson\"i dataExam2016.xlsx. Hvad er nulhypotesen i dit test? Skriv din endelige modelspeci…kation op og gør rede for dine overvejelser omkring din modelspeci…kation, herunder eventuelle øvrige statistiske test. Dit svar skal slutte af med en tabel, hvor læseren klart og tydeligt kan a‡æse konklusionen og de valg du har tru¤et."
   ]
  },
  {
   "cell_type": "markdown",
   "metadata": {},
   "source": [
    "**Spørgsmål 3.4** Ved hjælp afEngle-Granger metoden bedes du nu teste for kointegration mellem c; a; og y: Lad dit udgangspunkt være en langsigtet sammenhæng i form af:\n",
    "ct = ?0 + ?aat + ?yyt + et (3.1)\n",
    "hvor du igen slutter dit svar af med en tabel, hvor læseren klart og tydeligt kan a‡æse konklusionen og de valg du har tru¤et. Husk at rapportere kritiske værdier."
   ]
  },
  {
   "cell_type": "markdown",
   "metadata": {},
   "source": [
    "**Spørgsmål 3.5** Som en del af Engle-Granger metoden bedes du også estimere en fejl- korrektionsmodel for de tre variable. Kommentér på resultaterne."
   ]
  },
  {
   "cell_type": "markdown",
   "metadata": {},
   "source": [
    "**Spørgsmål 3.6** Johansen metoden er et alternativ til Engle-Granger. Hvad er fordelene ved Johansen metoden? Max. 1\n",
    "2 side."
   ]
  },
  {
   "cell_type": "markdown",
   "metadata": {},
   "source": [
    "**Spørgsmål 3.7** Du får nu opgivet nedenstående resultater på baggrund af Johansen metoden. Du bedes argumentere for antallet af kointegrationsrelationer ifølge Johansen metoden. I dit svar bedes du skrive de anvendte test op og kommentere på nulhypotesen. Kommer du frem til en anden konklusion sammenlignet med Engle-Granger?\n",
    "\n",
    "![Alt text](data/exam/table.png)"
   ]
  },
  {
   "cell_type": "markdown",
   "metadata": {},
   "source": [
    "**Spørgsmål 3.8** Givet din konklusion på antallet af kointegrationsrelationer fra oven- stående spørgsmål, hvad er da rangen afden såkaldte ? matrice? Hvordan hænger rangen af ? sammen med egenværdierne?"
   ]
  },
  {
   "cell_type": "markdown",
   "metadata": {},
   "source": [
    "**Spørgsmål 3.9** Konkludér kortfattet på, om du …nder empirisk belæg for Lettau og Ludvigsons postulerede sammenhæng mellem c; a og y:Maximalt 1\n",
    "2 side"
   ]
  },
  {
   "cell_type": "markdown",
   "metadata": {},
   "source": []
  },
  {
   "cell_type": "code",
   "execution_count": null,
   "metadata": {},
   "outputs": [],
   "source": []
  },
  {
   "cell_type": "code",
   "execution_count": null,
   "metadata": {},
   "outputs": [],
   "source": []
  },
  {
   "cell_type": "code",
   "execution_count": null,
   "metadata": {},
   "outputs": [],
   "source": []
  },
  {
   "cell_type": "code",
   "execution_count": null,
   "metadata": {},
   "outputs": [],
   "source": []
  },
  {
   "cell_type": "code",
   "execution_count": null,
   "metadata": {},
   "outputs": [],
   "source": []
  },
  {
   "cell_type": "markdown",
   "metadata": {},
   "source": [
    "# 4 Vektorautoregressive modeller [25%]\n",
    "Betragt en trivariate VAR(2) model med nedenstående estimerede parametre fra den reducerede form. Med trivariate menes 3 variable.\n",
    "\n",
    "\n",
    "$$\n",
    "\\begin{bmatrix} y_{1t} \\\\ y_{2t} \\\\ y_{3t}  \\end{bmatrix}\n",
    "=\n",
    "\\begin{bmatrix} -0.50 & 0.20 & 1.80 \\\\\n",
    "                0.10 & -0.25 & 0.60 \\\\\n",
    "                -0.05 & 0.50 & -0.60 \n",
    "\\end{bmatrix}\n",
    "\\begin{bmatrix} y_{1,t-1} \\\\ y_{2,t-1} \\\\ y_{3,t-1}  \\end{bmatrix}\n",
    "+\n",
    "\\begin{bmatrix} -0.20 & 0.30 & 2.00 \\\\\n",
    "                0.10 & 0.02 & -0.02 \\\\\n",
    "                0.07 & 0.70 & -0.05 \n",
    "\\end{bmatrix}\n",
    "\\begin{bmatrix} y_{1,t-2} \\\\ y_{2,t-2} \\\\ y_{3,t-2}  \\end{bmatrix}\n",
    "+\n",
    "\\begin{bmatrix} \\varepsilon_{1t} \\\\ \\varepsilon_{2t} \\\\ \\varepsilon_{3t}  \\end{bmatrix}\n",
    "$$\n",
    "\n",
    "hvor vektoren $\\varepsilon_t \\sim N(0,\\Sigma_\\varepsilon)$ og med\n",
    "$$\n",
    "\\Sigma_\\varepsilon =\n",
    "\\begin{bmatrix} 0.0080 & 0.0002 & 0.0003 \\\\\n",
    "                0.0002 & 0.0004 & 0.0001 \\\\\n",
    "                0.0003 & 0.0001 & 0.0017 \n",
    "\\end{bmatrix}\n",
    "$$"
   ]
  },
  {
   "cell_type": "markdown",
   "metadata": {},
   "source": [
    "**Spørgsmål 4.1** Er modellen stationær? Redegør i detaljer for dit svar og anvend tallene ovenfor i dine beregninger. Tip: Hvis du ikke vil bruge R i dine beregninger kan du overve- je en online matrix calculator; eksempelvis http://www.bluebit.gr/matrix-calculator/calculate.aspx eller anden."
   ]
  },
  {
   "cell_type": "markdown",
   "metadata": {},
   "source": [
    "**Spørgsmål 4.2** De…nér begrebet ’impulse responses’ og hvad man kan bruge ’impulse response’ analyse til. Forklar hvorfor det ikke giver mening at anvende den reducerede form VAR i strukturel impulse response analyse."
   ]
  },
  {
   "cell_type": "markdown",
   "metadata": {},
   "source": [
    "**Spørgsmål 4.3** Hvor mange identi…cerende restriktioner må du pålægge den reducerede form VAR?"
   ]
  },
  {
   "cell_type": "markdown",
   "metadata": {},
   "source": [
    "**Spørgsmål 4.4** Giv en diskussion på maksimalt 2 sider af hvorfor pålægger man iden- ti…cerende restriktioner. Du kan overveje at medtage et eksempel i din diskussion."
   ]
  },
  {
   "cell_type": "markdown",
   "metadata": {},
   "source": [
    "**Spørgsmål 4.5** Beregn en Cholesky dekomponering af?\" og anvend denne i en impulse response beregning for de 3 variable over en horisont på mindst 3 perioder. Speci…kt bedes du:\n",
    "\n",
    "1. Betragte VMA formen; speci…kt Ci rekursionen for de første i = 1; ::; 3 led i Yt = P1\n",
    "i=0 Ci\"t?i; hvor Yt angiver vektoren med de tre variable på tid t, dvs. Yt =\n",
    "(y1t; y2t; y3t). 1 Du bedes eksplicit rapportere responsen for y2 efter 3 perioder som følge af et chok til den første variabel.\n",
    "\n",
    "2. Betragte SVMA; specifikt $\\Theta_i$ rekursionen for de første i = 1; ::; 3 led i Yt = P1\n",
    "i=1 ?i\"t?i; hvor Yt angiver vektoren med de tre variable på tid t, dvs. Yt =\n",
    "(y1t; y2t; y3t) ; og hvor ?i = CiP og hvor P stammer fra en Cholesky decomponer- ing. Du bedes eksplicit rapportere responsen for y2 efter 3 perioder som følge af et chok til den første variabel.\n",
    "?"
   ]
  }
 ],
 "metadata": {
  "kernelspec": {
   "display_name": "R",
   "language": "R",
   "name": "ir"
  },
  "language_info": {
   "codemirror_mode": "r",
   "file_extension": ".r",
   "mimetype": "text/x-r-source",
   "name": "R",
   "pygments_lexer": "r",
   "version": "3.5.1"
  }
 },
 "nbformat": 4,
 "nbformat_minor": 2
}
