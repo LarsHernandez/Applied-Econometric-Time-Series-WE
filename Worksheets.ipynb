{
 "cells": [
  {
   "cell_type": "markdown",
   "metadata": {},
   "source": [
    "# Introduction"
   ]
  },
  {
   "cell_type": "code",
   "execution_count": 43,
   "metadata": {},
   "outputs": [],
   "source": [
    "library(ggplot2) \n",
    "library(repr)\n",
    "\n",
    "options(repr.plot.width=4, repr.plot.height=2)"
   ]
  },
  {
   "cell_type": "markdown",
   "metadata": {},
   "source": [
    "# Non-imaginary roots WS 1.1\n",
    "$y_t = 0.2y_{t-1}+0.35y_{t-2}$"
   ]
  },
  {
   "cell_type": "code",
   "execution_count": 29,
   "metadata": {},
   "outputs": [
    {
     "data": {
      "text/html": [
       "1.44"
      ],
      "text/latex": [
       "1.44"
      ],
      "text/markdown": [
       "1.44"
      ],
      "text/plain": [
       "[1] 1.44"
      ]
     },
     "metadata": {},
     "output_type": "display_data"
    }
   ],
   "source": [
    "a1 <- 0.2\n",
    "a2 <- 0.35\n",
    "d <- a1^2 + 4*a2\n",
    "d"
   ]
  },
  {
   "cell_type": "code",
   "execution_count": 30,
   "metadata": {},
   "outputs": [
    {
     "data": {
      "text/html": [
       "0.7"
      ],
      "text/latex": [
       "0.7"
      ],
      "text/markdown": [
       "0.7"
      ],
      "text/plain": [
       "[1] 0.7"
      ]
     },
     "metadata": {},
     "output_type": "display_data"
    },
    {
     "data": {
      "text/html": [
       "-0.5"
      ],
      "text/latex": [
       "-0.5"
      ],
      "text/markdown": [
       "-0.5"
      ],
      "text/plain": [
       "[1] -0.5"
      ]
     },
     "metadata": {},
     "output_type": "display_data"
    }
   ],
   "source": [
    "0.5*(a1+d^0.5)\n",
    "0.5*(a1-d^0.5)"
   ]
  },
  {
   "cell_type": "markdown",
   "metadata": {},
   "source": [
    "Den homogene løsning er derfor:\n",
    "\n",
    "$A_1(0.7)^t + A_2(-0.5)^t$"
   ]
  },
  {
   "cell_type": "code",
   "execution_count": 31,
   "metadata": {},
   "outputs": [
    {
     "data": {},
     "metadata": {},
     "output_type": "display_data"
    },
    {
     "data": {
      "image/png": "[encoded data removed]",
      "text/plain": [
       "plot without title"
      ]
     },
     "metadata": {},
     "output_type": "display_data"
    }
   ],
   "source": [
    "vec <- 1:20\n",
    "res <- (0.7)^vec + (-0.5)^vec\n",
    "\n",
    "ggplot() + \n",
    "    geom_line(aes(vec,res))"
   ]
  },
  {
   "cell_type": "markdown",
   "metadata": {},
   "source": [
    "Et ekstra eksempel (som ikke er stationært)"
   ]
  },
  {
   "cell_type": "code",
   "execution_count": 32,
   "metadata": {},
   "outputs": [
    {
     "data": {},
     "metadata": {},
     "output_type": "display_data"
    },
    {
     "data": {
      "image/png": "[encoded data removed]",
      "text/plain": [
       "plot without title"
      ]
     },
     "metadata": {},
     "output_type": "display_data"
    }
   ],
   "source": [
    "a1 <- 0.7\n",
    "a2 <- 0.35\n",
    "d <- a1^2 + 4*a2\n",
    "alfa1 <- 0.5*(a1+d^0.5)\n",
    "alfa2 <- 0.5*(a1-d^0.5)\n",
    "\n",
    "vec <- 1:20\n",
    "res <- (alfa1)^vec + (alfa2)^vec\n",
    "\n",
    "ggplot() + \n",
    "    geom_line(aes(vec,res))"
   ]
  },
  {
   "cell_type": "markdown",
   "metadata": {},
   "source": [
    "# Imagninary roots WS 1.2\n",
    "$y_t = 1.6y_{t-1}-0.9y_{t-2}$"
   ]
  },
  {
   "cell_type": "code",
   "execution_count": 33,
   "metadata": {},
   "outputs": [
    {
     "data": {
      "text/html": [
       "-1.04"
      ],
      "text/latex": [
       "-1.04"
      ],
      "text/markdown": [
       "-1.04"
      ],
      "text/plain": [
       "[1] -1.04"
      ]
     },
     "metadata": {},
     "output_type": "display_data"
    }
   ],
   "source": [
    "a1 <- 1.6\n",
    "a2 <- -0.9\n",
    "\n",
    "d <- a1^2+4*a2\n",
    "d"
   ]
  },
  {
   "cell_type": "code",
   "execution_count": 34,
   "metadata": {},
   "outputs": [
    {
     "data": {
      "text/html": [
       "0.8+0.509901951359278i"
      ],
      "text/latex": [
       "0.8+0.509901951359278i"
      ],
      "text/markdown": [
       "0.8+0.509901951359278i"
      ],
      "text/plain": [
       "[1] 0.8+0.509902i"
      ]
     },
     "metadata": {},
     "output_type": "display_data"
    },
    {
     "data": {
      "text/html": [
       "0.8-0.509901951359278i"
      ],
      "text/latex": [
       "0.8-0.509901951359278i"
      ],
      "text/markdown": [
       "0.8-0.509901951359278i"
      ],
      "text/plain": [
       "[1] 0.8-0.509902i"
      ]
     },
     "metadata": {},
     "output_type": "display_data"
    }
   ],
   "source": [
    "0.5*(a1+as.complex(d)^0.5)\n",
    "0.5*(a1-as.complex(d)^0.5)"
   ]
  },
  {
   "cell_type": "code",
   "execution_count": 38,
   "metadata": {},
   "outputs": [
    {
     "data": {
      "text/html": [
       "0.948683298050514"
      ],
      "text/latex": [
       "0.948683298050514"
      ],
      "text/markdown": [
       "0.948683298050514"
      ],
      "text/plain": [
       "[1] 0.9486833"
      ]
     },
     "metadata": {},
     "output_type": "display_data"
    },
    {
     "data": {
      "text/html": [
       "0.948683298050514"
      ],
      "text/latex": [
       "0.948683298050514"
      ],
      "text/markdown": [
       "0.948683298050514"
      ],
      "text/plain": [
       "[1] 0.9486833"
      ]
     },
     "metadata": {},
     "output_type": "display_data"
    }
   ],
   "source": [
    "sqrt(0.8^2 + 0.509901951359278^2)\n",
    "sqrt(0.9)"
   ]
  },
  {
   "cell_type": "code",
   "execution_count": 39,
   "metadata": {},
   "outputs": [
    {
     "data": {
      "text/html": [
       "0.948683298050514"
      ],
      "text/latex": [
       "0.948683298050514"
      ],
      "text/markdown": [
       "0.948683298050514"
      ],
      "text/plain": [
       "[1] 0.9486833"
      ]
     },
     "metadata": {},
     "output_type": "display_data"
    }
   ],
   "source": [
    "r <- (-a2)^0.5\n",
    "r"
   ]
  },
  {
   "cell_type": "code",
   "execution_count": 40,
   "metadata": {},
   "outputs": [
    {
     "data": {
      "text/html": [
       "0.567450475278837"
      ],
      "text/latex": [
       "0.567450475278837"
      ],
      "text/markdown": [
       "0.567450475278837"
      ],
      "text/plain": [
       "[1] 0.5674505"
      ]
     },
     "metadata": {},
     "output_type": "display_data"
    }
   ],
   "source": [
    "theta <- acos(a1/(2*(-a2)^0.5))\n",
    "theta"
   ]
  },
  {
   "cell_type": "code",
   "execution_count": 41,
   "metadata": {},
   "outputs": [
    {
     "data": {},
     "metadata": {},
     "output_type": "display_data"
    },
    {
     "data": {},
     "metadata": {},
     "output_type": "display_data"
    },
    {
     "data": {
      "image/png": "[encoded data removed]",
      "text/plain": [
       "plot without title"
      ]
     },
     "metadata": {},
     "output_type": "display_data"
    },
    {
     "data": {
      "image/png": "[encoded data removed]",
      "text/plain": [
       "plot without title"
      ]
     },
     "metadata": {},
     "output_type": "display_data"
    }
   ],
   "source": [
    "vec <- 1:30\n",
    "res <- 1*(r)^vec*cos(theta*vec+0)\n",
    "\n",
    "ggplot() + \n",
    "    geom_line(aes(vec,res))\n",
    "\n",
    "vec <- 1:30\n",
    "res <- 1*(0.949)^vec*cos(1.89*vec+0)\n",
    "\n",
    "ggplot() + \n",
    "    geom_line(aes(vec,res))"
   ]
  },
  {
   "cell_type": "markdown",
   "metadata": {},
   "source": [
    "# Coefficients of the ARMA(2,1) process WS 2.1\n",
    "\n",
    "$y_t = 1.6y_{t-1}-0.9y_{t-2} + \\varepsilon_1 + 0.5\\varepsilon_{t-1}$\n",
    "\n",
    "Vi kan anvende tallene r og theta fra forrige WS da tallene er ens"
   ]
  },
  {
   "cell_type": "code",
   "execution_count": null,
   "metadata": {},
   "outputs": [],
   "source": [
    "theta\n",
    "r"
   ]
  },
  {
   "cell_type": "code",
   "execution_count": null,
   "metadata": {},
   "outputs": [],
   "source": []
  },
  {
   "cell_type": "code",
   "execution_count": null,
   "metadata": {},
   "outputs": [],
   "source": [
    "b1 <- 2.739\n",
    "b2 <- -1.197\n",
    "\n",
    "round(cos(b2)-(r/2.1)*cos(theta+b2), 3)\n",
    "\n",
    "vec <- 0:50\n",
    "res <- b1*0.949^vec*cos(0.567*vec+b2)\n",
    "a   <- 2.739*0.949^vec*cos(0.567*vec-1.197)\n",
    "ggplot() + \n",
    "    geom_line(aes(vec,res))"
   ]
  },
  {
   "cell_type": "code",
   "execution_count": null,
   "metadata": {},
   "outputs": [],
   "source": [
    "ktk <- c(1,2.1)\n",
    "\n",
    "for (i in 3:50) {\n",
    "    ktk[i] <- 1.6*ktk[i-1]-0.9*ktk[i-2] \n",
    "}\n",
    "\n",
    "ggplot() + \n",
    "    geom_line(aes(0:49, ktk))"
   ]
  },
  {
   "cell_type": "code",
   "execution_count": null,
   "metadata": {},
   "outputs": [],
   "source": []
  },
  {
   "cell_type": "code",
   "execution_count": null,
   "metadata": {},
   "outputs": [],
   "source": []
  },
  {
   "cell_type": "markdown",
   "metadata": {},
   "source": [
    "# Spurious regression WS 4.1\n",
    "$a+b$"
   ]
  },
  {
   "cell_type": "code",
   "execution_count": 36,
   "metadata": {},
   "outputs": [],
   "source": [
    "n <- 1000\n",
    "x <- c(1:n)"
   ]
  },
  {
   "cell_type": "code",
   "execution_count": 20,
   "metadata": {},
   "outputs": [
    {
     "data": {},
     "metadata": {},
     "output_type": "display_data"
    },
    {
     "data": {
      "image/png": "[encoded data removed]",
      "text/plain": [
       "plot without title"
      ]
     },
     "metadata": {},
     "output_type": "display_data"
    }
   ],
   "source": [
    "set.seed(4)\n",
    "y <- cumsum(rnorm(n))\n",
    "\n",
    "data <- data.frame(x, y)\n",
    "\n",
    "ggplot() + \n",
    "    geom_line(data=data, aes(x, y))"
   ]
  },
  {
   "cell_type": "code",
   "execution_count": null,
   "metadata": {},
   "outputs": [],
   "source": []
  },
  {
   "cell_type": "code",
   "execution_count": 22,
   "metadata": {},
   "outputs": [
    {
     "data": {},
     "metadata": {},
     "output_type": "display_data"
    },
    {
     "data": {
      "image/png": "[encoded data removed]",
      "text/plain": [
       "plot without title"
      ]
     },
     "metadata": {},
     "output_type": "display_data"
    }
   ],
   "source": [
    "set.seed(16)\n",
    "\n",
    "data$z <- cumsum(rnorm(n))\n",
    "\n",
    "ggplot() + \n",
    "    geom_line(data=data, aes(x, z))"
   ]
  },
  {
   "cell_type": "code",
   "execution_count": 23,
   "metadata": {},
   "outputs": [
    {
     "data": {},
     "metadata": {},
     "output_type": "display_data"
    },
    {
     "data": {
      "image/png": "[encoded data removed]",
      "text/plain": [
       "plot without title"
      ]
     },
     "metadata": {},
     "output_type": "display_data"
    }
   ],
   "source": [
    "ggplot(data, aes(y,z)) + \n",
    "    geom_point(alpha=0.2) + \n",
    "    geom_smooth(method = \"lm\")"
   ]
  },
  {
   "cell_type": "code",
   "execution_count": 25,
   "metadata": {},
   "outputs": [
    {
     "data": {
      "text/plain": [
       "\n",
       "Call:\n",
       "lm(formula = y ~ z, data = data)\n",
       "\n",
       "Residuals:\n",
       "     Min       1Q   Median       3Q      Max \n",
       "-24.0005  -4.3668   0.3076   4.8037  16.1560 \n",
       "\n",
       "Coefficients:\n",
       "            Estimate Std. Error t value Pr(>|t|)    \n",
       "(Intercept)  7.55514    0.43753   17.27   <2e-16 ***\n",
       "z           -0.60891    0.01256  -48.49   <2e-16 ***\n",
       "---\n",
       "Signif. codes:  0 '***' 0.001 '**' 0.01 '*' 0.05 '.' 0.1 ' ' 1\n",
       "\n",
       "Residual standard error: 7.445 on 998 degrees of freedom\n",
       "Multiple R-squared:  0.7021,\tAdjusted R-squared:  0.7018 \n",
       "F-statistic:  2352 on 1 and 998 DF,  p-value: < 2.2e-16\n"
      ]
     },
     "metadata": {},
     "output_type": "display_data"
    }
   ],
   "source": [
    "reg <- lm(y ~ z, data=data)\n",
    "summary(reg)"
   ]
  },
  {
   "cell_type": "code",
   "execution_count": 27,
   "metadata": {},
   "outputs": [
    {
     "data": {},
     "metadata": {},
     "output_type": "display_data"
    },
    {
     "data": {
      "image/png": "[encoded data removed]",
      "text/plain": [
       "plot without title"
      ]
     },
     "metadata": {},
     "output_type": "display_data"
    }
   ],
   "source": [
    " \n",
    "data$res <- resid(reg)\n",
    "\n",
    "ggplot() + \n",
    "    geom_line(data=data, aes(x, res))"
   ]
  },
  {
   "cell_type": "code",
   "execution_count": 48,
   "metadata": {},
   "outputs": [
    {
     "data": {},
     "metadata": {},
     "output_type": "display_data"
    },
    {
     "data": {
      "image/png": "[encoded data removed]",
      "text/plain": [
       "plot without title"
      ]
     },
     "metadata": {},
     "output_type": "display_data"
    }
   ],
   "source": [
    "y_drift <- cumsum(rnorm(n)+0.2)\n",
    "z_drift <- cumsum(rnorm(n)-0.1)\n",
    "\n",
    "data$y_drift <- y_drift\n",
    "data$z_drift <- z_drift\n",
    "\n",
    "ggplot() + \n",
    "    geom_line(data=data, aes(x, y_drift)) + \n",
    "    geom_line(data=data, aes(x, z_drift))"
   ]
  },
  {
   "cell_type": "code",
   "execution_count": 49,
   "metadata": {},
   "outputs": [
    {
     "data": {
      "text/plain": [
       "\n",
       "Call:\n",
       "lm(formula = y_drift ~ z_drift)\n",
       "\n",
       "Residuals:\n",
       "    Min      1Q  Median      3Q     Max \n",
       "-24.179  -9.458  -3.255   5.863  49.535 \n",
       "\n",
       "Coefficients:\n",
       "             Estimate Std. Error  t value Pr(>|t|)    \n",
       "(Intercept) -4.551929   0.905864   -5.025 5.96e-07 ***\n",
       "z_drift     -1.146980   0.009732 -117.857  < 2e-16 ***\n",
       "---\n",
       "Signif. codes:  0 '***' 0.001 '**' 0.01 '*' 0.05 '.' 0.1 ' ' 1\n",
       "\n",
       "Residual standard error: 14.17 on 998 degrees of freedom\n",
       "Multiple R-squared:  0.933,\tAdjusted R-squared:  0.9329 \n",
       "F-statistic: 1.389e+04 on 1 and 998 DF,  p-value: < 2.2e-16\n"
      ]
     },
     "metadata": {},
     "output_type": "display_data"
    }
   ],
   "source": [
    "reg_drift <- lm(y_drift ~ z_drift)\n",
    "summary(reg_drift)"
   ]
  },
  {
   "cell_type": "code",
   "execution_count": 50,
   "metadata": {},
   "outputs": [
    {
     "data": {},
     "metadata": {},
     "output_type": "display_data"
    },
    {
     "data": {},
     "metadata": {},
     "output_type": "display_data"
    },
    {
     "data": {
      "image/png": "[encoded data removed]",
      "text/plain": [
       "plot without title"
      ]
     },
     "metadata": {},
     "output_type": "display_data"
    },
    {
     "data": {
      "image/png": "[encoded data removed]",
      "text/plain": [
       "plot without title"
      ]
     },
     "metadata": {},
     "output_type": "display_data"
    }
   ],
   "source": [
    "res_drift <- resid(reg_drift)\n",
    "data$res_drift <- res_drift\n",
    "\n",
    "ggplot() + \n",
    "    geom_line(data=data, aes(x, res_drift))\n",
    "\n",
    "ggplot(data, aes(y_drift,z_drift)) + \n",
    "    geom_point(alpha=0.2) + \n",
    "    geom_smooth(method = \"lm\")"
   ]
  },
  {
   "cell_type": "code",
   "execution_count": 51,
   "metadata": {},
   "outputs": [
    {
     "data": {
      "text/html": [
       "<table>\n",
       "<thead><tr><th scope=col>x</th><th scope=col>y</th><th scope=col>z</th><th scope=col>res</th><th scope=col>y_drift</th><th scope=col>z_drift</th><th scope=col>res_drift</th></tr></thead>\n",
       "<tbody>\n",
       "\t<tr><td>1           </td><td> 0.2167549  </td><td>0.2588229   </td><td>1.867557    </td><td> 0.003797725</td><td> 0.4051713  </td><td>5.020450    </td></tr>\n",
       "\t<tr><td>2           </td><td>-0.3257377  </td><td>2.0899436   </td><td>2.583552    </td><td> 0.798830740</td><td>-0.2233842  </td><td>5.094542    </td></tr>\n",
       "\t<tr><td>3           </td><td> 0.5654069  </td><td>1.7503250   </td><td>3.241285    </td><td>-0.610051568</td><td>-0.6632702  </td><td>3.181119    </td></tr>\n",
       "\t<tr><td>4           </td><td> 1.1613875  </td><td>2.6475232   </td><td>4.453890    </td><td>-0.368816494</td><td>-0.9964623  </td><td>3.040190    </td></tr>\n",
       "\t<tr><td>5           </td><td> 2.7970055  </td><td>3.1355395   </td><td>6.424910    </td><td>-1.420207938</td><td> 0.3957419  </td><td>3.585629    </td></tr>\n",
       "\t<tr><td>6           </td><td> 3.4862810  </td><td>1.8801536   </td><td>6.251387    </td><td>-1.087685576</td><td> 0.4292664  </td><td>3.956603    </td></tr>\n",
       "</tbody>\n",
       "</table>\n"
      ],
      "text/latex": [
       "\\begin{tabular}{r|lllllll}\n",
       " x & y & z & res & y\\_drift & z\\_drift & res\\_drift\\\\\n",
       "\\hline\n",
       "\t 1            &  0.2167549   & 0.2588229    & 1.867557     &  0.003797725 &  0.4051713   & 5.020450    \\\\\n",
       "\t 2            & -0.3257377   & 2.0899436    & 2.583552     &  0.798830740 & -0.2233842   & 5.094542    \\\\\n",
       "\t 3            &  0.5654069   & 1.7503250    & 3.241285     & -0.610051568 & -0.6632702   & 3.181119    \\\\\n",
       "\t 4            &  1.1613875   & 2.6475232    & 4.453890     & -0.368816494 & -0.9964623   & 3.040190    \\\\\n",
       "\t 5            &  2.7970055   & 3.1355395    & 6.424910     & -1.420207938 &  0.3957419   & 3.585629    \\\\\n",
       "\t 6            &  3.4862810   & 1.8801536    & 6.251387     & -1.087685576 &  0.4292664   & 3.956603    \\\\\n",
       "\\end{tabular}\n"
      ],
      "text/markdown": [
       "\n",
       "x | y | z | res | y_drift | z_drift | res_drift | \n",
       "|---|---|---|---|---|---|\n",
       "| 1            |  0.2167549   | 0.2588229    | 1.867557     |  0.003797725 |  0.4051713   | 5.020450     | \n",
       "| 2            | -0.3257377   | 2.0899436    | 2.583552     |  0.798830740 | -0.2233842   | 5.094542     | \n",
       "| 3            |  0.5654069   | 1.7503250    | 3.241285     | -0.610051568 | -0.6632702   | 3.181119     | \n",
       "| 4            |  1.1613875   | 2.6475232    | 4.453890     | -0.368816494 | -0.9964623   | 3.040190     | \n",
       "| 5            |  2.7970055   | 3.1355395    | 6.424910     | -1.420207938 |  0.3957419   | 3.585629     | \n",
       "| 6            |  3.4862810   | 1.8801536    | 6.251387     | -1.087685576 |  0.4292664   | 3.956603     | \n",
       "\n",
       "\n"
      ],
      "text/plain": [
       "  x y          z         res      y_drift      z_drift    res_drift\n",
       "1 1  0.2167549 0.2588229 1.867557  0.003797725  0.4051713 5.020450 \n",
       "2 2 -0.3257377 2.0899436 2.583552  0.798830740 -0.2233842 5.094542 \n",
       "3 3  0.5654069 1.7503250 3.241285 -0.610051568 -0.6632702 3.181119 \n",
       "4 4  1.1613875 2.6475232 4.453890 -0.368816494 -0.9964623 3.040190 \n",
       "5 5  2.7970055 3.1355395 6.424910 -1.420207938  0.3957419 3.585629 \n",
       "6 6  3.4862810 1.8801536 6.251387 -1.087685576  0.4292664 3.956603 "
      ]
     },
     "metadata": {},
     "output_type": "display_data"
    }
   ],
   "source": [
    "head(data)"
   ]
  },
  {
   "cell_type": "code",
   "execution_count": 44,
   "metadata": {},
   "outputs": [
    {
     "ename": "ERROR",
     "evalue": "Error in grid.arrange(a, b): could not find function \"grid.arrange\"\n",
     "output_type": "error",
     "traceback": [
      "Error in grid.arrange(a, b): could not find function \"grid.arrange\"\nTraceback:\n"
     ]
    }
   ],
   "source": [
    "\n",
    "z_1 <- diff(data$z)\n",
    "\n",
    "a <- ggplot() + \n",
    "   geom_line(aes(x[-1], z_1))\n",
    "\n",
    "y_1 <- diff(data$y)\n",
    "\n",
    "b <- ggplot() + \n",
    "   geom_line(aes(x[-1], y_1))"
   ]
  },
  {
   "cell_type": "code",
   "execution_count": 42,
   "metadata": {},
   "outputs": [
    {
     "data": {
      "text/plain": [
       "\n",
       "Call:\n",
       "lm(formula = y_1 ~ z_1)\n",
       "\n",
       "Residuals:\n",
       "    Min      1Q  Median      3Q     Max \n",
       "-2.7396 -0.6328 -0.0077  0.6642  3.2302 \n",
       "\n",
       "Coefficients:\n",
       "            Estimate Std. Error t value Pr(>|t|)\n",
       "(Intercept) -0.03606    0.03071  -1.174    0.241\n",
       "z_1          0.03313    0.03139   1.055    0.292\n",
       "\n",
       "Residual standard error: 0.9697 on 997 degrees of freedom\n",
       "Multiple R-squared:  0.001116,\tAdjusted R-squared:  0.0001139 \n",
       "F-statistic: 1.114 on 1 and 997 DF,  p-value: 0.2915\n"
      ]
     },
     "metadata": {},
     "output_type": "display_data"
    },
    {
     "data": {},
     "metadata": {},
     "output_type": "display_data"
    },
    {
     "data": {
      "image/png": "[encoded data removed]",
      "text/plain": [
       "plot without title"
      ]
     },
     "metadata": {},
     "output_type": "display_data"
    }
   ],
   "source": [
    "reg2 <- lm(y_1 ~ z_1)\n",
    "summary(reg2)\n",
    "\n",
    "df <- data.frame(y_1, z_1)\n",
    "\n",
    "ggplot(df, aes(y_1, z_1)) + \n",
    "    geom_point(alpha=0.2) + \n",
    "    geom_smooth(method = \"lm\")"
   ]
  },
  {
   "cell_type": "code",
   "execution_count": null,
   "metadata": {},
   "outputs": [],
   "source": []
  },
  {
   "cell_type": "code",
   "execution_count": null,
   "metadata": {},
   "outputs": [],
   "source": []
  }
 ],
 "metadata": {
  "kernelspec": {
   "display_name": "R",
   "language": "R",
   "name": "ir"
  },
  "language_info": {
   "codemirror_mode": "r",
   "file_extension": ".r",
   "mimetype": "text/x-r-source",
   "name": "R",
   "pygments_lexer": "r",
   "version": "3.5.1"
  }
 },
 "nbformat": 4,
 "nbformat_minor": 2
}
