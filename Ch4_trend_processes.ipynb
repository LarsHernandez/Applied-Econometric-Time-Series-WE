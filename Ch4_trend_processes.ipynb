{
 "cells": [
  {
   "cell_type": "code",
   "execution_count": 2,
   "metadata": {},
   "outputs": [
    {
     "name": "stderr",
     "output_type": "stream",
     "text": [
      "-- Attaching packages --------------------------------------- tidyverse 1.2.1 --\n",
      "v ggplot2 3.1.0     v purrr   0.2.5\n",
      "v tibble  1.4.2     v dplyr   0.7.7\n",
      "v tidyr   0.8.2     v stringr 1.3.1\n",
      "v readr   1.1.1     v forcats 0.3.0\n",
      "-- Conflicts ------------------------------------------ tidyverse_conflicts() --\n",
      "x dplyr::filter() masks stats::filter()\n",
      "x dplyr::lag()    masks stats::lag()\n",
      "Loading required package: parallel\n",
      "\n",
      "Attaching package: 'rugarch'\n",
      "\n",
      "The following object is masked from 'package:purrr':\n",
      "\n",
      "    reduce\n",
      "\n",
      "The following object is masked from 'package:stats':\n",
      "\n",
      "    sigma\n",
      "\n",
      "Loading required package: zoo\n",
      "\n",
      "Attaching package: 'zoo'\n",
      "\n",
      "The following objects are masked from 'package:base':\n",
      "\n",
      "    as.Date, as.Date.numeric\n",
      "\n",
      "Loading required package: lattice\n",
      "Loading required package: survival\n",
      "Loading required package: Formula\n",
      "\n",
      "Attaching package: 'Hmisc'\n",
      "\n",
      "The following objects are masked from 'package:dplyr':\n",
      "\n",
      "    src, summarize\n",
      "\n",
      "The following objects are masked from 'package:base':\n",
      "\n",
      "    format.pval, units\n",
      "\n",
      "\n",
      "Attaching package: 'gridExtra'\n",
      "\n",
      "The following object is masked from 'package:dplyr':\n",
      "\n",
      "    combine\n",
      "\n"
     ]
    }
   ],
   "source": [
    "library(tidyverse, quietly=T)\n",
    "library(forecast)\n",
    "library(repr) # Resizing the plots in jupyter\n",
    "library(rugarch) \n",
    "library(readxl)\n",
    "library(dynlm)\n",
    "library(Hmisc)\n",
    "library(gridExtra)\n",
    "\n",
    "options(repr.plot.width=8, repr.plot.height=4)"
   ]
  },
  {
   "cell_type": "code",
   "execution_count": 3,
   "metadata": {},
   "outputs": [],
   "source": [
    "b <- cumsum(rnorm(100))\n",
    "x <- 1:100\n",
    "sd <- 1.96*sqrt(1:100)\n",
    "t <- 1\n",
    "\n",
    "df <- data.frame(x, b, sd, t)\n",
    "a1 <- ggplot(df, aes(x,b)) + \n",
    "geom_line() + \n",
    "geom_line(aes(x,t), color=\"#045a8d\", linetype=\"dashed\") + \n",
    "geom_ribbon(aes(ymin=t-sd, ymax=t+sd), alpha=0.09, fill=\"#045a8d\") + \n",
    "labs(title=\"Difference stationary (random walk)\", x = \"\", y = \"\") +\n",
    "scale_y_continuous(limits=c(-30, 30), breaks=seq(-30, 30,10))"
   ]
  },
  {
   "cell_type": "code",
   "execution_count": 4,
   "metadata": {},
   "outputs": [],
   "source": [
    "b <- cumsum(rnorm(100)+0.3)\n",
    "x <- 1:100\n",
    "sd <- 1.96 * sqrt(1:100)\n",
    "t <- 0.3*1:100\n",
    "\n",
    "df <- data.frame(x, b, sd, t)\n",
    "a2 <- ggplot(df, aes(x,b)) + \n",
    "geom_line() + \n",
    "geom_line(aes(x,t), color=\"#045a8d\", linetype=\"dashed\") + \n",
    "geom_ribbon(aes(ymin=t-sd, ymax=t+sd), alpha=0.09, fill=\"#045a8d\") + \n",
    "labs(title=\"Difference stationary (stochastic trend)\", x = \"\", y = \"\") + \n",
    "scale_y_continuous(limits=c(-10, 50), breaks=seq(-10, 50,10))"
   ]
  },
  {
   "cell_type": "code",
   "execution_count": 5,
   "metadata": {},
   "outputs": [],
   "source": [
    "ny <- arima.sim(n = 100, list(ma = c(0.8, 0.4)))\n",
    "\n",
    "d <- 0\n",
    "sd <- sqrt(1^2*(1+0.8^2+0.4^2))*1.96\n",
    "df <- data.frame(x, ny, sd, d)\n",
    "\n",
    "a3 <- ggplot(df, aes(x,ny)) + \n",
    "geom_line() + \n",
    "geom_line(aes(x,d), color=\"#045a8d\", linetype=\"dashed\") + \n",
    "geom_ribbon(aes(ymin=d-sd, ymax=d+sd), alpha=0.09, fill=\"#045a8d\") + \n",
    "labs(title=\"Stationary\", x = \"\", y = \"\") + \n",
    "scale_y_continuous(limits=c(-15, 15), breaks=seq(-15, 15, 5))"
   ]
  },
  {
   "cell_type": "code",
   "execution_count": 6,
   "metadata": {},
   "outputs": [],
   "source": [
    "t <- 1:100\n",
    "ny <- arima.sim(n = 100, list(ma = c(0.8, 0.4)))\n",
    "ny <- ny + t*0.2\n",
    "\n",
    "d <- 0 + t*0.2\n",
    "sd <- sqrt(1^2*(1+0.8^2+0.4^2))*1.96\n",
    "df <- data.frame(x, ny, sd, d)\n",
    "\n",
    "a4 <- ggplot(df, aes(x,ny)) + \n",
    "geom_line() + \n",
    "geom_line(aes(x,d), color=\"#045a8d\", linetype=\"dashed\") + \n",
    "geom_ribbon(aes(ymin=d-sd, ymax=d+sd), alpha=0.09, fill=\"#045a8d\") + \n",
    "labs(title=\"Trend stationary (deterministic trend)\", x = \"\", y = \"\") +\n",
    "scale_y_continuous(limits=c(-5, 25), breaks=seq(-5, 25, 5))"
   ]
  },
  {
   "cell_type": "markdown",
   "metadata": {},
   "source": [
    "# Simulation of different data generating processes\n",
    "Random walk is a special case of a stocastic trend where the trend is 0. Also for difference stationary series shocks are permanent and they might wander far from the trend, these series contain a unit root."
   ]
  },
  {
   "cell_type": "code",
   "execution_count": 9,
   "metadata": {},
   "outputs": [
    {
     "data": {
      "image/png": "[encoded data removed]",
      "text/plain": [
       "plot without title"
      ]
     },
     "metadata": {},
     "output_type": "display_data"
    }
   ],
   "source": [
    "grid.arrange(a1,a2,a3,a4, ncol=2)"
   ]
  },
  {
   "cell_type": "code",
   "execution_count": null,
   "metadata": {},
   "outputs": [],
   "source": []
  },
  {
   "cell_type": "code",
   "execution_count": null,
   "metadata": {},
   "outputs": [],
   "source": []
  }
 ],
 "metadata": {
  "kernelspec": {
   "display_name": "R",
   "language": "R",
   "name": "ir"
  },
  "language_info": {
   "codemirror_mode": "r",
   "file_extension": ".r",
   "mimetype": "text/x-r-source",
   "name": "R",
   "pygments_lexer": "r",
   "version": "3.5.1"
  }
 },
 "nbformat": 4,
 "nbformat_minor": 2
}
