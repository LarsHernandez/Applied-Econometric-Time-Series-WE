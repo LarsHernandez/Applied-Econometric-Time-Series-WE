{
 "cells": [
  {
   "cell_type": "code",
   "execution_count": 28,
   "metadata": {},
   "outputs": [],
   "source": [
    "library(ggplot2) \n",
    "library(repr)\n",
    "library(gridExtra)\n",
    "\n",
    "options(repr.plot.width=6, repr.plot.height=2)"
   ]
  },
  {
   "cell_type": "markdown",
   "metadata": {},
   "source": [
    "# Non-imaginary roots (WS 1.1)\n",
    "$y_t = 0.2y_{t-1}+0.35y_{t-2}$"
   ]
  },
  {
   "cell_type": "code",
   "execution_count": 29,
   "metadata": {},
   "outputs": [
    {
     "data": {
      "text/html": [
       "1.44"
      ],
      "text/latex": [
       "1.44"
      ],
      "text/markdown": [
       "1.44"
      ],
      "text/plain": [
       "[1] 1.44"
      ]
     },
     "metadata": {},
     "output_type": "display_data"
    }
   ],
   "source": [
    "a1 <- 0.2\n",
    "a2 <- 0.35\n",
    "d <- a1^2 + 4*a2\n",
    "d"
   ]
  },
  {
   "cell_type": "code",
   "execution_count": 30,
   "metadata": {},
   "outputs": [
    {
     "data": {
      "text/html": [
       "0.7"
      ],
      "text/latex": [
       "0.7"
      ],
      "text/markdown": [
       "0.7"
      ],
      "text/plain": [
       "[1] 0.7"
      ]
     },
     "metadata": {},
     "output_type": "display_data"
    },
    {
     "data": {
      "text/html": [
       "-0.5"
      ],
      "text/latex": [
       "-0.5"
      ],
      "text/markdown": [
       "-0.5"
      ],
      "text/plain": [
       "[1] -0.5"
      ]
     },
     "metadata": {},
     "output_type": "display_data"
    }
   ],
   "source": [
    "0.5*(a1+d^0.5)\n",
    "0.5*(a1-d^0.5)"
   ]
  },
  {
   "cell_type": "markdown",
   "metadata": {},
   "source": [
    "Den homogene løsning er derfor:\n",
    "\n",
    "$A_1(0.7)^t + A_2(-0.5)^t$"
   ]
  },
  {
   "cell_type": "code",
   "execution_count": 40,
   "metadata": {},
   "outputs": [
    {
     "data": {
      "image/png": "[encoded data removed]",
      "text/plain": [
       "plot without title"
      ]
     },
     "metadata": {},
     "output_type": "display_data"
    }
   ],
   "source": [
    "vec <- 1:20\n",
    "res <- (0.7)^vec + (-0.5)^vec\n",
    "\n",
    "p <- ggplot() + \n",
    "    geom_line(aes(vec,res))\n",
    "print(p)"
   ]
  },
  {
   "cell_type": "markdown",
   "metadata": {},
   "source": [
    "Et ekstra eksempel (som ikke er stationært)"
   ]
  },
  {
   "cell_type": "code",
   "execution_count": 39,
   "metadata": {},
   "outputs": [
    {
     "data": {
      "image/png": "[encoded data removed]",
      "text/plain": [
       "plot without title"
      ]
     },
     "metadata": {},
     "output_type": "display_data"
    }
   ],
   "source": [
    "a1 <- 0.7\n",
    "a2 <- 0.35\n",
    "d <- a1^2 + 4*a2\n",
    "alfa1 <- 0.5*(a1+d^0.5)\n",
    "alfa2 <- 0.5*(a1-d^0.5)\n",
    "\n",
    "vec <- 1:20\n",
    "res <- (alfa1)^vec + (alfa2)^vec\n",
    "\n",
    "p <- ggplot() + \n",
    "    geom_line(aes(vec,res))\n",
    "print(p)"
   ]
  },
  {
   "cell_type": "markdown",
   "metadata": {},
   "source": [
    "# Imagninary roots (WS 1.2)\n",
    "$y_t = 1.6y_{t-1}-0.9y_{t-2}$"
   ]
  },
  {
   "cell_type": "code",
   "execution_count": 33,
   "metadata": {},
   "outputs": [
    {
     "data": {
      "text/html": [
       "-1.04"
      ],
      "text/latex": [
       "-1.04"
      ],
      "text/markdown": [
       "-1.04"
      ],
      "text/plain": [
       "[1] -1.04"
      ]
     },
     "metadata": {},
     "output_type": "display_data"
    }
   ],
   "source": [
    "a1 <- 1.6\n",
    "a2 <- -0.9\n",
    "\n",
    "d <- a1^2+4*a2\n",
    "d"
   ]
  },
  {
   "cell_type": "code",
   "execution_count": 34,
   "metadata": {},
   "outputs": [
    {
     "data": {
      "text/html": [
       "0.8+0.509901951359278i"
      ],
      "text/latex": [
       "0.8+0.509901951359278i"
      ],
      "text/markdown": [
       "0.8+0.509901951359278i"
      ],
      "text/plain": [
       "[1] 0.8+0.509902i"
      ]
     },
     "metadata": {},
     "output_type": "display_data"
    },
    {
     "data": {
      "text/html": [
       "0.8-0.509901951359278i"
      ],
      "text/latex": [
       "0.8-0.509901951359278i"
      ],
      "text/markdown": [
       "0.8-0.509901951359278i"
      ],
      "text/plain": [
       "[1] 0.8-0.509902i"
      ]
     },
     "metadata": {},
     "output_type": "display_data"
    }
   ],
   "source": [
    "0.5*(a1+as.complex(d)^0.5)\n",
    "0.5*(a1-as.complex(d)^0.5)"
   ]
  },
  {
   "cell_type": "code",
   "execution_count": 35,
   "metadata": {},
   "outputs": [
    {
     "data": {
      "text/html": [
       "0.948683298050514"
      ],
      "text/latex": [
       "0.948683298050514"
      ],
      "text/markdown": [
       "0.948683298050514"
      ],
      "text/plain": [
       "[1] 0.9486833"
      ]
     },
     "metadata": {},
     "output_type": "display_data"
    },
    {
     "data": {
      "text/html": [
       "0.948683298050514"
      ],
      "text/latex": [
       "0.948683298050514"
      ],
      "text/markdown": [
       "0.948683298050514"
      ],
      "text/plain": [
       "[1] 0.9486833"
      ]
     },
     "metadata": {},
     "output_type": "display_data"
    }
   ],
   "source": [
    "sqrt(0.8^2 + 0.509901951359278^2)\n",
    "sqrt(0.9)"
   ]
  },
  {
   "cell_type": "code",
   "execution_count": 36,
   "metadata": {},
   "outputs": [
    {
     "data": {
      "text/html": [
       "0.948683298050514"
      ],
      "text/latex": [
       "0.948683298050514"
      ],
      "text/markdown": [
       "0.948683298050514"
      ],
      "text/plain": [
       "[1] 0.9486833"
      ]
     },
     "metadata": {},
     "output_type": "display_data"
    }
   ],
   "source": [
    "r <- (-a2)^0.5\n",
    "r"
   ]
  },
  {
   "cell_type": "code",
   "execution_count": 37,
   "metadata": {},
   "outputs": [
    {
     "data": {
      "text/html": [
       "0.567450475278837"
      ],
      "text/latex": [
       "0.567450475278837"
      ],
      "text/markdown": [
       "0.567450475278837"
      ],
      "text/plain": [
       "[1] 0.5674505"
      ]
     },
     "metadata": {},
     "output_type": "display_data"
    }
   ],
   "source": [
    "theta <- acos(a1/(2*(-a2)^0.5))\n",
    "theta"
   ]
  },
  {
   "cell_type": "code",
   "execution_count": 38,
   "metadata": {},
   "outputs": [
    {
     "data": {
      "image/png": "[encoded data removed]",
      "text/plain": [
       "plot without title"
      ]
     },
     "metadata": {},
     "output_type": "display_data"
    }
   ],
   "source": [
    "vec <- 1:30\n",
    "res <- 1*(r)^vec*cos(theta*vec+0)\n",
    "\n",
    "p1 <- ggplot() + \n",
    "    geom_line(aes(vec,res))\n",
    "\n",
    "vec1 <- 1:30\n",
    "res1 <- 1*(0.949)^vec*cos(1.89*vec+0)\n",
    "\n",
    "p2 <- ggplot() + \n",
    "    geom_line(aes(vec1,res1))\n",
    "\n",
    "grid.arrange(p1,p2, nrow=1)"
   ]
  }
 ],
 "metadata": {
  "kernelspec": {
   "display_name": "R",
   "language": "R",
   "name": "ir"
  },
  "language_info": {
   "codemirror_mode": "r",
   "file_extension": ".r",
   "mimetype": "text/x-r-source",
   "name": "R",
   "pygments_lexer": "r",
   "version": "3.5.1"
  }
 },
 "nbformat": 4,
 "nbformat_minor": 2
}
