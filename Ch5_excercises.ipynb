{
 "cells": [
  {
   "cell_type": "code",
   "execution_count": 1,
   "metadata": {},
   "outputs": [
    {
     "name": "stderr",
     "output_type": "stream",
     "text": [
      "-- Attaching packages --------------------------------------- tidyverse 1.2.1 --\n",
      "v ggplot2 3.1.0     v purrr   0.2.5\n",
      "v tibble  1.4.2     v dplyr   0.7.7\n",
      "v tidyr   0.8.2     v stringr 1.3.1\n",
      "v readr   1.1.1     v forcats 0.3.0\n",
      "-- Conflicts ------------------------------------------ tidyverse_conflicts() --\n",
      "x dplyr::filter() masks stats::filter()\n",
      "x dplyr::lag()    masks stats::lag()\n",
      "\n",
      "Attaching package: 'gridExtra'\n",
      "\n",
      "The following object is masked from 'package:dplyr':\n",
      "\n",
      "    combine\n",
      "\n",
      "Loading required package: parallel\n",
      "\n",
      "Attaching package: 'rugarch'\n",
      "\n",
      "The following object is masked from 'package:purrr':\n",
      "\n",
      "    reduce\n",
      "\n",
      "The following object is masked from 'package:stats':\n",
      "\n",
      "    sigma\n",
      "\n",
      "Loading required package: zoo\n",
      "\n",
      "Attaching package: 'zoo'\n",
      "\n",
      "The following objects are masked from 'package:base':\n",
      "\n",
      "    as.Date, as.Date.numeric\n",
      "\n",
      "Loading required package: carData\n",
      "\n",
      "Attaching package: 'car'\n",
      "\n",
      "The following object is masked from 'package:dplyr':\n",
      "\n",
      "    recode\n",
      "\n",
      "The following object is masked from 'package:purrr':\n",
      "\n",
      "    some\n",
      "\n",
      "Loading required package: MASS\n",
      "\n",
      "Attaching package: 'MASS'\n",
      "\n",
      "The following object is masked from 'package:dplyr':\n",
      "\n",
      "    select\n",
      "\n",
      "Loading required package: strucchange\n",
      "Loading required package: sandwich\n",
      "\n",
      "Attaching package: 'strucchange'\n",
      "\n",
      "The following object is masked from 'package:stringr':\n",
      "\n",
      "    boundary\n",
      "\n",
      "Loading required package: lmtest\n"
     ]
    }
   ],
   "source": [
    "library(tidyverse) # readr, ggplot, dplyr, ...\n",
    "library(gridExtra) # Arrangning ggplots\n",
    "library(readxl)    # Loading excel\n",
    "library(repr)      # Resizing the plots in jupyter\n",
    "library(rugarch)   # For ARCH and GARCH models\n",
    "library(dynlm)     # Lagged linear models\n",
    "library(urca)      # Dick Fuller test\n",
    "library(car)       # Linear hyphothesis testing\n",
    "library(tseries)   # adf-test\n",
    "library(vars)      # VAR models\n",
    "library(zoo)       # Convert quarters to date\n",
    "library(forecast)  \n",
    "\n",
    "options(repr.plot.width=8, repr.plot.height=2)"
   ]
  },
  {
   "cell_type": "markdown",
   "metadata": {},
   "source": [
    "# 1. Different forms of intervention variables"
   ]
  },
  {
   "cell_type": "code",
   "execution_count": 138,
   "metadata": {},
   "outputs": [
    {
     "data": {
      "image/png": "[encoded data removed]",
      "text/plain": [
       "plot without title"
      ]
     },
     "metadata": {},
     "output_type": "display_data"
    }
   ],
   "source": [
    "pulse <- rep(0,50)\n",
    "pulse[1] <- 1\n",
    "\n",
    "jump <- c(rep(1,10),rep(0,40))\n",
    "\n",
    "impulse <- c(seq(1,0,-0.125),rep(0,41))\n",
    "\n",
    "extra <- pulse\n",
    "extra[2] <- -1\n",
    "\n",
    "par(mfrow=c(1,4))\n",
    "plot(pulse, type=\"l\"); plot(jump, type=\"l\"); plot(impulse, type=\"l\"); plot(extra, type=\"l\")"
   ]
  },
  {
   "cell_type": "code",
   "execution_count": 174,
   "metadata": {},
   "outputs": [
    {
     "data": {
      "image/png": "[encoded data removed]",
      "text/plain": [
       "plot without title"
      ]
     },
     "metadata": {},
     "output_type": "display_data"
    }
   ],
   "source": [
    "a <- c(0); b <- c(0); c <- c(0); d <- c(0)\n",
    "for (i in 2:50) {\n",
    "    a[i] <- 0.5*a[i-1] + pulse[i-1] + 0.1*rnorm(1)\n",
    "    b[i] <- 0.5*b[i-1] + jump[i-1] + 0.1*rnorm(1)\n",
    "    c[i] <- 0.5*c[i-1] + impulse[i-1] + 0.1*rnorm(1)\n",
    "    d[i] <- 0.5*d[i-1] + extra[i-1] + 0.1*rnorm(1)\n",
    "}\n",
    "par(mfrow=c(1,4))\n",
    "plot(a, type=\"l\"); plot(b, type=\"l\"); plot(c, type=\"l\"); plot(d, type=\"l\")"
   ]
  },
  {
   "cell_type": "code",
   "execution_count": 178,
   "metadata": {},
   "outputs": [
    {
     "data": {
      "image/png": "[encoded data removed]",
      "text/plain": [
       "plot without title"
      ]
     },
     "metadata": {},
     "output_type": "display_data"
    }
   ],
   "source": [
    "a <- c(0); b <- c(0); c <- c(0); d <- c(0)\n",
    "for (i in 2:50) {\n",
    "    a[i] <- -0.5*a[i-1] + pulse[i-1] + 0.1*rnorm(1)\n",
    "    b[i] <- -0.5*b[i-1] + jump[i-1] + 0.1*rnorm(1)\n",
    "    c[i] <- -0.5*c[i-1] + impulse[i-1] + 0.1*rnorm(1)\n",
    "    d[i] <- -0.5*d[i-1] + extra[i-1] + 0.1*rnorm(1)\n",
    "}\n",
    "par(mfrow=c(1,4))\n",
    "plot(a, type=\"l\"); plot(b, type=\"l\"); plot(c, type=\"l\"); plot(d, type=\"l\")"
   ]
  },
  {
   "cell_type": "code",
   "execution_count": 181,
   "metadata": {},
   "outputs": [
    {
     "data": {
      "image/png": "[encoded data removed]",
      "text/plain": [
       "plot without title"
      ]
     },
     "metadata": {},
     "output_type": "display_data"
    }
   ],
   "source": [
    "a <- c(0,0); b <- c(0,0); c <- c(0,0); d <- c(0,0)\n",
    "for (i in 3:50) {\n",
    "    a[i] <- 1.25*a[i-1] -0.5*a[i-2] + pulse[i-2] + 0.1*rnorm(1)\n",
    "    b[i] <- 1.25*b[i-1] -0.5*b[i-2] + jump[i-2] + 0.1*rnorm(1)\n",
    "    c[i] <- 1.25*c[i-1] -0.5*c[i-2] + impulse[i-2] + 0.1*rnorm(1)\n",
    "    d[i] <- 1.25*d[i-1] -0.5*d[i-2] + extra[i-2] + 0.1*rnorm(1)\n",
    "}\n",
    "par(mfrow=c(1,4))\n",
    "plot(a, type=\"l\"); plot(b, type=\"l\"); plot(c, type=\"l\"); plot(d, type=\"l\")"
   ]
  },
  {
   "cell_type": "code",
   "execution_count": 145,
   "metadata": {},
   "outputs": [
    {
     "data": {
      "image/png": "[encoded data removed]",
      "text/plain": [
       "plot without title"
      ]
     },
     "metadata": {},
     "output_type": "display_data"
    }
   ],
   "source": [
    "a <- c(0); b <- c(0); c <- c(0); d <- c(0)\n",
    "for (i in 2:50) {\n",
    "    a[i] <- a[i-1] + pulse[i-1] + 0.1*rnorm(1)\n",
    "    b[i] <- b[i-1] + jump[i-1] + 0.1*rnorm(1)\n",
    "    c[i] <- c[i-1] + impulse[i-1] + 0.1*rnorm(1)\n",
    "    d[i] <- d[i-1] + extra[i-1] + 0.1*rnorm(1)\n",
    "}\n",
    "par(mfrow=c(1,4))\n",
    "plot(a, type=\"l\"); plot(b, type=\"l\"); plot(c, type=\"l\"); plot(d, type=\"l\")"
   ]
  },
  {
   "cell_type": "code",
   "execution_count": 157,
   "metadata": {},
   "outputs": [
    {
     "data": {
      "image/png": "[encoded data removed]",
      "text/plain": [
       "plot without title"
      ]
     },
     "metadata": {},
     "output_type": "display_data"
    }
   ],
   "source": [
    "a <- c(0,0); b <- c(0,0); c <- c(0,0); d <- c(0,0)\n",
    "for (i in 3:50) {\n",
    "    a[i] <- 0.75*a[i-1] + 0.25*a[i-2] + pulse[i-2] + 0.1*rnorm(1)\n",
    "    b[i] <- 0.75*b[i-1] + 0.25*b[i-2] + jump[i-2] + 0.1*rnorm(1)\n",
    "    c[i] <- 0.75*c[i-1] + 0.25*c[i-2] + impulse[i-2] + 0.1*rnorm(1)\n",
    "    d[i] <- 0.75*d[i-1] + 0.25*d[i-2] + extra[i-2] + 0.1*rnorm(1)\n",
    "}\n",
    "par(mfrow=c(1,4))\n",
    "plot(a, type=\"l\"); plot(b, type=\"l\"); plot(c, type=\"l\"); plot(d, type=\"l\")"
   ]
  },
  {
   "cell_type": "markdown",
   "metadata": {},
   "source": [
    "# 6. Impulse Response function\n",
    "\n",
    "$$\n",
    "\\begin{bmatrix} y_t \\\\ z_t \\end{bmatrix}\n",
    "=\n",
    "\\begin{bmatrix} 0.8 & 0.2 \\\\ 0.2 & 0.8 \\end{bmatrix}\n",
    "\\cdot\n",
    "\\begin{bmatrix} y_{t-1} \\\\ z_{t-1} \\end{bmatrix}\n",
    "+\n",
    "\\begin{bmatrix} e_{1t} \\\\ e_{2t} \\end{bmatrix}\n",
    "$$"
   ]
  },
  {
   "cell_type": "markdown",
   "metadata": {},
   "source": [
    "A: Is it stationary?"
   ]
  },
  {
   "cell_type": "code",
   "execution_count": 278,
   "metadata": {},
   "outputs": [
    {
     "name": "stdout",
     "output_type": "stream",
     "text": [
      "[1] 0.9 0.5\n"
     ]
    }
   ],
   "source": [
    "ma <- matrix(c(0.7, 0.2,\n",
    "               0.2, 0.7), nrow=2, byrow=T)\n",
    "print(Mod(eigen(ma)$values))"
   ]
  },
  {
   "cell_type": "markdown",
   "metadata": {},
   "source": [
    "B: Shape of impulse response function\n",
    "\n",
    "I simulate 3 different models, one base with no simultaneous effects, and two with different choleski decomposition ordering, this makes different results for the irf function"
   ]
  },
  {
   "cell_type": "code",
   "execution_count": 5,
   "metadata": {},
   "outputs": [],
   "source": [
    "yt <- c(0)\n",
    "zt <- c(0)\n",
    "nsim <- 2000\n",
    "\n",
    "for (i in 2:nsim) {\n",
    "    ey <- rnorm(1) \n",
    "    ez <- rnorm(1)\n",
    "    yt[i] <- 0.7*yt[i-1] + 0.2*zt[i-1] + ey\n",
    "    zt[i] <- 0.7*zt[i-1] + 0.2*yt[i-1] + ez\n",
    "}\n",
    "\n",
    "base1 <- irf(VAR(cbind(zt, yt), p = 1, type = \"const\"), n.ahead=50)$irf$zt[,2]\n",
    "base2 <- irf(VAR(cbind(zt, yt), p = 1, type = \"const\"), n.ahead=50)$irf$yt[,1]\n",
    "\n",
    "for (i in 2:nsim) {\n",
    "    ey <- rnorm(1) \n",
    "    ez <- rnorm(1)\n",
    "    yt[i] <- 0.7*yt[i-1] + 0.2*zt[i-1] + ey + 0.8*ez\n",
    "    zt[i] <- 0.7*zt[i-1] + 0.2*yt[i-1] + ez\n",
    "}\n",
    "\n",
    "first1 <- irf(VAR(cbind(zt, yt), p = 1, type = \"const\"), n.ahead=50)$irf$zt[,2]\n",
    "first2 <- irf(VAR(cbind(zt, yt), p = 1, type = \"const\"), n.ahead=50)$irf$yt[,1]\n",
    "\n",
    "for (i in 2:nsim) {\n",
    "    ey <- rnorm(1) \n",
    "    ez <- rnorm(1)\n",
    "    yt[i] <- 0.7*yt[i-1] + 0.2*zt[i-1] + ey\n",
    "    zt[i] <- 0.7*zt[i-1] + 0.2*yt[i-1] + ez + 0.8*ey\n",
    "}\n",
    "\n",
    "second1 <- irf(VAR(cbind(zt, yt), p = 1, type = \"const\"), n.ahead=50)$irf$zt[,2]\n",
    "second2 <- irf(VAR(cbind(zt, yt), p = 1, type = \"const\"), n.ahead=50)$irf$yt[,1]"
   ]
  },
  {
   "cell_type": "code",
   "execution_count": 6,
   "metadata": {},
   "outputs": [
    {
     "data": {},
     "metadata": {},
     "output_type": "display_data"
    },
    {
     "data": {
      "image/png": "[encoded data removed]",
      "text/plain": [
       "plot without title"
      ]
     },
     "metadata": {},
     "output_type": "display_data"
    }
   ],
   "source": [
    "a <- as.data.frame(cbind(base1, first1, second1))\n",
    "a$n <- c(1:51)\n",
    "a <- gather(a, variable, value, -n)\n",
    "a$type <- \"Shock in Zt\"\n",
    "\n",
    "b <- as.data.frame(cbind(base2, first2, second2))\n",
    "b$n <- c(1:51)\n",
    "b <- gather(b, variable, value, -n)\n",
    "b$type <- \"Shock in Yt\"\n",
    "df <- rbind(a,b)\n",
    "\n",
    "df$variable = substr(df$variable,1,nchar(df$variable)-1)\n",
    "\n",
    "ggplot(df, aes(n, value, linetype=variable)) + \n",
    "geom_line() + \n",
    "facet_wrap(~type)"
   ]
  },
  {
   "cell_type": "code",
   "execution_count": null,
   "metadata": {},
   "outputs": [],
   "source": []
  },
  {
   "cell_type": "code",
   "execution_count": null,
   "metadata": {},
   "outputs": [],
   "source": []
  },
  {
   "cell_type": "code",
   "execution_count": null,
   "metadata": {},
   "outputs": [],
   "source": []
  },
  {
   "cell_type": "code",
   "execution_count": null,
   "metadata": {},
   "outputs": [],
   "source": []
  },
  {
   "cell_type": "code",
   "execution_count": null,
   "metadata": {},
   "outputs": [],
   "source": []
  },
  {
   "cell_type": "code",
   "execution_count": null,
   "metadata": {},
   "outputs": [],
   "source": []
  }
 ],
 "metadata": {
  "kernelspec": {
   "display_name": "R",
   "language": "R",
   "name": "ir"
  },
  "language_info": {
   "codemirror_mode": "r",
   "file_extension": ".r",
   "mimetype": "text/x-r-source",
   "name": "R",
   "pygments_lexer": "r",
   "version": "3.5.1"
  }
 },
 "nbformat": 4,
 "nbformat_minor": 2
}
